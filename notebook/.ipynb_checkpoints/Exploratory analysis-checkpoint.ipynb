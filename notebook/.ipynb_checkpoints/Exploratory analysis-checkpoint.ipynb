{
 "cells": [
  {
   "cell_type": "code",
   "execution_count": 216,
   "id": "b3e6dcff",
   "metadata": {},
   "outputs": [],
   "source": [
    "# Import des librairies\n",
    "import numpy as np\n",
    "import pandas as pd\n",
    "import matplotlib.pyplot as plt\n",
    "import seaborn as sns"
   ]
  },
  {
   "cell_type": "code",
   "execution_count": 217,
   "id": "d8000f0f",
   "metadata": {},
   "outputs": [
    {
     "data": {
      "text/plain": [
       "'/home/ping/code/public-health/stackoverflow/notebook'"
      ]
     },
     "execution_count": 217,
     "metadata": {},
     "output_type": "execute_result"
    }
   ],
   "source": [
    "import os\n",
    "os.getcwd()"
   ]
  },
  {
   "cell_type": "code",
   "execution_count": 218,
   "id": "befda451",
   "metadata": {},
   "outputs": [],
   "source": [
    "csv_path = '/home/ping/code/public-health/stackoverflow/data'"
   ]
  },
  {
   "cell_type": "code",
   "execution_count": 219,
   "id": "8e6f95eb",
   "metadata": {},
   "outputs": [],
   "source": [
    "data = pd.read_csv(os.path.join(csv_path,'QueryResults.csv'))"
   ]
  },
  {
   "cell_type": "code",
   "execution_count": 220,
   "id": "c9ce9fb0",
   "metadata": {},
   "outputs": [
    {
     "data": {
      "text/html": [
       "<div>\n",
       "<style scoped>\n",
       "    .dataframe tbody tr th:only-of-type {\n",
       "        vertical-align: middle;\n",
       "    }\n",
       "\n",
       "    .dataframe tbody tr th {\n",
       "        vertical-align: top;\n",
       "    }\n",
       "\n",
       "    .dataframe thead th {\n",
       "        text-align: right;\n",
       "    }\n",
       "</style>\n",
       "<table border=\"1\" class=\"dataframe\">\n",
       "  <thead>\n",
       "    <tr style=\"text-align: right;\">\n",
       "      <th></th>\n",
       "      <th>Title</th>\n",
       "      <th>Body</th>\n",
       "      <th>Tags</th>\n",
       "      <th>Id</th>\n",
       "      <th>Score</th>\n",
       "      <th>ViewCount</th>\n",
       "      <th>FavoriteCount</th>\n",
       "      <th>AnswerCount</th>\n",
       "    </tr>\n",
       "  </thead>\n",
       "  <tbody>\n",
       "    <tr>\n",
       "      <th>0</th>\n",
       "      <td>Import CSV file to strongly typed data structu...</td>\n",
       "      <td>&lt;p&gt;What's the best way to import a CSV file in...</td>\n",
       "      <td>&lt;c#&gt;&lt;vb.net&gt;&lt;file&gt;&lt;csv&gt;&lt;import&gt;</td>\n",
       "      <td>1898</td>\n",
       "      <td>109</td>\n",
       "      <td>69257</td>\n",
       "      <td>28</td>\n",
       "      <td>11</td>\n",
       "    </tr>\n",
       "    <tr>\n",
       "      <th>1</th>\n",
       "      <td>Change hash without reload in jQuery</td>\n",
       "      <td>&lt;p&gt;I have the following code:&lt;/p&gt;\\n\\n&lt;pre&gt;&lt;cod...</td>\n",
       "      <td>&lt;jquery&gt;&lt;hash&gt;&lt;reload&gt;&lt;fragment-identifier&gt;&lt;wi...</td>\n",
       "      <td>1939041</td>\n",
       "      <td>56</td>\n",
       "      <td>113780</td>\n",
       "      <td>14</td>\n",
       "      <td>5</td>\n",
       "    </tr>\n",
       "    <tr>\n",
       "      <th>2</th>\n",
       "      <td>Pass by reference or pass by value?</td>\n",
       "      <td>&lt;p&gt;When learning a new programming language, o...</td>\n",
       "      <td>&lt;language-agnostic&gt;&lt;oop&gt;&lt;parameters&gt;&lt;pass-by-r...</td>\n",
       "      <td>2027</td>\n",
       "      <td>52</td>\n",
       "      <td>18382</td>\n",
       "      <td>19</td>\n",
       "      <td>11</td>\n",
       "    </tr>\n",
       "    <tr>\n",
       "      <th>3</th>\n",
       "      <td>What are MVP and MVC and what is the difference?</td>\n",
       "      <td>&lt;p&gt;When looking beyond the &lt;a href=\"https://en...</td>\n",
       "      <td>&lt;user-interface&gt;&lt;model-view-controller&gt;&lt;design...</td>\n",
       "      <td>2056</td>\n",
       "      <td>2319</td>\n",
       "      <td>550884</td>\n",
       "      <td>1357</td>\n",
       "      <td>24</td>\n",
       "    </tr>\n",
       "    <tr>\n",
       "      <th>4</th>\n",
       "      <td>LINQ on the .NET 2.0 Runtime</td>\n",
       "      <td>&lt;p&gt;Can a LINQ enabled app run on a machine tha...</td>\n",
       "      <td>&lt;.net&gt;&lt;linq&gt;&lt;.net-3.5&gt;&lt;.net-2.0&gt;&lt;clr&gt;</td>\n",
       "      <td>2138</td>\n",
       "      <td>61</td>\n",
       "      <td>56573</td>\n",
       "      <td>13</td>\n",
       "      <td>8</td>\n",
       "    </tr>\n",
       "  </tbody>\n",
       "</table>\n",
       "</div>"
      ],
      "text/plain": [
       "                                               Title  \\\n",
       "0  Import CSV file to strongly typed data structu...   \n",
       "1               Change hash without reload in jQuery   \n",
       "2                Pass by reference or pass by value?   \n",
       "3   What are MVP and MVC and what is the difference?   \n",
       "4                       LINQ on the .NET 2.0 Runtime   \n",
       "\n",
       "                                                Body  \\\n",
       "0  <p>What's the best way to import a CSV file in...   \n",
       "1  <p>I have the following code:</p>\\n\\n<pre><cod...   \n",
       "2  <p>When learning a new programming language, o...   \n",
       "3  <p>When looking beyond the <a href=\"https://en...   \n",
       "4  <p>Can a LINQ enabled app run on a machine tha...   \n",
       "\n",
       "                                                Tags       Id  Score  \\\n",
       "0                    <c#><vb.net><file><csv><import>     1898    109   \n",
       "1  <jquery><hash><reload><fragment-identifier><wi...  1939041     56   \n",
       "2  <language-agnostic><oop><parameters><pass-by-r...     2027     52   \n",
       "3  <user-interface><model-view-controller><design...     2056   2319   \n",
       "4              <.net><linq><.net-3.5><.net-2.0><clr>     2138     61   \n",
       "\n",
       "   ViewCount  FavoriteCount  AnswerCount  \n",
       "0      69257             28           11  \n",
       "1     113780             14            5  \n",
       "2      18382             19           11  \n",
       "3     550884           1357           24  \n",
       "4      56573             13            8  "
      ]
     },
     "execution_count": 220,
     "metadata": {},
     "output_type": "execute_result"
    }
   ],
   "source": [
    "data.head()"
   ]
  },
  {
   "cell_type": "code",
   "execution_count": 221,
   "id": "8893bbf5",
   "metadata": {},
   "outputs": [
    {
     "data": {
      "text/plain": [
       "(27933, 8)"
      ]
     },
     "execution_count": 221,
     "metadata": {},
     "output_type": "execute_result"
    }
   ],
   "source": [
    "data.shape"
   ]
  },
  {
   "cell_type": "code",
   "execution_count": 222,
   "id": "630a41e3",
   "metadata": {},
   "outputs": [
    {
     "data": {
      "text/html": [
       "<div>\n",
       "<style scoped>\n",
       "    .dataframe tbody tr th:only-of-type {\n",
       "        vertical-align: middle;\n",
       "    }\n",
       "\n",
       "    .dataframe tbody tr th {\n",
       "        vertical-align: top;\n",
       "    }\n",
       "\n",
       "    .dataframe thead th {\n",
       "        text-align: right;\n",
       "    }\n",
       "</style>\n",
       "<table border=\"1\" class=\"dataframe\">\n",
       "  <thead>\n",
       "    <tr style=\"text-align: right;\">\n",
       "      <th></th>\n",
       "      <th>Title</th>\n",
       "      <th>Body</th>\n",
       "      <th>Tags</th>\n",
       "      <th>Id</th>\n",
       "      <th>Score</th>\n",
       "      <th>ViewCount</th>\n",
       "      <th>FavoriteCount</th>\n",
       "      <th>AnswerCount</th>\n",
       "    </tr>\n",
       "  </thead>\n",
       "  <tbody>\n",
       "    <tr>\n",
       "      <th>18031</th>\n",
       "      <td>Using Tint color on UIImageView</td>\n",
       "      <td>&lt;p&gt;I have my own subclass of &lt;code&gt;UIButton&lt;/c...</td>\n",
       "      <td>&lt;ios&gt;&lt;xcode&gt;&lt;uiimageview&gt;&lt;uibutton&gt;&lt;tintcolor&gt;</td>\n",
       "      <td>22170688</td>\n",
       "      <td>130</td>\n",
       "      <td>86288</td>\n",
       "      <td>25</td>\n",
       "      <td>9</td>\n",
       "    </tr>\n",
       "    <tr>\n",
       "      <th>20812</th>\n",
       "      <td>JavaScript sleep/wait before continuing</td>\n",
       "      <td>&lt;p&gt;I have a JavaScript code that I need to add...</td>\n",
       "      <td>&lt;javascript&gt;&lt;jquery&gt;&lt;delay&gt;&lt;sleep&gt;&lt;wait&gt;</td>\n",
       "      <td>16873323</td>\n",
       "      <td>373</td>\n",
       "      <td>1362157</td>\n",
       "      <td>71</td>\n",
       "      <td>1</td>\n",
       "    </tr>\n",
       "    <tr>\n",
       "      <th>8405</th>\n",
       "      <td>Compiling without libc</td>\n",
       "      <td>&lt;p&gt;I want to compile my C-code without the (g)...</td>\n",
       "      <td>&lt;c&gt;&lt;gcc&gt;&lt;glibc&gt;&lt;demo&gt;&lt;libc&gt;</td>\n",
       "      <td>2548486</td>\n",
       "      <td>75</td>\n",
       "      <td>50769</td>\n",
       "      <td>42</td>\n",
       "      <td>2</td>\n",
       "    </tr>\n",
       "    <tr>\n",
       "      <th>19626</th>\n",
       "      <td>Backup core data locally, and restore from bac...</td>\n",
       "      <td>&lt;p&gt;I'm struggling to find any information abou...</td>\n",
       "      <td>&lt;ios&gt;&lt;swift&gt;&lt;core-data&gt;&lt;backup&gt;&lt;restore&gt;</td>\n",
       "      <td>48613271</td>\n",
       "      <td>16</td>\n",
       "      <td>7993</td>\n",
       "      <td>25</td>\n",
       "      <td>4</td>\n",
       "    </tr>\n",
       "    <tr>\n",
       "      <th>19254</th>\n",
       "      <td>Redirect console output to string in Java</td>\n",
       "      <td>&lt;p&gt;I have one method whose &lt;strong&gt;return type...</td>\n",
       "      <td>&lt;java&gt;&lt;string&gt;&lt;redirect&gt;&lt;console&gt;&lt;stdout&gt;</td>\n",
       "      <td>8708342</td>\n",
       "      <td>81</td>\n",
       "      <td>117042</td>\n",
       "      <td>38</td>\n",
       "      <td>4</td>\n",
       "    </tr>\n",
       "    <tr>\n",
       "      <th>2275</th>\n",
       "      <td>Can you use a string to instantiate a class?</td>\n",
       "      <td>&lt;p&gt;I'm using a &lt;strong&gt;Builder&lt;/strong&gt; patter...</td>\n",
       "      <td>&lt;python&gt;&lt;design-patterns&gt;&lt;reflection&gt;&lt;builder&gt;...</td>\n",
       "      <td>553784</td>\n",
       "      <td>52</td>\n",
       "      <td>89023</td>\n",
       "      <td>24</td>\n",
       "      <td>6</td>\n",
       "    </tr>\n",
       "    <tr>\n",
       "      <th>8794</th>\n",
       "      <td>LEFT JOIN Django ORM</td>\n",
       "      <td>&lt;p&gt;I have the following models:&lt;/p&gt;\\n&lt;pre&gt;&lt;cod...</td>\n",
       "      <td>&lt;python&gt;&lt;sql&gt;&lt;django&gt;&lt;django-models&gt;&lt;django-orm&gt;</td>\n",
       "      <td>21271835</td>\n",
       "      <td>45</td>\n",
       "      <td>80576</td>\n",
       "      <td>18</td>\n",
       "      <td>4</td>\n",
       "    </tr>\n",
       "    <tr>\n",
       "      <th>24354</th>\n",
       "      <td>Using Django Rest Framework, how can I upload ...</td>\n",
       "      <td>&lt;p&gt;I am trying to write a Django Rest Framewor...</td>\n",
       "      <td>&lt;json&gt;&lt;django&gt;&lt;rest&gt;&lt;django-rest-framework&gt;&lt;mu...</td>\n",
       "      <td>30176570</td>\n",
       "      <td>48</td>\n",
       "      <td>48664</td>\n",
       "      <td>21</td>\n",
       "      <td>8</td>\n",
       "    </tr>\n",
       "    <tr>\n",
       "      <th>3181</th>\n",
       "      <td>How to reset password with UserManager of ASP....</td>\n",
       "      <td>&lt;p&gt;I am wondering if there is  a way to reset ...</td>\n",
       "      <td>&lt;c#&gt;&lt;passwords&gt;&lt;asp.net-mvc-5&gt;&lt;reset-password&gt;...</td>\n",
       "      <td>22516818</td>\n",
       "      <td>45</td>\n",
       "      <td>77078</td>\n",
       "      <td>16</td>\n",
       "      <td>7</td>\n",
       "    </tr>\n",
       "    <tr>\n",
       "      <th>19027</th>\n",
       "      <td>How do I use np.newaxis?</td>\n",
       "      <td>&lt;p&gt;What is &lt;a href=\"https://numpy.org/doc/stab...</td>\n",
       "      <td>&lt;python&gt;&lt;numpy&gt;&lt;multidimensional-array&gt;&lt;array-...</td>\n",
       "      <td>29241056</td>\n",
       "      <td>333</td>\n",
       "      <td>349731</td>\n",
       "      <td>231</td>\n",
       "      <td>4</td>\n",
       "    </tr>\n",
       "    <tr>\n",
       "      <th>21635</th>\n",
       "      <td>SSRS 2008 R2 - SSRS 2012 - ReportViewer: Repor...</td>\n",
       "      <td>&lt;p&gt;I migrated our reporting services from vers...</td>\n",
       "      <td>&lt;reporting-services&gt;&lt;ssrs-2008&gt;&lt;reportviewer&gt;&lt;...</td>\n",
       "      <td>5968082</td>\n",
       "      <td>85</td>\n",
       "      <td>112925</td>\n",
       "      <td>43</td>\n",
       "      <td>10</td>\n",
       "    </tr>\n",
       "    <tr>\n",
       "      <th>4999</th>\n",
       "      <td>Installing Nokogiri on OSX 10.10 Yosemite</td>\n",
       "      <td>&lt;p&gt;I recently upgrade to the 10.10 Yosemite be...</td>\n",
       "      <td>&lt;ruby&gt;&lt;gem&gt;&lt;bundler&gt;&lt;nokogiri&gt;&lt;homebrew&gt;</td>\n",
       "      <td>24091869</td>\n",
       "      <td>54</td>\n",
       "      <td>31113</td>\n",
       "      <td>31</td>\n",
       "      <td>22</td>\n",
       "    </tr>\n",
       "    <tr>\n",
       "      <th>18703</th>\n",
       "      <td>How to get a reversed list view on a list in J...</td>\n",
       "      <td>&lt;p&gt;I want to have a reversed list view on a li...</td>\n",
       "      <td>&lt;java&gt;&lt;list&gt;&lt;collections&gt;&lt;iterator&gt;&lt;reverse&gt;</td>\n",
       "      <td>3962766</td>\n",
       "      <td>239</td>\n",
       "      <td>300121</td>\n",
       "      <td>29</td>\n",
       "      <td>11</td>\n",
       "    </tr>\n",
       "    <tr>\n",
       "      <th>23710</th>\n",
       "      <td>How to inject a Map using the @Value Spring An...</td>\n",
       "      <td>&lt;p&gt;How can I inject values into a Map from the...</td>\n",
       "      <td>&lt;java&gt;&lt;spring&gt;&lt;dependency-injection&gt;&lt;annotatio...</td>\n",
       "      <td>30691949</td>\n",
       "      <td>94</td>\n",
       "      <td>155242</td>\n",
       "      <td>19</td>\n",
       "      <td>8</td>\n",
       "    </tr>\n",
       "    <tr>\n",
       "      <th>17021</th>\n",
       "      <td>Can Boost ASIO be used to build low-latency ap...</td>\n",
       "      <td>&lt;p&gt;Can Boost ASIO be used to build low-latency...</td>\n",
       "      <td>&lt;c++&gt;&lt;boost&gt;&lt;server&gt;&lt;boost-asio&gt;&lt;low-latency&gt;</td>\n",
       "      <td>44446984</td>\n",
       "      <td>22</td>\n",
       "      <td>5459</td>\n",
       "      <td>19</td>\n",
       "      <td>2</td>\n",
       "    </tr>\n",
       "    <tr>\n",
       "      <th>11245</th>\n",
       "      <td>Why am I having to manually set my view's fram...</td>\n",
       "      <td>&lt;p&gt;I have a pretty basic setup with a UINaviga...</td>\n",
       "      <td>&lt;iphone&gt;&lt;ipad&gt;&lt;uiview&gt;&lt;frame&gt;&lt;viewdidload&gt;</td>\n",
       "      <td>6757018</td>\n",
       "      <td>32</td>\n",
       "      <td>19331</td>\n",
       "      <td>34</td>\n",
       "      <td>2</td>\n",
       "    </tr>\n",
       "    <tr>\n",
       "      <th>1655</th>\n",
       "      <td>shared_ptr and weak_ptr differences</td>\n",
       "      <td>&lt;p&gt;I am reading Scott Meyers \"Effective C++\" b...</td>\n",
       "      <td>&lt;c++&gt;&lt;c++11&gt;&lt;shared-ptr&gt;&lt;weak-ptr&gt;&lt;cyclic-refe...</td>\n",
       "      <td>4984381</td>\n",
       "      <td>85</td>\n",
       "      <td>63969</td>\n",
       "      <td>52</td>\n",
       "      <td>5</td>\n",
       "    </tr>\n",
       "    <tr>\n",
       "      <th>2595</th>\n",
       "      <td>Websockets in Flask</td>\n",
       "      <td>&lt;p&gt;I'm currently researching websocket support...</td>\n",
       "      <td>&lt;python&gt;&lt;websocket&gt;&lt;flask&gt;&lt;uwsgi&gt;&lt;gevent&gt;</td>\n",
       "      <td>23111654</td>\n",
       "      <td>65</td>\n",
       "      <td>51333</td>\n",
       "      <td>24</td>\n",
       "      <td>1</td>\n",
       "    </tr>\n",
       "    <tr>\n",
       "      <th>4047</th>\n",
       "      <td>NSURLSession concurrent requests with Alamofire</td>\n",
       "      <td>&lt;p&gt;I'm experiencing some strange behaviour wit...</td>\n",
       "      <td>&lt;swift&gt;&lt;concurrency&gt;&lt;nsurlsession&gt;&lt;alamofire&gt;&lt;...</td>\n",
       "      <td>27021896</td>\n",
       "      <td>72</td>\n",
       "      <td>19583</td>\n",
       "      <td>57</td>\n",
       "      <td>1</td>\n",
       "    </tr>\n",
       "    <tr>\n",
       "      <th>10340</th>\n",
       "      <td>Load Nib for UIView used in ViewController in ...</td>\n",
       "      <td>&lt;p&gt;I have a UIView that I want to use in sever...</td>\n",
       "      <td>&lt;uiview&gt;&lt;uiviewcontroller&gt;&lt;uistoryboard&gt;&lt;nib&gt;&lt;...</td>\n",
       "      <td>21131122</td>\n",
       "      <td>20</td>\n",
       "      <td>13096</td>\n",
       "      <td>11</td>\n",
       "      <td>3</td>\n",
       "    </tr>\n",
       "  </tbody>\n",
       "</table>\n",
       "</div>"
      ],
      "text/plain": [
       "                                                   Title  \\\n",
       "18031                    Using Tint color on UIImageView   \n",
       "20812            JavaScript sleep/wait before continuing   \n",
       "8405                              Compiling without libc   \n",
       "19626  Backup core data locally, and restore from bac...   \n",
       "19254          Redirect console output to string in Java   \n",
       "2275        Can you use a string to instantiate a class?   \n",
       "8794                                LEFT JOIN Django ORM   \n",
       "24354  Using Django Rest Framework, how can I upload ...   \n",
       "3181   How to reset password with UserManager of ASP....   \n",
       "19027                           How do I use np.newaxis?   \n",
       "21635  SSRS 2008 R2 - SSRS 2012 - ReportViewer: Repor...   \n",
       "4999           Installing Nokogiri on OSX 10.10 Yosemite   \n",
       "18703  How to get a reversed list view on a list in J...   \n",
       "23710  How to inject a Map using the @Value Spring An...   \n",
       "17021  Can Boost ASIO be used to build low-latency ap...   \n",
       "11245  Why am I having to manually set my view's fram...   \n",
       "1655                 shared_ptr and weak_ptr differences   \n",
       "2595                                 Websockets in Flask   \n",
       "4047     NSURLSession concurrent requests with Alamofire   \n",
       "10340  Load Nib for UIView used in ViewController in ...   \n",
       "\n",
       "                                                    Body  \\\n",
       "18031  <p>I have my own subclass of <code>UIButton</c...   \n",
       "20812  <p>I have a JavaScript code that I need to add...   \n",
       "8405   <p>I want to compile my C-code without the (g)...   \n",
       "19626  <p>I'm struggling to find any information abou...   \n",
       "19254  <p>I have one method whose <strong>return type...   \n",
       "2275   <p>I'm using a <strong>Builder</strong> patter...   \n",
       "8794   <p>I have the following models:</p>\\n<pre><cod...   \n",
       "24354  <p>I am trying to write a Django Rest Framewor...   \n",
       "3181   <p>I am wondering if there is  a way to reset ...   \n",
       "19027  <p>What is <a href=\"https://numpy.org/doc/stab...   \n",
       "21635  <p>I migrated our reporting services from vers...   \n",
       "4999   <p>I recently upgrade to the 10.10 Yosemite be...   \n",
       "18703  <p>I want to have a reversed list view on a li...   \n",
       "23710  <p>How can I inject values into a Map from the...   \n",
       "17021  <p>Can Boost ASIO be used to build low-latency...   \n",
       "11245  <p>I have a pretty basic setup with a UINaviga...   \n",
       "1655   <p>I am reading Scott Meyers \"Effective C++\" b...   \n",
       "2595   <p>I'm currently researching websocket support...   \n",
       "4047   <p>I'm experiencing some strange behaviour wit...   \n",
       "10340  <p>I have a UIView that I want to use in sever...   \n",
       "\n",
       "                                                    Tags        Id  Score  \\\n",
       "18031     <ios><xcode><uiimageview><uibutton><tintcolor>  22170688    130   \n",
       "20812           <javascript><jquery><delay><sleep><wait>  16873323    373   \n",
       "8405                         <c><gcc><glibc><demo><libc>   2548486     75   \n",
       "19626           <ios><swift><core-data><backup><restore>  48613271     16   \n",
       "19254          <java><string><redirect><console><stdout>   8708342     81   \n",
       "2275   <python><design-patterns><reflection><builder>...    553784     52   \n",
       "8794    <python><sql><django><django-models><django-orm>  21271835     45   \n",
       "24354  <json><django><rest><django-rest-framework><mu...  30176570     48   \n",
       "3181   <c#><passwords><asp.net-mvc-5><reset-password>...  22516818     45   \n",
       "19027  <python><numpy><multidimensional-array><array-...  29241056    333   \n",
       "21635  <reporting-services><ssrs-2008><reportviewer><...   5968082     85   \n",
       "4999            <ruby><gem><bundler><nokogiri><homebrew>  24091869     54   \n",
       "18703       <java><list><collections><iterator><reverse>   3962766    239   \n",
       "23710  <java><spring><dependency-injection><annotatio...  30691949     94   \n",
       "17021      <c++><boost><server><boost-asio><low-latency>  44446984     22   \n",
       "11245         <iphone><ipad><uiview><frame><viewdidload>   6757018     32   \n",
       "1655   <c++><c++11><shared-ptr><weak-ptr><cyclic-refe...   4984381     85   \n",
       "2595           <python><websocket><flask><uwsgi><gevent>  23111654     65   \n",
       "4047   <swift><concurrency><nsurlsession><alamofire><...  27021896     72   \n",
       "10340  <uiview><uiviewcontroller><uistoryboard><nib><...  21131122     20   \n",
       "\n",
       "       ViewCount  FavoriteCount  AnswerCount  \n",
       "18031      86288             25            9  \n",
       "20812    1362157             71            1  \n",
       "8405       50769             42            2  \n",
       "19626       7993             25            4  \n",
       "19254     117042             38            4  \n",
       "2275       89023             24            6  \n",
       "8794       80576             18            4  \n",
       "24354      48664             21            8  \n",
       "3181       77078             16            7  \n",
       "19027     349731            231            4  \n",
       "21635     112925             43           10  \n",
       "4999       31113             31           22  \n",
       "18703     300121             29           11  \n",
       "23710     155242             19            8  \n",
       "17021       5459             19            2  \n",
       "11245      19331             34            2  \n",
       "1655       63969             52            5  \n",
       "2595       51333             24            1  \n",
       "4047       19583             57            1  \n",
       "10340      13096             11            3  "
      ]
     },
     "execution_count": 222,
     "metadata": {},
     "output_type": "execute_result"
    }
   ],
   "source": [
    "data.sample(20)"
   ]
  },
  {
   "cell_type": "code",
   "execution_count": 223,
   "id": "595f2449",
   "metadata": {},
   "outputs": [
    {
     "data": {
      "text/plain": [
       "(27933, 8)"
      ]
     },
     "execution_count": 223,
     "metadata": {},
     "output_type": "execute_result"
    }
   ],
   "source": [
    "data.shape"
   ]
  },
  {
   "cell_type": "code",
   "execution_count": 224,
   "id": "e99dfc5a",
   "metadata": {},
   "outputs": [
    {
     "name": "stdout",
     "output_type": "stream",
     "text": [
      "<class 'pandas.core.frame.DataFrame'>\n",
      "RangeIndex: 27933 entries, 0 to 27932\n",
      "Data columns (total 8 columns):\n",
      " #   Column         Non-Null Count  Dtype \n",
      "---  ------         --------------  ----- \n",
      " 0   Title          27933 non-null  object\n",
      " 1   Body           27933 non-null  object\n",
      " 2   Tags           27933 non-null  object\n",
      " 3   Id             27933 non-null  int64 \n",
      " 4   Score          27933 non-null  int64 \n",
      " 5   ViewCount      27933 non-null  int64 \n",
      " 6   FavoriteCount  27933 non-null  int64 \n",
      " 7   AnswerCount    27933 non-null  int64 \n",
      "dtypes: int64(5), object(3)\n",
      "memory usage: 1.7+ MB\n"
     ]
    }
   ],
   "source": [
    "data.info()"
   ]
  },
  {
   "cell_type": "code",
   "execution_count": 225,
   "id": "401620ee",
   "metadata": {},
   "outputs": [
    {
     "data": {
      "text/plain": [
       "int64     5\n",
       "object    3\n",
       "dtype: int64"
      ]
     },
     "execution_count": 225,
     "metadata": {},
     "output_type": "execute_result"
    }
   ],
   "source": [
    "data.dtypes.value_counts()"
   ]
  },
  {
   "cell_type": "code",
   "execution_count": 226,
   "id": "332213e8",
   "metadata": {},
   "outputs": [
    {
     "data": {
      "text/plain": [
       "Title            27933\n",
       "Body             27933\n",
       "Tags             27447\n",
       "Id               27933\n",
       "Score             1095\n",
       "ViewCount        25519\n",
       "FavoriteCount      588\n",
       "AnswerCount         76\n",
       "dtype: int64"
      ]
     },
     "execution_count": 226,
     "metadata": {},
     "output_type": "execute_result"
    }
   ],
   "source": [
    "data.nunique()"
   ]
  },
  {
   "cell_type": "code",
   "execution_count": 227,
   "id": "0430c3c2",
   "metadata": {},
   "outputs": [
    {
     "data": {
      "text/plain": [
       "Title            27933\n",
       "Body             27933\n",
       "Tags             27447\n",
       "Id               27933\n",
       "Score             1095\n",
       "ViewCount        25519\n",
       "FavoriteCount      588\n",
       "AnswerCount         76\n",
       "dtype: int64"
      ]
     },
     "execution_count": 227,
     "metadata": {},
     "output_type": "execute_result"
    }
   ],
   "source": [
    "tmp = data.nunique()\n",
    "tmp"
   ]
  },
  {
   "cell_type": "code",
   "execution_count": 228,
   "id": "754df6ca",
   "metadata": {},
   "outputs": [
    {
     "data": {
      "text/plain": [
       "Series([], dtype: int64)"
      ]
     },
     "execution_count": 228,
     "metadata": {},
     "output_type": "execute_result"
    }
   ],
   "source": [
    "tmp[tmp<10]"
   ]
  },
  {
   "cell_type": "code",
   "execution_count": 229,
   "id": "1d95ce0e",
   "metadata": {},
   "outputs": [
    {
     "data": {
      "text/plain": [
       "Title        27933\n",
       "Body         27933\n",
       "Tags         27447\n",
       "Id           27933\n",
       "Score         1095\n",
       "ViewCount    25519\n",
       "dtype: int64"
      ]
     },
     "execution_count": 229,
     "metadata": {},
     "output_type": "execute_result"
    }
   ],
   "source": [
    "tmp[tmp >1000]"
   ]
  },
  {
   "cell_type": "code",
   "execution_count": 230,
   "id": "6f8f8551",
   "metadata": {},
   "outputs": [],
   "source": [
    "## NaN and Duplicates"
   ]
  },
  {
   "cell_type": "code",
   "execution_count": 231,
   "id": "d1e6dc76",
   "metadata": {},
   "outputs": [
    {
     "data": {
      "text/plain": [
       "Title            0\n",
       "Body             0\n",
       "Tags             0\n",
       "Id               0\n",
       "Score            0\n",
       "ViewCount        0\n",
       "FavoriteCount    0\n",
       "AnswerCount      0\n",
       "dtype: int64"
      ]
     },
     "execution_count": 231,
     "metadata": {},
     "output_type": "execute_result"
    }
   ],
   "source": [
    "data.isna().sum()"
   ]
  },
  {
   "cell_type": "code",
   "execution_count": 232,
   "id": "cdf9c6ab",
   "metadata": {},
   "outputs": [
    {
     "data": {
      "text/plain": [
       "Title            0.0\n",
       "Body             0.0\n",
       "Tags             0.0\n",
       "Id               0.0\n",
       "Score            0.0\n",
       "ViewCount        0.0\n",
       "FavoriteCount    0.0\n",
       "AnswerCount      0.0\n",
       "dtype: float64"
      ]
     },
     "execution_count": 232,
     "metadata": {},
     "output_type": "execute_result"
    }
   ],
   "source": [
    "data.isna().mean().sort_values()"
   ]
  },
  {
   "cell_type": "code",
   "execution_count": 233,
   "id": "6c3d95e7",
   "metadata": {},
   "outputs": [
    {
     "data": {
      "text/plain": [
       "<AxesSubplot:>"
      ]
     },
     "execution_count": 233,
     "metadata": {},
     "output_type": "execute_result"
    },
    {
     "data": {
      "image/png": "[encoded data removed]",
      "text/plain": [
       "<Figure size 432x288 with 2 Axes>"
      ]
     },
     "metadata": {},
     "output_type": "display_data"
    }
   ],
   "source": [
    "sns.heatmap(data.isna())"
   ]
  },
  {
   "cell_type": "code",
   "execution_count": 234,
   "id": "ccb39300",
   "metadata": {},
   "outputs": [
    {
     "data": {
      "text/plain": [
       "<AxesSubplot:>"
      ]
     },
     "execution_count": 234,
     "metadata": {},
     "output_type": "execute_result"
    },
    {
     "data": {
      "image/png": "[encoded data removed]",
      "text/plain": [
       "<Figure size 1440x432 with 2 Axes>"
      ]
     },
     "metadata": {},
     "output_type": "display_data"
    }
   ],
   "source": [
    "fig, ax = plt.subplots(1, 1, figsize=(20,6))\n",
    "sns.heatmap(data.isna())"
   ]
  },
  {
   "cell_type": "code",
   "execution_count": 235,
   "id": "ed17ca17",
   "metadata": {},
   "outputs": [
    {
     "data": {
      "text/plain": [
       "0"
      ]
     },
     "execution_count": 235,
     "metadata": {},
     "output_type": "execute_result"
    }
   ],
   "source": [
    "data.duplicated().sum()"
   ]
  },
  {
   "cell_type": "code",
   "execution_count": 236,
   "id": "69346e18",
   "metadata": {},
   "outputs": [
    {
     "data": {
      "text/plain": [
       "0"
      ]
     },
     "execution_count": 236,
     "metadata": {},
     "output_type": "execute_result"
    }
   ],
   "source": [
    "data.duplicated(subset =\"Body\").sum()"
   ]
  },
  {
   "cell_type": "code",
   "execution_count": 237,
   "id": "58698e4d",
   "metadata": {},
   "outputs": [
    {
     "name": "stdout",
     "output_type": "stream",
     "text": [
      "col:Title -> duplicated:0\n",
      "col:Body -> duplicated:0\n",
      "col:Tags -> duplicated:486\n",
      "col:Id -> duplicated:0\n",
      "col:Score -> duplicated:26838\n",
      "col:ViewCount -> duplicated:2414\n",
      "col:FavoriteCount -> duplicated:27345\n",
      "col:AnswerCount -> duplicated:27857\n"
     ]
    }
   ],
   "source": [
    "for col in data.columns:\n",
    "    n = data.duplicated(subset=col).sum()\n",
    "    print(f\"col:{col} -> duplicated:{n}\")"
   ]
  },
  {
   "cell_type": "code",
   "execution_count": 238,
   "id": "4e443402",
   "metadata": {},
   "outputs": [
    {
     "data": {
      "text/plain": [
       "0        False\n",
       "1        False\n",
       "2        False\n",
       "3        False\n",
       "4        False\n",
       "         ...  \n",
       "27928    False\n",
       "27929    False\n",
       "27930    False\n",
       "27931    False\n",
       "27932    False\n",
       "Length: 27933, dtype: bool"
      ]
     },
     "execution_count": 238,
     "metadata": {},
     "output_type": "execute_result"
    }
   ],
   "source": [
    "data.duplicated(subset=\"Tags\", keep=\"first\")"
   ]
  },
  {
   "cell_type": "code",
   "execution_count": 239,
   "id": "41cda08f",
   "metadata": {},
   "outputs": [
    {
     "data": {
      "text/html": [
       "<div>\n",
       "<style scoped>\n",
       "    .dataframe tbody tr th:only-of-type {\n",
       "        vertical-align: middle;\n",
       "    }\n",
       "\n",
       "    .dataframe tbody tr th {\n",
       "        vertical-align: top;\n",
       "    }\n",
       "\n",
       "    .dataframe thead th {\n",
       "        text-align: right;\n",
       "    }\n",
       "</style>\n",
       "<table border=\"1\" class=\"dataframe\">\n",
       "  <thead>\n",
       "    <tr style=\"text-align: right;\">\n",
       "      <th></th>\n",
       "      <th>Title</th>\n",
       "      <th>Body</th>\n",
       "      <th>Tags</th>\n",
       "      <th>Id</th>\n",
       "      <th>Score</th>\n",
       "      <th>ViewCount</th>\n",
       "      <th>FavoriteCount</th>\n",
       "      <th>AnswerCount</th>\n",
       "    </tr>\n",
       "  </thead>\n",
       "  <tbody>\n",
       "    <tr>\n",
       "      <th>23904</th>\n",
       "      <td>\"UNPROTECTED PRIVATE KEY FILE!\" Error using SS...</td>\n",
       "      <td>&lt;p&gt;I've created a new linux instance on Amazon...</td>\n",
       "      <td>&lt;amazon-web-services&gt;&lt;authentication&gt;&lt;ssh&gt;&lt;ama...</td>\n",
       "      <td>8193768</td>\n",
       "      <td>915</td>\n",
       "      <td>629086</td>\n",
       "      <td>214</td>\n",
       "      <td>41</td>\n",
       "    </tr>\n",
       "    <tr>\n",
       "      <th>26248</th>\n",
       "      <td>How can I modify ripple color when using ?attr...</td>\n",
       "      <td>&lt;p&gt;I've seen some SO questions and they gave s...</td>\n",
       "      <td>&lt;android&gt;&lt;android-layout&gt;&lt;android-5.0-lollipop...</td>\n",
       "      <td>33061050</td>\n",
       "      <td>129</td>\n",
       "      <td>75463</td>\n",
       "      <td>50</td>\n",
       "      <td>8</td>\n",
       "    </tr>\n",
       "    <tr>\n",
       "      <th>25503</th>\n",
       "      <td>Got exception: fragment already active</td>\n",
       "      <td>&lt;p&gt;I have a &lt;strong&gt;fragment&lt;/strong&gt;;&lt;/p&gt;\\n\\n...</td>\n",
       "      <td>&lt;android&gt;&lt;android-layout&gt;&lt;android-intent&gt;&lt;andr...</td>\n",
       "      <td>10364478</td>\n",
       "      <td>58</td>\n",
       "      <td>42096</td>\n",
       "      <td>15</td>\n",
       "      <td>8</td>\n",
       "    </tr>\n",
       "    <tr>\n",
       "      <th>3739</th>\n",
       "      <td>gen already exists but is not a source folder</td>\n",
       "      <td>&lt;p&gt;I am developing my Android project, After I...</td>\n",
       "      <td>&lt;android&gt;&lt;android-layout&gt;&lt;android-intent&gt;&lt;andr...</td>\n",
       "      <td>9532045</td>\n",
       "      <td>92</td>\n",
       "      <td>57301</td>\n",
       "      <td>22</td>\n",
       "      <td>15</td>\n",
       "    </tr>\n",
       "    <tr>\n",
       "      <th>5956</th>\n",
       "      <td>how append date build to versionNameSuffix on ...</td>\n",
       "      <td>&lt;p&gt;I am using Android Studio and I need to app...</td>\n",
       "      <td>&lt;android&gt;&lt;android-studio&gt;&lt;gradle&gt;&lt;android-grad...</td>\n",
       "      <td>19172565</td>\n",
       "      <td>89</td>\n",
       "      <td>64171</td>\n",
       "      <td>20</td>\n",
       "      <td>7</td>\n",
       "    </tr>\n",
       "    <tr>\n",
       "      <th>...</th>\n",
       "      <td>...</td>\n",
       "      <td>...</td>\n",
       "      <td>...</td>\n",
       "      <td>...</td>\n",
       "      <td>...</td>\n",
       "      <td>...</td>\n",
       "      <td>...</td>\n",
       "      <td>...</td>\n",
       "    </tr>\n",
       "    <tr>\n",
       "      <th>24361</th>\n",
       "      <td>What is the 'shadow space' in x64 assembly?</td>\n",
       "      <td>&lt;p&gt;I found plenty of topics about this shadow ...</td>\n",
       "      <td>&lt;windows&gt;&lt;assembly&gt;&lt;x86-64&gt;&lt;calling-convention...</td>\n",
       "      <td>30190132</td>\n",
       "      <td>36</td>\n",
       "      <td>15837</td>\n",
       "      <td>12</td>\n",
       "      <td>2</td>\n",
       "    </tr>\n",
       "    <tr>\n",
       "      <th>24420</th>\n",
       "      <td>Variables are not behaving as expected</td>\n",
       "      <td>&lt;p&gt;I've been wrestling trying to get the synta...</td>\n",
       "      <td>&lt;windows&gt;&lt;batch-file&gt;&lt;cmd&gt;&lt;environment-variabl...</td>\n",
       "      <td>30282784</td>\n",
       "      <td>26</td>\n",
       "      <td>9116</td>\n",
       "      <td>14</td>\n",
       "      <td>1</td>\n",
       "    </tr>\n",
       "    <tr>\n",
       "      <th>27355</th>\n",
       "      <td>Where is the Write-Combining Buffer located? x86</td>\n",
       "      <td>&lt;p&gt;How is the Write-Combine buffer physically ...</td>\n",
       "      <td>&lt;x86&gt;&lt;intel&gt;&lt;cpu-architecture&gt;&lt;cpu-cache&gt;&lt;amd-...</td>\n",
       "      <td>49959963</td>\n",
       "      <td>15</td>\n",
       "      <td>5274</td>\n",
       "      <td>12</td>\n",
       "      <td>3</td>\n",
       "    </tr>\n",
       "    <tr>\n",
       "      <th>26789</th>\n",
       "      <td>xmlns, xmlns:xsi, xsi:schemaLocation, and targ...</td>\n",
       "      <td>&lt;p&gt;For the following XML fragment:&lt;/p&gt;\\n\\n&lt;pre...</td>\n",
       "      <td>&lt;xml&gt;&lt;xsd&gt;&lt;xml-namespaces&gt;&lt;xsd-validation&gt;&lt;xml...</td>\n",
       "      <td>34202967</td>\n",
       "      <td>76</td>\n",
       "      <td>59893</td>\n",
       "      <td>31</td>\n",
       "      <td>2</td>\n",
       "    </tr>\n",
       "    <tr>\n",
       "      <th>17667</th>\n",
       "      <td>What is the difference between xsd and xsi?</td>\n",
       "      <td>&lt;p&gt;What exactly is the difference between &lt;str...</td>\n",
       "      <td>&lt;xml&gt;&lt;xsd&gt;&lt;xml-namespaces&gt;&lt;xsd-validation&gt;&lt;xml...</td>\n",
       "      <td>41035128</td>\n",
       "      <td>38</td>\n",
       "      <td>45683</td>\n",
       "      <td>16</td>\n",
       "      <td>2</td>\n",
       "    </tr>\n",
       "  </tbody>\n",
       "</table>\n",
       "<p>486 rows × 8 columns</p>\n",
       "</div>"
      ],
      "text/plain": [
       "                                                   Title  \\\n",
       "23904  \"UNPROTECTED PRIVATE KEY FILE!\" Error using SS...   \n",
       "26248  How can I modify ripple color when using ?attr...   \n",
       "25503             Got exception: fragment already active   \n",
       "3739       gen already exists but is not a source folder   \n",
       "5956   how append date build to versionNameSuffix on ...   \n",
       "...                                                  ...   \n",
       "24361        What is the 'shadow space' in x64 assembly?   \n",
       "24420             Variables are not behaving as expected   \n",
       "27355   Where is the Write-Combining Buffer located? x86   \n",
       "26789  xmlns, xmlns:xsi, xsi:schemaLocation, and targ...   \n",
       "17667        What is the difference between xsd and xsi?   \n",
       "\n",
       "                                                    Body  \\\n",
       "23904  <p>I've created a new linux instance on Amazon...   \n",
       "26248  <p>I've seen some SO questions and they gave s...   \n",
       "25503  <p>I have a <strong>fragment</strong>;</p>\\n\\n...   \n",
       "3739   <p>I am developing my Android project, After I...   \n",
       "5956   <p>I am using Android Studio and I need to app...   \n",
       "...                                                  ...   \n",
       "24361  <p>I found plenty of topics about this shadow ...   \n",
       "24420  <p>I've been wrestling trying to get the synta...   \n",
       "27355  <p>How is the Write-Combine buffer physically ...   \n",
       "26789  <p>For the following XML fragment:</p>\\n\\n<pre...   \n",
       "17667  <p>What exactly is the difference between <str...   \n",
       "\n",
       "                                                    Tags        Id  Score  \\\n",
       "23904  <amazon-web-services><authentication><ssh><ama...   8193768    915   \n",
       "26248  <android><android-layout><android-5.0-lollipop...  33061050    129   \n",
       "25503  <android><android-layout><android-intent><andr...  10364478     58   \n",
       "3739   <android><android-layout><android-intent><andr...   9532045     92   \n",
       "5956   <android><android-studio><gradle><android-grad...  19172565     89   \n",
       "...                                                  ...       ...    ...   \n",
       "24361  <windows><assembly><x86-64><calling-convention...  30190132     36   \n",
       "24420  <windows><batch-file><cmd><environment-variabl...  30282784     26   \n",
       "27355  <x86><intel><cpu-architecture><cpu-cache><amd-...  49959963     15   \n",
       "26789  <xml><xsd><xml-namespaces><xsd-validation><xml...  34202967     76   \n",
       "17667  <xml><xsd><xml-namespaces><xsd-validation><xml...  41035128     38   \n",
       "\n",
       "       ViewCount  FavoriteCount  AnswerCount  \n",
       "23904     629086            214           41  \n",
       "26248      75463             50            8  \n",
       "25503      42096             15            8  \n",
       "3739       57301             22           15  \n",
       "5956       64171             20            7  \n",
       "...          ...            ...          ...  \n",
       "24361      15837             12            2  \n",
       "24420       9116             14            1  \n",
       "27355       5274             12            3  \n",
       "26789      59893             31            2  \n",
       "17667      45683             16            2  \n",
       "\n",
       "[486 rows x 8 columns]"
      ]
     },
     "execution_count": 239,
     "metadata": {},
     "output_type": "execute_result"
    }
   ],
   "source": [
    "idx = data.duplicated(subset=\"Tags\", keep =\"first\")\n",
    "data.loc[idx, :].sort_values(\"Tags\")"
   ]
  },
  {
   "cell_type": "code",
   "execution_count": 240,
   "id": "181d33e0",
   "metadata": {},
   "outputs": [
    {
     "data": {
      "text/html": [
       "<div>\n",
       "<style scoped>\n",
       "    .dataframe tbody tr th:only-of-type {\n",
       "        vertical-align: middle;\n",
       "    }\n",
       "\n",
       "    .dataframe tbody tr th {\n",
       "        vertical-align: top;\n",
       "    }\n",
       "\n",
       "    .dataframe thead th {\n",
       "        text-align: right;\n",
       "    }\n",
       "</style>\n",
       "<table border=\"1\" class=\"dataframe\">\n",
       "  <thead>\n",
       "    <tr style=\"text-align: right;\">\n",
       "      <th></th>\n",
       "      <th>Id</th>\n",
       "      <th>Score</th>\n",
       "      <th>ViewCount</th>\n",
       "      <th>FavoriteCount</th>\n",
       "      <th>AnswerCount</th>\n",
       "    </tr>\n",
       "  </thead>\n",
       "  <tbody>\n",
       "    <tr>\n",
       "      <th>count</th>\n",
       "      <td>2.793300e+04</td>\n",
       "      <td>27933.000000</td>\n",
       "      <td>2.793300e+04</td>\n",
       "      <td>27933.000000</td>\n",
       "      <td>27933.000000</td>\n",
       "    </tr>\n",
       "    <tr>\n",
       "      <th>mean</th>\n",
       "      <td>1.690787e+07</td>\n",
       "      <td>114.001360</td>\n",
       "      <td>1.120698e+05</td>\n",
       "      <td>42.705044</td>\n",
       "      <td>7.154871</td>\n",
       "    </tr>\n",
       "    <tr>\n",
       "      <th>std</th>\n",
       "      <td>1.541228e+07</td>\n",
       "      <td>351.730108</td>\n",
       "      <td>2.467875e+05</td>\n",
       "      <td>145.693052</td>\n",
       "      <td>6.789046</td>\n",
       "    </tr>\n",
       "    <tr>\n",
       "      <th>min</th>\n",
       "      <td>4.000000e+00</td>\n",
       "      <td>6.000000</td>\n",
       "      <td>2.760000e+02</td>\n",
       "      <td>11.000000</td>\n",
       "      <td>1.000000</td>\n",
       "    </tr>\n",
       "    <tr>\n",
       "      <th>25%</th>\n",
       "      <td>4.211909e+06</td>\n",
       "      <td>29.000000</td>\n",
       "      <td>2.183900e+04</td>\n",
       "      <td>14.000000</td>\n",
       "      <td>3.000000</td>\n",
       "    </tr>\n",
       "    <tr>\n",
       "      <th>50%</th>\n",
       "      <td>1.213544e+07</td>\n",
       "      <td>51.000000</td>\n",
       "      <td>4.900500e+04</td>\n",
       "      <td>19.000000</td>\n",
       "      <td>5.000000</td>\n",
       "    </tr>\n",
       "    <tr>\n",
       "      <th>75%</th>\n",
       "      <td>2.618065e+07</td>\n",
       "      <td>99.000000</td>\n",
       "      <td>1.122840e+05</td>\n",
       "      <td>35.000000</td>\n",
       "      <td>9.000000</td>\n",
       "    </tr>\n",
       "    <tr>\n",
       "      <th>max</th>\n",
       "      <td>7.290447e+07</td>\n",
       "      <td>26631.000000</td>\n",
       "      <td>1.030442e+07</td>\n",
       "      <td>11654.000000</td>\n",
       "      <td>128.000000</td>\n",
       "    </tr>\n",
       "  </tbody>\n",
       "</table>\n",
       "</div>"
      ],
      "text/plain": [
       "                 Id         Score     ViewCount  FavoriteCount   AnswerCount\n",
       "count  2.793300e+04  27933.000000  2.793300e+04   27933.000000  27933.000000\n",
       "mean   1.690787e+07    114.001360  1.120698e+05      42.705044      7.154871\n",
       "std    1.541228e+07    351.730108  2.467875e+05     145.693052      6.789046\n",
       "min    4.000000e+00      6.000000  2.760000e+02      11.000000      1.000000\n",
       "25%    4.211909e+06     29.000000  2.183900e+04      14.000000      3.000000\n",
       "50%    1.213544e+07     51.000000  4.900500e+04      19.000000      5.000000\n",
       "75%    2.618065e+07     99.000000  1.122840e+05      35.000000      9.000000\n",
       "max    7.290447e+07  26631.000000  1.030442e+07   11654.000000    128.000000"
      ]
     },
     "execution_count": 240,
     "metadata": {},
     "output_type": "execute_result"
    }
   ],
   "source": [
    "## Data inspection\n",
    "data.describe(include=np.number)"
   ]
  },
  {
   "cell_type": "code",
   "execution_count": 241,
   "id": "f97bd94b",
   "metadata": {},
   "outputs": [
    {
     "data": {
      "text/html": [
       "<div>\n",
       "<style scoped>\n",
       "    .dataframe tbody tr th:only-of-type {\n",
       "        vertical-align: middle;\n",
       "    }\n",
       "\n",
       "    .dataframe tbody tr th {\n",
       "        vertical-align: top;\n",
       "    }\n",
       "\n",
       "    .dataframe thead th {\n",
       "        text-align: right;\n",
       "    }\n",
       "</style>\n",
       "<table border=\"1\" class=\"dataframe\">\n",
       "  <thead>\n",
       "    <tr style=\"text-align: right;\">\n",
       "      <th></th>\n",
       "      <th>Title</th>\n",
       "      <th>Body</th>\n",
       "      <th>Tags</th>\n",
       "    </tr>\n",
       "  </thead>\n",
       "  <tbody>\n",
       "    <tr>\n",
       "      <th>count</th>\n",
       "      <td>27933</td>\n",
       "      <td>27933</td>\n",
       "      <td>27933</td>\n",
       "    </tr>\n",
       "    <tr>\n",
       "      <th>unique</th>\n",
       "      <td>27933</td>\n",
       "      <td>27933</td>\n",
       "      <td>27447</td>\n",
       "    </tr>\n",
       "    <tr>\n",
       "      <th>top</th>\n",
       "      <td>Import CSV file to strongly typed data structu...</td>\n",
       "      <td>&lt;p&gt;What's the best way to import a CSV file in...</td>\n",
       "      <td>&lt;java&gt;&lt;spring&gt;&lt;jpa&gt;&lt;spring-data&gt;&lt;spring-data-jpa&gt;</td>\n",
       "    </tr>\n",
       "    <tr>\n",
       "      <th>freq</th>\n",
       "      <td>1</td>\n",
       "      <td>1</td>\n",
       "      <td>19</td>\n",
       "    </tr>\n",
       "  </tbody>\n",
       "</table>\n",
       "</div>"
      ],
      "text/plain": [
       "                                                    Title  \\\n",
       "count                                               27933   \n",
       "unique                                              27933   \n",
       "top     Import CSV file to strongly typed data structu...   \n",
       "freq                                                    1   \n",
       "\n",
       "                                                     Body  \\\n",
       "count                                               27933   \n",
       "unique                                              27933   \n",
       "top     <p>What's the best way to import a CSV file in...   \n",
       "freq                                                    1   \n",
       "\n",
       "                                                     Tags  \n",
       "count                                               27933  \n",
       "unique                                              27447  \n",
       "top     <java><spring><jpa><spring-data><spring-data-jpa>  \n",
       "freq                                                   19  "
      ]
     },
     "execution_count": 241,
     "metadata": {},
     "output_type": "execute_result"
    }
   ],
   "source": [
    "data.describe(include=object)"
   ]
  },
  {
   "cell_type": "code",
   "execution_count": 242,
   "id": "8a51f03f",
   "metadata": {},
   "outputs": [],
   "source": [
    "## Cleaning\n",
    "## select columns"
   ]
  },
  {
   "cell_type": "code",
   "execution_count": 244,
   "id": "6cadd756",
   "metadata": {},
   "outputs": [
    {
     "data": {
      "text/plain": [
       "Title            object\n",
       "Body             object\n",
       "Tags             object\n",
       "Id                int64\n",
       "Score             int64\n",
       "ViewCount         int64\n",
       "FavoriteCount     int64\n",
       "AnswerCount       int64\n",
       "dtype: object"
      ]
     },
     "execution_count": 244,
     "metadata": {},
     "output_type": "execute_result"
    }
   ],
   "source": [
    "tmp =data.dtypes\n",
    "tmp"
   ]
  },
  {
   "cell_type": "code",
   "execution_count": 245,
   "id": "8fd2bfeb",
   "metadata": {
    "scrolled": true
   },
   "outputs": [
    {
     "data": {
      "text/html": [
       "<div>\n",
       "<style scoped>\n",
       "    .dataframe tbody tr th:only-of-type {\n",
       "        vertical-align: middle;\n",
       "    }\n",
       "\n",
       "    .dataframe tbody tr th {\n",
       "        vertical-align: top;\n",
       "    }\n",
       "\n",
       "    .dataframe thead th {\n",
       "        text-align: right;\n",
       "    }\n",
       "</style>\n",
       "<table border=\"1\" class=\"dataframe\">\n",
       "  <thead>\n",
       "    <tr style=\"text-align: right;\">\n",
       "      <th></th>\n",
       "      <th>Title</th>\n",
       "      <th>Body</th>\n",
       "      <th>Tags</th>\n",
       "    </tr>\n",
       "  </thead>\n",
       "  <tbody>\n",
       "    <tr>\n",
       "      <th>0</th>\n",
       "      <td>Import CSV file to strongly typed data structu...</td>\n",
       "      <td>&lt;p&gt;What's the best way to import a CSV file in...</td>\n",
       "      <td>&lt;c#&gt;&lt;vb.net&gt;&lt;file&gt;&lt;csv&gt;&lt;import&gt;</td>\n",
       "    </tr>\n",
       "    <tr>\n",
       "      <th>1</th>\n",
       "      <td>Change hash without reload in jQuery</td>\n",
       "      <td>&lt;p&gt;I have the following code:&lt;/p&gt;\\n\\n&lt;pre&gt;&lt;cod...</td>\n",
       "      <td>&lt;jquery&gt;&lt;hash&gt;&lt;reload&gt;&lt;fragment-identifier&gt;&lt;wi...</td>\n",
       "    </tr>\n",
       "    <tr>\n",
       "      <th>2</th>\n",
       "      <td>Pass by reference or pass by value?</td>\n",
       "      <td>&lt;p&gt;When learning a new programming language, o...</td>\n",
       "      <td>&lt;language-agnostic&gt;&lt;oop&gt;&lt;parameters&gt;&lt;pass-by-r...</td>\n",
       "    </tr>\n",
       "    <tr>\n",
       "      <th>3</th>\n",
       "      <td>What are MVP and MVC and what is the difference?</td>\n",
       "      <td>&lt;p&gt;When looking beyond the &lt;a href=\"https://en...</td>\n",
       "      <td>&lt;user-interface&gt;&lt;model-view-controller&gt;&lt;design...</td>\n",
       "    </tr>\n",
       "    <tr>\n",
       "      <th>4</th>\n",
       "      <td>LINQ on the .NET 2.0 Runtime</td>\n",
       "      <td>&lt;p&gt;Can a LINQ enabled app run on a machine tha...</td>\n",
       "      <td>&lt;.net&gt;&lt;linq&gt;&lt;.net-3.5&gt;&lt;.net-2.0&gt;&lt;clr&gt;</td>\n",
       "    </tr>\n",
       "  </tbody>\n",
       "</table>\n",
       "</div>"
      ],
      "text/plain": [
       "                                               Title  \\\n",
       "0  Import CSV file to strongly typed data structu...   \n",
       "1               Change hash without reload in jQuery   \n",
       "2                Pass by reference or pass by value?   \n",
       "3   What are MVP and MVC and what is the difference?   \n",
       "4                       LINQ on the .NET 2.0 Runtime   \n",
       "\n",
       "                                                Body  \\\n",
       "0  <p>What's the best way to import a CSV file in...   \n",
       "1  <p>I have the following code:</p>\\n\\n<pre><cod...   \n",
       "2  <p>When learning a new programming language, o...   \n",
       "3  <p>When looking beyond the <a href=\"https://en...   \n",
       "4  <p>Can a LINQ enabled app run on a machine tha...   \n",
       "\n",
       "                                                Tags  \n",
       "0                    <c#><vb.net><file><csv><import>  \n",
       "1  <jquery><hash><reload><fragment-identifier><wi...  \n",
       "2  <language-agnostic><oop><parameters><pass-by-r...  \n",
       "3  <user-interface><model-view-controller><design...  \n",
       "4              <.net><linq><.net-3.5><.net-2.0><clr>  "
      ]
     },
     "execution_count": 245,
     "metadata": {},
     "output_type": "execute_result"
    }
   ],
   "source": [
    "cols = [\"Title\", \"Body\", \"Tags\"]\n",
    "df = data[cols]\n",
    "df.head()"
   ]
  },
  {
   "cell_type": "code",
   "execution_count": null,
   "id": "108457e3",
   "metadata": {},
   "outputs": [],
   "source": [
    "# Nettoyage du texte"
   ]
  },
  {
   "cell_type": "code",
   "execution_count": 246,
   "id": "fb0bb385",
   "metadata": {},
   "outputs": [],
   "source": [
    "# Tokenizer\n",
    "import nltk\n",
    "from nltk.tokenize import sent_tokenize, word_tokenize"
   ]
  },
  {
   "cell_type": "code",
   "execution_count": 247,
   "id": "660e19b3",
   "metadata": {},
   "outputs": [],
   "source": [
    "def tokenizer_fct(sentence) :\n",
    "    # print(sentence)\n",
    "    sentence_clean = sentence.replace('-', ' ').replace('+', ' ').replace('/', ' ').replace('#', ' ')\n",
    "    word_tokens = word_tokenize(sentence_clean)\n",
    "    return word_tokens"
   ]
  },
  {
   "cell_type": "code",
   "execution_count": 248,
   "id": "583c7520",
   "metadata": {},
   "outputs": [],
   "source": [
    "# Stop words\n",
    "from nltk.corpus import stopwords\n",
    "stop_w = list(set(stopwords.words('english'))) + ['[', ']', ',', '.', ':', '?', '(', ')']\n",
    "\n",
    "def stop_word_filter_fct(list_words) :\n",
    "    filtered_w = [w for w in list_words if not w in stop_w]\n",
    "    filtered_w2 = [w for w in filtered_w if len(w) > 2]\n",
    "    return filtered_w2"
   ]
  },
  {
   "cell_type": "code",
   "execution_count": 249,
   "id": "7d598c23",
   "metadata": {},
   "outputs": [],
   "source": [
    "# lower case et alpha\n",
    "def lower_start_fct(list_words) :\n",
    "    lw = [w.lower() for w in list_words if (not w.startswith(\"@\")) \n",
    "    #                                   and (not w.startswith(\"#\"))\n",
    "                                       and (not w.startswith(\"http\"))]\n",
    "    return lw"
   ]
  },
  {
   "cell_type": "code",
   "execution_count": 250,
   "id": "af6125bd",
   "metadata": {},
   "outputs": [],
   "source": [
    "# Lemmatizer (base d'un mot)\n",
    "from nltk.stem import WordNetLemmatizer\n",
    "\n",
    "def lemma_fct(list_words) :\n",
    "    lemmatizer = WordNetLemmatizer()\n",
    "    lem_w = [lemmatizer.lemmatize(w) for w in list_words]\n",
    "    return lem_w"
   ]
  },
  {
   "cell_type": "code",
   "execution_count": 251,
   "id": "02bede4e",
   "metadata": {},
   "outputs": [],
   "source": [
    "# Fonction de préparation du texte pour le bag of words (Countvectorizer et Tf_idf, Word2Vec)\n",
    "def transform_bow_fct(desc_text) :\n",
    "    word_tokens = tokenizer_fct(desc_text)\n",
    "    sw = stop_word_filter_fct(word_tokens)\n",
    "    lw = lower_start_fct(sw)\n",
    "    # lem_w = lemma_fct(lw)    \n",
    "    transf_desc_text = ' '.join(lw)\n",
    "    return transf_desc_text"
   ]
  },
  {
   "cell_type": "code",
   "execution_count": 252,
   "id": "fcb14424",
   "metadata": {},
   "outputs": [],
   "source": [
    "# Fonction de préparation du texte pour le bag of words avec lemmatization\n",
    "def transform_bow_lem_fct(desc_text) :\n",
    "    word_tokens = tokenizer_fct(desc_text)\n",
    "    sw = stop_word_filter_fct(word_tokens)\n",
    "    lw = lower_start_fct(sw)\n",
    "    lem_w = lemma_fct(lw)    \n",
    "    transf_desc_text = ' '.join(lem_w)\n",
    "    return transf_desc_text"
   ]
  },
  {
   "cell_type": "code",
   "execution_count": 253,
   "id": "e0f4a910",
   "metadata": {},
   "outputs": [],
   "source": [
    "# Fonction de préparation du texte pour le Deep learning (USE et BERT)\n",
    "def transform_dl_fct(desc_text) :\n",
    "    word_tokens = tokenizer_fct(desc_text)\n",
    "#    sw = stop_word_filter_fct(word_tokens)\n",
    "    lw = lower_start_fct(word_tokens)\n",
    "    # lem_w = lemma_fct(lw)    \n",
    "    transf_desc_text = ' '.join(lw)\n",
    "    return transf_desc_text"
   ]
  },
  {
   "cell_type": "code",
   "execution_count": 254,
   "id": "c8cbbf63",
   "metadata": {},
   "outputs": [
    {
     "name": "stderr",
     "output_type": "stream",
     "text": [
      "/tmp/ipykernel_1594/3606764395.py:1: SettingWithCopyWarning: \n",
      "A value is trying to be set on a copy of a slice from a DataFrame.\n",
      "Try using .loc[row_indexer,col_indexer] = value instead\n",
      "\n",
      "See the caveats in the documentation: https://pandas.pydata.org/pandas-docs/stable/user_guide/indexing.html#returning-a-view-versus-a-copy\n",
      "  df['sentence_bow'] = df['Title'].apply(lambda x : transform_bow_fct(x))\n"
     ]
    }
   ],
   "source": [
    "df['sentence_bow'] = df['Title'].apply(lambda x : transform_bow_fct(x))"
   ]
  },
  {
   "cell_type": "code",
   "execution_count": 255,
   "id": "dc7b228e",
   "metadata": {},
   "outputs": [
    {
     "ename": "BadZipFile",
     "evalue": "File is not a zip file",
     "output_type": "error",
     "traceback": [
      "\u001b[0;31m---------------------------------------------------------------------------\u001b[0m",
      "\u001b[0;31mBadZipFile\u001b[0m                                Traceback (most recent call last)",
      "\u001b[0;32m/tmp/ipykernel_1594/516696269.py\u001b[0m in \u001b[0;36m<module>\u001b[0;34m\u001b[0m\n\u001b[0;32m----> 1\u001b[0;31m \u001b[0mdf\u001b[0m\u001b[0;34m[\u001b[0m\u001b[0;34m'sentence_bow_lem'\u001b[0m\u001b[0;34m]\u001b[0m \u001b[0;34m=\u001b[0m \u001b[0mdf\u001b[0m\u001b[0;34m[\u001b[0m\u001b[0;34m'Body'\u001b[0m\u001b[0;34m]\u001b[0m\u001b[0;34m.\u001b[0m\u001b[0mapply\u001b[0m\u001b[0;34m(\u001b[0m\u001b[0;32mlambda\u001b[0m \u001b[0mx\u001b[0m \u001b[0;34m:\u001b[0m \u001b[0mtransform_bow_lem_fct\u001b[0m\u001b[0;34m(\u001b[0m\u001b[0mx\u001b[0m\u001b[0;34m)\u001b[0m\u001b[0;34m)\u001b[0m\u001b[0;34m\u001b[0m\u001b[0;34m\u001b[0m\u001b[0m\n\u001b[0m",
      "\u001b[0;32m~/.pyenv/versions/3.8.12/envs/lewagon/lib/python3.8/site-packages/pandas/core/series.py\u001b[0m in \u001b[0;36mapply\u001b[0;34m(self, func, convert_dtype, args, **kwargs)\u001b[0m\n\u001b[1;32m   4355\u001b[0m         \u001b[0mdtype\u001b[0m\u001b[0;34m:\u001b[0m \u001b[0mfloat64\u001b[0m\u001b[0;34m\u001b[0m\u001b[0;34m\u001b[0m\u001b[0m\n\u001b[1;32m   4356\u001b[0m         \"\"\"\n\u001b[0;32m-> 4357\u001b[0;31m         \u001b[0;32mreturn\u001b[0m \u001b[0mSeriesApply\u001b[0m\u001b[0;34m(\u001b[0m\u001b[0mself\u001b[0m\u001b[0;34m,\u001b[0m \u001b[0mfunc\u001b[0m\u001b[0;34m,\u001b[0m \u001b[0mconvert_dtype\u001b[0m\u001b[0;34m,\u001b[0m \u001b[0margs\u001b[0m\u001b[0;34m,\u001b[0m \u001b[0mkwargs\u001b[0m\u001b[0;34m)\u001b[0m\u001b[0;34m.\u001b[0m\u001b[0mapply\u001b[0m\u001b[0;34m(\u001b[0m\u001b[0;34m)\u001b[0m\u001b[0;34m\u001b[0m\u001b[0;34m\u001b[0m\u001b[0m\n\u001b[0m\u001b[1;32m   4358\u001b[0m \u001b[0;34m\u001b[0m\u001b[0m\n\u001b[1;32m   4359\u001b[0m     def _reduce(\n",
      "\u001b[0;32m~/.pyenv/versions/3.8.12/envs/lewagon/lib/python3.8/site-packages/pandas/core/apply.py\u001b[0m in \u001b[0;36mapply\u001b[0;34m(self)\u001b[0m\n\u001b[1;32m   1041\u001b[0m             \u001b[0;32mreturn\u001b[0m \u001b[0mself\u001b[0m\u001b[0;34m.\u001b[0m\u001b[0mapply_str\u001b[0m\u001b[0;34m(\u001b[0m\u001b[0;34m)\u001b[0m\u001b[0;34m\u001b[0m\u001b[0;34m\u001b[0m\u001b[0m\n\u001b[1;32m   1042\u001b[0m \u001b[0;34m\u001b[0m\u001b[0m\n\u001b[0;32m-> 1043\u001b[0;31m         \u001b[0;32mreturn\u001b[0m \u001b[0mself\u001b[0m\u001b[0;34m.\u001b[0m\u001b[0mapply_standard\u001b[0m\u001b[0;34m(\u001b[0m\u001b[0;34m)\u001b[0m\u001b[0;34m\u001b[0m\u001b[0;34m\u001b[0m\u001b[0m\n\u001b[0m\u001b[1;32m   1044\u001b[0m \u001b[0;34m\u001b[0m\u001b[0m\n\u001b[1;32m   1045\u001b[0m     \u001b[0;32mdef\u001b[0m \u001b[0magg\u001b[0m\u001b[0;34m(\u001b[0m\u001b[0mself\u001b[0m\u001b[0;34m)\u001b[0m\u001b[0;34m:\u001b[0m\u001b[0;34m\u001b[0m\u001b[0;34m\u001b[0m\u001b[0m\n",
      "\u001b[0;32m~/.pyenv/versions/3.8.12/envs/lewagon/lib/python3.8/site-packages/pandas/core/apply.py\u001b[0m in \u001b[0;36mapply_standard\u001b[0;34m(self)\u001b[0m\n\u001b[1;32m   1096\u001b[0m                 \u001b[0;31m# List[Union[Callable[..., Any], str]]]]]\"; expected\u001b[0m\u001b[0;34m\u001b[0m\u001b[0;34m\u001b[0m\u001b[0;34m\u001b[0m\u001b[0m\n\u001b[1;32m   1097\u001b[0m                 \u001b[0;31m# \"Callable[[Any], Any]\"\u001b[0m\u001b[0;34m\u001b[0m\u001b[0;34m\u001b[0m\u001b[0;34m\u001b[0m\u001b[0m\n\u001b[0;32m-> 1098\u001b[0;31m                 mapped = lib.map_infer(\n\u001b[0m\u001b[1;32m   1099\u001b[0m                     \u001b[0mvalues\u001b[0m\u001b[0;34m,\u001b[0m\u001b[0;34m\u001b[0m\u001b[0;34m\u001b[0m\u001b[0m\n\u001b[1;32m   1100\u001b[0m                     \u001b[0mf\u001b[0m\u001b[0;34m,\u001b[0m  \u001b[0;31m# type: ignore[arg-type]\u001b[0m\u001b[0;34m\u001b[0m\u001b[0;34m\u001b[0m\u001b[0m\n",
      "\u001b[0;32m~/.pyenv/versions/3.8.12/envs/lewagon/lib/python3.8/site-packages/pandas/_libs/lib.pyx\u001b[0m in \u001b[0;36mpandas._libs.lib.map_infer\u001b[0;34m()\u001b[0m\n",
      "\u001b[0;32m/tmp/ipykernel_1594/516696269.py\u001b[0m in \u001b[0;36m<lambda>\u001b[0;34m(x)\u001b[0m\n\u001b[0;32m----> 1\u001b[0;31m \u001b[0mdf\u001b[0m\u001b[0;34m[\u001b[0m\u001b[0;34m'sentence_bow_lem'\u001b[0m\u001b[0;34m]\u001b[0m \u001b[0;34m=\u001b[0m \u001b[0mdf\u001b[0m\u001b[0;34m[\u001b[0m\u001b[0;34m'Body'\u001b[0m\u001b[0;34m]\u001b[0m\u001b[0;34m.\u001b[0m\u001b[0mapply\u001b[0m\u001b[0;34m(\u001b[0m\u001b[0;32mlambda\u001b[0m \u001b[0mx\u001b[0m \u001b[0;34m:\u001b[0m \u001b[0mtransform_bow_lem_fct\u001b[0m\u001b[0;34m(\u001b[0m\u001b[0mx\u001b[0m\u001b[0;34m)\u001b[0m\u001b[0;34m)\u001b[0m\u001b[0;34m\u001b[0m\u001b[0;34m\u001b[0m\u001b[0m\n\u001b[0m",
      "\u001b[0;32m/tmp/ipykernel_1594/2230459523.py\u001b[0m in \u001b[0;36mtransform_bow_lem_fct\u001b[0;34m(desc_text)\u001b[0m\n\u001b[1;32m      4\u001b[0m     \u001b[0msw\u001b[0m \u001b[0;34m=\u001b[0m \u001b[0mstop_word_filter_fct\u001b[0m\u001b[0;34m(\u001b[0m\u001b[0mword_tokens\u001b[0m\u001b[0;34m)\u001b[0m\u001b[0;34m\u001b[0m\u001b[0;34m\u001b[0m\u001b[0m\n\u001b[1;32m      5\u001b[0m     \u001b[0mlw\u001b[0m \u001b[0;34m=\u001b[0m \u001b[0mlower_start_fct\u001b[0m\u001b[0;34m(\u001b[0m\u001b[0msw\u001b[0m\u001b[0;34m)\u001b[0m\u001b[0;34m\u001b[0m\u001b[0;34m\u001b[0m\u001b[0m\n\u001b[0;32m----> 6\u001b[0;31m     \u001b[0mlem_w\u001b[0m \u001b[0;34m=\u001b[0m \u001b[0mlemma_fct\u001b[0m\u001b[0;34m(\u001b[0m\u001b[0mlw\u001b[0m\u001b[0;34m)\u001b[0m\u001b[0;34m\u001b[0m\u001b[0;34m\u001b[0m\u001b[0m\n\u001b[0m\u001b[1;32m      7\u001b[0m     \u001b[0mtransf_desc_text\u001b[0m \u001b[0;34m=\u001b[0m \u001b[0;34m' '\u001b[0m\u001b[0;34m.\u001b[0m\u001b[0mjoin\u001b[0m\u001b[0;34m(\u001b[0m\u001b[0mlem_w\u001b[0m\u001b[0;34m)\u001b[0m\u001b[0;34m\u001b[0m\u001b[0;34m\u001b[0m\u001b[0m\n\u001b[1;32m      8\u001b[0m     \u001b[0;32mreturn\u001b[0m \u001b[0mtransf_desc_text\u001b[0m\u001b[0;34m\u001b[0m\u001b[0;34m\u001b[0m\u001b[0m\n",
      "\u001b[0;32m/tmp/ipykernel_1594/4013451294.py\u001b[0m in \u001b[0;36mlemma_fct\u001b[0;34m(list_words)\u001b[0m\n\u001b[1;32m      4\u001b[0m \u001b[0;32mdef\u001b[0m \u001b[0mlemma_fct\u001b[0m\u001b[0;34m(\u001b[0m\u001b[0mlist_words\u001b[0m\u001b[0;34m)\u001b[0m \u001b[0;34m:\u001b[0m\u001b[0;34m\u001b[0m\u001b[0;34m\u001b[0m\u001b[0m\n\u001b[1;32m      5\u001b[0m     \u001b[0mlemmatizer\u001b[0m \u001b[0;34m=\u001b[0m \u001b[0mWordNetLemmatizer\u001b[0m\u001b[0;34m(\u001b[0m\u001b[0;34m)\u001b[0m\u001b[0;34m\u001b[0m\u001b[0;34m\u001b[0m\u001b[0m\n\u001b[0;32m----> 6\u001b[0;31m     \u001b[0mlem_w\u001b[0m \u001b[0;34m=\u001b[0m \u001b[0;34m[\u001b[0m\u001b[0mlemmatizer\u001b[0m\u001b[0;34m.\u001b[0m\u001b[0mlemmatize\u001b[0m\u001b[0;34m(\u001b[0m\u001b[0mw\u001b[0m\u001b[0;34m)\u001b[0m \u001b[0;32mfor\u001b[0m \u001b[0mw\u001b[0m \u001b[0;32min\u001b[0m \u001b[0mlist_words\u001b[0m\u001b[0;34m]\u001b[0m\u001b[0;34m\u001b[0m\u001b[0;34m\u001b[0m\u001b[0m\n\u001b[0m\u001b[1;32m      7\u001b[0m     \u001b[0;32mreturn\u001b[0m \u001b[0mlem_w\u001b[0m\u001b[0;34m\u001b[0m\u001b[0;34m\u001b[0m\u001b[0m\n",
      "\u001b[0;32m/tmp/ipykernel_1594/4013451294.py\u001b[0m in \u001b[0;36m<listcomp>\u001b[0;34m(.0)\u001b[0m\n\u001b[1;32m      4\u001b[0m \u001b[0;32mdef\u001b[0m \u001b[0mlemma_fct\u001b[0m\u001b[0;34m(\u001b[0m\u001b[0mlist_words\u001b[0m\u001b[0;34m)\u001b[0m \u001b[0;34m:\u001b[0m\u001b[0;34m\u001b[0m\u001b[0;34m\u001b[0m\u001b[0m\n\u001b[1;32m      5\u001b[0m     \u001b[0mlemmatizer\u001b[0m \u001b[0;34m=\u001b[0m \u001b[0mWordNetLemmatizer\u001b[0m\u001b[0;34m(\u001b[0m\u001b[0;34m)\u001b[0m\u001b[0;34m\u001b[0m\u001b[0;34m\u001b[0m\u001b[0m\n\u001b[0;32m----> 6\u001b[0;31m     \u001b[0mlem_w\u001b[0m \u001b[0;34m=\u001b[0m \u001b[0;34m[\u001b[0m\u001b[0mlemmatizer\u001b[0m\u001b[0;34m.\u001b[0m\u001b[0mlemmatize\u001b[0m\u001b[0;34m(\u001b[0m\u001b[0mw\u001b[0m\u001b[0;34m)\u001b[0m \u001b[0;32mfor\u001b[0m \u001b[0mw\u001b[0m \u001b[0;32min\u001b[0m \u001b[0mlist_words\u001b[0m\u001b[0;34m]\u001b[0m\u001b[0;34m\u001b[0m\u001b[0;34m\u001b[0m\u001b[0m\n\u001b[0m\u001b[1;32m      7\u001b[0m     \u001b[0;32mreturn\u001b[0m \u001b[0mlem_w\u001b[0m\u001b[0;34m\u001b[0m\u001b[0;34m\u001b[0m\u001b[0m\n",
      "\u001b[0;32m~/.pyenv/versions/3.8.12/envs/lewagon/lib/python3.8/site-packages/nltk/stem/wordnet.py\u001b[0m in \u001b[0;36mlemmatize\u001b[0;34m(self, word, pos)\u001b[0m\n\u001b[1;32m     43\u001b[0m         \u001b[0;34m:\u001b[0m\u001b[0;32mreturn\u001b[0m\u001b[0;34m:\u001b[0m \u001b[0mThe\u001b[0m \u001b[0mlemma\u001b[0m \u001b[0mof\u001b[0m\u001b[0;31m \u001b[0m\u001b[0;31m`\u001b[0m\u001b[0mword\u001b[0m\u001b[0;31m`\u001b[0m\u001b[0;34m,\u001b[0m \u001b[0;32mfor\u001b[0m \u001b[0mthe\u001b[0m \u001b[0mgiven\u001b[0m\u001b[0;31m \u001b[0m\u001b[0;31m`\u001b[0m\u001b[0mpos\u001b[0m\u001b[0;31m`\u001b[0m\u001b[0;34m.\u001b[0m\u001b[0;34m\u001b[0m\u001b[0;34m\u001b[0m\u001b[0m\n\u001b[1;32m     44\u001b[0m         \"\"\"\n\u001b[0;32m---> 45\u001b[0;31m         \u001b[0mlemmas\u001b[0m \u001b[0;34m=\u001b[0m \u001b[0mwn\u001b[0m\u001b[0;34m.\u001b[0m\u001b[0m_morphy\u001b[0m\u001b[0;34m(\u001b[0m\u001b[0mword\u001b[0m\u001b[0;34m,\u001b[0m \u001b[0mpos\u001b[0m\u001b[0;34m)\u001b[0m\u001b[0;34m\u001b[0m\u001b[0;34m\u001b[0m\u001b[0m\n\u001b[0m\u001b[1;32m     46\u001b[0m         \u001b[0;32mreturn\u001b[0m \u001b[0mmin\u001b[0m\u001b[0;34m(\u001b[0m\u001b[0mlemmas\u001b[0m\u001b[0;34m,\u001b[0m \u001b[0mkey\u001b[0m\u001b[0;34m=\u001b[0m\u001b[0mlen\u001b[0m\u001b[0;34m)\u001b[0m \u001b[0;32mif\u001b[0m \u001b[0mlemmas\u001b[0m \u001b[0;32melse\u001b[0m \u001b[0mword\u001b[0m\u001b[0;34m\u001b[0m\u001b[0;34m\u001b[0m\u001b[0m\n\u001b[1;32m     47\u001b[0m \u001b[0;34m\u001b[0m\u001b[0m\n",
      "\u001b[0;32m~/.pyenv/versions/3.8.12/envs/lewagon/lib/python3.8/site-packages/nltk/corpus/util.py\u001b[0m in \u001b[0;36m__getattr__\u001b[0;34m(self, attr)\u001b[0m\n\u001b[1;32m    119\u001b[0m             \u001b[0;32mraise\u001b[0m \u001b[0mAttributeError\u001b[0m\u001b[0;34m(\u001b[0m\u001b[0;34m\"LazyCorpusLoader object has no attribute '__bases__'\"\u001b[0m\u001b[0;34m)\u001b[0m\u001b[0;34m\u001b[0m\u001b[0;34m\u001b[0m\u001b[0m\n\u001b[1;32m    120\u001b[0m \u001b[0;34m\u001b[0m\u001b[0m\n\u001b[0;32m--> 121\u001b[0;31m         \u001b[0mself\u001b[0m\u001b[0;34m.\u001b[0m\u001b[0m__load\u001b[0m\u001b[0;34m(\u001b[0m\u001b[0;34m)\u001b[0m\u001b[0;34m\u001b[0m\u001b[0;34m\u001b[0m\u001b[0m\n\u001b[0m\u001b[1;32m    122\u001b[0m         \u001b[0;31m# This looks circular, but its not, since __load() changes our\u001b[0m\u001b[0;34m\u001b[0m\u001b[0;34m\u001b[0m\u001b[0;34m\u001b[0m\u001b[0m\n\u001b[1;32m    123\u001b[0m         \u001b[0;31m# __class__ to something new:\u001b[0m\u001b[0;34m\u001b[0m\u001b[0;34m\u001b[0m\u001b[0;34m\u001b[0m\u001b[0m\n",
      "\u001b[0;32m~/.pyenv/versions/3.8.12/envs/lewagon/lib/python3.8/site-packages/nltk/corpus/util.py\u001b[0m in \u001b[0;36m__load\u001b[0;34m(self)\u001b[0m\n\u001b[1;32m     87\u001b[0m \u001b[0;34m\u001b[0m\u001b[0m\n\u001b[1;32m     88\u001b[0m         \u001b[0;31m# Load the corpus.\u001b[0m\u001b[0;34m\u001b[0m\u001b[0;34m\u001b[0m\u001b[0;34m\u001b[0m\u001b[0m\n\u001b[0;32m---> 89\u001b[0;31m         \u001b[0mcorpus\u001b[0m \u001b[0;34m=\u001b[0m \u001b[0mself\u001b[0m\u001b[0;34m.\u001b[0m\u001b[0m__reader_cls\u001b[0m\u001b[0;34m(\u001b[0m\u001b[0mroot\u001b[0m\u001b[0;34m,\u001b[0m \u001b[0;34m*\u001b[0m\u001b[0mself\u001b[0m\u001b[0;34m.\u001b[0m\u001b[0m__args\u001b[0m\u001b[0;34m,\u001b[0m \u001b[0;34m**\u001b[0m\u001b[0mself\u001b[0m\u001b[0;34m.\u001b[0m\u001b[0m__kwargs\u001b[0m\u001b[0;34m)\u001b[0m\u001b[0;34m\u001b[0m\u001b[0;34m\u001b[0m\u001b[0m\n\u001b[0m\u001b[1;32m     90\u001b[0m \u001b[0;34m\u001b[0m\u001b[0m\n\u001b[1;32m     91\u001b[0m         \u001b[0;31m# This is where the magic happens!  Transform ourselves into\u001b[0m\u001b[0;34m\u001b[0m\u001b[0;34m\u001b[0m\u001b[0;34m\u001b[0m\u001b[0m\n",
      "\u001b[0;32m~/.pyenv/versions/3.8.12/envs/lewagon/lib/python3.8/site-packages/nltk/corpus/reader/wordnet.py\u001b[0m in \u001b[0;36m__init__\u001b[0;34m(self, root, omw_reader)\u001b[0m\n\u001b[1;32m   1174\u001b[0m             )\n\u001b[1;32m   1175\u001b[0m         \u001b[0;32melse\u001b[0m\u001b[0;34m:\u001b[0m\u001b[0;34m\u001b[0m\u001b[0;34m\u001b[0m\u001b[0m\n\u001b[0;32m-> 1176\u001b[0;31m             \u001b[0mself\u001b[0m\u001b[0;34m.\u001b[0m\u001b[0mprovenances\u001b[0m \u001b[0;34m=\u001b[0m \u001b[0mself\u001b[0m\u001b[0;34m.\u001b[0m\u001b[0momw_prov\u001b[0m\u001b[0;34m(\u001b[0m\u001b[0;34m)\u001b[0m\u001b[0;34m\u001b[0m\u001b[0;34m\u001b[0m\u001b[0m\n\u001b[0m\u001b[1;32m   1177\u001b[0m \u001b[0;34m\u001b[0m\u001b[0m\n\u001b[1;32m   1178\u001b[0m         \u001b[0;31m# A cache to store the wordnet data of multiple languages\u001b[0m\u001b[0;34m\u001b[0m\u001b[0;34m\u001b[0m\u001b[0;34m\u001b[0m\u001b[0m\n",
      "\u001b[0;32m~/.pyenv/versions/3.8.12/envs/lewagon/lib/python3.8/site-packages/nltk/corpus/reader/wordnet.py\u001b[0m in \u001b[0;36momw_prov\u001b[0;34m(self)\u001b[0m\n\u001b[1;32m   1283\u001b[0m         \u001b[0mprovdict\u001b[0m \u001b[0;34m=\u001b[0m \u001b[0;34m{\u001b[0m\u001b[0;34m}\u001b[0m\u001b[0;34m\u001b[0m\u001b[0;34m\u001b[0m\u001b[0m\n\u001b[1;32m   1284\u001b[0m         \u001b[0mprovdict\u001b[0m\u001b[0;34m[\u001b[0m\u001b[0;34m\"eng\"\u001b[0m\u001b[0;34m]\u001b[0m \u001b[0;34m=\u001b[0m \u001b[0;34m\"\"\u001b[0m\u001b[0;34m\u001b[0m\u001b[0;34m\u001b[0m\u001b[0m\n\u001b[0;32m-> 1285\u001b[0;31m         \u001b[0mfileids\u001b[0m \u001b[0;34m=\u001b[0m \u001b[0mself\u001b[0m\u001b[0;34m.\u001b[0m\u001b[0m_omw_reader\u001b[0m\u001b[0;34m.\u001b[0m\u001b[0mfileids\u001b[0m\u001b[0;34m(\u001b[0m\u001b[0;34m)\u001b[0m\u001b[0;34m\u001b[0m\u001b[0;34m\u001b[0m\u001b[0m\n\u001b[0m\u001b[1;32m   1286\u001b[0m         \u001b[0;32mfor\u001b[0m \u001b[0mfileid\u001b[0m \u001b[0;32min\u001b[0m \u001b[0mfileids\u001b[0m\u001b[0;34m:\u001b[0m\u001b[0;34m\u001b[0m\u001b[0;34m\u001b[0m\u001b[0m\n\u001b[1;32m   1287\u001b[0m             \u001b[0mprov\u001b[0m\u001b[0;34m,\u001b[0m \u001b[0mlangfile\u001b[0m \u001b[0;34m=\u001b[0m \u001b[0mos\u001b[0m\u001b[0;34m.\u001b[0m\u001b[0mpath\u001b[0m\u001b[0;34m.\u001b[0m\u001b[0msplit\u001b[0m\u001b[0;34m(\u001b[0m\u001b[0mfileid\u001b[0m\u001b[0;34m)\u001b[0m\u001b[0;34m\u001b[0m\u001b[0;34m\u001b[0m\u001b[0m\n",
      "\u001b[0;32m~/.pyenv/versions/3.8.12/envs/lewagon/lib/python3.8/site-packages/nltk/corpus/util.py\u001b[0m in \u001b[0;36m__getattr__\u001b[0;34m(self, attr)\u001b[0m\n\u001b[1;32m    119\u001b[0m             \u001b[0;32mraise\u001b[0m \u001b[0mAttributeError\u001b[0m\u001b[0;34m(\u001b[0m\u001b[0;34m\"LazyCorpusLoader object has no attribute '__bases__'\"\u001b[0m\u001b[0;34m)\u001b[0m\u001b[0;34m\u001b[0m\u001b[0;34m\u001b[0m\u001b[0m\n\u001b[1;32m    120\u001b[0m \u001b[0;34m\u001b[0m\u001b[0m\n\u001b[0;32m--> 121\u001b[0;31m         \u001b[0mself\u001b[0m\u001b[0;34m.\u001b[0m\u001b[0m__load\u001b[0m\u001b[0;34m(\u001b[0m\u001b[0;34m)\u001b[0m\u001b[0;34m\u001b[0m\u001b[0;34m\u001b[0m\u001b[0m\n\u001b[0m\u001b[1;32m    122\u001b[0m         \u001b[0;31m# This looks circular, but its not, since __load() changes our\u001b[0m\u001b[0;34m\u001b[0m\u001b[0;34m\u001b[0m\u001b[0;34m\u001b[0m\u001b[0m\n\u001b[1;32m    123\u001b[0m         \u001b[0;31m# __class__ to something new:\u001b[0m\u001b[0;34m\u001b[0m\u001b[0;34m\u001b[0m\u001b[0;34m\u001b[0m\u001b[0m\n",
      "\u001b[0;32m~/.pyenv/versions/3.8.12/envs/lewagon/lib/python3.8/site-packages/nltk/corpus/util.py\u001b[0m in \u001b[0;36m__load\u001b[0;34m(self)\u001b[0m\n\u001b[1;32m     79\u001b[0m         \u001b[0;32melse\u001b[0m\u001b[0;34m:\u001b[0m\u001b[0;34m\u001b[0m\u001b[0;34m\u001b[0m\u001b[0m\n\u001b[1;32m     80\u001b[0m             \u001b[0;32mtry\u001b[0m\u001b[0;34m:\u001b[0m\u001b[0;34m\u001b[0m\u001b[0;34m\u001b[0m\u001b[0m\n\u001b[0;32m---> 81\u001b[0;31m                 \u001b[0mroot\u001b[0m \u001b[0;34m=\u001b[0m \u001b[0mnltk\u001b[0m\u001b[0;34m.\u001b[0m\u001b[0mdata\u001b[0m\u001b[0;34m.\u001b[0m\u001b[0mfind\u001b[0m\u001b[0;34m(\u001b[0m\u001b[0;34mf\"{self.subdir}/{self.__name}\"\u001b[0m\u001b[0;34m)\u001b[0m\u001b[0;34m\u001b[0m\u001b[0;34m\u001b[0m\u001b[0m\n\u001b[0m\u001b[1;32m     82\u001b[0m             \u001b[0;32mexcept\u001b[0m \u001b[0mLookupError\u001b[0m \u001b[0;32mas\u001b[0m \u001b[0me\u001b[0m\u001b[0;34m:\u001b[0m\u001b[0;34m\u001b[0m\u001b[0;34m\u001b[0m\u001b[0m\n\u001b[1;32m     83\u001b[0m                 \u001b[0;32mtry\u001b[0m\u001b[0;34m:\u001b[0m\u001b[0;34m\u001b[0m\u001b[0;34m\u001b[0m\u001b[0m\n",
      "\u001b[0;32m~/.pyenv/versions/3.8.12/envs/lewagon/lib/python3.8/site-packages/nltk/data.py\u001b[0m in \u001b[0;36mfind\u001b[0;34m(resource_name, paths)\u001b[0m\n\u001b[1;32m    553\u001b[0m             \u001b[0mmodified_name\u001b[0m \u001b[0;34m=\u001b[0m \u001b[0;34m\"/\"\u001b[0m\u001b[0;34m.\u001b[0m\u001b[0mjoin\u001b[0m\u001b[0;34m(\u001b[0m\u001b[0mpieces\u001b[0m\u001b[0;34m[\u001b[0m\u001b[0;34m:\u001b[0m\u001b[0mi\u001b[0m\u001b[0;34m]\u001b[0m \u001b[0;34m+\u001b[0m \u001b[0;34m[\u001b[0m\u001b[0mpieces\u001b[0m\u001b[0;34m[\u001b[0m\u001b[0mi\u001b[0m\u001b[0;34m]\u001b[0m \u001b[0;34m+\u001b[0m \u001b[0;34m\".zip\"\u001b[0m\u001b[0;34m]\u001b[0m \u001b[0;34m+\u001b[0m \u001b[0mpieces\u001b[0m\u001b[0;34m[\u001b[0m\u001b[0mi\u001b[0m\u001b[0;34m:\u001b[0m\u001b[0;34m]\u001b[0m\u001b[0;34m)\u001b[0m\u001b[0;34m\u001b[0m\u001b[0;34m\u001b[0m\u001b[0m\n\u001b[1;32m    554\u001b[0m             \u001b[0;32mtry\u001b[0m\u001b[0;34m:\u001b[0m\u001b[0;34m\u001b[0m\u001b[0;34m\u001b[0m\u001b[0m\n\u001b[0;32m--> 555\u001b[0;31m                 \u001b[0;32mreturn\u001b[0m \u001b[0mfind\u001b[0m\u001b[0;34m(\u001b[0m\u001b[0mmodified_name\u001b[0m\u001b[0;34m,\u001b[0m \u001b[0mpaths\u001b[0m\u001b[0;34m)\u001b[0m\u001b[0;34m\u001b[0m\u001b[0;34m\u001b[0m\u001b[0m\n\u001b[0m\u001b[1;32m    556\u001b[0m             \u001b[0;32mexcept\u001b[0m \u001b[0mLookupError\u001b[0m\u001b[0;34m:\u001b[0m\u001b[0;34m\u001b[0m\u001b[0;34m\u001b[0m\u001b[0m\n\u001b[1;32m    557\u001b[0m                 \u001b[0;32mpass\u001b[0m\u001b[0;34m\u001b[0m\u001b[0;34m\u001b[0m\u001b[0m\n",
      "\u001b[0;32m~/.pyenv/versions/3.8.12/envs/lewagon/lib/python3.8/site-packages/nltk/data.py\u001b[0m in \u001b[0;36mfind\u001b[0;34m(resource_name, paths)\u001b[0m\n\u001b[1;32m    540\u001b[0m                 \u001b[0;32mif\u001b[0m \u001b[0mos\u001b[0m\u001b[0;34m.\u001b[0m\u001b[0mpath\u001b[0m\u001b[0;34m.\u001b[0m\u001b[0mexists\u001b[0m\u001b[0;34m(\u001b[0m\u001b[0mp\u001b[0m\u001b[0;34m)\u001b[0m\u001b[0;34m:\u001b[0m\u001b[0;34m\u001b[0m\u001b[0;34m\u001b[0m\u001b[0m\n\u001b[1;32m    541\u001b[0m                     \u001b[0;32mtry\u001b[0m\u001b[0;34m:\u001b[0m\u001b[0;34m\u001b[0m\u001b[0;34m\u001b[0m\u001b[0m\n\u001b[0;32m--> 542\u001b[0;31m                         \u001b[0;32mreturn\u001b[0m \u001b[0mZipFilePathPointer\u001b[0m\u001b[0;34m(\u001b[0m\u001b[0mp\u001b[0m\u001b[0;34m,\u001b[0m \u001b[0mzipentry\u001b[0m\u001b[0;34m)\u001b[0m\u001b[0;34m\u001b[0m\u001b[0;34m\u001b[0m\u001b[0m\n\u001b[0m\u001b[1;32m    543\u001b[0m                     \u001b[0;32mexcept\u001b[0m \u001b[0mOSError\u001b[0m\u001b[0;34m:\u001b[0m\u001b[0;34m\u001b[0m\u001b[0;34m\u001b[0m\u001b[0m\n\u001b[1;32m    544\u001b[0m                         \u001b[0;31m# resource not in zipfile\u001b[0m\u001b[0;34m\u001b[0m\u001b[0;34m\u001b[0m\u001b[0;34m\u001b[0m\u001b[0m\n",
      "\u001b[0;32m~/.pyenv/versions/3.8.12/envs/lewagon/lib/python3.8/site-packages/nltk/compat.py\u001b[0m in \u001b[0;36m_decorator\u001b[0;34m(*args, **kwargs)\u001b[0m\n\u001b[1;32m     39\u001b[0m     \u001b[0;32mdef\u001b[0m \u001b[0m_decorator\u001b[0m\u001b[0;34m(\u001b[0m\u001b[0;34m*\u001b[0m\u001b[0margs\u001b[0m\u001b[0;34m,\u001b[0m \u001b[0;34m**\u001b[0m\u001b[0mkwargs\u001b[0m\u001b[0;34m)\u001b[0m\u001b[0;34m:\u001b[0m\u001b[0;34m\u001b[0m\u001b[0;34m\u001b[0m\u001b[0m\n\u001b[1;32m     40\u001b[0m         \u001b[0margs\u001b[0m \u001b[0;34m=\u001b[0m \u001b[0;34m(\u001b[0m\u001b[0margs\u001b[0m\u001b[0;34m[\u001b[0m\u001b[0;36m0\u001b[0m\u001b[0;34m]\u001b[0m\u001b[0;34m,\u001b[0m \u001b[0madd_py3_data\u001b[0m\u001b[0;34m(\u001b[0m\u001b[0margs\u001b[0m\u001b[0;34m[\u001b[0m\u001b[0;36m1\u001b[0m\u001b[0;34m]\u001b[0m\u001b[0;34m)\u001b[0m\u001b[0;34m)\u001b[0m \u001b[0;34m+\u001b[0m \u001b[0margs\u001b[0m\u001b[0;34m[\u001b[0m\u001b[0;36m2\u001b[0m\u001b[0;34m:\u001b[0m\u001b[0;34m]\u001b[0m\u001b[0;34m\u001b[0m\u001b[0;34m\u001b[0m\u001b[0m\n\u001b[0;32m---> 41\u001b[0;31m         \u001b[0;32mreturn\u001b[0m \u001b[0minit_func\u001b[0m\u001b[0;34m(\u001b[0m\u001b[0;34m*\u001b[0m\u001b[0margs\u001b[0m\u001b[0;34m,\u001b[0m \u001b[0;34m**\u001b[0m\u001b[0mkwargs\u001b[0m\u001b[0;34m)\u001b[0m\u001b[0;34m\u001b[0m\u001b[0;34m\u001b[0m\u001b[0m\n\u001b[0m\u001b[1;32m     42\u001b[0m \u001b[0;34m\u001b[0m\u001b[0m\n\u001b[1;32m     43\u001b[0m     \u001b[0;32mreturn\u001b[0m \u001b[0mwraps\u001b[0m\u001b[0;34m(\u001b[0m\u001b[0minit_func\u001b[0m\u001b[0;34m)\u001b[0m\u001b[0;34m(\u001b[0m\u001b[0m_decorator\u001b[0m\u001b[0;34m)\u001b[0m\u001b[0;34m\u001b[0m\u001b[0;34m\u001b[0m\u001b[0m\n",
      "\u001b[0;32m~/.pyenv/versions/3.8.12/envs/lewagon/lib/python3.8/site-packages/nltk/data.py\u001b[0m in \u001b[0;36m__init__\u001b[0;34m(self, zipfile, entry)\u001b[0m\n\u001b[1;32m    392\u001b[0m         \"\"\"\n\u001b[1;32m    393\u001b[0m         \u001b[0;32mif\u001b[0m \u001b[0misinstance\u001b[0m\u001b[0;34m(\u001b[0m\u001b[0mzipfile\u001b[0m\u001b[0;34m,\u001b[0m \u001b[0mstr\u001b[0m\u001b[0;34m)\u001b[0m\u001b[0;34m:\u001b[0m\u001b[0;34m\u001b[0m\u001b[0;34m\u001b[0m\u001b[0m\n\u001b[0;32m--> 394\u001b[0;31m             \u001b[0mzipfile\u001b[0m \u001b[0;34m=\u001b[0m \u001b[0mOpenOnDemandZipFile\u001b[0m\u001b[0;34m(\u001b[0m\u001b[0mos\u001b[0m\u001b[0;34m.\u001b[0m\u001b[0mpath\u001b[0m\u001b[0;34m.\u001b[0m\u001b[0mabspath\u001b[0m\u001b[0;34m(\u001b[0m\u001b[0mzipfile\u001b[0m\u001b[0;34m)\u001b[0m\u001b[0;34m)\u001b[0m\u001b[0;34m\u001b[0m\u001b[0;34m\u001b[0m\u001b[0m\n\u001b[0m\u001b[1;32m    395\u001b[0m \u001b[0;34m\u001b[0m\u001b[0m\n\u001b[1;32m    396\u001b[0m         \u001b[0;31m# Check that the entry exists:\u001b[0m\u001b[0;34m\u001b[0m\u001b[0;34m\u001b[0m\u001b[0;34m\u001b[0m\u001b[0m\n",
      "\u001b[0;32m~/.pyenv/versions/3.8.12/envs/lewagon/lib/python3.8/site-packages/nltk/compat.py\u001b[0m in \u001b[0;36m_decorator\u001b[0;34m(*args, **kwargs)\u001b[0m\n\u001b[1;32m     39\u001b[0m     \u001b[0;32mdef\u001b[0m \u001b[0m_decorator\u001b[0m\u001b[0;34m(\u001b[0m\u001b[0;34m*\u001b[0m\u001b[0margs\u001b[0m\u001b[0;34m,\u001b[0m \u001b[0;34m**\u001b[0m\u001b[0mkwargs\u001b[0m\u001b[0;34m)\u001b[0m\u001b[0;34m:\u001b[0m\u001b[0;34m\u001b[0m\u001b[0;34m\u001b[0m\u001b[0m\n\u001b[1;32m     40\u001b[0m         \u001b[0margs\u001b[0m \u001b[0;34m=\u001b[0m \u001b[0;34m(\u001b[0m\u001b[0margs\u001b[0m\u001b[0;34m[\u001b[0m\u001b[0;36m0\u001b[0m\u001b[0;34m]\u001b[0m\u001b[0;34m,\u001b[0m \u001b[0madd_py3_data\u001b[0m\u001b[0;34m(\u001b[0m\u001b[0margs\u001b[0m\u001b[0;34m[\u001b[0m\u001b[0;36m1\u001b[0m\u001b[0;34m]\u001b[0m\u001b[0;34m)\u001b[0m\u001b[0;34m)\u001b[0m \u001b[0;34m+\u001b[0m \u001b[0margs\u001b[0m\u001b[0;34m[\u001b[0m\u001b[0;36m2\u001b[0m\u001b[0;34m:\u001b[0m\u001b[0;34m]\u001b[0m\u001b[0;34m\u001b[0m\u001b[0;34m\u001b[0m\u001b[0m\n\u001b[0;32m---> 41\u001b[0;31m         \u001b[0;32mreturn\u001b[0m \u001b[0minit_func\u001b[0m\u001b[0;34m(\u001b[0m\u001b[0;34m*\u001b[0m\u001b[0margs\u001b[0m\u001b[0;34m,\u001b[0m \u001b[0;34m**\u001b[0m\u001b[0mkwargs\u001b[0m\u001b[0;34m)\u001b[0m\u001b[0;34m\u001b[0m\u001b[0;34m\u001b[0m\u001b[0m\n\u001b[0m\u001b[1;32m     42\u001b[0m \u001b[0;34m\u001b[0m\u001b[0m\n\u001b[1;32m     43\u001b[0m     \u001b[0;32mreturn\u001b[0m \u001b[0mwraps\u001b[0m\u001b[0;34m(\u001b[0m\u001b[0minit_func\u001b[0m\u001b[0;34m)\u001b[0m\u001b[0;34m(\u001b[0m\u001b[0m_decorator\u001b[0m\u001b[0;34m)\u001b[0m\u001b[0;34m\u001b[0m\u001b[0;34m\u001b[0m\u001b[0m\n",
      "\u001b[0;32m~/.pyenv/versions/3.8.12/envs/lewagon/lib/python3.8/site-packages/nltk/data.py\u001b[0m in \u001b[0;36m__init__\u001b[0;34m(self, filename)\u001b[0m\n\u001b[1;32m    933\u001b[0m         \u001b[0;32mif\u001b[0m \u001b[0;32mnot\u001b[0m \u001b[0misinstance\u001b[0m\u001b[0;34m(\u001b[0m\u001b[0mfilename\u001b[0m\u001b[0;34m,\u001b[0m \u001b[0mstr\u001b[0m\u001b[0;34m)\u001b[0m\u001b[0;34m:\u001b[0m\u001b[0;34m\u001b[0m\u001b[0;34m\u001b[0m\u001b[0m\n\u001b[1;32m    934\u001b[0m             \u001b[0;32mraise\u001b[0m \u001b[0mTypeError\u001b[0m\u001b[0;34m(\u001b[0m\u001b[0;34m\"ReopenableZipFile filename must be a string\"\u001b[0m\u001b[0;34m)\u001b[0m\u001b[0;34m\u001b[0m\u001b[0;34m\u001b[0m\u001b[0m\n\u001b[0;32m--> 935\u001b[0;31m         \u001b[0mzipfile\u001b[0m\u001b[0;34m.\u001b[0m\u001b[0mZipFile\u001b[0m\u001b[0;34m.\u001b[0m\u001b[0m__init__\u001b[0m\u001b[0;34m(\u001b[0m\u001b[0mself\u001b[0m\u001b[0;34m,\u001b[0m \u001b[0mfilename\u001b[0m\u001b[0;34m)\u001b[0m\u001b[0;34m\u001b[0m\u001b[0;34m\u001b[0m\u001b[0m\n\u001b[0m\u001b[1;32m    936\u001b[0m         \u001b[0;32massert\u001b[0m \u001b[0mself\u001b[0m\u001b[0;34m.\u001b[0m\u001b[0mfilename\u001b[0m \u001b[0;34m==\u001b[0m \u001b[0mfilename\u001b[0m\u001b[0;34m\u001b[0m\u001b[0;34m\u001b[0m\u001b[0m\n\u001b[1;32m    937\u001b[0m         \u001b[0mself\u001b[0m\u001b[0;34m.\u001b[0m\u001b[0mclose\u001b[0m\u001b[0;34m(\u001b[0m\u001b[0;34m)\u001b[0m\u001b[0;34m\u001b[0m\u001b[0;34m\u001b[0m\u001b[0m\n",
      "\u001b[0;32m~/.pyenv/versions/3.8.12/lib/python3.8/zipfile.py\u001b[0m in \u001b[0;36m__init__\u001b[0;34m(self, file, mode, compression, allowZip64, compresslevel, strict_timestamps)\u001b[0m\n\u001b[1;32m   1267\u001b[0m         \u001b[0;32mtry\u001b[0m\u001b[0;34m:\u001b[0m\u001b[0;34m\u001b[0m\u001b[0;34m\u001b[0m\u001b[0m\n\u001b[1;32m   1268\u001b[0m             \u001b[0;32mif\u001b[0m \u001b[0mmode\u001b[0m \u001b[0;34m==\u001b[0m \u001b[0;34m'r'\u001b[0m\u001b[0;34m:\u001b[0m\u001b[0;34m\u001b[0m\u001b[0;34m\u001b[0m\u001b[0m\n\u001b[0;32m-> 1269\u001b[0;31m                 \u001b[0mself\u001b[0m\u001b[0;34m.\u001b[0m\u001b[0m_RealGetContents\u001b[0m\u001b[0;34m(\u001b[0m\u001b[0;34m)\u001b[0m\u001b[0;34m\u001b[0m\u001b[0;34m\u001b[0m\u001b[0m\n\u001b[0m\u001b[1;32m   1270\u001b[0m             \u001b[0;32melif\u001b[0m \u001b[0mmode\u001b[0m \u001b[0;32min\u001b[0m \u001b[0;34m(\u001b[0m\u001b[0;34m'w'\u001b[0m\u001b[0;34m,\u001b[0m \u001b[0;34m'x'\u001b[0m\u001b[0;34m)\u001b[0m\u001b[0;34m:\u001b[0m\u001b[0;34m\u001b[0m\u001b[0;34m\u001b[0m\u001b[0m\n\u001b[1;32m   1271\u001b[0m                 \u001b[0;31m# set the modified flag so central directory gets written\u001b[0m\u001b[0;34m\u001b[0m\u001b[0;34m\u001b[0m\u001b[0;34m\u001b[0m\u001b[0m\n",
      "\u001b[0;32m~/.pyenv/versions/3.8.12/lib/python3.8/zipfile.py\u001b[0m in \u001b[0;36m_RealGetContents\u001b[0;34m(self)\u001b[0m\n\u001b[1;32m   1334\u001b[0m             \u001b[0;32mraise\u001b[0m \u001b[0mBadZipFile\u001b[0m\u001b[0;34m(\u001b[0m\u001b[0;34m\"File is not a zip file\"\u001b[0m\u001b[0;34m)\u001b[0m\u001b[0;34m\u001b[0m\u001b[0;34m\u001b[0m\u001b[0m\n\u001b[1;32m   1335\u001b[0m         \u001b[0;32mif\u001b[0m \u001b[0;32mnot\u001b[0m \u001b[0mendrec\u001b[0m\u001b[0;34m:\u001b[0m\u001b[0;34m\u001b[0m\u001b[0;34m\u001b[0m\u001b[0m\n\u001b[0;32m-> 1336\u001b[0;31m             \u001b[0;32mraise\u001b[0m \u001b[0mBadZipFile\u001b[0m\u001b[0;34m(\u001b[0m\u001b[0;34m\"File is not a zip file\"\u001b[0m\u001b[0;34m)\u001b[0m\u001b[0;34m\u001b[0m\u001b[0;34m\u001b[0m\u001b[0m\n\u001b[0m\u001b[1;32m   1337\u001b[0m         \u001b[0;32mif\u001b[0m \u001b[0mself\u001b[0m\u001b[0;34m.\u001b[0m\u001b[0mdebug\u001b[0m \u001b[0;34m>\u001b[0m \u001b[0;36m1\u001b[0m\u001b[0;34m:\u001b[0m\u001b[0;34m\u001b[0m\u001b[0;34m\u001b[0m\u001b[0m\n\u001b[1;32m   1338\u001b[0m             \u001b[0mprint\u001b[0m\u001b[0;34m(\u001b[0m\u001b[0mendrec\u001b[0m\u001b[0;34m)\u001b[0m\u001b[0;34m\u001b[0m\u001b[0;34m\u001b[0m\u001b[0m\n",
      "\u001b[0;31mBadZipFile\u001b[0m: File is not a zip file"
     ]
    }
   ],
   "source": [
    "df['sentence_bow_lem'] = df['Body'].apply(lambda x : transform_bow_lem_fct(x))"
   ]
  },
  {
   "cell_type": "code",
   "execution_count": null,
   "id": "de7410e7",
   "metadata": {},
   "outputs": [],
   "source": []
  },
  {
   "cell_type": "code",
   "execution_count": null,
   "id": "ca8d3839",
   "metadata": {},
   "outputs": [],
   "source": []
  },
  {
   "cell_type": "code",
   "execution_count": null,
   "id": "f1d89079",
   "metadata": {},
   "outputs": [],
   "source": []
  },
  {
   "cell_type": "code",
   "execution_count": 257,
   "id": "f6c0ff65",
   "metadata": {},
   "outputs": [
    {
     "name": "stderr",
     "output_type": "stream",
     "text": [
      "/tmp/ipykernel_1594/3986400770.py:1: SettingWithCopyWarning: \n",
      "A value is trying to be set on a copy of a slice from a DataFrame.\n",
      "Try using .loc[row_indexer,col_indexer] = value instead\n",
      "\n",
      "See the caveats in the documentation: https://pandas.pydata.org/pandas-docs/stable/user_guide/indexing.html#returning-a-view-versus-a-copy\n",
      "  df['sentence_dl'] = df['Tags'].apply(lambda x : transform_dl_fct(x))\n"
     ]
    },
    {
     "data": {
      "text/plain": [
       "(27933, 5)"
      ]
     },
     "execution_count": 257,
     "metadata": {},
     "output_type": "execute_result"
    }
   ],
   "source": [
    "df['sentence_dl'] = df['Tags'].apply(lambda x : transform_dl_fct(x))\n",
    "df.shape"
   ]
  },
  {
   "cell_type": "code",
   "execution_count": 258,
   "id": "7d49804a",
   "metadata": {},
   "outputs": [
    {
     "data": {
      "text/html": [
       "<div>\n",
       "<style scoped>\n",
       "    .dataframe tbody tr th:only-of-type {\n",
       "        vertical-align: middle;\n",
       "    }\n",
       "\n",
       "    .dataframe tbody tr th {\n",
       "        vertical-align: top;\n",
       "    }\n",
       "\n",
       "    .dataframe thead th {\n",
       "        text-align: right;\n",
       "    }\n",
       "</style>\n",
       "<table border=\"1\" class=\"dataframe\">\n",
       "  <thead>\n",
       "    <tr style=\"text-align: right;\">\n",
       "      <th></th>\n",
       "      <th>Title</th>\n",
       "      <th>Body</th>\n",
       "      <th>Tags</th>\n",
       "      <th>sentence_bow</th>\n",
       "      <th>sentence_dl</th>\n",
       "    </tr>\n",
       "  </thead>\n",
       "  <tbody>\n",
       "    <tr>\n",
       "      <th>0</th>\n",
       "      <td>Import CSV file to strongly typed data structu...</td>\n",
       "      <td>&lt;p&gt;What's the best way to import a CSV file in...</td>\n",
       "      <td>&lt;c#&gt;&lt;vb.net&gt;&lt;file&gt;&lt;csv&gt;&lt;import&gt;</td>\n",
       "      <td>import csv file strongly typed data structure ...</td>\n",
       "      <td>&lt; c &gt; &lt; vb.net &gt; &lt; file &gt; &lt; csv &gt; &lt; import &gt;</td>\n",
       "    </tr>\n",
       "    <tr>\n",
       "      <th>1</th>\n",
       "      <td>Change hash without reload in jQuery</td>\n",
       "      <td>&lt;p&gt;I have the following code:&lt;/p&gt;\\n\\n&lt;pre&gt;&lt;cod...</td>\n",
       "      <td>&lt;jquery&gt;&lt;hash&gt;&lt;reload&gt;&lt;fragment-identifier&gt;&lt;wi...</td>\n",
       "      <td>change hash without reload jquery</td>\n",
       "      <td>&lt; jquery &gt; &lt; hash &gt; &lt; reload &gt; &lt; fragment iden...</td>\n",
       "    </tr>\n",
       "    <tr>\n",
       "      <th>2</th>\n",
       "      <td>Pass by reference or pass by value?</td>\n",
       "      <td>&lt;p&gt;When learning a new programming language, o...</td>\n",
       "      <td>&lt;language-agnostic&gt;&lt;oop&gt;&lt;parameters&gt;&lt;pass-by-r...</td>\n",
       "      <td>pass reference pass value</td>\n",
       "      <td>&lt; language agnostic &gt; &lt; oop &gt; &lt; parameters &gt; &lt;...</td>\n",
       "    </tr>\n",
       "    <tr>\n",
       "      <th>3</th>\n",
       "      <td>What are MVP and MVC and what is the difference?</td>\n",
       "      <td>&lt;p&gt;When looking beyond the &lt;a href=\"https://en...</td>\n",
       "      <td>&lt;user-interface&gt;&lt;model-view-controller&gt;&lt;design...</td>\n",
       "      <td>what mvp mvc difference</td>\n",
       "      <td>&lt; user interface &gt; &lt; model view controller &gt; &lt;...</td>\n",
       "    </tr>\n",
       "    <tr>\n",
       "      <th>4</th>\n",
       "      <td>LINQ on the .NET 2.0 Runtime</td>\n",
       "      <td>&lt;p&gt;Can a LINQ enabled app run on a machine tha...</td>\n",
       "      <td>&lt;.net&gt;&lt;linq&gt;&lt;.net-3.5&gt;&lt;.net-2.0&gt;&lt;clr&gt;</td>\n",
       "      <td>linq .net 2.0 runtime</td>\n",
       "      <td>&lt; .net &gt; &lt; linq &gt; &lt; .net 3.5 &gt; &lt; .net 2.0 &gt; &lt; ...</td>\n",
       "    </tr>\n",
       "    <tr>\n",
       "      <th>...</th>\n",
       "      <td>...</td>\n",
       "      <td>...</td>\n",
       "      <td>...</td>\n",
       "      <td>...</td>\n",
       "      <td>...</td>\n",
       "    </tr>\n",
       "    <tr>\n",
       "      <th>27928</th>\n",
       "      <td>Django - Login with Email</td>\n",
       "      <td>&lt;p&gt;I want django to authenticate users via ema...</td>\n",
       "      <td>&lt;python&gt;&lt;python-3.x&gt;&lt;django&gt;&lt;django-authentica...</td>\n",
       "      <td>django login email</td>\n",
       "      <td>&lt; python &gt; &lt; python 3.x &gt; &lt; django &gt; &lt; django ...</td>\n",
       "    </tr>\n",
       "    <tr>\n",
       "      <th>27929</th>\n",
       "      <td>Is there a python equivalent for RSpec to do TDD?</td>\n",
       "      <td>&lt;p&gt;I'm looking for a test framework like Ruby'...</td>\n",
       "      <td>&lt;python&gt;&lt;ruby&gt;&lt;testing&gt;&lt;rspec&gt;&lt;tdd&gt;</td>\n",
       "      <td>python equivalent rspec tdd</td>\n",
       "      <td>&lt; python &gt; &lt; ruby &gt; &lt; testing &gt; &lt; rspec &gt; &lt; tdd &gt;</td>\n",
       "    </tr>\n",
       "    <tr>\n",
       "      <th>27930</th>\n",
       "      <td>How to install GCC/G++ 8 on CentOS</td>\n",
       "      <td>&lt;p&gt;I'm used to install packages on Debian/Ubun...</td>\n",
       "      <td>&lt;gcc&gt;&lt;centos&gt;&lt;g++&gt;&lt;software-collections&gt;&lt;redha...</td>\n",
       "      <td>how install gcc centos</td>\n",
       "      <td>&lt; gcc &gt; &lt; centos &gt; &lt; g &gt; &lt; software collection...</td>\n",
       "    </tr>\n",
       "    <tr>\n",
       "      <th>27931</th>\n",
       "      <td>How to use TabLayout with ViewPager2 in Android</td>\n",
       "      <td>&lt;p&gt;I want to use &lt;code&gt;com.google.android.mate...</td>\n",
       "      <td>&lt;java&gt;&lt;android&gt;&lt;androidx&gt;&lt;android-tablayout&gt;&lt;a...</td>\n",
       "      <td>how use tablayout viewpager2 android</td>\n",
       "      <td>&lt; java &gt; &lt; android &gt; &lt; androidx &gt; &lt; android ta...</td>\n",
       "    </tr>\n",
       "    <tr>\n",
       "      <th>27932</th>\n",
       "      <td>Mystifying microbenchmark result for stream AP...</td>\n",
       "      <td>&lt;p&gt;As part of my investigation on the differen...</td>\n",
       "      <td>&lt;java&gt;&lt;java-stream&gt;&lt;benchmarking&gt;&lt;jmh&gt;&lt;java-12&gt;</td>\n",
       "      <td>mystifying microbenchmark result stream api ja...</td>\n",
       "      <td>&lt; java &gt; &lt; java stream &gt; &lt; benchmarking &gt; &lt; jm...</td>\n",
       "    </tr>\n",
       "  </tbody>\n",
       "</table>\n",
       "<p>27933 rows × 5 columns</p>\n",
       "</div>"
      ],
      "text/plain": [
       "                                                   Title  \\\n",
       "0      Import CSV file to strongly typed data structu...   \n",
       "1                   Change hash without reload in jQuery   \n",
       "2                    Pass by reference or pass by value?   \n",
       "3       What are MVP and MVC and what is the difference?   \n",
       "4                           LINQ on the .NET 2.0 Runtime   \n",
       "...                                                  ...   \n",
       "27928                          Django - Login with Email   \n",
       "27929  Is there a python equivalent for RSpec to do TDD?   \n",
       "27930                 How to install GCC/G++ 8 on CentOS   \n",
       "27931    How to use TabLayout with ViewPager2 in Android   \n",
       "27932  Mystifying microbenchmark result for stream AP...   \n",
       "\n",
       "                                                    Body  \\\n",
       "0      <p>What's the best way to import a CSV file in...   \n",
       "1      <p>I have the following code:</p>\\n\\n<pre><cod...   \n",
       "2      <p>When learning a new programming language, o...   \n",
       "3      <p>When looking beyond the <a href=\"https://en...   \n",
       "4      <p>Can a LINQ enabled app run on a machine tha...   \n",
       "...                                                  ...   \n",
       "27928  <p>I want django to authenticate users via ema...   \n",
       "27929  <p>I'm looking for a test framework like Ruby'...   \n",
       "27930  <p>I'm used to install packages on Debian/Ubun...   \n",
       "27931  <p>I want to use <code>com.google.android.mate...   \n",
       "27932  <p>As part of my investigation on the differen...   \n",
       "\n",
       "                                                    Tags  \\\n",
       "0                        <c#><vb.net><file><csv><import>   \n",
       "1      <jquery><hash><reload><fragment-identifier><wi...   \n",
       "2      <language-agnostic><oop><parameters><pass-by-r...   \n",
       "3      <user-interface><model-view-controller><design...   \n",
       "4                  <.net><linq><.net-3.5><.net-2.0><clr>   \n",
       "...                                                  ...   \n",
       "27928  <python><python-3.x><django><django-authentica...   \n",
       "27929                <python><ruby><testing><rspec><tdd>   \n",
       "27930  <gcc><centos><g++><software-collections><redha...   \n",
       "27931  <java><android><androidx><android-tablayout><a...   \n",
       "27932    <java><java-stream><benchmarking><jmh><java-12>   \n",
       "\n",
       "                                            sentence_bow  \\\n",
       "0      import csv file strongly typed data structure ...   \n",
       "1                      change hash without reload jquery   \n",
       "2                              pass reference pass value   \n",
       "3                                what mvp mvc difference   \n",
       "4                                  linq .net 2.0 runtime   \n",
       "...                                                  ...   \n",
       "27928                                 django login email   \n",
       "27929                        python equivalent rspec tdd   \n",
       "27930                             how install gcc centos   \n",
       "27931               how use tablayout viewpager2 android   \n",
       "27932  mystifying microbenchmark result stream api ja...   \n",
       "\n",
       "                                             sentence_dl  \n",
       "0           < c > < vb.net > < file > < csv > < import >  \n",
       "1      < jquery > < hash > < reload > < fragment iden...  \n",
       "2      < language agnostic > < oop > < parameters > <...  \n",
       "3      < user interface > < model view controller > <...  \n",
       "4      < .net > < linq > < .net 3.5 > < .net 2.0 > < ...  \n",
       "...                                                  ...  \n",
       "27928  < python > < python 3.x > < django > < django ...  \n",
       "27929  < python > < ruby > < testing > < rspec > < tdd >  \n",
       "27930  < gcc > < centos > < g > < software collection...  \n",
       "27931  < java > < android > < androidx > < android ta...  \n",
       "27932  < java > < java stream > < benchmarking > < jm...  \n",
       "\n",
       "[27933 rows x 5 columns]"
      ]
     },
     "execution_count": 258,
     "metadata": {},
     "output_type": "execute_result"
    }
   ],
   "source": [
    "df"
   ]
  },
  {
   "cell_type": "code",
   "execution_count": 107,
   "id": "238df4fc",
   "metadata": {},
   "outputs": [],
   "source": [
    "## Drop NaN"
   ]
  },
  {
   "cell_type": "code",
   "execution_count": 108,
   "id": "fed61f56",
   "metadata": {},
   "outputs": [
    {
     "data": {
      "text/plain": [
       "Title    0.0\n",
       "Body     0.0\n",
       "Tags     0.0\n",
       "dtype: float64"
      ]
     },
     "execution_count": 108,
     "metadata": {},
     "output_type": "execute_result"
    }
   ],
   "source": [
    "df.isna().mean()"
   ]
  },
  {
   "cell_type": "code",
   "execution_count": 109,
   "id": "af6967a1",
   "metadata": {},
   "outputs": [],
   "source": [
    "## Duplicated"
   ]
  },
  {
   "cell_type": "code",
   "execution_count": 110,
   "id": "a19c78a7",
   "metadata": {},
   "outputs": [
    {
     "data": {
      "text/plain": [
       "(27933, 3)"
      ]
     },
     "execution_count": 110,
     "metadata": {},
     "output_type": "execute_result"
    }
   ],
   "source": [
    "df.shape"
   ]
  },
  {
   "cell_type": "code",
   "execution_count": 111,
   "id": "4c61bf01",
   "metadata": {},
   "outputs": [
    {
     "data": {
      "text/html": [
       "<div>\n",
       "<style scoped>\n",
       "    .dataframe tbody tr th:only-of-type {\n",
       "        vertical-align: middle;\n",
       "    }\n",
       "\n",
       "    .dataframe tbody tr th {\n",
       "        vertical-align: top;\n",
       "    }\n",
       "\n",
       "    .dataframe thead th {\n",
       "        text-align: right;\n",
       "    }\n",
       "</style>\n",
       "<table border=\"1\" class=\"dataframe\">\n",
       "  <thead>\n",
       "    <tr style=\"text-align: right;\">\n",
       "      <th></th>\n",
       "      <th>Title</th>\n",
       "      <th>Body</th>\n",
       "      <th>Tags</th>\n",
       "    </tr>\n",
       "  </thead>\n",
       "  <tbody>\n",
       "    <tr>\n",
       "      <th>23904</th>\n",
       "      <td>\"UNPROTECTED PRIVATE KEY FILE!\" Error using SS...</td>\n",
       "      <td>&lt;p&gt;I've created a new linux instance on Amazon...</td>\n",
       "      <td>&lt;amazon-web-services&gt;&lt;authentication&gt;&lt;ssh&gt;&lt;ama...</td>\n",
       "    </tr>\n",
       "    <tr>\n",
       "      <th>26248</th>\n",
       "      <td>How can I modify ripple color when using ?attr...</td>\n",
       "      <td>&lt;p&gt;I've seen some SO questions and they gave s...</td>\n",
       "      <td>&lt;android&gt;&lt;android-layout&gt;&lt;android-5.0-lollipop...</td>\n",
       "    </tr>\n",
       "    <tr>\n",
       "      <th>25503</th>\n",
       "      <td>Got exception: fragment already active</td>\n",
       "      <td>&lt;p&gt;I have a &lt;strong&gt;fragment&lt;/strong&gt;;&lt;/p&gt;\\n\\n...</td>\n",
       "      <td>&lt;android&gt;&lt;android-layout&gt;&lt;android-intent&gt;&lt;andr...</td>\n",
       "    </tr>\n",
       "    <tr>\n",
       "      <th>3739</th>\n",
       "      <td>gen already exists but is not a source folder</td>\n",
       "      <td>&lt;p&gt;I am developing my Android project, After I...</td>\n",
       "      <td>&lt;android&gt;&lt;android-layout&gt;&lt;android-intent&gt;&lt;andr...</td>\n",
       "    </tr>\n",
       "    <tr>\n",
       "      <th>5956</th>\n",
       "      <td>how append date build to versionNameSuffix on ...</td>\n",
       "      <td>&lt;p&gt;I am using Android Studio and I need to app...</td>\n",
       "      <td>&lt;android&gt;&lt;android-studio&gt;&lt;gradle&gt;&lt;android-grad...</td>\n",
       "    </tr>\n",
       "    <tr>\n",
       "      <th>...</th>\n",
       "      <td>...</td>\n",
       "      <td>...</td>\n",
       "      <td>...</td>\n",
       "    </tr>\n",
       "    <tr>\n",
       "      <th>24361</th>\n",
       "      <td>What is the 'shadow space' in x64 assembly?</td>\n",
       "      <td>&lt;p&gt;I found plenty of topics about this shadow ...</td>\n",
       "      <td>&lt;windows&gt;&lt;assembly&gt;&lt;x86-64&gt;&lt;calling-convention...</td>\n",
       "    </tr>\n",
       "    <tr>\n",
       "      <th>24420</th>\n",
       "      <td>Variables are not behaving as expected</td>\n",
       "      <td>&lt;p&gt;I've been wrestling trying to get the synta...</td>\n",
       "      <td>&lt;windows&gt;&lt;batch-file&gt;&lt;cmd&gt;&lt;environment-variabl...</td>\n",
       "    </tr>\n",
       "    <tr>\n",
       "      <th>27355</th>\n",
       "      <td>Where is the Write-Combining Buffer located? x86</td>\n",
       "      <td>&lt;p&gt;How is the Write-Combine buffer physically ...</td>\n",
       "      <td>&lt;x86&gt;&lt;intel&gt;&lt;cpu-architecture&gt;&lt;cpu-cache&gt;&lt;amd-...</td>\n",
       "    </tr>\n",
       "    <tr>\n",
       "      <th>26789</th>\n",
       "      <td>xmlns, xmlns:xsi, xsi:schemaLocation, and targ...</td>\n",
       "      <td>&lt;p&gt;For the following XML fragment:&lt;/p&gt;\\n\\n&lt;pre...</td>\n",
       "      <td>&lt;xml&gt;&lt;xsd&gt;&lt;xml-namespaces&gt;&lt;xsd-validation&gt;&lt;xml...</td>\n",
       "    </tr>\n",
       "    <tr>\n",
       "      <th>17667</th>\n",
       "      <td>What is the difference between xsd and xsi?</td>\n",
       "      <td>&lt;p&gt;What exactly is the difference between &lt;str...</td>\n",
       "      <td>&lt;xml&gt;&lt;xsd&gt;&lt;xml-namespaces&gt;&lt;xsd-validation&gt;&lt;xml...</td>\n",
       "    </tr>\n",
       "  </tbody>\n",
       "</table>\n",
       "<p>486 rows × 3 columns</p>\n",
       "</div>"
      ],
      "text/plain": [
       "                                                   Title  \\\n",
       "23904  \"UNPROTECTED PRIVATE KEY FILE!\" Error using SS...   \n",
       "26248  How can I modify ripple color when using ?attr...   \n",
       "25503             Got exception: fragment already active   \n",
       "3739       gen already exists but is not a source folder   \n",
       "5956   how append date build to versionNameSuffix on ...   \n",
       "...                                                  ...   \n",
       "24361        What is the 'shadow space' in x64 assembly?   \n",
       "24420             Variables are not behaving as expected   \n",
       "27355   Where is the Write-Combining Buffer located? x86   \n",
       "26789  xmlns, xmlns:xsi, xsi:schemaLocation, and targ...   \n",
       "17667        What is the difference between xsd and xsi?   \n",
       "\n",
       "                                                    Body  \\\n",
       "23904  <p>I've created a new linux instance on Amazon...   \n",
       "26248  <p>I've seen some SO questions and they gave s...   \n",
       "25503  <p>I have a <strong>fragment</strong>;</p>\\n\\n...   \n",
       "3739   <p>I am developing my Android project, After I...   \n",
       "5956   <p>I am using Android Studio and I need to app...   \n",
       "...                                                  ...   \n",
       "24361  <p>I found plenty of topics about this shadow ...   \n",
       "24420  <p>I've been wrestling trying to get the synta...   \n",
       "27355  <p>How is the Write-Combine buffer physically ...   \n",
       "26789  <p>For the following XML fragment:</p>\\n\\n<pre...   \n",
       "17667  <p>What exactly is the difference between <str...   \n",
       "\n",
       "                                                    Tags  \n",
       "23904  <amazon-web-services><authentication><ssh><ama...  \n",
       "26248  <android><android-layout><android-5.0-lollipop...  \n",
       "25503  <android><android-layout><android-intent><andr...  \n",
       "3739   <android><android-layout><android-intent><andr...  \n",
       "5956   <android><android-studio><gradle><android-grad...  \n",
       "...                                                  ...  \n",
       "24361  <windows><assembly><x86-64><calling-convention...  \n",
       "24420  <windows><batch-file><cmd><environment-variabl...  \n",
       "27355  <x86><intel><cpu-architecture><cpu-cache><amd-...  \n",
       "26789  <xml><xsd><xml-namespaces><xsd-validation><xml...  \n",
       "17667  <xml><xsd><xml-namespaces><xsd-validation><xml...  \n",
       "\n",
       "[486 rows x 3 columns]"
      ]
     },
     "execution_count": 111,
     "metadata": {},
     "output_type": "execute_result"
    }
   ],
   "source": [
    "idx = df.duplicated(subset=\"Tags\", keep=\"first\")\n",
    "df.loc[idx, :].sort_values(\"Tags\")"
   ]
  },
  {
   "cell_type": "code",
   "execution_count": 112,
   "id": "1ea67fc4",
   "metadata": {},
   "outputs": [
    {
     "name": "stderr",
     "output_type": "stream",
     "text": [
      "/home/ping/.pyenv/versions/3.8.12/envs/lewagon/lib/python3.8/site-packages/pandas/util/_decorators.py:311: SettingWithCopyWarning: \n",
      "A value is trying to be set on a copy of a slice from a DataFrame\n",
      "\n",
      "See the caveats in the documentation: https://pandas.pydata.org/pandas-docs/stable/user_guide/indexing.html#returning-a-view-versus-a-copy\n",
      "  return func(*args, **kwargs)\n"
     ]
    }
   ],
   "source": [
    "df.drop_duplicates(subset = \"Tags\", inplace = True)"
   ]
  },
  {
   "cell_type": "code",
   "execution_count": 113,
   "id": "b3bd1ceb",
   "metadata": {},
   "outputs": [],
   "source": [
    "## Length"
   ]
  },
  {
   "cell_type": "code",
   "execution_count": 114,
   "id": "4887bd8f",
   "metadata": {},
   "outputs": [
    {
     "data": {
      "text/html": [
       "<div>\n",
       "<style scoped>\n",
       "    .dataframe tbody tr th:only-of-type {\n",
       "        vertical-align: middle;\n",
       "    }\n",
       "\n",
       "    .dataframe tbody tr th {\n",
       "        vertical-align: top;\n",
       "    }\n",
       "\n",
       "    .dataframe thead th {\n",
       "        text-align: right;\n",
       "    }\n",
       "</style>\n",
       "<table border=\"1\" class=\"dataframe\">\n",
       "  <thead>\n",
       "    <tr style=\"text-align: right;\">\n",
       "      <th></th>\n",
       "      <th>Title</th>\n",
       "      <th>Body</th>\n",
       "      <th>Tags</th>\n",
       "    </tr>\n",
       "  </thead>\n",
       "  <tbody>\n",
       "    <tr>\n",
       "      <th>count</th>\n",
       "      <td>27447</td>\n",
       "      <td>27447</td>\n",
       "      <td>27447</td>\n",
       "    </tr>\n",
       "    <tr>\n",
       "      <th>unique</th>\n",
       "      <td>27447</td>\n",
       "      <td>27447</td>\n",
       "      <td>27447</td>\n",
       "    </tr>\n",
       "    <tr>\n",
       "      <th>top</th>\n",
       "      <td>Import CSV file to strongly typed data structu...</td>\n",
       "      <td>&lt;p&gt;What's the best way to import a CSV file in...</td>\n",
       "      <td>&lt;c#&gt;&lt;vb.net&gt;&lt;file&gt;&lt;csv&gt;&lt;import&gt;</td>\n",
       "    </tr>\n",
       "    <tr>\n",
       "      <th>freq</th>\n",
       "      <td>1</td>\n",
       "      <td>1</td>\n",
       "      <td>1</td>\n",
       "    </tr>\n",
       "  </tbody>\n",
       "</table>\n",
       "</div>"
      ],
      "text/plain": [
       "                                                    Title  \\\n",
       "count                                               27447   \n",
       "unique                                              27447   \n",
       "top     Import CSV file to strongly typed data structu...   \n",
       "freq                                                    1   \n",
       "\n",
       "                                                     Body  \\\n",
       "count                                               27447   \n",
       "unique                                              27447   \n",
       "top     <p>What's the best way to import a CSV file in...   \n",
       "freq                                                    1   \n",
       "\n",
       "                                   Tags  \n",
       "count                             27447  \n",
       "unique                            27447  \n",
       "top     <c#><vb.net><file><csv><import>  \n",
       "freq                                  1  "
      ]
     },
     "execution_count": 114,
     "metadata": {},
     "output_type": "execute_result"
    }
   ],
   "source": [
    "df.describe(include = \"object\")"
   ]
  },
  {
   "cell_type": "code",
   "execution_count": 115,
   "id": "27636a20",
   "metadata": {},
   "outputs": [
    {
     "data": {
      "text/plain": [
       "0        56\n",
       "1        36\n",
       "2        35\n",
       "3        48\n",
       "4        28\n",
       "         ..\n",
       "27928    25\n",
       "27929    49\n",
       "27930    34\n",
       "27931    47\n",
       "27932    83\n",
       "Name: Title, Length: 27447, dtype: int64"
      ]
     },
     "execution_count": 115,
     "metadata": {},
     "output_type": "execute_result"
    }
   ],
   "source": [
    "df.Title.apply(lambda i : len(i))"
   ]
  },
  {
   "cell_type": "code",
   "execution_count": 117,
   "id": "5445f8cd",
   "metadata": {},
   "outputs": [
    {
     "data": {
      "text/plain": [
       "0          86\n",
       "1         586\n",
       "2         849\n",
       "3         774\n",
       "4         324\n",
       "         ... \n",
       "27928    1051\n",
       "27929    1015\n",
       "27930     244\n",
       "27931     443\n",
       "27932    4344\n",
       "Name: Body, Length: 27447, dtype: int64"
      ]
     },
     "execution_count": 117,
     "metadata": {},
     "output_type": "execute_result"
    }
   ],
   "source": [
    "df.Body.apply(lambda i : len(i))"
   ]
  },
  {
   "cell_type": "code",
   "execution_count": 118,
   "id": "f3acd5b0",
   "metadata": {
    "scrolled": true
   },
   "outputs": [
    {
     "data": {
      "text/plain": [
       "0        31\n",
       "1        60\n",
       "2        70\n",
       "3        74\n",
       "4        37\n",
       "         ..\n",
       "27928    65\n",
       "27929    35\n",
       "27930    52\n",
       "27931    64\n",
       "27932    47\n",
       "Name: Tags, Length: 27447, dtype: int64"
      ]
     },
     "execution_count": 118,
     "metadata": {},
     "output_type": "execute_result"
    }
   ],
   "source": [
    "df.Tags.apply(lambda i:len(i))"
   ]
  },
  {
   "cell_type": "code",
   "execution_count": 120,
   "id": "0fdb5bf4",
   "metadata": {},
   "outputs": [
    {
     "name": "stderr",
     "output_type": "stream",
     "text": [
      "/home/ping/.pyenv/versions/3.8.12/envs/lewagon/lib/python3.8/site-packages/seaborn/_decorators.py:36: FutureWarning: Pass the following variable as a keyword arg: x. From version 0.12, the only valid positional argument will be `data`, and passing other arguments without an explicit keyword will result in an error or misinterpretation.\n",
      "  warnings.warn(\n"
     ]
    },
    {
     "data": {
      "text/plain": [
       "<AxesSubplot:xlabel='Title'>"
      ]
     },
     "execution_count": 120,
     "metadata": {},
     "output_type": "execute_result"
    },
    {
     "data": {
      "image/png": "[encoded data removed]",
      "text/plain": [
       "<Figure size 432x288 with 1 Axes>"
      ]
     },
     "metadata": {
      "needs_background": "light"
     },
     "output_type": "display_data"
    }
   ],
   "source": [
    "tmp1 = df.Title.str.len()\n",
    "sns.boxplot(tmp1)"
   ]
  },
  {
   "cell_type": "code",
   "execution_count": 121,
   "id": "64476592",
   "metadata": {},
   "outputs": [
    {
     "name": "stderr",
     "output_type": "stream",
     "text": [
      "/home/ping/.pyenv/versions/3.8.12/envs/lewagon/lib/python3.8/site-packages/seaborn/_decorators.py:36: FutureWarning: Pass the following variable as a keyword arg: x. From version 0.12, the only valid positional argument will be `data`, and passing other arguments without an explicit keyword will result in an error or misinterpretation.\n",
      "  warnings.warn(\n"
     ]
    },
    {
     "data": {
      "text/plain": [
       "<AxesSubplot:xlabel='Body'>"
      ]
     },
     "execution_count": 121,
     "metadata": {},
     "output_type": "execute_result"
    },
    {
     "data": {
      "image/png": "[encoded data removed]",
      "text/plain": [
       "<Figure size 432x288 with 1 Axes>"
      ]
     },
     "metadata": {
      "needs_background": "light"
     },
     "output_type": "display_data"
    }
   ],
   "source": [
    "tmp2 = df.Body.str.len()\n",
    "sns.boxplot(tmp2)"
   ]
  },
  {
   "cell_type": "code",
   "execution_count": 122,
   "id": "2045af18",
   "metadata": {},
   "outputs": [
    {
     "name": "stderr",
     "output_type": "stream",
     "text": [
      "/home/ping/.pyenv/versions/3.8.12/envs/lewagon/lib/python3.8/site-packages/seaborn/_decorators.py:36: FutureWarning: Pass the following variable as a keyword arg: x. From version 0.12, the only valid positional argument will be `data`, and passing other arguments without an explicit keyword will result in an error or misinterpretation.\n",
      "  warnings.warn(\n"
     ]
    },
    {
     "data": {
      "text/plain": [
       "<AxesSubplot:xlabel='Tags'>"
      ]
     },
     "execution_count": 122,
     "metadata": {},
     "output_type": "execute_result"
    },
    {
     "data": {
      "image/png": "[encoded data removed]",
      "text/plain": [
       "<Figure size 432x288 with 1 Axes>"
      ]
     },
     "metadata": {
      "needs_background": "light"
     },
     "output_type": "display_data"
    }
   ],
   "source": [
    "tmp3 = df.Tags.str.len()\n",
    "sns.boxplot(tmp3)"
   ]
  },
  {
   "cell_type": "code",
   "execution_count": 123,
   "id": "4ee0cd4c",
   "metadata": {},
   "outputs": [
    {
     "data": {
      "text/plain": [
       "<seaborn.axisgrid.FacetGrid at 0x7f003a7341f0>"
      ]
     },
     "execution_count": 123,
     "metadata": {},
     "output_type": "execute_result"
    },
    {
     "data": {
      "image/png": "[encoded data removed]",
      "text/plain": [
       "<Figure size 360x360 with 1 Axes>"
      ]
     },
     "metadata": {
      "needs_background": "light"
     },
     "output_type": "display_data"
    }
   ],
   "source": [
    "sns.displot(tmp1)"
   ]
  },
  {
   "cell_type": "code",
   "execution_count": 124,
   "id": "e1305d74",
   "metadata": {
    "scrolled": true
   },
   "outputs": [
    {
     "name": "stderr",
     "output_type": "stream",
     "text": [
      "/tmp/ipykernel_1594/2439902309.py:1: SettingWithCopyWarning: \n",
      "A value is trying to be set on a copy of a slice from a DataFrame.\n",
      "Try using .loc[row_indexer,col_indexer] = value instead\n",
      "\n",
      "See the caveats in the documentation: https://pandas.pydata.org/pandas-docs/stable/user_guide/indexing.html#returning-a-view-versus-a-copy\n",
      "  df[\"_len_Title\"]=tmp1\n"
     ]
    }
   ],
   "source": [
    "df[\"_len_Title\"]=tmp1"
   ]
  },
  {
   "cell_type": "code",
   "execution_count": 125,
   "id": "ba26b17c",
   "metadata": {},
   "outputs": [
    {
     "name": "stderr",
     "output_type": "stream",
     "text": [
      "/tmp/ipykernel_1594/1139910994.py:1: SettingWithCopyWarning: \n",
      "A value is trying to be set on a copy of a slice from a DataFrame.\n",
      "Try using .loc[row_indexer,col_indexer] = value instead\n",
      "\n",
      "See the caveats in the documentation: https://pandas.pydata.org/pandas-docs/stable/user_guide/indexing.html#returning-a-view-versus-a-copy\n",
      "  df[\"_len_Body\"]=tmp2\n"
     ]
    }
   ],
   "source": [
    "df[\"_len_Body\"]=tmp2"
   ]
  },
  {
   "cell_type": "code",
   "execution_count": 126,
   "id": "02069211",
   "metadata": {
    "scrolled": false
   },
   "outputs": [
    {
     "name": "stderr",
     "output_type": "stream",
     "text": [
      "/tmp/ipykernel_1594/2381150020.py:1: SettingWithCopyWarning: \n",
      "A value is trying to be set on a copy of a slice from a DataFrame.\n",
      "Try using .loc[row_indexer,col_indexer] = value instead\n",
      "\n",
      "See the caveats in the documentation: https://pandas.pydata.org/pandas-docs/stable/user_guide/indexing.html#returning-a-view-versus-a-copy\n",
      "  df[\"_len_Tags\"]=tmp3\n"
     ]
    }
   ],
   "source": [
    "df[\"_len_Tags\"]=tmp3"
   ]
  },
  {
   "cell_type": "code",
   "execution_count": 127,
   "id": "c2506b86",
   "metadata": {},
   "outputs": [
    {
     "data": {
      "text/html": [
       "<div>\n",
       "<style scoped>\n",
       "    .dataframe tbody tr th:only-of-type {\n",
       "        vertical-align: middle;\n",
       "    }\n",
       "\n",
       "    .dataframe tbody tr th {\n",
       "        vertical-align: top;\n",
       "    }\n",
       "\n",
       "    .dataframe thead th {\n",
       "        text-align: right;\n",
       "    }\n",
       "</style>\n",
       "<table border=\"1\" class=\"dataframe\">\n",
       "  <thead>\n",
       "    <tr style=\"text-align: right;\">\n",
       "      <th></th>\n",
       "      <th>Title</th>\n",
       "      <th>Body</th>\n",
       "      <th>Tags</th>\n",
       "      <th>_len_Title</th>\n",
       "      <th>_len_Body</th>\n",
       "      <th>_len_Tags</th>\n",
       "    </tr>\n",
       "  </thead>\n",
       "  <tbody>\n",
       "    <tr>\n",
       "      <th>0</th>\n",
       "      <td>Import CSV file to strongly typed data structu...</td>\n",
       "      <td>&lt;p&gt;What's the best way to import a CSV file in...</td>\n",
       "      <td>&lt;c#&gt;&lt;vb.net&gt;&lt;file&gt;&lt;csv&gt;&lt;import&gt;</td>\n",
       "      <td>56</td>\n",
       "      <td>86</td>\n",
       "      <td>31</td>\n",
       "    </tr>\n",
       "    <tr>\n",
       "      <th>1</th>\n",
       "      <td>Change hash without reload in jQuery</td>\n",
       "      <td>&lt;p&gt;I have the following code:&lt;/p&gt;\\n\\n&lt;pre&gt;&lt;cod...</td>\n",
       "      <td>&lt;jquery&gt;&lt;hash&gt;&lt;reload&gt;&lt;fragment-identifier&gt;&lt;wi...</td>\n",
       "      <td>36</td>\n",
       "      <td>586</td>\n",
       "      <td>60</td>\n",
       "    </tr>\n",
       "    <tr>\n",
       "      <th>2</th>\n",
       "      <td>Pass by reference or pass by value?</td>\n",
       "      <td>&lt;p&gt;When learning a new programming language, o...</td>\n",
       "      <td>&lt;language-agnostic&gt;&lt;oop&gt;&lt;parameters&gt;&lt;pass-by-r...</td>\n",
       "      <td>35</td>\n",
       "      <td>849</td>\n",
       "      <td>70</td>\n",
       "    </tr>\n",
       "    <tr>\n",
       "      <th>3</th>\n",
       "      <td>What are MVP and MVC and what is the difference?</td>\n",
       "      <td>&lt;p&gt;When looking beyond the &lt;a href=\"https://en...</td>\n",
       "      <td>&lt;user-interface&gt;&lt;model-view-controller&gt;&lt;design...</td>\n",
       "      <td>48</td>\n",
       "      <td>774</td>\n",
       "      <td>74</td>\n",
       "    </tr>\n",
       "    <tr>\n",
       "      <th>4</th>\n",
       "      <td>LINQ on the .NET 2.0 Runtime</td>\n",
       "      <td>&lt;p&gt;Can a LINQ enabled app run on a machine tha...</td>\n",
       "      <td>&lt;.net&gt;&lt;linq&gt;&lt;.net-3.5&gt;&lt;.net-2.0&gt;&lt;clr&gt;</td>\n",
       "      <td>28</td>\n",
       "      <td>324</td>\n",
       "      <td>37</td>\n",
       "    </tr>\n",
       "  </tbody>\n",
       "</table>\n",
       "</div>"
      ],
      "text/plain": [
       "                                               Title  \\\n",
       "0  Import CSV file to strongly typed data structu...   \n",
       "1               Change hash without reload in jQuery   \n",
       "2                Pass by reference or pass by value?   \n",
       "3   What are MVP and MVC and what is the difference?   \n",
       "4                       LINQ on the .NET 2.0 Runtime   \n",
       "\n",
       "                                                Body  \\\n",
       "0  <p>What's the best way to import a CSV file in...   \n",
       "1  <p>I have the following code:</p>\\n\\n<pre><cod...   \n",
       "2  <p>When learning a new programming language, o...   \n",
       "3  <p>When looking beyond the <a href=\"https://en...   \n",
       "4  <p>Can a LINQ enabled app run on a machine tha...   \n",
       "\n",
       "                                                Tags  _len_Title  _len_Body  \\\n",
       "0                    <c#><vb.net><file><csv><import>          56         86   \n",
       "1  <jquery><hash><reload><fragment-identifier><wi...          36        586   \n",
       "2  <language-agnostic><oop><parameters><pass-by-r...          35        849   \n",
       "3  <user-interface><model-view-controller><design...          48        774   \n",
       "4              <.net><linq><.net-3.5><.net-2.0><clr>          28        324   \n",
       "\n",
       "   _len_Tags  \n",
       "0         31  \n",
       "1         60  \n",
       "2         70  \n",
       "3         74  \n",
       "4         37  "
      ]
     },
     "execution_count": 127,
     "metadata": {},
     "output_type": "execute_result"
    }
   ],
   "source": [
    "df.head()"
   ]
  },
  {
   "cell_type": "code",
   "execution_count": 128,
   "id": "2c16f261",
   "metadata": {},
   "outputs": [],
   "source": [
    "# Multivariate analysis"
   ]
  },
  {
   "cell_type": "code",
   "execution_count": 129,
   "id": "ea058954",
   "metadata": {},
   "outputs": [
    {
     "data": {
      "text/html": [
       "<div>\n",
       "<style scoped>\n",
       "    .dataframe tbody tr th:only-of-type {\n",
       "        vertical-align: middle;\n",
       "    }\n",
       "\n",
       "    .dataframe tbody tr th {\n",
       "        vertical-align: top;\n",
       "    }\n",
       "\n",
       "    .dataframe thead th {\n",
       "        text-align: right;\n",
       "    }\n",
       "</style>\n",
       "<table border=\"1\" class=\"dataframe\">\n",
       "  <thead>\n",
       "    <tr style=\"text-align: right;\">\n",
       "      <th></th>\n",
       "      <th>_len_Title</th>\n",
       "      <th>_len_Body</th>\n",
       "      <th>_len_Tags</th>\n",
       "    </tr>\n",
       "  </thead>\n",
       "  <tbody>\n",
       "    <tr>\n",
       "      <th>_len_Title</th>\n",
       "      <td>1.000000</td>\n",
       "      <td>0.134802</td>\n",
       "      <td>0.100877</td>\n",
       "    </tr>\n",
       "    <tr>\n",
       "      <th>_len_Body</th>\n",
       "      <td>0.134802</td>\n",
       "      <td>1.000000</td>\n",
       "      <td>0.075448</td>\n",
       "    </tr>\n",
       "    <tr>\n",
       "      <th>_len_Tags</th>\n",
       "      <td>0.100877</td>\n",
       "      <td>0.075448</td>\n",
       "      <td>1.000000</td>\n",
       "    </tr>\n",
       "  </tbody>\n",
       "</table>\n",
       "</div>"
      ],
      "text/plain": [
       "            _len_Title  _len_Body  _len_Tags\n",
       "_len_Title    1.000000   0.134802   0.100877\n",
       "_len_Body     0.134802   1.000000   0.075448\n",
       "_len_Tags     0.100877   0.075448   1.000000"
      ]
     },
     "execution_count": 129,
     "metadata": {},
     "output_type": "execute_result"
    }
   ],
   "source": [
    "corr = df.corr()\n",
    "corr"
   ]
  },
  {
   "cell_type": "code",
   "execution_count": 130,
   "id": "d5a852ac",
   "metadata": {},
   "outputs": [
    {
     "data": {
      "text/plain": [
       "<AxesSubplot:>"
      ]
     },
     "execution_count": 130,
     "metadata": {},
     "output_type": "execute_result"
    },
    {
     "data": {
      "image/png": "[encoded data removed]",
      "text/plain": [
       "<Figure size 432x288 with 2 Axes>"
      ]
     },
     "metadata": {
      "needs_background": "light"
     },
     "output_type": "display_data"
    }
   ],
   "source": [
    "sns.heatmap(corr)"
   ]
  },
  {
   "cell_type": "code",
   "execution_count": 131,
   "id": "b0ce2e85",
   "metadata": {},
   "outputs": [
    {
     "data": {
      "text/plain": [
       "<seaborn.axisgrid.PairGrid at 0x7f003a581f70>"
      ]
     },
     "execution_count": 131,
     "metadata": {},
     "output_type": "execute_result"
    },
    {
     "data": {
      "image/png": "[encoded data removed]",
      "text/plain": [
       "<Figure size 540x540 with 12 Axes>"
      ]
     },
     "metadata": {
      "needs_background": "light"
     },
     "output_type": "display_data"
    }
   ],
   "source": [
    "sns.pairplot(df)"
   ]
  },
  {
   "cell_type": "code",
   "execution_count": 132,
   "id": "0e978d24",
   "metadata": {},
   "outputs": [
    {
     "data": {
      "text/html": [
       "<div>\n",
       "<style scoped>\n",
       "    .dataframe tbody tr th:only-of-type {\n",
       "        vertical-align: middle;\n",
       "    }\n",
       "\n",
       "    .dataframe tbody tr th {\n",
       "        vertical-align: top;\n",
       "    }\n",
       "\n",
       "    .dataframe thead th {\n",
       "        text-align: right;\n",
       "    }\n",
       "</style>\n",
       "<table border=\"1\" class=\"dataframe\">\n",
       "  <thead>\n",
       "    <tr style=\"text-align: right;\">\n",
       "      <th></th>\n",
       "      <th>Title</th>\n",
       "      <th>Body</th>\n",
       "      <th>Tags</th>\n",
       "      <th>_len_Title</th>\n",
       "      <th>_len_Body</th>\n",
       "      <th>_len_Tags</th>\n",
       "    </tr>\n",
       "  </thead>\n",
       "  <tbody>\n",
       "    <tr>\n",
       "      <th>11263</th>\n",
       "      <td>Need to cancel click/mouseup events when doubl...</td>\n",
       "      <td>&lt;p&gt;How is this done?&lt;/p&gt;\\n</td>\n",
       "      <td>&lt;javascript&gt;&lt;jquery&gt;&lt;event-handling&gt;&lt;click&gt;&lt;do...</td>\n",
       "      <td>68</td>\n",
       "      <td>25</td>\n",
       "      <td>57</td>\n",
       "    </tr>\n",
       "    <tr>\n",
       "      <th>4274</th>\n",
       "      <td>What is Type-safe?</td>\n",
       "      <td>&lt;p&gt;What does \"type-safe\" mean?&lt;/p&gt;\\n</td>\n",
       "      <td>&lt;language-agnostic&gt;&lt;programming-languages&gt;&lt;com...</td>\n",
       "      <td>18</td>\n",
       "      <td>35</td>\n",
       "      <td>86</td>\n",
       "    </tr>\n",
       "    <tr>\n",
       "      <th>18430</th>\n",
       "      <td>How to convert .crt to .pem</td>\n",
       "      <td>&lt;p&gt;How can I convert .crt to .pem?&lt;/p&gt;\\n</td>\n",
       "      <td>&lt;x509&gt;&lt;pem&gt;&lt;asn.1&gt;&lt;crt&gt;&lt;der&gt;</td>\n",
       "      <td>27</td>\n",
       "      <td>39</td>\n",
       "      <td>28</td>\n",
       "    </tr>\n",
       "    <tr>\n",
       "      <th>1814</th>\n",
       "      <td>How to copy files?</td>\n",
       "      <td>&lt;p&gt;How do I copy a file in Python?&lt;/p&gt;\\n</td>\n",
       "      <td>&lt;python&gt;&lt;file&gt;&lt;copy&gt;&lt;filesystems&gt;&lt;file-copying&gt;</td>\n",
       "      <td>18</td>\n",
       "      <td>39</td>\n",
       "      <td>47</td>\n",
       "    </tr>\n",
       "    <tr>\n",
       "      <th>15435</th>\n",
       "      <td>What's the difference between id_rsa.pub and i...</td>\n",
       "      <td>&lt;p&gt;Is one more secure than the other?&lt;/p&gt;\\n</td>\n",
       "      <td>&lt;encryption&gt;&lt;ssh&gt;&lt;rsa&gt;&lt;public-key-encryption&gt;&lt;...</td>\n",
       "      <td>56</td>\n",
       "      <td>42</td>\n",
       "      <td>50</td>\n",
       "    </tr>\n",
       "    <tr>\n",
       "      <th>792</th>\n",
       "      <td>Java Iterate Bits in Byte Array</td>\n",
       "      <td>&lt;p&gt;How can i iterate bits in a byte array?&lt;/p&gt;\\n</td>\n",
       "      <td>&lt;java&gt;&lt;arrays&gt;&lt;byte&gt;&lt;bit&gt;&lt;loops&gt;</td>\n",
       "      <td>31</td>\n",
       "      <td>47</td>\n",
       "      <td>32</td>\n",
       "    </tr>\n",
       "    <tr>\n",
       "      <th>13632</th>\n",
       "      <td>MD5 algorithm in Objective-C</td>\n",
       "      <td>&lt;p&gt;How to calculate the MD5 in Objective-C?&lt;/p&gt;\\n</td>\n",
       "      <td>&lt;objective-c&gt;&lt;iphone&gt;&lt;cryptography&gt;&lt;md5&gt;&lt;crypt...</td>\n",
       "      <td>28</td>\n",
       "      <td>48</td>\n",
       "      <td>69</td>\n",
       "    </tr>\n",
       "    <tr>\n",
       "      <th>8013</th>\n",
       "      <td>Remove empty lines in text using Visual Studio...</td>\n",
       "      <td>&lt;p&gt;How to remove empty lines in Visual Studio?...</td>\n",
       "      <td>&lt;regex&gt;&lt;visual-studio&gt;&lt;visual-studio-2010&gt;&lt;vis...</td>\n",
       "      <td>57</td>\n",
       "      <td>51</td>\n",
       "      <td>68</td>\n",
       "    </tr>\n",
       "    <tr>\n",
       "      <th>3851</th>\n",
       "      <td>UILabel Align Text to center</td>\n",
       "      <td>&lt;p&gt;How do I align text in &lt;code&gt;UILabel&lt;/code&gt;...</td>\n",
       "      <td>&lt;ios&gt;&lt;cocoa-touch&gt;&lt;text&gt;&lt;alignment&gt;&lt;uilabel&gt;</td>\n",
       "      <td>28</td>\n",
       "      <td>52</td>\n",
       "      <td>44</td>\n",
       "    </tr>\n",
       "    <tr>\n",
       "      <th>15742</th>\n",
       "      <td>How to config nltk data directory from code?</td>\n",
       "      <td>&lt;p&gt;How to config nltk data directory from code...</td>\n",
       "      <td>&lt;python&gt;&lt;path&gt;&lt;directory&gt;&lt;nlp&gt;&lt;nltk&gt;</td>\n",
       "      <td>44</td>\n",
       "      <td>52</td>\n",
       "      <td>36</td>\n",
       "    </tr>\n",
       "  </tbody>\n",
       "</table>\n",
       "</div>"
      ],
      "text/plain": [
       "                                                   Title  \\\n",
       "11263  Need to cancel click/mouseup events when doubl...   \n",
       "4274                                  What is Type-safe?   \n",
       "18430                        How to convert .crt to .pem   \n",
       "1814                                  How to copy files?   \n",
       "15435  What's the difference between id_rsa.pub and i...   \n",
       "792                      Java Iterate Bits in Byte Array   \n",
       "13632                       MD5 algorithm in Objective-C   \n",
       "8013   Remove empty lines in text using Visual Studio...   \n",
       "3851                        UILabel Align Text to center   \n",
       "15742       How to config nltk data directory from code?   \n",
       "\n",
       "                                                    Body  \\\n",
       "11263                         <p>How is this done?</p>\\n   \n",
       "4274                <p>What does \"type-safe\" mean?</p>\\n   \n",
       "18430           <p>How can I convert .crt to .pem?</p>\\n   \n",
       "1814            <p>How do I copy a file in Python?</p>\\n   \n",
       "15435        <p>Is one more secure than the other?</p>\\n   \n",
       "792     <p>How can i iterate bits in a byte array?</p>\\n   \n",
       "13632  <p>How to calculate the MD5 in Objective-C?</p>\\n   \n",
       "8013   <p>How to remove empty lines in Visual Studio?...   \n",
       "3851   <p>How do I align text in <code>UILabel</code>...   \n",
       "15742  <p>How to config nltk data directory from code...   \n",
       "\n",
       "                                                    Tags  _len_Title  \\\n",
       "11263  <javascript><jquery><event-handling><click><do...          68   \n",
       "4274   <language-agnostic><programming-languages><com...          18   \n",
       "18430                       <x509><pem><asn.1><crt><der>          27   \n",
       "1814     <python><file><copy><filesystems><file-copying>          18   \n",
       "15435  <encryption><ssh><rsa><public-key-encryption><...          56   \n",
       "792                     <java><arrays><byte><bit><loops>          31   \n",
       "13632  <objective-c><iphone><cryptography><md5><crypt...          28   \n",
       "8013   <regex><visual-studio><visual-studio-2010><vis...          57   \n",
       "3851        <ios><cocoa-touch><text><alignment><uilabel>          28   \n",
       "15742               <python><path><directory><nlp><nltk>          44   \n",
       "\n",
       "       _len_Body  _len_Tags  \n",
       "11263         25         57  \n",
       "4274          35         86  \n",
       "18430         39         28  \n",
       "1814          39         47  \n",
       "15435         42         50  \n",
       "792           47         32  \n",
       "13632         48         69  \n",
       "8013          51         68  \n",
       "3851          52         44  \n",
       "15742         52         36  "
      ]
     },
     "execution_count": 132,
     "metadata": {},
     "output_type": "execute_result"
    }
   ],
   "source": [
    "df.sort_values(\"_len_Body\").head(10)"
   ]
  },
  {
   "cell_type": "code",
   "execution_count": 133,
   "id": "d8fb90b8",
   "metadata": {},
   "outputs": [
    {
     "data": {
      "text/html": [
       "<div>\n",
       "<style scoped>\n",
       "    .dataframe tbody tr th:only-of-type {\n",
       "        vertical-align: middle;\n",
       "    }\n",
       "\n",
       "    .dataframe tbody tr th {\n",
       "        vertical-align: top;\n",
       "    }\n",
       "\n",
       "    .dataframe thead th {\n",
       "        text-align: right;\n",
       "    }\n",
       "</style>\n",
       "<table border=\"1\" class=\"dataframe\">\n",
       "  <thead>\n",
       "    <tr style=\"text-align: right;\">\n",
       "      <th></th>\n",
       "      <th>Title</th>\n",
       "      <th>Body</th>\n",
       "      <th>Tags</th>\n",
       "      <th>_len_Title</th>\n",
       "      <th>_len_Body</th>\n",
       "      <th>_len_Tags</th>\n",
       "    </tr>\n",
       "  </thead>\n",
       "  <tbody>\n",
       "    <tr>\n",
       "      <th>15035</th>\n",
       "      <td>Glassfish 3 security - Form based authenticati...</td>\n",
       "      <td>&lt;p&gt;I  want to understand form based security a...</td>\n",
       "      <td>&lt;java&gt;&lt;security&gt;&lt;jsf&gt;&lt;jakarta-ee&gt;&lt;glassfish&gt;</td>\n",
       "      <td>67</td>\n",
       "      <td>26167</td>\n",
       "      <td>44</td>\n",
       "    </tr>\n",
       "    <tr>\n",
       "      <th>16942</th>\n",
       "      <td>How to encrypt bytes using the TPM (Trusted Pl...</td>\n",
       "      <td>&lt;p&gt;How can I encrypt bytes using a machine's T...</td>\n",
       "      <td>&lt;c#&gt;&lt;windows&gt;&lt;encryption&gt;&lt;tpm&gt;&lt;trusted-computing&gt;</td>\n",
       "      <td>60</td>\n",
       "      <td>26284</td>\n",
       "      <td>49</td>\n",
       "    </tr>\n",
       "    <tr>\n",
       "      <th>3817</th>\n",
       "      <td>Fastest way to get directory data in .NET</td>\n",
       "      <td>&lt;p&gt;I'm working on a file synchronization servi...</td>\n",
       "      <td>&lt;c#&gt;&lt;.net&gt;&lt;windows&gt;&lt;visual-c++&gt;&lt;boost&gt;</td>\n",
       "      <td>41</td>\n",
       "      <td>26473</td>\n",
       "      <td>38</td>\n",
       "    </tr>\n",
       "    <tr>\n",
       "      <th>21472</th>\n",
       "      <td>StorageFile 50 times slower than IsolatedStora...</td>\n",
       "      <td>&lt;p&gt;I was just benchmarking multiple algorithms...</td>\n",
       "      <td>&lt;c#&gt;&lt;performance&gt;&lt;windows-phone-8&gt;&lt;windows-pho...</td>\n",
       "      <td>52</td>\n",
       "      <td>27717</td>\n",
       "      <td>70</td>\n",
       "    </tr>\n",
       "    <tr>\n",
       "      <th>6864</th>\n",
       "      <td>Why does my Intel Skylake / Kaby Lake CPU incu...</td>\n",
       "      <td>&lt;p&gt;&lt;strong&gt;In short:&lt;/strong&gt;&lt;/p&gt;\\n&lt;p&gt;I have i...</td>\n",
       "      <td>&lt;c++&gt;&lt;performance&gt;&lt;gcc&gt;&lt;x86-64&gt;&lt;hashtable&gt;</td>\n",
       "      <td>117</td>\n",
       "      <td>27865</td>\n",
       "      <td>42</td>\n",
       "    </tr>\n",
       "    <tr>\n",
       "      <th>6127</th>\n",
       "      <td>How to Log Stack Frames with Windows x64</td>\n",
       "      <td>&lt;p&gt;I am using Stackdumps with Win32, to write ...</td>\n",
       "      <td>&lt;c++&gt;&lt;c&gt;&lt;winapi&gt;&lt;64-bit&gt;&lt;callstack&gt;</td>\n",
       "      <td>40</td>\n",
       "      <td>28505</td>\n",
       "      <td>35</td>\n",
       "    </tr>\n",
       "    <tr>\n",
       "      <th>8459</th>\n",
       "      <td>error LNK2005: xxx already defined in MSVCRT.l...</td>\n",
       "      <td>&lt;p&gt;I'm using DCMTK library for reading Dicom f...</td>\n",
       "      <td>&lt;c++&gt;&lt;c&gt;&lt;visual-c++&gt;&lt;linker&gt;&lt;msvcr100.dll&gt;</td>\n",
       "      <td>100</td>\n",
       "      <td>28546</td>\n",
       "      <td>42</td>\n",
       "    </tr>\n",
       "    <tr>\n",
       "      <th>23493</th>\n",
       "      <td>How can I create a weekly calendar view for an...</td>\n",
       "      <td>&lt;p&gt;I am working on an Android (v3.0) applicati...</td>\n",
       "      <td>&lt;android&gt;&lt;layout&gt;&lt;android-layout&gt;&lt;android-3.0-...</td>\n",
       "      <td>77</td>\n",
       "      <td>29232</td>\n",
       "      <td>69</td>\n",
       "    </tr>\n",
       "    <tr>\n",
       "      <th>7910</th>\n",
       "      <td>Signed INF driver works on the computer where ...</td>\n",
       "      <td>&lt;p&gt;My company purchased a &lt;a href=\"http://www....</td>\n",
       "      <td>&lt;windows&gt;&lt;driver&gt;&lt;authenticode&gt;&lt;inf&gt;&lt;driver-si...</td>\n",
       "      <td>71</td>\n",
       "      <td>29768</td>\n",
       "      <td>52</td>\n",
       "    </tr>\n",
       "    <tr>\n",
       "      <th>26291</th>\n",
       "      <td>android:exported needs to be explicitly specif...</td>\n",
       "      <td>&lt;p&gt;After upgrading to android 12, the applicat...</td>\n",
       "      <td>&lt;java&gt;&lt;android&gt;&lt;kotlin&gt;&lt;android-manifest&gt;&lt;andr...</td>\n",
       "      <td>126</td>\n",
       "      <td>32336</td>\n",
       "      <td>53</td>\n",
       "    </tr>\n",
       "  </tbody>\n",
       "</table>\n",
       "</div>"
      ],
      "text/plain": [
       "                                                   Title  \\\n",
       "15035  Glassfish 3 security - Form based authenticati...   \n",
       "16942  How to encrypt bytes using the TPM (Trusted Pl...   \n",
       "3817           Fastest way to get directory data in .NET   \n",
       "21472  StorageFile 50 times slower than IsolatedStora...   \n",
       "6864   Why does my Intel Skylake / Kaby Lake CPU incu...   \n",
       "6127            How to Log Stack Frames with Windows x64   \n",
       "8459   error LNK2005: xxx already defined in MSVCRT.l...   \n",
       "23493  How can I create a weekly calendar view for an...   \n",
       "7910   Signed INF driver works on the computer where ...   \n",
       "26291  android:exported needs to be explicitly specif...   \n",
       "\n",
       "                                                    Body  \\\n",
       "15035  <p>I  want to understand form based security a...   \n",
       "16942  <p>How can I encrypt bytes using a machine's T...   \n",
       "3817   <p>I'm working on a file synchronization servi...   \n",
       "21472  <p>I was just benchmarking multiple algorithms...   \n",
       "6864   <p><strong>In short:</strong></p>\\n<p>I have i...   \n",
       "6127   <p>I am using Stackdumps with Win32, to write ...   \n",
       "8459   <p>I'm using DCMTK library for reading Dicom f...   \n",
       "23493  <p>I am working on an Android (v3.0) applicati...   \n",
       "7910   <p>My company purchased a <a href=\"http://www....   \n",
       "26291  <p>After upgrading to android 12, the applicat...   \n",
       "\n",
       "                                                    Tags  _len_Title  \\\n",
       "15035       <java><security><jsf><jakarta-ee><glassfish>          67   \n",
       "16942  <c#><windows><encryption><tpm><trusted-computing>          60   \n",
       "3817              <c#><.net><windows><visual-c++><boost>          41   \n",
       "21472  <c#><performance><windows-phone-8><windows-pho...          52   \n",
       "6864          <c++><performance><gcc><x86-64><hashtable>         117   \n",
       "6127                 <c++><c><winapi><64-bit><callstack>          40   \n",
       "8459          <c++><c><visual-c++><linker><msvcr100.dll>         100   \n",
       "23493  <android><layout><android-layout><android-3.0-...          77   \n",
       "7910   <windows><driver><authenticode><inf><driver-si...          71   \n",
       "26291  <java><android><kotlin><android-manifest><andr...         126   \n",
       "\n",
       "       _len_Body  _len_Tags  \n",
       "15035      26167         44  \n",
       "16942      26284         49  \n",
       "3817       26473         38  \n",
       "21472      27717         70  \n",
       "6864       27865         42  \n",
       "6127       28505         35  \n",
       "8459       28546         42  \n",
       "23493      29232         69  \n",
       "7910       29768         52  \n",
       "26291      32336         53  "
      ]
     },
     "execution_count": 133,
     "metadata": {},
     "output_type": "execute_result"
    }
   ],
   "source": [
    "df.sort_values(\"_len_Body\").tail(10)"
   ]
  },
  {
   "cell_type": "code",
   "execution_count": null,
   "id": "fd0e2ece",
   "metadata": {},
   "outputs": [],
   "source": []
  },
  {
   "cell_type": "code",
   "execution_count": null,
   "id": "c06e17d4",
   "metadata": {},
   "outputs": [],
   "source": []
  },
  {
   "cell_type": "code",
   "execution_count": null,
   "id": "edd93e5d",
   "metadata": {},
   "outputs": [],
   "source": []
  },
  {
   "cell_type": "code",
   "execution_count": null,
   "id": "05d9c61d",
   "metadata": {},
   "outputs": [],
   "source": []
  },
  {
   "cell_type": "code",
   "execution_count": null,
   "id": "5b4b721b",
   "metadata": {},
   "outputs": [],
   "source": []
  },
  {
   "cell_type": "markdown",
   "id": "5963800e",
   "metadata": {},
   "source": [
    "Score"
   ]
  },
  {
   "cell_type": "code",
   "execution_count": 134,
   "id": "6b67b01d",
   "metadata": {},
   "outputs": [
    {
     "name": "stdout",
     "output_type": "stream",
     "text": [
      "Using matplotlib backend: <object object at 0x7f0057c889c0>\n",
      "Populating the interactive namespace from numpy and matplotlib\n"
     ]
    },
    {
     "data": {
      "image/png": "[encoded data removed]",
      "text/plain": [
       "<Figure size 3600x720 with 2 Axes>"
      ]
     },
     "metadata": {
      "needs_background": "light"
     },
     "output_type": "display_data"
    },
    {
     "name": "stdout",
     "output_type": "stream",
     "text": [
      "\n",
      "--------------------------------------------------\n",
      "\n",
      "Indicateurs statistiques de distribution de la variable Score:\n"
     ]
    },
    {
     "data": {
      "text/plain": [
       "count    27933.000000\n",
       "mean       114.001360\n",
       "std        351.730108\n",
       "min          6.000000\n",
       "25%         29.000000\n",
       "50%         51.000000\n",
       "75%         99.000000\n",
       "max      26631.000000\n",
       "Name: Score, dtype: float64"
      ]
     },
     "metadata": {},
     "output_type": "display_data"
    }
   ],
   "source": [
    "%pylab \n",
    "%matplotlib inline\n",
    "import seaborn as sns\n",
    "\n",
    "\n",
    "def plot_continuous_distribution(data, col, bins='sturges'):\n",
    "    \"\"\"\n",
    "    Plot distribution plot, box plot and statistical distribution figures\n",
    "    \n",
    "    Args: \n",
    "        data(DataFrame): Name of the dataframe \n",
    "        \n",
    "        col(String): Name of the column to plot\n",
    "        \n",
    "    Returns:\n",
    "        Variable distribution plots and figures\n",
    "    \"\"\"\n",
    "    \n",
    "    fig, ax = plt.subplots(nrows=1, ncols=2, figsize=(50,10))\n",
    "    \n",
    "    sns.histplot(data=data, x=col, bins='sturges', kde=True, ax=ax[0])\n",
    "    ax[0].set_xlabel(f\"{col}\")\n",
    "    ax[0].set_ylabel(\"Nombre d'observations\")\n",
    "    ax[0].set_title(f\"Histograme de la variable {col}\")\n",
    "    \n",
    "    sns.boxplot(data=data, x=col)\n",
    "    ax[1].set_xlabel(f\"{col}\")\n",
    "    ax[1].set_ylabel(\"Nombre d'oservations\")\n",
    "    ax[1].set_title(f\"Boîte à moustaches de la variable {col}\")\n",
    "    plt.show()\n",
    "    \n",
    "    print(\"\\n\" + \"-\" * 50 + \"\\n\")\n",
    "    print(f\"Indicateurs statistiques de distribution de la variable {col}:\")\n",
    "    display(data[col].describe())\n",
    "    \n",
    "    \n",
    "plot_continuous_distribution(data=data, col='Score')"
   ]
  },
  {
   "cell_type": "markdown",
   "id": "35af6afa",
   "metadata": {},
   "source": [
    "Viewcount"
   ]
  },
  {
   "cell_type": "code",
   "execution_count": 135,
   "id": "1f282926",
   "metadata": {},
   "outputs": [
    {
     "data": {
      "image/png": "[encoded data removed]",
      "text/plain": [
       "<Figure size 3600x720 with 2 Axes>"
      ]
     },
     "metadata": {
      "needs_background": "light"
     },
     "output_type": "display_data"
    },
    {
     "name": "stdout",
     "output_type": "stream",
     "text": [
      "\n",
      "--------------------------------------------------\n",
      "\n",
      "Indicateurs statistiques de distribution de la variable ViewCount:\n"
     ]
    },
    {
     "data": {
      "text/plain": [
       "count    2.793300e+04\n",
       "mean     1.120698e+05\n",
       "std      2.467875e+05\n",
       "min      2.760000e+02\n",
       "25%      2.183900e+04\n",
       "50%      4.900500e+04\n",
       "75%      1.122840e+05\n",
       "max      1.030442e+07\n",
       "Name: ViewCount, dtype: float64"
      ]
     },
     "metadata": {},
     "output_type": "display_data"
    }
   ],
   "source": [
    "plot_continuous_distribution(data=data, col='ViewCount')"
   ]
  },
  {
   "cell_type": "markdown",
   "id": "ff90a440",
   "metadata": {},
   "source": [
    "Answer count"
   ]
  },
  {
   "cell_type": "code",
   "execution_count": 136,
   "id": "47700008",
   "metadata": {},
   "outputs": [
    {
     "data": {
      "image/png": "[encoded data removed]",
      "text/plain": [
       "<Figure size 3600x720 with 2 Axes>"
      ]
     },
     "metadata": {
      "needs_background": "light"
     },
     "output_type": "display_data"
    },
    {
     "name": "stdout",
     "output_type": "stream",
     "text": [
      "\n",
      "--------------------------------------------------\n",
      "\n",
      "Indicateurs statistiques de distribution de la variable AnswerCount:\n"
     ]
    },
    {
     "data": {
      "text/plain": [
       "count    27933.000000\n",
       "mean         7.154871\n",
       "std          6.789046\n",
       "min          1.000000\n",
       "25%          3.000000\n",
       "50%          5.000000\n",
       "75%          9.000000\n",
       "max        128.000000\n",
       "Name: AnswerCount, dtype: float64"
      ]
     },
     "metadata": {},
     "output_type": "display_data"
    }
   ],
   "source": [
    "plot_continuous_distribution(data=data, col='AnswerCount')"
   ]
  },
  {
   "cell_type": "markdown",
   "id": "6cce6f61",
   "metadata": {},
   "source": [
    "Favoriate count"
   ]
  },
  {
   "cell_type": "code",
   "execution_count": 137,
   "id": "b2f2e499",
   "metadata": {},
   "outputs": [
    {
     "data": {
      "image/png": "[encoded data removed]",
      "text/plain": [
       "<Figure size 3600x720 with 2 Axes>"
      ]
     },
     "metadata": {
      "needs_background": "light"
     },
     "output_type": "display_data"
    },
    {
     "name": "stdout",
     "output_type": "stream",
     "text": [
      "\n",
      "--------------------------------------------------\n",
      "\n",
      "Indicateurs statistiques de distribution de la variable FavoriteCount:\n"
     ]
    },
    {
     "data": {
      "text/plain": [
       "count    27933.000000\n",
       "mean        42.705044\n",
       "std        145.693052\n",
       "min         11.000000\n",
       "25%         14.000000\n",
       "50%         19.000000\n",
       "75%         35.000000\n",
       "max      11654.000000\n",
       "Name: FavoriteCount, dtype: float64"
      ]
     },
     "metadata": {},
     "output_type": "display_data"
    }
   ],
   "source": [
    "plot_continuous_distribution(data=data, col='FavoriteCount')"
   ]
  },
  {
   "cell_type": "markdown",
   "id": "0439d14d",
   "metadata": {},
   "source": [
    "AnswerCount "
   ]
  },
  {
   "cell_type": "code",
   "execution_count": 138,
   "id": "630834db",
   "metadata": {},
   "outputs": [
    {
     "data": {
      "image/png": "[encoded data removed]",
      "text/plain": [
       "<Figure size 3600x720 with 2 Axes>"
      ]
     },
     "metadata": {
      "needs_background": "light"
     },
     "output_type": "display_data"
    },
    {
     "name": "stdout",
     "output_type": "stream",
     "text": [
      "\n",
      "--------------------------------------------------\n",
      "\n",
      "Indicateurs statistiques de distribution de la variable AnswerCount:\n"
     ]
    },
    {
     "data": {
      "text/plain": [
       "count    27933.000000\n",
       "mean         7.154871\n",
       "std          6.789046\n",
       "min          1.000000\n",
       "25%          3.000000\n",
       "50%          5.000000\n",
       "75%          9.000000\n",
       "max        128.000000\n",
       "Name: AnswerCount, dtype: float64"
      ]
     },
     "metadata": {},
     "output_type": "display_data"
    }
   ],
   "source": [
    "plot_continuous_distribution(data=data, col='AnswerCount')"
   ]
  },
  {
   "cell_type": "markdown",
   "id": "f532f3a3",
   "metadata": {},
   "source": [
    "Correlation "
   ]
  },
  {
   "cell_type": "code",
   "execution_count": 139,
   "id": "e192685e",
   "metadata": {},
   "outputs": [
    {
     "data": {
      "text/html": [
       "<div>\n",
       "<style scoped>\n",
       "    .dataframe tbody tr th:only-of-type {\n",
       "        vertical-align: middle;\n",
       "    }\n",
       "\n",
       "    .dataframe tbody tr th {\n",
       "        vertical-align: top;\n",
       "    }\n",
       "\n",
       "    .dataframe thead th {\n",
       "        text-align: right;\n",
       "    }\n",
       "</style>\n",
       "<table border=\"1\" class=\"dataframe\">\n",
       "  <thead>\n",
       "    <tr style=\"text-align: right;\">\n",
       "      <th></th>\n",
       "      <th>Id</th>\n",
       "      <th>Score</th>\n",
       "      <th>ViewCount</th>\n",
       "      <th>FavoriteCount</th>\n",
       "      <th>AnswerCount</th>\n",
       "    </tr>\n",
       "  </thead>\n",
       "  <tbody>\n",
       "    <tr>\n",
       "      <th>Id</th>\n",
       "      <td>1.000000</td>\n",
       "      <td>-0.084981</td>\n",
       "      <td>-0.091345</td>\n",
       "      <td>-0.088046</td>\n",
       "      <td>-0.103327</td>\n",
       "    </tr>\n",
       "    <tr>\n",
       "      <th>Score</th>\n",
       "      <td>-0.084981</td>\n",
       "      <td>1.000000</td>\n",
       "      <td>0.675431</td>\n",
       "      <td>0.891095</td>\n",
       "      <td>0.397045</td>\n",
       "    </tr>\n",
       "    <tr>\n",
       "      <th>ViewCount</th>\n",
       "      <td>-0.091345</td>\n",
       "      <td>0.675431</td>\n",
       "      <td>1.000000</td>\n",
       "      <td>0.507306</td>\n",
       "      <td>0.481836</td>\n",
       "    </tr>\n",
       "    <tr>\n",
       "      <th>FavoriteCount</th>\n",
       "      <td>-0.088046</td>\n",
       "      <td>0.891095</td>\n",
       "      <td>0.507306</td>\n",
       "      <td>1.000000</td>\n",
       "      <td>0.313146</td>\n",
       "    </tr>\n",
       "    <tr>\n",
       "      <th>AnswerCount</th>\n",
       "      <td>-0.103327</td>\n",
       "      <td>0.397045</td>\n",
       "      <td>0.481836</td>\n",
       "      <td>0.313146</td>\n",
       "      <td>1.000000</td>\n",
       "    </tr>\n",
       "  </tbody>\n",
       "</table>\n",
       "</div>"
      ],
      "text/plain": [
       "                     Id     Score  ViewCount  FavoriteCount  AnswerCount\n",
       "Id             1.000000 -0.084981  -0.091345      -0.088046    -0.103327\n",
       "Score         -0.084981  1.000000   0.675431       0.891095     0.397045\n",
       "ViewCount     -0.091345  0.675431   1.000000       0.507306     0.481836\n",
       "FavoriteCount -0.088046  0.891095   0.507306       1.000000     0.313146\n",
       "AnswerCount   -0.103327  0.397045   0.481836       0.313146     1.000000"
      ]
     },
     "execution_count": 139,
     "metadata": {},
     "output_type": "execute_result"
    }
   ],
   "source": [
    "data.corr()"
   ]
  },
  {
   "cell_type": "code",
   "execution_count": 140,
   "id": "708db72a",
   "metadata": {},
   "outputs": [
    {
     "data": {
      "image/png": "[encoded data removed]",
      "text/plain": [
       "<Figure size 432x288 with 2 Axes>"
      ]
     },
     "metadata": {
      "needs_background": "light"
     },
     "output_type": "display_data"
    }
   ],
   "source": [
    "sns.heatmap(data.corr());"
   ]
  },
  {
   "cell_type": "code",
   "execution_count": 141,
   "id": "ea9e4b6a",
   "metadata": {},
   "outputs": [
    {
     "data": {
      "text/plain": [
       "'/home/ping/code/public-health/stackoverflow/notebook'"
      ]
     },
     "execution_count": 141,
     "metadata": {},
     "output_type": "execute_result"
    }
   ],
   "source": [
    "pwd"
   ]
  },
  {
   "cell_type": "code",
   "execution_count": 142,
   "id": "eb45e9dd",
   "metadata": {},
   "outputs": [
    {
     "data": {
      "text/html": [
       "<div>\n",
       "<style scoped>\n",
       "    .dataframe tbody tr th:only-of-type {\n",
       "        vertical-align: middle;\n",
       "    }\n",
       "\n",
       "    .dataframe tbody tr th {\n",
       "        vertical-align: top;\n",
       "    }\n",
       "\n",
       "    .dataframe thead th {\n",
       "        text-align: right;\n",
       "    }\n",
       "</style>\n",
       "<table border=\"1\" class=\"dataframe\">\n",
       "  <thead>\n",
       "    <tr style=\"text-align: right;\">\n",
       "      <th></th>\n",
       "      <th>Title</th>\n",
       "      <th>Body</th>\n",
       "      <th>Tags</th>\n",
       "      <th>Id</th>\n",
       "      <th>Score</th>\n",
       "      <th>ViewCount</th>\n",
       "      <th>FavoriteCount</th>\n",
       "      <th>AnswerCount</th>\n",
       "    </tr>\n",
       "  </thead>\n",
       "  <tbody>\n",
       "    <tr>\n",
       "      <th>21337</th>\n",
       "      <td>Why is processing a sorted array faster than p...</td>\n",
       "      <td>&lt;p&gt;Here is a piece of C++ code that shows some...</td>\n",
       "      <td>&lt;java&gt;&lt;c++&gt;&lt;performance&gt;&lt;cpu-architecture&gt;&lt;bra...</td>\n",
       "      <td>11227809</td>\n",
       "      <td>26631</td>\n",
       "      <td>1748348</td>\n",
       "      <td>11654</td>\n",
       "      <td>27</td>\n",
       "    </tr>\n",
       "    <tr>\n",
       "      <th>14803</th>\n",
       "      <td>How do I delete a Git branch locally and remot...</td>\n",
       "      <td>&lt;h4&gt;Failed Attempts to Delete a Remote Branch:...</td>\n",
       "      <td>&lt;git&gt;&lt;version-control&gt;&lt;git-branch&gt;&lt;git-push&gt;&lt;g...</td>\n",
       "      <td>2003505</td>\n",
       "      <td>19584</td>\n",
       "      <td>10304417</td>\n",
       "      <td>5960</td>\n",
       "      <td>42</td>\n",
       "    </tr>\n",
       "    <tr>\n",
       "      <th>9717</th>\n",
       "      <td>What is the \"--&gt;\" operator in C++?</td>\n",
       "      <td>&lt;p&gt;After reading &lt;a href=\"http://groups.google...</td>\n",
       "      <td>&lt;c++&gt;&lt;c&gt;&lt;operators&gt;&lt;code-formatting&gt;&lt;standards...</td>\n",
       "      <td>1642028</td>\n",
       "      <td>9847</td>\n",
       "      <td>936958</td>\n",
       "      <td>2229</td>\n",
       "      <td>28</td>\n",
       "    </tr>\n",
       "    <tr>\n",
       "      <th>5496</th>\n",
       "      <td>What and where are the stack and heap?</td>\n",
       "      <td>&lt;ul&gt;\\n&lt;li&gt;What are the stack and heap?&lt;/li&gt;\\n&lt;...</td>\n",
       "      <td>&lt;memory-management&gt;&lt;stack&gt;&lt;language-agnostic&gt;&lt;...</td>\n",
       "      <td>79923</td>\n",
       "      <td>9110</td>\n",
       "      <td>1785988</td>\n",
       "      <td>5265</td>\n",
       "      <td>32</td>\n",
       "    </tr>\n",
       "    <tr>\n",
       "      <th>852</th>\n",
       "      <td>How do I force \"git pull\" to overwrite local f...</td>\n",
       "      <td>&lt;p&gt;How do I force an overwrite of local files ...</td>\n",
       "      <td>&lt;git&gt;&lt;version-control&gt;&lt;overwrite&gt;&lt;git-pull&gt;&lt;gi...</td>\n",
       "      <td>1125968</td>\n",
       "      <td>8926</td>\n",
       "      <td>7029777</td>\n",
       "      <td>3070</td>\n",
       "      <td>47</td>\n",
       "    </tr>\n",
       "    <tr>\n",
       "      <th>...</th>\n",
       "      <td>...</td>\n",
       "      <td>...</td>\n",
       "      <td>...</td>\n",
       "      <td>...</td>\n",
       "      <td>...</td>\n",
       "      <td>...</td>\n",
       "      <td>...</td>\n",
       "      <td>...</td>\n",
       "    </tr>\n",
       "    <tr>\n",
       "      <th>16600</th>\n",
       "      <td>Android 7.0 Notification Sound from File Provi...</td>\n",
       "      <td>&lt;p&gt;I'm changing my app code for supporting And...</td>\n",
       "      <td>&lt;java&gt;&lt;android&gt;&lt;android-studio&gt;&lt;android-filepr...</td>\n",
       "      <td>39359465</td>\n",
       "      <td>6</td>\n",
       "      <td>4478</td>\n",
       "      <td>11</td>\n",
       "      <td>1</td>\n",
       "    </tr>\n",
       "    <tr>\n",
       "      <th>4143</th>\n",
       "      <td>MDM Agent on iOS</td>\n",
       "      <td>&lt;p&gt;I worked on MDM in Android, and used the AP...</td>\n",
       "      <td>&lt;android&gt;&lt;ios&gt;&lt;apple-push-notifications&gt;&lt;andro...</td>\n",
       "      <td>10041711</td>\n",
       "      <td>6</td>\n",
       "      <td>3716</td>\n",
       "      <td>11</td>\n",
       "      <td>3</td>\n",
       "    </tr>\n",
       "    <tr>\n",
       "      <th>21887</th>\n",
       "      <td>SciPy optimization with grouped bounds</td>\n",
       "      <td>&lt;p&gt;I am trying to perform a portfolio optimiza...</td>\n",
       "      <td>&lt;python&gt;&lt;optimization&gt;&lt;pandas&gt;&lt;scipy&gt;&lt;finance&gt;</td>\n",
       "      <td>18218355</td>\n",
       "      <td>6</td>\n",
       "      <td>3120</td>\n",
       "      <td>13</td>\n",
       "      <td>2</td>\n",
       "    </tr>\n",
       "    <tr>\n",
       "      <th>18453</th>\n",
       "      <td>How can I accurately benchmark unaligned acces...</td>\n",
       "      <td>&lt;p&gt;In &lt;a href=\"https://stackoverflow.com/quest...</td>\n",
       "      <td>&lt;performance&gt;&lt;x86&gt;&lt;x86-64&gt;&lt;benchmarking&gt;&lt;inlin...</td>\n",
       "      <td>45128763</td>\n",
       "      <td>6</td>\n",
       "      <td>2732</td>\n",
       "      <td>12</td>\n",
       "      <td>3</td>\n",
       "    </tr>\n",
       "    <tr>\n",
       "      <th>19180</th>\n",
       "      <td>Reducing WithEvent declarations and subs with ...</td>\n",
       "      <td>&lt;p&gt;On a worksheet I have 3 ActiveX objects bei...</td>\n",
       "      <td>&lt;excel&gt;&lt;vba&gt;&lt;class&gt;&lt;activex&gt;&lt;worksheet&gt;</td>\n",
       "      <td>61855925</td>\n",
       "      <td>6</td>\n",
       "      <td>1002</td>\n",
       "      <td>11</td>\n",
       "      <td>1</td>\n",
       "    </tr>\n",
       "  </tbody>\n",
       "</table>\n",
       "<p>27933 rows × 8 columns</p>\n",
       "</div>"
      ],
      "text/plain": [
       "                                                   Title  \\\n",
       "21337  Why is processing a sorted array faster than p...   \n",
       "14803  How do I delete a Git branch locally and remot...   \n",
       "9717                  What is the \"-->\" operator in C++?   \n",
       "5496              What and where are the stack and heap?   \n",
       "852    How do I force \"git pull\" to overwrite local f...   \n",
       "...                                                  ...   \n",
       "16600  Android 7.0 Notification Sound from File Provi...   \n",
       "4143                                    MDM Agent on iOS   \n",
       "21887             SciPy optimization with grouped bounds   \n",
       "18453  How can I accurately benchmark unaligned acces...   \n",
       "19180  Reducing WithEvent declarations and subs with ...   \n",
       "\n",
       "                                                    Body  \\\n",
       "21337  <p>Here is a piece of C++ code that shows some...   \n",
       "14803  <h4>Failed Attempts to Delete a Remote Branch:...   \n",
       "9717   <p>After reading <a href=\"http://groups.google...   \n",
       "5496   <ul>\\n<li>What are the stack and heap?</li>\\n<...   \n",
       "852    <p>How do I force an overwrite of local files ...   \n",
       "...                                                  ...   \n",
       "16600  <p>I'm changing my app code for supporting And...   \n",
       "4143   <p>I worked on MDM in Android, and used the AP...   \n",
       "21887  <p>I am trying to perform a portfolio optimiza...   \n",
       "18453  <p>In <a href=\"https://stackoverflow.com/quest...   \n",
       "19180  <p>On a worksheet I have 3 ActiveX objects bei...   \n",
       "\n",
       "                                                    Tags        Id  Score  \\\n",
       "21337  <java><c++><performance><cpu-architecture><bra...  11227809  26631   \n",
       "14803  <git><version-control><git-branch><git-push><g...   2003505  19584   \n",
       "9717   <c++><c><operators><code-formatting><standards...   1642028   9847   \n",
       "5496   <memory-management><stack><language-agnostic><...     79923   9110   \n",
       "852    <git><version-control><overwrite><git-pull><gi...   1125968   8926   \n",
       "...                                                  ...       ...    ...   \n",
       "16600  <java><android><android-studio><android-filepr...  39359465      6   \n",
       "4143   <android><ios><apple-push-notifications><andro...  10041711      6   \n",
       "21887     <python><optimization><pandas><scipy><finance>  18218355      6   \n",
       "18453  <performance><x86><x86-64><benchmarking><inlin...  45128763      6   \n",
       "19180            <excel><vba><class><activex><worksheet>  61855925      6   \n",
       "\n",
       "       ViewCount  FavoriteCount  AnswerCount  \n",
       "21337    1748348          11654           27  \n",
       "14803   10304417           5960           42  \n",
       "9717      936958           2229           28  \n",
       "5496     1785988           5265           32  \n",
       "852      7029777           3070           47  \n",
       "...          ...            ...          ...  \n",
       "16600       4478             11            1  \n",
       "4143        3716             11            3  \n",
       "21887       3120             13            2  \n",
       "18453       2732             12            3  \n",
       "19180       1002             11            1  \n",
       "\n",
       "[27933 rows x 8 columns]"
      ]
     },
     "metadata": {},
     "output_type": "display_data"
    },
    {
     "name": "stdout",
     "output_type": "stream",
     "text": [
      "Porportion de données restantes: 100.0%\n"
     ]
    }
   ],
   "source": [
    "filtered_data = data[(data['Score'] > 0) &\n",
    "                           (data['AnswerCount']>0) &\n",
    "                           (data['FavoriteCount']>0) &\n",
    "                           (data['ViewCount']>0)]\n",
    "filtered_data.sort_values(['Score', 'ViewCount'], ascending=[False, False], inplace=True)\n",
    "filtered_data_prop = round((filtered_data.shape[0] / data.shape[0] * 100),2)\n",
    "display(filtered_data)\n",
    "print(f\"Porportion de données restantes: {filtered_data_prop}%\")\n",
    "\n",
    "data.to_csv('filtered_data.csv', sep=\",\", index=False)"
   ]
  },
  {
   "cell_type": "code",
   "execution_count": null,
   "id": "6cd37255",
   "metadata": {},
   "outputs": [],
   "source": []
  },
  {
   "cell_type": "code",
   "execution_count": null,
   "id": "75df4a92",
   "metadata": {},
   "outputs": [],
   "source": []
  },
  {
   "cell_type": "code",
   "execution_count": 143,
   "id": "77c5fc5d",
   "metadata": {},
   "outputs": [
    {
     "data": {
      "text/html": [
       "<div>\n",
       "<style scoped>\n",
       "    .dataframe tbody tr th:only-of-type {\n",
       "        vertical-align: middle;\n",
       "    }\n",
       "\n",
       "    .dataframe tbody tr th {\n",
       "        vertical-align: top;\n",
       "    }\n",
       "\n",
       "    .dataframe thead th {\n",
       "        text-align: right;\n",
       "    }\n",
       "</style>\n",
       "<table border=\"1\" class=\"dataframe\">\n",
       "  <thead>\n",
       "    <tr style=\"text-align: right;\">\n",
       "      <th></th>\n",
       "      <th>Id</th>\n",
       "      <th>Title</th>\n",
       "      <th>Body</th>\n",
       "      <th>Tags</th>\n",
       "    </tr>\n",
       "  </thead>\n",
       "  <tbody>\n",
       "    <tr>\n",
       "      <th>0</th>\n",
       "      <td>1898</td>\n",
       "      <td>Import CSV file to strongly typed data structu...</td>\n",
       "      <td>&lt;p&gt;What's the best way to import a CSV file in...</td>\n",
       "      <td>&lt;c#&gt;&lt;vb.net&gt;&lt;file&gt;&lt;csv&gt;&lt;import&gt;</td>\n",
       "    </tr>\n",
       "    <tr>\n",
       "      <th>1</th>\n",
       "      <td>1939041</td>\n",
       "      <td>Change hash without reload in jQuery</td>\n",
       "      <td>&lt;p&gt;I have the following code:&lt;/p&gt;\\n\\n&lt;pre&gt;&lt;cod...</td>\n",
       "      <td>&lt;jquery&gt;&lt;hash&gt;&lt;reload&gt;&lt;fragment-identifier&gt;&lt;wi...</td>\n",
       "    </tr>\n",
       "    <tr>\n",
       "      <th>2</th>\n",
       "      <td>2027</td>\n",
       "      <td>Pass by reference or pass by value?</td>\n",
       "      <td>&lt;p&gt;When learning a new programming language, o...</td>\n",
       "      <td>&lt;language-agnostic&gt;&lt;oop&gt;&lt;parameters&gt;&lt;pass-by-r...</td>\n",
       "    </tr>\n",
       "    <tr>\n",
       "      <th>3</th>\n",
       "      <td>2056</td>\n",
       "      <td>What are MVP and MVC and what is the difference?</td>\n",
       "      <td>&lt;p&gt;When looking beyond the &lt;a href=\"https://en...</td>\n",
       "      <td>&lt;user-interface&gt;&lt;model-view-controller&gt;&lt;design...</td>\n",
       "    </tr>\n",
       "    <tr>\n",
       "      <th>4</th>\n",
       "      <td>2138</td>\n",
       "      <td>LINQ on the .NET 2.0 Runtime</td>\n",
       "      <td>&lt;p&gt;Can a LINQ enabled app run on a machine tha...</td>\n",
       "      <td>&lt;.net&gt;&lt;linq&gt;&lt;.net-3.5&gt;&lt;.net-2.0&gt;&lt;clr&gt;</td>\n",
       "    </tr>\n",
       "    <tr>\n",
       "      <th>5</th>\n",
       "      <td>2658</td>\n",
       "      <td>Getting started with Version Control System</td>\n",
       "      <td>&lt;p&gt;I need to implement version control, even f...</td>\n",
       "      <td>&lt;git&gt;&lt;svn&gt;&lt;version-control&gt;&lt;language-agnostic&gt;...</td>\n",
       "    </tr>\n",
       "    <tr>\n",
       "      <th>6</th>\n",
       "      <td>8351</td>\n",
       "      <td>Is there something like \"Firebug for IE\" (for ...</td>\n",
       "      <td>&lt;p&gt;I'm trying to fix some JavaScript bugs. Fir...</td>\n",
       "      <td>&lt;javascript&gt;&lt;debugging&gt;&lt;internet-explorer&gt;&lt;fir...</td>\n",
       "    </tr>\n",
       "    <tr>\n",
       "      <th>7</th>\n",
       "      <td>18912290</td>\n",
       "      <td>how to present a view controller on iOS7 witho...</td>\n",
       "      <td>&lt;p&gt;I'm seeing when I migrated my app to iOS 7,...</td>\n",
       "      <td>&lt;ios&gt;&lt;objective-c&gt;&lt;uiviewcontroller&gt;&lt;ios7&gt;&lt;sta...</td>\n",
       "    </tr>\n",
       "    <tr>\n",
       "      <th>8</th>\n",
       "      <td>18913676</td>\n",
       "      <td>Xcode : failed to get the task for process</td>\n",
       "      <td>&lt;p&gt;This is for an existing app that compiled a...</td>\n",
       "      <td>&lt;ios&gt;&lt;xcode&gt;&lt;code-signing&gt;&lt;provisioning-profil...</td>\n",
       "    </tr>\n",
       "    <tr>\n",
       "      <th>9</th>\n",
       "      <td>8692</td>\n",
       "      <td>How to use XPath in Python?</td>\n",
       "      <td>&lt;p&gt;What are the libraries that support XPath? ...</td>\n",
       "      <td>&lt;python&gt;&lt;xml&gt;&lt;dom&gt;&lt;xpath&gt;&lt;python-2.x&gt;</td>\n",
       "    </tr>\n",
       "  </tbody>\n",
       "</table>\n",
       "</div>"
      ],
      "text/plain": [
       "         Id                                              Title  \\\n",
       "0      1898  Import CSV file to strongly typed data structu...   \n",
       "1   1939041               Change hash without reload in jQuery   \n",
       "2      2027                Pass by reference or pass by value?   \n",
       "3      2056   What are MVP and MVC and what is the difference?   \n",
       "4      2138                       LINQ on the .NET 2.0 Runtime   \n",
       "5      2658        Getting started with Version Control System   \n",
       "6      8351  Is there something like \"Firebug for IE\" (for ...   \n",
       "7  18912290  how to present a view controller on iOS7 witho...   \n",
       "8  18913676         Xcode : failed to get the task for process   \n",
       "9      8692                        How to use XPath in Python?   \n",
       "\n",
       "                                                Body  \\\n",
       "0  <p>What's the best way to import a CSV file in...   \n",
       "1  <p>I have the following code:</p>\\n\\n<pre><cod...   \n",
       "2  <p>When learning a new programming language, o...   \n",
       "3  <p>When looking beyond the <a href=\"https://en...   \n",
       "4  <p>Can a LINQ enabled app run on a machine tha...   \n",
       "5  <p>I need to implement version control, even f...   \n",
       "6  <p>I'm trying to fix some JavaScript bugs. Fir...   \n",
       "7  <p>I'm seeing when I migrated my app to iOS 7,...   \n",
       "8  <p>This is for an existing app that compiled a...   \n",
       "9  <p>What are the libraries that support XPath? ...   \n",
       "\n",
       "                                                Tags  \n",
       "0                    <c#><vb.net><file><csv><import>  \n",
       "1  <jquery><hash><reload><fragment-identifier><wi...  \n",
       "2  <language-agnostic><oop><parameters><pass-by-r...  \n",
       "3  <user-interface><model-view-controller><design...  \n",
       "4              <.net><linq><.net-3.5><.net-2.0><clr>  \n",
       "5  <git><svn><version-control><language-agnostic>...  \n",
       "6  <javascript><debugging><internet-explorer><fir...  \n",
       "7  <ios><objective-c><uiviewcontroller><ios7><sta...  \n",
       "8  <ios><xcode><code-signing><provisioning-profil...  \n",
       "9              <python><xml><dom><xpath><python-2.x>  "
      ]
     },
     "execution_count": 143,
     "metadata": {},
     "output_type": "execute_result"
    }
   ],
   "source": [
    "import pandas as pd\n",
    "import numpy as np\n",
    "import IPython.display\n",
    "\n",
    "data = pd.read_csv('./filtered_data.csv', usecols=['Id','Title', 'Body', 'Tags'], index_col='Id')\n",
    "data.reset_index(inplace=True)\n",
    "#data.drop(columns='Id', inplace=True)\n",
    "data.head(10)"
   ]
  },
  {
   "cell_type": "code",
   "execution_count": 144,
   "id": "8be63170",
   "metadata": {},
   "outputs": [],
   "source": [
    "#data.sample(20)"
   ]
  },
  {
   "cell_type": "code",
   "execution_count": null,
   "id": "79dd1a76",
   "metadata": {},
   "outputs": [],
   "source": []
  },
  {
   "cell_type": "code",
   "execution_count": null,
   "id": "c80d869c",
   "metadata": {},
   "outputs": [],
   "source": []
  },
  {
   "cell_type": "code",
   "execution_count": null,
   "id": "938c2a17",
   "metadata": {},
   "outputs": [],
   "source": []
  },
  {
   "cell_type": "code",
   "execution_count": 145,
   "id": "6132774d",
   "metadata": {},
   "outputs": [],
   "source": [
    "# When importing nltk for the first time, we need to also download a few built-in libraries\n",
    "\n",
    "import nltk\n",
    "\n",
    "#nltk.download('stopwords')\n",
    "#nltk.download('punkt')\n",
    "#nltk.download('wordnet')\n",
    "#nltk.download('omw-1.4')"
   ]
  },
  {
   "cell_type": "code",
   "execution_count": null,
   "id": "321ae64d",
   "metadata": {},
   "outputs": [],
   "source": []
  },
  {
   "cell_type": "code",
   "execution_count": null,
   "id": "e4ecf58b",
   "metadata": {},
   "outputs": [],
   "source": []
  },
  {
   "cell_type": "code",
   "execution_count": null,
   "id": "64e1a5fd",
   "metadata": {},
   "outputs": [],
   "source": []
  },
  {
   "cell_type": "code",
   "execution_count": null,
   "id": "167ea1ca",
   "metadata": {},
   "outputs": [],
   "source": []
  },
  {
   "cell_type": "code",
   "execution_count": null,
   "id": "2f4af77b",
   "metadata": {},
   "outputs": [],
   "source": []
  },
  {
   "cell_type": "code",
   "execution_count": 146,
   "id": "df0622cb",
   "metadata": {},
   "outputs": [
    {
     "data": {
      "text/plain": [
       "0        Import CSV file to strongly typed data structu...\n",
       "1                     Change hash without reload in jQuery\n",
       "2                      Pass by reference or pass by value?\n",
       "3         What are MVP and MVC and what is the difference?\n",
       "4                             LINQ on the .NET 2.0 Runtime\n",
       "                               ...                        \n",
       "27928                            Django - Login with Email\n",
       "27929    Is there a python equivalent for RSpec to do TDD?\n",
       "27930                   How to install GCC/G++ 8 on CentOS\n",
       "27931      How to use TabLayout with ViewPager2 in Android\n",
       "27932    Mystifying microbenchmark result for stream AP...\n",
       "Name: Title, Length: 27447, dtype: object"
      ]
     },
     "execution_count": 146,
     "metadata": {},
     "output_type": "execute_result"
    }
   ],
   "source": [
    "df['Title']"
   ]
  },
  {
   "cell_type": "code",
   "execution_count": 147,
   "id": "661ca7dd",
   "metadata": {},
   "outputs": [
    {
     "data": {
      "text/plain": [
       "'!\"#$%&\\'()*+,-./:;<=>?@[\\\\]^_`{|}~'"
      ]
     },
     "execution_count": 147,
     "metadata": {},
     "output_type": "execute_result"
    }
   ],
   "source": [
    "import string\n",
    "string .punctuation"
   ]
  },
  {
   "cell_type": "code",
   "execution_count": 148,
   "id": "a3fd598f",
   "metadata": {},
   "outputs": [],
   "source": [
    "def remove_punctuation(Title):\n",
    "    for punctuation in string.punctuation:\n",
    "        Title = Title.replace(punctuation, '')\n",
    "    return Title"
   ]
  },
  {
   "cell_type": "code",
   "execution_count": 149,
   "id": "d3e60bad",
   "metadata": {},
   "outputs": [],
   "source": [
    "df['clean_title'] = df['Title'].apply(remove_punctuation)"
   ]
  },
  {
   "cell_type": "code",
   "execution_count": 150,
   "id": "a5feaf65",
   "metadata": {},
   "outputs": [
    {
     "data": {
      "text/plain": [
       "0        Import CSV file to strongly typed data structu...\n",
       "1                     Change hash without reload in jQuery\n",
       "2                       Pass by reference or pass by value\n",
       "3          What are MVP and MVC and what is the difference\n",
       "4                               LINQ on the NET 20 Runtime\n",
       "                               ...                        \n",
       "27928                             Django  Login with Email\n",
       "27929     Is there a python equivalent for RSpec to do TDD\n",
       "27930                      How to install GCCG 8 on CentOS\n",
       "27931      How to use TabLayout with ViewPager2 in Android\n",
       "27932    Mystifying microbenchmark result for stream AP...\n",
       "Name: clean_title, Length: 27447, dtype: object"
      ]
     },
     "execution_count": 150,
     "metadata": {},
     "output_type": "execute_result"
    }
   ],
   "source": [
    "df['clean_title']"
   ]
  },
  {
   "cell_type": "code",
   "execution_count": 151,
   "id": "e3e5c93e",
   "metadata": {},
   "outputs": [],
   "source": [
    "#lower case"
   ]
  },
  {
   "cell_type": "code",
   "execution_count": 152,
   "id": "b496d60e",
   "metadata": {},
   "outputs": [],
   "source": [
    "clean_title = df['clean_title'].str.lower() \n",
    "df['clean_title'] = clean_title"
   ]
  },
  {
   "cell_type": "code",
   "execution_count": 153,
   "id": "24563c56",
   "metadata": {},
   "outputs": [
    {
     "data": {
      "text/plain": [
       "0        import csv file to strongly typed data structu...\n",
       "1                     change hash without reload in jquery\n",
       "2                       pass by reference or pass by value\n",
       "3          what are mvp and mvc and what is the difference\n",
       "4                               linq on the net 20 runtime\n",
       "                               ...                        \n",
       "27928                             django  login with email\n",
       "27929     is there a python equivalent for rspec to do tdd\n",
       "27930                      how to install gccg 8 on centos\n",
       "27931      how to use tablayout with viewpager2 in android\n",
       "27932    mystifying microbenchmark result for stream ap...\n",
       "Name: clean_title, Length: 27447, dtype: object"
      ]
     },
     "execution_count": 153,
     "metadata": {},
     "output_type": "execute_result"
    }
   ],
   "source": [
    "df['clean_title']"
   ]
  },
  {
   "cell_type": "code",
   "execution_count": 154,
   "id": "6cc3dcdc",
   "metadata": {},
   "outputs": [],
   "source": [
    "#Remove numbers "
   ]
  },
  {
   "cell_type": "code",
   "execution_count": 155,
   "id": "d54df778",
   "metadata": {},
   "outputs": [],
   "source": [
    "def remove_digits(title):\n",
    "    \n",
    "    clean_title = ''.join(word for word in title if not word.isdigit())\n",
    "    return clean_title\n",
    "   "
   ]
  },
  {
   "cell_type": "code",
   "execution_count": 156,
   "id": "85024e42",
   "metadata": {},
   "outputs": [],
   "source": [
    "df['clean_title'] = df['clean_title'].apply(remove_digits)"
   ]
  },
  {
   "cell_type": "code",
   "execution_count": 157,
   "id": "4f3be6b8",
   "metadata": {},
   "outputs": [
    {
     "data": {
      "text/plain": [
       "0        import csv file to strongly typed data structu...\n",
       "1                     change hash without reload in jquery\n",
       "2                       pass by reference or pass by value\n",
       "3          what are mvp and mvc and what is the difference\n",
       "4                                 linq on the net  runtime\n",
       "                               ...                        \n",
       "27928                             django  login with email\n",
       "27929     is there a python equivalent for rspec to do tdd\n",
       "27930                       how to install gccg  on centos\n",
       "27931       how to use tablayout with viewpager in android\n",
       "27932    mystifying microbenchmark result for stream ap...\n",
       "Name: clean_title, Length: 27447, dtype: object"
      ]
     },
     "execution_count": 157,
     "metadata": {},
     "output_type": "execute_result"
    }
   ],
   "source": [
    "df['clean_title']"
   ]
  },
  {
   "cell_type": "code",
   "execution_count": 158,
   "id": "de982f92",
   "metadata": {},
   "outputs": [],
   "source": [
    "# Remove stopwords"
   ]
  },
  {
   "cell_type": "code",
   "execution_count": 159,
   "id": "9aceb971",
   "metadata": {},
   "outputs": [
    {
     "data": {
      "text/plain": [
       "0        import csv file to strongly typed data structu...\n",
       "1                     change hash without reload in jquery\n",
       "2                       pass by reference or pass by value\n",
       "3          what are mvp and mvc and what is the difference\n",
       "4                               linq on the net 20 runtime\n",
       "                               ...                        \n",
       "27928                             django  login with email\n",
       "27929     is there a python equivalent for rspec to do tdd\n",
       "27930                      how to install gccg 8 on centos\n",
       "27931      how to use tablayout with viewpager2 in android\n",
       "27932    mystifying microbenchmark result for stream ap...\n",
       "Name: clean_title, Length: 27447, dtype: object"
      ]
     },
     "execution_count": 159,
     "metadata": {},
     "output_type": "execute_result"
    }
   ],
   "source": [
    "clean_title"
   ]
  },
  {
   "cell_type": "code",
   "execution_count": 160,
   "id": "7d388c51",
   "metadata": {},
   "outputs": [],
   "source": [
    "from nltk.corpus import stopwords \n",
    "from nltk.tokenize import word_tokenize"
   ]
  },
  {
   "cell_type": "code",
   "execution_count": 161,
   "id": "a5bdaa65",
   "metadata": {},
   "outputs": [],
   "source": [
    "stop_words = set(stopwords.words('english')) "
   ]
  },
  {
   "cell_type": "code",
   "execution_count": 162,
   "id": "45122538",
   "metadata": {},
   "outputs": [
    {
     "data": {
      "text/html": [
       "<div>\n",
       "<style scoped>\n",
       "    .dataframe tbody tr th:only-of-type {\n",
       "        vertical-align: middle;\n",
       "    }\n",
       "\n",
       "    .dataframe tbody tr th {\n",
       "        vertical-align: top;\n",
       "    }\n",
       "\n",
       "    .dataframe thead th {\n",
       "        text-align: right;\n",
       "    }\n",
       "</style>\n",
       "<table border=\"1\" class=\"dataframe\">\n",
       "  <thead>\n",
       "    <tr style=\"text-align: right;\">\n",
       "      <th></th>\n",
       "      <th>Title</th>\n",
       "      <th>Body</th>\n",
       "      <th>Tags</th>\n",
       "      <th>_len_Title</th>\n",
       "      <th>_len_Body</th>\n",
       "      <th>_len_Tags</th>\n",
       "      <th>clean_title</th>\n",
       "    </tr>\n",
       "  </thead>\n",
       "  <tbody>\n",
       "    <tr>\n",
       "      <th>0</th>\n",
       "      <td>Import CSV file to strongly typed data structu...</td>\n",
       "      <td>&lt;p&gt;What's the best way to import a CSV file in...</td>\n",
       "      <td>&lt;c#&gt;&lt;vb.net&gt;&lt;file&gt;&lt;csv&gt;&lt;import&gt;</td>\n",
       "      <td>56</td>\n",
       "      <td>86</td>\n",
       "      <td>31</td>\n",
       "      <td>[import, csv, file, strongly, typed, data, str...</td>\n",
       "    </tr>\n",
       "    <tr>\n",
       "      <th>1</th>\n",
       "      <td>Change hash without reload in jQuery</td>\n",
       "      <td>&lt;p&gt;I have the following code:&lt;/p&gt;\\n\\n&lt;pre&gt;&lt;cod...</td>\n",
       "      <td>&lt;jquery&gt;&lt;hash&gt;&lt;reload&gt;&lt;fragment-identifier&gt;&lt;wi...</td>\n",
       "      <td>36</td>\n",
       "      <td>586</td>\n",
       "      <td>60</td>\n",
       "      <td>[change, hash, without, reload, jquery]</td>\n",
       "    </tr>\n",
       "    <tr>\n",
       "      <th>2</th>\n",
       "      <td>Pass by reference or pass by value?</td>\n",
       "      <td>&lt;p&gt;When learning a new programming language, o...</td>\n",
       "      <td>&lt;language-agnostic&gt;&lt;oop&gt;&lt;parameters&gt;&lt;pass-by-r...</td>\n",
       "      <td>35</td>\n",
       "      <td>849</td>\n",
       "      <td>70</td>\n",
       "      <td>[pass, reference, pass, value]</td>\n",
       "    </tr>\n",
       "    <tr>\n",
       "      <th>3</th>\n",
       "      <td>What are MVP and MVC and what is the difference?</td>\n",
       "      <td>&lt;p&gt;When looking beyond the &lt;a href=\"https://en...</td>\n",
       "      <td>&lt;user-interface&gt;&lt;model-view-controller&gt;&lt;design...</td>\n",
       "      <td>48</td>\n",
       "      <td>774</td>\n",
       "      <td>74</td>\n",
       "      <td>[mvp, mvc, difference]</td>\n",
       "    </tr>\n",
       "    <tr>\n",
       "      <th>4</th>\n",
       "      <td>LINQ on the .NET 2.0 Runtime</td>\n",
       "      <td>&lt;p&gt;Can a LINQ enabled app run on a machine tha...</td>\n",
       "      <td>&lt;.net&gt;&lt;linq&gt;&lt;.net-3.5&gt;&lt;.net-2.0&gt;&lt;clr&gt;</td>\n",
       "      <td>28</td>\n",
       "      <td>324</td>\n",
       "      <td>37</td>\n",
       "      <td>[linq, net, runtime]</td>\n",
       "    </tr>\n",
       "  </tbody>\n",
       "</table>\n",
       "</div>"
      ],
      "text/plain": [
       "                                               Title  \\\n",
       "0  Import CSV file to strongly typed data structu...   \n",
       "1               Change hash without reload in jQuery   \n",
       "2                Pass by reference or pass by value?   \n",
       "3   What are MVP and MVC and what is the difference?   \n",
       "4                       LINQ on the .NET 2.0 Runtime   \n",
       "\n",
       "                                                Body  \\\n",
       "0  <p>What's the best way to import a CSV file in...   \n",
       "1  <p>I have the following code:</p>\\n\\n<pre><cod...   \n",
       "2  <p>When learning a new programming language, o...   \n",
       "3  <p>When looking beyond the <a href=\"https://en...   \n",
       "4  <p>Can a LINQ enabled app run on a machine tha...   \n",
       "\n",
       "                                                Tags  _len_Title  _len_Body  \\\n",
       "0                    <c#><vb.net><file><csv><import>          56         86   \n",
       "1  <jquery><hash><reload><fragment-identifier><wi...          36        586   \n",
       "2  <language-agnostic><oop><parameters><pass-by-r...          35        849   \n",
       "3  <user-interface><model-view-controller><design...          48        774   \n",
       "4              <.net><linq><.net-3.5><.net-2.0><clr>          28        324   \n",
       "\n",
       "   _len_Tags                                        clean_title  \n",
       "0         31  [import, csv, file, strongly, typed, data, str...  \n",
       "1         60            [change, hash, without, reload, jquery]  \n",
       "2         70                     [pass, reference, pass, value]  \n",
       "3         74                             [mvp, mvc, difference]  \n",
       "4         37                               [linq, net, runtime]  "
      ]
     },
     "execution_count": 162,
     "metadata": {},
     "output_type": "execute_result"
    }
   ],
   "source": [
    "# Create function\n",
    "def remove_stopwords (title):\n",
    "    tokenized = word_tokenize(title)\n",
    "    without_stopwords = [word for word in tokenized if not word in stop_words]\n",
    "    return without_stopwords\n",
    "\n",
    "df['clean_title'] = df.clean_title.apply(remove_stopwords)\n",
    "\n",
    "df.head()"
   ]
  },
  {
   "cell_type": "code",
   "execution_count": 163,
   "id": "b33b8aa7",
   "metadata": {},
   "outputs": [],
   "source": [
    "# Lemmatize"
   ]
  },
  {
   "cell_type": "code",
   "execution_count": 164,
   "id": "ee7e138e",
   "metadata": {},
   "outputs": [],
   "source": [
    "from nltk.stem import WordNetLemmatizer"
   ]
  },
  {
   "cell_type": "code",
   "execution_count": 165,
   "id": "682f78ed",
   "metadata": {},
   "outputs": [
    {
     "ename": "BadZipFile",
     "evalue": "File is not a zip file",
     "output_type": "error",
     "traceback": [
      "\u001b[0;31m---------------------------------------------------------------------------\u001b[0m",
      "\u001b[0;31mBadZipFile\u001b[0m                                Traceback (most recent call last)",
      "\u001b[0;32m/tmp/ipykernel_1594/467611395.py\u001b[0m in \u001b[0;36m<module>\u001b[0;34m\u001b[0m\n\u001b[1;32m      5\u001b[0m     \u001b[0;32mreturn\u001b[0m \u001b[0mlemmatized_string\u001b[0m\u001b[0;34m\u001b[0m\u001b[0;34m\u001b[0m\u001b[0m\n\u001b[1;32m      6\u001b[0m \u001b[0;34m\u001b[0m\u001b[0m\n\u001b[0;32m----> 7\u001b[0;31m \u001b[0mdf\u001b[0m\u001b[0;34m[\u001b[0m\u001b[0;34m'clean_title'\u001b[0m\u001b[0;34m]\u001b[0m \u001b[0;34m=\u001b[0m \u001b[0mdf\u001b[0m\u001b[0;34m.\u001b[0m\u001b[0mclean_title\u001b[0m\u001b[0;34m.\u001b[0m\u001b[0mapply\u001b[0m\u001b[0;34m(\u001b[0m\u001b[0mlemma\u001b[0m\u001b[0;34m)\u001b[0m\u001b[0;34m\u001b[0m\u001b[0;34m\u001b[0m\u001b[0m\n\u001b[0m\u001b[1;32m      8\u001b[0m \u001b[0;34m\u001b[0m\u001b[0m\n\u001b[1;32m      9\u001b[0m \u001b[0mdf\u001b[0m\u001b[0;34m.\u001b[0m\u001b[0mhead\u001b[0m\u001b[0;34m(\u001b[0m\u001b[0;34m)\u001b[0m\u001b[0;34m\u001b[0m\u001b[0;34m\u001b[0m\u001b[0m\n",
      "\u001b[0;32m~/.pyenv/versions/3.8.12/envs/lewagon/lib/python3.8/site-packages/pandas/core/series.py\u001b[0m in \u001b[0;36mapply\u001b[0;34m(self, func, convert_dtype, args, **kwargs)\u001b[0m\n\u001b[1;32m   4355\u001b[0m         \u001b[0mdtype\u001b[0m\u001b[0;34m:\u001b[0m \u001b[0mfloat64\u001b[0m\u001b[0;34m\u001b[0m\u001b[0;34m\u001b[0m\u001b[0m\n\u001b[1;32m   4356\u001b[0m         \"\"\"\n\u001b[0;32m-> 4357\u001b[0;31m         \u001b[0;32mreturn\u001b[0m \u001b[0mSeriesApply\u001b[0m\u001b[0;34m(\u001b[0m\u001b[0mself\u001b[0m\u001b[0;34m,\u001b[0m \u001b[0mfunc\u001b[0m\u001b[0;34m,\u001b[0m \u001b[0mconvert_dtype\u001b[0m\u001b[0;34m,\u001b[0m \u001b[0margs\u001b[0m\u001b[0;34m,\u001b[0m \u001b[0mkwargs\u001b[0m\u001b[0;34m)\u001b[0m\u001b[0;34m.\u001b[0m\u001b[0mapply\u001b[0m\u001b[0;34m(\u001b[0m\u001b[0;34m)\u001b[0m\u001b[0;34m\u001b[0m\u001b[0;34m\u001b[0m\u001b[0m\n\u001b[0m\u001b[1;32m   4358\u001b[0m \u001b[0;34m\u001b[0m\u001b[0m\n\u001b[1;32m   4359\u001b[0m     def _reduce(\n",
      "\u001b[0;32m~/.pyenv/versions/3.8.12/envs/lewagon/lib/python3.8/site-packages/pandas/core/apply.py\u001b[0m in \u001b[0;36mapply\u001b[0;34m(self)\u001b[0m\n\u001b[1;32m   1041\u001b[0m             \u001b[0;32mreturn\u001b[0m \u001b[0mself\u001b[0m\u001b[0;34m.\u001b[0m\u001b[0mapply_str\u001b[0m\u001b[0;34m(\u001b[0m\u001b[0;34m)\u001b[0m\u001b[0;34m\u001b[0m\u001b[0;34m\u001b[0m\u001b[0m\n\u001b[1;32m   1042\u001b[0m \u001b[0;34m\u001b[0m\u001b[0m\n\u001b[0;32m-> 1043\u001b[0;31m         \u001b[0;32mreturn\u001b[0m \u001b[0mself\u001b[0m\u001b[0;34m.\u001b[0m\u001b[0mapply_standard\u001b[0m\u001b[0;34m(\u001b[0m\u001b[0;34m)\u001b[0m\u001b[0;34m\u001b[0m\u001b[0;34m\u001b[0m\u001b[0m\n\u001b[0m\u001b[1;32m   1044\u001b[0m \u001b[0;34m\u001b[0m\u001b[0m\n\u001b[1;32m   1045\u001b[0m     \u001b[0;32mdef\u001b[0m \u001b[0magg\u001b[0m\u001b[0;34m(\u001b[0m\u001b[0mself\u001b[0m\u001b[0;34m)\u001b[0m\u001b[0;34m:\u001b[0m\u001b[0;34m\u001b[0m\u001b[0;34m\u001b[0m\u001b[0m\n",
      "\u001b[0;32m~/.pyenv/versions/3.8.12/envs/lewagon/lib/python3.8/site-packages/pandas/core/apply.py\u001b[0m in \u001b[0;36mapply_standard\u001b[0;34m(self)\u001b[0m\n\u001b[1;32m   1096\u001b[0m                 \u001b[0;31m# List[Union[Callable[..., Any], str]]]]]\"; expected\u001b[0m\u001b[0;34m\u001b[0m\u001b[0;34m\u001b[0m\u001b[0;34m\u001b[0m\u001b[0m\n\u001b[1;32m   1097\u001b[0m                 \u001b[0;31m# \"Callable[[Any], Any]\"\u001b[0m\u001b[0;34m\u001b[0m\u001b[0;34m\u001b[0m\u001b[0;34m\u001b[0m\u001b[0m\n\u001b[0;32m-> 1098\u001b[0;31m                 mapped = lib.map_infer(\n\u001b[0m\u001b[1;32m   1099\u001b[0m                     \u001b[0mvalues\u001b[0m\u001b[0;34m,\u001b[0m\u001b[0;34m\u001b[0m\u001b[0;34m\u001b[0m\u001b[0m\n\u001b[1;32m   1100\u001b[0m                     \u001b[0mf\u001b[0m\u001b[0;34m,\u001b[0m  \u001b[0;31m# type: ignore[arg-type]\u001b[0m\u001b[0;34m\u001b[0m\u001b[0;34m\u001b[0m\u001b[0m\n",
      "\u001b[0;32m~/.pyenv/versions/3.8.12/envs/lewagon/lib/python3.8/site-packages/pandas/_libs/lib.pyx\u001b[0m in \u001b[0;36mpandas._libs.lib.map_infer\u001b[0;34m()\u001b[0m\n",
      "\u001b[0;32m/tmp/ipykernel_1594/467611395.py\u001b[0m in \u001b[0;36mlemma\u001b[0;34m(title)\u001b[0m\n\u001b[1;32m      1\u001b[0m \u001b[0;32mdef\u001b[0m \u001b[0mlemma\u001b[0m\u001b[0;34m(\u001b[0m\u001b[0mtitle\u001b[0m\u001b[0;34m)\u001b[0m\u001b[0;34m:\u001b[0m\u001b[0;34m\u001b[0m\u001b[0;34m\u001b[0m\u001b[0m\n\u001b[1;32m      2\u001b[0m     \u001b[0mlemmatizer\u001b[0m \u001b[0;34m=\u001b[0m \u001b[0mWordNetLemmatizer\u001b[0m\u001b[0;34m(\u001b[0m\u001b[0;34m)\u001b[0m \u001b[0;31m# Initiate lemmatizer\u001b[0m\u001b[0;34m\u001b[0m\u001b[0;34m\u001b[0m\u001b[0m\n\u001b[0;32m----> 3\u001b[0;31m     \u001b[0mlemmatized\u001b[0m \u001b[0;34m=\u001b[0m \u001b[0;34m[\u001b[0m\u001b[0mlemmatizer\u001b[0m\u001b[0;34m.\u001b[0m\u001b[0mlemmatize\u001b[0m\u001b[0;34m(\u001b[0m\u001b[0mword\u001b[0m\u001b[0;34m)\u001b[0m \u001b[0;32mfor\u001b[0m \u001b[0mword\u001b[0m \u001b[0;32min\u001b[0m \u001b[0mtitle\u001b[0m\u001b[0;34m]\u001b[0m \u001b[0;31m# Lemmatize\u001b[0m\u001b[0;34m\u001b[0m\u001b[0;34m\u001b[0m\u001b[0m\n\u001b[0m\u001b[1;32m      4\u001b[0m     \u001b[0mlemmatized_string\u001b[0m \u001b[0;34m=\u001b[0m \u001b[0;34m\" \"\u001b[0m\u001b[0;34m.\u001b[0m\u001b[0mjoin\u001b[0m\u001b[0;34m(\u001b[0m\u001b[0mlemmatized\u001b[0m\u001b[0;34m)\u001b[0m\u001b[0;34m\u001b[0m\u001b[0;34m\u001b[0m\u001b[0m\n\u001b[1;32m      5\u001b[0m     \u001b[0;32mreturn\u001b[0m \u001b[0mlemmatized_string\u001b[0m\u001b[0;34m\u001b[0m\u001b[0;34m\u001b[0m\u001b[0m\n",
      "\u001b[0;32m/tmp/ipykernel_1594/467611395.py\u001b[0m in \u001b[0;36m<listcomp>\u001b[0;34m(.0)\u001b[0m\n\u001b[1;32m      1\u001b[0m \u001b[0;32mdef\u001b[0m \u001b[0mlemma\u001b[0m\u001b[0;34m(\u001b[0m\u001b[0mtitle\u001b[0m\u001b[0;34m)\u001b[0m\u001b[0;34m:\u001b[0m\u001b[0;34m\u001b[0m\u001b[0;34m\u001b[0m\u001b[0m\n\u001b[1;32m      2\u001b[0m     \u001b[0mlemmatizer\u001b[0m \u001b[0;34m=\u001b[0m \u001b[0mWordNetLemmatizer\u001b[0m\u001b[0;34m(\u001b[0m\u001b[0;34m)\u001b[0m \u001b[0;31m# Initiate lemmatizer\u001b[0m\u001b[0;34m\u001b[0m\u001b[0;34m\u001b[0m\u001b[0m\n\u001b[0;32m----> 3\u001b[0;31m     \u001b[0mlemmatized\u001b[0m \u001b[0;34m=\u001b[0m \u001b[0;34m[\u001b[0m\u001b[0mlemmatizer\u001b[0m\u001b[0;34m.\u001b[0m\u001b[0mlemmatize\u001b[0m\u001b[0;34m(\u001b[0m\u001b[0mword\u001b[0m\u001b[0;34m)\u001b[0m \u001b[0;32mfor\u001b[0m \u001b[0mword\u001b[0m \u001b[0;32min\u001b[0m \u001b[0mtitle\u001b[0m\u001b[0;34m]\u001b[0m \u001b[0;31m# Lemmatize\u001b[0m\u001b[0;34m\u001b[0m\u001b[0;34m\u001b[0m\u001b[0m\n\u001b[0m\u001b[1;32m      4\u001b[0m     \u001b[0mlemmatized_string\u001b[0m \u001b[0;34m=\u001b[0m \u001b[0;34m\" \"\u001b[0m\u001b[0;34m.\u001b[0m\u001b[0mjoin\u001b[0m\u001b[0;34m(\u001b[0m\u001b[0mlemmatized\u001b[0m\u001b[0;34m)\u001b[0m\u001b[0;34m\u001b[0m\u001b[0;34m\u001b[0m\u001b[0m\n\u001b[1;32m      5\u001b[0m     \u001b[0;32mreturn\u001b[0m \u001b[0mlemmatized_string\u001b[0m\u001b[0;34m\u001b[0m\u001b[0;34m\u001b[0m\u001b[0m\n",
      "\u001b[0;32m~/.pyenv/versions/3.8.12/envs/lewagon/lib/python3.8/site-packages/nltk/stem/wordnet.py\u001b[0m in \u001b[0;36mlemmatize\u001b[0;34m(self, word, pos)\u001b[0m\n\u001b[1;32m     43\u001b[0m         \u001b[0;34m:\u001b[0m\u001b[0;32mreturn\u001b[0m\u001b[0;34m:\u001b[0m \u001b[0mThe\u001b[0m \u001b[0mlemma\u001b[0m \u001b[0mof\u001b[0m\u001b[0;31m \u001b[0m\u001b[0;31m`\u001b[0m\u001b[0mword\u001b[0m\u001b[0;31m`\u001b[0m\u001b[0;34m,\u001b[0m \u001b[0;32mfor\u001b[0m \u001b[0mthe\u001b[0m \u001b[0mgiven\u001b[0m\u001b[0;31m \u001b[0m\u001b[0;31m`\u001b[0m\u001b[0mpos\u001b[0m\u001b[0;31m`\u001b[0m\u001b[0;34m.\u001b[0m\u001b[0;34m\u001b[0m\u001b[0;34m\u001b[0m\u001b[0m\n\u001b[1;32m     44\u001b[0m         \"\"\"\n\u001b[0;32m---> 45\u001b[0;31m         \u001b[0mlemmas\u001b[0m \u001b[0;34m=\u001b[0m \u001b[0mwn\u001b[0m\u001b[0;34m.\u001b[0m\u001b[0m_morphy\u001b[0m\u001b[0;34m(\u001b[0m\u001b[0mword\u001b[0m\u001b[0;34m,\u001b[0m \u001b[0mpos\u001b[0m\u001b[0;34m)\u001b[0m\u001b[0;34m\u001b[0m\u001b[0;34m\u001b[0m\u001b[0m\n\u001b[0m\u001b[1;32m     46\u001b[0m         \u001b[0;32mreturn\u001b[0m \u001b[0mmin\u001b[0m\u001b[0;34m(\u001b[0m\u001b[0mlemmas\u001b[0m\u001b[0;34m,\u001b[0m \u001b[0mkey\u001b[0m\u001b[0;34m=\u001b[0m\u001b[0mlen\u001b[0m\u001b[0;34m)\u001b[0m \u001b[0;32mif\u001b[0m \u001b[0mlemmas\u001b[0m \u001b[0;32melse\u001b[0m \u001b[0mword\u001b[0m\u001b[0;34m\u001b[0m\u001b[0;34m\u001b[0m\u001b[0m\n\u001b[1;32m     47\u001b[0m \u001b[0;34m\u001b[0m\u001b[0m\n",
      "\u001b[0;32m~/.pyenv/versions/3.8.12/envs/lewagon/lib/python3.8/site-packages/nltk/corpus/util.py\u001b[0m in \u001b[0;36m__getattr__\u001b[0;34m(self, attr)\u001b[0m\n\u001b[1;32m    119\u001b[0m             \u001b[0;32mraise\u001b[0m \u001b[0mAttributeError\u001b[0m\u001b[0;34m(\u001b[0m\u001b[0;34m\"LazyCorpusLoader object has no attribute '__bases__'\"\u001b[0m\u001b[0;34m)\u001b[0m\u001b[0;34m\u001b[0m\u001b[0;34m\u001b[0m\u001b[0m\n\u001b[1;32m    120\u001b[0m \u001b[0;34m\u001b[0m\u001b[0m\n\u001b[0;32m--> 121\u001b[0;31m         \u001b[0mself\u001b[0m\u001b[0;34m.\u001b[0m\u001b[0m__load\u001b[0m\u001b[0;34m(\u001b[0m\u001b[0;34m)\u001b[0m\u001b[0;34m\u001b[0m\u001b[0;34m\u001b[0m\u001b[0m\n\u001b[0m\u001b[1;32m    122\u001b[0m         \u001b[0;31m# This looks circular, but its not, since __load() changes our\u001b[0m\u001b[0;34m\u001b[0m\u001b[0;34m\u001b[0m\u001b[0;34m\u001b[0m\u001b[0m\n\u001b[1;32m    123\u001b[0m         \u001b[0;31m# __class__ to something new:\u001b[0m\u001b[0;34m\u001b[0m\u001b[0;34m\u001b[0m\u001b[0;34m\u001b[0m\u001b[0m\n",
      "\u001b[0;32m~/.pyenv/versions/3.8.12/envs/lewagon/lib/python3.8/site-packages/nltk/corpus/util.py\u001b[0m in \u001b[0;36m__load\u001b[0;34m(self)\u001b[0m\n\u001b[1;32m     87\u001b[0m \u001b[0;34m\u001b[0m\u001b[0m\n\u001b[1;32m     88\u001b[0m         \u001b[0;31m# Load the corpus.\u001b[0m\u001b[0;34m\u001b[0m\u001b[0;34m\u001b[0m\u001b[0;34m\u001b[0m\u001b[0m\n\u001b[0;32m---> 89\u001b[0;31m         \u001b[0mcorpus\u001b[0m \u001b[0;34m=\u001b[0m \u001b[0mself\u001b[0m\u001b[0;34m.\u001b[0m\u001b[0m__reader_cls\u001b[0m\u001b[0;34m(\u001b[0m\u001b[0mroot\u001b[0m\u001b[0;34m,\u001b[0m \u001b[0;34m*\u001b[0m\u001b[0mself\u001b[0m\u001b[0;34m.\u001b[0m\u001b[0m__args\u001b[0m\u001b[0;34m,\u001b[0m \u001b[0;34m**\u001b[0m\u001b[0mself\u001b[0m\u001b[0;34m.\u001b[0m\u001b[0m__kwargs\u001b[0m\u001b[0;34m)\u001b[0m\u001b[0;34m\u001b[0m\u001b[0;34m\u001b[0m\u001b[0m\n\u001b[0m\u001b[1;32m     90\u001b[0m \u001b[0;34m\u001b[0m\u001b[0m\n\u001b[1;32m     91\u001b[0m         \u001b[0;31m# This is where the magic happens!  Transform ourselves into\u001b[0m\u001b[0;34m\u001b[0m\u001b[0;34m\u001b[0m\u001b[0;34m\u001b[0m\u001b[0m\n",
      "\u001b[0;32m~/.pyenv/versions/3.8.12/envs/lewagon/lib/python3.8/site-packages/nltk/corpus/reader/wordnet.py\u001b[0m in \u001b[0;36m__init__\u001b[0;34m(self, root, omw_reader)\u001b[0m\n\u001b[1;32m   1174\u001b[0m             )\n\u001b[1;32m   1175\u001b[0m         \u001b[0;32melse\u001b[0m\u001b[0;34m:\u001b[0m\u001b[0;34m\u001b[0m\u001b[0;34m\u001b[0m\u001b[0m\n\u001b[0;32m-> 1176\u001b[0;31m             \u001b[0mself\u001b[0m\u001b[0;34m.\u001b[0m\u001b[0mprovenances\u001b[0m \u001b[0;34m=\u001b[0m \u001b[0mself\u001b[0m\u001b[0;34m.\u001b[0m\u001b[0momw_prov\u001b[0m\u001b[0;34m(\u001b[0m\u001b[0;34m)\u001b[0m\u001b[0;34m\u001b[0m\u001b[0;34m\u001b[0m\u001b[0m\n\u001b[0m\u001b[1;32m   1177\u001b[0m \u001b[0;34m\u001b[0m\u001b[0m\n\u001b[1;32m   1178\u001b[0m         \u001b[0;31m# A cache to store the wordnet data of multiple languages\u001b[0m\u001b[0;34m\u001b[0m\u001b[0;34m\u001b[0m\u001b[0;34m\u001b[0m\u001b[0m\n",
      "\u001b[0;32m~/.pyenv/versions/3.8.12/envs/lewagon/lib/python3.8/site-packages/nltk/corpus/reader/wordnet.py\u001b[0m in \u001b[0;36momw_prov\u001b[0;34m(self)\u001b[0m\n\u001b[1;32m   1283\u001b[0m         \u001b[0mprovdict\u001b[0m \u001b[0;34m=\u001b[0m \u001b[0;34m{\u001b[0m\u001b[0;34m}\u001b[0m\u001b[0;34m\u001b[0m\u001b[0;34m\u001b[0m\u001b[0m\n\u001b[1;32m   1284\u001b[0m         \u001b[0mprovdict\u001b[0m\u001b[0;34m[\u001b[0m\u001b[0;34m\"eng\"\u001b[0m\u001b[0;34m]\u001b[0m \u001b[0;34m=\u001b[0m \u001b[0;34m\"\"\u001b[0m\u001b[0;34m\u001b[0m\u001b[0;34m\u001b[0m\u001b[0m\n\u001b[0;32m-> 1285\u001b[0;31m         \u001b[0mfileids\u001b[0m \u001b[0;34m=\u001b[0m \u001b[0mself\u001b[0m\u001b[0;34m.\u001b[0m\u001b[0m_omw_reader\u001b[0m\u001b[0;34m.\u001b[0m\u001b[0mfileids\u001b[0m\u001b[0;34m(\u001b[0m\u001b[0;34m)\u001b[0m\u001b[0;34m\u001b[0m\u001b[0;34m\u001b[0m\u001b[0m\n\u001b[0m\u001b[1;32m   1286\u001b[0m         \u001b[0;32mfor\u001b[0m \u001b[0mfileid\u001b[0m \u001b[0;32min\u001b[0m \u001b[0mfileids\u001b[0m\u001b[0;34m:\u001b[0m\u001b[0;34m\u001b[0m\u001b[0;34m\u001b[0m\u001b[0m\n\u001b[1;32m   1287\u001b[0m             \u001b[0mprov\u001b[0m\u001b[0;34m,\u001b[0m \u001b[0mlangfile\u001b[0m \u001b[0;34m=\u001b[0m \u001b[0mos\u001b[0m\u001b[0;34m.\u001b[0m\u001b[0mpath\u001b[0m\u001b[0;34m.\u001b[0m\u001b[0msplit\u001b[0m\u001b[0;34m(\u001b[0m\u001b[0mfileid\u001b[0m\u001b[0;34m)\u001b[0m\u001b[0;34m\u001b[0m\u001b[0;34m\u001b[0m\u001b[0m\n",
      "\u001b[0;32m~/.pyenv/versions/3.8.12/envs/lewagon/lib/python3.8/site-packages/nltk/corpus/util.py\u001b[0m in \u001b[0;36m__getattr__\u001b[0;34m(self, attr)\u001b[0m\n\u001b[1;32m    119\u001b[0m             \u001b[0;32mraise\u001b[0m \u001b[0mAttributeError\u001b[0m\u001b[0;34m(\u001b[0m\u001b[0;34m\"LazyCorpusLoader object has no attribute '__bases__'\"\u001b[0m\u001b[0;34m)\u001b[0m\u001b[0;34m\u001b[0m\u001b[0;34m\u001b[0m\u001b[0m\n\u001b[1;32m    120\u001b[0m \u001b[0;34m\u001b[0m\u001b[0m\n\u001b[0;32m--> 121\u001b[0;31m         \u001b[0mself\u001b[0m\u001b[0;34m.\u001b[0m\u001b[0m__load\u001b[0m\u001b[0;34m(\u001b[0m\u001b[0;34m)\u001b[0m\u001b[0;34m\u001b[0m\u001b[0;34m\u001b[0m\u001b[0m\n\u001b[0m\u001b[1;32m    122\u001b[0m         \u001b[0;31m# This looks circular, but its not, since __load() changes our\u001b[0m\u001b[0;34m\u001b[0m\u001b[0;34m\u001b[0m\u001b[0;34m\u001b[0m\u001b[0m\n\u001b[1;32m    123\u001b[0m         \u001b[0;31m# __class__ to something new:\u001b[0m\u001b[0;34m\u001b[0m\u001b[0;34m\u001b[0m\u001b[0;34m\u001b[0m\u001b[0m\n",
      "\u001b[0;32m~/.pyenv/versions/3.8.12/envs/lewagon/lib/python3.8/site-packages/nltk/corpus/util.py\u001b[0m in \u001b[0;36m__load\u001b[0;34m(self)\u001b[0m\n\u001b[1;32m     79\u001b[0m         \u001b[0;32melse\u001b[0m\u001b[0;34m:\u001b[0m\u001b[0;34m\u001b[0m\u001b[0;34m\u001b[0m\u001b[0m\n\u001b[1;32m     80\u001b[0m             \u001b[0;32mtry\u001b[0m\u001b[0;34m:\u001b[0m\u001b[0;34m\u001b[0m\u001b[0;34m\u001b[0m\u001b[0m\n\u001b[0;32m---> 81\u001b[0;31m                 \u001b[0mroot\u001b[0m \u001b[0;34m=\u001b[0m \u001b[0mnltk\u001b[0m\u001b[0;34m.\u001b[0m\u001b[0mdata\u001b[0m\u001b[0;34m.\u001b[0m\u001b[0mfind\u001b[0m\u001b[0;34m(\u001b[0m\u001b[0;34mf\"{self.subdir}/{self.__name}\"\u001b[0m\u001b[0;34m)\u001b[0m\u001b[0;34m\u001b[0m\u001b[0;34m\u001b[0m\u001b[0m\n\u001b[0m\u001b[1;32m     82\u001b[0m             \u001b[0;32mexcept\u001b[0m \u001b[0mLookupError\u001b[0m \u001b[0;32mas\u001b[0m \u001b[0me\u001b[0m\u001b[0;34m:\u001b[0m\u001b[0;34m\u001b[0m\u001b[0;34m\u001b[0m\u001b[0m\n\u001b[1;32m     83\u001b[0m                 \u001b[0;32mtry\u001b[0m\u001b[0;34m:\u001b[0m\u001b[0;34m\u001b[0m\u001b[0;34m\u001b[0m\u001b[0m\n",
      "\u001b[0;32m~/.pyenv/versions/3.8.12/envs/lewagon/lib/python3.8/site-packages/nltk/data.py\u001b[0m in \u001b[0;36mfind\u001b[0;34m(resource_name, paths)\u001b[0m\n\u001b[1;32m    553\u001b[0m             \u001b[0mmodified_name\u001b[0m \u001b[0;34m=\u001b[0m \u001b[0;34m\"/\"\u001b[0m\u001b[0;34m.\u001b[0m\u001b[0mjoin\u001b[0m\u001b[0;34m(\u001b[0m\u001b[0mpieces\u001b[0m\u001b[0;34m[\u001b[0m\u001b[0;34m:\u001b[0m\u001b[0mi\u001b[0m\u001b[0;34m]\u001b[0m \u001b[0;34m+\u001b[0m \u001b[0;34m[\u001b[0m\u001b[0mpieces\u001b[0m\u001b[0;34m[\u001b[0m\u001b[0mi\u001b[0m\u001b[0;34m]\u001b[0m \u001b[0;34m+\u001b[0m \u001b[0;34m\".zip\"\u001b[0m\u001b[0;34m]\u001b[0m \u001b[0;34m+\u001b[0m \u001b[0mpieces\u001b[0m\u001b[0;34m[\u001b[0m\u001b[0mi\u001b[0m\u001b[0;34m:\u001b[0m\u001b[0;34m]\u001b[0m\u001b[0;34m)\u001b[0m\u001b[0;34m\u001b[0m\u001b[0;34m\u001b[0m\u001b[0m\n\u001b[1;32m    554\u001b[0m             \u001b[0;32mtry\u001b[0m\u001b[0;34m:\u001b[0m\u001b[0;34m\u001b[0m\u001b[0;34m\u001b[0m\u001b[0m\n\u001b[0;32m--> 555\u001b[0;31m                 \u001b[0;32mreturn\u001b[0m \u001b[0mfind\u001b[0m\u001b[0;34m(\u001b[0m\u001b[0mmodified_name\u001b[0m\u001b[0;34m,\u001b[0m \u001b[0mpaths\u001b[0m\u001b[0;34m)\u001b[0m\u001b[0;34m\u001b[0m\u001b[0;34m\u001b[0m\u001b[0m\n\u001b[0m\u001b[1;32m    556\u001b[0m             \u001b[0;32mexcept\u001b[0m \u001b[0mLookupError\u001b[0m\u001b[0;34m:\u001b[0m\u001b[0;34m\u001b[0m\u001b[0;34m\u001b[0m\u001b[0m\n\u001b[1;32m    557\u001b[0m                 \u001b[0;32mpass\u001b[0m\u001b[0;34m\u001b[0m\u001b[0;34m\u001b[0m\u001b[0m\n",
      "\u001b[0;32m~/.pyenv/versions/3.8.12/envs/lewagon/lib/python3.8/site-packages/nltk/data.py\u001b[0m in \u001b[0;36mfind\u001b[0;34m(resource_name, paths)\u001b[0m\n\u001b[1;32m    540\u001b[0m                 \u001b[0;32mif\u001b[0m \u001b[0mos\u001b[0m\u001b[0;34m.\u001b[0m\u001b[0mpath\u001b[0m\u001b[0;34m.\u001b[0m\u001b[0mexists\u001b[0m\u001b[0;34m(\u001b[0m\u001b[0mp\u001b[0m\u001b[0;34m)\u001b[0m\u001b[0;34m:\u001b[0m\u001b[0;34m\u001b[0m\u001b[0;34m\u001b[0m\u001b[0m\n\u001b[1;32m    541\u001b[0m                     \u001b[0;32mtry\u001b[0m\u001b[0;34m:\u001b[0m\u001b[0;34m\u001b[0m\u001b[0;34m\u001b[0m\u001b[0m\n\u001b[0;32m--> 542\u001b[0;31m                         \u001b[0;32mreturn\u001b[0m \u001b[0mZipFilePathPointer\u001b[0m\u001b[0;34m(\u001b[0m\u001b[0mp\u001b[0m\u001b[0;34m,\u001b[0m \u001b[0mzipentry\u001b[0m\u001b[0;34m)\u001b[0m\u001b[0;34m\u001b[0m\u001b[0;34m\u001b[0m\u001b[0m\n\u001b[0m\u001b[1;32m    543\u001b[0m                     \u001b[0;32mexcept\u001b[0m \u001b[0mOSError\u001b[0m\u001b[0;34m:\u001b[0m\u001b[0;34m\u001b[0m\u001b[0;34m\u001b[0m\u001b[0m\n\u001b[1;32m    544\u001b[0m                         \u001b[0;31m# resource not in zipfile\u001b[0m\u001b[0;34m\u001b[0m\u001b[0;34m\u001b[0m\u001b[0;34m\u001b[0m\u001b[0m\n",
      "\u001b[0;32m~/.pyenv/versions/3.8.12/envs/lewagon/lib/python3.8/site-packages/nltk/compat.py\u001b[0m in \u001b[0;36m_decorator\u001b[0;34m(*args, **kwargs)\u001b[0m\n\u001b[1;32m     39\u001b[0m     \u001b[0;32mdef\u001b[0m \u001b[0m_decorator\u001b[0m\u001b[0;34m(\u001b[0m\u001b[0;34m*\u001b[0m\u001b[0margs\u001b[0m\u001b[0;34m,\u001b[0m \u001b[0;34m**\u001b[0m\u001b[0mkwargs\u001b[0m\u001b[0;34m)\u001b[0m\u001b[0;34m:\u001b[0m\u001b[0;34m\u001b[0m\u001b[0;34m\u001b[0m\u001b[0m\n\u001b[1;32m     40\u001b[0m         \u001b[0margs\u001b[0m \u001b[0;34m=\u001b[0m \u001b[0;34m(\u001b[0m\u001b[0margs\u001b[0m\u001b[0;34m[\u001b[0m\u001b[0;36m0\u001b[0m\u001b[0;34m]\u001b[0m\u001b[0;34m,\u001b[0m \u001b[0madd_py3_data\u001b[0m\u001b[0;34m(\u001b[0m\u001b[0margs\u001b[0m\u001b[0;34m[\u001b[0m\u001b[0;36m1\u001b[0m\u001b[0;34m]\u001b[0m\u001b[0;34m)\u001b[0m\u001b[0;34m)\u001b[0m \u001b[0;34m+\u001b[0m \u001b[0margs\u001b[0m\u001b[0;34m[\u001b[0m\u001b[0;36m2\u001b[0m\u001b[0;34m:\u001b[0m\u001b[0;34m]\u001b[0m\u001b[0;34m\u001b[0m\u001b[0;34m\u001b[0m\u001b[0m\n\u001b[0;32m---> 41\u001b[0;31m         \u001b[0;32mreturn\u001b[0m \u001b[0minit_func\u001b[0m\u001b[0;34m(\u001b[0m\u001b[0;34m*\u001b[0m\u001b[0margs\u001b[0m\u001b[0;34m,\u001b[0m \u001b[0;34m**\u001b[0m\u001b[0mkwargs\u001b[0m\u001b[0;34m)\u001b[0m\u001b[0;34m\u001b[0m\u001b[0;34m\u001b[0m\u001b[0m\n\u001b[0m\u001b[1;32m     42\u001b[0m \u001b[0;34m\u001b[0m\u001b[0m\n\u001b[1;32m     43\u001b[0m     \u001b[0;32mreturn\u001b[0m \u001b[0mwraps\u001b[0m\u001b[0;34m(\u001b[0m\u001b[0minit_func\u001b[0m\u001b[0;34m)\u001b[0m\u001b[0;34m(\u001b[0m\u001b[0m_decorator\u001b[0m\u001b[0;34m)\u001b[0m\u001b[0;34m\u001b[0m\u001b[0;34m\u001b[0m\u001b[0m\n",
      "\u001b[0;32m~/.pyenv/versions/3.8.12/envs/lewagon/lib/python3.8/site-packages/nltk/data.py\u001b[0m in \u001b[0;36m__init__\u001b[0;34m(self, zipfile, entry)\u001b[0m\n\u001b[1;32m    392\u001b[0m         \"\"\"\n\u001b[1;32m    393\u001b[0m         \u001b[0;32mif\u001b[0m \u001b[0misinstance\u001b[0m\u001b[0;34m(\u001b[0m\u001b[0mzipfile\u001b[0m\u001b[0;34m,\u001b[0m \u001b[0mstr\u001b[0m\u001b[0;34m)\u001b[0m\u001b[0;34m:\u001b[0m\u001b[0;34m\u001b[0m\u001b[0;34m\u001b[0m\u001b[0m\n\u001b[0;32m--> 394\u001b[0;31m             \u001b[0mzipfile\u001b[0m \u001b[0;34m=\u001b[0m \u001b[0mOpenOnDemandZipFile\u001b[0m\u001b[0;34m(\u001b[0m\u001b[0mos\u001b[0m\u001b[0;34m.\u001b[0m\u001b[0mpath\u001b[0m\u001b[0;34m.\u001b[0m\u001b[0mabspath\u001b[0m\u001b[0;34m(\u001b[0m\u001b[0mzipfile\u001b[0m\u001b[0;34m)\u001b[0m\u001b[0;34m)\u001b[0m\u001b[0;34m\u001b[0m\u001b[0;34m\u001b[0m\u001b[0m\n\u001b[0m\u001b[1;32m    395\u001b[0m \u001b[0;34m\u001b[0m\u001b[0m\n\u001b[1;32m    396\u001b[0m         \u001b[0;31m# Check that the entry exists:\u001b[0m\u001b[0;34m\u001b[0m\u001b[0;34m\u001b[0m\u001b[0;34m\u001b[0m\u001b[0m\n",
      "\u001b[0;32m~/.pyenv/versions/3.8.12/envs/lewagon/lib/python3.8/site-packages/nltk/compat.py\u001b[0m in \u001b[0;36m_decorator\u001b[0;34m(*args, **kwargs)\u001b[0m\n\u001b[1;32m     39\u001b[0m     \u001b[0;32mdef\u001b[0m \u001b[0m_decorator\u001b[0m\u001b[0;34m(\u001b[0m\u001b[0;34m*\u001b[0m\u001b[0margs\u001b[0m\u001b[0;34m,\u001b[0m \u001b[0;34m**\u001b[0m\u001b[0mkwargs\u001b[0m\u001b[0;34m)\u001b[0m\u001b[0;34m:\u001b[0m\u001b[0;34m\u001b[0m\u001b[0;34m\u001b[0m\u001b[0m\n\u001b[1;32m     40\u001b[0m         \u001b[0margs\u001b[0m \u001b[0;34m=\u001b[0m \u001b[0;34m(\u001b[0m\u001b[0margs\u001b[0m\u001b[0;34m[\u001b[0m\u001b[0;36m0\u001b[0m\u001b[0;34m]\u001b[0m\u001b[0;34m,\u001b[0m \u001b[0madd_py3_data\u001b[0m\u001b[0;34m(\u001b[0m\u001b[0margs\u001b[0m\u001b[0;34m[\u001b[0m\u001b[0;36m1\u001b[0m\u001b[0;34m]\u001b[0m\u001b[0;34m)\u001b[0m\u001b[0;34m)\u001b[0m \u001b[0;34m+\u001b[0m \u001b[0margs\u001b[0m\u001b[0;34m[\u001b[0m\u001b[0;36m2\u001b[0m\u001b[0;34m:\u001b[0m\u001b[0;34m]\u001b[0m\u001b[0;34m\u001b[0m\u001b[0;34m\u001b[0m\u001b[0m\n\u001b[0;32m---> 41\u001b[0;31m         \u001b[0;32mreturn\u001b[0m \u001b[0minit_func\u001b[0m\u001b[0;34m(\u001b[0m\u001b[0;34m*\u001b[0m\u001b[0margs\u001b[0m\u001b[0;34m,\u001b[0m \u001b[0;34m**\u001b[0m\u001b[0mkwargs\u001b[0m\u001b[0;34m)\u001b[0m\u001b[0;34m\u001b[0m\u001b[0;34m\u001b[0m\u001b[0m\n\u001b[0m\u001b[1;32m     42\u001b[0m \u001b[0;34m\u001b[0m\u001b[0m\n\u001b[1;32m     43\u001b[0m     \u001b[0;32mreturn\u001b[0m \u001b[0mwraps\u001b[0m\u001b[0;34m(\u001b[0m\u001b[0minit_func\u001b[0m\u001b[0;34m)\u001b[0m\u001b[0;34m(\u001b[0m\u001b[0m_decorator\u001b[0m\u001b[0;34m)\u001b[0m\u001b[0;34m\u001b[0m\u001b[0;34m\u001b[0m\u001b[0m\n",
      "\u001b[0;32m~/.pyenv/versions/3.8.12/envs/lewagon/lib/python3.8/site-packages/nltk/data.py\u001b[0m in \u001b[0;36m__init__\u001b[0;34m(self, filename)\u001b[0m\n\u001b[1;32m    933\u001b[0m         \u001b[0;32mif\u001b[0m \u001b[0;32mnot\u001b[0m \u001b[0misinstance\u001b[0m\u001b[0;34m(\u001b[0m\u001b[0mfilename\u001b[0m\u001b[0;34m,\u001b[0m \u001b[0mstr\u001b[0m\u001b[0;34m)\u001b[0m\u001b[0;34m:\u001b[0m\u001b[0;34m\u001b[0m\u001b[0;34m\u001b[0m\u001b[0m\n\u001b[1;32m    934\u001b[0m             \u001b[0;32mraise\u001b[0m \u001b[0mTypeError\u001b[0m\u001b[0;34m(\u001b[0m\u001b[0;34m\"ReopenableZipFile filename must be a string\"\u001b[0m\u001b[0;34m)\u001b[0m\u001b[0;34m\u001b[0m\u001b[0;34m\u001b[0m\u001b[0m\n\u001b[0;32m--> 935\u001b[0;31m         \u001b[0mzipfile\u001b[0m\u001b[0;34m.\u001b[0m\u001b[0mZipFile\u001b[0m\u001b[0;34m.\u001b[0m\u001b[0m__init__\u001b[0m\u001b[0;34m(\u001b[0m\u001b[0mself\u001b[0m\u001b[0;34m,\u001b[0m \u001b[0mfilename\u001b[0m\u001b[0;34m)\u001b[0m\u001b[0;34m\u001b[0m\u001b[0;34m\u001b[0m\u001b[0m\n\u001b[0m\u001b[1;32m    936\u001b[0m         \u001b[0;32massert\u001b[0m \u001b[0mself\u001b[0m\u001b[0;34m.\u001b[0m\u001b[0mfilename\u001b[0m \u001b[0;34m==\u001b[0m \u001b[0mfilename\u001b[0m\u001b[0;34m\u001b[0m\u001b[0;34m\u001b[0m\u001b[0m\n\u001b[1;32m    937\u001b[0m         \u001b[0mself\u001b[0m\u001b[0;34m.\u001b[0m\u001b[0mclose\u001b[0m\u001b[0;34m(\u001b[0m\u001b[0;34m)\u001b[0m\u001b[0;34m\u001b[0m\u001b[0;34m\u001b[0m\u001b[0m\n",
      "\u001b[0;32m~/.pyenv/versions/3.8.12/lib/python3.8/zipfile.py\u001b[0m in \u001b[0;36m__init__\u001b[0;34m(self, file, mode, compression, allowZip64, compresslevel, strict_timestamps)\u001b[0m\n\u001b[1;32m   1267\u001b[0m         \u001b[0;32mtry\u001b[0m\u001b[0;34m:\u001b[0m\u001b[0;34m\u001b[0m\u001b[0;34m\u001b[0m\u001b[0m\n\u001b[1;32m   1268\u001b[0m             \u001b[0;32mif\u001b[0m \u001b[0mmode\u001b[0m \u001b[0;34m==\u001b[0m \u001b[0;34m'r'\u001b[0m\u001b[0;34m:\u001b[0m\u001b[0;34m\u001b[0m\u001b[0;34m\u001b[0m\u001b[0m\n\u001b[0;32m-> 1269\u001b[0;31m                 \u001b[0mself\u001b[0m\u001b[0;34m.\u001b[0m\u001b[0m_RealGetContents\u001b[0m\u001b[0;34m(\u001b[0m\u001b[0;34m)\u001b[0m\u001b[0;34m\u001b[0m\u001b[0;34m\u001b[0m\u001b[0m\n\u001b[0m\u001b[1;32m   1270\u001b[0m             \u001b[0;32melif\u001b[0m \u001b[0mmode\u001b[0m \u001b[0;32min\u001b[0m \u001b[0;34m(\u001b[0m\u001b[0;34m'w'\u001b[0m\u001b[0;34m,\u001b[0m \u001b[0;34m'x'\u001b[0m\u001b[0;34m)\u001b[0m\u001b[0;34m:\u001b[0m\u001b[0;34m\u001b[0m\u001b[0;34m\u001b[0m\u001b[0m\n\u001b[1;32m   1271\u001b[0m                 \u001b[0;31m# set the modified flag so central directory gets written\u001b[0m\u001b[0;34m\u001b[0m\u001b[0;34m\u001b[0m\u001b[0;34m\u001b[0m\u001b[0m\n",
      "\u001b[0;32m~/.pyenv/versions/3.8.12/lib/python3.8/zipfile.py\u001b[0m in \u001b[0;36m_RealGetContents\u001b[0;34m(self)\u001b[0m\n\u001b[1;32m   1334\u001b[0m             \u001b[0;32mraise\u001b[0m \u001b[0mBadZipFile\u001b[0m\u001b[0;34m(\u001b[0m\u001b[0;34m\"File is not a zip file\"\u001b[0m\u001b[0;34m)\u001b[0m\u001b[0;34m\u001b[0m\u001b[0;34m\u001b[0m\u001b[0m\n\u001b[1;32m   1335\u001b[0m         \u001b[0;32mif\u001b[0m \u001b[0;32mnot\u001b[0m \u001b[0mendrec\u001b[0m\u001b[0;34m:\u001b[0m\u001b[0;34m\u001b[0m\u001b[0;34m\u001b[0m\u001b[0m\n\u001b[0;32m-> 1336\u001b[0;31m             \u001b[0;32mraise\u001b[0m \u001b[0mBadZipFile\u001b[0m\u001b[0;34m(\u001b[0m\u001b[0;34m\"File is not a zip file\"\u001b[0m\u001b[0;34m)\u001b[0m\u001b[0;34m\u001b[0m\u001b[0;34m\u001b[0m\u001b[0m\n\u001b[0m\u001b[1;32m   1337\u001b[0m         \u001b[0;32mif\u001b[0m \u001b[0mself\u001b[0m\u001b[0;34m.\u001b[0m\u001b[0mdebug\u001b[0m \u001b[0;34m>\u001b[0m \u001b[0;36m1\u001b[0m\u001b[0;34m:\u001b[0m\u001b[0;34m\u001b[0m\u001b[0;34m\u001b[0m\u001b[0m\n\u001b[1;32m   1338\u001b[0m             \u001b[0mprint\u001b[0m\u001b[0;34m(\u001b[0m\u001b[0mendrec\u001b[0m\u001b[0;34m)\u001b[0m\u001b[0;34m\u001b[0m\u001b[0;34m\u001b[0m\u001b[0m\n",
      "\u001b[0;31mBadZipFile\u001b[0m: File is not a zip file"
     ]
    }
   ],
   "source": [
    "def lemma(title):\n",
    "    lemmatizer = WordNetLemmatizer() # Initiate lemmatizer\n",
    "    lemmatized = [lemmatizer.lemmatize(word) for word in title] # Lemmatize\n",
    "    lemmatized_string = \" \".join(lemmatized)\n",
    "    return lemmatized_string\n",
    "\n",
    "df['clean_title'] = df.clean_title.apply(lemma)\n",
    "\n",
    "df.head()"
   ]
  },
  {
   "cell_type": "code",
   "execution_count": null,
   "id": "fff4c821",
   "metadata": {},
   "outputs": [],
   "source": []
  },
  {
   "cell_type": "code",
   "execution_count": null,
   "id": "03e82b50",
   "metadata": {},
   "outputs": [],
   "source": []
  },
  {
   "cell_type": "code",
   "execution_count": null,
   "id": "daf13895",
   "metadata": {},
   "outputs": [],
   "source": []
  },
  {
   "cell_type": "code",
   "execution_count": 215,
   "id": "f3fcc1b6",
   "metadata": {},
   "outputs": [],
   "source": [
    "#vectorisation , word_embedding "
   ]
  },
  {
   "cell_type": "markdown",
   "id": "979cd354",
   "metadata": {},
   "source": [
    "#\n",
    "````\n",
    "step1 : cleanning(openclassroom)\n",
    "step2: wordembeding (bag_of_word)\n",
    "step3 : LDA\n",
    "Step4: PCA (appliquer sur les resultats de word_embedding)\n",
    "step5: onevsrest classifier \n",
    "    \n",
    "    \n",
    "    \n",
    "    \n",
    "step2: vedio mon mentor(classification non_super)\n",
    "\n",
    "````\n"
   ]
  },
  {
   "cell_type": "code",
   "execution_count": 166,
   "id": "d5da1438",
   "metadata": {},
   "outputs": [],
   "source": [
    "# Bag of words modeling "
   ]
  },
  {
   "cell_type": "markdown",
   "id": "6ee5abbe",
   "metadata": {},
   "source": [
    "````\n",
    "Word_embeding : bag_of_word; dfidf, word2vec, doc2vec, BERT and USE\n",
    "\n",
    "Model: LDA\n",
    "    reduction de dimension \n",
    "    des models: onevsrestclassifier ; multiclass regression logistic, SGD Classifier\n",
    "````"
   ]
  },
  {
   "cell_type": "code",
   "execution_count": null,
   "id": "0c017f97",
   "metadata": {},
   "outputs": [],
   "source": []
  },
  {
   "cell_type": "code",
   "execution_count": null,
   "id": "a69a2566",
   "metadata": {},
   "outputs": [],
   "source": []
  },
  {
   "cell_type": "code",
   "execution_count": null,
   "id": "e2cfa8e8",
   "metadata": {},
   "outputs": [],
   "source": []
  },
  {
   "cell_type": "code",
   "execution_count": null,
   "id": "8a8c3699",
   "metadata": {},
   "outputs": [],
   "source": []
  },
  {
   "cell_type": "code",
   "execution_count": 167,
   "id": "bcf907c8",
   "metadata": {},
   "outputs": [],
   "source": [
    "from sklearn.feature_extraction.text import CountVectorizer\n"
   ]
  },
  {
   "cell_type": "code",
   "execution_count": 168,
   "id": "282ca8a2",
   "metadata": {},
   "outputs": [],
   "source": [
    "vectorizer = CountVectorizer()\n"
   ]
  },
  {
   "cell_type": "code",
   "execution_count": 169,
   "id": "769489b3",
   "metadata": {},
   "outputs": [],
   "source": [
    "X_bow = vectorizer.fit_transform(clean_title)"
   ]
  },
  {
   "cell_type": "code",
   "execution_count": 170,
   "id": "7994796c",
   "metadata": {},
   "outputs": [
    {
     "data": {
      "text/plain": [
       "<27447x18190 sparse matrix of type '<class 'numpy.int64'>'\n",
       "\twith 221787 stored elements in Compressed Sparse Row format>"
      ]
     },
     "execution_count": 170,
     "metadata": {},
     "output_type": "execute_result"
    }
   ],
   "source": [
    "X_bow"
   ]
  },
  {
   "cell_type": "code",
   "execution_count": 171,
   "id": "ea062412",
   "metadata": {},
   "outputs": [
    {
     "ename": "AttributeError",
     "evalue": "'DataFrame' object has no attribute 'Score'",
     "output_type": "error",
     "traceback": [
      "\u001b[0;31m---------------------------------------------------------------------------\u001b[0m",
      "\u001b[0;31mAttributeError\u001b[0m                            Traceback (most recent call last)",
      "\u001b[0;32m/tmp/ipykernel_1594/476250764.py\u001b[0m in \u001b[0;36m<module>\u001b[0;34m\u001b[0m\n\u001b[1;32m      2\u001b[0m \u001b[0;32mfrom\u001b[0m \u001b[0msklearn\u001b[0m\u001b[0;34m.\u001b[0m\u001b[0mmodel_selection\u001b[0m \u001b[0;32mimport\u001b[0m \u001b[0mcross_validate\u001b[0m\u001b[0;34m\u001b[0m\u001b[0;34m\u001b[0m\u001b[0m\n\u001b[1;32m      3\u001b[0m \u001b[0;34m\u001b[0m\u001b[0m\n\u001b[0;32m----> 4\u001b[0;31m \u001b[0mcv_nb\u001b[0m \u001b[0;34m=\u001b[0m \u001b[0mcross_validate\u001b[0m\u001b[0;34m(\u001b[0m \u001b[0mMultinomialNB\u001b[0m\u001b[0;34m(\u001b[0m\u001b[0;34m)\u001b[0m\u001b[0;34m,\u001b[0m \u001b[0mX_bow\u001b[0m\u001b[0;34m,\u001b[0m \u001b[0mdf\u001b[0m\u001b[0;34m.\u001b[0m\u001b[0mScore\u001b[0m\u001b[0;34m,\u001b[0m \u001b[0mscoring\u001b[0m \u001b[0;34m=\u001b[0m \u001b[0;34m\"accuracy\"\u001b[0m\u001b[0;34m)\u001b[0m\u001b[0;34m\u001b[0m\u001b[0;34m\u001b[0m\u001b[0m\n\u001b[0m\u001b[1;32m      5\u001b[0m \u001b[0;34m\u001b[0m\u001b[0m\n\u001b[1;32m      6\u001b[0m \u001b[0mcv_nb\u001b[0m\u001b[0;34m[\u001b[0m\u001b[0;34m'test_score'\u001b[0m\u001b[0;34m]\u001b[0m\u001b[0;34m.\u001b[0m\u001b[0mmean\u001b[0m\u001b[0;34m(\u001b[0m\u001b[0;34m)\u001b[0m\u001b[0;34m\u001b[0m\u001b[0;34m\u001b[0m\u001b[0m\n",
      "\u001b[0;32m~/.pyenv/versions/3.8.12/envs/lewagon/lib/python3.8/site-packages/pandas/core/generic.py\u001b[0m in \u001b[0;36m__getattr__\u001b[0;34m(self, name)\u001b[0m\n\u001b[1;32m   5485\u001b[0m         ):\n\u001b[1;32m   5486\u001b[0m             \u001b[0;32mreturn\u001b[0m \u001b[0mself\u001b[0m\u001b[0;34m[\u001b[0m\u001b[0mname\u001b[0m\u001b[0;34m]\u001b[0m\u001b[0;34m\u001b[0m\u001b[0;34m\u001b[0m\u001b[0m\n\u001b[0;32m-> 5487\u001b[0;31m         \u001b[0;32mreturn\u001b[0m \u001b[0mobject\u001b[0m\u001b[0;34m.\u001b[0m\u001b[0m__getattribute__\u001b[0m\u001b[0;34m(\u001b[0m\u001b[0mself\u001b[0m\u001b[0;34m,\u001b[0m \u001b[0mname\u001b[0m\u001b[0;34m)\u001b[0m\u001b[0;34m\u001b[0m\u001b[0;34m\u001b[0m\u001b[0m\n\u001b[0m\u001b[1;32m   5488\u001b[0m \u001b[0;34m\u001b[0m\u001b[0m\n\u001b[1;32m   5489\u001b[0m     \u001b[0;32mdef\u001b[0m \u001b[0m__setattr__\u001b[0m\u001b[0;34m(\u001b[0m\u001b[0mself\u001b[0m\u001b[0;34m,\u001b[0m \u001b[0mname\u001b[0m\u001b[0;34m:\u001b[0m \u001b[0mstr\u001b[0m\u001b[0;34m,\u001b[0m \u001b[0mvalue\u001b[0m\u001b[0;34m)\u001b[0m \u001b[0;34m->\u001b[0m \u001b[0;32mNone\u001b[0m\u001b[0;34m:\u001b[0m\u001b[0;34m\u001b[0m\u001b[0;34m\u001b[0m\u001b[0m\n",
      "\u001b[0;31mAttributeError\u001b[0m: 'DataFrame' object has no attribute 'Score'"
     ]
    }
   ],
   "source": [
    "from sklearn.naive_bayes import MultinomialNB\n",
    "from sklearn.model_selection import cross_validate\n",
    "\n",
    "cv_nb = cross_validate( MultinomialNB(), X_bow, df.Score, scoring = \"accuracy\")\n",
    "\n",
    "cv_nb['test_score'].mean()"
   ]
  },
  {
   "cell_type": "code",
   "execution_count": 172,
   "id": "e4b7b5c2",
   "metadata": {},
   "outputs": [],
   "source": [
    "#Make all the necessary imports for modules used in the notebook\n",
    "# coding: utf-8\n",
    "import re\n",
    "import time\n",
    "import pickle\n",
    "import nltk, warnings\n",
    "from nltk.corpus import stopwords\n",
    "from nltk.stem import PorterStemmer\n",
    "from nltk.stem import WordNetLemmatizer\n",
    "from nltk.corpus import wordnet\n",
    "from nltk.tokenize import sent_tokenize, word_tokenize\n",
    "from nltk.tag.perceptron import PerceptronTagger\n",
    "from sklearn.feature_extraction.text import CountVectorizer, TfidfVectorizer\n",
    "from sklearn.decomposition import LatentDirichletAllocation\n",
    "from sklearn.multioutput import ClassifierChain\n",
    "from sklearn.naive_bayes import MultinomialNB, ComplementNB\n",
    "from sklearn.model_selection import train_test_split\n",
    "from sklearn.metrics import accuracy_score, jaccard_similarity_score, hamming_loss, make_scorer\n",
    "import pandas as pd\n",
    "from bs4 import BeautifulSoup\n",
    "import itertools\n",
    "import os\n",
    "import numpy as np\n",
    "import calendar\n",
    "import math\n",
    "import matplotlib as mpl\n",
    "from PIL import Image\n",
    "from wordcloud import WordCloud, STOPWORDS, ImageColorGenerator\n",
    "import matplotlib.pyplot as plt\n",
    "from collections import Counter\n",
    "import plotly.graph_objs as go\n",
    "import matplotlib.cm as cm\n",
    "from io import BytesIO"
   ]
  },
  {
   "cell_type": "code",
   "execution_count": 173,
   "id": "1e484817",
   "metadata": {},
   "outputs": [
    {
     "data": {
      "text/html": [
       "<div>\n",
       "<style scoped>\n",
       "    .dataframe tbody tr th:only-of-type {\n",
       "        vertical-align: middle;\n",
       "    }\n",
       "\n",
       "    .dataframe tbody tr th {\n",
       "        vertical-align: top;\n",
       "    }\n",
       "\n",
       "    .dataframe thead th {\n",
       "        text-align: right;\n",
       "    }\n",
       "</style>\n",
       "<table border=\"1\" class=\"dataframe\">\n",
       "  <thead>\n",
       "    <tr style=\"text-align: right;\">\n",
       "      <th></th>\n",
       "      <th>Title</th>\n",
       "      <th>Body</th>\n",
       "      <th>Tags</th>\n",
       "      <th>_len_Title</th>\n",
       "      <th>_len_Body</th>\n",
       "      <th>_len_Tags</th>\n",
       "      <th>clean_title</th>\n",
       "    </tr>\n",
       "  </thead>\n",
       "  <tbody>\n",
       "    <tr>\n",
       "      <th>0</th>\n",
       "      <td>Import CSV file to strongly typed data structu...</td>\n",
       "      <td>&lt;p&gt;What's the best way to import a CSV file in...</td>\n",
       "      <td>&lt;c#&gt;&lt;vb.net&gt;&lt;file&gt;&lt;csv&gt;&lt;import&gt;</td>\n",
       "      <td>56</td>\n",
       "      <td>86</td>\n",
       "      <td>31</td>\n",
       "      <td>[import, csv, file, strongly, typed, data, str...</td>\n",
       "    </tr>\n",
       "    <tr>\n",
       "      <th>1</th>\n",
       "      <td>Change hash without reload in jQuery</td>\n",
       "      <td>&lt;p&gt;I have the following code:&lt;/p&gt;\\n\\n&lt;pre&gt;&lt;cod...</td>\n",
       "      <td>&lt;jquery&gt;&lt;hash&gt;&lt;reload&gt;&lt;fragment-identifier&gt;&lt;wi...</td>\n",
       "      <td>36</td>\n",
       "      <td>586</td>\n",
       "      <td>60</td>\n",
       "      <td>[change, hash, without, reload, jquery]</td>\n",
       "    </tr>\n",
       "    <tr>\n",
       "      <th>2</th>\n",
       "      <td>Pass by reference or pass by value?</td>\n",
       "      <td>&lt;p&gt;When learning a new programming language, o...</td>\n",
       "      <td>&lt;language-agnostic&gt;&lt;oop&gt;&lt;parameters&gt;&lt;pass-by-r...</td>\n",
       "      <td>35</td>\n",
       "      <td>849</td>\n",
       "      <td>70</td>\n",
       "      <td>[pass, reference, pass, value]</td>\n",
       "    </tr>\n",
       "    <tr>\n",
       "      <th>3</th>\n",
       "      <td>What are MVP and MVC and what is the difference?</td>\n",
       "      <td>&lt;p&gt;When looking beyond the &lt;a href=\"https://en...</td>\n",
       "      <td>&lt;user-interface&gt;&lt;model-view-controller&gt;&lt;design...</td>\n",
       "      <td>48</td>\n",
       "      <td>774</td>\n",
       "      <td>74</td>\n",
       "      <td>[mvp, mvc, difference]</td>\n",
       "    </tr>\n",
       "    <tr>\n",
       "      <th>4</th>\n",
       "      <td>LINQ on the .NET 2.0 Runtime</td>\n",
       "      <td>&lt;p&gt;Can a LINQ enabled app run on a machine tha...</td>\n",
       "      <td>&lt;.net&gt;&lt;linq&gt;&lt;.net-3.5&gt;&lt;.net-2.0&gt;&lt;clr&gt;</td>\n",
       "      <td>28</td>\n",
       "      <td>324</td>\n",
       "      <td>37</td>\n",
       "      <td>[linq, net, runtime]</td>\n",
       "    </tr>\n",
       "  </tbody>\n",
       "</table>\n",
       "</div>"
      ],
      "text/plain": [
       "                                               Title  \\\n",
       "0  Import CSV file to strongly typed data structu...   \n",
       "1               Change hash without reload in jQuery   \n",
       "2                Pass by reference or pass by value?   \n",
       "3   What are MVP and MVC and what is the difference?   \n",
       "4                       LINQ on the .NET 2.0 Runtime   \n",
       "\n",
       "                                                Body  \\\n",
       "0  <p>What's the best way to import a CSV file in...   \n",
       "1  <p>I have the following code:</p>\\n\\n<pre><cod...   \n",
       "2  <p>When learning a new programming language, o...   \n",
       "3  <p>When looking beyond the <a href=\"https://en...   \n",
       "4  <p>Can a LINQ enabled app run on a machine tha...   \n",
       "\n",
       "                                                Tags  _len_Title  _len_Body  \\\n",
       "0                    <c#><vb.net><file><csv><import>          56         86   \n",
       "1  <jquery><hash><reload><fragment-identifier><wi...          36        586   \n",
       "2  <language-agnostic><oop><parameters><pass-by-r...          35        849   \n",
       "3  <user-interface><model-view-controller><design...          48        774   \n",
       "4              <.net><linq><.net-3.5><.net-2.0><clr>          28        324   \n",
       "\n",
       "   _len_Tags                                        clean_title  \n",
       "0         31  [import, csv, file, strongly, typed, data, str...  \n",
       "1         60            [change, hash, without, reload, jquery]  \n",
       "2         70                     [pass, reference, pass, value]  \n",
       "3         74                             [mvp, mvc, difference]  \n",
       "4         37                               [linq, net, runtime]  "
      ]
     },
     "execution_count": 173,
     "metadata": {},
     "output_type": "execute_result"
    }
   ],
   "source": [
    "df.head()"
   ]
  },
  {
   "cell_type": "code",
   "execution_count": null,
   "id": "abe315ee",
   "metadata": {},
   "outputs": [],
   "source": []
  },
  {
   "cell_type": "code",
   "execution_count": 174,
   "id": "eb4d1919",
   "metadata": {},
   "outputs": [],
   "source": [
    "# builtin\n",
    "import os, sys, time, random\n",
    "import pandas as pd\n",
    "import numpy as np\n",
    "import nltk\n",
    "from nltk.stem import WordNetLemmatizer, PorterStemmer\n",
    "from nltk.tokenize import word_tokenize, wordpunct_tokenize\n",
    "from nltk.corpus import words\n",
    "from nltk.corpus import stopwords\n",
    "from nltk.tokenize import RegexpTokenizer"
   ]
  },
  {
   "cell_type": "code",
   "execution_count": 176,
   "id": "848f2921",
   "metadata": {},
   "outputs": [],
   "source": [
    "#import spacy\n",
    "#viz\n",
    "import seaborn as sns\n",
    "import matplotlib.pyplot as plt\n",
    "from wordcloud import WordCloud\n",
    "from PIL import Image\n"
   ]
  },
  {
   "cell_type": "code",
   "execution_count": 179,
   "id": "602ca902",
   "metadata": {},
   "outputs": [],
   "source": [
    "from pandarallel import pandarallel"
   ]
  },
  {
   "cell_type": "code",
   "execution_count": 180,
   "id": "dbffa670",
   "metadata": {},
   "outputs": [],
   "source": [
    "#pip install pandarallel"
   ]
  },
  {
   "cell_type": "code",
   "execution_count": 181,
   "id": "7e8ddbb8",
   "metadata": {},
   "outputs": [
    {
     "name": "stdout",
     "output_type": "stream",
     "text": [
      "INFO: Pandarallel will run on 6 workers.\n",
      "INFO: Pandarallel will use Memory file system to transfer data between the main process and workers.\n"
     ]
    }
   ],
   "source": [
    "#pandarallel\n",
    "pandarallel.initialize(progress_bar =True,\n",
    "                      nb_workers=6,)"
   ]
  },
  {
   "cell_type": "code",
   "execution_count": 182,
   "id": "9dd29cc3",
   "metadata": {},
   "outputs": [],
   "source": [
    "#init sns\n",
    "sns.set()"
   ]
  },
  {
   "cell_type": "code",
   "execution_count": 186,
   "id": "6cf3c1e1",
   "metadata": {},
   "outputs": [],
   "source": [
    "df = data"
   ]
  },
  {
   "cell_type": "code",
   "execution_count": 187,
   "id": "7853d854",
   "metadata": {},
   "outputs": [
    {
     "data": {
      "text/html": [
       "<div>\n",
       "<style scoped>\n",
       "    .dataframe tbody tr th:only-of-type {\n",
       "        vertical-align: middle;\n",
       "    }\n",
       "\n",
       "    .dataframe tbody tr th {\n",
       "        vertical-align: top;\n",
       "    }\n",
       "\n",
       "    .dataframe thead th {\n",
       "        text-align: right;\n",
       "    }\n",
       "</style>\n",
       "<table border=\"1\" class=\"dataframe\">\n",
       "  <thead>\n",
       "    <tr style=\"text-align: right;\">\n",
       "      <th></th>\n",
       "      <th>Id</th>\n",
       "      <th>Title</th>\n",
       "      <th>Body</th>\n",
       "      <th>Tags</th>\n",
       "    </tr>\n",
       "  </thead>\n",
       "  <tbody>\n",
       "    <tr>\n",
       "      <th>0</th>\n",
       "      <td>1898</td>\n",
       "      <td>Import CSV file to strongly typed data structu...</td>\n",
       "      <td>&lt;p&gt;What's the best way to import a CSV file in...</td>\n",
       "      <td>&lt;c#&gt;&lt;vb.net&gt;&lt;file&gt;&lt;csv&gt;&lt;import&gt;</td>\n",
       "    </tr>\n",
       "    <tr>\n",
       "      <th>1</th>\n",
       "      <td>1939041</td>\n",
       "      <td>Change hash without reload in jQuery</td>\n",
       "      <td>&lt;p&gt;I have the following code:&lt;/p&gt;\\n\\n&lt;pre&gt;&lt;cod...</td>\n",
       "      <td>&lt;jquery&gt;&lt;hash&gt;&lt;reload&gt;&lt;fragment-identifier&gt;&lt;wi...</td>\n",
       "    </tr>\n",
       "    <tr>\n",
       "      <th>2</th>\n",
       "      <td>2027</td>\n",
       "      <td>Pass by reference or pass by value?</td>\n",
       "      <td>&lt;p&gt;When learning a new programming language, o...</td>\n",
       "      <td>&lt;language-agnostic&gt;&lt;oop&gt;&lt;parameters&gt;&lt;pass-by-r...</td>\n",
       "    </tr>\n",
       "    <tr>\n",
       "      <th>3</th>\n",
       "      <td>2056</td>\n",
       "      <td>What are MVP and MVC and what is the difference?</td>\n",
       "      <td>&lt;p&gt;When looking beyond the &lt;a href=\"https://en...</td>\n",
       "      <td>&lt;user-interface&gt;&lt;model-view-controller&gt;&lt;design...</td>\n",
       "    </tr>\n",
       "    <tr>\n",
       "      <th>4</th>\n",
       "      <td>2138</td>\n",
       "      <td>LINQ on the .NET 2.0 Runtime</td>\n",
       "      <td>&lt;p&gt;Can a LINQ enabled app run on a machine tha...</td>\n",
       "      <td>&lt;.net&gt;&lt;linq&gt;&lt;.net-3.5&gt;&lt;.net-2.0&gt;&lt;clr&gt;</td>\n",
       "    </tr>\n",
       "  </tbody>\n",
       "</table>\n",
       "</div>"
      ],
      "text/plain": [
       "        Id                                              Title  \\\n",
       "0     1898  Import CSV file to strongly typed data structu...   \n",
       "1  1939041               Change hash without reload in jQuery   \n",
       "2     2027                Pass by reference or pass by value?   \n",
       "3     2056   What are MVP and MVC and what is the difference?   \n",
       "4     2138                       LINQ on the .NET 2.0 Runtime   \n",
       "\n",
       "                                                Body  \\\n",
       "0  <p>What's the best way to import a CSV file in...   \n",
       "1  <p>I have the following code:</p>\\n\\n<pre><cod...   \n",
       "2  <p>When learning a new programming language, o...   \n",
       "3  <p>When looking beyond the <a href=\"https://en...   \n",
       "4  <p>Can a LINQ enabled app run on a machine tha...   \n",
       "\n",
       "                                                Tags  \n",
       "0                    <c#><vb.net><file><csv><import>  \n",
       "1  <jquery><hash><reload><fragment-identifier><wi...  \n",
       "2  <language-agnostic><oop><parameters><pass-by-r...  \n",
       "3  <user-interface><model-view-controller><design...  \n",
       "4              <.net><linq><.net-3.5><.net-2.0><clr>  "
      ]
     },
     "execution_count": 187,
     "metadata": {},
     "output_type": "execute_result"
    }
   ],
   "source": [
    "df.head()"
   ]
  },
  {
   "cell_type": "code",
   "execution_count": 188,
   "id": "93760f0b",
   "metadata": {},
   "outputs": [
    {
     "data": {
      "text/plain": [
       "(27933, 4)"
      ]
     },
     "execution_count": 188,
     "metadata": {},
     "output_type": "execute_result"
    }
   ],
   "source": [
    "df.shape"
   ]
  },
  {
   "cell_type": "code",
   "execution_count": 189,
   "id": "9b1fcaaf",
   "metadata": {},
   "outputs": [],
   "source": [
    "df = df.sample(frac=0.3)"
   ]
  },
  {
   "cell_type": "code",
   "execution_count": 190,
   "id": "d110d2cb",
   "metadata": {},
   "outputs": [
    {
     "data": {
      "text/plain": [
       "(8380, 4)"
      ]
     },
     "execution_count": 190,
     "metadata": {},
     "output_type": "execute_result"
    }
   ],
   "source": [
    "df.shape"
   ]
  },
  {
   "cell_type": "code",
   "execution_count": 191,
   "id": "ba98ab0e",
   "metadata": {},
   "outputs": [],
   "source": [
    "# Work on a specific document"
   ]
  },
  {
   "cell_type": "code",
   "execution_count": 195,
   "id": "36d6e0df",
   "metadata": {},
   "outputs": [
    {
     "data": {
      "text/plain": [
       "'<p>I have some performance critical code that involves sorting a very short fixed-length array with between around 3 and 10 elements in C++ (the parameter changes at compile time).</p>\\n\\n<p>It occurred to me that a static sorting network specialised to each possible input size would perhaps be a very efficient way to do this: We do all the comparisons necessary to figure out which case we are in, then do the optimal number of swaps to sort the array. </p>\\n\\n<p>To apply this, we use a bit of template magic to deduce the array length and apply the correct network:</p>\\n\\n<pre><code>#include &lt;iostream&gt;\\nusing namespace std;\\n\\ntemplate&lt; int K &gt;\\nvoid static_sort(const double(&amp;array)[K])\\n{\\n    cout &lt;&lt; \"General static sort\\\\n\" &lt;&lt; endl;\\n}\\n\\ntemplate&lt;&gt;\\nvoid static_sort&lt;3&gt;(const double(&amp;array)[3])\\n{\\n    cout &lt;&lt; \"Static sort for K=3\" &lt;&lt; endl;\\n}\\n\\n\\nint main()\\n{\\n\\n    double  array[3];\\n\\n    // performance critical code.\\n    // ...\\n    static_sort(array);\\n    // ...\\n\\n}\\n</code></pre>\\n\\n<p>Obviously it\\'s quite a hassle to code all this up, so:</p>\\n\\n<ul>\\n<li>Does anyone have any opinions on whether or not this is worth the effort?</li>\\n<li>Does anyone know if this optimisation exists in any standard implementations of, for example, std::sort? </li>\\n<li>Is there an easy place to get hold of code implementing this kind of sorting network?</li>\\n<li>Perhaps it would be possible to generate a sorting network like this statically using template magic..</li>\\n</ul>\\n\\n<p>For now I just use insertion sort with a static template parameter (as above), in the hope that it will encourage unrolling and other compile-time optimisations.</p>\\n\\n<p>Your thoughts welcome.</p>\\n\\n<hr>\\n\\n<p><em><strong>Update:</em></strong>\\nI wrote some testing code to compare a \\'static\\' insertion short and std::sort. (When I say static, I mean that the array size is fixed and deduced at compile time (presumably allowing loop unrolling etc). \\nI get at least a 20% NET improvement (note that the generation is included in the timing). Platform: clang, OS X 10.9.</p>\\n\\n<p>The code is here <a href=\"https://github.com/rosshemsley/static_sorting\">https://github.com/rosshemsley/static_sorting</a> if you would like to compare it to your implementations of stdlib.</p>\\n\\n<p>I have still yet to find a nice set of implementations for comparator network sorters.</p>\\n\\n<hr>\\n'"
      ]
     },
     "execution_count": 195,
     "metadata": {},
     "output_type": "execute_result"
    }
   ],
   "source": [
    "doc = df.Body.sample(1)\n",
    "doc = doc.values[0]\n",
    "doc"
   ]
  },
  {
   "cell_type": "code",
   "execution_count": 197,
   "id": "f3311db1",
   "metadata": {},
   "outputs": [
    {
     "data": {
      "text/plain": [
       "'<p>i have some performance critical code that involves sorting a very short fixed-length array with between around 3 and 10 elements in c++ (the parameter changes at compile time).</p>\\n\\n<p>it occurred to me that a static sorting network specialised to each possible input size would perhaps be a very efficient way to do this: we do all the comparisons necessary to figure out which case we are in, then do the optimal number of swaps to sort the array. </p>\\n\\n<p>to apply this, we use a bit of template magic to deduce the array length and apply the correct network:</p>\\n\\n<pre><code>#include &lt;iostream&gt;\\nusing namespace std;\\n\\ntemplate&lt; int k &gt;\\nvoid static_sort(const double(&amp;array)[k])\\n{\\n    cout &lt;&lt; \"general static sort\\\\n\" &lt;&lt; endl;\\n}\\n\\ntemplate&lt;&gt;\\nvoid static_sort&lt;3&gt;(const double(&amp;array)[3])\\n{\\n    cout &lt;&lt; \"static sort for k=3\" &lt;&lt; endl;\\n}\\n\\n\\nint main()\\n{\\n\\n    double  array[3];\\n\\n    // performance critical code.\\n    // ...\\n    static_sort(array);\\n    // ...\\n\\n}\\n</code></pre>\\n\\n<p>obviously it\\'s quite a hassle to code all this up, so:</p>\\n\\n<ul>\\n<li>does anyone have any opinions on whether or not this is worth the effort?</li>\\n<li>does anyone know if this optimisation exists in any standard implementations of, for example, std::sort? </li>\\n<li>is there an easy place to get hold of code implementing this kind of sorting network?</li>\\n<li>perhaps it would be possible to generate a sorting network like this statically using template magic..</li>\\n</ul>\\n\\n<p>for now i just use insertion sort with a static template parameter (as above), in the hope that it will encourage unrolling and other compile-time optimisations.</p>\\n\\n<p>your thoughts welcome.</p>\\n\\n<hr>\\n\\n<p><em><strong>update:</em></strong>\\ni wrote some testing code to compare a \\'static\\' insertion short and std::sort. (when i say static, i mean that the array size is fixed and deduced at compile time (presumably allowing loop unrolling etc). \\ni get at least a 20% net improvement (note that the generation is included in the timing). platform: clang, os x 10.9.</p>\\n\\n<p>the code is here <a href=\"https://github.com/rosshemsley/static_sorting\">https://github.com/rosshemsley/static_sorting</a> if you would like to compare it to your implementations of stdlib.</p>\\n\\n<p>i have still yet to find a nice set of implementations for comparator network sorters.</p>\\n\\n<hr>\\n'"
      ]
     },
     "execution_count": 197,
     "metadata": {},
     "output_type": "execute_result"
    }
   ],
   "source": [
    "# Lower\n",
    "doc = doc.lower()\n",
    "doc"
   ]
  },
  {
   "cell_type": "code",
   "execution_count": 199,
   "id": "60352527",
   "metadata": {},
   "outputs": [
    {
     "data": {
      "text/plain": [
       "['<',\n",
       " 'p',\n",
       " '>',\n",
       " 'i',\n",
       " 'have',\n",
       " 'some',\n",
       " 'performance',\n",
       " 'critical',\n",
       " 'code',\n",
       " 'that',\n",
       " 'involves',\n",
       " 'sorting',\n",
       " 'a',\n",
       " 'very',\n",
       " 'short',\n",
       " 'fixed-length',\n",
       " 'array',\n",
       " 'with',\n",
       " 'between',\n",
       " 'around',\n",
       " '3',\n",
       " 'and',\n",
       " '10',\n",
       " 'elements',\n",
       " 'in',\n",
       " 'c++',\n",
       " '(',\n",
       " 'the',\n",
       " 'parameter',\n",
       " 'changes',\n",
       " 'at',\n",
       " 'compile',\n",
       " 'time',\n",
       " ')',\n",
       " '.',\n",
       " '<',\n",
       " '/p',\n",
       " '>',\n",
       " '<',\n",
       " 'p',\n",
       " '>',\n",
       " 'it',\n",
       " 'occurred',\n",
       " 'to',\n",
       " 'me',\n",
       " 'that',\n",
       " 'a',\n",
       " 'static',\n",
       " 'sorting',\n",
       " 'network',\n",
       " 'specialised',\n",
       " 'to',\n",
       " 'each',\n",
       " 'possible',\n",
       " 'input',\n",
       " 'size',\n",
       " 'would',\n",
       " 'perhaps',\n",
       " 'be',\n",
       " 'a',\n",
       " 'very',\n",
       " 'efficient',\n",
       " 'way',\n",
       " 'to',\n",
       " 'do',\n",
       " 'this',\n",
       " ':',\n",
       " 'we',\n",
       " 'do',\n",
       " 'all',\n",
       " 'the',\n",
       " 'comparisons',\n",
       " 'necessary',\n",
       " 'to',\n",
       " 'figure',\n",
       " 'out',\n",
       " 'which',\n",
       " 'case',\n",
       " 'we',\n",
       " 'are',\n",
       " 'in',\n",
       " ',',\n",
       " 'then',\n",
       " 'do',\n",
       " 'the',\n",
       " 'optimal',\n",
       " 'number',\n",
       " 'of',\n",
       " 'swaps',\n",
       " 'to',\n",
       " 'sort',\n",
       " 'the',\n",
       " 'array',\n",
       " '.',\n",
       " '<',\n",
       " '/p',\n",
       " '>',\n",
       " '<',\n",
       " 'p',\n",
       " '>',\n",
       " 'to',\n",
       " 'apply',\n",
       " 'this',\n",
       " ',',\n",
       " 'we',\n",
       " 'use',\n",
       " 'a',\n",
       " 'bit',\n",
       " 'of',\n",
       " 'template',\n",
       " 'magic',\n",
       " 'to',\n",
       " 'deduce',\n",
       " 'the',\n",
       " 'array',\n",
       " 'length',\n",
       " 'and',\n",
       " 'apply',\n",
       " 'the',\n",
       " 'correct',\n",
       " 'network',\n",
       " ':',\n",
       " '<',\n",
       " '/p',\n",
       " '>',\n",
       " '<',\n",
       " 'pre',\n",
       " '>',\n",
       " '<',\n",
       " 'code',\n",
       " '>',\n",
       " '#',\n",
       " 'include',\n",
       " '&',\n",
       " 'lt',\n",
       " ';',\n",
       " 'iostream',\n",
       " '&',\n",
       " 'gt',\n",
       " ';',\n",
       " 'using',\n",
       " 'namespace',\n",
       " 'std',\n",
       " ';',\n",
       " 'template',\n",
       " '&',\n",
       " 'lt',\n",
       " ';',\n",
       " 'int',\n",
       " 'k',\n",
       " '&',\n",
       " 'gt',\n",
       " ';',\n",
       " 'void',\n",
       " 'static_sort',\n",
       " '(',\n",
       " 'const',\n",
       " 'double',\n",
       " '(',\n",
       " '&',\n",
       " 'amp',\n",
       " ';',\n",
       " 'array',\n",
       " ')',\n",
       " '[',\n",
       " 'k',\n",
       " ']',\n",
       " ')',\n",
       " '{',\n",
       " 'cout',\n",
       " '&',\n",
       " 'lt',\n",
       " ';',\n",
       " '&',\n",
       " 'lt',\n",
       " ';',\n",
       " '``',\n",
       " 'general',\n",
       " 'static',\n",
       " 'sort\\\\n',\n",
       " \"''\",\n",
       " '&',\n",
       " 'lt',\n",
       " ';',\n",
       " '&',\n",
       " 'lt',\n",
       " ';',\n",
       " 'endl',\n",
       " ';',\n",
       " '}',\n",
       " 'template',\n",
       " '&',\n",
       " 'lt',\n",
       " ';',\n",
       " '&',\n",
       " 'gt',\n",
       " ';',\n",
       " 'void',\n",
       " 'static_sort',\n",
       " '&',\n",
       " 'lt',\n",
       " ';',\n",
       " '3',\n",
       " '&',\n",
       " 'gt',\n",
       " ';',\n",
       " '(',\n",
       " 'const',\n",
       " 'double',\n",
       " '(',\n",
       " '&',\n",
       " 'amp',\n",
       " ';',\n",
       " 'array',\n",
       " ')',\n",
       " '[',\n",
       " '3',\n",
       " ']',\n",
       " ')',\n",
       " '{',\n",
       " 'cout',\n",
       " '&',\n",
       " 'lt',\n",
       " ';',\n",
       " '&',\n",
       " 'lt',\n",
       " ';',\n",
       " '``',\n",
       " 'static',\n",
       " 'sort',\n",
       " 'for',\n",
       " 'k=3',\n",
       " \"''\",\n",
       " '&',\n",
       " 'lt',\n",
       " ';',\n",
       " '&',\n",
       " 'lt',\n",
       " ';',\n",
       " 'endl',\n",
       " ';',\n",
       " '}',\n",
       " 'int',\n",
       " 'main',\n",
       " '(',\n",
       " ')',\n",
       " '{',\n",
       " 'double',\n",
       " 'array',\n",
       " '[',\n",
       " '3',\n",
       " ']',\n",
       " ';',\n",
       " '//',\n",
       " 'performance',\n",
       " 'critical',\n",
       " 'code',\n",
       " '.',\n",
       " '//',\n",
       " '...',\n",
       " 'static_sort',\n",
       " '(',\n",
       " 'array',\n",
       " ')',\n",
       " ';',\n",
       " '//',\n",
       " '...',\n",
       " '}',\n",
       " '<',\n",
       " '/code',\n",
       " '>',\n",
       " '<',\n",
       " '/pre',\n",
       " '>',\n",
       " '<',\n",
       " 'p',\n",
       " '>',\n",
       " 'obviously',\n",
       " 'it',\n",
       " \"'s\",\n",
       " 'quite',\n",
       " 'a',\n",
       " 'hassle',\n",
       " 'to',\n",
       " 'code',\n",
       " 'all',\n",
       " 'this',\n",
       " 'up',\n",
       " ',',\n",
       " 'so',\n",
       " ':',\n",
       " '<',\n",
       " '/p',\n",
       " '>',\n",
       " '<',\n",
       " 'ul',\n",
       " '>',\n",
       " '<',\n",
       " 'li',\n",
       " '>',\n",
       " 'does',\n",
       " 'anyone',\n",
       " 'have',\n",
       " 'any',\n",
       " 'opinions',\n",
       " 'on',\n",
       " 'whether',\n",
       " 'or',\n",
       " 'not',\n",
       " 'this',\n",
       " 'is',\n",
       " 'worth',\n",
       " 'the',\n",
       " 'effort',\n",
       " '?',\n",
       " '<',\n",
       " '/li',\n",
       " '>',\n",
       " '<',\n",
       " 'li',\n",
       " '>',\n",
       " 'does',\n",
       " 'anyone',\n",
       " 'know',\n",
       " 'if',\n",
       " 'this',\n",
       " 'optimisation',\n",
       " 'exists',\n",
       " 'in',\n",
       " 'any',\n",
       " 'standard',\n",
       " 'implementations',\n",
       " 'of',\n",
       " ',',\n",
       " 'for',\n",
       " 'example',\n",
       " ',',\n",
       " 'std',\n",
       " ':',\n",
       " ':sort',\n",
       " '?',\n",
       " '<',\n",
       " '/li',\n",
       " '>',\n",
       " '<',\n",
       " 'li',\n",
       " '>',\n",
       " 'is',\n",
       " 'there',\n",
       " 'an',\n",
       " 'easy',\n",
       " 'place',\n",
       " 'to',\n",
       " 'get',\n",
       " 'hold',\n",
       " 'of',\n",
       " 'code',\n",
       " 'implementing',\n",
       " 'this',\n",
       " 'kind',\n",
       " 'of',\n",
       " 'sorting',\n",
       " 'network',\n",
       " '?',\n",
       " '<',\n",
       " '/li',\n",
       " '>',\n",
       " '<',\n",
       " 'li',\n",
       " '>',\n",
       " 'perhaps',\n",
       " 'it',\n",
       " 'would',\n",
       " 'be',\n",
       " 'possible',\n",
       " 'to',\n",
       " 'generate',\n",
       " 'a',\n",
       " 'sorting',\n",
       " 'network',\n",
       " 'like',\n",
       " 'this',\n",
       " 'statically',\n",
       " 'using',\n",
       " 'template',\n",
       " 'magic',\n",
       " '..',\n",
       " '<',\n",
       " '/li',\n",
       " '>',\n",
       " '<',\n",
       " '/ul',\n",
       " '>',\n",
       " '<',\n",
       " 'p',\n",
       " '>',\n",
       " 'for',\n",
       " 'now',\n",
       " 'i',\n",
       " 'just',\n",
       " 'use',\n",
       " 'insertion',\n",
       " 'sort',\n",
       " 'with',\n",
       " 'a',\n",
       " 'static',\n",
       " 'template',\n",
       " 'parameter',\n",
       " '(',\n",
       " 'as',\n",
       " 'above',\n",
       " ')',\n",
       " ',',\n",
       " 'in',\n",
       " 'the',\n",
       " 'hope',\n",
       " 'that',\n",
       " 'it',\n",
       " 'will',\n",
       " 'encourage',\n",
       " 'unrolling',\n",
       " 'and',\n",
       " 'other',\n",
       " 'compile-time',\n",
       " 'optimisations.',\n",
       " '<',\n",
       " '/p',\n",
       " '>',\n",
       " '<',\n",
       " 'p',\n",
       " '>',\n",
       " 'your',\n",
       " 'thoughts',\n",
       " 'welcome.',\n",
       " '<',\n",
       " '/p',\n",
       " '>',\n",
       " '<',\n",
       " 'hr',\n",
       " '>',\n",
       " '<',\n",
       " 'p',\n",
       " '>',\n",
       " '<',\n",
       " 'em',\n",
       " '>',\n",
       " '<',\n",
       " 'strong',\n",
       " '>',\n",
       " 'update',\n",
       " ':',\n",
       " '<',\n",
       " '/em',\n",
       " '>',\n",
       " '<',\n",
       " '/strong',\n",
       " '>',\n",
       " 'i',\n",
       " 'wrote',\n",
       " 'some',\n",
       " 'testing',\n",
       " 'code',\n",
       " 'to',\n",
       " 'compare',\n",
       " 'a',\n",
       " \"'static\",\n",
       " \"'\",\n",
       " 'insertion',\n",
       " 'short',\n",
       " 'and',\n",
       " 'std',\n",
       " ':',\n",
       " ':sort',\n",
       " '.',\n",
       " '(',\n",
       " 'when',\n",
       " 'i',\n",
       " 'say',\n",
       " 'static',\n",
       " ',',\n",
       " 'i',\n",
       " 'mean',\n",
       " 'that',\n",
       " 'the',\n",
       " 'array',\n",
       " 'size',\n",
       " 'is',\n",
       " 'fixed',\n",
       " 'and',\n",
       " 'deduced',\n",
       " 'at',\n",
       " 'compile',\n",
       " 'time',\n",
       " '(',\n",
       " 'presumably',\n",
       " 'allowing',\n",
       " 'loop',\n",
       " 'unrolling',\n",
       " 'etc',\n",
       " ')',\n",
       " '.',\n",
       " 'i',\n",
       " 'get',\n",
       " 'at',\n",
       " 'least',\n",
       " 'a',\n",
       " '20',\n",
       " '%',\n",
       " 'net',\n",
       " 'improvement',\n",
       " '(',\n",
       " 'note',\n",
       " 'that',\n",
       " 'the',\n",
       " 'generation',\n",
       " 'is',\n",
       " 'included',\n",
       " 'in',\n",
       " 'the',\n",
       " 'timing',\n",
       " ')',\n",
       " '.',\n",
       " 'platform',\n",
       " ':',\n",
       " 'clang',\n",
       " ',',\n",
       " 'os',\n",
       " 'x',\n",
       " '10.9.',\n",
       " '<',\n",
       " '/p',\n",
       " '>',\n",
       " '<',\n",
       " 'p',\n",
       " '>',\n",
       " 'the',\n",
       " 'code',\n",
       " 'is',\n",
       " 'here',\n",
       " '<',\n",
       " 'a',\n",
       " 'href=',\n",
       " \"''\",\n",
       " 'https',\n",
       " ':',\n",
       " '//github.com/rosshemsley/static_sorting',\n",
       " \"''\",\n",
       " '>',\n",
       " 'https',\n",
       " ':',\n",
       " '//github.com/rosshemsley/static_sorting',\n",
       " '<',\n",
       " '/a',\n",
       " '>',\n",
       " 'if',\n",
       " 'you',\n",
       " 'would',\n",
       " 'like',\n",
       " 'to',\n",
       " 'compare',\n",
       " 'it',\n",
       " 'to',\n",
       " 'your',\n",
       " 'implementations',\n",
       " 'of',\n",
       " 'stdlib.',\n",
       " '<',\n",
       " '/p',\n",
       " '>',\n",
       " '<',\n",
       " 'p',\n",
       " '>',\n",
       " 'i',\n",
       " 'have',\n",
       " 'still',\n",
       " 'yet',\n",
       " 'to',\n",
       " 'find',\n",
       " 'a',\n",
       " 'nice',\n",
       " 'set',\n",
       " 'of',\n",
       " 'implementations',\n",
       " 'for',\n",
       " 'comparator',\n",
       " 'network',\n",
       " 'sorters.',\n",
       " '<',\n",
       " '/p',\n",
       " '>',\n",
       " '<',\n",
       " 'hr',\n",
       " '>']"
      ]
     },
     "execution_count": 199,
     "metadata": {},
     "output_type": "execute_result"
    }
   ],
   "source": [
    "# Tokenization\n",
    "tokens = word_tokenize(doc)\n",
    "tokens"
   ]
  },
  {
   "cell_type": "code",
   "execution_count": 200,
   "id": "a899e5fa",
   "metadata": {},
   "outputs": [
    {
     "data": {
      "text/plain": [
       "593"
      ]
     },
     "execution_count": 200,
     "metadata": {},
     "output_type": "execute_result"
    }
   ],
   "source": [
    "len(tokens)"
   ]
  },
  {
   "cell_type": "code",
   "execution_count": 201,
   "id": "43429683",
   "metadata": {},
   "outputs": [
    {
     "data": {
      "text/plain": [
       "219"
      ]
     },
     "execution_count": 201,
     "metadata": {},
     "output_type": "execute_result"
    }
   ],
   "source": [
    "len(set(tokens))"
   ]
  },
  {
   "cell_type": "code",
   "execution_count": 203,
   "id": "c14ca72a",
   "metadata": {},
   "outputs": [],
   "source": [
    "def display_tokens_info(tokens):\n",
    "    \"\"\"display info about corpus\n",
    "    \"\"\"\n",
    "    print(f\"nb tokens{len(tokens)}, nb tokens uniques{len(set(tokens))}\")\n",
    "    print(tokens[:30])"
   ]
  },
  {
   "cell_type": "code",
   "execution_count": 204,
   "id": "659b9a7a",
   "metadata": {},
   "outputs": [
    {
     "name": "stdout",
     "output_type": "stream",
     "text": [
      "nb tokens585, nb tokens uniques232\n",
      "['<', 'p', '>', 'i', 'have', 'some', 'performance', 'critical', 'code', 'that', 'involves', 'sorting', 'a', 'very', 'short', 'fixed', '-', 'length', 'array', 'with', 'between', 'around', '3', 'and', '10', 'elements', 'in', 'c', '++', '(']\n"
     ]
    }
   ],
   "source": [
    "#an another tokenize\n",
    "tokens = wordpunct_tokenize(doc)\n",
    "display_tokens_info(tokens)"
   ]
  },
  {
   "cell_type": "code",
   "execution_count": 206,
   "id": "dea53aeb",
   "metadata": {},
   "outputs": [
    {
     "name": "stdout",
     "output_type": "stream",
     "text": [
      "{'while', 'its', 'further', 'all', 'at', 'needn', \"shan't\", 'weren', 'are', 'where', 'ma', 'shouldn', \"weren't\", \"aren't\", 'haven', 'do', \"you've\", 'both', 'not', 'own', 'ourselves', 'yourself', 'o', 'mustn', 'to', 'on', 'out', 'those', 'should', 'me', 'doesn', 'a', 'him', 'myself', 'from', 'he', 'below', 'any', 'some', 'against', 'until', \"needn't\", 'it', 'i', 'isn', 'that', \"mustn't\", \"hasn't\", 'so', 'nor', 'down', 'theirs', 'whom', 'how', 't', 'couldn', 'through', 'did', 'above', 'aren', 'you', 'during', 'if', 'doing', 'his', 're', \"she's\", 'my', 'does', \"couldn't\", 'have', 've', 'didn', 'when', 'having', 'your', 'over', 'yours', 'which', 'these', \"don't\", 'itself', \"it's\", 'about', 'very', \"doesn't\", 'wasn', 'y', 'off', \"should've\", \"hadn't\", \"haven't\", 's', 'few', 'they', 'the', 'by', 'same', \"wouldn't\", 'was', 'wouldn', \"wasn't\", 'd', 'ours', 'we', 'what', \"shouldn't\", 'in', 'once', 'don', \"that'll\", 'who', 'be', 'hasn', \"won't\", \"you'll\", 'then', 'here', 'other', 'll', 'under', 'each', \"didn't\", 'of', 'herself', 'but', \"mightn't\", 'himself', 'won', 'with', 'after', 'such', 'shan', 'between', 'she', 'is', 'ain', 'or', 'as', 'than', 'hers', 'can', 'had', 'into', 'being', 'themselves', 'yourselves', 'her', 'been', 'their', 'just', 'because', 'and', 'there', 'them', 'for', \"you'd\", 'hadn', 'were', 'an', 'before', 'this', 'why', \"you're\", 'has', 'am', 'up', 'only', 'too', 'will', \"isn't\", 'now', 'more', 'our', 'again', 'most', 'no', 'mightn', 'm'}\n"
     ]
    }
   ],
   "source": [
    "# Stopwords\n",
    "stop_words = set(stopwords.words('english'))\n",
    "print(stop_words)"
   ]
  },
  {
   "cell_type": "code",
   "execution_count": 208,
   "id": "9d49d3aa",
   "metadata": {},
   "outputs": [
    {
     "name": "stdout",
     "output_type": "stream",
     "text": [
      "nb tokens443, nb tokens uniques183\n",
      "['<', 'p', '>', 'performance', 'critical', 'code', 'involves', 'sorting', 'short', 'fixed', '-', 'length', 'array', 'around', '3', '10', 'elements', 'c', '++', '(', 'parameter', 'changes', 'compile', 'time', ').</', 'p', '>', '<', 'p', '>']\n"
     ]
    }
   ],
   "source": [
    "tokens = [w for w in tokens if w not in stop_words]\n",
    "display_tokens_info(tokens)"
   ]
  },
  {
   "cell_type": "code",
   "execution_count": 210,
   "id": "8cb131cc",
   "metadata": {},
   "outputs": [
    {
     "name": "stdout",
     "output_type": "stream",
     "text": [
      "nb tokens409, nb tokens uniques187\n",
      "['p', 'i', 'have', 'some', 'performance', 'critical', 'code', 'that', 'involves', 'sorting', 'a', 'very', 'short', 'fixed', 'length', 'array', 'with', 'between', 'around', '3', 'and', '10', 'elements', 'in', 'c', 'the', 'parameter', 'changes', 'at', 'compile']\n"
     ]
    }
   ],
   "source": [
    "# an other tokenizer\n",
    "\n",
    "tokenizer = RegexpTokenizer(r\"\\w+\")\n",
    "tokens = tokenizer.tokenize(doc)\n",
    "display_tokens_info(tokens)"
   ]
  },
  {
   "cell_type": "code",
   "execution_count": 211,
   "id": "0dfb03db",
   "metadata": {},
   "outputs": [
    {
     "name": "stdout",
     "output_type": "stream",
     "text": [
      "nb tokens267, nb tokens uniques138\n",
      "['p', 'performance', 'critical', 'code', 'involves', 'sorting', 'short', 'fixed', 'length', 'array', 'around', '3', '10', 'elements', 'c', 'parameter', 'changes', 'compile', 'time', 'p', 'p', 'occurred', 'static', 'sorting', 'network', 'specialised', 'possible', 'input', 'size', 'would']\n"
     ]
    }
   ],
   "source": [
    "#remove stopwords\n",
    "tokens = [w for w in tokens if w not in stop_words]\n",
    "display_tokens_info(tokens)"
   ]
  },
  {
   "cell_type": "code",
   "execution_count": 212,
   "id": "803e3c71",
   "metadata": {},
   "outputs": [],
   "source": [
    "# frist cleaning function\n",
    "def process_text_1(doc, rejoin=False):\n",
    "    #lower\n",
    "    doc = doc.lower().strip()\n",
    "    #tokenize\n",
    "    tokenizer = RegexpTokenizer(r\"\\w+\")\n",
    "    raw_tokens_list = tokenizer.tokenize(doc)\n",
    "    \n",
    "    #stop words\n",
    "    cleaned_tokens_list = [w for w in raw_tokens_list if w not in stop_words]\n",
    "    \n",
    "    if rejoin:\n",
    "        return \" \".join(cleaned_tokens_list)\n",
    "    return cleaned_tokens_list"
   ]
  },
  {
   "cell_type": "code",
   "execution_count": 214,
   "id": "d557ca86",
   "metadata": {},
   "outputs": [
    {
     "name": "stdout",
     "output_type": "stream",
     "text": [
      "nb tokens267, nb tokens uniques138\n",
      "['p', 'performance', 'critical', 'code', 'involves', 'sorting', 'short', 'fixed', 'length', 'array', 'around', '3', '10', 'elements', 'c', 'parameter', 'changes', 'compile', 'time', 'p', 'p', 'occurred', 'static', 'sorting', 'network', 'specialised', 'possible', 'input', 'size', 'would']\n"
     ]
    }
   ],
   "source": [
    "tokens = process_text_1(doc)\n",
    "display_tokens_info(tokens)"
   ]
  },
  {
   "cell_type": "code",
   "execution_count": 261,
   "id": "f2c0dec0",
   "metadata": {},
   "outputs": [
    {
     "name": "stderr",
     "output_type": "stream",
     "text": [
      "[nltk_data] Downloading package wordnet to /home/ping/nltk_data...\n",
      "[nltk_data]   Package wordnet is already up-to-date!\n"
     ]
    }
   ],
   "source": [
    "import nltk\n",
    "nltk.download('wordnet')\n",
    "from nltk.stem import WordNetLemmatizer\n",
    " "
   ]
  },
  {
   "cell_type": "code",
   "execution_count": 264,
   "id": "74e90681",
   "metadata": {},
   "outputs": [
    {
     "name": "stderr",
     "output_type": "stream",
     "text": [
      "[nltk_data] Downloading package wordnet to /home/ping/nltk_data...\n",
      "[nltk_data]   Package wordnet is already up-to-date!\n",
      "[nltk_data] Downloading package omw-1.4 to /home/ping/nltk_data...\n",
      "[nltk_data] Error downloading 'omw-1.4' from\n",
      "[nltk_data]     <https://raw.githubusercontent.com/nltk/nltk_data/gh-\n",
      "[nltk_data]     pages/packages/corpora/omw-1.4.zip>:   [SSL:\n",
      "[nltk_data]     DECRYPTION_FAILED_OR_BAD_RECORD_MAC] decryption failed\n",
      "[nltk_data]     or bad record mac (_ssl.c:2635)\n"
     ]
    },
    {
     "data": {
      "text/plain": [
       "False"
      ]
     },
     "execution_count": 264,
     "metadata": {},
     "output_type": "execute_result"
    }
   ],
   "source": [
    "nltk.download(\"wordnet\")\n",
    "nltk.download(\"omw-1.4\")"
   ]
  },
  {
   "cell_type": "code",
   "execution_count": 262,
   "id": "e4e165b0",
   "metadata": {},
   "outputs": [],
   "source": [
    "# Create WordNetLemmatizer object\n",
    "wnl = WordNetLemmatizer()"
   ]
  },
  {
   "cell_type": "code",
   "execution_count": 263,
   "id": "d04c46c4",
   "metadata": {},
   "outputs": [
    {
     "ename": "BadZipFile",
     "evalue": "File is not a zip file",
     "output_type": "error",
     "traceback": [
      "\u001b[0;31m---------------------------------------------------------------------------\u001b[0m",
      "\u001b[0;31mBadZipFile\u001b[0m                                Traceback (most recent call last)",
      "\u001b[0;32m/tmp/ipykernel_1594/616167943.py\u001b[0m in \u001b[0;36m<module>\u001b[0;34m\u001b[0m\n\u001b[1;32m      3\u001b[0m          'driving', 'died', 'tried', 'feet']\n\u001b[1;32m      4\u001b[0m \u001b[0;32mfor\u001b[0m \u001b[0mwords\u001b[0m \u001b[0;32min\u001b[0m \u001b[0mlist1\u001b[0m\u001b[0;34m:\u001b[0m\u001b[0;34m\u001b[0m\u001b[0;34m\u001b[0m\u001b[0m\n\u001b[0;32m----> 5\u001b[0;31m     \u001b[0mprint\u001b[0m\u001b[0;34m(\u001b[0m\u001b[0mwords\u001b[0m \u001b[0;34m+\u001b[0m \u001b[0;34m\" ---> \"\u001b[0m \u001b[0;34m+\u001b[0m \u001b[0mwnl\u001b[0m\u001b[0;34m.\u001b[0m\u001b[0mlemmatize\u001b[0m\u001b[0;34m(\u001b[0m\u001b[0mwords\u001b[0m\u001b[0;34m)\u001b[0m\u001b[0;34m)\u001b[0m\u001b[0;34m\u001b[0m\u001b[0;34m\u001b[0m\u001b[0m\n\u001b[0m",
      "\u001b[0;32m~/.pyenv/versions/3.8.12/envs/lewagon/lib/python3.8/site-packages/nltk/stem/wordnet.py\u001b[0m in \u001b[0;36mlemmatize\u001b[0;34m(self, word, pos)\u001b[0m\n\u001b[1;32m     43\u001b[0m         \u001b[0;34m:\u001b[0m\u001b[0;32mreturn\u001b[0m\u001b[0;34m:\u001b[0m \u001b[0mThe\u001b[0m \u001b[0mlemma\u001b[0m \u001b[0mof\u001b[0m\u001b[0;31m \u001b[0m\u001b[0;31m`\u001b[0m\u001b[0mword\u001b[0m\u001b[0;31m`\u001b[0m\u001b[0;34m,\u001b[0m \u001b[0;32mfor\u001b[0m \u001b[0mthe\u001b[0m \u001b[0mgiven\u001b[0m\u001b[0;31m \u001b[0m\u001b[0;31m`\u001b[0m\u001b[0mpos\u001b[0m\u001b[0;31m`\u001b[0m\u001b[0;34m.\u001b[0m\u001b[0;34m\u001b[0m\u001b[0;34m\u001b[0m\u001b[0m\n\u001b[1;32m     44\u001b[0m         \"\"\"\n\u001b[0;32m---> 45\u001b[0;31m         \u001b[0mlemmas\u001b[0m \u001b[0;34m=\u001b[0m \u001b[0mwn\u001b[0m\u001b[0;34m.\u001b[0m\u001b[0m_morphy\u001b[0m\u001b[0;34m(\u001b[0m\u001b[0mword\u001b[0m\u001b[0;34m,\u001b[0m \u001b[0mpos\u001b[0m\u001b[0;34m)\u001b[0m\u001b[0;34m\u001b[0m\u001b[0;34m\u001b[0m\u001b[0m\n\u001b[0m\u001b[1;32m     46\u001b[0m         \u001b[0;32mreturn\u001b[0m \u001b[0mmin\u001b[0m\u001b[0;34m(\u001b[0m\u001b[0mlemmas\u001b[0m\u001b[0;34m,\u001b[0m \u001b[0mkey\u001b[0m\u001b[0;34m=\u001b[0m\u001b[0mlen\u001b[0m\u001b[0;34m)\u001b[0m \u001b[0;32mif\u001b[0m \u001b[0mlemmas\u001b[0m \u001b[0;32melse\u001b[0m \u001b[0mword\u001b[0m\u001b[0;34m\u001b[0m\u001b[0;34m\u001b[0m\u001b[0m\n\u001b[1;32m     47\u001b[0m \u001b[0;34m\u001b[0m\u001b[0m\n",
      "\u001b[0;32m~/.pyenv/versions/3.8.12/envs/lewagon/lib/python3.8/site-packages/nltk/corpus/util.py\u001b[0m in \u001b[0;36m__getattr__\u001b[0;34m(self, attr)\u001b[0m\n\u001b[1;32m    119\u001b[0m             \u001b[0;32mraise\u001b[0m \u001b[0mAttributeError\u001b[0m\u001b[0;34m(\u001b[0m\u001b[0;34m\"LazyCorpusLoader object has no attribute '__bases__'\"\u001b[0m\u001b[0;34m)\u001b[0m\u001b[0;34m\u001b[0m\u001b[0;34m\u001b[0m\u001b[0m\n\u001b[1;32m    120\u001b[0m \u001b[0;34m\u001b[0m\u001b[0m\n\u001b[0;32m--> 121\u001b[0;31m         \u001b[0mself\u001b[0m\u001b[0;34m.\u001b[0m\u001b[0m__load\u001b[0m\u001b[0;34m(\u001b[0m\u001b[0;34m)\u001b[0m\u001b[0;34m\u001b[0m\u001b[0;34m\u001b[0m\u001b[0m\n\u001b[0m\u001b[1;32m    122\u001b[0m         \u001b[0;31m# This looks circular, but its not, since __load() changes our\u001b[0m\u001b[0;34m\u001b[0m\u001b[0;34m\u001b[0m\u001b[0;34m\u001b[0m\u001b[0m\n\u001b[1;32m    123\u001b[0m         \u001b[0;31m# __class__ to something new:\u001b[0m\u001b[0;34m\u001b[0m\u001b[0;34m\u001b[0m\u001b[0;34m\u001b[0m\u001b[0m\n",
      "\u001b[0;32m~/.pyenv/versions/3.8.12/envs/lewagon/lib/python3.8/site-packages/nltk/corpus/util.py\u001b[0m in \u001b[0;36m__load\u001b[0;34m(self)\u001b[0m\n\u001b[1;32m     87\u001b[0m \u001b[0;34m\u001b[0m\u001b[0m\n\u001b[1;32m     88\u001b[0m         \u001b[0;31m# Load the corpus.\u001b[0m\u001b[0;34m\u001b[0m\u001b[0;34m\u001b[0m\u001b[0;34m\u001b[0m\u001b[0m\n\u001b[0;32m---> 89\u001b[0;31m         \u001b[0mcorpus\u001b[0m \u001b[0;34m=\u001b[0m \u001b[0mself\u001b[0m\u001b[0;34m.\u001b[0m\u001b[0m__reader_cls\u001b[0m\u001b[0;34m(\u001b[0m\u001b[0mroot\u001b[0m\u001b[0;34m,\u001b[0m \u001b[0;34m*\u001b[0m\u001b[0mself\u001b[0m\u001b[0;34m.\u001b[0m\u001b[0m__args\u001b[0m\u001b[0;34m,\u001b[0m \u001b[0;34m**\u001b[0m\u001b[0mself\u001b[0m\u001b[0;34m.\u001b[0m\u001b[0m__kwargs\u001b[0m\u001b[0;34m)\u001b[0m\u001b[0;34m\u001b[0m\u001b[0;34m\u001b[0m\u001b[0m\n\u001b[0m\u001b[1;32m     90\u001b[0m \u001b[0;34m\u001b[0m\u001b[0m\n\u001b[1;32m     91\u001b[0m         \u001b[0;31m# This is where the magic happens!  Transform ourselves into\u001b[0m\u001b[0;34m\u001b[0m\u001b[0;34m\u001b[0m\u001b[0;34m\u001b[0m\u001b[0m\n",
      "\u001b[0;32m~/.pyenv/versions/3.8.12/envs/lewagon/lib/python3.8/site-packages/nltk/corpus/reader/wordnet.py\u001b[0m in \u001b[0;36m__init__\u001b[0;34m(self, root, omw_reader)\u001b[0m\n\u001b[1;32m   1174\u001b[0m             )\n\u001b[1;32m   1175\u001b[0m         \u001b[0;32melse\u001b[0m\u001b[0;34m:\u001b[0m\u001b[0;34m\u001b[0m\u001b[0;34m\u001b[0m\u001b[0m\n\u001b[0;32m-> 1176\u001b[0;31m             \u001b[0mself\u001b[0m\u001b[0;34m.\u001b[0m\u001b[0mprovenances\u001b[0m \u001b[0;34m=\u001b[0m \u001b[0mself\u001b[0m\u001b[0;34m.\u001b[0m\u001b[0momw_prov\u001b[0m\u001b[0;34m(\u001b[0m\u001b[0;34m)\u001b[0m\u001b[0;34m\u001b[0m\u001b[0;34m\u001b[0m\u001b[0m\n\u001b[0m\u001b[1;32m   1177\u001b[0m \u001b[0;34m\u001b[0m\u001b[0m\n\u001b[1;32m   1178\u001b[0m         \u001b[0;31m# A cache to store the wordnet data of multiple languages\u001b[0m\u001b[0;34m\u001b[0m\u001b[0;34m\u001b[0m\u001b[0;34m\u001b[0m\u001b[0m\n",
      "\u001b[0;32m~/.pyenv/versions/3.8.12/envs/lewagon/lib/python3.8/site-packages/nltk/corpus/reader/wordnet.py\u001b[0m in \u001b[0;36momw_prov\u001b[0;34m(self)\u001b[0m\n\u001b[1;32m   1283\u001b[0m         \u001b[0mprovdict\u001b[0m \u001b[0;34m=\u001b[0m \u001b[0;34m{\u001b[0m\u001b[0;34m}\u001b[0m\u001b[0;34m\u001b[0m\u001b[0;34m\u001b[0m\u001b[0m\n\u001b[1;32m   1284\u001b[0m         \u001b[0mprovdict\u001b[0m\u001b[0;34m[\u001b[0m\u001b[0;34m\"eng\"\u001b[0m\u001b[0;34m]\u001b[0m \u001b[0;34m=\u001b[0m \u001b[0;34m\"\"\u001b[0m\u001b[0;34m\u001b[0m\u001b[0;34m\u001b[0m\u001b[0m\n\u001b[0;32m-> 1285\u001b[0;31m         \u001b[0mfileids\u001b[0m \u001b[0;34m=\u001b[0m \u001b[0mself\u001b[0m\u001b[0;34m.\u001b[0m\u001b[0m_omw_reader\u001b[0m\u001b[0;34m.\u001b[0m\u001b[0mfileids\u001b[0m\u001b[0;34m(\u001b[0m\u001b[0;34m)\u001b[0m\u001b[0;34m\u001b[0m\u001b[0;34m\u001b[0m\u001b[0m\n\u001b[0m\u001b[1;32m   1286\u001b[0m         \u001b[0;32mfor\u001b[0m \u001b[0mfileid\u001b[0m \u001b[0;32min\u001b[0m \u001b[0mfileids\u001b[0m\u001b[0;34m:\u001b[0m\u001b[0;34m\u001b[0m\u001b[0;34m\u001b[0m\u001b[0m\n\u001b[1;32m   1287\u001b[0m             \u001b[0mprov\u001b[0m\u001b[0;34m,\u001b[0m \u001b[0mlangfile\u001b[0m \u001b[0;34m=\u001b[0m \u001b[0mos\u001b[0m\u001b[0;34m.\u001b[0m\u001b[0mpath\u001b[0m\u001b[0;34m.\u001b[0m\u001b[0msplit\u001b[0m\u001b[0;34m(\u001b[0m\u001b[0mfileid\u001b[0m\u001b[0;34m)\u001b[0m\u001b[0;34m\u001b[0m\u001b[0;34m\u001b[0m\u001b[0m\n",
      "\u001b[0;32m~/.pyenv/versions/3.8.12/envs/lewagon/lib/python3.8/site-packages/nltk/corpus/util.py\u001b[0m in \u001b[0;36m__getattr__\u001b[0;34m(self, attr)\u001b[0m\n\u001b[1;32m    119\u001b[0m             \u001b[0;32mraise\u001b[0m \u001b[0mAttributeError\u001b[0m\u001b[0;34m(\u001b[0m\u001b[0;34m\"LazyCorpusLoader object has no attribute '__bases__'\"\u001b[0m\u001b[0;34m)\u001b[0m\u001b[0;34m\u001b[0m\u001b[0;34m\u001b[0m\u001b[0m\n\u001b[1;32m    120\u001b[0m \u001b[0;34m\u001b[0m\u001b[0m\n\u001b[0;32m--> 121\u001b[0;31m         \u001b[0mself\u001b[0m\u001b[0;34m.\u001b[0m\u001b[0m__load\u001b[0m\u001b[0;34m(\u001b[0m\u001b[0;34m)\u001b[0m\u001b[0;34m\u001b[0m\u001b[0;34m\u001b[0m\u001b[0m\n\u001b[0m\u001b[1;32m    122\u001b[0m         \u001b[0;31m# This looks circular, but its not, since __load() changes our\u001b[0m\u001b[0;34m\u001b[0m\u001b[0;34m\u001b[0m\u001b[0;34m\u001b[0m\u001b[0m\n\u001b[1;32m    123\u001b[0m         \u001b[0;31m# __class__ to something new:\u001b[0m\u001b[0;34m\u001b[0m\u001b[0;34m\u001b[0m\u001b[0;34m\u001b[0m\u001b[0m\n",
      "\u001b[0;32m~/.pyenv/versions/3.8.12/envs/lewagon/lib/python3.8/site-packages/nltk/corpus/util.py\u001b[0m in \u001b[0;36m__load\u001b[0;34m(self)\u001b[0m\n\u001b[1;32m     79\u001b[0m         \u001b[0;32melse\u001b[0m\u001b[0;34m:\u001b[0m\u001b[0;34m\u001b[0m\u001b[0;34m\u001b[0m\u001b[0m\n\u001b[1;32m     80\u001b[0m             \u001b[0;32mtry\u001b[0m\u001b[0;34m:\u001b[0m\u001b[0;34m\u001b[0m\u001b[0;34m\u001b[0m\u001b[0m\n\u001b[0;32m---> 81\u001b[0;31m                 \u001b[0mroot\u001b[0m \u001b[0;34m=\u001b[0m \u001b[0mnltk\u001b[0m\u001b[0;34m.\u001b[0m\u001b[0mdata\u001b[0m\u001b[0;34m.\u001b[0m\u001b[0mfind\u001b[0m\u001b[0;34m(\u001b[0m\u001b[0;34mf\"{self.subdir}/{self.__name}\"\u001b[0m\u001b[0;34m)\u001b[0m\u001b[0;34m\u001b[0m\u001b[0;34m\u001b[0m\u001b[0m\n\u001b[0m\u001b[1;32m     82\u001b[0m             \u001b[0;32mexcept\u001b[0m \u001b[0mLookupError\u001b[0m \u001b[0;32mas\u001b[0m \u001b[0me\u001b[0m\u001b[0;34m:\u001b[0m\u001b[0;34m\u001b[0m\u001b[0;34m\u001b[0m\u001b[0m\n\u001b[1;32m     83\u001b[0m                 \u001b[0;32mtry\u001b[0m\u001b[0;34m:\u001b[0m\u001b[0;34m\u001b[0m\u001b[0;34m\u001b[0m\u001b[0m\n",
      "\u001b[0;32m~/.pyenv/versions/3.8.12/envs/lewagon/lib/python3.8/site-packages/nltk/data.py\u001b[0m in \u001b[0;36mfind\u001b[0;34m(resource_name, paths)\u001b[0m\n\u001b[1;32m    553\u001b[0m             \u001b[0mmodified_name\u001b[0m \u001b[0;34m=\u001b[0m \u001b[0;34m\"/\"\u001b[0m\u001b[0;34m.\u001b[0m\u001b[0mjoin\u001b[0m\u001b[0;34m(\u001b[0m\u001b[0mpieces\u001b[0m\u001b[0;34m[\u001b[0m\u001b[0;34m:\u001b[0m\u001b[0mi\u001b[0m\u001b[0;34m]\u001b[0m \u001b[0;34m+\u001b[0m \u001b[0;34m[\u001b[0m\u001b[0mpieces\u001b[0m\u001b[0;34m[\u001b[0m\u001b[0mi\u001b[0m\u001b[0;34m]\u001b[0m \u001b[0;34m+\u001b[0m \u001b[0;34m\".zip\"\u001b[0m\u001b[0;34m]\u001b[0m \u001b[0;34m+\u001b[0m \u001b[0mpieces\u001b[0m\u001b[0;34m[\u001b[0m\u001b[0mi\u001b[0m\u001b[0;34m:\u001b[0m\u001b[0;34m]\u001b[0m\u001b[0;34m)\u001b[0m\u001b[0;34m\u001b[0m\u001b[0;34m\u001b[0m\u001b[0m\n\u001b[1;32m    554\u001b[0m             \u001b[0;32mtry\u001b[0m\u001b[0;34m:\u001b[0m\u001b[0;34m\u001b[0m\u001b[0;34m\u001b[0m\u001b[0m\n\u001b[0;32m--> 555\u001b[0;31m                 \u001b[0;32mreturn\u001b[0m \u001b[0mfind\u001b[0m\u001b[0;34m(\u001b[0m\u001b[0mmodified_name\u001b[0m\u001b[0;34m,\u001b[0m \u001b[0mpaths\u001b[0m\u001b[0;34m)\u001b[0m\u001b[0;34m\u001b[0m\u001b[0;34m\u001b[0m\u001b[0m\n\u001b[0m\u001b[1;32m    556\u001b[0m             \u001b[0;32mexcept\u001b[0m \u001b[0mLookupError\u001b[0m\u001b[0;34m:\u001b[0m\u001b[0;34m\u001b[0m\u001b[0;34m\u001b[0m\u001b[0m\n\u001b[1;32m    557\u001b[0m                 \u001b[0;32mpass\u001b[0m\u001b[0;34m\u001b[0m\u001b[0;34m\u001b[0m\u001b[0m\n",
      "\u001b[0;32m~/.pyenv/versions/3.8.12/envs/lewagon/lib/python3.8/site-packages/nltk/data.py\u001b[0m in \u001b[0;36mfind\u001b[0;34m(resource_name, paths)\u001b[0m\n\u001b[1;32m    540\u001b[0m                 \u001b[0;32mif\u001b[0m \u001b[0mos\u001b[0m\u001b[0;34m.\u001b[0m\u001b[0mpath\u001b[0m\u001b[0;34m.\u001b[0m\u001b[0mexists\u001b[0m\u001b[0;34m(\u001b[0m\u001b[0mp\u001b[0m\u001b[0;34m)\u001b[0m\u001b[0;34m:\u001b[0m\u001b[0;34m\u001b[0m\u001b[0;34m\u001b[0m\u001b[0m\n\u001b[1;32m    541\u001b[0m                     \u001b[0;32mtry\u001b[0m\u001b[0;34m:\u001b[0m\u001b[0;34m\u001b[0m\u001b[0;34m\u001b[0m\u001b[0m\n\u001b[0;32m--> 542\u001b[0;31m                         \u001b[0;32mreturn\u001b[0m \u001b[0mZipFilePathPointer\u001b[0m\u001b[0;34m(\u001b[0m\u001b[0mp\u001b[0m\u001b[0;34m,\u001b[0m \u001b[0mzipentry\u001b[0m\u001b[0;34m)\u001b[0m\u001b[0;34m\u001b[0m\u001b[0;34m\u001b[0m\u001b[0m\n\u001b[0m\u001b[1;32m    543\u001b[0m                     \u001b[0;32mexcept\u001b[0m \u001b[0mOSError\u001b[0m\u001b[0;34m:\u001b[0m\u001b[0;34m\u001b[0m\u001b[0;34m\u001b[0m\u001b[0m\n\u001b[1;32m    544\u001b[0m                         \u001b[0;31m# resource not in zipfile\u001b[0m\u001b[0;34m\u001b[0m\u001b[0;34m\u001b[0m\u001b[0;34m\u001b[0m\u001b[0m\n",
      "\u001b[0;32m~/.pyenv/versions/3.8.12/envs/lewagon/lib/python3.8/site-packages/nltk/compat.py\u001b[0m in \u001b[0;36m_decorator\u001b[0;34m(*args, **kwargs)\u001b[0m\n\u001b[1;32m     39\u001b[0m     \u001b[0;32mdef\u001b[0m \u001b[0m_decorator\u001b[0m\u001b[0;34m(\u001b[0m\u001b[0;34m*\u001b[0m\u001b[0margs\u001b[0m\u001b[0;34m,\u001b[0m \u001b[0;34m**\u001b[0m\u001b[0mkwargs\u001b[0m\u001b[0;34m)\u001b[0m\u001b[0;34m:\u001b[0m\u001b[0;34m\u001b[0m\u001b[0;34m\u001b[0m\u001b[0m\n\u001b[1;32m     40\u001b[0m         \u001b[0margs\u001b[0m \u001b[0;34m=\u001b[0m \u001b[0;34m(\u001b[0m\u001b[0margs\u001b[0m\u001b[0;34m[\u001b[0m\u001b[0;36m0\u001b[0m\u001b[0;34m]\u001b[0m\u001b[0;34m,\u001b[0m \u001b[0madd_py3_data\u001b[0m\u001b[0;34m(\u001b[0m\u001b[0margs\u001b[0m\u001b[0;34m[\u001b[0m\u001b[0;36m1\u001b[0m\u001b[0;34m]\u001b[0m\u001b[0;34m)\u001b[0m\u001b[0;34m)\u001b[0m \u001b[0;34m+\u001b[0m \u001b[0margs\u001b[0m\u001b[0;34m[\u001b[0m\u001b[0;36m2\u001b[0m\u001b[0;34m:\u001b[0m\u001b[0;34m]\u001b[0m\u001b[0;34m\u001b[0m\u001b[0;34m\u001b[0m\u001b[0m\n\u001b[0;32m---> 41\u001b[0;31m         \u001b[0;32mreturn\u001b[0m \u001b[0minit_func\u001b[0m\u001b[0;34m(\u001b[0m\u001b[0;34m*\u001b[0m\u001b[0margs\u001b[0m\u001b[0;34m,\u001b[0m \u001b[0;34m**\u001b[0m\u001b[0mkwargs\u001b[0m\u001b[0;34m)\u001b[0m\u001b[0;34m\u001b[0m\u001b[0;34m\u001b[0m\u001b[0m\n\u001b[0m\u001b[1;32m     42\u001b[0m \u001b[0;34m\u001b[0m\u001b[0m\n\u001b[1;32m     43\u001b[0m     \u001b[0;32mreturn\u001b[0m \u001b[0mwraps\u001b[0m\u001b[0;34m(\u001b[0m\u001b[0minit_func\u001b[0m\u001b[0;34m)\u001b[0m\u001b[0;34m(\u001b[0m\u001b[0m_decorator\u001b[0m\u001b[0;34m)\u001b[0m\u001b[0;34m\u001b[0m\u001b[0;34m\u001b[0m\u001b[0m\n",
      "\u001b[0;32m~/.pyenv/versions/3.8.12/envs/lewagon/lib/python3.8/site-packages/nltk/data.py\u001b[0m in \u001b[0;36m__init__\u001b[0;34m(self, zipfile, entry)\u001b[0m\n\u001b[1;32m    392\u001b[0m         \"\"\"\n\u001b[1;32m    393\u001b[0m         \u001b[0;32mif\u001b[0m \u001b[0misinstance\u001b[0m\u001b[0;34m(\u001b[0m\u001b[0mzipfile\u001b[0m\u001b[0;34m,\u001b[0m \u001b[0mstr\u001b[0m\u001b[0;34m)\u001b[0m\u001b[0;34m:\u001b[0m\u001b[0;34m\u001b[0m\u001b[0;34m\u001b[0m\u001b[0m\n\u001b[0;32m--> 394\u001b[0;31m             \u001b[0mzipfile\u001b[0m \u001b[0;34m=\u001b[0m \u001b[0mOpenOnDemandZipFile\u001b[0m\u001b[0;34m(\u001b[0m\u001b[0mos\u001b[0m\u001b[0;34m.\u001b[0m\u001b[0mpath\u001b[0m\u001b[0;34m.\u001b[0m\u001b[0mabspath\u001b[0m\u001b[0;34m(\u001b[0m\u001b[0mzipfile\u001b[0m\u001b[0;34m)\u001b[0m\u001b[0;34m)\u001b[0m\u001b[0;34m\u001b[0m\u001b[0;34m\u001b[0m\u001b[0m\n\u001b[0m\u001b[1;32m    395\u001b[0m \u001b[0;34m\u001b[0m\u001b[0m\n\u001b[1;32m    396\u001b[0m         \u001b[0;31m# Check that the entry exists:\u001b[0m\u001b[0;34m\u001b[0m\u001b[0;34m\u001b[0m\u001b[0;34m\u001b[0m\u001b[0m\n",
      "\u001b[0;32m~/.pyenv/versions/3.8.12/envs/lewagon/lib/python3.8/site-packages/nltk/compat.py\u001b[0m in \u001b[0;36m_decorator\u001b[0;34m(*args, **kwargs)\u001b[0m\n\u001b[1;32m     39\u001b[0m     \u001b[0;32mdef\u001b[0m \u001b[0m_decorator\u001b[0m\u001b[0;34m(\u001b[0m\u001b[0;34m*\u001b[0m\u001b[0margs\u001b[0m\u001b[0;34m,\u001b[0m \u001b[0;34m**\u001b[0m\u001b[0mkwargs\u001b[0m\u001b[0;34m)\u001b[0m\u001b[0;34m:\u001b[0m\u001b[0;34m\u001b[0m\u001b[0;34m\u001b[0m\u001b[0m\n\u001b[1;32m     40\u001b[0m         \u001b[0margs\u001b[0m \u001b[0;34m=\u001b[0m \u001b[0;34m(\u001b[0m\u001b[0margs\u001b[0m\u001b[0;34m[\u001b[0m\u001b[0;36m0\u001b[0m\u001b[0;34m]\u001b[0m\u001b[0;34m,\u001b[0m \u001b[0madd_py3_data\u001b[0m\u001b[0;34m(\u001b[0m\u001b[0margs\u001b[0m\u001b[0;34m[\u001b[0m\u001b[0;36m1\u001b[0m\u001b[0;34m]\u001b[0m\u001b[0;34m)\u001b[0m\u001b[0;34m)\u001b[0m \u001b[0;34m+\u001b[0m \u001b[0margs\u001b[0m\u001b[0;34m[\u001b[0m\u001b[0;36m2\u001b[0m\u001b[0;34m:\u001b[0m\u001b[0;34m]\u001b[0m\u001b[0;34m\u001b[0m\u001b[0;34m\u001b[0m\u001b[0m\n\u001b[0;32m---> 41\u001b[0;31m         \u001b[0;32mreturn\u001b[0m \u001b[0minit_func\u001b[0m\u001b[0;34m(\u001b[0m\u001b[0;34m*\u001b[0m\u001b[0margs\u001b[0m\u001b[0;34m,\u001b[0m \u001b[0;34m**\u001b[0m\u001b[0mkwargs\u001b[0m\u001b[0;34m)\u001b[0m\u001b[0;34m\u001b[0m\u001b[0;34m\u001b[0m\u001b[0m\n\u001b[0m\u001b[1;32m     42\u001b[0m \u001b[0;34m\u001b[0m\u001b[0m\n\u001b[1;32m     43\u001b[0m     \u001b[0;32mreturn\u001b[0m \u001b[0mwraps\u001b[0m\u001b[0;34m(\u001b[0m\u001b[0minit_func\u001b[0m\u001b[0;34m)\u001b[0m\u001b[0;34m(\u001b[0m\u001b[0m_decorator\u001b[0m\u001b[0;34m)\u001b[0m\u001b[0;34m\u001b[0m\u001b[0;34m\u001b[0m\u001b[0m\n",
      "\u001b[0;32m~/.pyenv/versions/3.8.12/envs/lewagon/lib/python3.8/site-packages/nltk/data.py\u001b[0m in \u001b[0;36m__init__\u001b[0;34m(self, filename)\u001b[0m\n\u001b[1;32m    933\u001b[0m         \u001b[0;32mif\u001b[0m \u001b[0;32mnot\u001b[0m \u001b[0misinstance\u001b[0m\u001b[0;34m(\u001b[0m\u001b[0mfilename\u001b[0m\u001b[0;34m,\u001b[0m \u001b[0mstr\u001b[0m\u001b[0;34m)\u001b[0m\u001b[0;34m:\u001b[0m\u001b[0;34m\u001b[0m\u001b[0;34m\u001b[0m\u001b[0m\n\u001b[1;32m    934\u001b[0m             \u001b[0;32mraise\u001b[0m \u001b[0mTypeError\u001b[0m\u001b[0;34m(\u001b[0m\u001b[0;34m\"ReopenableZipFile filename must be a string\"\u001b[0m\u001b[0;34m)\u001b[0m\u001b[0;34m\u001b[0m\u001b[0;34m\u001b[0m\u001b[0m\n\u001b[0;32m--> 935\u001b[0;31m         \u001b[0mzipfile\u001b[0m\u001b[0;34m.\u001b[0m\u001b[0mZipFile\u001b[0m\u001b[0;34m.\u001b[0m\u001b[0m__init__\u001b[0m\u001b[0;34m(\u001b[0m\u001b[0mself\u001b[0m\u001b[0;34m,\u001b[0m \u001b[0mfilename\u001b[0m\u001b[0;34m)\u001b[0m\u001b[0;34m\u001b[0m\u001b[0;34m\u001b[0m\u001b[0m\n\u001b[0m\u001b[1;32m    936\u001b[0m         \u001b[0;32massert\u001b[0m \u001b[0mself\u001b[0m\u001b[0;34m.\u001b[0m\u001b[0mfilename\u001b[0m \u001b[0;34m==\u001b[0m \u001b[0mfilename\u001b[0m\u001b[0;34m\u001b[0m\u001b[0;34m\u001b[0m\u001b[0m\n\u001b[1;32m    937\u001b[0m         \u001b[0mself\u001b[0m\u001b[0;34m.\u001b[0m\u001b[0mclose\u001b[0m\u001b[0;34m(\u001b[0m\u001b[0;34m)\u001b[0m\u001b[0;34m\u001b[0m\u001b[0;34m\u001b[0m\u001b[0m\n",
      "\u001b[0;32m~/.pyenv/versions/3.8.12/lib/python3.8/zipfile.py\u001b[0m in \u001b[0;36m__init__\u001b[0;34m(self, file, mode, compression, allowZip64, compresslevel, strict_timestamps)\u001b[0m\n\u001b[1;32m   1267\u001b[0m         \u001b[0;32mtry\u001b[0m\u001b[0;34m:\u001b[0m\u001b[0;34m\u001b[0m\u001b[0;34m\u001b[0m\u001b[0m\n\u001b[1;32m   1268\u001b[0m             \u001b[0;32mif\u001b[0m \u001b[0mmode\u001b[0m \u001b[0;34m==\u001b[0m \u001b[0;34m'r'\u001b[0m\u001b[0;34m:\u001b[0m\u001b[0;34m\u001b[0m\u001b[0;34m\u001b[0m\u001b[0m\n\u001b[0;32m-> 1269\u001b[0;31m                 \u001b[0mself\u001b[0m\u001b[0;34m.\u001b[0m\u001b[0m_RealGetContents\u001b[0m\u001b[0;34m(\u001b[0m\u001b[0;34m)\u001b[0m\u001b[0;34m\u001b[0m\u001b[0;34m\u001b[0m\u001b[0m\n\u001b[0m\u001b[1;32m   1270\u001b[0m             \u001b[0;32melif\u001b[0m \u001b[0mmode\u001b[0m \u001b[0;32min\u001b[0m \u001b[0;34m(\u001b[0m\u001b[0;34m'w'\u001b[0m\u001b[0;34m,\u001b[0m \u001b[0;34m'x'\u001b[0m\u001b[0;34m)\u001b[0m\u001b[0;34m:\u001b[0m\u001b[0;34m\u001b[0m\u001b[0;34m\u001b[0m\u001b[0m\n\u001b[1;32m   1271\u001b[0m                 \u001b[0;31m# set the modified flag so central directory gets written\u001b[0m\u001b[0;34m\u001b[0m\u001b[0;34m\u001b[0m\u001b[0;34m\u001b[0m\u001b[0m\n",
      "\u001b[0;32m~/.pyenv/versions/3.8.12/lib/python3.8/zipfile.py\u001b[0m in \u001b[0;36m_RealGetContents\u001b[0;34m(self)\u001b[0m\n\u001b[1;32m   1334\u001b[0m             \u001b[0;32mraise\u001b[0m \u001b[0mBadZipFile\u001b[0m\u001b[0;34m(\u001b[0m\u001b[0;34m\"File is not a zip file\"\u001b[0m\u001b[0;34m)\u001b[0m\u001b[0;34m\u001b[0m\u001b[0;34m\u001b[0m\u001b[0m\n\u001b[1;32m   1335\u001b[0m         \u001b[0;32mif\u001b[0m \u001b[0;32mnot\u001b[0m \u001b[0mendrec\u001b[0m\u001b[0;34m:\u001b[0m\u001b[0;34m\u001b[0m\u001b[0;34m\u001b[0m\u001b[0m\n\u001b[0;32m-> 1336\u001b[0;31m             \u001b[0;32mraise\u001b[0m \u001b[0mBadZipFile\u001b[0m\u001b[0;34m(\u001b[0m\u001b[0;34m\"File is not a zip file\"\u001b[0m\u001b[0;34m)\u001b[0m\u001b[0;34m\u001b[0m\u001b[0;34m\u001b[0m\u001b[0m\n\u001b[0m\u001b[1;32m   1337\u001b[0m         \u001b[0;32mif\u001b[0m \u001b[0mself\u001b[0m\u001b[0;34m.\u001b[0m\u001b[0mdebug\u001b[0m \u001b[0;34m>\u001b[0m \u001b[0;36m1\u001b[0m\u001b[0;34m:\u001b[0m\u001b[0;34m\u001b[0m\u001b[0;34m\u001b[0m\u001b[0m\n\u001b[1;32m   1338\u001b[0m             \u001b[0mprint\u001b[0m\u001b[0;34m(\u001b[0m\u001b[0mendrec\u001b[0m\u001b[0;34m)\u001b[0m\u001b[0;34m\u001b[0m\u001b[0;34m\u001b[0m\u001b[0m\n",
      "\u001b[0;31mBadZipFile\u001b[0m: File is not a zip file"
     ]
    }
   ],
   "source": [
    "# single word lemmatization examples\n",
    "list1 = ['kites', 'babies', 'dogs', 'flying', 'smiling',\n",
    "         'driving', 'died', 'tried', 'feet']\n",
    "for words in list1:\n",
    "    print(words + \" ---> \" + wnl.lemmatize(words))"
   ]
  },
  {
   "cell_type": "code",
   "execution_count": 259,
   "id": "10384b67",
   "metadata": {},
   "outputs": [
    {
     "name": "stdout",
     "output_type": "stream",
     "text": [
      "['the', 'cat', 'is', 'sitting', 'with', 'the', 'bats', 'on', 'the', 'striped', 'mat', 'under', 'many', 'flying', 'geese']\n"
     ]
    },
    {
     "ename": "NameError",
     "evalue": "name 'wnl' is not defined",
     "output_type": "error",
     "traceback": [
      "\u001b[0;31m---------------------------------------------------------------------------\u001b[0m",
      "\u001b[0;31mNameError\u001b[0m                                 Traceback (most recent call last)",
      "\u001b[0;32m/tmp/ipykernel_1594/59432931.py\u001b[0m in \u001b[0;36m<module>\u001b[0;34m\u001b[0m\n\u001b[1;32m      8\u001b[0m \u001b[0;31m#   'the', 'striped', 'mat', 'under', 'many', 'flying', 'geese']\u001b[0m\u001b[0;34m\u001b[0m\u001b[0;34m\u001b[0m\u001b[0;34m\u001b[0m\u001b[0m\n\u001b[1;32m      9\u001b[0m \u001b[0;34m\u001b[0m\u001b[0m\n\u001b[0;32m---> 10\u001b[0;31m \u001b[0mlemmatized_string\u001b[0m \u001b[0;34m=\u001b[0m \u001b[0;34m' '\u001b[0m\u001b[0;34m.\u001b[0m\u001b[0mjoin\u001b[0m\u001b[0;34m(\u001b[0m\u001b[0;34m[\u001b[0m\u001b[0mwnl\u001b[0m\u001b[0;34m.\u001b[0m\u001b[0mlemmatize\u001b[0m\u001b[0;34m(\u001b[0m\u001b[0mwords\u001b[0m\u001b[0;34m)\u001b[0m \u001b[0;32mfor\u001b[0m \u001b[0mwords\u001b[0m \u001b[0;32min\u001b[0m \u001b[0mlist2\u001b[0m\u001b[0;34m]\u001b[0m\u001b[0;34m)\u001b[0m\u001b[0;34m\u001b[0m\u001b[0;34m\u001b[0m\u001b[0m\n\u001b[0m\u001b[1;32m     11\u001b[0m \u001b[0;34m\u001b[0m\u001b[0m\n\u001b[1;32m     12\u001b[0m \u001b[0mprint\u001b[0m\u001b[0;34m(\u001b[0m\u001b[0mlemmatized_string\u001b[0m\u001b[0;34m)\u001b[0m\u001b[0;34m\u001b[0m\u001b[0;34m\u001b[0m\u001b[0m\n",
      "\u001b[0;32m/tmp/ipykernel_1594/59432931.py\u001b[0m in \u001b[0;36m<listcomp>\u001b[0;34m(.0)\u001b[0m\n\u001b[1;32m      8\u001b[0m \u001b[0;31m#   'the', 'striped', 'mat', 'under', 'many', 'flying', 'geese']\u001b[0m\u001b[0;34m\u001b[0m\u001b[0;34m\u001b[0m\u001b[0;34m\u001b[0m\u001b[0m\n\u001b[1;32m      9\u001b[0m \u001b[0;34m\u001b[0m\u001b[0m\n\u001b[0;32m---> 10\u001b[0;31m \u001b[0mlemmatized_string\u001b[0m \u001b[0;34m=\u001b[0m \u001b[0;34m' '\u001b[0m\u001b[0;34m.\u001b[0m\u001b[0mjoin\u001b[0m\u001b[0;34m(\u001b[0m\u001b[0;34m[\u001b[0m\u001b[0mwnl\u001b[0m\u001b[0;34m.\u001b[0m\u001b[0mlemmatize\u001b[0m\u001b[0;34m(\u001b[0m\u001b[0mwords\u001b[0m\u001b[0;34m)\u001b[0m \u001b[0;32mfor\u001b[0m \u001b[0mwords\u001b[0m \u001b[0;32min\u001b[0m \u001b[0mlist2\u001b[0m\u001b[0;34m]\u001b[0m\u001b[0;34m)\u001b[0m\u001b[0;34m\u001b[0m\u001b[0;34m\u001b[0m\u001b[0m\n\u001b[0m\u001b[1;32m     11\u001b[0m \u001b[0;34m\u001b[0m\u001b[0m\n\u001b[1;32m     12\u001b[0m \u001b[0mprint\u001b[0m\u001b[0;34m(\u001b[0m\u001b[0mlemmatized_string\u001b[0m\u001b[0;34m)\u001b[0m\u001b[0;34m\u001b[0m\u001b[0;34m\u001b[0m\u001b[0m\n",
      "\u001b[0;31mNameError\u001b[0m: name 'wnl' is not defined"
     ]
    }
   ],
   "source": [
    "\n",
    "# sentence lemmatization examples\n",
    "string = 'the cat is sitting with the bats on the striped mat under many flying geese'\n",
    " \n",
    "# Converting String into tokens\n",
    "list2 = nltk.word_tokenize(string)\n",
    "print(list2)\n",
    "#> ['the', 'cat', 'is', 'sitting', 'with', 'the', 'bats', 'on',\n",
    "#   'the', 'striped', 'mat', 'under', 'many', 'flying', 'geese']\n",
    " \n",
    "lemmatized_string = ' '.join([wnl.lemmatize(words) for words in list2])\n",
    " \n",
    "print(lemmatized_string)  \n",
    "#> the cat is sitting with the bat on the striped mat under many flying goose"
   ]
  },
  {
   "cell_type": "code",
   "execution_count": 266,
   "id": "7b9f85bb",
   "metadata": {},
   "outputs": [
    {
     "name": "stdout",
     "output_type": "stream",
     "text": [
      "Collecting spacy\n",
      "  Downloading spacy-3.4.1-cp38-cp38-manylinux_2_17_x86_64.manylinux2014_x86_64.whl (6.5 MB)\n",
      "\u001b[2K     \u001b[91m━━━━━━━━━━\u001b[0m\u001b[90m╺\u001b[0m\u001b[90m━━━━━━━━━━━━━━━━━━━━━━━━━━━━━\u001b[0m \u001b[32m1.7/6.5 MB\u001b[0m \u001b[31m15.5 MB/s\u001b[0m eta \u001b[36m0:00:01\u001b[0m\n",
      "\u001b[?25h\u001b[31mERROR: Exception:\n",
      "Traceback (most recent call last):\n",
      "  File \"/home/ping/.pyenv/versions/3.8.12/envs/lewagon/lib/python3.8/site-packages/pip/_vendor/urllib3/response.py\", line 435, in _error_catcher\n",
      "    yield\n",
      "  File \"/home/ping/.pyenv/versions/3.8.12/envs/lewagon/lib/python3.8/site-packages/pip/_vendor/urllib3/response.py\", line 516, in read\n",
      "    data = self._fp.read(amt) if not fp_closed else b\"\"\n",
      "  File \"/home/ping/.pyenv/versions/3.8.12/envs/lewagon/lib/python3.8/site-packages/pip/_vendor/cachecontrol/filewrapper.py\", line 90, in read\n",
      "    data = self.__fp.read(amt)\n",
      "  File \"/home/ping/.pyenv/versions/3.8.12/lib/python3.8/http/client.py\", line 459, in read\n",
      "    n = self.readinto(b)\n",
      "  File \"/home/ping/.pyenv/versions/3.8.12/lib/python3.8/http/client.py\", line 503, in readinto\n",
      "    n = self.fp.readinto(b)\n",
      "  File \"/home/ping/.pyenv/versions/3.8.12/lib/python3.8/socket.py\", line 669, in readinto\n",
      "    return self._sock.recv_into(b)\n",
      "  File \"/home/ping/.pyenv/versions/3.8.12/lib/python3.8/ssl.py\", line 1241, in recv_into\n",
      "    return self.read(nbytes, buffer)\n",
      "  File \"/home/ping/.pyenv/versions/3.8.12/lib/python3.8/ssl.py\", line 1099, in read\n",
      "    return self._sslobj.read(len, buffer)\n",
      "ssl.SSLError: [SSL: DECRYPTION_FAILED_OR_BAD_RECORD_MAC] decryption failed or bad record mac (_ssl.c:2635)\n",
      "\n",
      "During handling of the above exception, another exception occurred:\n",
      "\n",
      "Traceback (most recent call last):\n",
      "  File \"/home/ping/.pyenv/versions/3.8.12/envs/lewagon/lib/python3.8/site-packages/pip/_internal/cli/base_command.py\", line 167, in exc_logging_wrapper\n",
      "    status = run_func(*args)\n",
      "  File \"/home/ping/.pyenv/versions/3.8.12/envs/lewagon/lib/python3.8/site-packages/pip/_internal/cli/req_command.py\", line 247, in wrapper\n",
      "    return func(self, options, args)\n",
      "  File \"/home/ping/.pyenv/versions/3.8.12/envs/lewagon/lib/python3.8/site-packages/pip/_internal/commands/install.py\", line 369, in run\n",
      "    requirement_set = resolver.resolve(\n",
      "  File \"/home/ping/.pyenv/versions/3.8.12/envs/lewagon/lib/python3.8/site-packages/pip/_internal/resolution/resolvelib/resolver.py\", line 92, in resolve\n",
      "    result = self._result = resolver.resolve(\n",
      "  File \"/home/ping/.pyenv/versions/3.8.12/envs/lewagon/lib/python3.8/site-packages/pip/_vendor/resolvelib/resolvers.py\", line 481, in resolve\n",
      "    state = resolution.resolve(requirements, max_rounds=max_rounds)\n",
      "  File \"/home/ping/.pyenv/versions/3.8.12/envs/lewagon/lib/python3.8/site-packages/pip/_vendor/resolvelib/resolvers.py\", line 348, in resolve\n",
      "    self._add_to_criteria(self.state.criteria, r, parent=None)\n",
      "  File \"/home/ping/.pyenv/versions/3.8.12/envs/lewagon/lib/python3.8/site-packages/pip/_vendor/resolvelib/resolvers.py\", line 172, in _add_to_criteria\n",
      "    if not criterion.candidates:\n",
      "  File \"/home/ping/.pyenv/versions/3.8.12/envs/lewagon/lib/python3.8/site-packages/pip/_vendor/resolvelib/structs.py\", line 151, in __bool__\n",
      "    return bool(self._sequence)\n",
      "  File \"/home/ping/.pyenv/versions/3.8.12/envs/lewagon/lib/python3.8/site-packages/pip/_internal/resolution/resolvelib/found_candidates.py\", line 155, in __bool__\n",
      "    return any(self)\n",
      "  File \"/home/ping/.pyenv/versions/3.8.12/envs/lewagon/lib/python3.8/site-packages/pip/_internal/resolution/resolvelib/found_candidates.py\", line 143, in <genexpr>\n",
      "    return (c for c in iterator if id(c) not in self._incompatible_ids)\n",
      "  File \"/home/ping/.pyenv/versions/3.8.12/envs/lewagon/lib/python3.8/site-packages/pip/_internal/resolution/resolvelib/found_candidates.py\", line 47, in _iter_built\n",
      "    candidate = func()\n",
      "  File \"/home/ping/.pyenv/versions/3.8.12/envs/lewagon/lib/python3.8/site-packages/pip/_internal/resolution/resolvelib/factory.py\", line 206, in _make_candidate_from_link\n",
      "    self._link_candidate_cache[link] = LinkCandidate(\n",
      "  File \"/home/ping/.pyenv/versions/3.8.12/envs/lewagon/lib/python3.8/site-packages/pip/_internal/resolution/resolvelib/candidates.py\", line 297, in __init__\n",
      "    super().__init__(\n",
      "  File \"/home/ping/.pyenv/versions/3.8.12/envs/lewagon/lib/python3.8/site-packages/pip/_internal/resolution/resolvelib/candidates.py\", line 162, in __init__\n",
      "    self.dist = self._prepare()\n",
      "  File \"/home/ping/.pyenv/versions/3.8.12/envs/lewagon/lib/python3.8/site-packages/pip/_internal/resolution/resolvelib/candidates.py\", line 231, in _prepare\n",
      "    dist = self._prepare_distribution()\n",
      "  File \"/home/ping/.pyenv/versions/3.8.12/envs/lewagon/lib/python3.8/site-packages/pip/_internal/resolution/resolvelib/candidates.py\", line 308, in _prepare_distribution\n",
      "    return preparer.prepare_linked_requirement(self._ireq, parallel_builds=True)\n",
      "  File \"/home/ping/.pyenv/versions/3.8.12/envs/lewagon/lib/python3.8/site-packages/pip/_internal/operations/prepare.py\", line 438, in prepare_linked_requirement\n",
      "    return self._prepare_linked_requirement(req, parallel_builds)\n",
      "  File \"/home/ping/.pyenv/versions/3.8.12/envs/lewagon/lib/python3.8/site-packages/pip/_internal/operations/prepare.py\", line 483, in _prepare_linked_requirement\n",
      "    local_file = unpack_url(\n",
      "  File \"/home/ping/.pyenv/versions/3.8.12/envs/lewagon/lib/python3.8/site-packages/pip/_internal/operations/prepare.py\", line 165, in unpack_url\n",
      "    file = get_http_url(\n",
      "  File \"/home/ping/.pyenv/versions/3.8.12/envs/lewagon/lib/python3.8/site-packages/pip/_internal/operations/prepare.py\", line 106, in get_http_url\n",
      "    from_path, content_type = download(link, temp_dir.path)\n",
      "  File \"/home/ping/.pyenv/versions/3.8.12/envs/lewagon/lib/python3.8/site-packages/pip/_internal/network/download.py\", line 147, in __call__\n",
      "    for chunk in chunks:\n",
      "  File \"/home/ping/.pyenv/versions/3.8.12/envs/lewagon/lib/python3.8/site-packages/pip/_internal/cli/progress_bars.py\", line 53, in _rich_progress_bar\n",
      "    for chunk in iterable:\n",
      "  File \"/home/ping/.pyenv/versions/3.8.12/envs/lewagon/lib/python3.8/site-packages/pip/_internal/network/utils.py\", line 63, in response_chunks\n",
      "    for chunk in response.raw.stream(\n",
      "  File \"/home/ping/.pyenv/versions/3.8.12/envs/lewagon/lib/python3.8/site-packages/pip/_vendor/urllib3/response.py\", line 573, in stream\n",
      "    data = self.read(amt=amt, decode_content=decode_content)\n",
      "  File \"/home/ping/.pyenv/versions/3.8.12/envs/lewagon/lib/python3.8/site-packages/pip/_vendor/urllib3/response.py\", line 538, in read\n",
      "    raise IncompleteRead(self._fp_bytes_read, self.length_remaining)\n",
      "  File \"/home/ping/.pyenv/versions/3.8.12/lib/python3.8/contextlib.py\", line 131, in __exit__\n",
      "    self.gen.throw(type, value, traceback)\n",
      "  File \"/home/ping/.pyenv/versions/3.8.12/envs/lewagon/lib/python3.8/site-packages/pip/_vendor/urllib3/response.py\", line 446, in _error_catcher\n",
      "    raise SSLError(e)\n",
      "pip._vendor.urllib3.exceptions.SSLError: [SSL: DECRYPTION_FAILED_OR_BAD_RECORD_MAC] decryption failed or bad record mac (_ssl.c:2635)\u001b[0m\u001b[31m\n",
      "\u001b[0mNote: you may need to restart the kernel to use updated packages.\n"
     ]
    }
   ],
   "source": [
    "pip install spacy"
   ]
  },
  {
   "cell_type": "code",
   "execution_count": 267,
   "id": "294edafd",
   "metadata": {
    "scrolled": true
   },
   "outputs": [
    {
     "ename": "ModuleNotFoundError",
     "evalue": "No module named 'spacy'",
     "output_type": "error",
     "traceback": [
      "\u001b[0;31m---------------------------------------------------------------------------\u001b[0m",
      "\u001b[0;31mModuleNotFoundError\u001b[0m                       Traceback (most recent call last)",
      "\u001b[0;32m/tmp/ipykernel_1594/572880994.py\u001b[0m in \u001b[0;36m<module>\u001b[0;34m\u001b[0m\n\u001b[0;32m----> 1\u001b[0;31m \u001b[0;32mimport\u001b[0m \u001b[0mspacy\u001b[0m\u001b[0;34m\u001b[0m\u001b[0;34m\u001b[0m\u001b[0m\n\u001b[0m",
      "\u001b[0;31mModuleNotFoundError\u001b[0m: No module named 'spacy'"
     ]
    }
   ],
   "source": [
    "import spacy"
   ]
  },
  {
   "cell_type": "code",
   "execution_count": null,
   "id": "9864185f",
   "metadata": {},
   "outputs": [],
   "source": []
  }
 ],
 "metadata": {
  "kernelspec": {
   "display_name": "Python 3 (ipykernel)",
   "language": "python",
   "name": "python3"
  },
  "language_info": {
   "codemirror_mode": {
    "name": "ipython",
    "version": 3
   },
   "file_extension": ".py",
   "mimetype": "text/x-python",
   "name": "python",
   "nbconvert_exporter": "python",
   "pygments_lexer": "ipython3",
   "version": "3.8.12"
  },
  "toc": {
   "base_numbering": 1,
   "nav_menu": {},
   "number_sections": true,
   "sideBar": true,
   "skip_h1_title": false,
   "title_cell": "Table of Contents",
   "title_sidebar": "Contents",
   "toc_cell": false,
   "toc_position": {},
   "toc_section_display": true,
   "toc_window_display": false
  }
 },
 "nbformat": 4,
 "nbformat_minor": 5
}
