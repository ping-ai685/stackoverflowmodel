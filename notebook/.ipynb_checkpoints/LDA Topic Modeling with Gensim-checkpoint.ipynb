{
 "cells": [
  {
   "cell_type": "markdown",
   "id": "92172382",
   "metadata": {},
   "source": [
    "# Introduction"
   ]
  },
  {
   "cell_type": "markdown",
   "id": "d1a9628b",
   "metadata": {},
   "source": [
    "Topic Modeling is a technique to extract the hidden topics from large volumes of text. Latent Dirichlet Allocation(LDA) is a popular algorithm for topic modeling with excellent implementations in the Python’s Gensim package. The challenge, however, is how to extract good quality of topics that are clear, segregated and meaningful. This depends heavily on the quality of text preprocessing and the strategy of finding the optimal number of topics. This tutorial attempts to tackle both of these problems."
   ]
  },
  {
   "cell_type": "markdown",
   "id": "5020fb0b",
   "metadata": {},
   "source": [
    "# Prerequisites \n",
    "\n",
    "– Download nltk stopwords and spacy model\n",
    "We will need the stopwords from NLTK and spacy’s en model for text pre-processing. Later, we will be using the spacy model for lemmatization.\n",
    "\n",
    "Lemmatization is nothing but converting a word to its root word. For example: the lemma of the word ‘machines’ is ‘machine’. Likewise, ‘walking’ –> ‘walk’, ‘mice’ –> ‘mouse’ and so on."
   ]
  },
  {
   "cell_type": "code",
   "execution_count": 54,
   "id": "869541e3",
   "metadata": {
    "scrolled": true
   },
   "outputs": [
    {
     "name": "stderr",
     "output_type": "stream",
     "text": [
      "[nltk_data] Downloading package stopwords to\n",
      "[nltk_data]     C:\\Users\\ray63\\AppData\\Roaming\\nltk_data...\n",
      "[nltk_data]   Package stopwords is already up-to-date!\n"
     ]
    },
    {
     "data": {
      "text/plain": [
       "True"
      ]
     },
     "execution_count": 54,
     "metadata": {},
     "output_type": "execute_result"
    }
   ],
   "source": [
    "# Run in python console\n",
    "import nltk; nltk.download('stopwords')\n"
   ]
  },
  {
   "cell_type": "markdown",
   "id": "01021312",
   "metadata": {},
   "source": [
    "# Import Packages\n"
   ]
  },
  {
   "cell_type": "code",
   "execution_count": 55,
   "id": "1684d44d",
   "metadata": {},
   "outputs": [],
   "source": [
    "import re\n",
    "import numpy as np\n",
    "import pandas as pd\n",
    "from pprint import pprint\n",
    "\n",
    "# Gensim\n",
    "import gensim\n",
    "import gensim.corpora as corpora\n",
    "from gensim.utils import simple_preprocess\n",
    "from gensim.models import CoherenceModel\n",
    "\n",
    "# spacy for lemmatization\n",
    "import spacy\n",
    "\n",
    "# Plotting tools\n",
    "import pyLDAvis\n",
    "import pyLDAvis.gensim_models  # don't skip this\n",
    "import matplotlib.pyplot as plt\n",
    "%matplotlib inline\n",
    "\n",
    "# Enable logging for gensim - optional\n",
    "import logging\n",
    "logging.basicConfig(format='%(asctime)s : %(levelname)s : %(message)s', level=logging.ERROR)\n",
    "\n",
    "import warnings\n",
    "warnings.filterwarnings(\"ignore\",category=DeprecationWarning)"
   ]
  },
  {
   "cell_type": "markdown",
   "id": "0e05d54b",
   "metadata": {},
   "source": [
    "# What does LDA do?"
   ]
  },
  {
   "cell_type": "markdown",
   "id": "9a8e4497",
   "metadata": {},
   "source": [
    "LDA’s approach to topic modeling is it considers each document as a collection of topics in a certain proportion. And each topic as a collection of keywords, again, in a certain proportion.\n",
    "\n",
    "\n",
    "Once you provide the algorithm with the number of topics, all it does it to rearrange the topics distribution within the documents and keywords distribution within the topics to obtain a good composition of topic-keywords distribution."
   ]
  },
  {
   "cell_type": "markdown",
   "id": "f1680c9e",
   "metadata": {},
   "source": [
    "# Prepare Stopwords"
   ]
  },
  {
   "cell_type": "markdown",
   "id": "64c731af",
   "metadata": {},
   "source": [
    "We have already downloaded the stopwords. Let’s import them and make it available in stop_words."
   ]
  },
  {
   "cell_type": "code",
   "execution_count": 56,
   "id": "9d411756",
   "metadata": {},
   "outputs": [],
   "source": [
    "# NLTK Stop words\n",
    "from nltk.corpus import stopwords\n",
    "stop_words = stopwords.words('english')\n",
    "stop_words.extend(['from', 'subject', 're', 'edu', 'use'])"
   ]
  },
  {
   "cell_type": "markdown",
   "id": "91c36179",
   "metadata": {},
   "source": [
    "# Import Data"
   ]
  },
  {
   "cell_type": "code",
   "execution_count": 57,
   "id": "15be905f",
   "metadata": {},
   "outputs": [
    {
     "data": {
      "text/html": [
       "<div>\n",
       "<style scoped>\n",
       "    .dataframe tbody tr th:only-of-type {\n",
       "        vertical-align: middle;\n",
       "    }\n",
       "\n",
       "    .dataframe tbody tr th {\n",
       "        vertical-align: top;\n",
       "    }\n",
       "\n",
       "    .dataframe thead th {\n",
       "        text-align: right;\n",
       "    }\n",
       "</style>\n",
       "<table border=\"1\" class=\"dataframe\">\n",
       "  <thead>\n",
       "    <tr style=\"text-align: right;\">\n",
       "      <th></th>\n",
       "      <th>Unnamed: 0</th>\n",
       "      <th>Id</th>\n",
       "      <th>Title</th>\n",
       "      <th>Body</th>\n",
       "      <th>Tags</th>\n",
       "    </tr>\n",
       "  </thead>\n",
       "  <tbody>\n",
       "    <tr>\n",
       "      <th>0</th>\n",
       "      <td>0</td>\n",
       "      <td>1898</td>\n",
       "      <td>Import CSV file to strongly typed data structu...</td>\n",
       "      <td>&lt;p&gt;What's the best way to import a CSV file in...</td>\n",
       "      <td>&lt;c#&gt;&lt;vb.net&gt;&lt;file&gt;&lt;csv&gt;&lt;import&gt;</td>\n",
       "    </tr>\n",
       "    <tr>\n",
       "      <th>1</th>\n",
       "      <td>1</td>\n",
       "      <td>1939041</td>\n",
       "      <td>Change hash without reload in jQuery</td>\n",
       "      <td>&lt;p&gt;I have the following code:&lt;/p&gt;\\n\\n&lt;pre&gt;&lt;cod...</td>\n",
       "      <td>&lt;jquery&gt;&lt;hash&gt;&lt;reload&gt;&lt;fragment-identifier&gt;&lt;wi...</td>\n",
       "    </tr>\n",
       "    <tr>\n",
       "      <th>2</th>\n",
       "      <td>2</td>\n",
       "      <td>2027</td>\n",
       "      <td>Pass by reference or pass by value?</td>\n",
       "      <td>&lt;p&gt;When learning a new programming language, o...</td>\n",
       "      <td>&lt;language-agnostic&gt;&lt;oop&gt;&lt;parameters&gt;&lt;pass-by-r...</td>\n",
       "    </tr>\n",
       "    <tr>\n",
       "      <th>3</th>\n",
       "      <td>3</td>\n",
       "      <td>2056</td>\n",
       "      <td>What are MVP and MVC and what is the difference?</td>\n",
       "      <td>&lt;p&gt;When looking beyond the &lt;a href=\"https://en...</td>\n",
       "      <td>&lt;user-interface&gt;&lt;model-view-controller&gt;&lt;design...</td>\n",
       "    </tr>\n",
       "    <tr>\n",
       "      <th>4</th>\n",
       "      <td>4</td>\n",
       "      <td>2138</td>\n",
       "      <td>LINQ on the .NET 2.0 Runtime</td>\n",
       "      <td>&lt;p&gt;Can a LINQ enabled app run on a machine tha...</td>\n",
       "      <td>&lt;.net&gt;&lt;linq&gt;&lt;.net-3.5&gt;&lt;.net-2.0&gt;&lt;clr&gt;</td>\n",
       "    </tr>\n",
       "    <tr>\n",
       "      <th>...</th>\n",
       "      <td>...</td>\n",
       "      <td>...</td>\n",
       "      <td>...</td>\n",
       "      <td>...</td>\n",
       "      <td>...</td>\n",
       "    </tr>\n",
       "    <tr>\n",
       "      <th>27928</th>\n",
       "      <td>27928</td>\n",
       "      <td>37332190</td>\n",
       "      <td>Django - Login with Email</td>\n",
       "      <td>&lt;p&gt;I want django to authenticate users via ema...</td>\n",
       "      <td>&lt;python&gt;&lt;python-3.x&gt;&lt;django&gt;&lt;django-authentica...</td>\n",
       "    </tr>\n",
       "    <tr>\n",
       "      <th>27929</th>\n",
       "      <td>27929</td>\n",
       "      <td>37334668</td>\n",
       "      <td>Is there a python equivalent for RSpec to do TDD?</td>\n",
       "      <td>&lt;p&gt;I'm looking for a test framework like Ruby'...</td>\n",
       "      <td>&lt;python&gt;&lt;ruby&gt;&lt;testing&gt;&lt;rspec&gt;&lt;tdd&gt;</td>\n",
       "    </tr>\n",
       "    <tr>\n",
       "      <th>27930</th>\n",
       "      <td>27930</td>\n",
       "      <td>55345373</td>\n",
       "      <td>How to install GCC/G++ 8 on CentOS</td>\n",
       "      <td>&lt;p&gt;I'm used to install packages on Debian/Ubun...</td>\n",
       "      <td>&lt;gcc&gt;&lt;centos&gt;&lt;g++&gt;&lt;software-collections&gt;&lt;redha...</td>\n",
       "    </tr>\n",
       "    <tr>\n",
       "      <th>27931</th>\n",
       "      <td>27931</td>\n",
       "      <td>55372259</td>\n",
       "      <td>How to use TabLayout with ViewPager2 in Android</td>\n",
       "      <td>&lt;p&gt;I want to use &lt;code&gt;com.google.android.mate...</td>\n",
       "      <td>&lt;java&gt;&lt;android&gt;&lt;androidx&gt;&lt;android-tablayout&gt;&lt;a...</td>\n",
       "    </tr>\n",
       "    <tr>\n",
       "      <th>27932</th>\n",
       "      <td>27932</td>\n",
       "      <td>55375803</td>\n",
       "      <td>Mystifying microbenchmark result for stream AP...</td>\n",
       "      <td>&lt;p&gt;As part of my investigation on the differen...</td>\n",
       "      <td>&lt;java&gt;&lt;java-stream&gt;&lt;benchmarking&gt;&lt;jmh&gt;&lt;java-12&gt;</td>\n",
       "    </tr>\n",
       "  </tbody>\n",
       "</table>\n",
       "<p>27933 rows × 5 columns</p>\n",
       "</div>"
      ],
      "text/plain": [
       "       Unnamed: 0        Id  \\\n",
       "0               0      1898   \n",
       "1               1   1939041   \n",
       "2               2      2027   \n",
       "3               3      2056   \n",
       "4               4      2138   \n",
       "...           ...       ...   \n",
       "27928       27928  37332190   \n",
       "27929       27929  37334668   \n",
       "27930       27930  55345373   \n",
       "27931       27931  55372259   \n",
       "27932       27932  55375803   \n",
       "\n",
       "                                                   Title  \\\n",
       "0      Import CSV file to strongly typed data structu...   \n",
       "1                   Change hash without reload in jQuery   \n",
       "2                    Pass by reference or pass by value?   \n",
       "3       What are MVP and MVC and what is the difference?   \n",
       "4                           LINQ on the .NET 2.0 Runtime   \n",
       "...                                                  ...   \n",
       "27928                          Django - Login with Email   \n",
       "27929  Is there a python equivalent for RSpec to do TDD?   \n",
       "27930                 How to install GCC/G++ 8 on CentOS   \n",
       "27931    How to use TabLayout with ViewPager2 in Android   \n",
       "27932  Mystifying microbenchmark result for stream AP...   \n",
       "\n",
       "                                                    Body  \\\n",
       "0      <p>What's the best way to import a CSV file in...   \n",
       "1      <p>I have the following code:</p>\\n\\n<pre><cod...   \n",
       "2      <p>When learning a new programming language, o...   \n",
       "3      <p>When looking beyond the <a href=\"https://en...   \n",
       "4      <p>Can a LINQ enabled app run on a machine tha...   \n",
       "...                                                  ...   \n",
       "27928  <p>I want django to authenticate users via ema...   \n",
       "27929  <p>I'm looking for a test framework like Ruby'...   \n",
       "27930  <p>I'm used to install packages on Debian/Ubun...   \n",
       "27931  <p>I want to use <code>com.google.android.mate...   \n",
       "27932  <p>As part of my investigation on the differen...   \n",
       "\n",
       "                                                    Tags  \n",
       "0                        <c#><vb.net><file><csv><import>  \n",
       "1      <jquery><hash><reload><fragment-identifier><wi...  \n",
       "2      <language-agnostic><oop><parameters><pass-by-r...  \n",
       "3      <user-interface><model-view-controller><design...  \n",
       "4                  <.net><linq><.net-3.5><.net-2.0><clr>  \n",
       "...                                                  ...  \n",
       "27928  <python><python-3.x><django><django-authentica...  \n",
       "27929                <python><ruby><testing><rspec><tdd>  \n",
       "27930  <gcc><centos><g++><software-collections><redha...  \n",
       "27931  <java><android><androidx><android-tablayout><a...  \n",
       "27932    <java><java-stream><benchmarking><jmh><java-12>  \n",
       "\n",
       "[27933 rows x 5 columns]"
      ]
     },
     "execution_count": 57,
     "metadata": {},
     "output_type": "execute_result"
    }
   ],
   "source": [
    "df = pd.read_csv(\"data_cleaned.csv\")\n",
    "df"
   ]
  },
  {
   "cell_type": "code",
   "execution_count": 58,
   "id": "e3b04178",
   "metadata": {},
   "outputs": [],
   "source": [
    "df = df[['Id', 'Title', 'Body', 'Tags']]"
   ]
  },
  {
   "cell_type": "code",
   "execution_count": 59,
   "id": "5e7a4c4b",
   "metadata": {},
   "outputs": [
    {
     "data": {
      "text/plain": [
       "(2793, 4)"
      ]
     },
     "execution_count": 59,
     "metadata": {},
     "output_type": "execute_result"
    }
   ],
   "source": [
    "df=df.sample(frac=0.1)\n",
    "df.shape"
   ]
  },
  {
   "cell_type": "code",
   "execution_count": 60,
   "id": "f806e3df",
   "metadata": {},
   "outputs": [
    {
     "name": "stdout",
     "output_type": "stream",
     "text": [
      "['<jquery><html><manifest><cdn><offline-browsing>'\n",
      " '<mongodb><permissions><centos><meteor><samba>'\n",
      " '<ios><swift><xcode><cocoa-touch><uibutton>' ...\n",
      " '<android><google-maps><md5><sha1><fingerprint>'\n",
      " '<c#><class><oop><interface><abstraction>'\n",
      " '<linux><gcc><linker><shared-libraries><shared-objects>']\n"
     ]
    },
    {
     "data": {
      "text/html": [
       "<div>\n",
       "<style scoped>\n",
       "    .dataframe tbody tr th:only-of-type {\n",
       "        vertical-align: middle;\n",
       "    }\n",
       "\n",
       "    .dataframe tbody tr th {\n",
       "        vertical-align: top;\n",
       "    }\n",
       "\n",
       "    .dataframe thead th {\n",
       "        text-align: right;\n",
       "    }\n",
       "</style>\n",
       "<table border=\"1\" class=\"dataframe\">\n",
       "  <thead>\n",
       "    <tr style=\"text-align: right;\">\n",
       "      <th></th>\n",
       "      <th>Id</th>\n",
       "      <th>Title</th>\n",
       "      <th>Body</th>\n",
       "      <th>Tags</th>\n",
       "    </tr>\n",
       "  </thead>\n",
       "  <tbody>\n",
       "    <tr>\n",
       "      <th>1867</th>\n",
       "      <td>5264783</td>\n",
       "      <td>Is there a way to use a CDN (for jQuery) and h...</td>\n",
       "      <td>&lt;p&gt;I'm beginning to look at HTML5s ability to ...</td>\n",
       "      <td>&lt;jquery&gt;&lt;html&gt;&lt;manifest&gt;&lt;cdn&gt;&lt;offline-browsing&gt;</td>\n",
       "    </tr>\n",
       "    <tr>\n",
       "      <th>19414</th>\n",
       "      <td>15610385</td>\n",
       "      <td>Meteor: unexpected mongo exit code 100</td>\n",
       "      <td>&lt;p&gt;I have just installed Meteor version 0.5.9 ...</td>\n",
       "      <td>&lt;mongodb&gt;&lt;permissions&gt;&lt;centos&gt;&lt;meteor&gt;&lt;samba&gt;</td>\n",
       "    </tr>\n",
       "    <tr>\n",
       "      <th>24809</th>\n",
       "      <td>26837371</td>\n",
       "      <td>How to change UIButton image in Swift</td>\n",
       "      <td>&lt;p&gt;I am trying to change the image of a UIButt...</td>\n",
       "      <td>&lt;ios&gt;&lt;swift&gt;&lt;xcode&gt;&lt;cocoa-touch&gt;&lt;uibutton&gt;</td>\n",
       "    </tr>\n",
       "    <tr>\n",
       "      <th>16620</th>\n",
       "      <td>2772452</td>\n",
       "      <td>How to associate application with existing fil...</td>\n",
       "      <td>&lt;p&gt;Related to this: &lt;a href=\"https://stackover...</td>\n",
       "      <td>&lt;installation&gt;&lt;wix&gt;&lt;registry&gt;&lt;windows-installe...</td>\n",
       "    </tr>\n",
       "    <tr>\n",
       "      <th>7062</th>\n",
       "      <td>53212020</td>\n",
       "      <td>Get list of duplicate objects in an array of o...</td>\n",
       "      <td>&lt;p&gt;I am trying to get duplicate objects within...</td>\n",
       "      <td>&lt;javascript&gt;&lt;arrays&gt;&lt;typescript&gt;&lt;ecmascript-6&gt;...</td>\n",
       "    </tr>\n",
       "  </tbody>\n",
       "</table>\n",
       "</div>"
      ],
      "text/plain": [
       "             Id                                              Title  \\\n",
       "1867    5264783  Is there a way to use a CDN (for jQuery) and h...   \n",
       "19414  15610385             Meteor: unexpected mongo exit code 100   \n",
       "24809  26837371              How to change UIButton image in Swift   \n",
       "16620   2772452  How to associate application with existing fil...   \n",
       "7062   53212020  Get list of duplicate objects in an array of o...   \n",
       "\n",
       "                                                    Body  \\\n",
       "1867   <p>I'm beginning to look at HTML5s ability to ...   \n",
       "19414  <p>I have just installed Meteor version 0.5.9 ...   \n",
       "24809  <p>I am trying to change the image of a UIButt...   \n",
       "16620  <p>Related to this: <a href=\"https://stackover...   \n",
       "7062   <p>I am trying to get duplicate objects within...   \n",
       "\n",
       "                                                    Tags  \n",
       "1867     <jquery><html><manifest><cdn><offline-browsing>  \n",
       "19414      <mongodb><permissions><centos><meteor><samba>  \n",
       "24809         <ios><swift><xcode><cocoa-touch><uibutton>  \n",
       "16620  <installation><wix><registry><windows-installe...  \n",
       "7062   <javascript><arrays><typescript><ecmascript-6>...  "
      ]
     },
     "execution_count": 60,
     "metadata": {},
     "output_type": "execute_result"
    }
   ],
   "source": [
    "print(df.Tags.unique())\n",
    "df.head()"
   ]
  },
  {
   "cell_type": "markdown",
   "id": "e4fd23d0",
   "metadata": {},
   "source": [
    "# Remove characters\n",
    "As you can see there are many emails, newline and extra spaces that is quite distracting. Let’s get rid of them using regular expressions."
   ]
  },
  {
   "cell_type": "code",
   "execution_count": 61,
   "id": "2565dc73",
   "metadata": {},
   "outputs": [
    {
     "name": "stdout",
     "output_type": "stream",
     "text": [
      "['<p>Im beginning to look at HTML5s ability to allow for offline Web '\n",
      " 'applications.</p> <p>A while back I found that using a CDN worked well for '\n",
      " 'my applications, so Ive been sticking with them, mostly just for jQuery.</p> '\n",
      " '<p>However, it doesnt appear that manifest files allows cross-domain '\n",
      " 'resources to be cached.</p> <p>At this point Ive been using the catch-all '\n",
      " 'manifest as described by the relevant <a '\n",
      " 'href=\"http://diveintohtml5.info/offline.html\" rel=\"nofollow noreferrer\">Dive '\n",
      " 'Into HTML5 tutorial</a>. My jQuery is pulled in similar to whats defined in '\n",
      " 'the <a href=\"http://html5boilerplate.com/\" rel=\"nofollow noreferrer\">HTML5 '\n",
      " 'Boilerplate</a>.</p> <p>Id like to be able to continue to serve jQuery from '\n",
      " 'a CDN for online users, but perhaps have a local copy cached for offline '\n",
      " 'access.</p> <p>Is it worth trying to pursue this route, or should I just '\n",
      " 'switch over to just serving jQuery from my site, for all requests?</p> '\n",
      " '<p>Thanks.</p> ']\n"
     ]
    }
   ],
   "source": [
    "# Convert to list\n",
    "data = df.Body.values.tolist()\n",
    "\n",
    "# Remove Emails\n",
    "data = [re.sub('\\S*@\\S*\\s?', '', sent) for sent in data]\n",
    "\n",
    "# Remove new line characters\n",
    "data = [re.sub('\\s+', ' ', sent) for sent in data]\n",
    "\n",
    "# Remove distracting single quotes\n",
    "data = [re.sub(\"\\'\", \"\", sent) for sent in data]\n",
    "\n",
    "pprint(data[:1])"
   ]
  },
  {
   "cell_type": "markdown",
   "id": "3950e5df",
   "metadata": {},
   "source": [
    "# Tokenize words and Clean-up text"
   ]
  },
  {
   "cell_type": "markdown",
   "id": "b998a7f5",
   "metadata": {},
   "source": [
    "Let’s tokenize each sentence into a list of words, removing punctuations and unnecessary characters altogether.\n",
    "\n",
    "Gensim’s simple_preprocess() is great for this. Additionally I have set deacc=True to remove the punctuations."
   ]
  },
  {
   "cell_type": "code",
   "execution_count": 62,
   "id": "59a89c49",
   "metadata": {},
   "outputs": [
    {
     "name": "stdout",
     "output_type": "stream",
     "text": [
      "[['im', 'beginning', 'to', 'look', 'at', 'html', 'ability', 'to', 'allow', 'for', 'offline', 'web', 'applications', 'while', 'back', 'found', 'that', 'using', 'cdn', 'worked', 'well', 'for', 'my', 'applications', 'so', 'ive', 'been', 'sticking', 'with', 'them', 'mostly', 'just', 'for', 'jquery', 'however', 'it', 'doesnt', 'appear', 'that', 'manifest', 'files', 'allows', 'cross', 'domain', 'resources', 'to', 'be', 'cached', 'at', 'this', 'point', 'ive', 'been', 'using', 'the', 'catch', 'all', 'manifest', 'as', 'described', 'by', 'the', 'relevant', 'href', 'http', 'diveintohtml', 'info', 'offline', 'html', 'rel', 'nofollow', 'noreferrer', 'dive', 'into', 'html', 'tutorial', 'my', 'jquery', 'is', 'pulled', 'in', 'similar', 'to', 'whats', 'defined', 'in', 'the', 'href', 'http', 'html', 'boilerplate', 'com', 'rel', 'nofollow', 'noreferrer', 'html', 'boilerplate', 'id', 'like', 'to', 'be', 'able', 'to', 'continue', 'to', 'serve', 'jquery', 'from', 'cdn', 'for', 'online', 'users', 'but', 'perhaps', 'have', 'local', 'copy', 'cached', 'for', 'offline', 'access', 'is', 'it', 'worth', 'trying', 'to', 'pursue', 'this', 'route', 'or', 'should', 'just', 'switch', 'over', 'to', 'just', 'serving', 'jquery', 'from', 'my', 'site', 'for', 'all', 'requests', 'thanks']]\n"
     ]
    }
   ],
   "source": [
    "def sent_to_words(sentences):\n",
    "    for sentence in sentences:\n",
    "        yield(gensim.utils.simple_preprocess(str(sentence), deacc=True))  # deacc=True removes punctuations\n",
    "\n",
    "data_words = list(sent_to_words(data))\n",
    "\n",
    "print(data_words[:1])"
   ]
  },
  {
   "cell_type": "markdown",
   "id": "7da3595d",
   "metadata": {},
   "source": [
    "Creating Bigram and Trigram Models\n",
    "Bigrams are two words frequently occurring together in the document. Trigrams are 3 words frequently occurring.\n",
    "\n",
    "Gensim’s Phrases model can build and implement the bigrams, trigrams, quadgrams and more. The two important arguments to Phrases are min_count and threshold. The higher the values of these param, the harder it is for words to be combined to bigrams."
   ]
  },
  {
   "cell_type": "code",
   "execution_count": 63,
   "id": "94d69a40",
   "metadata": {},
   "outputs": [
    {
     "name": "stdout",
     "output_type": "stream",
     "text": [
      "['im', 'beginning', 'to', 'look', 'at', 'html', 'ability', 'to', 'allow', 'for', 'offline', 'web', 'applications', 'while', 'back', 'found', 'that', 'using', 'cdn', 'worked', 'well', 'for', 'my', 'applications', 'so', 'ive', 'been', 'sticking', 'with', 'them', 'mostly', 'just', 'for', 'jquery', 'however', 'it', 'doesnt', 'appear', 'that', 'manifest', 'files', 'allows', 'cross_domain', 'resources', 'to', 'be', 'cached', 'at', 'this', 'point', 'ive', 'been', 'using', 'the', 'catch', 'all', 'manifest', 'as', 'described', 'by', 'the', 'relevant', 'href', 'http', 'diveintohtml', 'info', 'offline', 'html', 'rel_nofollow_noreferrer', 'dive', 'into', 'html', 'tutorial', 'my', 'jquery', 'is', 'pulled', 'in', 'similar', 'to', 'whats', 'defined', 'in', 'the', 'href', 'http', 'html', 'boilerplate', 'com', 'rel_nofollow_noreferrer', 'html', 'boilerplate', 'id', 'like', 'to', 'be', 'able', 'to', 'continue', 'to', 'serve', 'jquery', 'from', 'cdn', 'for', 'online', 'users', 'but', 'perhaps', 'have', 'local', 'copy', 'cached', 'for', 'offline', 'access', 'is', 'it', 'worth', 'trying', 'to', 'pursue', 'this', 'route', 'or', 'should', 'just', 'switch', 'over', 'to', 'just', 'serving', 'jquery', 'from', 'my', 'site', 'for', 'all', 'requests', 'thanks']\n"
     ]
    }
   ],
   "source": [
    "# Build the bigram and trigram models\n",
    "bigram = gensim.models.Phrases(data_words, min_count=5, threshold=100) # higher threshold fewer phrases.\n",
    "trigram = gensim.models.Phrases(bigram[data_words], threshold=100)  \n",
    "\n",
    "# Faster way to get a sentence clubbed as a trigram/bigram\n",
    "bigram_mod = gensim.models.phrases.Phraser(bigram)\n",
    "trigram_mod = gensim.models.phrases.Phraser(trigram)\n",
    "\n",
    "# See trigram example\n",
    "print(trigram_mod[bigram_mod[data_words[0]]])"
   ]
  },
  {
   "cell_type": "markdown",
   "id": "eee16e99",
   "metadata": {},
   "source": [
    "# Remove Stopwords, Make Bigrams and Lemmatize"
   ]
  },
  {
   "cell_type": "markdown",
   "id": "d1081947",
   "metadata": {},
   "source": [
    "The bigrams model is ready. Let’s define the functions to remove the stopwords, make bigrams and lemmatization and call them sequentially."
   ]
  },
  {
   "cell_type": "code",
   "execution_count": 64,
   "id": "6169710b",
   "metadata": {},
   "outputs": [],
   "source": [
    "# Define functions for stopwords, bigrams, trigrams and lemmatization\n",
    "def remove_stopwords(texts):\n",
    "    return [[word for word in simple_preprocess(str(doc)) if word not in stop_words] for doc in texts]\n",
    "\n",
    "def make_bigrams(texts):\n",
    "    return [bigram_mod[doc] for doc in texts]\n",
    "\n",
    "def make_trigrams(texts):\n",
    "    return [trigram_mod[bigram_mod[doc]] for doc in texts]\n",
    "\n",
    "def lemmatization(texts, allowed_postags=['NOUN', 'ADJ', 'VERB', 'ADV']):\n",
    "    \"\"\"https://spacy.io/api/annotation\"\"\"\n",
    "    texts_out = []\n",
    "    for sent in texts:\n",
    "        doc = nlp(\" \".join(sent)) \n",
    "        texts_out.append([token.lemma_ for token in doc if token.pos_ in allowed_postags])\n",
    "    return texts_out"
   ]
  },
  {
   "cell_type": "code",
   "execution_count": 65,
   "id": "8ff51c94",
   "metadata": {},
   "outputs": [],
   "source": [
    "#pip install spacy-download"
   ]
  },
  {
   "cell_type": "code",
   "execution_count": 66,
   "id": "e75c9471",
   "metadata": {},
   "outputs": [
    {
     "name": "stderr",
     "output_type": "stream",
     "text": [
      "C:\\Python\\envs\\TensorFlow\\lib\\site-packages\\spacy\\language.py:1895: UserWarning: [W123] Argument disable with value [] is used instead of ['senter'] as specified in the config. Be aware that this might affect other components in your pipeline.\n",
      "  warnings.warn(\n"
     ]
    }
   ],
   "source": [
    "from spacy_download import load_spacy\n",
    "\n",
    "nlp = load_spacy(\"en_core_web_sm\", exclude=[\"parser\", \"tagger\"])  # Will download the model if it isn't installed yet"
   ]
  },
  {
   "cell_type": "code",
   "execution_count": 67,
   "id": "2ca3166a",
   "metadata": {},
   "outputs": [
    {
     "name": "stderr",
     "output_type": "stream",
     "text": [
      "C:\\Python\\envs\\TensorFlow\\lib\\site-packages\\spacy\\language.py:1895: UserWarning: [W123] Argument disable with value ['parser', 'ner'] is used instead of ['senter'] as specified in the config. Be aware that this might affect other components in your pipeline.\n",
      "  warnings.warn(\n"
     ]
    },
    {
     "name": "stdout",
     "output_type": "stream",
     "text": [
      "[['m', 'begin', 'look', 'html', 'ability', 'allow', 'offline', 'web', 'application', 'back', 'find', 'use', 'cdn', 'work', 'well', 'application', 've', 'stick', 'mostly', 'however', 'appear', 'manifest', 'file', 'allow', 'cross_domain', 'resource', 'cache', 'point', 've', 'use', 'catch', 'manifest', 'describe', 'relevant', 'offline', 'noreferr', 'pull', 'similar', 's', 'define', 'boilerplate', 'noreferr', 'boilerplate', 'd', 'able', 'continue', 'serve', 'online', 'user', 'perhaps', 'local', 'copy', 'cache', 'offline', 'access', 'worth', 'try', 'pursue', 'route', 'switch', 'serve', 'site', 'request', 'thank']]\n"
     ]
    }
   ],
   "source": [
    "# Remove Stop Words\n",
    "data_words_nostops = remove_stopwords(data_words)\n",
    "\n",
    "# Form Bigrams\n",
    "data_words_bigrams = make_bigrams(data_words_nostops)\n",
    "\n",
    "# Initialize spacy 'en' model, keeping only tagger component (for efficiency)\n",
    "#python3 -m spacy download en\n",
    "#nlp = spacy.load('en', disable=['parser', 'ner'])\n",
    "#nlp = spacy.load(\"en_core_web_sm\")\n",
    "#nlp = load_spacy(\"en_core_web_sm\", exclude=[\"parser\", \"tagger\"])  # Will download the model if it isn't installed yet\n",
    "\n",
    "nlp = load_spacy(\"en_core_web_sm\", disable=['parser', 'ner'])\n",
    "\n",
    "# Do lemmatization keeping only noun, adj, vb, adv\n",
    "data_lemmatized = lemmatization(data_words_bigrams, allowed_postags=['NOUN', 'ADJ', 'VERB', 'ADV'])\n",
    "\n",
    "print(data_lemmatized[:1])"
   ]
  },
  {
   "cell_type": "code",
   "execution_count": null,
   "id": "d50facbb",
   "metadata": {},
   "outputs": [],
   "source": []
  },
  {
   "cell_type": "markdown",
   "id": "a8bcdfb6",
   "metadata": {},
   "source": [
    "# Create the Dictionary and Corpus needed for Topic Modeling\n",
    "\n",
    "The two main inputs to the LDA topic model are the dictionary(id2word) and the corpus. Let’s create them."
   ]
  },
  {
   "cell_type": "code",
   "execution_count": 68,
   "id": "32176fe7",
   "metadata": {},
   "outputs": [
    {
     "name": "stdout",
     "output_type": "stream",
     "text": [
      "[[(0, 1), (1, 1), (2, 1), (3, 2), (4, 1), (5, 2), (6, 1), (7, 1), (8, 2), (9, 2), (10, 1), (11, 1), (12, 1), (13, 1), (14, 1), (15, 1), (16, 1), (17, 1), (18, 1), (19, 1), (20, 1), (21, 1), (22, 1), (23, 1), (24, 1), (25, 2), (26, 1), (27, 2), (28, 3), (29, 1), (30, 1), (31, 1), (32, 1), (33, 1), (34, 1), (35, 1), (36, 1), (37, 1), (38, 1), (39, 2), (40, 1), (41, 1), (42, 1), (43, 1), (44, 1), (45, 1), (46, 2), (47, 1), (48, 2), (49, 1), (50, 1), (51, 1), (52, 1)]]\n"
     ]
    }
   ],
   "source": [
    "# Create Dictionary\n",
    "id2word = corpora.Dictionary(data_lemmatized)\n",
    "\n",
    "# Create Corpus\n",
    "texts = data_lemmatized\n",
    "\n",
    "# Term Document Frequency\n",
    "corpus = [id2word.doc2bow(text) for text in texts]\n",
    "\n",
    "# View\n",
    "print(corpus[:1])"
   ]
  },
  {
   "cell_type": "code",
   "execution_count": 69,
   "id": "1134b71a",
   "metadata": {},
   "outputs": [
    {
     "data": {
      "text/plain": [
       "'ability'"
      ]
     },
     "execution_count": 69,
     "metadata": {},
     "output_type": "execute_result"
    }
   ],
   "source": [
    "id2word[0]"
   ]
  },
  {
   "cell_type": "code",
   "execution_count": 70,
   "id": "50db4454",
   "metadata": {},
   "outputs": [
    {
     "data": {
      "text/plain": [
       "[[('ability', 1),\n",
       "  ('able', 1),\n",
       "  ('access', 1),\n",
       "  ('allow', 2),\n",
       "  ('appear', 1),\n",
       "  ('application', 2),\n",
       "  ('back', 1),\n",
       "  ('begin', 1),\n",
       "  ('boilerplate', 2),\n",
       "  ('cache', 2),\n",
       "  ('catch', 1),\n",
       "  ('cdn', 1),\n",
       "  ('continue', 1),\n",
       "  ('copy', 1),\n",
       "  ('cross_domain', 1),\n",
       "  ('d', 1),\n",
       "  ('define', 1),\n",
       "  ('describe', 1),\n",
       "  ('file', 1),\n",
       "  ('find', 1),\n",
       "  ('however', 1),\n",
       "  ('html', 1),\n",
       "  ('local', 1),\n",
       "  ('look', 1),\n",
       "  ('m', 1),\n",
       "  ('manifest', 2),\n",
       "  ('mostly', 1),\n",
       "  ('noreferr', 2),\n",
       "  ('offline', 3),\n",
       "  ('online', 1),\n",
       "  ('perhaps', 1),\n",
       "  ('point', 1),\n",
       "  ('pull', 1),\n",
       "  ('pursue', 1),\n",
       "  ('relevant', 1),\n",
       "  ('request', 1),\n",
       "  ('resource', 1),\n",
       "  ('route', 1),\n",
       "  ('s', 1),\n",
       "  ('serve', 2),\n",
       "  ('similar', 1),\n",
       "  ('site', 1),\n",
       "  ('stick', 1),\n",
       "  ('switch', 1),\n",
       "  ('thank', 1),\n",
       "  ('try', 1),\n",
       "  ('use', 2),\n",
       "  ('user', 1),\n",
       "  ('ve', 2),\n",
       "  ('web', 1),\n",
       "  ('well', 1),\n",
       "  ('work', 1),\n",
       "  ('worth', 1)]]"
      ]
     },
     "execution_count": 70,
     "metadata": {},
     "output_type": "execute_result"
    }
   ],
   "source": [
    "# Human readable format of corpus (term-frequency)\n",
    "[[(id2word[id], freq) for id, freq in cp] for cp in corpus[:1]]"
   ]
  },
  {
   "cell_type": "markdown",
   "id": "ee8eae57",
   "metadata": {},
   "source": [
    "# Building the Topic Model"
   ]
  },
  {
   "cell_type": "markdown",
   "id": "1d094218",
   "metadata": {},
   "source": [
    "We have everything required to train the LDA model. In addition to the corpus and dictionary, you need to provide the number of topics as well.\n",
    "\n",
    "Apart from that, alpha and eta are hyperparameters that affect sparsity of the topics. According to the Gensim docs, both defaults to 1.0/num_topics prior.\n",
    "\n",
    "chunksize is the number of documents to be used in each training chunk. update_every determines how often the model parameters should be updated and passes is the total number of training passes."
   ]
  },
  {
   "cell_type": "code",
   "execution_count": 71,
   "id": "b31b3bc2",
   "metadata": {},
   "outputs": [],
   "source": [
    "# Build LDA model\n",
    "lda_model = gensim.models.ldamodel.LdaModel(corpus=corpus,\n",
    "                                           id2word=id2word,\n",
    "                                           num_topics=20, \n",
    "                                           random_state=100,\n",
    "                                           update_every=1,\n",
    "                                           chunksize=100,\n",
    "                                           passes=10,\n",
    "                                           alpha='auto',\n",
    "                                           per_word_topics=True)"
   ]
  },
  {
   "cell_type": "markdown",
   "id": "500d540a",
   "metadata": {},
   "source": [
    "# View the topics in LDA model"
   ]
  },
  {
   "cell_type": "markdown",
   "id": "54e83d2e",
   "metadata": {},
   "source": [
    "The above LDA model is built with 20 different topics where each topic is a combination of keywords and each keyword contributes a certain weightage to the topic.\n",
    "\n",
    "\n",
    "You can see the keywords for each topic and the weightage(importance) of each keyword using lda_model.print_topics() as shown next.\n",
    "\n",
    "The weights reflect how important a keyword is to that topic."
   ]
  },
  {
   "cell_type": "code",
   "execution_count": 72,
   "id": "4dd6da71",
   "metadata": {},
   "outputs": [
    {
     "name": "stdout",
     "output_type": "stream",
     "text": [
      "[(0,\n",
      "  '0.169*\"android\" + 0.091*\"self\" + 0.036*\"activity\" + 0.035*\"bar\" + '\n",
      "  '0.034*\"token\" + 0.028*\"view\" + 0.024*\"com\" + 0.023*\"support\" + '\n",
      "  '0.023*\"folder\" + 0.019*\"origin\"'),\n",
      " (1,\n",
      "  '0.120*\"certificate\" + 0.067*\"category\" + 0.032*\"trace\" + 0.025*\"logger\" + '\n",
      "  '0.021*\"technique\" + 0.020*\"openssl\" + 0.016*\"sit\" + 0.015*\"blank\" + '\n",
      "  '0.014*\"keystore\" + 0.014*\"trust\"'),\n",
      " (2,\n",
      "  '0.172*\"com\" + 0.093*\"imgur\" + 0.074*\"png_alt\" + 0.066*\"https_stack\" + '\n",
      "  '0.062*\"description\" + 0.047*\"enter_image\" + 0.044*\"rel_noreferrer\" + '\n",
      "  '0.042*\"png\" + 0.038*\"struct\" + 0.034*\"float\"'),\n",
      " (3,\n",
      "  '0.044*\"user\" + 0.024*\"datum\" + 0.023*\"model\" + 0.021*\"add\" + 0.017*\"com\" + '\n",
      "  '0.015*\"implement\" + 0.014*\"store\" + 0.014*\"form\" + 0.013*\"want\" + '\n",
      "  '0.013*\"link\"'),\n",
      " (4,\n",
      "  '0.067*\"git\" + 0.063*\"authentication\" + 0.048*\"branch\" + 0.047*\"username\" + '\n",
      "  '0.037*\"verify\" + 0.033*\"node_module\" + 0.033*\"br\" + 0.025*\"clone\" + '\n",
      "  '0.023*\"knowledge\" + 0.021*\"master\"'),\n",
      " (5,\n",
      "  '0.120*\"request\" + 0.083*\"thread\" + 0.054*\"response\" + 0.046*\"status\" + '\n",
      "  '0.041*\"sqlite\" + 0.032*\"http\" + 0.032*\"person\" + 0.031*\"password\" + '\n",
      "  '0.025*\"api\" + 0.024*\"proxy\"'),\n",
      " (6,\n",
      "  '0.038*\"file\" + 0.032*\"error\" + 0.031*\"get\" + 0.029*\"try\" + 0.024*\"code\" + '\n",
      "  '0.023*\"run\" + 0.019*\"use\" + 0.018*\"com\" + 0.014*\"blockquote\" + '\n",
      "  '0.014*\"application\"'),\n",
      " (7,\n",
      "  '0.205*\"event\" + 0.058*\"probably\" + 0.047*\"together\" + 0.046*\"assembly\" + '\n",
      "  '0.039*\"guide\" + 0.028*\"await\" + 0.026*\"touch\" + 0.026*\"reach\" + '\n",
      "  '0.023*\"horizontal\" + 0.017*\"hierarchy\"'),\n",
      " (8,\n",
      "  '0.106*\"view\" + 0.046*\"controller\" + 0.040*\"level\" + 0.035*\"product\" + '\n",
      "  '0.034*\"angular\" + 0.032*\"sort\" + 0.022*\"effect\" + 0.022*\"photo\" + '\n",
      "  '0.021*\"notification\" + 0.018*\"mode\"'),\n",
      " (9,\n",
      "  '0.230*\"text\" + 0.079*\"javascript\" + 0.062*\"style\" + 0.045*\"css\" + '\n",
      "  '0.039*\"body\" + 0.031*\"late\" + 0.026*\"chrome\" + 0.025*\"completely\" + '\n",
      "  '0.020*\"alternative\" + 0.019*\"type\"'),\n",
      " (10,\n",
      "  '0.080*\"extension\" + 0.057*\"stream\" + 0.046*\"live\" + 0.019*\"aspx\" + '\n",
      "  '0.007*\"youtube\" + 0.004*\"protection\" + 0.003*\"narrow\" + 0.000*\"sass\" + '\n",
      "  '0.000*\"video\" + 0.000*\"gem\"'),\n",
      " (11,\n",
      "  '0.095*\"system\" + 0.075*\"web\" + 0.059*\"service\" + 0.050*\"database\" + '\n",
      "  '0.048*\"org\" + 0.026*\"filter\" + 0.023*\"session\" + 0.022*\"security\" + '\n",
      "  '0.022*\"spring\" + 0.021*\"internal\"'),\n",
      " (12,\n",
      "  '0.101*\"code\" + 0.057*\"strong\" + 0.025*\"use\" + 0.024*\"m\" + 0.018*\"question\" '\n",
      "  '+ 0.017*\"way\" + 0.016*\"want\" + 0.015*\"need\" + 0.013*\"work\" + 0.012*\"make\"'),\n",
      " (13,\n",
      "  '0.176*\"page\" + 0.095*\"content\" + 0.043*\"click\" + 0.040*\"top\" + '\n",
      "  '0.039*\"button\" + 0.038*\"position\" + 0.030*\"scroll\" + 0.030*\"height\" + '\n",
      "  '0.027*\"break\" + 0.020*\"leave\"'),\n",
      " (14,\n",
      "  '0.100*\"api\" + 0.091*\"net\" + 0.087*\"device\" + 0.064*\"host\" + '\n",
      "  '0.056*\"repository\" + 0.043*\"core\" + 0.030*\"remote\" + 0.027*\"profile\" + '\n",
      "  '0.017*\"regular\" + 0.017*\"flow\"'),\n",
      " (15,\n",
      "  '0.312*\"image\" + 0.065*\"color\" + 0.059*\"size\" + 0.055*\"collection\" + '\n",
      "  '0.039*\"shape\" + 0.018*\"background\" + 0.015*\"png\" + 0.010*\"pixel\" + '\n",
      "  '0.010*\"white\" + 0.008*\"profiling\"'),\n",
      " (16,\n",
      "  '0.176*\"class\" + 0.120*\"public\" + 0.078*\"int\" + 0.064*\"new\" + '\n",
      "  '0.060*\"private\" + 0.057*\"void\" + 0.031*\"static\" + 0.029*\"return\" + '\n",
      "  '0.026*\"method\" + 0.020*\"string\"'),\n",
      " (17,\n",
      "  '0.146*\"code\" + 0.053*\"value\" + 0.045*\"return\" + 0.034*\"function\" + '\n",
      "  '0.033*\"type\" + 0.031*\"name\" + 0.031*\"string\" + 0.031*\"object\" + 0.026*\"pre\" '\n",
      "  '+ 0.024*\"table\"'),\n",
      " (18,\n",
      "  '0.166*\"server\" + 0.072*\"client\" + 0.047*\"memory\" + 0.042*\"connection\" + '\n",
      "  '0.028*\"domain\" + 0.027*\"machine\" + 0.026*\"port\" + 0.025*\"connect\" + '\n",
      "  '0.024*\"implementation\" + 0.024*\"buffer\"'),\n",
      " (19,\n",
      "  '0.148*\"d\" + 0.140*\"i\" + 0.111*\"point\" + 0.039*\"language\" + 0.034*\"parse\" + '\n",
      "  '0.032*\"operation\" + 0.030*\"integer\" + 0.023*\"external\" + 0.023*\"yet\" + '\n",
      "  '0.023*\"equal\"')]\n"
     ]
    }
   ],
   "source": [
    "# Print the Keyword in the 20 topics\n",
    "pprint(lda_model.print_topics())\n",
    "doc_lda = lda_model[corpus]"
   ]
  },
  {
   "cell_type": "markdown",
   "id": "84125b18",
   "metadata": {},
   "source": [
    "# Compute Model Perplexity and Coherence Score"
   ]
  },
  {
   "cell_type": "markdown",
   "id": "c438d280",
   "metadata": {},
   "source": [
    "Model perplexity and topic coherence provide a convenient measure to judge how good a given topic model is. In my experience, topic coherence score, in particular, has been more helpful."
   ]
  },
  {
   "cell_type": "code",
   "execution_count": 86,
   "id": "4c87a920",
   "metadata": {},
   "outputs": [
    {
     "name": "stdout",
     "output_type": "stream",
     "text": [
      "\n",
      "Perplexity:  -12.215059796613783\n",
      "\n",
      "Coherence Score:  0.40853675418920304\n"
     ]
    }
   ],
   "source": [
    "# Compute Perplexity\n",
    "print('\\nPerplexity: ', lda_model.log_perplexity(corpus))  # a measure of how good the model is. lower the better.\n",
    "\n",
    "# Compute Coherence Score\n",
    "coherence_model_lda = CoherenceModel(model=lda_model, texts=data_lemmatized, dictionary=id2word, coherence='c_v')\n",
    "coherence_lda = coherence_model_lda.get_coherence()\n",
    "print('\\nCoherence Score: ', coherence_lda)"
   ]
  },
  {
   "cell_type": "markdown",
   "id": "2e10d812",
   "metadata": {},
   "source": [
    "There you have a coherence score of 0.40."
   ]
  },
  {
   "cell_type": "markdown",
   "id": "134d3c35",
   "metadata": {},
   "source": [
    " # Visualize the topics-keywords"
   ]
  },
  {
   "cell_type": "markdown",
   "id": "72f0d9ff",
   "metadata": {},
   "source": [
    "Now that the LDA model is built, the next step is to examine the produced topics and the associated keywords. There is no better tool than pyLDAvis package’s interactive chart and is designed to work well with jupyter notebooks."
   ]
  },
  {
   "cell_type": "markdown",
   "id": "6f638f7a",
   "metadata": {},
   "source": [
    "Each bubble on the left-hand side plot represents a topic. The larger the bubble, the more prevalent is that topic.\n",
    "\n",
    "A good topic model will have fairly big, non-overlapping bubbles scattered throughout the chart instead of being clustered in one quadrant.\n",
    "\n",
    "A model with too many topics, will typically have many overlaps, small sized bubbles clustered in one region of the chart."
   ]
  },
  {
   "cell_type": "code",
   "execution_count": 75,
   "id": "077afb86",
   "metadata": {},
   "outputs": [
    {
     "data": {
      "text/html": [
       "\n",
       "<link rel=\"stylesheet\" type=\"text/css\" href=\"https://cdn.jsdelivr.net/gh/bmabey/pyLDAvis@3.3.1/pyLDAvis/js/ldavis.v1.0.0.css\">\n",
       "\n",
       "\n",
       "<div id=\"ldavis_el769632647738337763944949643\"></div>\n",
       "<script type=\"text/javascript\">\n",
       "\n",
       "var ldavis_el769632647738337763944949643_data = {\"mdsDat\": {\"x\": [0.36666022746762467, 0.34822516621355504, 0.2741768384942236, 0.2827765575451592, 0.09151842721343481, 0.014304759582615659, -0.021083393118160494, -0.01999603078325616, -0.05160453987304613, -0.08816478300606151, -0.02844448562389979, -0.08802456398368064, -0.09529097798783363, -0.10444470025733969, -0.12856957470216127, -0.12798568839277957, -0.1415214049545242, -0.1507860026071851, -0.1619233332171345, -0.16982249800954982], \"y\": [-0.03548740021892612, -0.13913398763054305, -0.1448787801091899, 0.213356609589613, 0.30195749574409736, -0.01116192297245387, 0.04637783572640276, -0.06764742778891683, 0.05633707586248323, -0.002400137858927857, -0.13691727595311945, -0.020066993469831863, 0.0005130092783560349, 0.020261347145591593, -0.015346878978243902, -0.005087801008682694, -0.010461475355555907, -0.015981271363557186, -0.01596553157745948, -0.0182664890611361], \"topics\": [1, 2, 3, 4, 5, 6, 7, 8, 9, 10, 11, 12, 13, 14, 15, 16, 17, 18, 19, 20], \"cluster\": [1, 1, 1, 1, 1, 1, 1, 1, 1, 1, 1, 1, 1, 1, 1, 1, 1, 1, 1, 1], \"Freq\": [30.283362177247568, 22.727946978345475, 11.10281540258569, 10.606348811702855, 4.147182291581182, 3.4491327720179217, 2.575074485087616, 2.1691365820079205, 1.9221340419488788, 1.7899563862565842, 1.6702902082467523, 1.5739324017232805, 1.4353511978609024, 1.226966400181455, 0.8868920070242037, 0.8392026822340948, 0.6746719238834044, 0.4714694660374268, 0.2665070180113814, 0.1816267660154099]}, \"tinfo\": {\"Term\": [\"code\", \"com\", \"class\", \"strong\", \"public\", \"server\", \"android\", \"image\", \"file\", \"value\", \"text\", \"new\", \"page\", \"return\", \"system\", \"user\", \"error\", \"int\", \"point\", \"request\", \"d\", \"view\", \"type\", \"web\", \"i\", \"function\", \"private\", \"string\", \"rel_noreferrer\", \"get\", \"strong\", \"write\", \"well\", \"think\", \"case\", \"good\", \"understand\", \"answer\", \"thing\", \"bit\", \"difference\", \"mean\", \"many\", \"already\", \"order\", \"variable\", \"similar\", \"ask\", \"single\", \"replace\", \"share\", \"question\", \"std\", \"move\", \"performance\", \"assume\", \"small\", \"approach\", \"quite\", \"really\", \"first\", \"time\", \"take\", \"look\", \"read\", \"like\", \"give\", \"seem\", \"s\", \"say\", \"way\", \"also\", \"possible\", \"m\", \"know\", \"make\", \"need\", \"code\", \"example\", \"want\", \"use\", \"call\", \"find\", \"work\", \"line\", \"ve\", \"see\", \"file\", \"error\", \"build\", \"test\", \"project\", \"window\", \"include\", \"library\", \"log\", \"version\", \"source\", \"header\", \"different\", \"module\", \"instal\", \"package\", \"fail\", \"compile\", \"search\", \"info\", \"site\", \"command\", \"correct\", \"default\", \"fix\", \"run\", \"path\", \"tool\", \"plugin\", \"download\", \"program\", \"message\", \"developer\", \"blockquote\", \"try\", \"application\", \"get\", \"import\", \"require\", \"issue\", \"app\", \"follow\", \"com\", \"use\", \"create\", \"code\", \"work\", \"add\", \"user\", \"model\", \"form\", \"store\", \"io\", \"noreferr\", \"select\", \"lot\", \"display\", \"input\", \"step\", \"iphone\", \"save\", \"title\", \"miss\", \"article\", \"document\", \"container\", \"easy\", \"interface\", \"phone\", \"blog\", \"layer\", \"split\", \"frame\", \"swift\", \"img_src\", \"tag\", \"side\", \"network\", \"state\", \"actually\", \"let\", \"implement\", \"datum\", \"add\", \"link\", \"show\", \"post\", \"option\", \"com\", \"want\", \"false\", \"base\", \"app\", \"value\", \"object\", \"table\", \"key\", \"array\", \"column\", \"map\", \"field\", \"row\", \"const\", \"date\", \"pass\", \"bind\", \"attribute\", \"convert\", \"dataframe\", \"join\", \"validation\", \"datetime\", \"panda\", \"hold\", \"draw\", \"override\", \"unique\", \"format\", \"duplicate\", \"dtype\", \"combination\", \"wrapper\", \"_\", \"property\", \"name\", \"type\", \"perform\", \"null\", \"function\", \"return\", \"string\", \"result\", \"throw\", \"length\", \"true\", \"list\", \"item\", \"code\", \"pre\", \"none\", \"datum\", \"get\", \"reference\", \"set\", \"amp\", \"create\", \"follow\", \"class\", \"public\", \"int\", \"private\", \"void\", \"static\", \"extend\", \"func\", \"println\", \"ref\", \"tostre\", \"foo\", \"partition\", \"ctx\", \"requirement\", \"identity\", \"improve\", \"attachment\", \"pem\", \"fatal\", \"throws_exception\", \"temp\", \"computation\", \"declaration\", \"successful\", \"arraylist\", \"provision\", \"foundation\", \"cgrect\", \"unsure\", \"var\", \"new\", \"delegate\", \"handler\", \"method\", \"return\", \"false\", \"main\", \"string\", \"action\", \"task\", \"implement\", \"java\", \"pre\", \"add\", \"web\", \"service\", \"database\", \"filter\", \"session\", \"security\", \"spring\", \"system\", \"internal\", \"provider\", \"re\", \"initial\", \"engine\", \"pattern\", \"rest\", \"special\", \"worker\", \"dictionary\", \"valid\", \"hibernate\", \"integration\", \"short\", \"localhost\", \"hear\", \"org_springframework\", \"processor\", \"emit\", \"online\", \"term\", \"node\", \"additional\", \"org\", \"java\", \"useful\", \"exception\", \"http\", \"application\", \"net\", \"com\", \"name\", \"server\", \"memory\", \"connection\", \"domain\", \"machine\", \"port\", \"buffer\", \"architecture\", \"client\", \"socket\", \"vector\", \"byte\", \"cache\", \"serve\", \"fetch\", \"lock\", \"minute\", \"apache\", \"pool\", \"optimization\", \"sum\", \"algorithm\", \"curious\", \"listen\", \"protocol\", \"parallel\", \"trouble\", \"font\", \"packet\", \"forward\", \"pointer\", \"implementation\", \"connect\", \"copy\", \"send\", \"process\", \"size\", \"datum\", \"android\", \"self\", \"activity\", \"bar\", \"token\", \"origin\", \"fragment\", \"def\", \"pick\", \"cor\", \"theme\", \"edge\", \"mask\", \"suspect\", \"alpha\", \"callback\", \"http_schema\", \"mainactivity\", \"care\", \"card\", \"layout_height_match_parent\", \"text_align\", \"supply\", \"layout_height_wrap_content\", \"onload\", \"tip\", \"apk_re\", \"anywhere\", \"stuck\", \"dismiss\", \"folder\", \"successfully\", \"layout\", \"permission\", \"support\", \"view\", \"true\", \"import\", \"com\", \"app\", \"bundle\", \"show\", \"request\", \"thread\", \"response\", \"status\", \"sqlite\", \"person\", \"password\", \"proxy\", \"protect\", \"count\", \"console_log\", \"argument\", \"scope\", \"queue\", \"authenticate\", \"wait\", \"initialize\", \"spark\", \"obvious\", \"endpoint\", \"signal\", \"role\", \"parquet\", \"collect\", \"dependent\", \"respond\", \"asynchronous\", \"iteration\", \"channel\", \"ip_address\", \"http\", \"api\", \"post\", \"send\", \"block\", \"return\", \"controller\", \"level\", \"product\", \"angular\", \"sort\", \"effect\", \"photo\", \"notification\", \"believe\", \"child\", \"bootstrap\", \"match\", \"choice\", \"loading\", \"cant_seem\", \"sign\", \"boost\", \"bound\", \"feel\", \"ive_looke\", \"secure\", \"normally\", \"locally\", \"storage\", \"refresh\", \"game\", \"indicate\", \"fairly\", \"advantage\", \"continuous\", \"view\", \"mode\", \"imgur\", \"png_alt\", \"https_stack\", \"description\", \"enter_image\", \"struct\", \"float\", \"job\", \"extract\", \"declare\", \"menu\", \"dialog\", \"encrypt\", \"axis\", \"size_t\", \"compatible\", \"identify\", \"padding\", \"ram\", \"decrypt\", \"kernel\", \"tuple\", \"effectively\", \"encryption\", \"natural\", \"fashion\", \"destination\", \"md\", \"png\", \"activate\", \"com\", \"rel_noreferrer\", \"mode\", \"area\", \"implementation\", \"page\", \"content\", \"click\", \"top\", \"position\", \"scroll\", \"height\", \"bottom\", \"hit\", \"populate\", \"entire\", \"pdf\", \"trigger\", \"hour\", \"automatic\", \"border\", \"middle\", \"accomplish\", \"margin\", \"absolute\", \"scheme\", \"typical\", \"planning\", \"solid\", \"break\", \"generator\", \"button\", \"left\", \"transactional\", \"underscore\", \"welcome\", \"render\", \"leave\", \"screen\", \"right\", \"index\", \"d\", \"i\", \"language\", \"parse\", \"operation\", \"integer\", \"external\", \"yet\", \"equal\", \"coordinate\", \"plot\", \"sense\", \"safe\", \"stuff\", \"raw\", \"nodejs\", \"sys\", \"expensive\", \"colour\", \"compose\", \"minimum\", \"matplotlib\", \"regex\", \"escape\", \"interpret\", \"point\", \"red\", \"fifth\", \"accord\", \"learn\", \"discussion\", \"text\", \"javascript\", \"css\", \"late\", \"chrome\", \"completely\", \"easily\", \"understanding\", \"postgresql\", \"black\", \"practical\", \"ubuntu\", \"reproduce\", \"community\", \"style\", \"convention\", \"useless\", \"entirely\", \"alternative\", \"ch\", \"body\", \"trac\", \"integrity\", \"apparently\", \"useful\", \"var\", \"script\", \"type\", \"stylesheet\", \"bla\", \"render\", \"image\", \"color\", \"collection\", \"shape\", \"pixel\", \"white\", \"profiling\", \"garbage\", \"deep\", \"screenshot\", \"transparent\", \"logo\", \"front\", \"profiler\", \"asarray\", \"size\", \"background\", \"numpy\", \"png\", \"area\", \"ghost\", \"resolution\", \"submatrice\", \"uiimage\", \"resize\", \"alt\", \"qtconsole\", \"ghost_physicsbody\", \"docker\", \"coord\", \"video\", \"scale\", \"host\", \"repository\", \"core\", \"remote\", \"profile\", \"regular\", \"flow\", \"creation\", \"uuid\", \"pm\", \"bluetooth\", \"restful\", \"star\", \"excel\", \"authorization\", \"spreadsheet\", \"traffic\", \"establish\", \"device\", \"net\", \"magically\", \"api\", \"myapp\", \"discover\", \"connection_refuse\", \"announce\", \"ssl\", \"permission\", \"connect\", \"commit\", \"support\", \"event\", \"probably\", \"together\", \"assembly\", \"guide\", \"await\", \"touch\", \"reach\", \"horizontal\", \"hierarchy\", \"reset\", \"workaround\", \"major\", \"intercept\", \"encounter\", \"motionevent\", \"interact\", \"minor\", \"viewgroup\", \"embe\", \"revision\", \"restriction\", \"assemblyinfo\", \"scrollview\", \"fromevent\", \"myclass\", \"oncompletion\", \"zoompos\", \"eventdelegate\", \"reactive\", \"matrix\", \"framework\", \"rail\", \"git\", \"authentication\", \"branch\", \"username\", \"verify\", \"node_module\", \"br\", \"clone\", \"knowledge\", \"prompt\", \"peer\", \"expire\", \"scratch\", \"selenium\", \"closing\", \"ssl\", \"ssl_certificate\", \"webdriver\", \"secure_connection\", \"cygwin\", \"ssl_routine\", \"driver\", \"master\", \"successfully\", \"commit\", \"conflict\", \"chain\", \"squash\", \"opt_local\", \"repo_squash\", \"parentrunner\", \"tree\", \"email\", \"certificate\", \"category\", \"trace\", \"logger\", \"technique\", \"openssl\", \"sit\", \"blank\", \"keystore\", \"trust\", \"self_signe\", \"centos\", \"cert\", \"getname\", \"uikit\", \"tls\", \"cacert\", \"chain\", \"pkcs\", \"validate\", \"issuer\", \"importkeystore\", \"globalsign\", \"key_and_cert\", \"intermediate\", \"ticket\", \"cipher\", \"compression\", \"certificate_verify\", \"psk\", \"deliver\", \"extension\", \"stream\", \"live\", \"aspx\", \"youtube\", \"protection\", \"narrow\", \"sass\", \"webessential\", \"build__aejbvbx\", \"vendor_bundle\", \"mp\", \"webpage\", \"ruby_gem\", \"lib_bundler\", \"videoview\", \"gem\", \"tmp\", \"mimetype\", \"resharper\", \"browserify\", \"transcode\", \"rb\", \"installing\", \"streaming\", \"followsreport\", \"itextsharp\", \"pdfstream\", \"absolutepath\", \"flash\", \"video\", \"warning\", \"hash\", \"face\", \"flask\", \"email\", \"rail\", \"play\"], \"Freq\": [11279.0, 2342.0, 1597.0, 3763.0, 1094.0, 936.0, 806.0, 607.0, 1918.0, 1241.0, 620.0, 1342.0, 609.0, 1324.0, 719.0, 1077.0, 1603.0, 706.0, 520.0, 506.0, 465.0, 549.0, 839.0, 565.0, 442.0, 960.0, 544.0, 895.0, 568.0, 2313.0, 3762.1935355575206, 582.617042156306, 510.7635258828462, 483.80507819872776, 475.7504076144135, 460.86483527881217, 449.4967563520835, 448.5156958002114, 434.3123330304437, 395.1699296323401, 338.40746119666903, 327.59580375014923, 292.7081954801955, 247.96059032456677, 241.71526285594175, 230.65402219605082, 223.09545907987481, 217.60031803494988, 197.33253893419723, 197.03305452743777, 194.5426759916417, 1202.5228514924117, 184.44256630483923, 183.00119428020997, 181.20666702967847, 179.36467957292746, 175.8707926728775, 174.40065407794202, 166.0803793708004, 346.81233619328265, 506.30313165822196, 722.3220916891953, 394.50026488664, 680.1981924064962, 577.9218187863247, 249.19766099273554, 461.10952106855973, 549.6990633430333, 355.8548341166839, 326.2072219353676, 1128.2633252333399, 712.3917851034861, 397.5212182473698, 1596.9699399370572, 811.6106832511103, 816.1729809653908, 969.8545050556326, 6692.893651315134, 630.8689933785245, 1071.9938126114878, 1674.8505316175329, 537.7596080273652, 729.8487365807457, 874.7506168975274, 523.6785109060419, 547.3264238149193, 458.8301334300097, 1917.1684741389547, 1602.1091986468005, 614.3409505069162, 583.5070409710147, 571.9782977579846, 546.9896221992788, 457.66135321385485, 428.595563068521, 408.1876816752162, 404.6451353045125, 403.1350241548946, 392.1437246765626, 390.10975893741977, 379.26647910693805, 330.278909379084, 322.79084978499066, 319.75986748002055, 319.30010913155115, 275.5216344211827, 266.24140775129206, 264.4731724123868, 264.9944529488159, 270.7627436091437, 287.1746046831763, 215.7127222883312, 1131.2860394530483, 200.76920777269308, 190.32737587167406, 187.84441178979623, 180.59435934840718, 284.0503767250641, 440.41654247177667, 276.766409394911, 714.3167089598577, 1429.1164123150506, 679.2283302600512, 1568.5246235070433, 438.45117176919047, 386.77118888231865, 336.1047799838912, 540.8628192789218, 580.7490010528843, 894.3902283755189, 935.60374033962, 604.1058197074346, 1197.7996642107962, 568.4476244970567, 464.4286547514176, 1076.2806326794657, 569.7345518243395, 338.1376681217013, 338.6738625412306, 280.688761240889, 276.9863099999788, 258.61998586067705, 241.97151843916166, 295.7131481933476, 233.45090743053908, 225.89715016395118, 220.98580322276106, 220.2430246437934, 213.2358838973426, 207.9524226509742, 193.36927571881196, 201.9606663846056, 192.6906836855439, 180.58570836724525, 176.5801212674619, 174.00510341653762, 163.2454626895189, 156.4902762252609, 156.20710095472566, 153.44864280473445, 134.36010107842495, 130.6901735884331, 127.19886051179208, 126.09815074716887, 121.71868211645202, 214.28421127804154, 188.18118802137488, 307.4690057980264, 360.1107187735049, 584.1287868546157, 514.3862646345041, 311.9235248814894, 298.75957351447954, 240.4342359427752, 252.74575010703128, 410.7908111606776, 323.9799694617406, 235.40038400596285, 212.9509753861628, 222.69416676629814, 1240.8737894986905, 713.5603256873285, 559.2850962156307, 466.93144282607074, 388.3653481319487, 376.86682035146487, 313.823930789354, 276.8126860232048, 219.41196764173685, 214.58649741178303, 198.29920700754582, 170.60392415108925, 163.76464347814198, 146.83552187810764, 135.34066269388026, 127.96428437844018, 123.886731624821, 106.59135642093972, 99.93463981538692, 96.5104218499561, 89.46796154658023, 88.101458139224, 84.91244156328642, 65.95446719342533, 308.5069335919398, 49.407204258600274, 46.386515648654814, 44.50117100554519, 41.44289822215214, 38.99729995177154, 263.6422739570124, 716.163752054917, 768.1533234235392, 127.64319022054684, 237.84745382322382, 780.8684399684856, 1035.4064267732585, 715.6417508483469, 521.2227282801855, 151.1314913817104, 166.89736495754215, 345.8007576661983, 406.0440429464511, 184.36178777830364, 3383.307511469477, 609.5248662099111, 168.8236377158199, 469.1041608426042, 485.65794933360223, 215.09756858230884, 274.6493613445788, 218.22228191648838, 235.95404692580425, 208.0878875652482, 1596.7283615630488, 1093.6940147846267, 705.2679217082556, 543.0398688928427, 518.8060813318726, 279.9297715741599, 153.98682981875274, 127.09907072925188, 104.94927224638802, 76.67342550412616, 57.990719124383766, 53.3006202532574, 47.772888117785904, 44.966525771230124, 40.81909122087972, 34.553642641911175, 30.775178446276406, 30.08036449914063, 25.176650209944825, 24.886471248216168, 22.50914655957126, 21.294651318485265, 20.483697237447938, 17.113852978985584, 14.949200098913261, 14.757856826972393, 14.542224073353077, 14.456635941557503, 13.279644946538578, 11.797643818102838, 74.84851858867981, 578.7762477575501, 77.14294527888171, 63.14602594032268, 237.92420354395827, 262.0612944043811, 135.39545468286693, 128.53870569542377, 179.29985275815602, 65.6895824634239, 64.77336726201149, 87.34499727286185, 41.78986651580058, 57.709959331892726, 47.97940319174899, 564.5482860411653, 447.01464482195456, 375.4957836899208, 195.03175367344267, 170.98293314499367, 165.29411454648013, 162.942513215773, 715.1465498149879, 157.71424557794157, 121.73589247805766, 113.75051991050671, 92.00872649700545, 86.6215950309875, 84.0795837430818, 75.27454673995923, 69.42609008876316, 63.29014980537189, 61.13689071374569, 58.84640033019329, 58.40818574622247, 58.40488825370972, 58.39243379692996, 58.31386056818688, 56.15409095238929, 52.320166439934916, 49.66206018884538, 44.68711880612396, 44.3157127577584, 43.88254470982097, 43.42832831319754, 81.10928554076608, 360.89737258929443, 149.7210955734075, 88.65889640831782, 112.3376235508423, 105.23359295758068, 110.24364190199606, 73.85363363755837, 87.48216667356898, 62.68533266745626, 935.1418199611837, 267.46507209490306, 235.37306958197604, 160.69338762171594, 155.07772543016952, 148.22236728445802, 134.88780879016343, 110.46566502183185, 406.98798108545066, 104.89328115529032, 104.1515591869695, 103.79449724135483, 97.29435136053897, 86.48132806822919, 73.31864274710848, 59.543397821511086, 54.98113405421252, 50.78256375828823, 48.30564159409988, 47.447216332914365, 44.0875340455811, 44.030905965273284, 41.51021152725168, 40.96445061964994, 40.42945937293911, 36.76645834895034, 34.13317773409625, 30.144935053111947, 26.698446513967333, 25.156038749632646, 103.45342032059021, 138.00165169466175, 138.29623436826228, 84.11052082574419, 89.98171220480127, 61.59009581096346, 55.17592855493269, 51.642970069562, 805.1669366392498, 433.3480143341222, 173.3230298769357, 168.05721839575025, 161.49792266305255, 92.40665303188983, 83.64910688527621, 79.20856332148328, 75.96716845253903, 63.12343464438015, 55.1162616319971, 50.85672264699015, 45.42614264284839, 39.595526230416915, 32.535960347271654, 29.134057370784415, 28.599413967461896, 27.685755156159136, 27.52976640875849, 25.426320750502306, 23.621236963347286, 22.792839577178427, 20.33087276898218, 20.2611258955612, 19.364156846664596, 17.524711979250092, 17.493506926200684, 16.124426306235048, 15.447272560637662, 13.677658668350997, 107.74984087747656, 67.84730357936873, 67.37902970197591, 30.408213722138456, 108.69220492925244, 131.9860937042683, 84.32081393875299, 74.0825775675616, 115.57534535023, 75.29785165809933, 37.06997410542862, 32.00366736533561, 505.2074243588697, 351.2756933492936, 227.53823228482315, 192.71963546839942, 171.54824794915257, 134.56281131219487, 132.20383837524292, 102.1754530814428, 92.48747879390868, 89.55353424848286, 87.7081165322685, 80.47369908600824, 77.89060222548684, 67.78405670274468, 66.57836099280404, 63.632429700608384, 55.28588847861596, 45.29569990709337, 41.82007286308754, 38.77955766656999, 28.663578856530222, 27.553639837980906, 26.881032725385765, 23.95438770081684, 22.5280570107792, 21.68553305588395, 18.60585893057825, 16.705836013069312, 11.24158081174963, 10.308733621275524, 135.93909066644835, 105.9017466914891, 77.68002614986997, 63.178408132512324, 31.3428266061034, 26.069466034522225, 181.31343817627857, 158.22690374923837, 139.05607145191237, 135.0693035765631, 127.04924781474158, 86.47994092866496, 86.47288402999271, 81.6111922142928, 70.27929591814579, 69.85029346004339, 67.7792617211398, 66.90354150547313, 61.31332352311983, 59.43674002480441, 50.62295118375357, 47.15025207767525, 45.07970248712814, 44.58435349306174, 44.48140020839529, 43.949678234526566, 43.80415709420473, 42.16765060366876, 41.59838680549713, 40.56368547455667, 37.63174131875309, 37.42468416811494, 36.17780103392912, 36.076597363374475, 34.9347750865952, 33.2825038058577, 416.94030428868086, 72.12375445589066, 341.6959759903513, 269.0536494195693, 241.35174732410815, 226.7603457612311, 171.63209386936282, 137.86155151610436, 123.43739551517356, 83.08090644313084, 59.58885613403398, 48.62861721688375, 39.59841348962584, 33.78660635288046, 26.788658774705183, 17.315009581964, 16.988126106523893, 15.62258558953599, 15.591396616792261, 15.365196892006592, 14.306404463705764, 14.0295970049104, 13.962476208696433, 10.631420297261712, 10.24888203340065, 9.007595513913373, 7.231518064510406, 6.5688670026574085, 5.995135870814794, 5.4275620942272536, 152.37367265648876, 4.884884875509226, 628.6562029406214, 160.43064954986784, 13.93272986014961, 10.201779884710547, 10.199309614452526, 608.08107871273, 326.67737871156083, 146.58218038580978, 138.3842178677229, 129.632859797981, 104.36885294779233, 103.52395958141237, 68.11065261935845, 61.437530914409955, 48.46479898964716, 43.78945128524332, 39.70989507725275, 35.21712615131311, 32.88684268311791, 28.816848045395936, 24.18460930845764, 22.741199221488074, 22.563950448351623, 22.23245591392407, 20.07483314257084, 19.051741912018354, 17.203408799025542, 15.569840052559236, 12.490545501231644, 91.56735888627091, 10.66105208619078, 135.60294111353383, 8.93001361740896, 5.717460903352597, 5.504002540692555, 18.669174717320093, 49.54750791160893, 68.88759042519334, 32.554651185053046, 33.96179828609132, 19.123917796155276, 464.94187520247993, 441.5327175384506, 122.25624722101284, 106.72398858927914, 100.38163881061016, 95.28933075910965, 73.48311498921183, 73.40828436053438, 72.56380659802824, 53.5555791510099, 42.86314696000503, 39.3615667850384, 33.146960399531665, 66.92685294838648, 26.111867862584106, 25.431936642188536, 25.037022597906333, 21.879265553803222, 13.810477568300065, 13.346998071273608, 12.649872033058607, 9.190294019327084, 7.934579510724019, 4.901447550793973, 4.448943461606993, 348.4401583923571, 13.249073576469378, 0.3798180073118813, 8.861732552418623, 14.882613488546703, 3.4238271155798223, 619.5691742419431, 212.29822776635277, 120.62571656340111, 82.10125339039321, 70.94926616389205, 66.73270745813767, 44.47745665529206, 43.94684959524548, 34.410487029975506, 31.808466342894864, 24.235111038737365, 24.2006264121388, 15.65105797448473, 15.399942140433327, 167.28996374823856, 9.988220589102351, 7.386273763670195, 6.947996893967436, 54.315077098799605, 3.8814997341398563, 103.54138206320738, 2.4051576422243035, 1.792801072980152, 13.230303787938205, 19.07474693668082, 11.140248231960577, 32.686430964975784, 50.00857743924622, 0.05380604456464176, 0.05380525235151574, 0.053823683532206956, 606.3949878684689, 127.1275668750269, 106.62201789989258, 75.41765378022858, 19.44821312333134, 18.505453268505434, 15.751707464113442, 14.080086597115436, 13.376018290171569, 10.025720073389595, 8.365600603699816, 7.287508394638177, 5.384057907042814, 2.0700743794840655, 1.0466557728056836, 114.24547342277475, 34.84806832074381, 2.630462996277977, 29.82555018700175, 5.578997994778861, 0.04885343073092096, 0.04885023880472809, 0.04884972272363821, 0.048849390452251576, 0.04884878600111206, 0.048849595470766734, 0.04884824517640828, 0.04884803308828915, 0.04884845019492344, 0.048850542797698834, 0.048851143714036364, 0.048849454078687314, 117.62174362217681, 103.23595676496966, 78.75200940930752, 55.02706364076983, 49.99627291653373, 31.64982434734958, 31.525441877389326, 26.870341629008912, 23.870196792013413, 23.67089234467733, 19.39666289173116, 13.410052686432229, 12.974732879097083, 9.921420838202184, 9.887723929657632, 9.673946268794882, 3.2615593895133506, 2.957775174412717, 159.59424437476724, 166.82542935569361, 1.9171009883391552, 184.28810341725952, 1.640989205582283, 15.743213824539508, 0.4808259179536759, 0.3281245995320019, 1.4010902113702433, 7.133994479372131, 25.392260309310515, 0.04364632304307597, 2.8571159993687454, 302.5797561732938, 85.22632307567562, 69.84202855055257, 68.52539832927874, 57.498927242677304, 41.34183484637932, 38.34574415258471, 38.002780489049265, 34.13067378035775, 25.447567905888977, 23.2221686467344, 15.045122447350435, 13.591810653323721, 13.009207480179501, 6.430123310754228, 4.5393896631056885, 4.042125393121021, 3.505833535114712, 3.393873679772905, 3.0852717784965025, 1.6694252987280456, 0.634914691682192, 0.46306608353661055, 0.042099063221652674, 0.04209116569803262, 0.042089307615355925, 0.042087108032679316, 0.04208597866260086, 0.042085093989372734, 0.04208408562323126, 0.04208690098149826, 0.04209009817441084, 0.04208599210748275, 69.53694335680294, 64.83041392094478, 49.82681439765229, 48.169579110346206, 37.765039181763726, 33.85211868280058, 33.65481612297015, 25.881769116871947, 23.481321344176813, 20.18842093570499, 18.976685584688855, 17.1056074031953, 8.46587843349861, 8.462457224274923, 7.27531349822, 4.8005044538409365, 1.6228080466123334, 1.4410179430724825, 0.708347190891961, 0.6596680786616657, 0.576546572744009, 8.854980370718657, 22.115521899283845, 8.91800143061417, 0.03477436150270301, 0.034762823881081185, 0.03476171521711427, 0.03475909576360599, 0.03475664167014702, 0.034756724350171665, 0.034759306221850556, 0.03475785556323622, 0.034757957034175564, 70.18822249887626, 38.94402724072339, 18.589942789893694, 14.641322689596567, 12.058960543783307, 11.599587854878209, 9.53011356505538, 8.78194377149294, 8.166815200206667, 8.04957205204141, 5.528354092681719, 4.634908801129697, 3.2964409147387244, 3.0565077661496916, 2.0014549853482753, 0.9777148749852694, 0.3214745472731533, 0.024508007608423487, 0.024494413676049025, 0.024492047112419528, 0.024489742155922218, 0.024486991078812522, 0.024486496097371163, 0.024486496097371163, 0.024486523714361455, 0.02448507913333088, 0.024484692495466816, 0.02448455016174763, 0.024484369589118808, 0.024484369589118808, 0.024484378086654282, 31.76847806707966, 22.857735721949144, 18.486210643756127, 7.604914589668383, 2.946316227354869, 1.723693185746946, 1.2745335379817881, 0.020949217417091305, 0.020947548120515868, 0.02094780872188931, 0.02094780872188931, 0.020947498895811996, 0.02094780872188931, 0.02094783188645584, 0.020947520612593116, 0.020947239742223962, 0.02094815184703101, 0.02094742505875619, 0.020947283175786202, 0.020947113784893466, 0.020947203547588764, 0.020946837257880536, 0.02094741781982915, 0.020946903856009304, 0.020946873452515738, 0.02094676342082473, 0.02094676342082473, 0.02094676342082473, 0.02094674749518524, 0.02094700230541705, 0.020948192385022435, 0.02094735990841283, 0.020947260011219677, 0.020947238294438557, 0.020947015335485722, 0.020947522060378525, 0.020947238294438557, 0.02094703994783766], \"Total\": [11279.0, 2342.0, 1597.0, 3763.0, 1094.0, 936.0, 806.0, 607.0, 1918.0, 1241.0, 620.0, 1342.0, 609.0, 1324.0, 719.0, 1077.0, 1603.0, 706.0, 520.0, 506.0, 465.0, 549.0, 839.0, 565.0, 442.0, 960.0, 544.0, 895.0, 568.0, 2313.0, 3763.165078514882, 583.5885851136678, 511.73508521134283, 484.7766211617512, 476.72195058532407, 461.8364037969157, 450.4682993094454, 449.4872387575733, 435.28387598780563, 396.1414727337225, 339.37900415403095, 328.56734670751115, 293.67973846521454, 248.93213328880216, 242.68680583542942, 231.62556515341277, 224.06700203723676, 218.57186099231183, 198.30408189155918, 198.00459751383423, 195.51421896019662, 1208.765338095957, 185.41410928828475, 183.972737243845, 182.17820998704042, 180.3362225302894, 176.84233563023946, 175.3722002545967, 167.05192232816233, 348.84610500805564, 509.55331084595315, 729.6497190297328, 397.28447087908796, 696.721751342044, 591.9204255414927, 251.67795182427213, 472.23115894126386, 567.6006040165893, 362.9171839116934, 333.4151637783921, 1232.3126657674466, 768.0328224846886, 416.89399757440077, 1928.6509043145163, 920.9670174819202, 965.1691271780518, 1178.8708408701782, 11279.078104007094, 728.7521822564129, 1434.3132634438527, 2901.5368098558383, 655.7458841455799, 1114.6904929451393, 1634.2150449668006, 665.0275925807147, 898.4813646104257, 655.5192677202751, 1918.1410271031152, 1603.094446961329, 615.3135034710765, 584.4795939427187, 572.9508507221449, 547.962175163439, 458.6339061780152, 429.56811603268136, 409.16023465823685, 405.61768826867285, 404.1075771223835, 393.1162776528179, 391.0850215564654, 380.2390320710984, 331.2514623432443, 323.7634106370508, 320.7324204441809, 320.2726620957115, 276.4942529050258, 267.2139607154524, 265.4457253883517, 265.97387351281634, 271.8572634086519, 288.4260189714003, 216.68527525249155, 1136.669263625773, 201.74176073685342, 191.2999288358344, 188.81696475395657, 181.56691231256752, 285.98167613911124, 446.70207460231006, 280.14649211832136, 740.3248083756913, 1667.848163184843, 826.2448727212342, 2313.426469667079, 513.4486404155865, 436.45206119645684, 366.95802496156057, 839.7060066754123, 950.9535377863718, 2342.011104229019, 2901.5368098558383, 1234.8680526300038, 11279.078104007094, 1634.2150449668006, 1047.1913541537372, 1077.253430136987, 570.7073492192471, 339.11046551660894, 339.66884293486527, 281.6615586357966, 277.9591073948864, 259.59278326086877, 242.9443158416129, 296.9223250291465, 234.42370482544672, 226.86994755885883, 221.9586006176687, 221.21582203870105, 214.20868129225025, 208.92522004588184, 194.3420731137196, 202.97746963297405, 193.67357629828118, 181.5585057621529, 177.55291868800066, 174.97790084387498, 164.21826010096024, 157.46307362016856, 157.1798983776737, 154.42251408025652, 135.33289848725863, 131.66297101125028, 128.17165790669966, 127.07094814207647, 122.69147951470434, 226.79062269218622, 203.7077536993776, 367.31954606725674, 448.3691734031814, 1117.8058552911714, 1047.1913541537372, 476.5156009231356, 454.763994305367, 319.031100683535, 401.9655849588037, 2342.011104229019, 1434.3132634438527, 484.02302440087726, 379.0494795788092, 839.7060066754123, 1241.846192369167, 714.532728557805, 560.2574990861071, 467.9038509978162, 389.33775101482183, 377.8392232219412, 314.79633365983034, 277.82102382817516, 220.38437051221328, 215.55890028225946, 199.27160987802225, 171.57632702156567, 164.7370463486184, 147.80792474858407, 136.3130655643567, 128.9366872489166, 124.85913449529737, 107.56375929141609, 100.90704268586329, 97.48282472043248, 90.4403644246452, 89.07386101874967, 85.8848444337628, 66.92687007077514, 314.3306531081784, 50.37960715235367, 47.35891851913118, 45.47357389255525, 42.41530111960002, 39.969702835512244, 273.86394794130456, 779.7553485641768, 839.1143343976527, 134.80209375187826, 267.4557026119827, 960.2297731203489, 1324.3942912405275, 895.8546664388863, 683.1165385245977, 166.85622927205262, 189.7802465134216, 466.80388653075556, 608.4425438427176, 217.53826111775325, 11279.078104007094, 1209.391461528844, 196.17334228546972, 1117.8058552911714, 2313.426469667079, 365.14032220015264, 977.2685941110492, 572.6198665806777, 1234.8680526300038, 950.9535377863718, 1597.7114506384642, 1094.671173796388, 706.2450807200166, 544.0170279046038, 519.7832403436337, 280.9069305859209, 155.1351705331102, 128.07622974101292, 105.92643125814908, 77.65058453747055, 58.96787813614481, 54.277779265018445, 48.75004721455068, 45.94368481974063, 41.79625027432788, 35.530801717644394, 31.75233752270671, 31.05752358292049, 26.15380942143708, 25.863630336882665, 23.486305578205762, 22.271810354019642, 21.460856295652967, 18.091011996030733, 15.926359123209295, 15.735015851561133, 15.519383165916578, 15.433795065268004, 14.256804042340725, 12.774802877443229, 86.91213421394002, 1342.8973209378694, 129.74105524788936, 106.81670817900009, 667.036271815468, 1324.3942912405275, 484.02302440087726, 455.81707112363057, 895.8546664388863, 164.11849964458136, 166.80016287192615, 448.3691734031814, 192.4219785056562, 1209.391461528844, 1047.1913541537372, 565.5186424957064, 447.98500127649567, 376.4661401444619, 196.00211013563504, 171.9532906797173, 166.2644710010213, 163.91286967031417, 719.536922084442, 158.6846020454507, 122.7062489325988, 114.72087636504784, 92.97908300770725, 87.59195148552864, 85.04994023747881, 76.24490319450037, 70.39644656174012, 64.26050626643244, 62.107247179291655, 59.81675679908474, 59.3785422007636, 59.37524473188746, 59.36279027441326, 59.28421702272801, 57.124447406930415, 53.29052289447604, 50.63241664910725, 45.65747533813942, 45.28606921229952, 44.852901164362095, 44.398684767738665, 83.48126465362537, 421.5190668083369, 192.4219785056562, 108.6502082160525, 214.75490176594488, 372.8272653110846, 826.2448727212342, 241.60578593172553, 2342.011104229019, 779.7553485641768, 936.1229872991898, 268.44623925419967, 236.35423674127267, 161.67459452325366, 156.05889259888588, 149.20353444375465, 135.86897594946007, 111.44683218112847, 410.7095004604447, 105.87444831458694, 105.13272634626611, 104.77566440065145, 98.27551851983559, 87.46249523379888, 74.2998099608197, 60.52456498413625, 55.96230123887179, 51.76373091758483, 49.286808753396485, 48.42838350503865, 45.068701204877705, 45.012073132113485, 42.491378699375964, 41.94561777894654, 41.41062653910915, 37.7476255125696, 35.11434492905954, 31.126102217298765, 27.679613707500593, 26.13720593435113, 110.26852475830627, 149.13641855262037, 164.62602832633328, 141.4552700587024, 264.88868206084544, 285.93719177493705, 322.2434676607237, 1117.8058552911714, 806.1457514150856, 434.32682910995794, 174.30184466457072, 169.036033171586, 162.47673744959215, 93.38546781531416, 84.62792166111194, 80.18737809731901, 76.94598328568902, 64.10224942404632, 56.095076432344754, 51.835537428546616, 46.40495742421554, 40.574341099514214, 33.51477513569149, 30.11287214662015, 29.57822874329763, 28.664569940259387, 28.50858123013181, 26.40513552633804, 24.60005173918302, 23.771654419910156, 21.309687595032113, 21.239940671396933, 20.342971707339302, 18.50352680501869, 18.472321710300935, 17.103241180636182, 16.42608744041825, 14.656473444186725, 118.37402746175611, 77.70936942852016, 83.48633369774203, 38.47738946127874, 326.2942137497819, 549.8454712458221, 466.80388653075556, 513.4486404155865, 2342.011104229019, 839.7060066754123, 192.94351167975438, 454.763994305367, 506.187964604706, 352.2562335951299, 228.51877253065948, 193.70017571423574, 172.5287882018623, 135.5433515580312, 133.18437862107925, 103.15599332727909, 93.4680190480095, 90.53407449431916, 88.6886567781048, 81.45423934400206, 78.87114247132314, 68.76459694858097, 67.55890123864033, 64.61296994644468, 56.26642876574683, 46.27624015821375, 42.80061314961872, 39.76009791240628, 29.644119109229884, 28.53418008381721, 27.861572987378317, 24.93492795419674, 23.50859729325595, 22.666073341151247, 19.586399176414552, 17.68637627917611, 12.222121057585927, 11.28927386711182, 372.8272653110846, 291.1272163633965, 319.031100683535, 264.88868206084544, 95.06074868451027, 1324.3942912405275, 182.29019570316976, 159.20366128700172, 140.03282897880356, 136.04606122219778, 128.02600540063622, 87.4566984651578, 87.44964156041873, 82.58794974885139, 71.25605345375764, 70.8270509869346, 68.75601924803101, 67.88029903789577, 62.290081074090885, 60.41349758271025, 51.599708725782726, 48.12700961211004, 46.05646001401933, 45.56111104239114, 45.45815775224981, 44.926435780875245, 44.78091467607383, 43.14440816243808, 42.575144365551054, 41.54044300144786, 38.60849886297504, 38.401441695006135, 37.154558569869614, 37.05335494376428, 35.91153261348639, 34.25926136737007, 549.8454712458221, 86.98753192933421, 342.6867651113398, 270.0444385405578, 242.34253644509667, 227.75113488221962, 172.62288299035134, 138.852340650489, 124.42818464442662, 84.07169559355982, 60.579645255022506, 49.61940635142088, 40.58920261493702, 34.777395473868985, 27.779447895693718, 18.305798702952533, 17.97891524106104, 16.613374710524525, 16.582185751045138, 16.355986058639505, 15.297193634325458, 15.020386148926466, 14.953265329684964, 11.622209418250243, 11.239671221436263, 9.998384640185995, 8.222307392695166, 7.559656170264823, 6.9859250321904955, 6.4183515899761545, 183.1411706722581, 5.875674022179255, 2342.011104229019, 568.0007404078893, 86.98753192933421, 71.14452558423433, 149.13641855262037, 609.0604352631592, 327.65673526199, 147.56153693623892, 139.36357441815204, 130.61221636000323, 105.34820949822148, 104.5033163454312, 69.09000916978759, 62.416887475803584, 49.44415559363961, 44.76881046660246, 40.689251627681884, 36.19648270557268, 33.86619923737748, 29.796204636992062, 25.163965858886794, 23.720555796232098, 23.543307002611208, 23.211812481259987, 21.054189710056242, 20.03109847824038, 18.18276537088024, 16.549196653494228, 13.469902081272057, 99.83426092967262, 11.64040866538653, 148.9338379428123, 9.909370167838105, 6.696817523476288, 6.483359099386218, 27.761778334830385, 118.70652439697481, 203.05041306443107, 174.8438124941464, 240.5227445748139, 313.81227456928315, 465.92414893175214, 442.5149912677228, 123.23852095028501, 107.70626231855131, 101.36391254742591, 96.27160448838181, 74.46538873101898, 74.39055812031604, 73.5460803325845, 54.53785288361061, 43.84542069260574, 40.34384055039946, 34.12923416668617, 69.27667726719724, 27.094141606000356, 26.414210377122245, 26.019296331501163, 22.861539294449422, 14.79275129757223, 14.329271864053423, 13.63214577349405, 10.17256777349376, 8.916853244886388, 5.883721280066139, 5.431217190879159, 520.0667891771768, 25.406019949280335, 1.3620917365840468, 44.40277877963645, 84.27188399876837, 24.401689811238306, 620.5518816733356, 213.28093519774544, 121.60842399479378, 83.08396082178588, 71.93197359528472, 67.71541492297857, 45.46016408668471, 44.92955709195293, 35.393194473962346, 32.791173786871624, 25.217818500111825, 25.183333843531464, 16.633765545059656, 16.382649571825993, 180.33389900600704, 10.970928031198891, 8.368981206655935, 7.930704344207094, 64.0063714087982, 4.86420716553252, 136.26575527390156, 3.3878650736169678, 2.7755085043728163, 23.06277576635464, 108.6502082160525, 86.91213421394002, 320.92088293110953, 839.1143343976527, 1.0365346233686314, 1.0365219716018748, 118.70652439697481, 607.382645626102, 128.1152246326601, 107.60967565752577, 76.40531153786176, 20.435870880964522, 19.493111026138617, 16.739365339580278, 15.067744377076142, 14.36367604780475, 11.013377834351335, 9.353258367606072, 8.275166152271359, 6.371715664675995, 3.057732137117248, 2.0343135304388653, 322.2434676607237, 119.4026661348256, 16.071825291645737, 183.1411706722581, 71.14452558423433, 1.0365342101470905, 1.0365391231668741, 1.0365294524253152, 1.036524496821765, 1.0365145040797226, 1.0365378840744668, 1.0365170806304682, 1.0365185831988983, 1.036528428921424, 1.0365733318487582, 1.0366048324954473, 1.0365761107721165, 118.61460915596332, 104.22882230251435, 79.74487494309403, 56.019929174556346, 50.98913845032024, 32.64268991161093, 32.5183074145044, 27.863207209011907, 24.863062329630367, 24.663757903532694, 20.389528449377757, 14.40291830454268, 13.967598454337782, 10.914286396839087, 10.880589463444148, 10.666811802581398, 4.254424923299867, 3.9506407081992334, 216.72398149032787, 241.60578593172553, 2.909966525956106, 291.1272163633965, 2.6338547465028603, 34.54747460847229, 1.4736914517401922, 1.3209901333185183, 7.159709788394862, 38.47738946127874, 164.62602832633328, 1.0366203856495113, 326.2942137497819, 303.57417616591044, 86.22074308149745, 70.8364485500427, 69.51981832189543, 58.493347235293975, 42.33625483899599, 39.34016414520138, 38.99720050300548, 35.12509377869517, 26.44198798373663, 24.216588648770802, 16.039542439967114, 14.586230688030817, 14.003627513128867, 7.424543303370906, 5.533809655722367, 5.036545415958267, 4.500253612625618, 4.388293741229708, 4.079691896893139, 2.6638453013289265, 1.6293346842988707, 1.4574860761532895, 1.0365860612422906, 1.0365292573995675, 1.0365439699799865, 1.0365190375519342, 1.0365116039060507, 1.0365140539061672, 1.0365140401320454, 1.0365921702026808, 1.0367556182044153, 1.0366418924050054, 70.53869199605418, 65.83216256402646, 50.82856303690354, 49.17132774959745, 38.76678782313936, 34.853867322051826, 34.6565647622214, 26.883517787365196, 24.4830700068874, 21.19016957495624, 19.978434285195114, 18.107356046276987, 9.467627083945963, 9.464205863526173, 8.277062153888863, 7.159709788394862, 2.624556692236735, 2.4427665823237326, 1.710095830143211, 1.6614167179129156, 1.5782952119952591, 38.81060458261644, 112.74924243484509, 77.70936942852016, 1.0366203856495113, 1.0365535209283283, 1.03660808480401, 1.0365327309141854, 1.036517037448947, 1.036523345153078, 1.0366069603596262, 1.0365960031518746, 1.0366583093339512, 71.20024145977472, 39.95604620162185, 19.60196175984146, 15.653341657629088, 13.070979533090917, 12.611606819534853, 10.5421325292824, 9.793962732391401, 9.178834161105128, 9.06159105661729, 6.54037305358018, 5.646927762028158, 4.308459875637185, 4.068526777580686, 3.0134739806139317, 1.9897338358837302, 1.3334935081716142, 1.03660808480401, 1.0365466154773506, 1.0365710337722052, 1.0365275749169822, 1.036520725755304, 1.036518228859478, 1.036518228859478, 1.0365287132518521, 1.036535502943776, 1.036522248662944, 1.03651814873759, 1.03651199930784, 1.0365121744383528, 1.0365168616257474, 32.78403093697044, 23.873288591839923, 19.501763513646907, 8.620467459559162, 3.9618690972456485, 2.739246055637725, 2.2900864168626667, 1.0365178787308902, 1.0365026172626115, 1.0365161582662001, 1.0365161582662001, 1.0365049253217276, 1.0365229756257592, 1.036528021434247, 1.0365131332714546, 1.0365028052615917, 1.0365479404132791, 1.0365121323909414, 1.0365128386466875, 1.0365074042189841, 1.0365158676740125, 1.036500900125126, 1.0365298514694823, 1.036506098441715, 1.0365066144250523, 1.0365017732463127, 1.0365017732463127, 1.0365017732463127, 1.0365024421632025, 1.0365152385957606, 1.0366048324954473, 1.0365588057956039, 1.0365552995514176, 1.0365552787093557, 1.0365399201090573, 1.0366583093339512, 1.0366418924050054, 1.0366020631744948], \"Category\": [\"Default\", \"Default\", \"Default\", \"Default\", \"Default\", \"Default\", \"Default\", \"Default\", \"Default\", \"Default\", \"Default\", \"Default\", \"Default\", \"Default\", \"Default\", \"Default\", \"Default\", \"Default\", \"Default\", \"Default\", \"Default\", \"Default\", \"Default\", \"Default\", \"Default\", \"Default\", \"Default\", \"Default\", \"Default\", \"Default\", \"Topic1\", \"Topic1\", \"Topic1\", \"Topic1\", \"Topic1\", \"Topic1\", \"Topic1\", \"Topic1\", \"Topic1\", \"Topic1\", \"Topic1\", \"Topic1\", \"Topic1\", \"Topic1\", \"Topic1\", \"Topic1\", \"Topic1\", \"Topic1\", \"Topic1\", \"Topic1\", \"Topic1\", \"Topic1\", \"Topic1\", \"Topic1\", \"Topic1\", \"Topic1\", \"Topic1\", \"Topic1\", \"Topic1\", \"Topic1\", \"Topic1\", \"Topic1\", \"Topic1\", \"Topic1\", \"Topic1\", \"Topic1\", \"Topic1\", \"Topic1\", \"Topic1\", \"Topic1\", \"Topic1\", \"Topic1\", \"Topic1\", \"Topic1\", \"Topic1\", \"Topic1\", \"Topic1\", \"Topic1\", \"Topic1\", \"Topic1\", \"Topic1\", \"Topic1\", \"Topic1\", \"Topic1\", \"Topic1\", \"Topic1\", \"Topic1\", \"Topic2\", \"Topic2\", \"Topic2\", \"Topic2\", \"Topic2\", \"Topic2\", \"Topic2\", \"Topic2\", \"Topic2\", \"Topic2\", \"Topic2\", \"Topic2\", \"Topic2\", \"Topic2\", \"Topic2\", \"Topic2\", \"Topic2\", \"Topic2\", \"Topic2\", \"Topic2\", \"Topic2\", \"Topic2\", \"Topic2\", \"Topic2\", \"Topic2\", \"Topic2\", \"Topic2\", \"Topic2\", \"Topic2\", \"Topic2\", \"Topic2\", \"Topic2\", \"Topic2\", \"Topic2\", \"Topic2\", \"Topic2\", \"Topic2\", \"Topic2\", \"Topic2\", \"Topic2\", \"Topic2\", \"Topic2\", \"Topic2\", \"Topic2\", \"Topic2\", \"Topic2\", \"Topic2\", \"Topic2\", \"Topic3\", \"Topic3\", \"Topic3\", \"Topic3\", \"Topic3\", \"Topic3\", \"Topic3\", \"Topic3\", \"Topic3\", \"Topic3\", \"Topic3\", \"Topic3\", \"Topic3\", \"Topic3\", \"Topic3\", \"Topic3\", \"Topic3\", \"Topic3\", \"Topic3\", \"Topic3\", \"Topic3\", \"Topic3\", \"Topic3\", \"Topic3\", \"Topic3\", \"Topic3\", \"Topic3\", \"Topic3\", \"Topic3\", \"Topic3\", \"Topic3\", \"Topic3\", \"Topic3\", \"Topic3\", \"Topic3\", \"Topic3\", \"Topic3\", \"Topic3\", \"Topic3\", \"Topic3\", \"Topic3\", \"Topic3\", \"Topic3\", \"Topic3\", \"Topic3\", \"Topic4\", \"Topic4\", \"Topic4\", \"Topic4\", \"Topic4\", \"Topic4\", \"Topic4\", \"Topic4\", \"Topic4\", \"Topic4\", \"Topic4\", \"Topic4\", \"Topic4\", \"Topic4\", \"Topic4\", \"Topic4\", \"Topic4\", \"Topic4\", \"Topic4\", \"Topic4\", \"Topic4\", \"Topic4\", \"Topic4\", \"Topic4\", \"Topic4\", \"Topic4\", \"Topic4\", \"Topic4\", \"Topic4\", \"Topic4\", \"Topic4\", \"Topic4\", \"Topic4\", \"Topic4\", \"Topic4\", \"Topic4\", \"Topic4\", \"Topic4\", \"Topic4\", \"Topic4\", \"Topic4\", \"Topic4\", \"Topic4\", \"Topic4\", \"Topic4\", \"Topic4\", \"Topic4\", \"Topic4\", \"Topic4\", \"Topic4\", \"Topic4\", \"Topic4\", \"Topic4\", \"Topic4\", \"Topic5\", \"Topic5\", \"Topic5\", \"Topic5\", \"Topic5\", \"Topic5\", \"Topic5\", \"Topic5\", \"Topic5\", \"Topic5\", \"Topic5\", \"Topic5\", \"Topic5\", \"Topic5\", \"Topic5\", \"Topic5\", \"Topic5\", \"Topic5\", \"Topic5\", \"Topic5\", \"Topic5\", \"Topic5\", \"Topic5\", \"Topic5\", \"Topic5\", \"Topic5\", \"Topic5\", \"Topic5\", \"Topic5\", \"Topic5\", \"Topic5\", \"Topic5\", \"Topic5\", \"Topic5\", \"Topic5\", \"Topic5\", \"Topic5\", \"Topic5\", \"Topic5\", \"Topic5\", \"Topic5\", \"Topic5\", \"Topic5\", \"Topic5\", \"Topic5\", \"Topic6\", \"Topic6\", \"Topic6\", \"Topic6\", \"Topic6\", \"Topic6\", \"Topic6\", \"Topic6\", \"Topic6\", \"Topic6\", \"Topic6\", \"Topic6\", \"Topic6\", \"Topic6\", \"Topic6\", \"Topic6\", \"Topic6\", \"Topic6\", \"Topic6\", \"Topic6\", \"Topic6\", \"Topic6\", \"Topic6\", \"Topic6\", \"Topic6\", \"Topic6\", \"Topic6\", \"Topic6\", \"Topic6\", \"Topic6\", \"Topic6\", \"Topic6\", \"Topic6\", \"Topic6\", \"Topic6\", \"Topic6\", \"Topic6\", \"Topic6\", \"Topic6\", \"Topic6\", \"Topic7\", \"Topic7\", \"Topic7\", \"Topic7\", \"Topic7\", \"Topic7\", \"Topic7\", \"Topic7\", \"Topic7\", \"Topic7\", \"Topic7\", \"Topic7\", \"Topic7\", \"Topic7\", \"Topic7\", \"Topic7\", \"Topic7\", \"Topic7\", \"Topic7\", \"Topic7\", \"Topic7\", \"Topic7\", \"Topic7\", \"Topic7\", \"Topic7\", \"Topic7\", \"Topic7\", \"Topic7\", \"Topic7\", \"Topic7\", \"Topic7\", \"Topic7\", \"Topic7\", \"Topic7\", \"Topic7\", \"Topic7\", \"Topic7\", \"Topic7\", \"Topic8\", \"Topic8\", \"Topic8\", \"Topic8\", \"Topic8\", \"Topic8\", \"Topic8\", \"Topic8\", \"Topic8\", \"Topic8\", \"Topic8\", \"Topic8\", \"Topic8\", \"Topic8\", \"Topic8\", \"Topic8\", \"Topic8\", \"Topic8\", \"Topic8\", \"Topic8\", \"Topic8\", \"Topic8\", \"Topic8\", \"Topic8\", \"Topic8\", \"Topic8\", \"Topic8\", \"Topic8\", \"Topic8\", \"Topic8\", \"Topic8\", \"Topic8\", \"Topic8\", \"Topic8\", \"Topic8\", \"Topic8\", \"Topic8\", \"Topic8\", \"Topic8\", \"Topic8\", \"Topic8\", \"Topic8\", \"Topic9\", \"Topic9\", \"Topic9\", \"Topic9\", \"Topic9\", \"Topic9\", \"Topic9\", \"Topic9\", \"Topic9\", \"Topic9\", \"Topic9\", \"Topic9\", \"Topic9\", \"Topic9\", \"Topic9\", \"Topic9\", \"Topic9\", \"Topic9\", \"Topic9\", \"Topic9\", \"Topic9\", \"Topic9\", \"Topic9\", \"Topic9\", \"Topic9\", \"Topic9\", \"Topic9\", \"Topic9\", \"Topic9\", \"Topic9\", \"Topic9\", \"Topic9\", \"Topic9\", \"Topic9\", \"Topic9\", \"Topic9\", \"Topic10\", \"Topic10\", \"Topic10\", \"Topic10\", \"Topic10\", \"Topic10\", \"Topic10\", \"Topic10\", \"Topic10\", \"Topic10\", \"Topic10\", \"Topic10\", \"Topic10\", \"Topic10\", \"Topic10\", \"Topic10\", \"Topic10\", \"Topic10\", \"Topic10\", \"Topic10\", \"Topic10\", \"Topic10\", \"Topic10\", \"Topic10\", \"Topic10\", \"Topic10\", \"Topic10\", \"Topic10\", \"Topic10\", \"Topic10\", \"Topic10\", \"Topic10\", \"Topic11\", \"Topic11\", \"Topic11\", \"Topic11\", \"Topic11\", \"Topic11\", \"Topic11\", \"Topic11\", \"Topic11\", \"Topic11\", \"Topic11\", \"Topic11\", \"Topic11\", \"Topic11\", \"Topic11\", \"Topic11\", \"Topic11\", \"Topic11\", \"Topic11\", \"Topic11\", \"Topic11\", \"Topic11\", \"Topic11\", \"Topic11\", \"Topic11\", \"Topic11\", \"Topic11\", \"Topic11\", \"Topic11\", \"Topic11\", \"Topic11\", \"Topic11\", \"Topic11\", \"Topic11\", \"Topic11\", \"Topic12\", \"Topic12\", \"Topic12\", \"Topic12\", \"Topic12\", \"Topic12\", \"Topic12\", \"Topic12\", \"Topic12\", \"Topic12\", \"Topic12\", \"Topic12\", \"Topic12\", \"Topic12\", \"Topic12\", \"Topic12\", \"Topic12\", \"Topic12\", \"Topic12\", \"Topic12\", \"Topic12\", \"Topic12\", \"Topic12\", \"Topic12\", \"Topic12\", \"Topic12\", \"Topic12\", \"Topic12\", \"Topic12\", \"Topic12\", \"Topic12\", \"Topic12\", \"Topic12\", \"Topic12\", \"Topic12\", \"Topic12\", \"Topic13\", \"Topic13\", \"Topic13\", \"Topic13\", \"Topic13\", \"Topic13\", \"Topic13\", \"Topic13\", \"Topic13\", \"Topic13\", \"Topic13\", \"Topic13\", \"Topic13\", \"Topic13\", \"Topic13\", \"Topic13\", \"Topic13\", \"Topic13\", \"Topic13\", \"Topic13\", \"Topic13\", \"Topic13\", \"Topic13\", \"Topic13\", \"Topic13\", \"Topic13\", \"Topic13\", \"Topic13\", \"Topic13\", \"Topic13\", \"Topic13\", \"Topic14\", \"Topic14\", \"Topic14\", \"Topic14\", \"Topic14\", \"Topic14\", \"Topic14\", \"Topic14\", \"Topic14\", \"Topic14\", \"Topic14\", \"Topic14\", \"Topic14\", \"Topic14\", \"Topic14\", \"Topic14\", \"Topic14\", \"Topic14\", \"Topic14\", \"Topic14\", \"Topic14\", \"Topic14\", \"Topic14\", \"Topic14\", \"Topic14\", \"Topic14\", \"Topic14\", \"Topic14\", \"Topic14\", \"Topic14\", \"Topic14\", \"Topic15\", \"Topic15\", \"Topic15\", \"Topic15\", \"Topic15\", \"Topic15\", \"Topic15\", \"Topic15\", \"Topic15\", \"Topic15\", \"Topic15\", \"Topic15\", \"Topic15\", \"Topic15\", \"Topic15\", \"Topic15\", \"Topic15\", \"Topic15\", \"Topic15\", \"Topic15\", \"Topic15\", \"Topic15\", \"Topic15\", \"Topic15\", \"Topic15\", \"Topic15\", \"Topic15\", \"Topic15\", \"Topic15\", \"Topic15\", \"Topic15\", \"Topic15\", \"Topic16\", \"Topic16\", \"Topic16\", \"Topic16\", \"Topic16\", \"Topic16\", \"Topic16\", \"Topic16\", \"Topic16\", \"Topic16\", \"Topic16\", \"Topic16\", \"Topic16\", \"Topic16\", \"Topic16\", \"Topic16\", \"Topic16\", \"Topic16\", \"Topic16\", \"Topic16\", \"Topic16\", \"Topic16\", \"Topic16\", \"Topic16\", \"Topic16\", \"Topic16\", \"Topic16\", \"Topic16\", \"Topic16\", \"Topic16\", \"Topic16\", \"Topic17\", \"Topic17\", \"Topic17\", \"Topic17\", \"Topic17\", \"Topic17\", \"Topic17\", \"Topic17\", \"Topic17\", \"Topic17\", \"Topic17\", \"Topic17\", \"Topic17\", \"Topic17\", \"Topic17\", \"Topic17\", \"Topic17\", \"Topic17\", \"Topic17\", \"Topic17\", \"Topic17\", \"Topic17\", \"Topic17\", \"Topic17\", \"Topic17\", \"Topic17\", \"Topic17\", \"Topic17\", \"Topic17\", \"Topic17\", \"Topic17\", \"Topic17\", \"Topic17\", \"Topic18\", \"Topic18\", \"Topic18\", \"Topic18\", \"Topic18\", \"Topic18\", \"Topic18\", \"Topic18\", \"Topic18\", \"Topic18\", \"Topic18\", \"Topic18\", \"Topic18\", \"Topic18\", \"Topic18\", \"Topic18\", \"Topic18\", \"Topic18\", \"Topic18\", \"Topic18\", \"Topic18\", \"Topic18\", \"Topic18\", \"Topic18\", \"Topic18\", \"Topic18\", \"Topic18\", \"Topic18\", \"Topic18\", \"Topic18\", \"Topic18\", \"Topic18\", \"Topic18\", \"Topic19\", \"Topic19\", \"Topic19\", \"Topic19\", \"Topic19\", \"Topic19\", \"Topic19\", \"Topic19\", \"Topic19\", \"Topic19\", \"Topic19\", \"Topic19\", \"Topic19\", \"Topic19\", \"Topic19\", \"Topic19\", \"Topic19\", \"Topic19\", \"Topic19\", \"Topic19\", \"Topic19\", \"Topic19\", \"Topic19\", \"Topic19\", \"Topic19\", \"Topic19\", \"Topic19\", \"Topic19\", \"Topic19\", \"Topic19\", \"Topic19\", \"Topic20\", \"Topic20\", \"Topic20\", \"Topic20\", \"Topic20\", \"Topic20\", \"Topic20\", \"Topic20\", \"Topic20\", \"Topic20\", \"Topic20\", \"Topic20\", \"Topic20\", \"Topic20\", \"Topic20\", \"Topic20\", \"Topic20\", \"Topic20\", \"Topic20\", \"Topic20\", \"Topic20\", \"Topic20\", \"Topic20\", \"Topic20\", \"Topic20\", \"Topic20\", \"Topic20\", \"Topic20\", \"Topic20\", \"Topic20\", \"Topic20\", \"Topic20\", \"Topic20\", \"Topic20\", \"Topic20\", \"Topic20\", \"Topic20\", \"Topic20\"], \"logprob\": [30.0, 29.0, 28.0, 27.0, 26.0, 25.0, 24.0, 23.0, 22.0, 21.0, 20.0, 19.0, 18.0, 17.0, 16.0, 15.0, 14.0, 13.0, 12.0, 11.0, 10.0, 9.0, 8.0, 7.0, 6.0, 5.0, 4.0, 3.0, 2.0, 1.0, -2.87, -4.7352, -4.8669, -4.9211, -4.9379, -4.9697, -4.9946, -4.9968, -5.029, -5.1234, -5.2785, -5.311, -5.4236, -5.5895, -5.615, -5.6618, -5.6952, -5.7201, -5.8179, -5.8194, -5.8321, -4.0106, -5.8854, -5.8933, -5.9031, -5.9133, -5.933, -5.9414, -5.9903, -5.254, -4.8756, -4.5203, -5.1251, -4.5804, -4.7433, -5.5845, -4.9691, -4.7934, -5.2282, -5.3152, -4.0743, -4.5341, -5.1175, -3.7269, -4.4037, -4.3981, -4.2256, -2.294, -4.6557, -4.1255, -3.6793, -4.8154, -4.5099, -4.3288, -4.8419, -4.7977, -4.9741, -3.2572, -3.4367, -4.3952, -4.4467, -4.4667, -4.5113, -4.6896, -4.7552, -4.804, -4.8127, -4.8165, -4.8441, -4.8493, -4.8775, -5.0158, -5.0388, -5.0482, -5.0496, -5.1971, -5.2314, -5.238, -5.236, -5.2145, -5.1557, -5.4418, -3.7846, -5.5136, -5.567, -5.5801, -5.6195, -5.1666, -4.728, -5.1926, -4.2444, -3.5509, -4.2948, -3.4579, -4.7325, -4.8579, -4.9983, -4.5226, -4.4514, -4.0196, -3.9746, -4.412, -3.7275, -4.4728, -4.675, -3.1181, -3.7542, -4.2759, -4.2743, -4.4621, -4.4754, -4.544, -4.6105, -4.41, -4.6464, -4.6793, -4.7013, -4.7046, -4.737, -4.7621, -4.8348, -4.7913, -4.8383, -4.9032, -4.9256, -4.9403, -5.0041, -5.0464, -5.0482, -5.066, -5.1988, -5.2265, -5.2536, -5.2623, -5.2976, -4.7321, -4.862, -4.371, -4.213, -3.7292, -3.8564, -4.3566, -4.3997, -4.6169, -4.567, -4.0813, -4.3187, -4.6381, -4.7383, -4.6936, -2.93, -3.4833, -3.727, -3.9074, -4.0917, -4.1217, -4.3048, -4.4303, -4.6627, -4.6849, -4.7638, -4.9143, -4.9552, -5.0643, -5.1458, -5.2019, -5.2342, -5.3846, -5.4491, -5.484, -5.5597, -5.5751, -5.612, -5.8647, -4.3219, -6.1535, -6.2166, -6.2581, -6.3293, -6.3901, -4.479, -3.4797, -3.4096, -5.2044, -4.582, -3.3932, -3.1111, -3.4804, -3.7974, -5.0355, -4.9362, -4.2078, -4.0472, -4.8367, -1.927, -3.6409, -4.9248, -3.9028, -3.8681, -4.6825, -4.4381, -4.6681, -4.59, -4.7157, -1.7389, -2.1173, -2.556, -2.8174, -2.8631, -3.4801, -4.0777, -4.2696, -4.4611, -4.775, -5.0543, -5.1386, -5.2481, -5.3087, -5.4054, -5.5721, -5.6879, -5.7107, -5.8887, -5.9003, -6.0007, -6.0561, -6.095, -6.2747, -6.4099, -6.4228, -6.4375, -6.4434, -6.5284, -6.6467, -4.7991, -2.7537, -4.7689, -4.9691, -3.6426, -3.546, -4.2064, -4.2584, -3.9255, -4.9297, -4.9437, -4.6447, -5.3819, -5.0592, -5.2438, -2.5943, -2.8277, -3.002, -3.6571, -3.7887, -3.8226, -3.8369, -2.3578, -3.8695, -4.1284, -4.1963, -4.4084, -4.4687, -4.4985, -4.6091, -4.69, -4.7826, -4.8172, -4.8554, -4.8628, -4.8629, -4.8631, -4.8644, -4.9022, -4.9729, -5.025, -5.1306, -5.1389, -5.1488, -5.1592, -4.5345, -3.0417, -3.9215, -4.4455, -4.2088, -4.2741, -4.2276, -4.6282, -4.4589, -4.7922, -1.7973, -3.0491, -3.1769, -3.5585, -3.5941, -3.6393, -3.7336, -3.9333, -2.6293, -3.9851, -3.9922, -3.9956, -4.0603, -4.1781, -4.3432, -4.5513, -4.6311, -4.7105, -4.7605, -4.7784, -4.8519, -4.8532, -4.9121, -4.9253, -4.9385, -5.0335, -5.1078, -5.232, -5.3534, -5.4129, -3.9989, -3.7108, -3.7086, -4.2059, -4.1384, -4.5175, -4.6275, -4.6937, -1.7754, -2.395, -3.3113, -3.3422, -3.382, -3.9403, -4.0399, -4.0944, -4.1362, -4.3214, -4.457, -4.5375, -4.6504, -4.7878, -4.9841, -5.0946, -5.1131, -5.1456, -5.1512, -5.2307, -5.3043, -5.34, -5.4544, -5.4578, -5.5031, -5.6029, -5.6047, -5.6862, -5.7291, -5.8507, -3.7867, -4.2492, -4.2562, -5.0518, -3.778, -3.5838, -4.0319, -4.1613, -3.7166, -4.145, -4.8537, -5.0006, -2.1206, -2.484, -2.9183, -3.0844, -3.2007, -3.4436, -3.4613, -3.7189, -3.8185, -3.8508, -3.8716, -3.9577, -3.9903, -4.1293, -4.1472, -4.1925, -4.3331, -4.5324, -4.6122, -4.6877, -4.99, -5.0295, -5.0542, -5.1694, -5.2308, -5.269, -5.4221, -5.5298, -5.926, -6.0126, -3.4334, -3.6831, -3.993, -4.1996, -4.9006, -5.0848, -3.0741, -3.2103, -3.3395, -3.3686, -3.4298, -3.8144, -3.8145, -3.8724, -4.0219, -4.028, -4.0581, -4.0711, -4.1584, -4.1894, -4.3499, -4.421, -4.4659, -4.477, -4.4793, -4.4913, -4.4946, -4.5327, -4.5463, -4.5715, -4.6465, -4.652, -4.6859, -4.6887, -4.7209, -4.7693, -2.2414, -3.996, -2.3712, -2.6103, -2.7189, -2.7813, -3.0598, -3.2789, -3.3894, -3.7853, -4.1177, -4.3209, -4.5264, -4.6851, -4.9172, -5.3536, -5.3726, -5.4564, -5.4584, -5.4731, -5.5445, -5.564, -5.5688, -5.8413, -5.878, -6.0071, -6.2267, -6.3228, -6.4142, -6.5137, -3.1788, -6.619, -1.7616, -3.1273, -5.5709, -5.8826, -5.8828, -1.7354, -2.3568, -3.1582, -3.2157, -3.281, -3.4978, -3.5059, -3.9246, -4.0277, -4.2649, -4.3663, -4.4641, -4.5842, -4.6527, -4.7848, -4.96, -5.0216, -5.0294, -5.0442, -5.1463, -5.1986, -5.3006, -5.4004, -5.6208, -3.6287, -5.7791, -3.236, -5.9563, -6.4022, -6.4403, -5.2189, -4.2428, -3.9133, -4.6628, -4.6205, -5.1948, -1.9117, -1.9633, -3.2475, -3.3833, -3.4446, -3.4967, -3.7565, -3.7575, -3.7691, -4.0729, -4.2956, -4.3808, -4.5526, -3.85, -4.7912, -4.8176, -4.8332, -4.968, -5.4281, -5.4623, -5.5159, -5.8354, -5.9823, -6.464, -6.5609, -2.2001, -5.4696, -9.0216, -5.8718, -5.3534, -6.8228, -1.4677, -2.5387, -3.104, -3.4888, -3.6347, -3.696, -4.1017, -4.1137, -4.3583, -4.437, -4.7089, -4.7103, -5.1462, -5.1623, -2.777, -5.5953, -5.8971, -5.9583, -3.9019, -6.5405, -3.2567, -7.0191, -7.3129, -5.3142, -4.9483, -5.4861, -4.4097, -3.9845, -10.8191, -10.8191, -10.8188, -1.1646, -2.7269, -2.9028, -3.2491, -4.6044, -4.6541, -4.8152, -4.9274, -4.9787, -5.267, -5.448, -5.586, -5.8887, -6.8445, -7.5265, -2.8338, -4.0211, -6.605, -4.1768, -5.8531, -10.5911, -10.5911, -10.5911, -10.5911, -10.5912, -10.5911, -10.5912, -10.5912, -10.5912, -10.5911, -10.5911, -10.5911, -2.7494, -2.8798, -3.1506, -3.509, -3.6049, -4.0621, -4.0661, -4.2258, -4.3442, -4.3526, -4.5518, -4.9209, -4.9539, -5.2222, -5.2256, -5.2474, -6.3347, -6.4324, -2.4442, -2.3999, -6.866, -2.3004, -7.0216, -4.7605, -8.2491, -8.6312, -7.1796, -5.552, -4.2824, -10.6485, -6.467, -1.5863, -2.8533, -3.0524, -3.0714, -3.2469, -3.5768, -3.652, -3.661, -3.7684, -4.062, -4.1535, -4.5876, -4.6892, -4.733, -5.4376, -5.7858, -5.9019, -6.0442, -6.0767, -6.172, -6.7862, -7.7529, -8.0685, -10.4664, -10.4666, -10.4666, -10.4666, -10.4667, -10.4667, -10.4667, -10.4667, -10.4666, -10.4667, -2.6984, -2.7685, -3.0317, -3.0655, -3.3089, -3.4183, -3.4241, -3.6867, -3.7841, -3.9352, -3.9971, -4.1009, -4.8042, -4.8046, -4.9558, -5.3715, -6.4561, -6.5749, -7.2851, -7.3563, -7.491, -4.7593, -3.844, -4.7522, -10.2991, -10.2995, -10.2995, -10.2996, -10.2996, -10.2996, -10.2996, -10.2996, -10.2996, -2.1186, -2.7077, -3.4472, -3.686, -3.88, -3.9188, -4.1154, -4.1971, -4.2697, -4.2842, -4.6599, -4.8362, -5.177, -5.2525, -5.6759, -6.3923, -7.5046, -10.0786, -10.0791, -10.0792, -10.0793, -10.0794, -10.0794, -10.0794, -10.0794, -10.0795, -10.0795, -10.0795, -10.0795, -10.0795, -10.0795, -2.5279, -2.8571, -3.0693, -3.9576, -4.9058, -5.4419, -5.7438, -9.852, -9.8521, -9.8521, -9.8521, -9.8521, -9.8521, -9.8521, -9.8521, -9.8521, -9.8521, -9.8521, -9.8521, -9.8521, -9.8521, -9.8521, -9.8521, -9.8521, -9.8521, -9.8521, -9.8521, -9.8521, -9.8521, -9.8521, -9.8521, -9.8521, -9.8521, -9.8521, -9.8521, -9.8521, -9.8521, -9.8521], \"loglift\": [30.0, 29.0, 28.0, 27.0, 26.0, 25.0, 24.0, 23.0, 22.0, 21.0, 20.0, 19.0, 18.0, 17.0, 16.0, 15.0, 14.0, 13.0, 12.0, 11.0, 10.0, 9.0, 8.0, 7.0, 6.0, 5.0, 4.0, 3.0, 2.0, 1.0, 1.1943, 1.1929, 1.1927, 1.1926, 1.1925, 1.1925, 1.1924, 1.1924, 1.1923, 1.1921, 1.1917, 1.1916, 1.1913, 1.1907, 1.1906, 1.1904, 1.1902, 1.1901, 1.1897, 1.1897, 1.1896, 1.1894, 1.1893, 1.1893, 1.1892, 1.1892, 1.1891, 1.189, 1.1887, 1.1887, 1.1882, 1.1845, 1.1875, 1.1706, 1.1706, 1.1847, 1.1707, 1.1625, 1.1749, 1.1727, 1.1064, 1.1194, 1.147, 1.0059, 1.0682, 1.0269, 0.9994, 0.6727, 1.0503, 0.9034, 0.6451, 0.9962, 0.7711, 0.5696, 0.9556, 0.6989, 0.8378, 1.4811, 1.481, 1.48, 1.4799, 1.4799, 1.4798, 1.4795, 1.4793, 1.4792, 1.4792, 1.4792, 1.4791, 1.4791, 1.479, 1.4786, 1.4786, 1.4785, 1.4785, 1.4781, 1.4779, 1.4779, 1.4779, 1.4775, 1.4772, 1.4771, 1.4768, 1.4767, 1.4765, 1.4764, 1.4762, 1.4748, 1.4674, 1.4694, 1.4458, 1.3271, 1.2856, 1.093, 1.3237, 1.3607, 1.3938, 1.0417, 0.9884, 0.519, 0.3498, 0.7666, -0.7609, 0.4256, 0.6685, 2.1971, 2.1963, 2.1951, 2.195, 2.1945, 2.1945, 2.1942, 2.194, 2.1939, 2.1938, 2.1937, 2.1936, 2.1936, 2.1934, 2.1933, 2.193, 2.1929, 2.1929, 2.1926, 2.1925, 2.1924, 2.192, 2.1918, 2.1918, 2.1916, 2.1908, 2.1906, 2.1904, 2.1903, 2.19, 2.1412, 2.1187, 2.0201, 1.9788, 1.549, 1.4871, 1.7742, 1.7778, 1.9151, 1.734, 0.4573, 0.7102, 1.4771, 1.6214, 0.8707, 2.2429, 2.2424, 2.242, 2.2416, 2.2412, 2.2411, 2.2406, 2.2401, 2.2393, 2.2392, 2.2388, 2.238, 2.2378, 2.2371, 2.2366, 2.2361, 2.2359, 2.2346, 2.234, 2.2337, 2.2329, 2.2327, 2.2323, 2.2291, 2.225, 2.2242, 2.223, 2.2221, 2.2205, 2.2191, 2.2057, 2.1586, 2.1554, 2.1891, 2.1264, 2.037, 1.9976, 2.0191, 1.9732, 2.1447, 2.1152, 1.9437, 1.8393, 2.0782, 1.0396, 1.5585, 2.0936, 1.3754, 0.6827, 1.7145, 0.9745, 1.279, 0.5886, 0.7242, 3.1821, 3.1818, 3.1814, 3.1809, 3.1809, 3.1793, 3.1753, 3.1751, 3.1735, 3.1701, 3.166, 3.1646, 3.1625, 3.1612, 3.1591, 3.1549, 3.1515, 3.1508, 3.1447, 3.1442, 3.1402, 3.1379, 3.1361, 3.1272, 3.1194, 3.1186, 3.1177, 3.1173, 3.1117, 3.1032, 3.0333, 2.3411, 2.6629, 2.6571, 2.1518, 1.5626, 1.9088, 1.9169, 1.574, 2.2671, 2.2368, 1.547, 1.6557, 0.1403, 0.0996, 3.3653, 3.3649, 3.3645, 3.3621, 3.3614, 3.3612, 3.3611, 3.3609, 3.3609, 3.3591, 3.3586, 3.3566, 3.3559, 3.3556, 3.3542, 3.3532, 3.3518, 3.3513, 3.3507, 3.3506, 3.3506, 3.3506, 3.3505, 3.3499, 3.3487, 3.3477, 3.3456, 3.3454, 3.3452, 3.3449, 3.3382, 3.2118, 3.1161, 3.1637, 2.7191, 2.1021, 1.3528, 2.1818, 0.0797, 0.8462, 3.6582, 3.6556, 3.6551, 3.6532, 3.653, 3.6527, 3.652, 3.6504, 3.6502, 3.65, 3.6499, 3.6499, 3.6493, 3.648, 3.646, 3.6429, 3.6416, 3.6402, 3.6392, 3.6388, 3.6373, 3.6373, 3.6359, 3.6356, 3.6353, 3.633, 3.631, 3.6273, 3.6232, 3.621, 3.5955, 3.5817, 3.485, 3.1394, 2.5796, 2.124, 1.8945, 0.5845, 3.8296, 3.8286, 3.8252, 3.825, 3.8248, 3.8203, 3.8192, 3.8186, 3.818, 3.8155, 3.8132, 3.8118, 3.8095, 3.8064, 3.8012, 3.7978, 3.7972, 3.7961, 3.7959, 3.7931, 3.7902, 3.7888, 3.7838, 3.7837, 3.7815, 3.7765, 3.7764, 3.7719, 3.7694, 3.7617, 3.7368, 3.6951, 3.6165, 3.5955, 2.7316, 2.4039, 2.1196, 1.8949, 0.822, 1.4192, 2.1813, 1.1769, 3.9498, 3.9489, 3.9474, 3.9467, 3.946, 3.9445, 3.9443, 3.9422, 3.9412, 3.9408, 3.9406, 3.9396, 3.9392, 3.9374, 3.9371, 3.9364, 3.9342, 3.9303, 3.9286, 3.9268, 3.9181, 3.9168, 3.9159, 3.9116, 3.9091, 3.9075, 3.9004, 3.8947, 3.8681, 3.8609, 2.9428, 2.9405, 2.539, 2.5184, 2.8422, 0.0238, 4.0176, 4.0168, 4.016, 4.0158, 4.0153, 4.0117, 4.0117, 4.0111, 4.0092, 4.0091, 4.0087, 4.0085, 4.0072, 4.0067, 4.0039, 4.0025, 4.0015, 4.0013, 4.0013, 4.001, 4.0009, 4.0001, 3.9998, 3.9992, 3.9974, 3.9972, 3.9963, 3.9963, 3.9954, 3.9941, 3.7463, 3.8356, 4.0893, 4.0885, 4.0881, 4.0878, 4.0864, 4.085, 4.0842, 4.0803, 4.0757, 4.072, 4.0675, 4.0633, 4.0559, 4.0365, 4.0355, 4.0307, 4.0306, 4.0297, 4.0252, 4.0239, 4.0236, 4.0031, 3.9999, 3.9878, 3.9638, 3.9517, 3.9392, 3.9245, 3.9083, 3.9075, 2.777, 2.8279, 2.2606, 2.15, 1.4096, 4.15, 4.1486, 4.1449, 4.1445, 4.1441, 4.1423, 4.1422, 4.1373, 4.1358, 4.1316, 4.1295, 4.1272, 4.1242, 4.1222, 4.1182, 4.1119, 4.1094, 4.1091, 4.1085, 4.104, 4.1015, 4.0962, 4.0906, 4.0761, 4.0652, 4.0637, 4.0578, 4.0475, 3.9935, 3.9878, 3.7548, 3.2779, 3.0706, 2.4706, 2.194, 1.3537, 4.2417, 4.2415, 4.2358, 4.2346, 4.234, 4.2335, 4.2305, 4.2305, 4.2303, 4.2256, 4.2211, 4.2191, 4.2146, 4.2093, 4.2068, 4.2059, 4.2053, 4.1998, 4.1751, 4.1727, 4.169, 4.1422, 4.127, 4.0611, 4.0443, 3.8433, 3.5927, 2.9667, 2.6322, 2.5099, 2.2799, 4.399, 4.396, 4.3925, 4.3887, 4.3869, 4.386, 4.3788, 4.3785, 4.3725, 4.3702, 4.3609, 4.3608, 4.3397, 4.3388, 4.3255, 4.3068, 4.2757, 4.2683, 4.2364, 4.1749, 4.126, 4.058, 3.9636, 3.8449, 2.6609, 2.3463, 2.1164, 1.5805, 1.4424, 1.4424, -3.2981, 4.7236, 4.7175, 4.716, 4.7122, 4.6757, 4.6732, 4.6644, 4.6574, 4.654, 4.6312, 4.6136, 4.5981, 4.5568, 4.3351, 4.0606, 3.6882, 3.4937, 2.9153, 2.9103, 2.1795, 1.6704, 1.6703, 1.6703, 1.6703, 1.6703, 1.6703, 1.6703, 1.6703, 1.6703, 1.6703, 1.6703, 1.6703, 4.7721, 4.7709, 4.7679, 4.7626, 4.7608, 4.7496, 4.7495, 4.7442, 4.7397, 4.7394, 4.7306, 4.709, 4.7067, 4.6851, 4.6848, 4.6828, 4.5147, 4.491, 4.4745, 4.4101, 4.3631, 4.3232, 4.3073, 3.9945, 3.6605, 3.3877, 3.1493, 3.0953, 2.9112, 1.6129, 0.0425, 4.9954, 4.9871, 4.9846, 4.9843, 4.9816, 4.9749, 4.9731, 4.9729, 4.97, 4.9604, 4.9568, 4.9347, 4.9281, 4.925, 4.8549, 4.8006, 4.7787, 4.749, 4.7417, 4.7193, 4.5314, 4.0563, 3.8521, 1.795, 1.7949, 1.7948, 1.7948, 1.7948, 1.7948, 1.7948, 1.7947, 1.7947, 1.7947, 5.3428, 5.3417, 5.3372, 5.3365, 5.3309, 5.3279, 5.3277, 5.3191, 5.3153, 5.3086, 5.3056, 5.3002, 5.2452, 5.2452, 5.2281, 4.9573, 4.8763, 4.8293, 4.4757, 4.4334, 4.35, 3.8794, 3.7282, 3.1922, 1.9622, 1.962, 1.9619, 1.9619, 1.9618, 1.9618, 1.9618, 1.9618, 1.9617, 5.9132, 5.9019, 5.8745, 5.8607, 5.8469, 5.8439, 5.8266, 5.8185, 5.8107, 5.8091, 5.7594, 5.73, 5.6598, 5.6415, 5.5183, 5.217, 4.5049, 2.1828, 2.1823, 2.1822, 2.1821, 2.182, 2.182, 2.182, 2.182, 2.1819, 2.1819, 2.1819, 2.1819, 2.1819, 2.1819, 6.2795, 6.2675, 6.2575, 6.1856, 6.0148, 5.8478, 5.725, 2.4095, 2.4094, 2.4094, 2.4094, 2.4094, 2.4094, 2.4094, 2.4094, 2.4094, 2.4094, 2.4094, 2.4094, 2.4094, 2.4094, 2.4094, 2.4094, 2.4094, 2.4093, 2.4093, 2.4093, 2.4093, 2.4093, 2.4093, 2.4093, 2.4093, 2.4093, 2.4093, 2.4093, 2.4092, 2.4092, 2.4093]}, \"token.table\": {\"Topic\": [4, 12, 12, 2, 13, 3, 5, 11, 8, 3, 7, 1, 2, 3, 5, 6, 10, 10, 7, 8, 1, 1, 2, 3, 9, 14, 1, 2, 4, 8, 10, 1, 8, 7, 9, 16, 8, 2, 3, 8, 9, 14, 2, 3, 6, 1, 7, 3, 11, 15, 9, 4, 5, 3, 15, 1, 20, 17, 1, 9, 5, 4, 9, 18, 16, 12, 17, 11, 3, 15, 8, 1, 2, 3, 6, 10, 4, 1, 14, 19, 3, 5, 9, 1, 2, 4, 3, 16, 3, 12, 14, 10, 10, 12, 12, 10, 18, 18, 6, 12, 7, 2, 2, 8, 8, 12, 7, 7, 1, 2, 4, 8, 9, 8, 10, 8, 8, 1, 19, 19, 19, 19, 5, 14, 9, 10, 10, 14, 5, 12, 7, 9, 18, 18, 1, 2, 4, 5, 9, 15, 15, 13, 4, 1, 2, 3, 6, 8, 11, 4, 2, 14, 11, 2, 14, 13, 5, 7, 16, 7, 9, 4, 3, 12, 10, 10, 14, 4, 13, 2, 7, 8, 16, 2, 9, 1, 2, 3, 4, 16, 14, 5, 7, 18, 13, 6, 4, 4, 4, 3, 4, 7, 9, 5, 11, 11, 15, 8, 2, 3, 5, 9, 11, 11, 1, 2, 3, 8, 16, 11, 6, 1, 2, 1, 16, 6, 13, 8, 3, 3, 7, 2, 4, 7, 18, 4, 4, 14, 3, 8, 10, 11, 17, 6, 17, 11, 11, 9, 6, 11, 12, 14, 13, 2, 13, 16, 17, 1, 3, 4, 16, 2, 4, 6, 13, 18, 5, 20, 13, 11, 2, 10, 1, 2, 3, 5, 8, 11, 5, 10, 7, 4, 2, 6, 1, 2, 3, 1, 2, 2, 11, 16, 8, 12, 1, 2, 3, 4, 7, 5, 3, 2, 4, 7, 5, 8, 3, 15, 5, 1, 4, 9, 10, 15, 12, 1, 2, 3, 4, 9, 19, 18, 1, 2, 4, 1, 17, 5, 6, 2, 6, 12, 6, 17, 12, 4, 17, 16, 12, 2, 6, 9, 8, 11, 13, 11, 5, 15, 3, 11, 3, 5, 7, 11, 2, 8, 5, 2, 2, 12, 10, 2, 6, 9, 3, 2, 5, 13, 6, 14, 17, 17, 3, 6, 13, 3, 9, 3, 1, 2, 3, 4, 10, 9, 10, 5, 6, 14, 11, 4, 11, 4, 19, 1, 2, 3, 18, 13, 14, 3, 2, 8, 8, 8, 2, 13, 1, 12, 12, 4, 5, 3, 4, 10, 2, 1, 2, 1, 2, 2, 3, 1, 4, 7, 20, 10, 6, 10, 7, 2, 19, 15, 1, 3, 3, 1, 2, 3, 7, 16, 1, 2, 5, 8, 8, 17, 1, 2, 3, 1, 4, 12, 8, 2, 18, 10, 13, 11, 1, 7, 11, 2, 6, 1, 4, 5, 8, 9, 12, 13, 17, 7, 3, 10, 11, 3, 2, 17, 1, 16, 4, 6, 20, 11, 1, 2, 3, 6, 16, 3, 1, 2, 3, 4, 5, 6, 18, 13, 4, 7, 8, 3, 10, 10, 4, 5, 1, 15, 4, 9, 6, 8, 19, 13, 7, 1, 2, 3, 1, 2, 6, 6, 8, 4, 2, 7, 11, 12, 4, 7, 9, 13, 5, 4, 9, 2, 6, 12, 18, 5, 4, 7, 1, 8, 16, 9, 3, 10, 8, 15, 12, 13, 2, 16, 11, 15, 11, 1, 13, 4, 7, 7, 12, 7, 12, 1, 2, 3, 3, 9, 14, 14, 1, 2, 4, 5, 5, 5, 17, 1, 2, 6, 7, 6, 10, 16, 15, 15, 2, 7, 2, 18, 4, 6, 9, 20, 7, 6, 5, 9, 5, 1, 3, 9, 1, 11, 13, 6, 17, 1, 2, 3, 1, 3, 1, 13, 5, 1, 2, 4, 10, 13, 16, 1, 2, 3, 11, 16, 2, 12, 1, 16, 14, 9, 2, 3, 5, 17, 9, 9, 6, 16, 17, 1, 3, 4, 4, 5, 9, 17, 2, 3, 12, 9, 4, 2, 6, 1, 3, 13, 3, 1, 2, 12, 9, 18, 3, 12, 15, 2, 14, 12, 2, 10, 18, 6, 1, 2, 3, 1, 2, 3, 3, 18, 8, 19, 3, 7, 9, 13, 7, 7, 6, 6, 1, 2, 3, 4, 7, 15, 1, 6, 1, 2, 3, 4, 8, 11, 3, 10, 9, 1, 1, 19, 2, 1, 5, 7, 15, 11, 1, 7, 12, 10, 2, 9, 6, 3, 16, 6, 9, 16, 18, 18, 18, 16, 3, 8, 9, 5, 9, 1, 3, 10, 3, 20, 4, 5, 1, 11, 8, 8, 13, 8, 14, 5, 8, 18, 7, 8, 2, 6, 8, 16, 8, 3, 13, 5, 6, 4, 3, 1, 3, 2, 5, 19, 5, 6, 2, 14, 8, 8, 1, 1, 9, 4, 6, 9, 5, 1, 2, 8, 3, 19, 17, 8, 2, 12, 5, 17, 14, 19, 16, 12, 15, 12, 7, 2, 4, 5, 8, 19, 1, 2, 3, 4, 11, 3, 4, 14, 12, 14, 19, 12, 1, 14, 4, 5, 1, 2, 3, 4, 6, 14, 14, 3, 18, 16, 6, 4, 4, 5, 14, 1, 1, 2, 3, 7, 18, 2, 8, 10, 17, 5, 9, 1, 2, 3, 4, 1, 2, 3, 4, 6, 18, 9, 11, 12, 1, 15, 2, 1, 2, 3, 17, 6, 4, 1, 13, 20], \"Freq\": [0.9757390531647715, 0.9499296945371057, 0.976923080408757, 0.7882389562531465, 0.20269001732223768, 0.5910363561089417, 0.4021484484864964, 0.8509662008352069, 0.992531090723245, 0.9228907421827528, 0.07363489964224092, 0.01909870619220546, 0.44308998365916663, 0.4908367491396803, 0.0458368948612931, 0.9702775866666555, 0.011978735637859944, 0.9746172734175074, 0.9775155183556424, 0.984640352393614, 0.9962554722185234, 0.9270437137003924, 0.06510138438907251, 0.005208110751125801, 0.1406110017160397, 0.8436660102962383, 0.29164199453507955, 0.3265691795093406, 0.3807063162194452, 0.9985787292024124, 0.9923109775262858, 0.9989160120342457, 0.935495198308655, 0.9852458293858146, 0.3641019940495244, 0.6320261028784198, 0.9202957953314603, 0.6442731095159632, 0.26556913756388134, 0.08931697451700044, 0.3902392362123964, 0.5636788967512393, 0.8217902735828377, 0.043570618334288894, 0.1331324449103272, 0.9921754972988616, 0.9870177361454562, 0.7590183440898006, 0.14055895260922235, 0.0843353715655334, 0.982146548102175, 0.9965640346682669, 0.9532878861708799, 0.9930942739664288, 0.4915663121919405, 0.9973836476950162, 0.9280239195298938, 0.9925227318706655, 0.9925903819457847, 0.9700608993448536, 0.9659495200865901, 0.9945339551315782, 0.9917272005850701, 0.9873593311898705, 0.9190678532259037, 0.9732783202863504, 0.9684371032799726, 0.9286674826844937, 0.7035018791385272, 0.29312578297438635, 0.9938709330067256, 0.3535158527295635, 0.0633162721306681, 0.5619319151596793, 0.021105424043556028, 0.9823726772270265, 0.995525922280659, 0.9971185225171065, 0.9758723554083818, 0.9189334537933719, 0.5049402688727339, 0.1472742450878807, 0.3261072569803073, 0.02431365232713581, 0.9644415423097205, 0.009455309238330593, 0.9925814577489053, 0.9318508786101838, 0.12475621601207933, 0.11007901412830529, 0.76321449795625, 0.9770616323161235, 0.9890043190938129, 0.9537447370015513, 0.9842233459962509, 0.9876844302179315, 0.9810551112977848, 0.983698869545024, 0.07011620995452743, 0.9215273308309319, 0.9936043092737866, 0.9978653101814492, 0.803343935489613, 0.19176597169752052, 0.08057269030163426, 0.9131571567518549, 0.9925969030586589, 0.9870209942511966, 0.8204397663906046, 0.009149885870527188, 0.1585980217558046, 0.003049961956842396, 0.00762490489210599, 0.9630433078186115, 0.9883776722661407, 0.9467855211371108, 0.9821604159804953, 0.9984855939936526, 0.9760725524042705, 0.8854372166085924, 0.6963045001217112, 0.9831427332946222, 0.9118453169021478, 0.8223333965592091, 0.9000074494576054, 0.9883229504065169, 0.979289141194785, 0.9870436810127254, 0.9995547064282604, 0.9961945575527479, 0.9909680675604388, 0.007304432930420924, 0.9671353356970108, 0.8457106966040054, 0.5933995614076112, 0.10621435448473303, 0.29993586078618684, 0.0003546389131376729, 0.9625052875262314, 0.9943343788204873, 0.9912951436032857, 0.9464094757205621, 0.997778888028657, 0.08710462543564924, 0.3817232114679923, 0.17549020124535217, 0.0371475608475563, 0.049530081130075065, 0.2685725950932518, 0.9895857340424966, 0.996338461744554, 0.915602811024915, 0.9630794633112107, 0.9960263168033644, 0.989434976898653, 0.9072338164378018, 0.931929263421382, 0.8382635565163894, 0.15185933994862127, 0.9942703090075974, 0.9922351199902848, 0.9974072038708325, 0.9965221053323052, 0.9979956607287048, 0.9632431839709935, 0.9929222978877557, 0.9114999179251029, 0.9903672802095647, 0.9901379893931936, 0.39588486153086133, 0.593827292296292, 0.9828048245740213, 0.9906592750490163, 0.9968466415136268, 0.9941008454849487, 0.19192333909298315, 0.4891210835956195, 0.12713908961011963, 0.19111353597444736, 0.9690198187690067, 0.9949968597996153, 0.9794599666212415, 0.9884358024047081, 0.6018959537473583, 0.9980165249346465, 0.996105519227043, 0.9927352930426365, 0.9936187102678569, 0.9910111062447144, 0.5224520852486293, 0.41957196572193, 0.046519706220768356, 0.010735316820177313, 0.9396931472783221, 0.9875168528411236, 0.9320665834546874, 0.9050607906175129, 0.9851924564003333, 0.995055858772777, 0.4007983432896114, 0.59348985448654, 0.9783654768121, 0.9967019488943137, 0.8588697949595159, 0.0071391220531695585, 0.9887684043639838, 0.21686570944663802, 0.04614164030779532, 0.7382662449247251, 0.9776465297853284, 0.9821720132580463, 0.9959366839517123, 0.9972256120877574, 0.5210221645429837, 0.46313081292709657, 0.8196153690466516, 0.12294230535699772, 0.9552093178016772, 0.9968937161291055, 0.9951843441799648, 0.9958274549860916, 0.996877667272374, 0.9879441509948286, 0.7472184551587562, 0.23189538263547604, 0.9713059638686169, 0.9726157620050195, 0.9678803603986024, 0.996923824858503, 0.9838809922690901, 0.9833437747968712, 0.8897057398732477, 0.7353496479194003, 0.985599831500315, 0.8081305145430114, 0.9719415627473811, 0.9001454058715407, 0.9808828963630618, 0.9932419420336075, 0.9963916545734777, 0.9828270963961396, 0.8826454367969324, 0.9925749906709501, 0.9993172910283586, 0.8498023210140565, 0.7593704974926584, 0.998108613278105, 0.8658636164165632, 0.039794048931981504, 0.09331018370257733, 0.9162303091932904, 0.41908240165846544, 0.05587765355446206, 0.5215247665083126, 0.9623149043748512, 0.9388449620448774, 0.9926827003237934, 0.976084974465837, 0.9803212102160348, 0.9904316829096247, 0.9977164128179915, 0.9715719414513758, 0.0495844180753739, 0.15288528906573617, 0.48551409365470277, 0.27891235167397815, 0.028924243877301442, 0.9259680390668855, 0.9666083095979341, 0.9679230786210723, 0.9825058777202105, 0.997044774305191, 0.9994051390971818, 0.9948872482294115, 0.6548903077761584, 0.2960463035152497, 0.04844394057522267, 0.9930266161158801, 0.0039250063878098025, 0.9968374627593267, 0.9885220165470718, 0.9840610580403943, 0.9123623003778618, 0.08447799077572794, 0.16614902171539542, 0.6109657064344604, 0.004206304347225201, 0.21872782605571042, 0.9638212902650908, 0.976458519815641, 0.9967253575765724, 0.01590681643854577, 0.9830412559021285, 0.9564909142466317, 0.9071002913279187, 0.992580206995672, 0.9907881691427637, 0.7847180042448194, 0.9915969595358233, 0.18120662873696583, 0.8133469945032776, 0.005207087032671432, 0.9635054926808025, 0.9291370791569444, 0.9449840049610264, 0.04841303644983267, 0.6782147695516737, 0.06224533257835629, 0.21007799745195246, 0.0012967777620490892, 0.7373676428852027, 0.9923631700445436, 0.9762168193931888, 0.01270564190099595, 0.008470427933997299, 0.9981889608743717, 0.9744697934743438, 0.5897953707244618, 0.4025587450976485, 0.9971604389940735, 0.9803158287218023, 0.9951837284879314, 0.9767838321779164, 0.9454659768916188, 0.9772996134042593, 0.984073876373582, 0.967968945911325, 0.9948184362757948, 0.9744228978484993, 0.35136915185292167, 0.2816317629355479, 0.36478018818318586, 0.9804508664695261, 0.9944601700353961, 0.9988362173533434, 0.9648908919616677, 0.9850608009956386, 0.9977236003760418, 0.9949646357957878, 0.9979959392037896, 0.8029097925433909, 0.1940365331979861, 0.9253273032791044, 0.06705270313616699, 0.8530551364309423, 0.14412347053856103, 0.9763060744057441, 0.9986178383903236, 0.9368658393095806, 0.06054575152000691, 0.9689255204661239, 0.9954569712143704, 0.9894698573481727, 0.9774922845908822, 0.993926788135582, 0.9962220171515875, 0.9982370415681376, 0.9867914896075585, 0.9768380789317591, 0.7205886765790839, 0.7941951614942301, 0.9283308905361891, 0.9968858935573328, 0.9956857688986445, 0.7364831601132331, 0.9976512285204953, 0.8857965638633533, 0.9956811738089846, 0.0027251073201212906, 0.9156360595607537, 0.07902811228351743, 0.8458282191581966, 0.1471005598535994, 0.9611918084099428, 0.979378827526095, 0.21827028453906797, 0.7795367304966714, 0.9939941411239697, 0.987252599272639, 0.9931191698647428, 0.936250356783775, 0.9980682975874451, 0.871570382423905, 0.881681954496205, 0.020630489083039282, 0.09772336934071238, 0.9394246715599721, 0.9899502124763033, 0.986953428663434, 0.9907084652513657, 0.17967012486506748, 0.8025265577306347, 0.9756077041810747, 0.9416222158724428, 0.8069120657251927, 0.17799530861585133, 0.6550097485287903, 0.33981708758260554, 0.9082312848913888, 0.8799651337168511, 0.1159235505495253, 0.8357845458727313, 0.16062308862049235, 0.9924394874007838, 0.9986774716011788, 0.9893596089571567, 0.007946663525760294, 0.7879372312456372, 0.210517580867155, 0.34416501722564596, 0.6547529596000093, 0.3303516528126911, 0.6672774678704109, 0.9774561008034273, 0.9229934506899334, 0.9766029506771219, 0.9783379609747452, 0.9864910765630563, 0.9913330234711519, 0.9971643513715208, 0.958261841342314, 0.8459044653838942, 0.9759993838145083, 0.02152939817237886, 0.9961130358685628, 0.8280399508420151, 0.1202913391329665, 0.05133121799208484, 0.9932147884606133, 0.6872931293747012, 0.11188698982747697, 0.5572410865917481, 0.28300826838714765, 0.04607111345837287, 0.9768156319231569, 0.9598093091649876, 0.8454476806420544, 0.11189748714380134, 0.04144351375696346, 0.9976854430994563, 0.9974703210467157, 0.9477932848958546, 0.9697239798892179, 0.7982315273826226, 0.19512326224908552, 0.9870315975272248, 0.8847323704690303, 0.7790162208952122, 0.9982732711780511, 0.9946125553547793, 0.9854837597937883, 0.9849965447143338, 0.011193142553571976, 0.6266525789704543, 0.0014991688492116133, 0.3568021861123639, 0.0014991688492116133, 0.01349251964290452, 0.9696231486976138, 0.9536283000491986, 0.8888387953909667, 0.9828044734121233, 0.9955715253252879, 0.8277048262329182, 0.1609426051008452, 0.9987605745392716, 0.996741439024948, 0.9035366792621122, 0.9947126011254827, 0.7593433171117464, 0.918236728120462, 0.08079457244635349, 0.43666474445534803, 0.8513425326592527, 0.8228212679210887, 0.029689427193028972, 0.1475988666167726, 0.30628405571757034, 0.6912086122274899, 0.9943640787653761, 0.256162548421612, 0.1601015927635075, 0.08861436994817393, 0.064040637105403, 0.4311573126049807, 0.9684971576285298, 0.9755015042043386, 0.9464602440530604, 0.8614830028948209, 0.07646298842261724, 0.05607285817658598, 0.9965494658409453, 0.9734749365866974, 0.9928809257205279, 0.8898669861052982, 0.10842917057585567, 0.8088689221103905, 0.18666205894855165, 0.9992544378493617, 0.981294353264987, 0.971601217887327, 0.9339835041477845, 0.9515044491723688, 0.9865443971809221, 0.9705052409009266, 0.1816075871457542, 0.18658313747851457, 0.6294071170941892, 0.9971699910381813, 0.1423423155073594, 0.8564262649692791, 0.9757832570524503, 0.985163989133147, 0.9896973157534772, 0.9976420725382504, 0.9754471390142113, 0.9170954258717253, 0.99825889977125, 0.9950470790950391, 0.9801941048630821, 0.9690766566636916, 0.9934426995854477, 0.9846144310127599, 0.996640987532661, 0.9911072256871137, 0.9963232166996849, 0.9876550149882865, 0.9830605970837525, 0.9510254772106853, 0.9558836954554178, 0.9495401476152259, 0.04450969441946371, 0.9935326514234374, 0.7796786741520014, 0.18192502396880034, 0.9959913079336941, 0.9944112894305006, 0.9834231274759752, 0.9877058782629793, 0.9297377200449041, 0.9668143013227007, 0.9807181530191518, 0.9956732449596298, 0.9730877222307789, 0.8299608408205107, 0.1638080606882587, 0.9961323456753918, 0.32880392203191344, 0.6691448237842449, 0.054412626024980294, 0.9340834134288284, 0.97389141667023, 0.9707921881504357, 0.9919336063435659, 0.9953127174695835, 0.9546791326228465, 0.004797382575994204, 0.04077775189595073, 0.7522777543812871, 0.2444902701739183, 0.9606366564344093, 0.9517080155007689, 0.21250356743474538, 0.23565570707744138, 0.5043858993587342, 0.04795800354558456, 0.9912540123636252, 0.9981305219277399, 0.9858416543645004, 0.4231698550611767, 0.23781446400132245, 0.12240450353009244, 0.21683083482473517, 0.9875096491346637, 0.9926243796805683, 0.9806009969891141, 0.6540795302905601, 0.9558307424098065, 0.9930706184890417, 0.0034967275298909916, 0.9983404323059362, 0.9438338815200964, 0.9639823057563655, 0.03286303315078518, 0.9842938893649232, 0.7301279108839965, 0.965935638820221, 0.9942443931035108, 0.9665332597073034, 0.9887937356813431, 0.9993868717725887, 0.99523039094996, 0.004136452165211804, 0.988880950627069, 0.9937030217102446, 0.9152005481963255, 0.9596170411334218, 0.9937162582095871, 0.9744289207906442, 0.9764826065450297, 0.015204746468694234, 0.006757665097197438, 0.9947079672624896, 0.0028665935655979523, 0.4329682501218217, 0.5116897501439711, 0.991621640180228, 0.2848220086276643, 0.12324029219466244, 0.5888147293744983, 0.9842392509189581, 0.8971774885481958, 0.9803113679249109, 0.2781686514819294, 0.274647529311272, 0.16373218093556602, 0.2816897736525867, 0.9817934583355455, 0.5728413020719605, 0.42120683975879447, 0.9949263929906272, 0.9882103407160469, 0.9618988530683067, 0.9976531156649808, 0.8866953198459123, 0.1122689164662783, 0.9809492414008021, 0.9497621788759849, 0.9706136421988029, 0.99772984720286, 0.9836723093303086, 0.9025948578698666, 0.6137474452833589, 0.23422065046993254, 0.0014638790654370785, 0.7626809930927179, 0.7814893244749198, 0.1978262831037961, 0.019631615880529384, 0.7507943494324725, 0.09978266314242422, 0.756685195496717, 0.14135877278510098, 0.981279290932906, 0.9937183816211842, 0.9950123894371093, 0.003519053543544153, 0.9809400485335614, 0.016532697447194857, 0.9669129942626014, 0.9945039101295008, 0.9777599683998754, 0.017995582240488507, 0.9485251156165772, 0.9889548643010987, 0.8449846967003396, 0.8064340281113497, 0.18873987891967758, 0.9079866459143394, 0.8943014159088203, 0.10282908266547411, 0.9872023501429871, 0.9982124297346767, 0.9825614398070555, 0.5847625509479522, 0.9923948213745947, 0.7002082510805245, 0.254759864772217, 0.044239736996373014, 0.968991216901392, 0.02290342876312381, 0.007047208850191942, 0.997716487903005, 0.845290150632814, 0.9969450906068203, 0.9173788636896818, 0.419043951355019, 0.3397653659635289, 0.23783575617447023, 0.9666903167356942, 0.9832786015321261, 0.9988003848699093, 0.9978012628242263, 0.9944561067953454, 0.22409397101234846, 0.33460606630610934, 0.15553554152455237, 0.2813965389424467, 0.004093040566435589, 0.9816071486448246, 0.9973699152781246, 0.9770430219315238, 0.20670062093104152, 0.02198942775862144, 0.6574838899827811, 0.024188370534483583, 0.0703661688275886, 0.015392599431035008, 0.9915720457135563, 0.9765825963176725, 0.9782716056815015, 0.9952380224328639, 0.993423827290291, 0.9485746809028872, 0.994553593258145, 0.41893789494015654, 0.05275514232579749, 0.170678401642286, 0.3537697779494655, 0.9455520409359655, 0.9952367987719823, 0.9917407048772648, 0.8908750730032594, 0.991985960997334, 0.9972592022889785, 0.9724212651276245, 0.98016311007239, 0.992493325228913, 0.9374872440873075, 0.994430762684161, 0.9969350726486086, 0.1396704656410648, 0.6983523282053241, 0.7620334534650623, 0.6335950286105309, 0.9307254960470829, 0.9436016245277195, 0.022046766928217745, 0.030865473699504844, 0.9967714196868364, 0.99638526030421, 0.9923732379714099, 0.9961654350070622, 0.986989955753986, 0.9980308970081382, 0.9634198452182068, 0.7992367811691745, 0.19980919529229363, 0.9996903993073453, 0.9938615319950964, 0.9131815506528231, 0.014434872448386083, 0.9671364540418675, 0.066543229343698, 0.9260599416997972, 0.9418348464929864, 0.8750553569032472, 0.11581615017837096, 0.9762872863804195, 0.9385402723905987, 0.5945554405349295, 0.061294375312879325, 0.3340543454551923, 0.0091941562969319, 0.985844721468044, 0.9901509647531556, 0.9608253690447763, 0.004169348240406115, 0.9936946639634573, 0.9977554979841262, 0.9908586818190918, 0.9942497856157503, 0.005034176129700001, 0.6055149962746178, 0.3896878688896055, 0.9180643248365901, 0.9428959597893619, 0.9809844816673806, 0.9991794513483636, 0.9991106598986575, 0.967538884493296, 0.9804782076789662, 0.9970504857665768, 0.998397981404528, 0.9964337505618884, 0.9049707083683424, 0.07191820198953715, 0.017979550497384287, 0.979294079412088, 0.9895159021785068, 0.008223123840818617, 0.9727875225990907, 0.9943574588809442, 0.5025797832682757, 0.9881918339052276, 0.9909110838094574, 0.993204760483994, 0.9902157043270093, 0.9835863496069813, 0.9659339462780343, 0.5903422823934221, 0.9692907389976294, 0.7051481819717023, 0.8959479602014639, 0.8553169051447433, 0.9669447798200439, 0.9682652508167013, 0.0021422272368636646, 0.7412106239548278, 0.0728357260533646, 0.1799470878965478, 0.8828471677893635, 0.044968122192120645, 0.8567926215005387, 0.015588949026601824, 0.08214176987094038, 0.9464637578055345, 0.023834654206398156, 0.9152507215256891, 0.059586635515995384, 0.9349512933398765, 0.9530112315198723, 0.663685836634482, 0.9254461935585248, 0.9967405046887955, 0.9793107888855771, 0.9861510022836123, 0.9393491324385665, 0.5772802861953772, 0.32258767037544656, 0.05410925667622341, 0.04583777794864786, 0.8191424706984658, 0.1748731117221444, 0.8364220001393754, 0.9988364575113698, 0.9761786430587683, 0.9652873681371977, 0.9863456856775418, 0.9947588361067901, 0.9993186013095932, 0.8629404936183306, 0.12656460573068848, 0.9972992396025092, 0.6088050587862497, 0.3483656003658065, 0.04118059812630939, 0.9892257493395981, 0.9802204963011747, 0.9984771663402813, 0.24006744967985036, 0.7583948978522546, 0.683637007207117, 0.99849314044232, 0.990513205832316, 0.7473960028969392, 0.014641153041824367, 0.2258920755024331, 0.011852361986238773, 0.9153521109819286, 0.020287059197294517, 0.05599228338453287, 0.007303341311026026, 0.9990828905420029, 0.40937190120258204, 0.2521452305963298, 0.07204149445609423, 0.6843941973328952, 0.9985635434571791, 0.9747033182401005, 0.9982440847068467, 0.5354252506087874, 0.34756747696661855, 0.11626376870362241, 0.935188772132502, 0.9803844329951865, 0.9666322981980197, 0.9989914382688736, 0.9813073304535904, 0.7572183548632754], \"Term\": [\"_\", \"absolute\", \"accomplish\", \"accord\", \"accord\", \"action\", \"action\", \"activate\", \"activity\", \"actually\", \"actually\", \"add\", \"add\", \"add\", \"add\", \"additional\", \"additional\", \"advantage\", \"algorithm\", \"alpha\", \"already\", \"also\", \"also\", \"also\", \"alternative\", \"alternative\", \"amp\", \"amp\", \"amp\", \"android\", \"angular\", \"answer\", \"anywhere\", \"apache\", \"api\", \"api\", \"apk_re\", \"app\", \"app\", \"app\", \"apparently\", \"apparently\", \"application\", \"application\", \"application\", \"approach\", \"architecture\", \"area\", \"area\", \"area\", \"argument\", \"array\", \"arraylist\", \"article\", \"asarray\", \"ask\", \"aspx\", \"assembly\", \"assume\", \"asynchronous\", \"attachment\", \"attribute\", \"authenticate\", \"authentication\", \"authorization\", \"automatic\", \"await\", \"axis\", \"background\", \"background\", \"bar\", \"base\", \"base\", \"base\", \"base\", \"believe\", \"bind\", \"bit\", \"black\", \"blank\", \"block\", \"block\", \"block\", \"blockquote\", \"blockquote\", \"blockquote\", \"blog\", \"bluetooth\", \"body\", \"body\", \"body\", \"boost\", \"bootstrap\", \"border\", \"bottom\", \"bound\", \"br\", \"branch\", \"break\", \"break\", \"buffer\", \"build\", \"bundle\", \"bundle\", \"button\", \"button\", \"byte\", \"cache\", \"call\", \"call\", \"call\", \"call\", \"call\", \"callback\", \"cant_seem\", \"card\", \"care\", \"case\", \"category\", \"centos\", \"cert\", \"certificate\", \"cgrect\", \"ch\", \"channel\", \"child\", \"choice\", \"chrome\", \"class\", \"click\", \"client\", \"client\", \"clone\", \"closing\", \"code\", \"code\", \"code\", \"code\", \"collect\", \"collection\", \"color\", \"colour\", \"column\", \"com\", \"com\", \"com\", \"com\", \"com\", \"com\", \"combination\", \"command\", \"community\", \"compatible\", \"compile\", \"completely\", \"compose\", \"computation\", \"connect\", \"connect\", \"connection\", \"console_log\", \"const\", \"container\", \"content\", \"continuous\", \"controller\", \"convention\", \"convert\", \"coordinate\", \"copy\", \"copy\", \"cor\", \"core\", \"correct\", \"count\", \"create\", \"create\", \"create\", \"create\", \"creation\", \"css\", \"ctx\", \"curious\", \"cygwin\", \"d\", \"database\", \"dataframe\", \"date\", \"datetime\", \"datum\", \"datum\", \"datum\", \"datum\", \"declaration\", \"declare\", \"decrypt\", \"deep\", \"def\", \"default\", \"delegate\", \"delegate\", \"dependent\", \"description\", \"destination\", \"developer\", \"developer\", \"device\", \"device\", \"device\", \"dialog\", \"dictionary\", \"difference\", \"different\", \"discover\", \"discover\", \"discussion\", \"discussion\", \"dismiss\", \"display\", \"document\", \"domain\", \"download\", \"draw\", \"driver\", \"driver\", \"dtype\", \"duplicate\", \"easily\", \"easy\", \"edge\", \"effect\", \"effectively\", \"embe\", \"emit\", \"encounter\", \"encrypt\", \"encryption\", \"endpoint\", \"engine\", \"enter_image\", \"entire\", \"entirely\", \"equal\", \"error\", \"escape\", \"establish\", \"event\", \"example\", \"example\", \"example\", \"excel\", \"exception\", \"exception\", \"exception\", \"expensive\", \"expire\", \"extend\", \"extension\", \"external\", \"extract\", \"fail\", \"fairly\", \"false\", \"false\", \"false\", \"false\", \"false\", \"fashion\", \"fatal\", \"feel\", \"fetch\", \"field\", \"file\", \"filter\", \"find\", \"find\", \"find\", \"first\", \"first\", \"fix\", \"float\", \"flow\", \"folder\", \"folder\", \"follow\", \"follow\", \"follow\", \"follow\", \"font\", \"foo\", \"form\", \"format\", \"format\", \"forward\", \"foundation\", \"fragment\", \"frame\", \"front\", \"func\", \"function\", \"function\", \"function\", \"game\", \"garbage\", \"generator\", \"get\", \"get\", \"get\", \"get\", \"get\", \"getname\", \"git\", \"give\", \"give\", \"give\", \"good\", \"guide\", \"handler\", \"handler\", \"header\", \"hear\", \"height\", \"hibernate\", \"hierarchy\", \"hit\", \"hold\", \"horizontal\", \"host\", \"hour\", \"http\", \"http\", \"http\", \"http_schema\", \"https_stack\", \"i\", \"identify\", \"identity\", \"image\", \"img_src\", \"imgur\", \"implement\", \"implement\", \"implementation\", \"implementation\", \"import\", \"import\", \"improve\", \"include\", \"index\", \"index\", \"indicate\", \"info\", \"initial\", \"initialize\", \"input\", \"instal\", \"int\", \"integer\", \"integration\", \"integrity\", \"interact\", \"intercept\", \"interface\", \"internal\", \"interpret\", \"io\", \"ip_address\", \"iphone\", \"issue\", \"issue\", \"issue\", \"item\", \"item\", \"iteration\", \"ive_looke\", \"java\", \"java\", \"javascript\", \"job\", \"join\", \"kernel\", \"key\", \"keystore\", \"know\", \"know\", \"know\", \"knowledge\", \"language\", \"late\", \"layer\", \"layout\", \"layout\", \"layout_height_match_parent\", \"layout_height_wrap_content\", \"learn\", \"learn\", \"leave\", \"leave\", \"left\", \"length\", \"length\", \"let\", \"let\", \"level\", \"library\", \"like\", \"like\", \"line\", \"line\", \"link\", \"link\", \"list\", \"list\", \"listen\", \"live\", \"loading\", \"localhost\", \"locally\", \"lock\", \"log\", \"logger\", \"logo\", \"look\", \"look\", \"lot\", \"m\", \"m\", \"m\", \"machine\", \"magically\", \"main\", \"main\", \"main\", \"main\", \"mainactivity\", \"major\", \"make\", \"make\", \"make\", \"many\", \"map\", \"margin\", \"mask\", \"master\", \"master\", \"match\", \"matplotlib\", \"md\", \"mean\", \"memory\", \"menu\", \"message\", \"message\", \"method\", \"method\", \"method\", \"method\", \"method\", \"middle\", \"minimum\", \"minor\", \"minute\", \"miss\", \"mode\", \"mode\", \"model\", \"module\", \"motionevent\", \"move\", \"myapp\", \"name\", \"name\", \"narrow\", \"natural\", \"need\", \"need\", \"need\", \"net\", \"net\", \"network\", \"new\", \"new\", \"new\", \"new\", \"new\", \"node\", \"node_module\", \"nodejs\", \"none\", \"none\", \"none\", \"noreferr\", \"normally\", \"notification\", \"null\", \"null\", \"numpy\", \"numpy\", \"object\", \"obvious\", \"online\", \"onload\", \"openssl\", \"operation\", \"optimization\", \"option\", \"option\", \"option\", \"order\", \"org\", \"org\", \"org_springframework\", \"origin\", \"override\", \"package\", \"packet\", \"padding\", \"page\", \"panda\", \"parallel\", \"parquet\", \"parse\", \"partition\", \"pass\", \"password\", \"path\", \"pattern\", \"pdf\", \"peer\", \"pem\", \"perform\", \"perform\", \"performance\", \"permission\", \"permission\", \"person\", \"phone\", \"photo\", \"pick\", \"pixel\", \"planning\", \"plot\", \"plugin\", \"pm\", \"png\", \"png\", \"png_alt\", \"point\", \"point\", \"pointer\", \"pointer\", \"pool\", \"populate\", \"port\", \"position\", \"possible\", \"possible\", \"possible\", \"post\", \"post\", \"postgresql\", \"practical\", \"pre\", \"pre\", \"pre\", \"pre\", \"println\", \"private\", \"probably\", \"process\", \"process\", \"process\", \"process\", \"processor\", \"product\", \"profile\", \"profiler\", \"profiling\", \"program\", \"program\", \"project\", \"prompt\", \"property\", \"property\", \"protect\", \"protection\", \"protocol\", \"provider\", \"provision\", \"proxy\", \"public\", \"question\", \"question\", \"queue\", \"quite\", \"ram\", \"raw\", \"re\", \"reach\", \"read\", \"read\", \"read\", \"really\", \"really\", \"red\", \"red\", \"ref\", \"reference\", \"reference\", \"reference\", \"refresh\", \"regex\", \"regular\", \"rel_noreferrer\", \"rel_noreferrer\", \"rel_noreferrer\", \"rel_noreferrer\", \"remote\", \"render\", \"render\", \"replace\", \"repository\", \"reproduce\", \"request\", \"require\", \"require\", \"requirement\", \"reset\", \"respond\", \"response\", \"rest\", \"restful\", \"restriction\", \"result\", \"result\", \"result\", \"return\", \"return\", \"return\", \"revision\", \"right\", \"right\", \"right\", \"role\", \"row\", \"run\", \"run\", \"s\", \"s\", \"safe\", \"save\", \"say\", \"say\", \"scheme\", \"scope\", \"scratch\", \"screen\", \"screen\", \"screenshot\", \"script\", \"script\", \"scroll\", \"search\", \"secure\", \"secure_connection\", \"security\", \"see\", \"see\", \"see\", \"seem\", \"seem\", \"seem\", \"select\", \"selenium\", \"self\", \"self_signe\", \"send\", \"send\", \"send\", \"sense\", \"serve\", \"server\", \"service\", \"session\", \"set\", \"set\", \"set\", \"set\", \"set\", \"shape\", \"share\", \"short\", \"show\", \"show\", \"show\", \"show\", \"show\", \"show\", \"side\", \"sign\", \"signal\", \"similar\", \"single\", \"sit\", \"site\", \"size\", \"size\", \"size\", \"size\", \"size_t\", \"small\", \"socket\", \"solid\", \"sort\", \"source\", \"spark\", \"special\", \"split\", \"spreadsheet\", \"spring\", \"sqlite\", \"ssl\", \"ssl\", \"ssl_certificate\", \"ssl_routine\", \"star\", \"state\", \"state\", \"state\", \"static\", \"status\", \"std\", \"step\", \"storage\", \"store\", \"stream\", \"string\", \"string\", \"strong\", \"struct\", \"stuck\", \"stuff\", \"stuff\", \"style\", \"style\", \"successful\", \"successfully\", \"successfully\", \"sum\", \"supply\", \"support\", \"support\", \"support\", \"support\", \"suspect\", \"swift\", \"sys\", \"system\", \"system\", \"table\", \"tag\", \"take\", \"take\", \"task\", \"task\", \"technique\", \"temp\", \"term\", \"test\", \"text\", \"text_align\", \"theme\", \"thing\", \"think\", \"thread\", \"throw\", \"throw\", \"throw\", \"throws_exception\", \"time\", \"time\", \"tip\", \"title\", \"tls\", \"together\", \"token\", \"tool\", \"top\", \"tostre\", \"touch\", \"trac\", \"trace\", \"traffic\", \"transactional\", \"transparent\", \"trigger\", \"trouble\", \"true\", \"true\", \"true\", \"true\", \"trust\", \"try\", \"try\", \"try\", \"try\", \"tuple\", \"type\", \"type\", \"type\", \"typical\", \"ubuntu\", \"uikit\", \"underscore\", \"understand\", \"understanding\", \"unique\", \"unsure\", \"use\", \"use\", \"use\", \"use\", \"useful\", \"useful\", \"useless\", \"user\", \"username\", \"uuid\", \"valid\", \"validation\", \"value\", \"var\", \"var\", \"variable\", \"ve\", \"ve\", \"ve\", \"vector\", \"verify\", \"version\", \"view\", \"view\", \"viewgroup\", \"void\", \"wait\", \"want\", \"want\", \"want\", \"want\", \"way\", \"way\", \"way\", \"way\", \"web\", \"webdriver\", \"welcome\", \"welcome\", \"welcome\", \"well\", \"white\", \"window\", \"work\", \"work\", \"work\", \"workaround\", \"worker\", \"wrapper\", \"write\", \"yet\", \"youtube\"]}, \"R\": 30, \"lambda.step\": 0.01, \"plot.opts\": {\"xlab\": \"PC1\", \"ylab\": \"PC2\"}, \"topic.order\": [13, 7, 4, 18, 17, 12, 19, 1, 6, 9, 3, 14, 20, 10, 16, 15, 8, 5, 2, 11]};\n",
       "\n",
       "function LDAvis_load_lib(url, callback){\n",
       "  var s = document.createElement('script');\n",
       "  s.src = url;\n",
       "  s.async = true;\n",
       "  s.onreadystatechange = s.onload = callback;\n",
       "  s.onerror = function(){console.warn(\"failed to load library \" + url);};\n",
       "  document.getElementsByTagName(\"head\")[0].appendChild(s);\n",
       "}\n",
       "\n",
       "if(typeof(LDAvis) !== \"undefined\"){\n",
       "   // already loaded: just create the visualization\n",
       "   !function(LDAvis){\n",
       "       new LDAvis(\"#\" + \"ldavis_el769632647738337763944949643\", ldavis_el769632647738337763944949643_data);\n",
       "   }(LDAvis);\n",
       "}else if(typeof define === \"function\" && define.amd){\n",
       "   // require.js is available: use it to load d3/LDAvis\n",
       "   require.config({paths: {d3: \"https://d3js.org/d3.v5\"}});\n",
       "   require([\"d3\"], function(d3){\n",
       "      window.d3 = d3;\n",
       "      LDAvis_load_lib(\"https://cdn.jsdelivr.net/gh/bmabey/pyLDAvis@3.3.1/pyLDAvis/js/ldavis.v3.0.0.js\", function(){\n",
       "        new LDAvis(\"#\" + \"ldavis_el769632647738337763944949643\", ldavis_el769632647738337763944949643_data);\n",
       "      });\n",
       "    });\n",
       "}else{\n",
       "    // require.js not available: dynamically load d3 & LDAvis\n",
       "    LDAvis_load_lib(\"https://d3js.org/d3.v5.js\", function(){\n",
       "         LDAvis_load_lib(\"https://cdn.jsdelivr.net/gh/bmabey/pyLDAvis@3.3.1/pyLDAvis/js/ldavis.v3.0.0.js\", function(){\n",
       "                 new LDAvis(\"#\" + \"ldavis_el769632647738337763944949643\", ldavis_el769632647738337763944949643_data);\n",
       "            })\n",
       "         });\n",
       "}\n",
       "</script>"
      ],
      "text/plain": [
       "PreparedData(topic_coordinates=              x         y  topics  cluster       Freq\n",
       "topic                                                \n",
       "12     0.366660 -0.035487       1        1  30.283362\n",
       "6      0.348225 -0.139134       2        1  22.727947\n",
       "3      0.274177 -0.144879       3        1  11.102815\n",
       "17     0.282777  0.213357       4        1  10.606349\n",
       "16     0.091518  0.301957       5        1   4.147182\n",
       "11     0.014305 -0.011162       6        1   3.449133\n",
       "18    -0.021083  0.046378       7        1   2.575074\n",
       "0     -0.019996 -0.067647       8        1   2.169137\n",
       "5     -0.051605  0.056337       9        1   1.922134\n",
       "8     -0.088165 -0.002400      10        1   1.789956\n",
       "2     -0.028444 -0.136917      11        1   1.670290\n",
       "13    -0.088025 -0.020067      12        1   1.573932\n",
       "19    -0.095291  0.000513      13        1   1.435351\n",
       "9     -0.104445  0.020261      14        1   1.226966\n",
       "15    -0.128570 -0.015347      15        1   0.886892\n",
       "14    -0.127986 -0.005088      16        1   0.839203\n",
       "7     -0.141521 -0.010461      17        1   0.674672\n",
       "4     -0.150786 -0.015981      18        1   0.471469\n",
       "1     -0.161923 -0.015966      19        1   0.266507\n",
       "10    -0.169822 -0.018266      20        1   0.181627, topic_info=        Term          Freq         Total Category  logprob  loglift\n",
       "65      code  11279.000000  11279.000000  Default  30.0000  30.0000\n",
       "66       com   2342.000000   2342.000000  Default  29.0000  29.0000\n",
       "244    class   1597.000000   1597.000000  Default  28.0000  28.0000\n",
       "239   strong   3763.000000   3763.000000  Default  27.0000  27.0000\n",
       "324   public   1094.000000   1094.000000  Default  26.0000  26.0000\n",
       "...      ...           ...           ...      ...      ...      ...\n",
       "2091    face      0.020947      1.036555  Topic20  -9.8521   2.4093\n",
       "3809   flask      0.020947      1.036540  Topic20  -9.8521   2.4093\n",
       "2791   email      0.020948      1.036658  Topic20  -9.8521   2.4092\n",
       "2515    rail      0.020947      1.036642  Topic20  -9.8521   2.4092\n",
       "2671    play      0.020947      1.036602  Topic20  -9.8521   2.4093\n",
       "\n",
       "[798 rows x 6 columns], token_table=      Topic      Freq        Term\n",
       "term                             \n",
       "1834      4  0.975739           _\n",
       "1531     12  0.949930    absolute\n",
       "586      12  0.976923  accomplish\n",
       "348       2  0.788239      accord\n",
       "348      13  0.202690      accord\n",
       "...     ...       ...         ...\n",
       "338       6  0.980384      worker\n",
       "1012      4  0.966632     wrapper\n",
       "114       1  0.998991       write\n",
       "1586     13  0.981307         yet\n",
       "1662     20  0.757218     youtube\n",
       "\n",
       "[870 rows x 3 columns], R=30, lambda_step=0.01, plot_opts={'xlab': 'PC1', 'ylab': 'PC2'}, topic_order=[13, 7, 4, 18, 17, 12, 19, 1, 6, 9, 3, 14, 20, 10, 16, 15, 8, 5, 2, 11])"
      ]
     },
     "execution_count": 75,
     "metadata": {},
     "output_type": "execute_result"
    }
   ],
   "source": [
    "from pyLDAvis import gensim_models\n",
    "# Visualize the topics\n",
    "pyLDAvis.enable_notebook()\n",
    "vis = gensim_models.prepare(lda_model, corpus, id2word)\n",
    "vis"
   ]
  },
  {
   "cell_type": "code",
   "execution_count": null,
   "id": "e8eb8795",
   "metadata": {},
   "outputs": [],
   "source": []
  },
  {
   "cell_type": "code",
   "execution_count": null,
   "id": "442d7b49",
   "metadata": {},
   "outputs": [],
   "source": []
  },
  {
   "cell_type": "code",
   "execution_count": null,
   "id": "972abee7",
   "metadata": {},
   "outputs": [],
   "source": []
  },
  {
   "cell_type": "code",
   "execution_count": null,
   "id": "9c11c095",
   "metadata": {},
   "outputs": [],
   "source": []
  }
 ],
 "metadata": {
  "kernelspec": {
   "display_name": "Python 3 (ipykernel)",
   "language": "python",
   "name": "python3"
  },
  "language_info": {
   "codemirror_mode": {
    "name": "ipython",
    "version": 3
   },
   "file_extension": ".py",
   "mimetype": "text/x-python",
   "name": "python",
   "nbconvert_exporter": "python",
   "pygments_lexer": "ipython3",
   "version": "3.8.12"
  },
  "toc": {
   "base_numbering": 1,
   "nav_menu": {},
   "number_sections": true,
   "sideBar": true,
   "skip_h1_title": false,
   "title_cell": "Table of Contents",
   "title_sidebar": "Contents",
   "toc_cell": false,
   "toc_position": {},
   "toc_section_display": true,
   "toc_window_display": false
  }
 },
 "nbformat": 4,
 "nbformat_minor": 5
}
