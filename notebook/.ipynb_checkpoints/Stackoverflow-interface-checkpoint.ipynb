{
 "cells": [
  {
   "cell_type": "code",
   "execution_count": 263,
   "id": "765d57b9",
   "metadata": {},
   "outputs": [],
   "source": [
    "#import des librairies\n",
    "import numpy as np\n",
    "import pandas as pd\n",
    "import matplotlib.pyplot as plt\n",
    "import seaborn as sns"
   ]
  },
  {
   "cell_type": "markdown",
   "id": "b29f621c",
   "metadata": {},
   "source": [
    "# Data cleanning "
   ]
  },
  {
   "cell_type": "code",
   "execution_count": 264,
   "id": "686daf91",
   "metadata": {},
   "outputs": [
    {
     "data": {
      "text/plain": [
       "'/home/ping/code/public-health/stackoverflow/notebook'"
      ]
     },
     "execution_count": 264,
     "metadata": {},
     "output_type": "execute_result"
    }
   ],
   "source": [
    "import os\n",
    "os.getcwd()"
   ]
  },
  {
   "cell_type": "code",
   "execution_count": 265,
   "id": "8e6699b8",
   "metadata": {},
   "outputs": [],
   "source": [
    "csv_path ='/home/ping/code/public-health/stackoverflow/data'"
   ]
  },
  {
   "cell_type": "code",
   "execution_count": 266,
   "id": "ab7f5f35",
   "metadata": {},
   "outputs": [],
   "source": [
    "data = pd.read_csv(os.path.join(csv_path, 'QueryResults.csv'))"
   ]
  },
  {
   "cell_type": "code",
   "execution_count": 267,
   "id": "acd722f7",
   "metadata": {},
   "outputs": [
    {
     "data": {
      "text/html": [
       "<div>\n",
       "<style scoped>\n",
       "    .dataframe tbody tr th:only-of-type {\n",
       "        vertical-align: middle;\n",
       "    }\n",
       "\n",
       "    .dataframe tbody tr th {\n",
       "        vertical-align: top;\n",
       "    }\n",
       "\n",
       "    .dataframe thead th {\n",
       "        text-align: right;\n",
       "    }\n",
       "</style>\n",
       "<table border=\"1\" class=\"dataframe\">\n",
       "  <thead>\n",
       "    <tr style=\"text-align: right;\">\n",
       "      <th></th>\n",
       "      <th>Title</th>\n",
       "      <th>Body</th>\n",
       "      <th>Tags</th>\n",
       "      <th>Id</th>\n",
       "      <th>Score</th>\n",
       "      <th>ViewCount</th>\n",
       "      <th>FavoriteCount</th>\n",
       "      <th>AnswerCount</th>\n",
       "    </tr>\n",
       "  </thead>\n",
       "  <tbody>\n",
       "    <tr>\n",
       "      <th>0</th>\n",
       "      <td>Import CSV file to strongly typed data structu...</td>\n",
       "      <td>&lt;p&gt;What's the best way to import a CSV file in...</td>\n",
       "      <td>&lt;c#&gt;&lt;vb.net&gt;&lt;file&gt;&lt;csv&gt;&lt;import&gt;</td>\n",
       "      <td>1898</td>\n",
       "      <td>109</td>\n",
       "      <td>69257</td>\n",
       "      <td>28</td>\n",
       "      <td>11</td>\n",
       "    </tr>\n",
       "    <tr>\n",
       "      <th>1</th>\n",
       "      <td>Change hash without reload in jQuery</td>\n",
       "      <td>&lt;p&gt;I have the following code:&lt;/p&gt;\\n\\n&lt;pre&gt;&lt;cod...</td>\n",
       "      <td>&lt;jquery&gt;&lt;hash&gt;&lt;reload&gt;&lt;fragment-identifier&gt;&lt;wi...</td>\n",
       "      <td>1939041</td>\n",
       "      <td>56</td>\n",
       "      <td>113780</td>\n",
       "      <td>14</td>\n",
       "      <td>5</td>\n",
       "    </tr>\n",
       "    <tr>\n",
       "      <th>2</th>\n",
       "      <td>Pass by reference or pass by value?</td>\n",
       "      <td>&lt;p&gt;When learning a new programming language, o...</td>\n",
       "      <td>&lt;language-agnostic&gt;&lt;oop&gt;&lt;parameters&gt;&lt;pass-by-r...</td>\n",
       "      <td>2027</td>\n",
       "      <td>52</td>\n",
       "      <td>18382</td>\n",
       "      <td>19</td>\n",
       "      <td>11</td>\n",
       "    </tr>\n",
       "    <tr>\n",
       "      <th>3</th>\n",
       "      <td>What are MVP and MVC and what is the difference?</td>\n",
       "      <td>&lt;p&gt;When looking beyond the &lt;a href=\"https://en...</td>\n",
       "      <td>&lt;user-interface&gt;&lt;model-view-controller&gt;&lt;design...</td>\n",
       "      <td>2056</td>\n",
       "      <td>2319</td>\n",
       "      <td>550884</td>\n",
       "      <td>1357</td>\n",
       "      <td>24</td>\n",
       "    </tr>\n",
       "    <tr>\n",
       "      <th>4</th>\n",
       "      <td>LINQ on the .NET 2.0 Runtime</td>\n",
       "      <td>&lt;p&gt;Can a LINQ enabled app run on a machine tha...</td>\n",
       "      <td>&lt;.net&gt;&lt;linq&gt;&lt;.net-3.5&gt;&lt;.net-2.0&gt;&lt;clr&gt;</td>\n",
       "      <td>2138</td>\n",
       "      <td>61</td>\n",
       "      <td>56573</td>\n",
       "      <td>13</td>\n",
       "      <td>8</td>\n",
       "    </tr>\n",
       "  </tbody>\n",
       "</table>\n",
       "</div>"
      ],
      "text/plain": [
       "                                               Title  \\\n",
       "0  Import CSV file to strongly typed data structu...   \n",
       "1               Change hash without reload in jQuery   \n",
       "2                Pass by reference or pass by value?   \n",
       "3   What are MVP and MVC and what is the difference?   \n",
       "4                       LINQ on the .NET 2.0 Runtime   \n",
       "\n",
       "                                                Body  \\\n",
       "0  <p>What's the best way to import a CSV file in...   \n",
       "1  <p>I have the following code:</p>\\n\\n<pre><cod...   \n",
       "2  <p>When learning a new programming language, o...   \n",
       "3  <p>When looking beyond the <a href=\"https://en...   \n",
       "4  <p>Can a LINQ enabled app run on a machine tha...   \n",
       "\n",
       "                                                Tags       Id  Score  \\\n",
       "0                    <c#><vb.net><file><csv><import>     1898    109   \n",
       "1  <jquery><hash><reload><fragment-identifier><wi...  1939041     56   \n",
       "2  <language-agnostic><oop><parameters><pass-by-r...     2027     52   \n",
       "3  <user-interface><model-view-controller><design...     2056   2319   \n",
       "4              <.net><linq><.net-3.5><.net-2.0><clr>     2138     61   \n",
       "\n",
       "   ViewCount  FavoriteCount  AnswerCount  \n",
       "0      69257             28           11  \n",
       "1     113780             14            5  \n",
       "2      18382             19           11  \n",
       "3     550884           1357           24  \n",
       "4      56573             13            8  "
      ]
     },
     "execution_count": 267,
     "metadata": {},
     "output_type": "execute_result"
    }
   ],
   "source": [
    "data.head()"
   ]
  },
  {
   "cell_type": "code",
   "execution_count": 268,
   "id": "42e9e5bd",
   "metadata": {},
   "outputs": [
    {
     "data": {
      "text/plain": [
       "(27933, 8)"
      ]
     },
     "execution_count": 268,
     "metadata": {},
     "output_type": "execute_result"
    }
   ],
   "source": [
    "data.shape"
   ]
  },
  {
   "cell_type": "code",
   "execution_count": 269,
   "id": "91579299",
   "metadata": {},
   "outputs": [
    {
     "name": "stdout",
     "output_type": "stream",
     "text": [
      "<class 'pandas.core.frame.DataFrame'>\n",
      "RangeIndex: 27933 entries, 0 to 27932\n",
      "Data columns (total 8 columns):\n",
      " #   Column         Non-Null Count  Dtype \n",
      "---  ------         --------------  ----- \n",
      " 0   Title          27933 non-null  object\n",
      " 1   Body           27933 non-null  object\n",
      " 2   Tags           27933 non-null  object\n",
      " 3   Id             27933 non-null  int64 \n",
      " 4   Score          27933 non-null  int64 \n",
      " 5   ViewCount      27933 non-null  int64 \n",
      " 6   FavoriteCount  27933 non-null  int64 \n",
      " 7   AnswerCount    27933 non-null  int64 \n",
      "dtypes: int64(5), object(3)\n",
      "memory usage: 1.7+ MB\n"
     ]
    }
   ],
   "source": [
    "data.info()"
   ]
  },
  {
   "cell_type": "code",
   "execution_count": 270,
   "id": "217a83a0",
   "metadata": {},
   "outputs": [
    {
     "data": {
      "text/plain": [
       "int64     5\n",
       "object    3\n",
       "dtype: int64"
      ]
     },
     "execution_count": 270,
     "metadata": {},
     "output_type": "execute_result"
    }
   ],
   "source": [
    "data.dtypes.value_counts()"
   ]
  },
  {
   "cell_type": "code",
   "execution_count": 271,
   "id": "84687785",
   "metadata": {},
   "outputs": [
    {
     "data": {
      "text/plain": [
       "Title            27933\n",
       "Body             27933\n",
       "Tags             27447\n",
       "Id               27933\n",
       "Score             1095\n",
       "ViewCount        25519\n",
       "FavoriteCount      588\n",
       "AnswerCount         76\n",
       "dtype: int64"
      ]
     },
     "execution_count": 271,
     "metadata": {},
     "output_type": "execute_result"
    }
   ],
   "source": [
    "data.nunique()"
   ]
  },
  {
   "cell_type": "code",
   "execution_count": 272,
   "id": "9aa988a0",
   "metadata": {},
   "outputs": [
    {
     "data": {
      "text/plain": [
       "Title            0\n",
       "Body             0\n",
       "Tags             0\n",
       "Id               0\n",
       "Score            0\n",
       "ViewCount        0\n",
       "FavoriteCount    0\n",
       "AnswerCount      0\n",
       "dtype: int64"
      ]
     },
     "execution_count": 272,
     "metadata": {},
     "output_type": "execute_result"
    }
   ],
   "source": [
    "# NaN and duplicates\n",
    "data.isna().sum()"
   ]
  },
  {
   "cell_type": "code",
   "execution_count": 273,
   "id": "986a68ee",
   "metadata": {},
   "outputs": [
    {
     "data": {
      "text/plain": [
       "0"
      ]
     },
     "execution_count": 273,
     "metadata": {},
     "output_type": "execute_result"
    }
   ],
   "source": [
    "data.duplicated(subset=\"Body\").sum()"
   ]
  },
  {
   "cell_type": "code",
   "execution_count": 274,
   "id": "2864028b",
   "metadata": {},
   "outputs": [
    {
     "name": "stdout",
     "output_type": "stream",
     "text": [
      "col:Title-> duplicated:0\n",
      "col:Body-> duplicated:0\n",
      "col:Tags-> duplicated:486\n",
      "col:Id-> duplicated:0\n",
      "col:Score-> duplicated:26838\n",
      "col:ViewCount-> duplicated:2414\n",
      "col:FavoriteCount-> duplicated:27345\n",
      "col:AnswerCount-> duplicated:27857\n"
     ]
    }
   ],
   "source": [
    "for col in data.columns:\n",
    "    n =data.duplicated(subset=col).sum()\n",
    "    print(f\"col:{col}-> duplicated:{n}\")"
   ]
  },
  {
   "cell_type": "code",
   "execution_count": 275,
   "id": "636a163d",
   "metadata": {},
   "outputs": [
    {
     "data": {
      "text/plain": [
       "0        False\n",
       "1        False\n",
       "2        False\n",
       "3        False\n",
       "4        False\n",
       "         ...  \n",
       "27928    False\n",
       "27929    False\n",
       "27930    False\n",
       "27931    False\n",
       "27932    False\n",
       "Length: 27933, dtype: bool"
      ]
     },
     "execution_count": 275,
     "metadata": {},
     "output_type": "execute_result"
    }
   ],
   "source": [
    "data.duplicated(subset=\"Tags\", keep =\"first\")"
   ]
  },
  {
   "cell_type": "code",
   "execution_count": 276,
   "id": "137c8368",
   "metadata": {},
   "outputs": [
    {
     "data": {
      "text/html": [
       "<div>\n",
       "<style scoped>\n",
       "    .dataframe tbody tr th:only-of-type {\n",
       "        vertical-align: middle;\n",
       "    }\n",
       "\n",
       "    .dataframe tbody tr th {\n",
       "        vertical-align: top;\n",
       "    }\n",
       "\n",
       "    .dataframe thead th {\n",
       "        text-align: right;\n",
       "    }\n",
       "</style>\n",
       "<table border=\"1\" class=\"dataframe\">\n",
       "  <thead>\n",
       "    <tr style=\"text-align: right;\">\n",
       "      <th></th>\n",
       "      <th>Title</th>\n",
       "      <th>Body</th>\n",
       "      <th>Tags</th>\n",
       "      <th>Id</th>\n",
       "      <th>Score</th>\n",
       "      <th>ViewCount</th>\n",
       "      <th>FavoriteCount</th>\n",
       "      <th>AnswerCount</th>\n",
       "    </tr>\n",
       "  </thead>\n",
       "  <tbody>\n",
       "    <tr>\n",
       "      <th>23904</th>\n",
       "      <td>\"UNPROTECTED PRIVATE KEY FILE!\" Error using SS...</td>\n",
       "      <td>&lt;p&gt;I've created a new linux instance on Amazon...</td>\n",
       "      <td>&lt;amazon-web-services&gt;&lt;authentication&gt;&lt;ssh&gt;&lt;ama...</td>\n",
       "      <td>8193768</td>\n",
       "      <td>915</td>\n",
       "      <td>629086</td>\n",
       "      <td>214</td>\n",
       "      <td>41</td>\n",
       "    </tr>\n",
       "    <tr>\n",
       "      <th>26248</th>\n",
       "      <td>How can I modify ripple color when using ?attr...</td>\n",
       "      <td>&lt;p&gt;I've seen some SO questions and they gave s...</td>\n",
       "      <td>&lt;android&gt;&lt;android-layout&gt;&lt;android-5.0-lollipop...</td>\n",
       "      <td>33061050</td>\n",
       "      <td>129</td>\n",
       "      <td>75463</td>\n",
       "      <td>50</td>\n",
       "      <td>8</td>\n",
       "    </tr>\n",
       "    <tr>\n",
       "      <th>25503</th>\n",
       "      <td>Got exception: fragment already active</td>\n",
       "      <td>&lt;p&gt;I have a &lt;strong&gt;fragment&lt;/strong&gt;;&lt;/p&gt;\\n\\n...</td>\n",
       "      <td>&lt;android&gt;&lt;android-layout&gt;&lt;android-intent&gt;&lt;andr...</td>\n",
       "      <td>10364478</td>\n",
       "      <td>58</td>\n",
       "      <td>42096</td>\n",
       "      <td>15</td>\n",
       "      <td>8</td>\n",
       "    </tr>\n",
       "    <tr>\n",
       "      <th>3739</th>\n",
       "      <td>gen already exists but is not a source folder</td>\n",
       "      <td>&lt;p&gt;I am developing my Android project, After I...</td>\n",
       "      <td>&lt;android&gt;&lt;android-layout&gt;&lt;android-intent&gt;&lt;andr...</td>\n",
       "      <td>9532045</td>\n",
       "      <td>92</td>\n",
       "      <td>57301</td>\n",
       "      <td>22</td>\n",
       "      <td>15</td>\n",
       "    </tr>\n",
       "    <tr>\n",
       "      <th>5956</th>\n",
       "      <td>how append date build to versionNameSuffix on ...</td>\n",
       "      <td>&lt;p&gt;I am using Android Studio and I need to app...</td>\n",
       "      <td>&lt;android&gt;&lt;android-studio&gt;&lt;gradle&gt;&lt;android-grad...</td>\n",
       "      <td>19172565</td>\n",
       "      <td>89</td>\n",
       "      <td>64171</td>\n",
       "      <td>20</td>\n",
       "      <td>7</td>\n",
       "    </tr>\n",
       "    <tr>\n",
       "      <th>...</th>\n",
       "      <td>...</td>\n",
       "      <td>...</td>\n",
       "      <td>...</td>\n",
       "      <td>...</td>\n",
       "      <td>...</td>\n",
       "      <td>...</td>\n",
       "      <td>...</td>\n",
       "      <td>...</td>\n",
       "    </tr>\n",
       "    <tr>\n",
       "      <th>24361</th>\n",
       "      <td>What is the 'shadow space' in x64 assembly?</td>\n",
       "      <td>&lt;p&gt;I found plenty of topics about this shadow ...</td>\n",
       "      <td>&lt;windows&gt;&lt;assembly&gt;&lt;x86-64&gt;&lt;calling-convention...</td>\n",
       "      <td>30190132</td>\n",
       "      <td>36</td>\n",
       "      <td>15837</td>\n",
       "      <td>12</td>\n",
       "      <td>2</td>\n",
       "    </tr>\n",
       "    <tr>\n",
       "      <th>24420</th>\n",
       "      <td>Variables are not behaving as expected</td>\n",
       "      <td>&lt;p&gt;I've been wrestling trying to get the synta...</td>\n",
       "      <td>&lt;windows&gt;&lt;batch-file&gt;&lt;cmd&gt;&lt;environment-variabl...</td>\n",
       "      <td>30282784</td>\n",
       "      <td>26</td>\n",
       "      <td>9116</td>\n",
       "      <td>14</td>\n",
       "      <td>1</td>\n",
       "    </tr>\n",
       "    <tr>\n",
       "      <th>27355</th>\n",
       "      <td>Where is the Write-Combining Buffer located? x86</td>\n",
       "      <td>&lt;p&gt;How is the Write-Combine buffer physically ...</td>\n",
       "      <td>&lt;x86&gt;&lt;intel&gt;&lt;cpu-architecture&gt;&lt;cpu-cache&gt;&lt;amd-...</td>\n",
       "      <td>49959963</td>\n",
       "      <td>15</td>\n",
       "      <td>5274</td>\n",
       "      <td>12</td>\n",
       "      <td>3</td>\n",
       "    </tr>\n",
       "    <tr>\n",
       "      <th>26789</th>\n",
       "      <td>xmlns, xmlns:xsi, xsi:schemaLocation, and targ...</td>\n",
       "      <td>&lt;p&gt;For the following XML fragment:&lt;/p&gt;\\n\\n&lt;pre...</td>\n",
       "      <td>&lt;xml&gt;&lt;xsd&gt;&lt;xml-namespaces&gt;&lt;xsd-validation&gt;&lt;xml...</td>\n",
       "      <td>34202967</td>\n",
       "      <td>76</td>\n",
       "      <td>59893</td>\n",
       "      <td>31</td>\n",
       "      <td>2</td>\n",
       "    </tr>\n",
       "    <tr>\n",
       "      <th>17667</th>\n",
       "      <td>What is the difference between xsd and xsi?</td>\n",
       "      <td>&lt;p&gt;What exactly is the difference between &lt;str...</td>\n",
       "      <td>&lt;xml&gt;&lt;xsd&gt;&lt;xml-namespaces&gt;&lt;xsd-validation&gt;&lt;xml...</td>\n",
       "      <td>41035128</td>\n",
       "      <td>38</td>\n",
       "      <td>45683</td>\n",
       "      <td>16</td>\n",
       "      <td>2</td>\n",
       "    </tr>\n",
       "  </tbody>\n",
       "</table>\n",
       "<p>486 rows × 8 columns</p>\n",
       "</div>"
      ],
      "text/plain": [
       "                                                   Title  \\\n",
       "23904  \"UNPROTECTED PRIVATE KEY FILE!\" Error using SS...   \n",
       "26248  How can I modify ripple color when using ?attr...   \n",
       "25503             Got exception: fragment already active   \n",
       "3739       gen already exists but is not a source folder   \n",
       "5956   how append date build to versionNameSuffix on ...   \n",
       "...                                                  ...   \n",
       "24361        What is the 'shadow space' in x64 assembly?   \n",
       "24420             Variables are not behaving as expected   \n",
       "27355   Where is the Write-Combining Buffer located? x86   \n",
       "26789  xmlns, xmlns:xsi, xsi:schemaLocation, and targ...   \n",
       "17667        What is the difference between xsd and xsi?   \n",
       "\n",
       "                                                    Body  \\\n",
       "23904  <p>I've created a new linux instance on Amazon...   \n",
       "26248  <p>I've seen some SO questions and they gave s...   \n",
       "25503  <p>I have a <strong>fragment</strong>;</p>\\n\\n...   \n",
       "3739   <p>I am developing my Android project, After I...   \n",
       "5956   <p>I am using Android Studio and I need to app...   \n",
       "...                                                  ...   \n",
       "24361  <p>I found plenty of topics about this shadow ...   \n",
       "24420  <p>I've been wrestling trying to get the synta...   \n",
       "27355  <p>How is the Write-Combine buffer physically ...   \n",
       "26789  <p>For the following XML fragment:</p>\\n\\n<pre...   \n",
       "17667  <p>What exactly is the difference between <str...   \n",
       "\n",
       "                                                    Tags        Id  Score  \\\n",
       "23904  <amazon-web-services><authentication><ssh><ama...   8193768    915   \n",
       "26248  <android><android-layout><android-5.0-lollipop...  33061050    129   \n",
       "25503  <android><android-layout><android-intent><andr...  10364478     58   \n",
       "3739   <android><android-layout><android-intent><andr...   9532045     92   \n",
       "5956   <android><android-studio><gradle><android-grad...  19172565     89   \n",
       "...                                                  ...       ...    ...   \n",
       "24361  <windows><assembly><x86-64><calling-convention...  30190132     36   \n",
       "24420  <windows><batch-file><cmd><environment-variabl...  30282784     26   \n",
       "27355  <x86><intel><cpu-architecture><cpu-cache><amd-...  49959963     15   \n",
       "26789  <xml><xsd><xml-namespaces><xsd-validation><xml...  34202967     76   \n",
       "17667  <xml><xsd><xml-namespaces><xsd-validation><xml...  41035128     38   \n",
       "\n",
       "       ViewCount  FavoriteCount  AnswerCount  \n",
       "23904     629086            214           41  \n",
       "26248      75463             50            8  \n",
       "25503      42096             15            8  \n",
       "3739       57301             22           15  \n",
       "5956       64171             20            7  \n",
       "...          ...            ...          ...  \n",
       "24361      15837             12            2  \n",
       "24420       9116             14            1  \n",
       "27355       5274             12            3  \n",
       "26789      59893             31            2  \n",
       "17667      45683             16            2  \n",
       "\n",
       "[486 rows x 8 columns]"
      ]
     },
     "execution_count": 276,
     "metadata": {},
     "output_type": "execute_result"
    }
   ],
   "source": [
    "idx = data.duplicated(subset=\"Tags\", keep=\"first\")\n",
    "data.loc[idx, :].sort_values(\"Tags\")"
   ]
  },
  {
   "cell_type": "code",
   "execution_count": 277,
   "id": "fa67c52e",
   "metadata": {},
   "outputs": [
    {
     "data": {
      "text/html": [
       "<div>\n",
       "<style scoped>\n",
       "    .dataframe tbody tr th:only-of-type {\n",
       "        vertical-align: middle;\n",
       "    }\n",
       "\n",
       "    .dataframe tbody tr th {\n",
       "        vertical-align: top;\n",
       "    }\n",
       "\n",
       "    .dataframe thead th {\n",
       "        text-align: right;\n",
       "    }\n",
       "</style>\n",
       "<table border=\"1\" class=\"dataframe\">\n",
       "  <thead>\n",
       "    <tr style=\"text-align: right;\">\n",
       "      <th></th>\n",
       "      <th>Id</th>\n",
       "      <th>Score</th>\n",
       "      <th>ViewCount</th>\n",
       "      <th>FavoriteCount</th>\n",
       "      <th>AnswerCount</th>\n",
       "    </tr>\n",
       "  </thead>\n",
       "  <tbody>\n",
       "    <tr>\n",
       "      <th>count</th>\n",
       "      <td>2.793300e+04</td>\n",
       "      <td>27933.000000</td>\n",
       "      <td>2.793300e+04</td>\n",
       "      <td>27933.000000</td>\n",
       "      <td>27933.000000</td>\n",
       "    </tr>\n",
       "    <tr>\n",
       "      <th>mean</th>\n",
       "      <td>1.690787e+07</td>\n",
       "      <td>114.001360</td>\n",
       "      <td>1.120698e+05</td>\n",
       "      <td>42.705044</td>\n",
       "      <td>7.154871</td>\n",
       "    </tr>\n",
       "    <tr>\n",
       "      <th>std</th>\n",
       "      <td>1.541228e+07</td>\n",
       "      <td>351.730108</td>\n",
       "      <td>2.467875e+05</td>\n",
       "      <td>145.693052</td>\n",
       "      <td>6.789046</td>\n",
       "    </tr>\n",
       "    <tr>\n",
       "      <th>min</th>\n",
       "      <td>4.000000e+00</td>\n",
       "      <td>6.000000</td>\n",
       "      <td>2.760000e+02</td>\n",
       "      <td>11.000000</td>\n",
       "      <td>1.000000</td>\n",
       "    </tr>\n",
       "    <tr>\n",
       "      <th>25%</th>\n",
       "      <td>4.211909e+06</td>\n",
       "      <td>29.000000</td>\n",
       "      <td>2.183900e+04</td>\n",
       "      <td>14.000000</td>\n",
       "      <td>3.000000</td>\n",
       "    </tr>\n",
       "    <tr>\n",
       "      <th>50%</th>\n",
       "      <td>1.213544e+07</td>\n",
       "      <td>51.000000</td>\n",
       "      <td>4.900500e+04</td>\n",
       "      <td>19.000000</td>\n",
       "      <td>5.000000</td>\n",
       "    </tr>\n",
       "    <tr>\n",
       "      <th>75%</th>\n",
       "      <td>2.618065e+07</td>\n",
       "      <td>99.000000</td>\n",
       "      <td>1.122840e+05</td>\n",
       "      <td>35.000000</td>\n",
       "      <td>9.000000</td>\n",
       "    </tr>\n",
       "    <tr>\n",
       "      <th>max</th>\n",
       "      <td>7.290447e+07</td>\n",
       "      <td>26631.000000</td>\n",
       "      <td>1.030442e+07</td>\n",
       "      <td>11654.000000</td>\n",
       "      <td>128.000000</td>\n",
       "    </tr>\n",
       "  </tbody>\n",
       "</table>\n",
       "</div>"
      ],
      "text/plain": [
       "                 Id         Score     ViewCount  FavoriteCount   AnswerCount\n",
       "count  2.793300e+04  27933.000000  2.793300e+04   27933.000000  27933.000000\n",
       "mean   1.690787e+07    114.001360  1.120698e+05      42.705044      7.154871\n",
       "std    1.541228e+07    351.730108  2.467875e+05     145.693052      6.789046\n",
       "min    4.000000e+00      6.000000  2.760000e+02      11.000000      1.000000\n",
       "25%    4.211909e+06     29.000000  2.183900e+04      14.000000      3.000000\n",
       "50%    1.213544e+07     51.000000  4.900500e+04      19.000000      5.000000\n",
       "75%    2.618065e+07     99.000000  1.122840e+05      35.000000      9.000000\n",
       "max    7.290447e+07  26631.000000  1.030442e+07   11654.000000    128.000000"
      ]
     },
     "execution_count": 277,
     "metadata": {},
     "output_type": "execute_result"
    }
   ],
   "source": [
    "# Data Describe\n",
    "data.describe(include=np.number)"
   ]
  },
  {
   "cell_type": "code",
   "execution_count": 278,
   "id": "729129b3",
   "metadata": {},
   "outputs": [
    {
     "data": {
      "text/html": [
       "<div>\n",
       "<style scoped>\n",
       "    .dataframe tbody tr th:only-of-type {\n",
       "        vertical-align: middle;\n",
       "    }\n",
       "\n",
       "    .dataframe tbody tr th {\n",
       "        vertical-align: top;\n",
       "    }\n",
       "\n",
       "    .dataframe thead th {\n",
       "        text-align: right;\n",
       "    }\n",
       "</style>\n",
       "<table border=\"1\" class=\"dataframe\">\n",
       "  <thead>\n",
       "    <tr style=\"text-align: right;\">\n",
       "      <th></th>\n",
       "      <th>Title</th>\n",
       "      <th>Body</th>\n",
       "      <th>Tags</th>\n",
       "    </tr>\n",
       "  </thead>\n",
       "  <tbody>\n",
       "    <tr>\n",
       "      <th>count</th>\n",
       "      <td>27933</td>\n",
       "      <td>27933</td>\n",
       "      <td>27933</td>\n",
       "    </tr>\n",
       "    <tr>\n",
       "      <th>unique</th>\n",
       "      <td>27933</td>\n",
       "      <td>27933</td>\n",
       "      <td>27447</td>\n",
       "    </tr>\n",
       "    <tr>\n",
       "      <th>top</th>\n",
       "      <td>Import CSV file to strongly typed data structu...</td>\n",
       "      <td>&lt;p&gt;What's the best way to import a CSV file in...</td>\n",
       "      <td>&lt;java&gt;&lt;spring&gt;&lt;jpa&gt;&lt;spring-data&gt;&lt;spring-data-jpa&gt;</td>\n",
       "    </tr>\n",
       "    <tr>\n",
       "      <th>freq</th>\n",
       "      <td>1</td>\n",
       "      <td>1</td>\n",
       "      <td>19</td>\n",
       "    </tr>\n",
       "  </tbody>\n",
       "</table>\n",
       "</div>"
      ],
      "text/plain": [
       "                                                    Title  \\\n",
       "count                                               27933   \n",
       "unique                                              27933   \n",
       "top     Import CSV file to strongly typed data structu...   \n",
       "freq                                                    1   \n",
       "\n",
       "                                                     Body  \\\n",
       "count                                               27933   \n",
       "unique                                              27933   \n",
       "top     <p>What's the best way to import a CSV file in...   \n",
       "freq                                                    1   \n",
       "\n",
       "                                                     Tags  \n",
       "count                                               27933  \n",
       "unique                                              27447  \n",
       "top     <java><spring><jpa><spring-data><spring-data-jpa>  \n",
       "freq                                                   19  "
      ]
     },
     "execution_count": 278,
     "metadata": {},
     "output_type": "execute_result"
    }
   ],
   "source": [
    "data.describe(include=object)"
   ]
  },
  {
   "cell_type": "code",
   "execution_count": 279,
   "id": "cfe00ed0",
   "metadata": {},
   "outputs": [
    {
     "data": {
      "text/html": [
       "<div>\n",
       "<style scoped>\n",
       "    .dataframe tbody tr th:only-of-type {\n",
       "        vertical-align: middle;\n",
       "    }\n",
       "\n",
       "    .dataframe tbody tr th {\n",
       "        vertical-align: top;\n",
       "    }\n",
       "\n",
       "    .dataframe thead th {\n",
       "        text-align: right;\n",
       "    }\n",
       "</style>\n",
       "<table border=\"1\" class=\"dataframe\">\n",
       "  <thead>\n",
       "    <tr style=\"text-align: right;\">\n",
       "      <th></th>\n",
       "      <th>Id</th>\n",
       "      <th>Title</th>\n",
       "      <th>Body</th>\n",
       "      <th>Tags</th>\n",
       "    </tr>\n",
       "  </thead>\n",
       "  <tbody>\n",
       "    <tr>\n",
       "      <th>0</th>\n",
       "      <td>1898</td>\n",
       "      <td>Import CSV file to strongly typed data structu...</td>\n",
       "      <td>&lt;p&gt;What's the best way to import a CSV file in...</td>\n",
       "      <td>&lt;c#&gt;&lt;vb.net&gt;&lt;file&gt;&lt;csv&gt;&lt;import&gt;</td>\n",
       "    </tr>\n",
       "    <tr>\n",
       "      <th>1</th>\n",
       "      <td>1939041</td>\n",
       "      <td>Change hash without reload in jQuery</td>\n",
       "      <td>&lt;p&gt;I have the following code:&lt;/p&gt;\\n\\n&lt;pre&gt;&lt;cod...</td>\n",
       "      <td>&lt;jquery&gt;&lt;hash&gt;&lt;reload&gt;&lt;fragment-identifier&gt;&lt;wi...</td>\n",
       "    </tr>\n",
       "    <tr>\n",
       "      <th>2</th>\n",
       "      <td>2027</td>\n",
       "      <td>Pass by reference or pass by value?</td>\n",
       "      <td>&lt;p&gt;When learning a new programming language, o...</td>\n",
       "      <td>&lt;language-agnostic&gt;&lt;oop&gt;&lt;parameters&gt;&lt;pass-by-r...</td>\n",
       "    </tr>\n",
       "    <tr>\n",
       "      <th>3</th>\n",
       "      <td>2056</td>\n",
       "      <td>What are MVP and MVC and what is the difference?</td>\n",
       "      <td>&lt;p&gt;When looking beyond the &lt;a href=\"https://en...</td>\n",
       "      <td>&lt;user-interface&gt;&lt;model-view-controller&gt;&lt;design...</td>\n",
       "    </tr>\n",
       "    <tr>\n",
       "      <th>4</th>\n",
       "      <td>2138</td>\n",
       "      <td>LINQ on the .NET 2.0 Runtime</td>\n",
       "      <td>&lt;p&gt;Can a LINQ enabled app run on a machine tha...</td>\n",
       "      <td>&lt;.net&gt;&lt;linq&gt;&lt;.net-3.5&gt;&lt;.net-2.0&gt;&lt;clr&gt;</td>\n",
       "    </tr>\n",
       "  </tbody>\n",
       "</table>\n",
       "</div>"
      ],
      "text/plain": [
       "        Id                                              Title  \\\n",
       "0     1898  Import CSV file to strongly typed data structu...   \n",
       "1  1939041               Change hash without reload in jQuery   \n",
       "2     2027                Pass by reference or pass by value?   \n",
       "3     2056   What are MVP and MVC and what is the difference?   \n",
       "4     2138                       LINQ on the .NET 2.0 Runtime   \n",
       "\n",
       "                                                Body  \\\n",
       "0  <p>What's the best way to import a CSV file in...   \n",
       "1  <p>I have the following code:</p>\\n\\n<pre><cod...   \n",
       "2  <p>When learning a new programming language, o...   \n",
       "3  <p>When looking beyond the <a href=\"https://en...   \n",
       "4  <p>Can a LINQ enabled app run on a machine tha...   \n",
       "\n",
       "                                                Tags  \n",
       "0                    <c#><vb.net><file><csv><import>  \n",
       "1  <jquery><hash><reload><fragment-identifier><wi...  \n",
       "2  <language-agnostic><oop><parameters><pass-by-r...  \n",
       "3  <user-interface><model-view-controller><design...  \n",
       "4              <.net><linq><.net-3.5><.net-2.0><clr>  "
      ]
     },
     "execution_count": 279,
     "metadata": {},
     "output_type": "execute_result"
    }
   ],
   "source": [
    "cols = [\"Id\", \"Title\", \"Body\", \"Tags\"]\n",
    "df =data[cols]\n",
    "df.head()"
   ]
  },
  {
   "cell_type": "code",
   "execution_count": 280,
   "id": "bce13cf0",
   "metadata": {},
   "outputs": [],
   "source": [
    "df.to_csv(\"data_cleaned.csv\")"
   ]
  },
  {
   "cell_type": "code",
   "execution_count": 281,
   "id": "ba8508a0",
   "metadata": {},
   "outputs": [
    {
     "data": {
      "text/html": [
       "<div>\n",
       "<style scoped>\n",
       "    .dataframe tbody tr th:only-of-type {\n",
       "        vertical-align: middle;\n",
       "    }\n",
       "\n",
       "    .dataframe tbody tr th {\n",
       "        vertical-align: top;\n",
       "    }\n",
       "\n",
       "    .dataframe thead th {\n",
       "        text-align: right;\n",
       "    }\n",
       "</style>\n",
       "<table border=\"1\" class=\"dataframe\">\n",
       "  <thead>\n",
       "    <tr style=\"text-align: right;\">\n",
       "      <th></th>\n",
       "      <th>Unnamed: 0</th>\n",
       "      <th>Id</th>\n",
       "      <th>Title</th>\n",
       "      <th>Body</th>\n",
       "      <th>Tags</th>\n",
       "    </tr>\n",
       "  </thead>\n",
       "  <tbody>\n",
       "    <tr>\n",
       "      <th>0</th>\n",
       "      <td>0</td>\n",
       "      <td>1898</td>\n",
       "      <td>Import CSV file to strongly typed data structu...</td>\n",
       "      <td>&lt;p&gt;What's the best way to import a CSV file in...</td>\n",
       "      <td>&lt;c#&gt;&lt;vb.net&gt;&lt;file&gt;&lt;csv&gt;&lt;import&gt;</td>\n",
       "    </tr>\n",
       "    <tr>\n",
       "      <th>1</th>\n",
       "      <td>1</td>\n",
       "      <td>1939041</td>\n",
       "      <td>Change hash without reload in jQuery</td>\n",
       "      <td>&lt;p&gt;I have the following code:&lt;/p&gt;\\n\\n&lt;pre&gt;&lt;cod...</td>\n",
       "      <td>&lt;jquery&gt;&lt;hash&gt;&lt;reload&gt;&lt;fragment-identifier&gt;&lt;wi...</td>\n",
       "    </tr>\n",
       "    <tr>\n",
       "      <th>2</th>\n",
       "      <td>2</td>\n",
       "      <td>2027</td>\n",
       "      <td>Pass by reference or pass by value?</td>\n",
       "      <td>&lt;p&gt;When learning a new programming language, o...</td>\n",
       "      <td>&lt;language-agnostic&gt;&lt;oop&gt;&lt;parameters&gt;&lt;pass-by-r...</td>\n",
       "    </tr>\n",
       "    <tr>\n",
       "      <th>3</th>\n",
       "      <td>3</td>\n",
       "      <td>2056</td>\n",
       "      <td>What are MVP and MVC and what is the difference?</td>\n",
       "      <td>&lt;p&gt;When looking beyond the &lt;a href=\"https://en...</td>\n",
       "      <td>&lt;user-interface&gt;&lt;model-view-controller&gt;&lt;design...</td>\n",
       "    </tr>\n",
       "    <tr>\n",
       "      <th>4</th>\n",
       "      <td>4</td>\n",
       "      <td>2138</td>\n",
       "      <td>LINQ on the .NET 2.0 Runtime</td>\n",
       "      <td>&lt;p&gt;Can a LINQ enabled app run on a machine tha...</td>\n",
       "      <td>&lt;.net&gt;&lt;linq&gt;&lt;.net-3.5&gt;&lt;.net-2.0&gt;&lt;clr&gt;</td>\n",
       "    </tr>\n",
       "    <tr>\n",
       "      <th>...</th>\n",
       "      <td>...</td>\n",
       "      <td>...</td>\n",
       "      <td>...</td>\n",
       "      <td>...</td>\n",
       "      <td>...</td>\n",
       "    </tr>\n",
       "    <tr>\n",
       "      <th>27928</th>\n",
       "      <td>27928</td>\n",
       "      <td>37332190</td>\n",
       "      <td>Django - Login with Email</td>\n",
       "      <td>&lt;p&gt;I want django to authenticate users via ema...</td>\n",
       "      <td>&lt;python&gt;&lt;python-3.x&gt;&lt;django&gt;&lt;django-authentica...</td>\n",
       "    </tr>\n",
       "    <tr>\n",
       "      <th>27929</th>\n",
       "      <td>27929</td>\n",
       "      <td>37334668</td>\n",
       "      <td>Is there a python equivalent for RSpec to do TDD?</td>\n",
       "      <td>&lt;p&gt;I'm looking for a test framework like Ruby'...</td>\n",
       "      <td>&lt;python&gt;&lt;ruby&gt;&lt;testing&gt;&lt;rspec&gt;&lt;tdd&gt;</td>\n",
       "    </tr>\n",
       "    <tr>\n",
       "      <th>27930</th>\n",
       "      <td>27930</td>\n",
       "      <td>55345373</td>\n",
       "      <td>How to install GCC/G++ 8 on CentOS</td>\n",
       "      <td>&lt;p&gt;I'm used to install packages on Debian/Ubun...</td>\n",
       "      <td>&lt;gcc&gt;&lt;centos&gt;&lt;g++&gt;&lt;software-collections&gt;&lt;redha...</td>\n",
       "    </tr>\n",
       "    <tr>\n",
       "      <th>27931</th>\n",
       "      <td>27931</td>\n",
       "      <td>55372259</td>\n",
       "      <td>How to use TabLayout with ViewPager2 in Android</td>\n",
       "      <td>&lt;p&gt;I want to use &lt;code&gt;com.google.android.mate...</td>\n",
       "      <td>&lt;java&gt;&lt;android&gt;&lt;androidx&gt;&lt;android-tablayout&gt;&lt;a...</td>\n",
       "    </tr>\n",
       "    <tr>\n",
       "      <th>27932</th>\n",
       "      <td>27932</td>\n",
       "      <td>55375803</td>\n",
       "      <td>Mystifying microbenchmark result for stream AP...</td>\n",
       "      <td>&lt;p&gt;As part of my investigation on the differen...</td>\n",
       "      <td>&lt;java&gt;&lt;java-stream&gt;&lt;benchmarking&gt;&lt;jmh&gt;&lt;java-12&gt;</td>\n",
       "    </tr>\n",
       "  </tbody>\n",
       "</table>\n",
       "<p>27933 rows × 5 columns</p>\n",
       "</div>"
      ],
      "text/plain": [
       "       Unnamed: 0        Id  \\\n",
       "0               0      1898   \n",
       "1               1   1939041   \n",
       "2               2      2027   \n",
       "3               3      2056   \n",
       "4               4      2138   \n",
       "...           ...       ...   \n",
       "27928       27928  37332190   \n",
       "27929       27929  37334668   \n",
       "27930       27930  55345373   \n",
       "27931       27931  55372259   \n",
       "27932       27932  55375803   \n",
       "\n",
       "                                                   Title  \\\n",
       "0      Import CSV file to strongly typed data structu...   \n",
       "1                   Change hash without reload in jQuery   \n",
       "2                    Pass by reference or pass by value?   \n",
       "3       What are MVP and MVC and what is the difference?   \n",
       "4                           LINQ on the .NET 2.0 Runtime   \n",
       "...                                                  ...   \n",
       "27928                          Django - Login with Email   \n",
       "27929  Is there a python equivalent for RSpec to do TDD?   \n",
       "27930                 How to install GCC/G++ 8 on CentOS   \n",
       "27931    How to use TabLayout with ViewPager2 in Android   \n",
       "27932  Mystifying microbenchmark result for stream AP...   \n",
       "\n",
       "                                                    Body  \\\n",
       "0      <p>What's the best way to import a CSV file in...   \n",
       "1      <p>I have the following code:</p>\\n\\n<pre><cod...   \n",
       "2      <p>When learning a new programming language, o...   \n",
       "3      <p>When looking beyond the <a href=\"https://en...   \n",
       "4      <p>Can a LINQ enabled app run on a machine tha...   \n",
       "...                                                  ...   \n",
       "27928  <p>I want django to authenticate users via ema...   \n",
       "27929  <p>I'm looking for a test framework like Ruby'...   \n",
       "27930  <p>I'm used to install packages on Debian/Ubun...   \n",
       "27931  <p>I want to use <code>com.google.android.mate...   \n",
       "27932  <p>As part of my investigation on the differen...   \n",
       "\n",
       "                                                    Tags  \n",
       "0                        <c#><vb.net><file><csv><import>  \n",
       "1      <jquery><hash><reload><fragment-identifier><wi...  \n",
       "2      <language-agnostic><oop><parameters><pass-by-r...  \n",
       "3      <user-interface><model-view-controller><design...  \n",
       "4                  <.net><linq><.net-3.5><.net-2.0><clr>  \n",
       "...                                                  ...  \n",
       "27928  <python><python-3.x><django><django-authentica...  \n",
       "27929                <python><ruby><testing><rspec><tdd>  \n",
       "27930  <gcc><centos><g++><software-collections><redha...  \n",
       "27931  <java><android><androidx><android-tablayout><a...  \n",
       "27932    <java><java-stream><benchmarking><jmh><java-12>  \n",
       "\n",
       "[27933 rows x 5 columns]"
      ]
     },
     "execution_count": 281,
     "metadata": {},
     "output_type": "execute_result"
    }
   ],
   "source": [
    "pd.read_csv(\"data_cleaned.csv\")"
   ]
  },
  {
   "cell_type": "code",
   "execution_count": 282,
   "id": "af89c22c",
   "metadata": {},
   "outputs": [
    {
     "name": "stdout",
     "output_type": "stream",
     "text": [
      "<class 'pandas.core.frame.DataFrame'>\n",
      "RangeIndex: 27933 entries, 0 to 27932\n",
      "Data columns (total 4 columns):\n",
      " #   Column  Non-Null Count  Dtype \n",
      "---  ------  --------------  ----- \n",
      " 0   Id      27933 non-null  int64 \n",
      " 1   Title   27933 non-null  object\n",
      " 2   Body    27933 non-null  object\n",
      " 3   Tags    27933 non-null  object\n",
      "dtypes: int64(1), object(3)\n",
      "memory usage: 873.0+ KB\n"
     ]
    }
   ],
   "source": [
    "df.info()"
   ]
  },
  {
   "cell_type": "code",
   "execution_count": 283,
   "id": "47b2651d",
   "metadata": {},
   "outputs": [],
   "source": [
    "import nltk"
   ]
  },
  {
   "cell_type": "code",
   "execution_count": 284,
   "id": "54380100",
   "metadata": {},
   "outputs": [],
   "source": [
    "#nltk.download('stopwords')"
   ]
  },
  {
   "cell_type": "code",
   "execution_count": 285,
   "id": "0f9ac4c5",
   "metadata": {
    "scrolled": true
   },
   "outputs": [],
   "source": [
    "#nltk.download('punkt')"
   ]
  },
  {
   "cell_type": "code",
   "execution_count": 286,
   "id": "b7b57d97",
   "metadata": {},
   "outputs": [],
   "source": [
    "#nltk.download('wordnet')"
   ]
  },
  {
   "cell_type": "code",
   "execution_count": 287,
   "id": "b80a7375",
   "metadata": {},
   "outputs": [],
   "source": [
    "#nltk.download('omw-1.4')"
   ]
  },
  {
   "cell_type": "code",
   "execution_count": 288,
   "id": "5349952d",
   "metadata": {},
   "outputs": [],
   "source": [
    "df = df[['Id', 'Title', 'Body', 'Tags']]"
   ]
  },
  {
   "cell_type": "code",
   "execution_count": 289,
   "id": "38988e24",
   "metadata": {},
   "outputs": [
    {
     "data": {
      "text/plain": [
       "(2793, 4)"
      ]
     },
     "execution_count": 289,
     "metadata": {},
     "output_type": "execute_result"
    }
   ],
   "source": [
    "df=df.sample(frac=0.1)\n",
    "df.shape"
   ]
  },
  {
   "cell_type": "code",
   "execution_count": 290,
   "id": "684e295b",
   "metadata": {},
   "outputs": [
    {
     "data": {
      "text/html": [
       "<div>\n",
       "<style scoped>\n",
       "    .dataframe tbody tr th:only-of-type {\n",
       "        vertical-align: middle;\n",
       "    }\n",
       "\n",
       "    .dataframe tbody tr th {\n",
       "        vertical-align: top;\n",
       "    }\n",
       "\n",
       "    .dataframe thead th {\n",
       "        text-align: right;\n",
       "    }\n",
       "</style>\n",
       "<table border=\"1\" class=\"dataframe\">\n",
       "  <thead>\n",
       "    <tr style=\"text-align: right;\">\n",
       "      <th></th>\n",
       "      <th>Id</th>\n",
       "      <th>Title</th>\n",
       "      <th>Body</th>\n",
       "      <th>Tags</th>\n",
       "    </tr>\n",
       "  </thead>\n",
       "  <tbody>\n",
       "    <tr>\n",
       "      <th>8085</th>\n",
       "      <td>12521802</td>\n",
       "      <td>Print rpath of an executable on macOS</td>\n",
       "      <td>&lt;p&gt;I want to change the &lt;em&gt;rpath&lt;/em&gt; of an e...</td>\n",
       "      <td>&lt;macos&gt;&lt;command-line&gt;&lt;terminal&gt;&lt;dynamic-linkin...</td>\n",
       "    </tr>\n",
       "    <tr>\n",
       "      <th>23391</th>\n",
       "      <td>15873153</td>\n",
       "      <td>Explanation of Algorithm for finding articulat...</td>\n",
       "      <td>&lt;p&gt;I have searched the net and could not find ...</td>\n",
       "      <td>&lt;algorithm&gt;&lt;graph&gt;&lt;complexity-theory&gt;&lt;graph-al...</td>\n",
       "    </tr>\n",
       "    <tr>\n",
       "      <th>21749</th>\n",
       "      <td>11787571</td>\n",
       "      <td>How to read .pem file to get private and publi...</td>\n",
       "      <td>&lt;p&gt;I am writing a small piece of code which re...</td>\n",
       "      <td>&lt;java&gt;&lt;openssl&gt;&lt;x509&gt;&lt;pem&gt;&lt;pkcs#8&gt;</td>\n",
       "    </tr>\n",
       "    <tr>\n",
       "      <th>8465</th>\n",
       "      <td>2732978</td>\n",
       "      <td>C++, how to declare a struct in a header file</td>\n",
       "      <td>&lt;p&gt;I've been trying to include a structure cal...</td>\n",
       "      <td>&lt;c++&gt;&lt;struct&gt;&lt;include&gt;&lt;header&gt;&lt;header-files&gt;</td>\n",
       "    </tr>\n",
       "    <tr>\n",
       "      <th>9314</th>\n",
       "      <td>4049207</td>\n",
       "      <td>Reading samples via AVAssetReader</td>\n",
       "      <td>&lt;p&gt;How do you read samples via AVAssetReader? ...</td>\n",
       "      <td>&lt;objective-c&gt;&lt;iphone&gt;&lt;cocoa-touch&gt;&lt;avfoundatio...</td>\n",
       "    </tr>\n",
       "  </tbody>\n",
       "</table>\n",
       "</div>"
      ],
      "text/plain": [
       "             Id                                              Title  \\\n",
       "8085   12521802              Print rpath of an executable on macOS   \n",
       "23391  15873153  Explanation of Algorithm for finding articulat...   \n",
       "21749  11787571  How to read .pem file to get private and publi...   \n",
       "8465    2732978      C++, how to declare a struct in a header file   \n",
       "9314    4049207                  Reading samples via AVAssetReader   \n",
       "\n",
       "                                                    Body  \\\n",
       "8085   <p>I want to change the <em>rpath</em> of an e...   \n",
       "23391  <p>I have searched the net and could not find ...   \n",
       "21749  <p>I am writing a small piece of code which re...   \n",
       "8465   <p>I've been trying to include a structure cal...   \n",
       "9314   <p>How do you read samples via AVAssetReader? ...   \n",
       "\n",
       "                                                    Tags  \n",
       "8085   <macos><command-line><terminal><dynamic-linkin...  \n",
       "23391  <algorithm><graph><complexity-theory><graph-al...  \n",
       "21749                 <java><openssl><x509><pem><pkcs#8>  \n",
       "8465        <c++><struct><include><header><header-files>  \n",
       "9314   <objective-c><iphone><cocoa-touch><avfoundatio...  "
      ]
     },
     "execution_count": 290,
     "metadata": {},
     "output_type": "execute_result"
    }
   ],
   "source": [
    "df=df.drop_duplicates()\n",
    "df.dropna(inplace=True)\n",
    "df.head()"
   ]
  },
  {
   "cell_type": "markdown",
   "id": "859e4504",
   "metadata": {},
   "source": [
    "# Preprocessing"
   ]
  },
  {
   "cell_type": "markdown",
   "id": "6278a072",
   "metadata": {},
   "source": [
    "❓ **Question (Cleaning Text)** ❓\n",
    "\n",
    "- Write a function `preprocessing` that will clean a sentence and apply it to all our reviews. It should:\n",
    "    - remove whitespace\n",
    "    - lowercase characters\n",
    "    - remove numbers\n",
    "    - remove punctuation\n",
    "    - tokenize\n",
    "    - lemmatize\n",
    "- You can store the cleaned reviews into a column called `cleaned_reviews`.\n",
    "- Do not remove stopwords in this challenge, we will explain why in the section `3. N-gram modelling`"
   ]
  },
  {
   "cell_type": "code",
   "execution_count": 291,
   "id": "5a6f8351",
   "metadata": {},
   "outputs": [],
   "source": [
    "import string\n",
    "from nltk import word_tokenize\n",
    "from nltk.stem import WordNetLemmatizer\n",
    "\n",
    "def preprocessing(sentence):\n",
    "    # $CHALLENGIFY_BEGIN\n",
    "\n",
    "    # Removing whitespaces\n",
    "    sentence = sentence.strip()    \n",
    "    # Lowercasing\n",
    "    sentence = sentence.lower()\n",
    "    # Removing numbers\n",
    "    sentence = ''.join(char for char in sentence if not char.isdigit())\n",
    "    # Removing punctuation\n",
    "    for punctuation in string.punctuation:\n",
    "        sentence = sentence.replace(punctuation, '') \n",
    "    # Tokenizing\n",
    "    tokenized = word_tokenize(sentence)\n",
    "    # Lemmatizing\n",
    "    lemmatizer = WordNetLemmatizer()\n",
    "    lemmatized = [lemmatizer.lemmatize(word) for word in tokenized]\n",
    "    cleaned_sentence = \" \".join(lemmatized)\n",
    "    return cleaned_sentence  "
   ]
  },
  {
   "cell_type": "code",
   "execution_count": 292,
   "id": "5f78a62a",
   "metadata": {},
   "outputs": [],
   "source": [
    "import spacy\n",
    "import en_core_web_sm"
   ]
  },
  {
   "cell_type": "code",
   "execution_count": 293,
   "id": "8a13d971",
   "metadata": {},
   "outputs": [],
   "source": [
    "nlp_en = en_core_web_sm.load()"
   ]
  },
  {
   "cell_type": "code",
   "execution_count": 294,
   "id": "dd415344",
   "metadata": {},
   "outputs": [],
   "source": [
    "#df['sentence_bow_lem'] = df['sentence_bow'].apply(lambda x : \" \".join([token.lemma_ for token in nlp_en(x)\n",
    "                                                                 # if(token.pos_ in[\"NOUN\",\"PROPN\"])\n",
    "                                                                 # ]))"
   ]
  },
  {
   "cell_type": "code",
   "execution_count": 295,
   "id": "5ebb6419",
   "metadata": {},
   "outputs": [],
   "source": [
    "#https://www.kaggle.com/code/vikashrajluhaniwal/multi-label-classification-for-tag-predictions"
   ]
  },
  {
   "cell_type": "code",
   "execution_count": 297,
   "id": "26c1eeea",
   "metadata": {},
   "outputs": [
    {
     "data": {
      "text/html": [
       "<div>\n",
       "<style scoped>\n",
       "    .dataframe tbody tr th:only-of-type {\n",
       "        vertical-align: middle;\n",
       "    }\n",
       "\n",
       "    .dataframe tbody tr th {\n",
       "        vertical-align: top;\n",
       "    }\n",
       "\n",
       "    .dataframe thead th {\n",
       "        text-align: right;\n",
       "    }\n",
       "</style>\n",
       "<table border=\"1\" class=\"dataframe\">\n",
       "  <thead>\n",
       "    <tr style=\"text-align: right;\">\n",
       "      <th></th>\n",
       "      <th>Id</th>\n",
       "      <th>Title</th>\n",
       "      <th>Body</th>\n",
       "      <th>Tags</th>\n",
       "      <th>clean_title</th>\n",
       "    </tr>\n",
       "  </thead>\n",
       "  <tbody>\n",
       "    <tr>\n",
       "      <th>8085</th>\n",
       "      <td>12521802</td>\n",
       "      <td>Print rpath of an executable on macOS</td>\n",
       "      <td>&lt;p&gt;I want to change the &lt;em&gt;rpath&lt;/em&gt; of an e...</td>\n",
       "      <td>&lt;macos&gt;&lt;command-line&gt;&lt;terminal&gt;&lt;dynamic-linkin...</td>\n",
       "      <td>print rpath of an executable on macos</td>\n",
       "    </tr>\n",
       "    <tr>\n",
       "      <th>23391</th>\n",
       "      <td>15873153</td>\n",
       "      <td>Explanation of Algorithm for finding articulat...</td>\n",
       "      <td>&lt;p&gt;I have searched the net and could not find ...</td>\n",
       "      <td>&lt;algorithm&gt;&lt;graph&gt;&lt;complexity-theory&gt;&lt;graph-al...</td>\n",
       "      <td>explanation of algorithm for finding articulat...</td>\n",
       "    </tr>\n",
       "    <tr>\n",
       "      <th>21749</th>\n",
       "      <td>11787571</td>\n",
       "      <td>How to read .pem file to get private and publi...</td>\n",
       "      <td>&lt;p&gt;I am writing a small piece of code which re...</td>\n",
       "      <td>&lt;java&gt;&lt;openssl&gt;&lt;x509&gt;&lt;pem&gt;&lt;pkcs#8&gt;</td>\n",
       "      <td>how to read pem file to get private and public...</td>\n",
       "    </tr>\n",
       "    <tr>\n",
       "      <th>8465</th>\n",
       "      <td>2732978</td>\n",
       "      <td>C++, how to declare a struct in a header file</td>\n",
       "      <td>&lt;p&gt;I've been trying to include a structure cal...</td>\n",
       "      <td>&lt;c++&gt;&lt;struct&gt;&lt;include&gt;&lt;header&gt;&lt;header-files&gt;</td>\n",
       "      <td>c how to declare a struct in a header file</td>\n",
       "    </tr>\n",
       "    <tr>\n",
       "      <th>9314</th>\n",
       "      <td>4049207</td>\n",
       "      <td>Reading samples via AVAssetReader</td>\n",
       "      <td>&lt;p&gt;How do you read samples via AVAssetReader? ...</td>\n",
       "      <td>&lt;objective-c&gt;&lt;iphone&gt;&lt;cocoa-touch&gt;&lt;avfoundatio...</td>\n",
       "      <td>reading sample via avassetreader</td>\n",
       "    </tr>\n",
       "  </tbody>\n",
       "</table>\n",
       "</div>"
      ],
      "text/plain": [
       "             Id                                              Title  \\\n",
       "8085   12521802              Print rpath of an executable on macOS   \n",
       "23391  15873153  Explanation of Algorithm for finding articulat...   \n",
       "21749  11787571  How to read .pem file to get private and publi...   \n",
       "8465    2732978      C++, how to declare a struct in a header file   \n",
       "9314    4049207                  Reading samples via AVAssetReader   \n",
       "\n",
       "                                                    Body  \\\n",
       "8085   <p>I want to change the <em>rpath</em> of an e...   \n",
       "23391  <p>I have searched the net and could not find ...   \n",
       "21749  <p>I am writing a small piece of code which re...   \n",
       "8465   <p>I've been trying to include a structure cal...   \n",
       "9314   <p>How do you read samples via AVAssetReader? ...   \n",
       "\n",
       "                                                    Tags  \\\n",
       "8085   <macos><command-line><terminal><dynamic-linkin...   \n",
       "23391  <algorithm><graph><complexity-theory><graph-al...   \n",
       "21749                 <java><openssl><x509><pem><pkcs#8>   \n",
       "8465        <c++><struct><include><header><header-files>   \n",
       "9314   <objective-c><iphone><cocoa-touch><avfoundatio...   \n",
       "\n",
       "                                             clean_title  \n",
       "8085               print rpath of an executable on macos  \n",
       "23391  explanation of algorithm for finding articulat...  \n",
       "21749  how to read pem file to get private and public...  \n",
       "8465          c how to declare a struct in a header file  \n",
       "9314                    reading sample via avassetreader  "
      ]
     },
     "execution_count": 297,
     "metadata": {},
     "output_type": "execute_result"
    }
   ],
   "source": [
    "# Clean reviews\n",
    "# $CHALLENGIFY_BEGIN\n",
    "df['clean_title'] = df.Title.apply(preprocessing)\n",
    "df.head()"
   ]
  },
  {
   "cell_type": "code",
   "execution_count": 298,
   "id": "2c9c8355",
   "metadata": {},
   "outputs": [
    {
     "data": {
      "text/html": [
       "<div>\n",
       "<style scoped>\n",
       "    .dataframe tbody tr th:only-of-type {\n",
       "        vertical-align: middle;\n",
       "    }\n",
       "\n",
       "    .dataframe tbody tr th {\n",
       "        vertical-align: top;\n",
       "    }\n",
       "\n",
       "    .dataframe thead th {\n",
       "        text-align: right;\n",
       "    }\n",
       "</style>\n",
       "<table border=\"1\" class=\"dataframe\">\n",
       "  <thead>\n",
       "    <tr style=\"text-align: right;\">\n",
       "      <th></th>\n",
       "      <th>Id</th>\n",
       "      <th>Title</th>\n",
       "      <th>Body</th>\n",
       "      <th>Tags</th>\n",
       "      <th>clean_title</th>\n",
       "      <th>clean_body</th>\n",
       "    </tr>\n",
       "  </thead>\n",
       "  <tbody>\n",
       "    <tr>\n",
       "      <th>8085</th>\n",
       "      <td>12521802</td>\n",
       "      <td>Print rpath of an executable on macOS</td>\n",
       "      <td>&lt;p&gt;I want to change the &lt;em&gt;rpath&lt;/em&gt; of an e...</td>\n",
       "      <td>&lt;macos&gt;&lt;command-line&gt;&lt;terminal&gt;&lt;dynamic-linkin...</td>\n",
       "      <td>print rpath of an executable on macos</td>\n",
       "      <td>pi want to change the emrpathem of an executab...</td>\n",
       "    </tr>\n",
       "    <tr>\n",
       "      <th>23391</th>\n",
       "      <td>15873153</td>\n",
       "      <td>Explanation of Algorithm for finding articulat...</td>\n",
       "      <td>&lt;p&gt;I have searched the net and could not find ...</td>\n",
       "      <td>&lt;algorithm&gt;&lt;graph&gt;&lt;complexity-theory&gt;&lt;graph-al...</td>\n",
       "      <td>explanation of algorithm for finding articulat...</td>\n",
       "      <td>pi have searched the net and could not find an...</td>\n",
       "    </tr>\n",
       "    <tr>\n",
       "      <th>21749</th>\n",
       "      <td>11787571</td>\n",
       "      <td>How to read .pem file to get private and publi...</td>\n",
       "      <td>&lt;p&gt;I am writing a small piece of code which re...</td>\n",
       "      <td>&lt;java&gt;&lt;openssl&gt;&lt;x509&gt;&lt;pem&gt;&lt;pkcs#8&gt;</td>\n",
       "      <td>how to read pem file to get private and public...</td>\n",
       "      <td>pi am writing a small piece of code which read...</td>\n",
       "    </tr>\n",
       "    <tr>\n",
       "      <th>8465</th>\n",
       "      <td>2732978</td>\n",
       "      <td>C++, how to declare a struct in a header file</td>\n",
       "      <td>&lt;p&gt;I've been trying to include a structure cal...</td>\n",
       "      <td>&lt;c++&gt;&lt;struct&gt;&lt;include&gt;&lt;header&gt;&lt;header-files&gt;</td>\n",
       "      <td>c how to declare a struct in a header file</td>\n",
       "      <td>pive been trying to include a structure called...</td>\n",
       "    </tr>\n",
       "    <tr>\n",
       "      <th>9314</th>\n",
       "      <td>4049207</td>\n",
       "      <td>Reading samples via AVAssetReader</td>\n",
       "      <td>&lt;p&gt;How do you read samples via AVAssetReader? ...</td>\n",
       "      <td>&lt;objective-c&gt;&lt;iphone&gt;&lt;cocoa-touch&gt;&lt;avfoundatio...</td>\n",
       "      <td>reading sample via avassetreader</td>\n",
       "      <td>phow do you read sample via avassetreader ive ...</td>\n",
       "    </tr>\n",
       "  </tbody>\n",
       "</table>\n",
       "</div>"
      ],
      "text/plain": [
       "             Id                                              Title  \\\n",
       "8085   12521802              Print rpath of an executable on macOS   \n",
       "23391  15873153  Explanation of Algorithm for finding articulat...   \n",
       "21749  11787571  How to read .pem file to get private and publi...   \n",
       "8465    2732978      C++, how to declare a struct in a header file   \n",
       "9314    4049207                  Reading samples via AVAssetReader   \n",
       "\n",
       "                                                    Body  \\\n",
       "8085   <p>I want to change the <em>rpath</em> of an e...   \n",
       "23391  <p>I have searched the net and could not find ...   \n",
       "21749  <p>I am writing a small piece of code which re...   \n",
       "8465   <p>I've been trying to include a structure cal...   \n",
       "9314   <p>How do you read samples via AVAssetReader? ...   \n",
       "\n",
       "                                                    Tags  \\\n",
       "8085   <macos><command-line><terminal><dynamic-linkin...   \n",
       "23391  <algorithm><graph><complexity-theory><graph-al...   \n",
       "21749                 <java><openssl><x509><pem><pkcs#8>   \n",
       "8465        <c++><struct><include><header><header-files>   \n",
       "9314   <objective-c><iphone><cocoa-touch><avfoundatio...   \n",
       "\n",
       "                                             clean_title  \\\n",
       "8085               print rpath of an executable on macos   \n",
       "23391  explanation of algorithm for finding articulat...   \n",
       "21749  how to read pem file to get private and public...   \n",
       "8465          c how to declare a struct in a header file   \n",
       "9314                    reading sample via avassetreader   \n",
       "\n",
       "                                              clean_body  \n",
       "8085   pi want to change the emrpathem of an executab...  \n",
       "23391  pi have searched the net and could not find an...  \n",
       "21749  pi am writing a small piece of code which read...  \n",
       "8465   pive been trying to include a structure called...  \n",
       "9314   phow do you read sample via avassetreader ive ...  "
      ]
     },
     "execution_count": 298,
     "metadata": {},
     "output_type": "execute_result"
    }
   ],
   "source": [
    "df['clean_body'] = df.Body.apply(preprocessing)\n",
    "df.head()"
   ]
  },
  {
   "cell_type": "code",
   "execution_count": 299,
   "id": "956a9402",
   "metadata": {},
   "outputs": [
    {
     "data": {
      "text/html": [
       "<div>\n",
       "<style scoped>\n",
       "    .dataframe tbody tr th:only-of-type {\n",
       "        vertical-align: middle;\n",
       "    }\n",
       "\n",
       "    .dataframe tbody tr th {\n",
       "        vertical-align: top;\n",
       "    }\n",
       "\n",
       "    .dataframe thead th {\n",
       "        text-align: right;\n",
       "    }\n",
       "</style>\n",
       "<table border=\"1\" class=\"dataframe\">\n",
       "  <thead>\n",
       "    <tr style=\"text-align: right;\">\n",
       "      <th></th>\n",
       "      <th>Id</th>\n",
       "      <th>Title</th>\n",
       "      <th>Body</th>\n",
       "      <th>Tags</th>\n",
       "      <th>clean_title</th>\n",
       "      <th>clean_body</th>\n",
       "      <th>clean_tags</th>\n",
       "    </tr>\n",
       "  </thead>\n",
       "  <tbody>\n",
       "    <tr>\n",
       "      <th>8085</th>\n",
       "      <td>12521802</td>\n",
       "      <td>Print rpath of an executable on macOS</td>\n",
       "      <td>&lt;p&gt;I want to change the &lt;em&gt;rpath&lt;/em&gt; of an e...</td>\n",
       "      <td>&lt;macos&gt;&lt;command-line&gt;&lt;terminal&gt;&lt;dynamic-linkin...</td>\n",
       "      <td>print rpath of an executable on macos</td>\n",
       "      <td>pi want to change the emrpathem of an executab...</td>\n",
       "      <td>macos  command line  terminal  dynamic linkin...</td>\n",
       "    </tr>\n",
       "    <tr>\n",
       "      <th>23391</th>\n",
       "      <td>15873153</td>\n",
       "      <td>Explanation of Algorithm for finding articulat...</td>\n",
       "      <td>&lt;p&gt;I have searched the net and could not find ...</td>\n",
       "      <td>&lt;algorithm&gt;&lt;graph&gt;&lt;complexity-theory&gt;&lt;graph-al...</td>\n",
       "      <td>explanation of algorithm for finding articulat...</td>\n",
       "      <td>pi have searched the net and could not find an...</td>\n",
       "      <td>algorithm  graph  complexity theory  graph al...</td>\n",
       "    </tr>\n",
       "    <tr>\n",
       "      <th>21749</th>\n",
       "      <td>11787571</td>\n",
       "      <td>How to read .pem file to get private and publi...</td>\n",
       "      <td>&lt;p&gt;I am writing a small piece of code which re...</td>\n",
       "      <td>&lt;java&gt;&lt;openssl&gt;&lt;x509&gt;&lt;pem&gt;&lt;pkcs#8&gt;</td>\n",
       "      <td>how to read pem file to get private and public...</td>\n",
       "      <td>pi am writing a small piece of code which read...</td>\n",
       "      <td>java  openssl  x509  pem  pkcs 8</td>\n",
       "    </tr>\n",
       "    <tr>\n",
       "      <th>8465</th>\n",
       "      <td>2732978</td>\n",
       "      <td>C++, how to declare a struct in a header file</td>\n",
       "      <td>&lt;p&gt;I've been trying to include a structure cal...</td>\n",
       "      <td>&lt;c++&gt;&lt;struct&gt;&lt;include&gt;&lt;header&gt;&lt;header-files&gt;</td>\n",
       "      <td>c how to declare a struct in a header file</td>\n",
       "      <td>pive been trying to include a structure called...</td>\n",
       "      <td>c    struct  include  header  header files</td>\n",
       "    </tr>\n",
       "    <tr>\n",
       "      <th>9314</th>\n",
       "      <td>4049207</td>\n",
       "      <td>Reading samples via AVAssetReader</td>\n",
       "      <td>&lt;p&gt;How do you read samples via AVAssetReader? ...</td>\n",
       "      <td>&lt;objective-c&gt;&lt;iphone&gt;&lt;cocoa-touch&gt;&lt;avfoundatio...</td>\n",
       "      <td>reading sample via avassetreader</td>\n",
       "      <td>phow do you read sample via avassetreader ive ...</td>\n",
       "      <td>objective c  iphone  cocoa touch  avfoundatio...</td>\n",
       "    </tr>\n",
       "  </tbody>\n",
       "</table>\n",
       "</div>"
      ],
      "text/plain": [
       "             Id                                              Title  \\\n",
       "8085   12521802              Print rpath of an executable on macOS   \n",
       "23391  15873153  Explanation of Algorithm for finding articulat...   \n",
       "21749  11787571  How to read .pem file to get private and publi...   \n",
       "8465    2732978      C++, how to declare a struct in a header file   \n",
       "9314    4049207                  Reading samples via AVAssetReader   \n",
       "\n",
       "                                                    Body  \\\n",
       "8085   <p>I want to change the <em>rpath</em> of an e...   \n",
       "23391  <p>I have searched the net and could not find ...   \n",
       "21749  <p>I am writing a small piece of code which re...   \n",
       "8465   <p>I've been trying to include a structure cal...   \n",
       "9314   <p>How do you read samples via AVAssetReader? ...   \n",
       "\n",
       "                                                    Tags  \\\n",
       "8085   <macos><command-line><terminal><dynamic-linkin...   \n",
       "23391  <algorithm><graph><complexity-theory><graph-al...   \n",
       "21749                 <java><openssl><x509><pem><pkcs#8>   \n",
       "8465        <c++><struct><include><header><header-files>   \n",
       "9314   <objective-c><iphone><cocoa-touch><avfoundatio...   \n",
       "\n",
       "                                             clean_title  \\\n",
       "8085               print rpath of an executable on macos   \n",
       "23391  explanation of algorithm for finding articulat...   \n",
       "21749  how to read pem file to get private and public...   \n",
       "8465          c how to declare a struct in a header file   \n",
       "9314                    reading sample via avassetreader   \n",
       "\n",
       "                                              clean_body  \\\n",
       "8085   pi want to change the emrpathem of an executab...   \n",
       "23391  pi have searched the net and could not find an...   \n",
       "21749  pi am writing a small piece of code which read...   \n",
       "8465   pive been trying to include a structure called...   \n",
       "9314   phow do you read sample via avassetreader ive ...   \n",
       "\n",
       "                                              clean_tags  \n",
       "8085    macos  command line  terminal  dynamic linkin...  \n",
       "23391   algorithm  graph  complexity theory  graph al...  \n",
       "21749                  java  openssl  x509  pem  pkcs 8   \n",
       "8465         c    struct  include  header  header files   \n",
       "9314    objective c  iphone  cocoa touch  avfoundatio...  "
      ]
     },
     "execution_count": 299,
     "metadata": {},
     "output_type": "execute_result"
    }
   ],
   "source": [
    "import string\n",
    "def remove_punctuation(Tags):\n",
    "    for punctuation in string.punctuation:\n",
    "        Tags = Tags.replace(punctuation, ' ')\n",
    "    return Tags\n",
    "df['clean_tags'] = df.Tags.apply(remove_punctuation)\n",
    "df.head()"
   ]
  },
  {
   "cell_type": "code",
   "execution_count": 300,
   "id": "97529674",
   "metadata": {},
   "outputs": [
    {
     "data": {
      "text/html": [
       "<div>\n",
       "<style scoped>\n",
       "    .dataframe tbody tr th:only-of-type {\n",
       "        vertical-align: middle;\n",
       "    }\n",
       "\n",
       "    .dataframe tbody tr th {\n",
       "        vertical-align: top;\n",
       "    }\n",
       "\n",
       "    .dataframe thead th {\n",
       "        text-align: right;\n",
       "    }\n",
       "</style>\n",
       "<table border=\"1\" class=\"dataframe\">\n",
       "  <thead>\n",
       "    <tr style=\"text-align: right;\">\n",
       "      <th></th>\n",
       "      <th>Id</th>\n",
       "      <th>Title</th>\n",
       "      <th>Body</th>\n",
       "      <th>Tags</th>\n",
       "      <th>clean_title</th>\n",
       "      <th>clean_body</th>\n",
       "      <th>clean_tags</th>\n",
       "    </tr>\n",
       "  </thead>\n",
       "  <tbody>\n",
       "    <tr>\n",
       "      <th>8085</th>\n",
       "      <td>12521802</td>\n",
       "      <td>Print rpath of an executable on macOS</td>\n",
       "      <td>&lt;p&gt;I want to change the &lt;em&gt;rpath&lt;/em&gt; of an e...</td>\n",
       "      <td>&lt;macos&gt;&lt;command-line&gt;&lt;terminal&gt;&lt;dynamic-linkin...</td>\n",
       "      <td>print rpath of an executable on macos</td>\n",
       "      <td>pi want to change the emrpathem of an executab...</td>\n",
       "      <td>macos  command line  terminal  dynamic linkin...</td>\n",
       "    </tr>\n",
       "    <tr>\n",
       "      <th>23391</th>\n",
       "      <td>15873153</td>\n",
       "      <td>Explanation of Algorithm for finding articulat...</td>\n",
       "      <td>&lt;p&gt;I have searched the net and could not find ...</td>\n",
       "      <td>&lt;algorithm&gt;&lt;graph&gt;&lt;complexity-theory&gt;&lt;graph-al...</td>\n",
       "      <td>explanation of algorithm for finding articulat...</td>\n",
       "      <td>pi have searched the net and could not find an...</td>\n",
       "      <td>algorithm  graph  complexity theory  graph al...</td>\n",
       "    </tr>\n",
       "    <tr>\n",
       "      <th>21749</th>\n",
       "      <td>11787571</td>\n",
       "      <td>How to read .pem file to get private and publi...</td>\n",
       "      <td>&lt;p&gt;I am writing a small piece of code which re...</td>\n",
       "      <td>&lt;java&gt;&lt;openssl&gt;&lt;x509&gt;&lt;pem&gt;&lt;pkcs#8&gt;</td>\n",
       "      <td>how to read pem file to get private and public...</td>\n",
       "      <td>pi am writing a small piece of code which read...</td>\n",
       "      <td>java  openssl  x  pem  pkcs</td>\n",
       "    </tr>\n",
       "    <tr>\n",
       "      <th>8465</th>\n",
       "      <td>2732978</td>\n",
       "      <td>C++, how to declare a struct in a header file</td>\n",
       "      <td>&lt;p&gt;I've been trying to include a structure cal...</td>\n",
       "      <td>&lt;c++&gt;&lt;struct&gt;&lt;include&gt;&lt;header&gt;&lt;header-files&gt;</td>\n",
       "      <td>c how to declare a struct in a header file</td>\n",
       "      <td>pive been trying to include a structure called...</td>\n",
       "      <td>c    struct  include  header  header files</td>\n",
       "    </tr>\n",
       "    <tr>\n",
       "      <th>9314</th>\n",
       "      <td>4049207</td>\n",
       "      <td>Reading samples via AVAssetReader</td>\n",
       "      <td>&lt;p&gt;How do you read samples via AVAssetReader? ...</td>\n",
       "      <td>&lt;objective-c&gt;&lt;iphone&gt;&lt;cocoa-touch&gt;&lt;avfoundatio...</td>\n",
       "      <td>reading sample via avassetreader</td>\n",
       "      <td>phow do you read sample via avassetreader ive ...</td>\n",
       "      <td>objective c  iphone  cocoa touch  avfoundatio...</td>\n",
       "    </tr>\n",
       "  </tbody>\n",
       "</table>\n",
       "</div>"
      ],
      "text/plain": [
       "             Id                                              Title  \\\n",
       "8085   12521802              Print rpath of an executable on macOS   \n",
       "23391  15873153  Explanation of Algorithm for finding articulat...   \n",
       "21749  11787571  How to read .pem file to get private and publi...   \n",
       "8465    2732978      C++, how to declare a struct in a header file   \n",
       "9314    4049207                  Reading samples via AVAssetReader   \n",
       "\n",
       "                                                    Body  \\\n",
       "8085   <p>I want to change the <em>rpath</em> of an e...   \n",
       "23391  <p>I have searched the net and could not find ...   \n",
       "21749  <p>I am writing a small piece of code which re...   \n",
       "8465   <p>I've been trying to include a structure cal...   \n",
       "9314   <p>How do you read samples via AVAssetReader? ...   \n",
       "\n",
       "                                                    Tags  \\\n",
       "8085   <macos><command-line><terminal><dynamic-linkin...   \n",
       "23391  <algorithm><graph><complexity-theory><graph-al...   \n",
       "21749                 <java><openssl><x509><pem><pkcs#8>   \n",
       "8465        <c++><struct><include><header><header-files>   \n",
       "9314   <objective-c><iphone><cocoa-touch><avfoundatio...   \n",
       "\n",
       "                                             clean_title  \\\n",
       "8085               print rpath of an executable on macos   \n",
       "23391  explanation of algorithm for finding articulat...   \n",
       "21749  how to read pem file to get private and public...   \n",
       "8465          c how to declare a struct in a header file   \n",
       "9314                    reading sample via avassetreader   \n",
       "\n",
       "                                              clean_body  \\\n",
       "8085   pi want to change the emrpathem of an executab...   \n",
       "23391  pi have searched the net and could not find an...   \n",
       "21749  pi am writing a small piece of code which read...   \n",
       "8465   pive been trying to include a structure called...   \n",
       "9314   phow do you read sample via avassetreader ive ...   \n",
       "\n",
       "                                              clean_tags  \n",
       "8085    macos  command line  terminal  dynamic linkin...  \n",
       "23391   algorithm  graph  complexity theory  graph al...  \n",
       "21749                      java  openssl  x  pem  pkcs    \n",
       "8465         c    struct  include  header  header files   \n",
       "9314    objective c  iphone  cocoa touch  avfoundatio...  "
      ]
     },
     "execution_count": 300,
     "metadata": {},
     "output_type": "execute_result"
    }
   ],
   "source": [
    "def remove_numbers(Tags):\n",
    "    words_only = ''.join([i for i in Tags if not i.isdigit()])\n",
    "    return words_only\n",
    "df['clean_tags'] = df.clean_tags.apply(remove_numbers)\n",
    "df.head()"
   ]
  },
  {
   "cell_type": "code",
   "execution_count": 301,
   "id": "ce48bd2a",
   "metadata": {},
   "outputs": [
    {
     "data": {
      "text/html": [
       "<div>\n",
       "<style scoped>\n",
       "    .dataframe tbody tr th:only-of-type {\n",
       "        vertical-align: middle;\n",
       "    }\n",
       "\n",
       "    .dataframe tbody tr th {\n",
       "        vertical-align: top;\n",
       "    }\n",
       "\n",
       "    .dataframe thead th {\n",
       "        text-align: right;\n",
       "    }\n",
       "</style>\n",
       "<table border=\"1\" class=\"dataframe\">\n",
       "  <thead>\n",
       "    <tr style=\"text-align: right;\">\n",
       "      <th></th>\n",
       "      <th>Id</th>\n",
       "      <th>Title</th>\n",
       "      <th>Body</th>\n",
       "      <th>Tags</th>\n",
       "      <th>clean_title</th>\n",
       "      <th>clean_body</th>\n",
       "      <th>clean_tags</th>\n",
       "    </tr>\n",
       "  </thead>\n",
       "  <tbody>\n",
       "    <tr>\n",
       "      <th>8085</th>\n",
       "      <td>12521802</td>\n",
       "      <td>Print rpath of an executable on macOS</td>\n",
       "      <td>&lt;p&gt;I want to change the &lt;em&gt;rpath&lt;/em&gt; of an e...</td>\n",
       "      <td>&lt;macos&gt;&lt;command-line&gt;&lt;terminal&gt;&lt;dynamic-linkin...</td>\n",
       "      <td>print rpath of an executable on macos</td>\n",
       "      <td>pi want to change the emrpathem of an executab...</td>\n",
       "      <td>[macos, command, line, terminal, dynamic, link...</td>\n",
       "    </tr>\n",
       "    <tr>\n",
       "      <th>23391</th>\n",
       "      <td>15873153</td>\n",
       "      <td>Explanation of Algorithm for finding articulat...</td>\n",
       "      <td>&lt;p&gt;I have searched the net and could not find ...</td>\n",
       "      <td>&lt;algorithm&gt;&lt;graph&gt;&lt;complexity-theory&gt;&lt;graph-al...</td>\n",
       "      <td>explanation of algorithm for finding articulat...</td>\n",
       "      <td>pi have searched the net and could not find an...</td>\n",
       "      <td>[algorithm, graph, complexity, theory, graph, ...</td>\n",
       "    </tr>\n",
       "    <tr>\n",
       "      <th>21749</th>\n",
       "      <td>11787571</td>\n",
       "      <td>How to read .pem file to get private and publi...</td>\n",
       "      <td>&lt;p&gt;I am writing a small piece of code which re...</td>\n",
       "      <td>&lt;java&gt;&lt;openssl&gt;&lt;x509&gt;&lt;pem&gt;&lt;pkcs#8&gt;</td>\n",
       "      <td>how to read pem file to get private and public...</td>\n",
       "      <td>pi am writing a small piece of code which read...</td>\n",
       "      <td>[java, openssl, x, pem, pkcs]</td>\n",
       "    </tr>\n",
       "    <tr>\n",
       "      <th>8465</th>\n",
       "      <td>2732978</td>\n",
       "      <td>C++, how to declare a struct in a header file</td>\n",
       "      <td>&lt;p&gt;I've been trying to include a structure cal...</td>\n",
       "      <td>&lt;c++&gt;&lt;struct&gt;&lt;include&gt;&lt;header&gt;&lt;header-files&gt;</td>\n",
       "      <td>c how to declare a struct in a header file</td>\n",
       "      <td>pive been trying to include a structure called...</td>\n",
       "      <td>[c, struct, include, header, header, files]</td>\n",
       "    </tr>\n",
       "    <tr>\n",
       "      <th>9314</th>\n",
       "      <td>4049207</td>\n",
       "      <td>Reading samples via AVAssetReader</td>\n",
       "      <td>&lt;p&gt;How do you read samples via AVAssetReader? ...</td>\n",
       "      <td>&lt;objective-c&gt;&lt;iphone&gt;&lt;cocoa-touch&gt;&lt;avfoundatio...</td>\n",
       "      <td>reading sample via avassetreader</td>\n",
       "      <td>phow do you read sample via avassetreader ive ...</td>\n",
       "      <td>[objective, c, iphone, cocoa, touch, avfoundat...</td>\n",
       "    </tr>\n",
       "  </tbody>\n",
       "</table>\n",
       "</div>"
      ],
      "text/plain": [
       "             Id                                              Title  \\\n",
       "8085   12521802              Print rpath of an executable on macOS   \n",
       "23391  15873153  Explanation of Algorithm for finding articulat...   \n",
       "21749  11787571  How to read .pem file to get private and publi...   \n",
       "8465    2732978      C++, how to declare a struct in a header file   \n",
       "9314    4049207                  Reading samples via AVAssetReader   \n",
       "\n",
       "                                                    Body  \\\n",
       "8085   <p>I want to change the <em>rpath</em> of an e...   \n",
       "23391  <p>I have searched the net and could not find ...   \n",
       "21749  <p>I am writing a small piece of code which re...   \n",
       "8465   <p>I've been trying to include a structure cal...   \n",
       "9314   <p>How do you read samples via AVAssetReader? ...   \n",
       "\n",
       "                                                    Tags  \\\n",
       "8085   <macos><command-line><terminal><dynamic-linkin...   \n",
       "23391  <algorithm><graph><complexity-theory><graph-al...   \n",
       "21749                 <java><openssl><x509><pem><pkcs#8>   \n",
       "8465        <c++><struct><include><header><header-files>   \n",
       "9314   <objective-c><iphone><cocoa-touch><avfoundatio...   \n",
       "\n",
       "                                             clean_title  \\\n",
       "8085               print rpath of an executable on macos   \n",
       "23391  explanation of algorithm for finding articulat...   \n",
       "21749  how to read pem file to get private and public...   \n",
       "8465          c how to declare a struct in a header file   \n",
       "9314                    reading sample via avassetreader   \n",
       "\n",
       "                                              clean_body  \\\n",
       "8085   pi want to change the emrpathem of an executab...   \n",
       "23391  pi have searched the net and could not find an...   \n",
       "21749  pi am writing a small piece of code which read...   \n",
       "8465   pive been trying to include a structure called...   \n",
       "9314   phow do you read sample via avassetreader ive ...   \n",
       "\n",
       "                                              clean_tags  \n",
       "8085   [macos, command, line, terminal, dynamic, link...  \n",
       "23391  [algorithm, graph, complexity, theory, graph, ...  \n",
       "21749                      [java, openssl, x, pem, pkcs]  \n",
       "8465         [c, struct, include, header, header, files]  \n",
       "9314   [objective, c, iphone, cocoa, touch, avfoundat...  "
      ]
     },
     "execution_count": 301,
     "metadata": {},
     "output_type": "execute_result"
    }
   ],
   "source": [
    "from nltk.corpus import stopwords\n",
    "from nltk import word_tokenize\n",
    "stop_words = set(stopwords.words('english'))\n",
    "\n",
    "def remove_stopwords(Tags):\n",
    "    tokenized =word_tokenize(Tags)\n",
    "    without_stopwords = [word for word in tokenized if not word in stop_words]\n",
    "    return without_stopwords\n",
    "df['clean_tags'] = df.clean_tags.apply(remove_stopwords)\n",
    "df.head()"
   ]
  },
  {
   "cell_type": "code",
   "execution_count": 302,
   "id": "6882aa7d",
   "metadata": {},
   "outputs": [
    {
     "data": {
      "text/html": [
       "<div>\n",
       "<style scoped>\n",
       "    .dataframe tbody tr th:only-of-type {\n",
       "        vertical-align: middle;\n",
       "    }\n",
       "\n",
       "    .dataframe tbody tr th {\n",
       "        vertical-align: top;\n",
       "    }\n",
       "\n",
       "    .dataframe thead th {\n",
       "        text-align: right;\n",
       "    }\n",
       "</style>\n",
       "<table border=\"1\" class=\"dataframe\">\n",
       "  <thead>\n",
       "    <tr style=\"text-align: right;\">\n",
       "      <th></th>\n",
       "      <th>Id</th>\n",
       "      <th>Title</th>\n",
       "      <th>Body</th>\n",
       "      <th>Tags</th>\n",
       "      <th>clean_title</th>\n",
       "      <th>clean_body</th>\n",
       "      <th>clean_tags</th>\n",
       "    </tr>\n",
       "  </thead>\n",
       "  <tbody>\n",
       "    <tr>\n",
       "      <th>8085</th>\n",
       "      <td>12521802</td>\n",
       "      <td>Print rpath of an executable on macOS</td>\n",
       "      <td>&lt;p&gt;I want to change the &lt;em&gt;rpath&lt;/em&gt; of an e...</td>\n",
       "      <td>&lt;macos&gt;&lt;command-line&gt;&lt;terminal&gt;&lt;dynamic-linkin...</td>\n",
       "      <td>print rpath of an executable on macos</td>\n",
       "      <td>pi want to change the emrpathem of an executab...</td>\n",
       "      <td>macos command line terminal dynamic linking da...</td>\n",
       "    </tr>\n",
       "    <tr>\n",
       "      <th>23391</th>\n",
       "      <td>15873153</td>\n",
       "      <td>Explanation of Algorithm for finding articulat...</td>\n",
       "      <td>&lt;p&gt;I have searched the net and could not find ...</td>\n",
       "      <td>&lt;algorithm&gt;&lt;graph&gt;&lt;complexity-theory&gt;&lt;graph-al...</td>\n",
       "      <td>explanation of algorithm for finding articulat...</td>\n",
       "      <td>pi have searched the net and could not find an...</td>\n",
       "      <td>algorithm graph complexity theory graph algori...</td>\n",
       "    </tr>\n",
       "    <tr>\n",
       "      <th>21749</th>\n",
       "      <td>11787571</td>\n",
       "      <td>How to read .pem file to get private and publi...</td>\n",
       "      <td>&lt;p&gt;I am writing a small piece of code which re...</td>\n",
       "      <td>&lt;java&gt;&lt;openssl&gt;&lt;x509&gt;&lt;pem&gt;&lt;pkcs#8&gt;</td>\n",
       "      <td>how to read pem file to get private and public...</td>\n",
       "      <td>pi am writing a small piece of code which read...</td>\n",
       "      <td>java openssl x pem pkcs</td>\n",
       "    </tr>\n",
       "    <tr>\n",
       "      <th>8465</th>\n",
       "      <td>2732978</td>\n",
       "      <td>C++, how to declare a struct in a header file</td>\n",
       "      <td>&lt;p&gt;I've been trying to include a structure cal...</td>\n",
       "      <td>&lt;c++&gt;&lt;struct&gt;&lt;include&gt;&lt;header&gt;&lt;header-files&gt;</td>\n",
       "      <td>c how to declare a struct in a header file</td>\n",
       "      <td>pive been trying to include a structure called...</td>\n",
       "      <td>c struct include header header file</td>\n",
       "    </tr>\n",
       "    <tr>\n",
       "      <th>9314</th>\n",
       "      <td>4049207</td>\n",
       "      <td>Reading samples via AVAssetReader</td>\n",
       "      <td>&lt;p&gt;How do you read samples via AVAssetReader? ...</td>\n",
       "      <td>&lt;objective-c&gt;&lt;iphone&gt;&lt;cocoa-touch&gt;&lt;avfoundatio...</td>\n",
       "      <td>reading sample via avassetreader</td>\n",
       "      <td>phow do you read sample via avassetreader ive ...</td>\n",
       "      <td>objective c iphone cocoa touch avfoundation av...</td>\n",
       "    </tr>\n",
       "  </tbody>\n",
       "</table>\n",
       "</div>"
      ],
      "text/plain": [
       "             Id                                              Title  \\\n",
       "8085   12521802              Print rpath of an executable on macOS   \n",
       "23391  15873153  Explanation of Algorithm for finding articulat...   \n",
       "21749  11787571  How to read .pem file to get private and publi...   \n",
       "8465    2732978      C++, how to declare a struct in a header file   \n",
       "9314    4049207                  Reading samples via AVAssetReader   \n",
       "\n",
       "                                                    Body  \\\n",
       "8085   <p>I want to change the <em>rpath</em> of an e...   \n",
       "23391  <p>I have searched the net and could not find ...   \n",
       "21749  <p>I am writing a small piece of code which re...   \n",
       "8465   <p>I've been trying to include a structure cal...   \n",
       "9314   <p>How do you read samples via AVAssetReader? ...   \n",
       "\n",
       "                                                    Tags  \\\n",
       "8085   <macos><command-line><terminal><dynamic-linkin...   \n",
       "23391  <algorithm><graph><complexity-theory><graph-al...   \n",
       "21749                 <java><openssl><x509><pem><pkcs#8>   \n",
       "8465        <c++><struct><include><header><header-files>   \n",
       "9314   <objective-c><iphone><cocoa-touch><avfoundatio...   \n",
       "\n",
       "                                             clean_title  \\\n",
       "8085               print rpath of an executable on macos   \n",
       "23391  explanation of algorithm for finding articulat...   \n",
       "21749  how to read pem file to get private and public...   \n",
       "8465          c how to declare a struct in a header file   \n",
       "9314                    reading sample via avassetreader   \n",
       "\n",
       "                                              clean_body  \\\n",
       "8085   pi want to change the emrpathem of an executab...   \n",
       "23391  pi have searched the net and could not find an...   \n",
       "21749  pi am writing a small piece of code which read...   \n",
       "8465   pive been trying to include a structure called...   \n",
       "9314   phow do you read sample via avassetreader ive ...   \n",
       "\n",
       "                                              clean_tags  \n",
       "8085   macos command line terminal dynamic linking da...  \n",
       "23391  algorithm graph complexity theory graph algori...  \n",
       "21749                            java openssl x pem pkcs  \n",
       "8465                 c struct include header header file  \n",
       "9314   objective c iphone cocoa touch avfoundation av...  "
      ]
     },
     "execution_count": 302,
     "metadata": {},
     "output_type": "execute_result"
    }
   ],
   "source": [
    "from nltk.stem import WordNetLemmatizer\n",
    "def lemma(Tags):\n",
    "    lemmatizer = WordNetLemmatizer()# Instantiate lemmatizer\n",
    "    lemmatized = [lemmatizer.lemmatize(word) for word in Tags]#Lemmatize\n",
    "    lemmatized_string = ' '.join(lemmatized)\n",
    "    return lemmatized_string\n",
    "df['clean_tags'] = df.clean_tags.apply(lemma)\n",
    "df.head()"
   ]
  },
  {
   "cell_type": "markdown",
   "id": "6f260d97",
   "metadata": {},
   "source": [
    "# Analysis clean text"
   ]
  },
  {
   "cell_type": "code",
   "execution_count": 303,
   "id": "2b85387b",
   "metadata": {},
   "outputs": [
    {
     "data": {
      "text/html": [
       "<div>\n",
       "<style scoped>\n",
       "    .dataframe tbody tr th:only-of-type {\n",
       "        vertical-align: middle;\n",
       "    }\n",
       "\n",
       "    .dataframe tbody tr th {\n",
       "        vertical-align: top;\n",
       "    }\n",
       "\n",
       "    .dataframe thead th {\n",
       "        text-align: right;\n",
       "    }\n",
       "</style>\n",
       "<table border=\"1\" class=\"dataframe\">\n",
       "  <thead>\n",
       "    <tr style=\"text-align: right;\">\n",
       "      <th></th>\n",
       "      <th>Id</th>\n",
       "      <th>Title</th>\n",
       "      <th>Body</th>\n",
       "      <th>Tags</th>\n",
       "      <th>clean_title</th>\n",
       "      <th>clean_body</th>\n",
       "      <th>clean_tags</th>\n",
       "    </tr>\n",
       "  </thead>\n",
       "  <tbody>\n",
       "    <tr>\n",
       "      <th>8085</th>\n",
       "      <td>12521802</td>\n",
       "      <td>Print rpath of an executable on macOS</td>\n",
       "      <td>&lt;p&gt;I want to change the &lt;em&gt;rpath&lt;/em&gt; of an e...</td>\n",
       "      <td>&lt;macos&gt;&lt;command-line&gt;&lt;terminal&gt;&lt;dynamic-linkin...</td>\n",
       "      <td>print rpath of an executable on macos</td>\n",
       "      <td>pi want to change the emrpathem of an executab...</td>\n",
       "      <td>macos command line terminal dynamic linking da...</td>\n",
       "    </tr>\n",
       "    <tr>\n",
       "      <th>23391</th>\n",
       "      <td>15873153</td>\n",
       "      <td>Explanation of Algorithm for finding articulat...</td>\n",
       "      <td>&lt;p&gt;I have searched the net and could not find ...</td>\n",
       "      <td>&lt;algorithm&gt;&lt;graph&gt;&lt;complexity-theory&gt;&lt;graph-al...</td>\n",
       "      <td>explanation of algorithm for finding articulat...</td>\n",
       "      <td>pi have searched the net and could not find an...</td>\n",
       "      <td>algorithm graph complexity theory graph algori...</td>\n",
       "    </tr>\n",
       "    <tr>\n",
       "      <th>21749</th>\n",
       "      <td>11787571</td>\n",
       "      <td>How to read .pem file to get private and publi...</td>\n",
       "      <td>&lt;p&gt;I am writing a small piece of code which re...</td>\n",
       "      <td>&lt;java&gt;&lt;openssl&gt;&lt;x509&gt;&lt;pem&gt;&lt;pkcs#8&gt;</td>\n",
       "      <td>how to read pem file to get private and public...</td>\n",
       "      <td>pi am writing a small piece of code which read...</td>\n",
       "      <td>java openssl x pem pkcs</td>\n",
       "    </tr>\n",
       "    <tr>\n",
       "      <th>8465</th>\n",
       "      <td>2732978</td>\n",
       "      <td>C++, how to declare a struct in a header file</td>\n",
       "      <td>&lt;p&gt;I've been trying to include a structure cal...</td>\n",
       "      <td>&lt;c++&gt;&lt;struct&gt;&lt;include&gt;&lt;header&gt;&lt;header-files&gt;</td>\n",
       "      <td>c how to declare a struct in a header file</td>\n",
       "      <td>pive been trying to include a structure called...</td>\n",
       "      <td>c struct include header header file</td>\n",
       "    </tr>\n",
       "    <tr>\n",
       "      <th>9314</th>\n",
       "      <td>4049207</td>\n",
       "      <td>Reading samples via AVAssetReader</td>\n",
       "      <td>&lt;p&gt;How do you read samples via AVAssetReader? ...</td>\n",
       "      <td>&lt;objective-c&gt;&lt;iphone&gt;&lt;cocoa-touch&gt;&lt;avfoundatio...</td>\n",
       "      <td>reading sample via avassetreader</td>\n",
       "      <td>phow do you read sample via avassetreader ive ...</td>\n",
       "      <td>objective c iphone cocoa touch avfoundation av...</td>\n",
       "    </tr>\n",
       "  </tbody>\n",
       "</table>\n",
       "</div>"
      ],
      "text/plain": [
       "             Id                                              Title  \\\n",
       "8085   12521802              Print rpath of an executable on macOS   \n",
       "23391  15873153  Explanation of Algorithm for finding articulat...   \n",
       "21749  11787571  How to read .pem file to get private and publi...   \n",
       "8465    2732978      C++, how to declare a struct in a header file   \n",
       "9314    4049207                  Reading samples via AVAssetReader   \n",
       "\n",
       "                                                    Body  \\\n",
       "8085   <p>I want to change the <em>rpath</em> of an e...   \n",
       "23391  <p>I have searched the net and could not find ...   \n",
       "21749  <p>I am writing a small piece of code which re...   \n",
       "8465   <p>I've been trying to include a structure cal...   \n",
       "9314   <p>How do you read samples via AVAssetReader? ...   \n",
       "\n",
       "                                                    Tags  \\\n",
       "8085   <macos><command-line><terminal><dynamic-linkin...   \n",
       "23391  <algorithm><graph><complexity-theory><graph-al...   \n",
       "21749                 <java><openssl><x509><pem><pkcs#8>   \n",
       "8465        <c++><struct><include><header><header-files>   \n",
       "9314   <objective-c><iphone><cocoa-touch><avfoundatio...   \n",
       "\n",
       "                                             clean_title  \\\n",
       "8085               print rpath of an executable on macos   \n",
       "23391  explanation of algorithm for finding articulat...   \n",
       "21749  how to read pem file to get private and public...   \n",
       "8465          c how to declare a struct in a header file   \n",
       "9314                    reading sample via avassetreader   \n",
       "\n",
       "                                              clean_body  \\\n",
       "8085   pi want to change the emrpathem of an executab...   \n",
       "23391  pi have searched the net and could not find an...   \n",
       "21749  pi am writing a small piece of code which read...   \n",
       "8465   pive been trying to include a structure called...   \n",
       "9314   phow do you read sample via avassetreader ive ...   \n",
       "\n",
       "                                              clean_tags  \n",
       "8085   macos command line terminal dynamic linking da...  \n",
       "23391  algorithm graph complexity theory graph algori...  \n",
       "21749                            java openssl x pem pkcs  \n",
       "8465                 c struct include header header file  \n",
       "9314   objective c iphone cocoa touch avfoundation av...  "
      ]
     },
     "execution_count": 303,
     "metadata": {},
     "output_type": "execute_result"
    }
   ],
   "source": [
    "# reviey the dataset\n",
    "df.head()"
   ]
  },
  {
   "cell_type": "code",
   "execution_count": 304,
   "id": "4ff6c776",
   "metadata": {},
   "outputs": [
    {
     "data": {
      "text/plain": [
       "Index(['Id', 'Title', 'Body', 'Tags', 'clean_title', 'clean_body',\n",
       "       'clean_tags'],\n",
       "      dtype='object')"
      ]
     },
     "execution_count": 304,
     "metadata": {},
     "output_type": "execute_result"
    }
   ],
   "source": [
    "# check the data columns\n",
    "df.columns"
   ]
  },
  {
   "cell_type": "code",
   "execution_count": 305,
   "id": "d6056fc2",
   "metadata": {},
   "outputs": [],
   "source": [
    "df['full_review'] =df['Title'].fillna('') + \" \" \\\n",
    "            + df['Body'].fillna('')"
   ]
  },
  {
   "cell_type": "code",
   "execution_count": 306,
   "id": "ec3dafea",
   "metadata": {},
   "outputs": [
    {
     "data": {
      "text/html": [
       "<div>\n",
       "<style scoped>\n",
       "    .dataframe tbody tr th:only-of-type {\n",
       "        vertical-align: middle;\n",
       "    }\n",
       "\n",
       "    .dataframe tbody tr th {\n",
       "        vertical-align: top;\n",
       "    }\n",
       "\n",
       "    .dataframe thead th {\n",
       "        text-align: right;\n",
       "    }\n",
       "</style>\n",
       "<table border=\"1\" class=\"dataframe\">\n",
       "  <thead>\n",
       "    <tr style=\"text-align: right;\">\n",
       "      <th></th>\n",
       "      <th>Id</th>\n",
       "      <th>Title</th>\n",
       "      <th>Body</th>\n",
       "      <th>Tags</th>\n",
       "      <th>clean_title</th>\n",
       "      <th>clean_body</th>\n",
       "      <th>clean_tags</th>\n",
       "      <th>full_review</th>\n",
       "    </tr>\n",
       "  </thead>\n",
       "  <tbody>\n",
       "    <tr>\n",
       "      <th>8085</th>\n",
       "      <td>12521802</td>\n",
       "      <td>Print rpath of an executable on macOS</td>\n",
       "      <td>&lt;p&gt;I want to change the &lt;em&gt;rpath&lt;/em&gt; of an e...</td>\n",
       "      <td>&lt;macos&gt;&lt;command-line&gt;&lt;terminal&gt;&lt;dynamic-linkin...</td>\n",
       "      <td>print rpath of an executable on macos</td>\n",
       "      <td>pi want to change the emrpathem of an executab...</td>\n",
       "      <td>macos command line terminal dynamic linking da...</td>\n",
       "      <td>Print rpath of an executable on macOS &lt;p&gt;I wan...</td>\n",
       "    </tr>\n",
       "    <tr>\n",
       "      <th>23391</th>\n",
       "      <td>15873153</td>\n",
       "      <td>Explanation of Algorithm for finding articulat...</td>\n",
       "      <td>&lt;p&gt;I have searched the net and could not find ...</td>\n",
       "      <td>&lt;algorithm&gt;&lt;graph&gt;&lt;complexity-theory&gt;&lt;graph-al...</td>\n",
       "      <td>explanation of algorithm for finding articulat...</td>\n",
       "      <td>pi have searched the net and could not find an...</td>\n",
       "      <td>algorithm graph complexity theory graph algori...</td>\n",
       "      <td>Explanation of Algorithm for finding articulat...</td>\n",
       "    </tr>\n",
       "    <tr>\n",
       "      <th>21749</th>\n",
       "      <td>11787571</td>\n",
       "      <td>How to read .pem file to get private and publi...</td>\n",
       "      <td>&lt;p&gt;I am writing a small piece of code which re...</td>\n",
       "      <td>&lt;java&gt;&lt;openssl&gt;&lt;x509&gt;&lt;pem&gt;&lt;pkcs#8&gt;</td>\n",
       "      <td>how to read pem file to get private and public...</td>\n",
       "      <td>pi am writing a small piece of code which read...</td>\n",
       "      <td>java openssl x pem pkcs</td>\n",
       "      <td>How to read .pem file to get private and publi...</td>\n",
       "    </tr>\n",
       "    <tr>\n",
       "      <th>8465</th>\n",
       "      <td>2732978</td>\n",
       "      <td>C++, how to declare a struct in a header file</td>\n",
       "      <td>&lt;p&gt;I've been trying to include a structure cal...</td>\n",
       "      <td>&lt;c++&gt;&lt;struct&gt;&lt;include&gt;&lt;header&gt;&lt;header-files&gt;</td>\n",
       "      <td>c how to declare a struct in a header file</td>\n",
       "      <td>pive been trying to include a structure called...</td>\n",
       "      <td>c struct include header header file</td>\n",
       "      <td>C++, how to declare a struct in a header file ...</td>\n",
       "    </tr>\n",
       "    <tr>\n",
       "      <th>9314</th>\n",
       "      <td>4049207</td>\n",
       "      <td>Reading samples via AVAssetReader</td>\n",
       "      <td>&lt;p&gt;How do you read samples via AVAssetReader? ...</td>\n",
       "      <td>&lt;objective-c&gt;&lt;iphone&gt;&lt;cocoa-touch&gt;&lt;avfoundatio...</td>\n",
       "      <td>reading sample via avassetreader</td>\n",
       "      <td>phow do you read sample via avassetreader ive ...</td>\n",
       "      <td>objective c iphone cocoa touch avfoundation av...</td>\n",
       "      <td>Reading samples via AVAssetReader &lt;p&gt;How do yo...</td>\n",
       "    </tr>\n",
       "  </tbody>\n",
       "</table>\n",
       "</div>"
      ],
      "text/plain": [
       "             Id                                              Title  \\\n",
       "8085   12521802              Print rpath of an executable on macOS   \n",
       "23391  15873153  Explanation of Algorithm for finding articulat...   \n",
       "21749  11787571  How to read .pem file to get private and publi...   \n",
       "8465    2732978      C++, how to declare a struct in a header file   \n",
       "9314    4049207                  Reading samples via AVAssetReader   \n",
       "\n",
       "                                                    Body  \\\n",
       "8085   <p>I want to change the <em>rpath</em> of an e...   \n",
       "23391  <p>I have searched the net and could not find ...   \n",
       "21749  <p>I am writing a small piece of code which re...   \n",
       "8465   <p>I've been trying to include a structure cal...   \n",
       "9314   <p>How do you read samples via AVAssetReader? ...   \n",
       "\n",
       "                                                    Tags  \\\n",
       "8085   <macos><command-line><terminal><dynamic-linkin...   \n",
       "23391  <algorithm><graph><complexity-theory><graph-al...   \n",
       "21749                 <java><openssl><x509><pem><pkcs#8>   \n",
       "8465        <c++><struct><include><header><header-files>   \n",
       "9314   <objective-c><iphone><cocoa-touch><avfoundatio...   \n",
       "\n",
       "                                             clean_title  \\\n",
       "8085               print rpath of an executable on macos   \n",
       "23391  explanation of algorithm for finding articulat...   \n",
       "21749  how to read pem file to get private and public...   \n",
       "8465          c how to declare a struct in a header file   \n",
       "9314                    reading sample via avassetreader   \n",
       "\n",
       "                                              clean_body  \\\n",
       "8085   pi want to change the emrpathem of an executab...   \n",
       "23391  pi have searched the net and could not find an...   \n",
       "21749  pi am writing a small piece of code which read...   \n",
       "8465   pive been trying to include a structure called...   \n",
       "9314   phow do you read sample via avassetreader ive ...   \n",
       "\n",
       "                                              clean_tags  \\\n",
       "8085   macos command line terminal dynamic linking da...   \n",
       "23391  algorithm graph complexity theory graph algori...   \n",
       "21749                            java openssl x pem pkcs   \n",
       "8465                 c struct include header header file   \n",
       "9314   objective c iphone cocoa touch avfoundation av...   \n",
       "\n",
       "                                             full_review  \n",
       "8085   Print rpath of an executable on macOS <p>I wan...  \n",
       "23391  Explanation of Algorithm for finding articulat...  \n",
       "21749  How to read .pem file to get private and publi...  \n",
       "8465   C++, how to declare a struct in a header file ...  \n",
       "9314   Reading samples via AVAssetReader <p>How do yo...  "
      ]
     },
     "execution_count": 306,
     "metadata": {},
     "output_type": "execute_result"
    }
   ],
   "source": [
    "df.head()"
   ]
  },
  {
   "cell_type": "code",
   "execution_count": 307,
   "id": "ceb84b41",
   "metadata": {},
   "outputs": [
    {
     "data": {
      "text/plain": [
       "(2793, 8)"
      ]
     },
     "execution_count": 307,
     "metadata": {},
     "output_type": "execute_result"
    }
   ],
   "source": [
    "df.shape"
   ]
  },
  {
   "cell_type": "code",
   "execution_count": 308,
   "id": "89ce2e8c",
   "metadata": {},
   "outputs": [],
   "source": [
    "df = df.reset_index(drop = True)"
   ]
  },
  {
   "cell_type": "code",
   "execution_count": 309,
   "id": "2eb33425",
   "metadata": {
    "scrolled": true
   },
   "outputs": [
    {
     "data": {
      "text/html": [
       "<div>\n",
       "<style scoped>\n",
       "    .dataframe tbody tr th:only-of-type {\n",
       "        vertical-align: middle;\n",
       "    }\n",
       "\n",
       "    .dataframe tbody tr th {\n",
       "        vertical-align: top;\n",
       "    }\n",
       "\n",
       "    .dataframe thead th {\n",
       "        text-align: right;\n",
       "    }\n",
       "</style>\n",
       "<table border=\"1\" class=\"dataframe\">\n",
       "  <thead>\n",
       "    <tr style=\"text-align: right;\">\n",
       "      <th></th>\n",
       "      <th>Id</th>\n",
       "      <th>Title</th>\n",
       "      <th>Body</th>\n",
       "      <th>Tags</th>\n",
       "      <th>clean_title</th>\n",
       "      <th>clean_body</th>\n",
       "      <th>clean_tags</th>\n",
       "      <th>full_review</th>\n",
       "    </tr>\n",
       "  </thead>\n",
       "  <tbody>\n",
       "    <tr>\n",
       "      <th>0</th>\n",
       "      <td>12521802</td>\n",
       "      <td>Print rpath of an executable on macOS</td>\n",
       "      <td>&lt;p&gt;I want to change the &lt;em&gt;rpath&lt;/em&gt; of an e...</td>\n",
       "      <td>&lt;macos&gt;&lt;command-line&gt;&lt;terminal&gt;&lt;dynamic-linkin...</td>\n",
       "      <td>print rpath of an executable on macos</td>\n",
       "      <td>pi want to change the emrpathem of an executab...</td>\n",
       "      <td>macos command line terminal dynamic linking da...</td>\n",
       "      <td>Print rpath of an executable on macOS &lt;p&gt;I wan...</td>\n",
       "    </tr>\n",
       "    <tr>\n",
       "      <th>1</th>\n",
       "      <td>15873153</td>\n",
       "      <td>Explanation of Algorithm for finding articulat...</td>\n",
       "      <td>&lt;p&gt;I have searched the net and could not find ...</td>\n",
       "      <td>&lt;algorithm&gt;&lt;graph&gt;&lt;complexity-theory&gt;&lt;graph-al...</td>\n",
       "      <td>explanation of algorithm for finding articulat...</td>\n",
       "      <td>pi have searched the net and could not find an...</td>\n",
       "      <td>algorithm graph complexity theory graph algori...</td>\n",
       "      <td>Explanation of Algorithm for finding articulat...</td>\n",
       "    </tr>\n",
       "    <tr>\n",
       "      <th>2</th>\n",
       "      <td>11787571</td>\n",
       "      <td>How to read .pem file to get private and publi...</td>\n",
       "      <td>&lt;p&gt;I am writing a small piece of code which re...</td>\n",
       "      <td>&lt;java&gt;&lt;openssl&gt;&lt;x509&gt;&lt;pem&gt;&lt;pkcs#8&gt;</td>\n",
       "      <td>how to read pem file to get private and public...</td>\n",
       "      <td>pi am writing a small piece of code which read...</td>\n",
       "      <td>java openssl x pem pkcs</td>\n",
       "      <td>How to read .pem file to get private and publi...</td>\n",
       "    </tr>\n",
       "    <tr>\n",
       "      <th>3</th>\n",
       "      <td>2732978</td>\n",
       "      <td>C++, how to declare a struct in a header file</td>\n",
       "      <td>&lt;p&gt;I've been trying to include a structure cal...</td>\n",
       "      <td>&lt;c++&gt;&lt;struct&gt;&lt;include&gt;&lt;header&gt;&lt;header-files&gt;</td>\n",
       "      <td>c how to declare a struct in a header file</td>\n",
       "      <td>pive been trying to include a structure called...</td>\n",
       "      <td>c struct include header header file</td>\n",
       "      <td>C++, how to declare a struct in a header file ...</td>\n",
       "    </tr>\n",
       "    <tr>\n",
       "      <th>4</th>\n",
       "      <td>4049207</td>\n",
       "      <td>Reading samples via AVAssetReader</td>\n",
       "      <td>&lt;p&gt;How do you read samples via AVAssetReader? ...</td>\n",
       "      <td>&lt;objective-c&gt;&lt;iphone&gt;&lt;cocoa-touch&gt;&lt;avfoundatio...</td>\n",
       "      <td>reading sample via avassetreader</td>\n",
       "      <td>phow do you read sample via avassetreader ive ...</td>\n",
       "      <td>objective c iphone cocoa touch avfoundation av...</td>\n",
       "      <td>Reading samples via AVAssetReader &lt;p&gt;How do yo...</td>\n",
       "    </tr>\n",
       "  </tbody>\n",
       "</table>\n",
       "</div>"
      ],
      "text/plain": [
       "         Id                                              Title  \\\n",
       "0  12521802              Print rpath of an executable on macOS   \n",
       "1  15873153  Explanation of Algorithm for finding articulat...   \n",
       "2  11787571  How to read .pem file to get private and publi...   \n",
       "3   2732978      C++, how to declare a struct in a header file   \n",
       "4   4049207                  Reading samples via AVAssetReader   \n",
       "\n",
       "                                                Body  \\\n",
       "0  <p>I want to change the <em>rpath</em> of an e...   \n",
       "1  <p>I have searched the net and could not find ...   \n",
       "2  <p>I am writing a small piece of code which re...   \n",
       "3  <p>I've been trying to include a structure cal...   \n",
       "4  <p>How do you read samples via AVAssetReader? ...   \n",
       "\n",
       "                                                Tags  \\\n",
       "0  <macos><command-line><terminal><dynamic-linkin...   \n",
       "1  <algorithm><graph><complexity-theory><graph-al...   \n",
       "2                 <java><openssl><x509><pem><pkcs#8>   \n",
       "3       <c++><struct><include><header><header-files>   \n",
       "4  <objective-c><iphone><cocoa-touch><avfoundatio...   \n",
       "\n",
       "                                         clean_title  \\\n",
       "0              print rpath of an executable on macos   \n",
       "1  explanation of algorithm for finding articulat...   \n",
       "2  how to read pem file to get private and public...   \n",
       "3         c how to declare a struct in a header file   \n",
       "4                   reading sample via avassetreader   \n",
       "\n",
       "                                          clean_body  \\\n",
       "0  pi want to change the emrpathem of an executab...   \n",
       "1  pi have searched the net and could not find an...   \n",
       "2  pi am writing a small piece of code which read...   \n",
       "3  pive been trying to include a structure called...   \n",
       "4  phow do you read sample via avassetreader ive ...   \n",
       "\n",
       "                                          clean_tags  \\\n",
       "0  macos command line terminal dynamic linking da...   \n",
       "1  algorithm graph complexity theory graph algori...   \n",
       "2                            java openssl x pem pkcs   \n",
       "3                c struct include header header file   \n",
       "4  objective c iphone cocoa touch avfoundation av...   \n",
       "\n",
       "                                         full_review  \n",
       "0  Print rpath of an executable on macOS <p>I wan...  \n",
       "1  Explanation of Algorithm for finding articulat...  \n",
       "2  How to read .pem file to get private and publi...  \n",
       "3  C++, how to declare a struct in a header file ...  \n",
       "4  Reading samples via AVAssetReader <p>How do yo...  "
      ]
     },
     "execution_count": 309,
     "metadata": {},
     "output_type": "execute_result"
    }
   ],
   "source": [
    "df.head()"
   ]
  },
  {
   "cell_type": "code",
   "execution_count": 310,
   "id": "c66293d5",
   "metadata": {
    "scrolled": true
   },
   "outputs": [
    {
     "data": {
      "text/plain": [
       "(2793,)"
      ]
     },
     "execution_count": 310,
     "metadata": {},
     "output_type": "execute_result"
    }
   ],
   "source": [
    "df['clean_tags'].shape"
   ]
  },
  {
   "cell_type": "code",
   "execution_count": 311,
   "id": "1831f3bc",
   "metadata": {},
   "outputs": [],
   "source": [
    "## https://www.kaggle.com/code/anubhavpoonia/notebook9e650d573f"
   ]
  },
  {
   "cell_type": "markdown",
   "id": "1c7a1449",
   "metadata": {},
   "source": [
    "# New Dataframe"
   ]
  },
  {
   "cell_type": "code",
   "execution_count": 312,
   "id": "c2145fbf",
   "metadata": {},
   "outputs": [],
   "source": [
    "df1 = df[['Id','full_review', 'clean_tags']]"
   ]
  },
  {
   "cell_type": "code",
   "execution_count": 313,
   "id": "e59212c1",
   "metadata": {},
   "outputs": [
    {
     "data": {
      "text/html": [
       "<div>\n",
       "<style scoped>\n",
       "    .dataframe tbody tr th:only-of-type {\n",
       "        vertical-align: middle;\n",
       "    }\n",
       "\n",
       "    .dataframe tbody tr th {\n",
       "        vertical-align: top;\n",
       "    }\n",
       "\n",
       "    .dataframe thead th {\n",
       "        text-align: right;\n",
       "    }\n",
       "</style>\n",
       "<table border=\"1\" class=\"dataframe\">\n",
       "  <thead>\n",
       "    <tr style=\"text-align: right;\">\n",
       "      <th></th>\n",
       "      <th>Id</th>\n",
       "      <th>full_review</th>\n",
       "      <th>clean_tags</th>\n",
       "    </tr>\n",
       "  </thead>\n",
       "  <tbody>\n",
       "    <tr>\n",
       "      <th>0</th>\n",
       "      <td>12521802</td>\n",
       "      <td>Print rpath of an executable on macOS &lt;p&gt;I wan...</td>\n",
       "      <td>macos command line terminal dynamic linking da...</td>\n",
       "    </tr>\n",
       "    <tr>\n",
       "      <th>1</th>\n",
       "      <td>15873153</td>\n",
       "      <td>Explanation of Algorithm for finding articulat...</td>\n",
       "      <td>algorithm graph complexity theory graph algori...</td>\n",
       "    </tr>\n",
       "    <tr>\n",
       "      <th>2</th>\n",
       "      <td>11787571</td>\n",
       "      <td>How to read .pem file to get private and publi...</td>\n",
       "      <td>java openssl x pem pkcs</td>\n",
       "    </tr>\n",
       "    <tr>\n",
       "      <th>3</th>\n",
       "      <td>2732978</td>\n",
       "      <td>C++, how to declare a struct in a header file ...</td>\n",
       "      <td>c struct include header header file</td>\n",
       "    </tr>\n",
       "    <tr>\n",
       "      <th>4</th>\n",
       "      <td>4049207</td>\n",
       "      <td>Reading samples via AVAssetReader &lt;p&gt;How do yo...</td>\n",
       "      <td>objective c iphone cocoa touch avfoundation av...</td>\n",
       "    </tr>\n",
       "    <tr>\n",
       "      <th>...</th>\n",
       "      <td>...</td>\n",
       "      <td>...</td>\n",
       "      <td>...</td>\n",
       "    </tr>\n",
       "    <tr>\n",
       "      <th>2788</th>\n",
       "      <td>39203791</td>\n",
       "      <td>How to use CompositeDisposable of RxJava 2? &lt;p...</td>\n",
       "      <td>java android rx java rx java rx android</td>\n",
       "    </tr>\n",
       "    <tr>\n",
       "      <th>2789</th>\n",
       "      <td>5314036</td>\n",
       "      <td>How to use addr2line in Android &lt;p&gt;I am stuck ...</td>\n",
       "      <td>android android ndk shared library native code...</td>\n",
       "    </tr>\n",
       "    <tr>\n",
       "      <th>2790</th>\n",
       "      <td>43103585</td>\n",
       "      <td>Python Flask SQLAlchemy Pagination &lt;p&gt;I am hav...</td>\n",
       "      <td>python flask sqlalchemy flask sqlalchemy flask...</td>\n",
       "    </tr>\n",
       "    <tr>\n",
       "      <th>2791</th>\n",
       "      <td>4849076</td>\n",
       "      <td>Efficient method to draw a line with millions ...</td>\n",
       "      <td>cocoa audio quartz waveform cgpath</td>\n",
       "    </tr>\n",
       "    <tr>\n",
       "      <th>2792</th>\n",
       "      <td>4258623</td>\n",
       "      <td>Show soft keyboard for dialog &lt;p&gt;I am displayi...</td>\n",
       "      <td>java android kotlin android softkeyboard andro...</td>\n",
       "    </tr>\n",
       "  </tbody>\n",
       "</table>\n",
       "<p>2793 rows × 3 columns</p>\n",
       "</div>"
      ],
      "text/plain": [
       "            Id                                        full_review  \\\n",
       "0     12521802  Print rpath of an executable on macOS <p>I wan...   \n",
       "1     15873153  Explanation of Algorithm for finding articulat...   \n",
       "2     11787571  How to read .pem file to get private and publi...   \n",
       "3      2732978  C++, how to declare a struct in a header file ...   \n",
       "4      4049207  Reading samples via AVAssetReader <p>How do yo...   \n",
       "...        ...                                                ...   \n",
       "2788  39203791  How to use CompositeDisposable of RxJava 2? <p...   \n",
       "2789   5314036  How to use addr2line in Android <p>I am stuck ...   \n",
       "2790  43103585  Python Flask SQLAlchemy Pagination <p>I am hav...   \n",
       "2791   4849076  Efficient method to draw a line with millions ...   \n",
       "2792   4258623  Show soft keyboard for dialog <p>I am displayi...   \n",
       "\n",
       "                                             clean_tags  \n",
       "0     macos command line terminal dynamic linking da...  \n",
       "1     algorithm graph complexity theory graph algori...  \n",
       "2                               java openssl x pem pkcs  \n",
       "3                   c struct include header header file  \n",
       "4     objective c iphone cocoa touch avfoundation av...  \n",
       "...                                                 ...  \n",
       "2788            java android rx java rx java rx android  \n",
       "2789  android android ndk shared library native code...  \n",
       "2790  python flask sqlalchemy flask sqlalchemy flask...  \n",
       "2791                 cocoa audio quartz waveform cgpath  \n",
       "2792  java android kotlin android softkeyboard andro...  \n",
       "\n",
       "[2793 rows x 3 columns]"
      ]
     },
     "execution_count": 313,
     "metadata": {},
     "output_type": "execute_result"
    }
   ],
   "source": [
    "df1"
   ]
  },
  {
   "cell_type": "markdown",
   "id": "b1c04284",
   "metadata": {},
   "source": [
    "## Tags"
   ]
  },
  {
   "cell_type": "markdown",
   "id": "37249456",
   "metadata": {},
   "source": [
    "Let's do some cleaning on the tags' column. Furthermore, I decided to keep the 100 most popular tags because I'll be easier to predict the right tag from 100 words than from 14,000 and because we want to keep macro tags and not be too specific since it's only a recommendation for a post, the user can add more specific tags himself."
   ]
  },
  {
   "cell_type": "code",
   "execution_count": 314,
   "id": "5d3d81f1",
   "metadata": {},
   "outputs": [],
   "source": [
    "df1['Tags'] = df1['clean_tags'].apply(lambda x: x.split())"
   ]
  },
  {
   "cell_type": "code",
   "execution_count": 315,
   "id": "9871dd46",
   "metadata": {},
   "outputs": [],
   "source": [
    "all_tags = [item for sublist in df1['clean_tags'].values for item in sublist]"
   ]
  },
  {
   "cell_type": "code",
   "execution_count": 316,
   "id": "79805eae",
   "metadata": {},
   "outputs": [
    {
     "data": {
      "text/plain": [
       "27"
      ]
     },
     "execution_count": 316,
     "metadata": {},
     "output_type": "execute_result"
    }
   ],
   "source": [
    "my_set = set(all_tags)\n",
    "unique_tags = list(my_set)\n",
    "len(unique_tags)"
   ]
  },
  {
   "cell_type": "code",
   "execution_count": 317,
   "id": "16ceb46e",
   "metadata": {},
   "outputs": [],
   "source": [
    "flat_list = [item for sublist in df1['Tags'].values for item in sublist]\n",
    "\n",
    "keywords = nltk.FreqDist(flat_list)\n",
    "\n",
    "keywords = nltk.FreqDist(keywords)\n",
    "\n",
    "frequencies_words = keywords.most_common(100)\n",
    "tags_features = [word[0] for word in frequencies_words]"
   ]
  },
  {
   "cell_type": "code",
   "execution_count": 318,
   "id": "dfa6fb55",
   "metadata": {},
   "outputs": [
    {
     "data": {
      "text/plain": [
       "['c',\n",
       " 'android',\n",
       " 'python',\n",
       " 'net',\n",
       " 'io',\n",
       " 'java',\n",
       " 'javascript',\n",
       " 'asp',\n",
       " 'iphone',\n",
       " 'sql',\n",
       " 'html',\n",
       " 'jquery',\n",
       " 'objective',\n",
       " 'spring',\n",
       " 'ruby',\n",
       " 'studio',\n",
       " 'window',\n",
       " 'visual',\n",
       " 'xcode',\n",
       " 'mvc',\n",
       " 'php',\n",
       " 'j',\n",
       " 'linux',\n",
       " 'database',\n",
       " 'django',\n",
       " 'web',\n",
       " 'google',\n",
       " 'cs',\n",
       " 'server',\n",
       " 'http',\n",
       " 'rail',\n",
       " 'data',\n",
       " 'swift',\n",
       " 'performance',\n",
       " 'string',\n",
       " 'file',\n",
       " 'image',\n",
       " 'apache',\n",
       " 'git',\n",
       " 'cocoa',\n",
       " 'node',\n",
       " 'design',\n",
       " 'api',\n",
       " 'core',\n",
       " 'memory',\n",
       " 'array',\n",
       " 'x',\n",
       " 'json',\n",
       " 'r',\n",
       " 'touch',\n",
       " 'framework',\n",
       " 'mysql',\n",
       " 'multithreading',\n",
       " 'testing',\n",
       " 'service',\n",
       " 'numpy',\n",
       " 'macos',\n",
       " 'panda',\n",
       " 'algorithm',\n",
       " 'library',\n",
       " 'bash',\n",
       " 'jpa',\n",
       " 'function',\n",
       " 'code',\n",
       " 'spark',\n",
       " 'learning',\n",
       " 'gradle',\n",
       " 'event',\n",
       " 'entity',\n",
       " 'processing',\n",
       " 'hibernate',\n",
       " 'laravel',\n",
       " 'machine',\n",
       " 'programming',\n",
       " 'eclipse',\n",
       " 'rest',\n",
       " 'interface',\n",
       " 'amazon',\n",
       " 'type',\n",
       " 'date',\n",
       " 'maven',\n",
       " 'audio',\n",
       " 'security',\n",
       " 'ajax',\n",
       " 'reactjs',\n",
       " 'unit',\n",
       " 'shell',\n",
       " 'list',\n",
       " 'class',\n",
       " 'optimization',\n",
       " 'angular',\n",
       " 'authentication',\n",
       " 'xml',\n",
       " 'variable',\n",
       " 'layout',\n",
       " 'line',\n",
       " 'model',\n",
       " 'pattern',\n",
       " 'chrome',\n",
       " 'language']"
      ]
     },
     "execution_count": 318,
     "metadata": {},
     "output_type": "execute_result"
    }
   ],
   "source": [
    "tags_features"
   ]
  },
  {
   "cell_type": "code",
   "execution_count": 319,
   "id": "268613f1",
   "metadata": {},
   "outputs": [
    {
     "data": {
      "image/png": "[encoded data removed]",
      "text/plain": [
       "<Figure size 1080x720 with 1 Axes>"
      ]
     },
     "metadata": {
      "needs_background": "light"
     },
     "output_type": "display_data"
    },
    {
     "data": {
      "text/plain": [
       "<AxesSubplot:xlabel='Samples', ylabel='Counts'>"
      ]
     },
     "execution_count": 319,
     "metadata": {},
     "output_type": "execute_result"
    }
   ],
   "source": [
    "fig, ax = plt.subplots(figsize=(15, 10))\n",
    "keywords.plot(50, cumulative=False)"
   ]
  },
  {
   "cell_type": "code",
   "execution_count": 320,
   "id": "beb12005",
   "metadata": {},
   "outputs": [],
   "source": [
    "def most_common(tags):\n",
    "    tags_filtered = []\n",
    "    for i in range(0, len(tags)):\n",
    "        if tags[i] in tags_features:\n",
    "            tags_filtered.append(tags[i])\n",
    "    return tags_filtered"
   ]
  },
  {
   "cell_type": "code",
   "execution_count": 321,
   "id": "fe24b2e7",
   "metadata": {},
   "outputs": [],
   "source": [
    "df1['Tags'] = df1['Tags'].apply(lambda x: most_common(x))\n",
    "df1['Tags'] = df1['Tags'].apply(lambda x: x if len(x)>0 else None)"
   ]
  },
  {
   "cell_type": "code",
   "execution_count": 322,
   "id": "03d9de6f",
   "metadata": {},
   "outputs": [
    {
     "data": {
      "text/plain": [
       "(2793, 4)"
      ]
     },
     "execution_count": 322,
     "metadata": {},
     "output_type": "execute_result"
    }
   ],
   "source": [
    "df1.shape"
   ]
  },
  {
   "cell_type": "code",
   "execution_count": 323,
   "id": "9d2a6204",
   "metadata": {},
   "outputs": [],
   "source": [
    "df1.dropna(subset=['Tags'], inplace=True)"
   ]
  },
  {
   "cell_type": "code",
   "execution_count": 324,
   "id": "94219809",
   "metadata": {},
   "outputs": [
    {
     "data": {
      "text/plain": [
       "(2729, 4)"
      ]
     },
     "execution_count": 324,
     "metadata": {},
     "output_type": "execute_result"
    }
   ],
   "source": [
    "df1.shape"
   ]
  },
  {
   "cell_type": "code",
   "execution_count": 325,
   "id": "f1e070cc",
   "metadata": {},
   "outputs": [
    {
     "data": {
      "text/html": [
       "<div>\n",
       "<style scoped>\n",
       "    .dataframe tbody tr th:only-of-type {\n",
       "        vertical-align: middle;\n",
       "    }\n",
       "\n",
       "    .dataframe tbody tr th {\n",
       "        vertical-align: top;\n",
       "    }\n",
       "\n",
       "    .dataframe thead th {\n",
       "        text-align: right;\n",
       "    }\n",
       "</style>\n",
       "<table border=\"1\" class=\"dataframe\">\n",
       "  <thead>\n",
       "    <tr style=\"text-align: right;\">\n",
       "      <th></th>\n",
       "      <th>Id</th>\n",
       "      <th>full_review</th>\n",
       "      <th>clean_tags</th>\n",
       "      <th>Tags</th>\n",
       "    </tr>\n",
       "  </thead>\n",
       "  <tbody>\n",
       "    <tr>\n",
       "      <th>0</th>\n",
       "      <td>12521802</td>\n",
       "      <td>Print rpath of an executable on macOS &lt;p&gt;I wan...</td>\n",
       "      <td>macos command line terminal dynamic linking da...</td>\n",
       "      <td>[macos, line]</td>\n",
       "    </tr>\n",
       "    <tr>\n",
       "      <th>1</th>\n",
       "      <td>15873153</td>\n",
       "      <td>Explanation of Algorithm for finding articulat...</td>\n",
       "      <td>algorithm graph complexity theory graph algori...</td>\n",
       "      <td>[algorithm, algorithm]</td>\n",
       "    </tr>\n",
       "    <tr>\n",
       "      <th>2</th>\n",
       "      <td>11787571</td>\n",
       "      <td>How to read .pem file to get private and publi...</td>\n",
       "      <td>java openssl x pem pkcs</td>\n",
       "      <td>[java, x]</td>\n",
       "    </tr>\n",
       "    <tr>\n",
       "      <th>3</th>\n",
       "      <td>2732978</td>\n",
       "      <td>C++, how to declare a struct in a header file ...</td>\n",
       "      <td>c struct include header header file</td>\n",
       "      <td>[c, file]</td>\n",
       "    </tr>\n",
       "    <tr>\n",
       "      <th>4</th>\n",
       "      <td>4049207</td>\n",
       "      <td>Reading samples via AVAssetReader &lt;p&gt;How do yo...</td>\n",
       "      <td>objective c iphone cocoa touch avfoundation av...</td>\n",
       "      <td>[objective, c, iphone, cocoa, touch]</td>\n",
       "    </tr>\n",
       "  </tbody>\n",
       "</table>\n",
       "</div>"
      ],
      "text/plain": [
       "         Id                                        full_review  \\\n",
       "0  12521802  Print rpath of an executable on macOS <p>I wan...   \n",
       "1  15873153  Explanation of Algorithm for finding articulat...   \n",
       "2  11787571  How to read .pem file to get private and publi...   \n",
       "3   2732978  C++, how to declare a struct in a header file ...   \n",
       "4   4049207  Reading samples via AVAssetReader <p>How do yo...   \n",
       "\n",
       "                                          clean_tags  \\\n",
       "0  macos command line terminal dynamic linking da...   \n",
       "1  algorithm graph complexity theory graph algori...   \n",
       "2                            java openssl x pem pkcs   \n",
       "3                c struct include header header file   \n",
       "4  objective c iphone cocoa touch avfoundation av...   \n",
       "\n",
       "                                   Tags  \n",
       "0                         [macos, line]  \n",
       "1                [algorithm, algorithm]  \n",
       "2                             [java, x]  \n",
       "3                             [c, file]  \n",
       "4  [objective, c, iphone, cocoa, touch]  "
      ]
     },
     "execution_count": 325,
     "metadata": {},
     "output_type": "execute_result"
    }
   ],
   "source": [
    "df1.head()"
   ]
  },
  {
   "cell_type": "markdown",
   "id": "98132469",
   "metadata": {},
   "source": [
    "## Title + Body = full_review"
   ]
  },
  {
   "cell_type": "markdown",
   "id": "6c4bb0ac",
   "metadata": {},
   "source": [
    "In the next two columns: Body and Title, I'll use lots of text processing:\n",
    "````\n",
    "Removing html format\n",
    "Lowering text\n",
    "Transforming abbreviations\n",
    "Removing punctuation (but keeping words like c# since it's the most popular tag)\n",
    "Lemmatizing words\n",
    "Removing stop words``\n",
    "````"
   ]
  },
  {
   "cell_type": "code",
   "execution_count": 326,
   "id": "7606ea05",
   "metadata": {},
   "outputs": [],
   "source": [
    "import re"
   ]
  },
  {
   "cell_type": "code",
   "execution_count": 327,
   "id": "fe0cb1cb",
   "metadata": {},
   "outputs": [],
   "source": [
    "def clean_text(text):\n",
    "    text = text.lower()\n",
    "    text = re.sub(r\"what's\", \"what is \", text)\n",
    "    text = re.sub(r\"\\'s\", \" \", text)\n",
    "    text = re.sub(r\"\\'ve\", \" have \", text)\n",
    "    text = re.sub(r\"can't\", \"can not \", text)\n",
    "    text = re.sub(r\"n't\", \" not \", text)\n",
    "    text = re.sub(r\"i'm\", \"i am \", text)\n",
    "    text = re.sub(r\"\\'re\", \" are \", text)\n",
    "    text = re.sub(r\"\\'d\", \" would \", text)\n",
    "    text = re.sub(r\"\\'ll\", \" will \", text)\n",
    "    text = re.sub(r\"\\'scuse\", \" excuse \", text)\n",
    "    text = re.sub(r\"\\'\\n\", \" \", text)\n",
    "    text = re.sub(r\"\\'\\xa0\", \" \", text)\n",
    "    text = re.sub('\\s+', ' ', text)\n",
    "    text = text.strip(' ')\n",
    "    return text"
   ]
  },
  {
   "cell_type": "code",
   "execution_count": 328,
   "id": "e97b2f6b",
   "metadata": {},
   "outputs": [],
   "source": [
    "df1['full_review'] = df1['full_review'].apply(lambda x: clean_text(x)) "
   ]
  },
  {
   "cell_type": "code",
   "execution_count": 329,
   "id": "b167deb2",
   "metadata": {},
   "outputs": [],
   "source": [
    "import pandas as pd\n",
    "import numpy as np\n",
    "\n",
    "\n",
    "import matplotlib.pyplot as plt\n",
    "import matplotlib.lines as mlines\n",
    "import seaborn as sns\n",
    "\n",
    "import warnings\n",
    "\n",
    "import pickle\n",
    "import time\n",
    "\n",
    "import re\n",
    "from bs4 import BeautifulSoup\n",
    "import nltk\n",
    "from nltk.tokenize import ToktokTokenizer\n",
    "from nltk.stem.wordnet import WordNetLemmatizer\n",
    "from nltk.corpus import stopwords\n",
    "from string import punctuation\n",
    "\n",
    "from sklearn.feature_extraction.text import TfidfVectorizer\n",
    "from sklearn.decomposition import LatentDirichletAllocation\n",
    "from sklearn.preprocessing import MultiLabelBinarizer\n",
    "from sklearn.model_selection import train_test_split\n",
    "from sklearn.model_selection import learning_curve\n",
    "from sklearn.model_selection import ShuffleSplit\n",
    "from sklearn.dummy import DummyClassifier\n",
    "from sklearn.naive_bayes import MultinomialNB\n",
    "from sklearn.linear_model import SGDClassifier\n",
    "from sklearn.linear_model import LogisticRegression\n",
    "from sklearn.multiclass import OneVsRestClassifier\n",
    "from sklearn.svm import LinearSVC\n",
    "from sklearn.linear_model import Perceptron\n",
    "from sklearn.linear_model import PassiveAggressiveClassifier\n",
    "from sklearn.neural_network import MLPClassifier\n",
    "from sklearn.ensemble import RandomForestClassifier\n",
    "from sklearn import model_selection\n",
    "from sklearn.metrics import make_scorer\n",
    "from sklearn.metrics import confusion_matrix\n",
    "from sklearn.metrics import hamming_loss\n",
    "from sklearn.cluster import KMeans\n",
    "\n",
    "\n",
    "import logging\n",
    "\n",
    "from scipy.sparse import hstack\n",
    "\n",
    "warnings.filterwarnings(\"ignore\")\n",
    "plt.style.use('bmh')\n",
    "%matplotlib inline"
   ]
  },
  {
   "cell_type": "code",
   "execution_count": 330,
   "id": "2984fcb4",
   "metadata": {
    "scrolled": true
   },
   "outputs": [],
   "source": [
    "token=ToktokTokenizer()"
   ]
  },
  {
   "cell_type": "code",
   "execution_count": 331,
   "id": "5eebb4f5",
   "metadata": {},
   "outputs": [
    {
     "data": {
      "text/plain": [
       "'!\"#$%&\\'()*+,-./:;<=>?@[\\\\]^_`{|}~'"
      ]
     },
     "execution_count": 331,
     "metadata": {},
     "output_type": "execute_result"
    }
   ],
   "source": [
    "punctuation"
   ]
  },
  {
   "cell_type": "code",
   "execution_count": 332,
   "id": "aa8194c9",
   "metadata": {},
   "outputs": [],
   "source": [
    "punct = '!\"#$%&\\'()*+,./:;<=>?@[\\\\]^_`{|}~'"
   ]
  },
  {
   "cell_type": "code",
   "execution_count": 333,
   "id": "8694ac68",
   "metadata": {},
   "outputs": [],
   "source": [
    "def strip_list_noempty(mylist):\n",
    "    newlist = (item.strip() if hasattr(item, 'strip') else item for item in mylist)\n",
    "    return [item for item in newlist if item != '']"
   ]
  },
  {
   "cell_type": "code",
   "execution_count": 334,
   "id": "2a8d7582",
   "metadata": {},
   "outputs": [],
   "source": [
    "def clean_punct(text): \n",
    "    words=token.tokenize(text)\n",
    "    punctuation_filtered = []\n",
    "    regex = re.compile('[%s]' % re.escape(punct))\n",
    "    remove_punctuation = str.maketrans(' ', ' ', punct)\n",
    "    for w in words:\n",
    "        if w in tags_features:\n",
    "            punctuation_filtered.append(w)\n",
    "        else:\n",
    "            punctuation_filtered.append(regex.sub('', w))\n",
    "  \n",
    "    filtered_list = strip_list_noempty(punctuation_filtered)\n",
    "        \n",
    "    return ' '.join(map(str, filtered_list))"
   ]
  },
  {
   "cell_type": "code",
   "execution_count": 335,
   "id": "54a113a0",
   "metadata": {},
   "outputs": [
    {
     "data": {
      "text/plain": [
       "'how to read .pem file to get private and public key <p>i am writing a small piece of code which reads public and private key stored in .pem file. i am using the following commands to generate the keys. </p> <p>below command to generate pair of key. </p> <pre><code> $openssl genrsa -out mykey.pem 2048 </code></pre> <p>this command to generate the private key</p> <pre><code>$openssl pkcs8 -topk8 -inform pem -outform pem -in mykey.pem \\\\ -out private_key.pem -nocrypt </code></pre> <p>and this command to get the public key. </p> <pre><code>$ openssl rsa -in mykey.pem -pubout -outform der -out public_key.der </code></pre> <p>i have written two methods which reads the private key and public key respectively.</p> <pre><code> public privatekey getpemprivatekey(string filename, string algorithm) throws exception { file f = new file(filename); fileinputstream fis = new fileinputstream(f); datainputstream dis = new datainputstream(fis); byte[] keybytes = new byte[(int) f.length()]; dis.readfully(keybytes); dis.close(); string temp = new string(keybytes); string privkeypem = temp.replace(\"-----begin private key-----\\\\n\", \"\"); privkeypem = privkeypem.replace(\"-----end private key-----\", \"\"); //system.out.println(\"private key\\\\n\"+privkeypem); base64 b64 = new base64(); byte [] decoded = b64.decode(privkeypem); pkcs8encodedkeyspec spec = new pkcs8encodedkeyspec(decoded); keyfactory kf = keyfactory.getinstance(algorithm); return kf.generateprivate(spec); } public publickey getpempublickey(string filename, string algorithm) throws exception { file f = new file(filename); fileinputstream fis = new fileinputstream(f); datainputstream dis = new datainputstream(fis); byte[] keybytes = new byte[(int) f.length()]; dis.readfully(keybytes); dis.close(); string temp = new string(keybytes); string publickeypem = temp.replace(\"-----begin public key-----\\\\n\", \"\"); publickeypem = publickeypem.replace(\"-----end public key-----\", \"\"); base64 b64 = new base64(); byte [] decoded = b64.decode(publickeypem); x509encodedkeyspec spec = new x509encodedkeyspec(decoded); keyfactory kf = keyfactory.getinstance(algorithm); return kf.generatepublic(spec); } </code></pre> <p>i feel like this is a naive way of doing it. i could not get any better way of doing it over internet. can anyone suggest me what is the best way of writing the same code to handle the generic cases. i don\\' want to use any kind of third party library.<br> i have very basic knowledge of singing/encrypting and hardly use any java security apis. so if i am not making sense somewhere then please point out.</p>'"
      ]
     },
     "execution_count": 335,
     "metadata": {},
     "output_type": "execute_result"
    }
   ],
   "source": [
    "df1['full_review'][2]"
   ]
  },
  {
   "cell_type": "code",
   "execution_count": 336,
   "id": "d2cd9140",
   "metadata": {},
   "outputs": [],
   "source": [
    "df1['full_review'] = df1['full_review'].apply(lambda x: clean_punct(x)) "
   ]
  },
  {
   "cell_type": "code",
   "execution_count": 337,
   "id": "79d1964d",
   "metadata": {},
   "outputs": [
    {
     "data": {
      "text/plain": [
       "'how to read pem file to get private and public key pi am writing a small piece of code which reads public and private key stored in pem file i am using the following commands to generate the keys p pbelow command to generate pair of key p precode openssl genrsa -out mykeypem 2048 codepre pthis command to generate the private keyp precode openssl pkcs8 -topk8 -inform pem -outform pem -in mykeypem -out privatekeypem -nocrypt codepre pand this command to get the public key p precode openssl rsa -in mykeypem -pubout -outform der -out publickeyder codepre pi have written two methods which reads the private key and public key respectivelyp precode public privatekey getpemprivatekey string filename string algorithm throws exception file f new file filename fileinputstream fis new fileinputstream f datainputstream dis new datainputstream fis byte keybytes new byte int flength disreadfully keybytes disclose string temp new string keybytes string privkeypem tempreplace ----- begin private key ----- n privkeypem privkeypemreplace ----- end private key ----- systemoutprintln private keyn privkeypem base64 b64 new base64 byte decoded b64decode privkeypem pkcs8encodedkeyspec spec new pkcs8encodedkeyspec decoded keyfactory kf keyfactorygetinstance algorithm return kfgenerateprivate spec public publickey getpempublickey string filename string algorithm throws exception file f new file filename fileinputstream fis new fileinputstream f datainputstream dis new datainputstream fis byte keybytes new byte int flength disreadfully keybytes disclose string temp new string keybytes string publickeypem tempreplace ----- begin public key ----- n publickeypem publickeypemreplace ----- end public key ----- base64 b64 new base64 byte decoded b64decode publickeypem x509encodedkeyspec spec new x509encodedkeyspec decoded keyfactory kf keyfactorygetinstance algorithm return kfgeneratepublic spec codepre pi feel like this is a naive way of doing it i could not get any better way of doing it over internet can anyone suggest me what is the best way of writing the same code to handle the generic cases i don want to use any kind of third party librarybr i have very basic knowledge of singingencrypting and hardly use any java security apis so if i am not making sense somewhere then please point outp'"
      ]
     },
     "execution_count": 337,
     "metadata": {},
     "output_type": "execute_result"
    }
   ],
   "source": [
    "df1['full_review'][2]"
   ]
  },
  {
   "cell_type": "code",
   "execution_count": 338,
   "id": "e232b663",
   "metadata": {},
   "outputs": [],
   "source": [
    "lemma=WordNetLemmatizer()\n",
    "stop_words = set(stopwords.words(\"english\"))"
   ]
  },
  {
   "cell_type": "code",
   "execution_count": 339,
   "id": "1e6805f9",
   "metadata": {},
   "outputs": [],
   "source": [
    "def lemitizeWords(text):\n",
    "    words=token.tokenize(text)\n",
    "    listLemma=[]\n",
    "    for w in words:\n",
    "        x=lemma.lemmatize(w, pos=\"v\")\n",
    "        listLemma.append(x)\n",
    "    return ' '.join(map(str, listLemma))\n",
    "\n",
    "def stopWordsRemove(text):\n",
    "    stop_words = set(stopwords.words(\"english\"))\n",
    "    words=token.tokenize(text)\n",
    "    filtered = [w for w in words if not w in stop_words]\n",
    "    return ' '.join(map(str, filtered))"
   ]
  },
  {
   "cell_type": "code",
   "execution_count": 340,
   "id": "b7ea913f",
   "metadata": {},
   "outputs": [],
   "source": [
    "df1['full_review'] = df1['full_review'].apply(lambda x: lemitizeWords(x)) \n",
    "df1['full_review'] = df1['full_review'].apply(lambda x: stopWordsRemove(x)) "
   ]
  },
  {
   "cell_type": "code",
   "execution_count": 396,
   "id": "c9c59f0f",
   "metadata": {},
   "outputs": [
    {
     "data": {
      "text/html": [
       "<div>\n",
       "<style scoped>\n",
       "    .dataframe tbody tr th:only-of-type {\n",
       "        vertical-align: middle;\n",
       "    }\n",
       "\n",
       "    .dataframe tbody tr th {\n",
       "        vertical-align: top;\n",
       "    }\n",
       "\n",
       "    .dataframe thead th {\n",
       "        text-align: right;\n",
       "    }\n",
       "</style>\n",
       "<table border=\"1\" class=\"dataframe\">\n",
       "  <thead>\n",
       "    <tr style=\"text-align: right;\">\n",
       "      <th></th>\n",
       "      <th>Id</th>\n",
       "      <th>full_review</th>\n",
       "      <th>clean_tags</th>\n",
       "      <th>Tags</th>\n",
       "    </tr>\n",
       "  </thead>\n",
       "  <tbody>\n",
       "    <tr>\n",
       "      <th>0</th>\n",
       "      <td>12521802</td>\n",
       "      <td>print rpath executable macos pi want change em...</td>\n",
       "      <td>macos command line terminal dynamic linking da...</td>\n",
       "      <td>[macos, line]</td>\n",
       "    </tr>\n",
       "    <tr>\n",
       "      <th>1</th>\n",
       "      <td>15873153</td>\n",
       "      <td>explanation algorithm find articulation point ...</td>\n",
       "      <td>algorithm graph complexity theory graph algori...</td>\n",
       "      <td>[algorithm, algorithm]</td>\n",
       "    </tr>\n",
       "    <tr>\n",
       "      <th>2</th>\n",
       "      <td>11787571</td>\n",
       "      <td>read pem file get private public key pi write ...</td>\n",
       "      <td>java openssl x pem pkcs</td>\n",
       "      <td>[java, x]</td>\n",
       "    </tr>\n",
       "    <tr>\n",
       "      <th>3</th>\n",
       "      <td>2732978</td>\n",
       "      <td>c declare struct header file pi try include st...</td>\n",
       "      <td>c struct include header header file</td>\n",
       "      <td>[c, file]</td>\n",
       "    </tr>\n",
       "    <tr>\n",
       "      <th>4</th>\n",
       "      <td>4049207</td>\n",
       "      <td>read sample via avassetreader phow read sample...</td>\n",
       "      <td>objective c iphone cocoa touch avfoundation av...</td>\n",
       "      <td>[objective, c, iphone, cocoa, touch]</td>\n",
       "    </tr>\n",
       "    <tr>\n",
       "      <th>...</th>\n",
       "      <td>...</td>\n",
       "      <td>...</td>\n",
       "      <td>...</td>\n",
       "      <td>...</td>\n",
       "    </tr>\n",
       "    <tr>\n",
       "      <th>2788</th>\n",
       "      <td>39203791</td>\n",
       "      <td>use compositedisposable rxjava 2 pin rxjava 1 ...</td>\n",
       "      <td>java android rx java rx java rx android</td>\n",
       "      <td>[java, android, java, java, android]</td>\n",
       "    </tr>\n",
       "    <tr>\n",
       "      <th>2789</th>\n",
       "      <td>5314036</td>\n",
       "      <td>use addr2line android pi stick app unable debu...</td>\n",
       "      <td>android android ndk shared library native code...</td>\n",
       "      <td>[android, android, library, code]</td>\n",
       "    </tr>\n",
       "    <tr>\n",
       "      <th>2790</th>\n",
       "      <td>43103585</td>\n",
       "      <td>python flask sqlalchemy pagination pi trouble ...</td>\n",
       "      <td>python flask sqlalchemy flask sqlalchemy flask...</td>\n",
       "      <td>[python]</td>\n",
       "    </tr>\n",
       "    <tr>\n",
       "      <th>2791</th>\n",
       "      <td>4849076</td>\n",
       "      <td>efficient method draw line millions point pi w...</td>\n",
       "      <td>cocoa audio quartz waveform cgpath</td>\n",
       "      <td>[cocoa, audio]</td>\n",
       "    </tr>\n",
       "    <tr>\n",
       "      <th>2792</th>\n",
       "      <td>4258623</td>\n",
       "      <td>show soft keyboard dialog pi display dialog ed...</td>\n",
       "      <td>java android kotlin android softkeyboard andro...</td>\n",
       "      <td>[java, android, android, android]</td>\n",
       "    </tr>\n",
       "  </tbody>\n",
       "</table>\n",
       "<p>2729 rows × 4 columns</p>\n",
       "</div>"
      ],
      "text/plain": [
       "            Id                                        full_review  \\\n",
       "0     12521802  print rpath executable macos pi want change em...   \n",
       "1     15873153  explanation algorithm find articulation point ...   \n",
       "2     11787571  read pem file get private public key pi write ...   \n",
       "3      2732978  c declare struct header file pi try include st...   \n",
       "4      4049207  read sample via avassetreader phow read sample...   \n",
       "...        ...                                                ...   \n",
       "2788  39203791  use compositedisposable rxjava 2 pin rxjava 1 ...   \n",
       "2789   5314036  use addr2line android pi stick app unable debu...   \n",
       "2790  43103585  python flask sqlalchemy pagination pi trouble ...   \n",
       "2791   4849076  efficient method draw line millions point pi w...   \n",
       "2792   4258623  show soft keyboard dialog pi display dialog ed...   \n",
       "\n",
       "                                             clean_tags  \\\n",
       "0     macos command line terminal dynamic linking da...   \n",
       "1     algorithm graph complexity theory graph algori...   \n",
       "2                               java openssl x pem pkcs   \n",
       "3                   c struct include header header file   \n",
       "4     objective c iphone cocoa touch avfoundation av...   \n",
       "...                                                 ...   \n",
       "2788            java android rx java rx java rx android   \n",
       "2789  android android ndk shared library native code...   \n",
       "2790  python flask sqlalchemy flask sqlalchemy flask...   \n",
       "2791                 cocoa audio quartz waveform cgpath   \n",
       "2792  java android kotlin android softkeyboard andro...   \n",
       "\n",
       "                                      Tags  \n",
       "0                            [macos, line]  \n",
       "1                   [algorithm, algorithm]  \n",
       "2                                [java, x]  \n",
       "3                                [c, file]  \n",
       "4     [objective, c, iphone, cocoa, touch]  \n",
       "...                                    ...  \n",
       "2788  [java, android, java, java, android]  \n",
       "2789     [android, android, library, code]  \n",
       "2790                              [python]  \n",
       "2791                        [cocoa, audio]  \n",
       "2792     [java, android, android, android]  \n",
       "\n",
       "[2729 rows x 4 columns]"
      ]
     },
     "execution_count": 396,
     "metadata": {},
     "output_type": "execute_result"
    }
   ],
   "source": [
    "df1"
   ]
  },
  {
   "cell_type": "code",
   "execution_count": 397,
   "id": "6e333368",
   "metadata": {},
   "outputs": [],
   "source": [
    "df1.to_csv(\"data_cleaned_1.csv\")"
   ]
  },
  {
   "cell_type": "code",
   "execution_count": 399,
   "id": "15b63bb2",
   "metadata": {},
   "outputs": [],
   "source": [
    "#pd.read_csv(\"data_cleaned_1.csv\")"
   ]
  },
  {
   "cell_type": "markdown",
   "id": "bd3bfaef",
   "metadata": {},
   "source": [
    "# LDA"
   ]
  },
  {
   "cell_type": "markdown",
   "id": "2cb9b86d",
   "metadata": {},
   "source": [
    "Here I'll just use some LDA to see if shows any paterns in words and the main topics."
   ]
  },
  {
   "cell_type": "code",
   "execution_count": 341,
   "id": "ffcfbb3c",
   "metadata": {},
   "outputs": [],
   "source": [
    "n_components=20"
   ]
  },
  {
   "cell_type": "code",
   "execution_count": 342,
   "id": "7f68c663",
   "metadata": {},
   "outputs": [],
   "source": [
    "text = df1['full_review']"
   ]
  },
  {
   "cell_type": "code",
   "execution_count": 343,
   "id": "ba3ef114",
   "metadata": {},
   "outputs": [],
   "source": [
    "vectorizer_train = TfidfVectorizer(analyzer = 'word',\n",
    "                                       min_df=0.0,\n",
    "                                       max_df = 1.0,\n",
    "                                       strip_accents = None,\n",
    "                                       encoding = 'utf-8', \n",
    "                                       preprocessor=None,\n",
    "                                       token_pattern=r\"(?u)\\S\\S+\",\n",
    "                                       max_features=1000)"
   ]
  },
  {
   "cell_type": "code",
   "execution_count": 344,
   "id": "246e8719",
   "metadata": {},
   "outputs": [],
   "source": [
    "TF_IDF_matrix = vectorizer_train.fit_transform(text)"
   ]
  },
  {
   "cell_type": "code",
   "execution_count": 345,
   "id": "c5350b08",
   "metadata": {},
   "outputs": [],
   "source": [
    "from sklearn.decomposition import LatentDirichletAllocation"
   ]
  },
  {
   "cell_type": "code",
   "execution_count": 346,
   "id": "18f2ac02",
   "metadata": {},
   "outputs": [],
   "source": [
    "lda = LatentDirichletAllocation(n_components=20, max_iter=5, learning_method='online', learning_offset=50,random_state=11).fit(TF_IDF_matrix)"
   ]
  },
  {
   "cell_type": "code",
   "execution_count": 347,
   "id": "a4e079da",
   "metadata": {},
   "outputs": [
    {
     "name": "stdout",
     "output_type": "stream",
     "text": [
      "--------------------------------------------\n",
      "Topic 0:\n",
      "java hash shape device android use phow define alloc documentation\n",
      "--------------------------------------------\n",
      "--------------------------------------------\n",
      "Topic 1:\n",
      "lt gt input ligt href agt field type javascript html\n",
      "--------------------------------------------\n",
      "--------------------------------------------\n",
      "Topic 2:\n",
      "get pi learn start able 15 number network total thisp\n",
      "--------------------------------------------\n",
      "--------------------------------------------\n",
      "Topic 3:\n",
      "import django would warn use model regular ul url token\n",
      "--------------------------------------------\n",
      "--------------------------------------------\n",
      "Topic 4:\n",
      "center text safari zoom ios html parent codelt test code\n",
      "--------------------------------------------\n",
      "--------------------------------------------\n",
      "Topic 5:\n",
      "video sum form version less array number play chrome 11\n",
      "--------------------------------------------\n",
      "--------------------------------------------\n",
      "Topic 6:\n",
      "github 00 new output keep audio repository certificate kernel change\n",
      "--------------------------------------------\n",
      "--------------------------------------------\n",
      "Topic 7:\n",
      "entity query framework google phow rel class record active noreferrer\n",
      "--------------------------------------------\n",
      "--------------------------------------------\n",
      "Topic 8:\n",
      "variable pto vector pcan attribute entry execute support localhost differences\n",
      "--------------------------------------------\n",
      "--------------------------------------------\n",
      "Topic 9:\n",
      "hc tdgt view lt difference differences example show height ul\n",
      "--------------------------------------------\n",
      "--------------------------------------------\n",
      "Topic 10:\n",
      "store transaction json rout page file commit use array service\n",
      "--------------------------------------------\n",
      "--------------------------------------------\n",
      "Topic 11:\n",
      "user frame spring mvc swift use error convert max array\n",
      "--------------------------------------------\n",
      "--------------------------------------------\n",
      "Topic 12:\n",
      "npm err android certain video click node sort struct version\n",
      "--------------------------------------------\n",
      "--------------------------------------------\n",
      "Topic 13:\n",
      "ruby-187-p352 navigation version file nil yes node aspnet mvc controller\n",
      "--------------------------------------------\n",
      "--------------------------------------------\n",
      "Topic 14:\n",
      "index download file copy range list new string unsigned image\n",
      "--------------------------------------------\n",
      "--------------------------------------------\n",
      "Topic 15:\n",
      "nan fragment quot pwhat code differences python difference use ios\n",
      "--------------------------------------------\n",
      "--------------------------------------------\n",
      "Topic 16:\n",
      "use pi codepre code href file get would like rel\n",
      "--------------------------------------------\n",
      "--------------------------------------------\n",
      "Topic 17:\n",
      "file use color read pi string select copy convert way\n",
      "--------------------------------------------\n",
      "--------------------------------------------\n",
      "Topic 18:\n",
      "vfmadd231ps 124 200 regular tag find attribute set group image\n",
      "--------------------------------------------\n",
      "--------------------------------------------\n",
      "Topic 19:\n",
      "lt gt android div divgt precodelt class xmlns id imageview\n",
      "--------------------------------------------\n"
     ]
    }
   ],
   "source": [
    "def display_topics(model, feature_names, no_top_words):\n",
    "    for topic_idx, topic in enumerate(model.components_):\n",
    "        print(\"--------------------------------------------\")\n",
    "        print(\"Topic %d:\" % (topic_idx))\n",
    "        print(\" \".join([feature_names[i]\n",
    "                        for i in topic.argsort()[:-no_top_words - 1:-1]]))\n",
    "        print(\"--------------------------------------------\")\n",
    "        \n",
    "\n",
    "no_top_words = 10\n",
    "display_topics(lda, vectorizer_train.get_feature_names(), no_top_words)"
   ]
  },
  {
   "cell_type": "code",
   "execution_count": null,
   "id": "b7bb073e",
   "metadata": {},
   "outputs": [],
   "source": []
  },
  {
   "cell_type": "markdown",
   "id": "5c7867e9",
   "metadata": {},
   "source": [
    "# Classical classifiers"
   ]
  },
  {
   "cell_type": "markdown",
   "id": "28f6dc0b",
   "metadata": {},
   "source": [
    "## Multi-label classification\n",
    "\n",
    "https://en.wikipedia.org/wiki/Multi-label_classification\n",
    "\n",
    "In machine learning, multi-label classification or multi-output classification is a variant of the classification problem where multiple nonexclusive labels may be assigned to each instance. Multi-label classification is a generalization of multiclass classification, which is the single-label problem of categorizing instances into precisely one of several (more than two) classes. In the multi-label problem the labels are nonexclusive and there is no constraint on how many of the classes the instance can be assigned to.\n",
    "\n",
    "Formally, multi-label classification is the problem of finding a model that maps inputs x to binary vectors y; that is, it assigns a value of 0 or 1 for each element (label) in y.\n",
    "\n",
    "Statistics and evaluation metrics\n",
    "\n",
    "Hamming loss\n",
    "\n",
    "Hamming loss: the fraction of the wrong labels to the total number of labels, i.e. {\\displaystyle {\\frac {1}{|N|\\cdot |L|}}\\sum _{i=1}^{|N|}\\sum _{j=1}^{|L|}\\operatorname {xor} (y_{i,j},z_{i,j})}{\\displaystyle {\\frac {1}{|N|\\cdot |L|}}\\sum _{i=1}^{|N|}\\sum _{j=1}^{|L|}\\operatorname {xor} (y_{i,j},z_{i,j})}, where {\\displaystyle y_{i,j}}y_{i,j} is the target, {\\displaystyle z_{i,j}}z_{{i,j}} is the prediction, and {\\displaystyle \\operatorname {xor} (\\cdot )}{\\displaystyle \\operatorname {xor} (\\cdot )} is the \"Exclusive, or\" operator that returns zero when the target and prediction are identical and one otherwise. This is a loss function, so the optimal value is zero and its upper bound is one.\n",
    "\n",
    "In information theory, the Hamming distance between two strings of equal length is the number of positions at which the corresponding symbols are different. In other words, it measures the minimum number of substitutions required to change one string into the other, or the minimum number of errors that could have transformed one string into the other. In a more general context, the Hamming distance is one of several string metrics for measuring the edit distance between two sequences. It is named after the American mathematician Richard Hamming.\n",
    "\n",
    "Jaccard index\n",
    "\n",
    "The closely related Jaccard index, also called Intersection over Union in the multi-label setting, is defined as the number of correctly predicted labels divided by the union of predicted and true labels, {\\displaystyle {\\frac {|T\\cap P|}{|T\\cup P|}}}{\\frac  {|T\\cap P|}{|T\\cup P|}}, where {\\displaystyle P}P and {\\displaystyle T}T are sets of predicted labels and true labels respectively.\n"
   ]
  },
  {
   "cell_type": "markdown",
   "id": "23cce8f9",
   "metadata": {},
   "source": [
    "Data preparation"
   ]
  },
  {
   "cell_type": "markdown",
   "id": "6e157470",
   "metadata": {},
   "source": [
    "Now our data is almost ready to be put into a classifier. I just need to:\n",
    "````\n",
    "Binarize the tags\n",
    "Use a TFIDF for body and Title The parameters in the TFIDF are very important for the performance of our tags since we don't want him to delete words like c# or.net. To do that we need to use the following pattern : token_pattern=r\"(?u)\\S\\S+\"\n",
    "````"
   ]
  },
  {
   "cell_type": "markdown",
   "id": "5979f94a",
   "metadata": {},
   "source": [
    "# TFIDF "
   ]
  },
  {
   "cell_type": "code",
   "execution_count": 348,
   "id": "f8688d01",
   "metadata": {},
   "outputs": [
    {
     "data": {
      "text/plain": [
       "(2729, 4)"
      ]
     },
     "execution_count": 348,
     "metadata": {},
     "output_type": "execute_result"
    }
   ],
   "source": [
    "df1.shape"
   ]
  },
  {
   "cell_type": "code",
   "execution_count": 349,
   "id": "8f7371f7",
   "metadata": {},
   "outputs": [],
   "source": [
    "X = df1['full_review']\n",
    "y = df1['Tags']"
   ]
  },
  {
   "cell_type": "code",
   "execution_count": 350,
   "id": "afd8d44b",
   "metadata": {},
   "outputs": [
    {
     "data": {
      "text/plain": [
       "(2729,)"
      ]
     },
     "execution_count": 350,
     "metadata": {},
     "output_type": "execute_result"
    }
   ],
   "source": [
    "X.shape"
   ]
  },
  {
   "cell_type": "code",
   "execution_count": 351,
   "id": "1dd7034b",
   "metadata": {},
   "outputs": [
    {
     "data": {
      "text/plain": [
       "(2729,)"
      ]
     },
     "execution_count": 351,
     "metadata": {},
     "output_type": "execute_result"
    }
   ],
   "source": [
    "y.shape"
   ]
  },
  {
   "cell_type": "code",
   "execution_count": 352,
   "id": "2547a3e2",
   "metadata": {},
   "outputs": [],
   "source": [
    "multilabel_binarizer = MultiLabelBinarizer()\n",
    "y_bin = multilabel_binarizer.fit_transform(y)"
   ]
  },
  {
   "cell_type": "code",
   "execution_count": 353,
   "id": "2fb60fd8",
   "metadata": {},
   "outputs": [],
   "source": [
    "vectorizer_X = TfidfVectorizer(analyzer = 'word',\n",
    "                                       min_df=0.0,\n",
    "                                       max_df = 1.0,\n",
    "                                       strip_accents = None,\n",
    "                                       encoding = 'utf-8', \n",
    "                                       preprocessor=None,\n",
    "                                       token_pattern=r\"(?u)\\S\\S+\",\n",
    "                                       max_features=1000)"
   ]
  },
  {
   "cell_type": "code",
   "execution_count": 354,
   "id": "b992c9e4",
   "metadata": {},
   "outputs": [],
   "source": [
    "X_tfidf = vectorizer_X.fit_transform(X)"
   ]
  },
  {
   "cell_type": "code",
   "execution_count": 355,
   "id": "833a44cb",
   "metadata": {},
   "outputs": [
    {
     "data": {
      "text/plain": [
       "<2729x1000 sparse matrix of type '<class 'numpy.float64'>'\n",
       "\twith 108757 stored elements in Compressed Sparse Row format>"
      ]
     },
     "execution_count": 355,
     "metadata": {},
     "output_type": "execute_result"
    }
   ],
   "source": [
    "X_tfidf"
   ]
  },
  {
   "cell_type": "code",
   "execution_count": 356,
   "id": "ce59c225",
   "metadata": {},
   "outputs": [],
   "source": [
    "from sklearn.decomposition import PCA,TruncatedSVD"
   ]
  },
  {
   "cell_type": "code",
   "execution_count": 357,
   "id": "9db59db8",
   "metadata": {},
   "outputs": [],
   "source": [
    "clf = TruncatedSVD(500)\n",
    "Xpca = clf.fit_transform(X_tfidf)"
   ]
  },
  {
   "cell_type": "code",
   "execution_count": 358,
   "id": "fcde0d4c",
   "metadata": {},
   "outputs": [
    {
     "data": {
      "text/plain": [
       "array([[ 0.12068233, -0.04660748, -0.01269857, ...,  0.00451492,\n",
       "         0.02678525, -0.00646641],\n",
       "       [ 0.16766848, -0.08134509,  0.07968747, ..., -0.02698034,\n",
       "        -0.00942396, -0.03104162],\n",
       "       [ 0.2501806 , -0.03997886, -0.29848257, ...,  0.00843283,\n",
       "        -0.02060698, -0.04391075],\n",
       "       ...,\n",
       "       [ 0.27764966, -0.12447408,  0.19479383, ..., -0.01026992,\n",
       "         0.03373646,  0.00636225],\n",
       "       [ 0.25201402, -0.10752335,  0.15325062, ...,  0.02344797,\n",
       "         0.00190575,  0.01192015],\n",
       "       [ 0.20531422, -0.03604712, -0.08232792, ...,  0.01008694,\n",
       "        -0.02106327, -0.00404001]])"
      ]
     },
     "execution_count": 358,
     "metadata": {},
     "output_type": "execute_result"
    }
   ],
   "source": [
    "Xpca"
   ]
  },
  {
   "cell_type": "code",
   "execution_count": 359,
   "id": "271e5c54",
   "metadata": {},
   "outputs": [
    {
     "data": {
      "text/plain": [
       "array([0.005212  , 0.01888285, 0.01158492, 0.01003901, 0.00890207,\n",
       "       0.00825397, 0.0076718 , 0.00669458, 0.00624924, 0.00619698,\n",
       "       0.0058735 , 0.0057938 , 0.00518236, 0.00511445, 0.00503317,\n",
       "       0.0049614 , 0.00477653, 0.00474475, 0.00465998, 0.00460329,\n",
       "       0.00451075, 0.00447129, 0.0044082 , 0.00434526, 0.0042093 ,\n",
       "       0.00419723, 0.00415442, 0.00405034, 0.00400002, 0.00391837,\n",
       "       0.00390359, 0.00385542, 0.00381727, 0.00375744, 0.00373794,\n",
       "       0.00366615, 0.00361021, 0.00359918, 0.00352113, 0.00347263,\n",
       "       0.00337446, 0.0033286 , 0.00332056, 0.00329361, 0.00327983,\n",
       "       0.00325676, 0.0032465 , 0.00319056, 0.0031412 , 0.0031245 ,\n",
       "       0.00310685, 0.00306662, 0.00305006, 0.00303566, 0.00299219,\n",
       "       0.00295615, 0.0029343 , 0.0029251 , 0.00288353, 0.00286288,\n",
       "       0.00281922, 0.00281321, 0.00280383, 0.00276598, 0.00275398,\n",
       "       0.00273716, 0.00272486, 0.00270942, 0.00270083, 0.00268623,\n",
       "       0.0026605 , 0.00264353, 0.00261994, 0.00261773, 0.00258401,\n",
       "       0.00257925, 0.00254823, 0.00252695, 0.00251547, 0.0025046 ,\n",
       "       0.00249601, 0.00246991, 0.00246694, 0.00244572, 0.00243267,\n",
       "       0.00240937, 0.00239093, 0.00238719, 0.00237354, 0.00236075,\n",
       "       0.00234579, 0.00234115, 0.00233536, 0.00230542, 0.00228702,\n",
       "       0.00228266, 0.00226862, 0.00225759, 0.00224781, 0.00222899,\n",
       "       0.0022177 , 0.00221387, 0.00219351, 0.00218097, 0.00217188,\n",
       "       0.00216767, 0.00216037, 0.00213891, 0.00213626, 0.00212622,\n",
       "       0.00210635, 0.00209178, 0.00207948, 0.0020649 , 0.00205496,\n",
       "       0.00204647, 0.00204085, 0.00203039, 0.00201623, 0.00201216,\n",
       "       0.00200521, 0.00199247, 0.00199017, 0.00197306, 0.00196534,\n",
       "       0.00196   , 0.00195438, 0.00194608, 0.00194116, 0.00192292,\n",
       "       0.00192046, 0.00190237, 0.00189539, 0.00188895, 0.00188301,\n",
       "       0.00187755, 0.00187089, 0.00185513, 0.00184973, 0.00184098,\n",
       "       0.00183571, 0.00182172, 0.00181539, 0.00181039, 0.00179974,\n",
       "       0.00179111, 0.00178997, 0.00178017, 0.0017753 , 0.00176921,\n",
       "       0.00176595, 0.00175875, 0.00174606, 0.00173848, 0.00173228,\n",
       "       0.00172885, 0.00171826, 0.00171629, 0.00171273, 0.00170746,\n",
       "       0.00169742, 0.00168849, 0.00167709, 0.00167353, 0.00166786,\n",
       "       0.00165999, 0.00165046, 0.00164509, 0.00163972, 0.00163513,\n",
       "       0.00162601, 0.00162359, 0.00162062, 0.0016149 , 0.00160847,\n",
       "       0.00160328, 0.00159574, 0.00159044, 0.0015852 , 0.00158157,\n",
       "       0.00157577, 0.00156709, 0.00156122, 0.00155663, 0.00155185,\n",
       "       0.00154587, 0.00154296, 0.00153375, 0.00152666, 0.00152358,\n",
       "       0.00151575, 0.00150745, 0.00150309, 0.00149871, 0.00149606,\n",
       "       0.00148904, 0.00148618, 0.00148532, 0.00147635, 0.00146966,\n",
       "       0.00146309, 0.00145953, 0.00145558, 0.00145391, 0.00144232,\n",
       "       0.00144038, 0.00143653, 0.00142676, 0.00142461, 0.00141826,\n",
       "       0.00141582, 0.00140585, 0.00140365, 0.00140176, 0.00140008,\n",
       "       0.00139355, 0.00138644, 0.00138189, 0.0013801 , 0.00137478,\n",
       "       0.00137082, 0.00136565, 0.00136305, 0.00135847, 0.00135551,\n",
       "       0.00135186, 0.00134663, 0.00134365, 0.00133671, 0.00133285,\n",
       "       0.00132613, 0.00132483, 0.00131737, 0.00131456, 0.00131347,\n",
       "       0.00130785, 0.00130019, 0.0012981 , 0.00129457, 0.00129188,\n",
       "       0.00128369, 0.0012802 , 0.00127812, 0.00127431, 0.00126906,\n",
       "       0.00126269, 0.00126041, 0.00125701, 0.00125071, 0.00124623,\n",
       "       0.00124377, 0.00124082, 0.00123549, 0.0012316 , 0.00122403,\n",
       "       0.00122333, 0.00122254, 0.00121705, 0.0012103 , 0.00120734,\n",
       "       0.00120632, 0.0012027 , 0.00119994, 0.00119879, 0.00119703,\n",
       "       0.00119152, 0.00118533, 0.00118135, 0.00117997, 0.00117718,\n",
       "       0.00117478, 0.00117181, 0.00116634, 0.00115904, 0.00115755,\n",
       "       0.00114809, 0.00114766, 0.00114688, 0.00114356, 0.00113985,\n",
       "       0.0011346 , 0.00113147, 0.00112523, 0.00112253, 0.00112041,\n",
       "       0.00111944, 0.00111567, 0.00111375, 0.00111029, 0.00110784,\n",
       "       0.00110134, 0.0010996 , 0.00109575, 0.00109537, 0.00109174,\n",
       "       0.00108568, 0.00108211, 0.00107817, 0.00107667, 0.00107269,\n",
       "       0.00106817, 0.00106349, 0.0010624 , 0.00106127, 0.00105304,\n",
       "       0.00105107, 0.00104933, 0.0010421 , 0.00103918, 0.00103889,\n",
       "       0.00103477, 0.0010336 , 0.001028  , 0.00102715, 0.00102459,\n",
       "       0.00102072, 0.0010183 , 0.0010134 , 0.00101284, 0.0010115 ,\n",
       "       0.00100911, 0.00100402, 0.0010035 , 0.00100134, 0.00099724,\n",
       "       0.00099416, 0.00099313, 0.00098796, 0.00098612, 0.00098291,\n",
       "       0.00098103, 0.00097785, 0.00097558, 0.00097444, 0.00096986,\n",
       "       0.00096763, 0.00096536, 0.00095974, 0.00095793, 0.00095567,\n",
       "       0.00095174, 0.00094757, 0.00094613, 0.00094464, 0.00094191,\n",
       "       0.00093796, 0.00093365, 0.00093286, 0.00093232, 0.00092751,\n",
       "       0.00092576, 0.00092338, 0.00091901, 0.00091673, 0.00091519,\n",
       "       0.00091456, 0.00091058, 0.00090699, 0.00090445, 0.00090144,\n",
       "       0.00089915, 0.00089616, 0.00089274, 0.00088876, 0.00088697,\n",
       "       0.00088625, 0.00088277, 0.0008787 , 0.00087787, 0.00087491,\n",
       "       0.00086887, 0.00086738, 0.00086593, 0.00086437, 0.00086118,\n",
       "       0.00086002, 0.00085966, 0.00085861, 0.00085613, 0.0008525 ,\n",
       "       0.00084879, 0.00084674, 0.00084498, 0.0008416 , 0.00084005,\n",
       "       0.00083593, 0.00083513, 0.00083286, 0.00083123, 0.00082692,\n",
       "       0.00082429, 0.0008204 , 0.00081724, 0.00081647, 0.00081256,\n",
       "       0.00081178, 0.00080934, 0.00080726, 0.0008041 , 0.00080266,\n",
       "       0.00079934, 0.0007981 , 0.00079327, 0.00078942, 0.00078824,\n",
       "       0.00078757, 0.00078471, 0.00078309, 0.00077971, 0.00077839,\n",
       "       0.00077467, 0.00077071, 0.00077061, 0.00076672, 0.00076521,\n",
       "       0.00076375, 0.00076001, 0.00075887, 0.00075559, 0.00075335,\n",
       "       0.00075266, 0.00074631, 0.00074409, 0.00074388, 0.0007406 ,\n",
       "       0.00073911, 0.00073652, 0.00073413, 0.00073236, 0.00073033,\n",
       "       0.00072894, 0.00072809, 0.00072424, 0.0007204 , 0.00071853,\n",
       "       0.00071639, 0.00071528, 0.00071338, 0.00070967, 0.00070917,\n",
       "       0.00070709, 0.00070561, 0.00070124, 0.00070029, 0.00069858,\n",
       "       0.00069528, 0.00069375, 0.00069006, 0.00068626, 0.00068389,\n",
       "       0.0006827 , 0.00068169, 0.00067902, 0.00067401, 0.00067375,\n",
       "       0.00067046, 0.00066868, 0.00066775, 0.00066397, 0.0006606 ,\n",
       "       0.00066008, 0.00065833, 0.00065313, 0.0006506 , 0.00064894,\n",
       "       0.00064659, 0.00064472, 0.00064285, 0.00064115, 0.00063697,\n",
       "       0.00063515, 0.00063462, 0.00062976, 0.00062748, 0.00062516,\n",
       "       0.00062164, 0.00062061, 0.00061696, 0.00061536, 0.00061067,\n",
       "       0.00060878, 0.00060571, 0.00060347, 0.00060246, 0.00059897,\n",
       "       0.00059772, 0.00059441, 0.00059297, 0.00059044, 0.00058862,\n",
       "       0.00058654, 0.00058206, 0.00058078, 0.00057722, 0.00057457,\n",
       "       0.00057006, 0.00056788, 0.00056527, 0.00056366, 0.00056156])"
      ]
     },
     "execution_count": 359,
     "metadata": {},
     "output_type": "execute_result"
    }
   ],
   "source": [
    "clf.explained_variance_ratio_"
   ]
  },
  {
   "cell_type": "code",
   "execution_count": 360,
   "id": "940754c9",
   "metadata": {},
   "outputs": [],
   "source": [
    "#import des librairies\n",
    "import numpy as np\n",
    "import pandas as pd\n",
    "import matplotlib.pyplot as plt\n",
    "import seaborn as sns"
   ]
  },
  {
   "cell_type": "code",
   "execution_count": 361,
   "id": "259f2ffc",
   "metadata": {},
   "outputs": [
    {
     "data": {
      "text/plain": [
       "Text(0, 0.5, 'Explained Variance')"
      ]
     },
     "execution_count": 361,
     "metadata": {},
     "output_type": "execute_result"
    },
    {
     "data": {
      "image/png": "[encoded data removed]",
      "text/plain": [
       "<Figure size 720x576 with 1 Axes>"
      ]
     },
     "metadata": {
      "needs_background": "light"
     },
     "output_type": "display_data"
    }
   ],
   "source": [
    "plt.figure(figsize = (10, 8))\n",
    "plt.plot(range(1, 501), clf.explained_variance_ratio_.cumsum(),marker = \"o\", linestyle = \"--\")\n",
    "plt.title(\"Explained Variance by Componants\")\n",
    "plt.xlabel(\"Nomber of componants\")\n",
    "plt.ylabel(\"Explained Variance\")\n"
   ]
  },
  {
   "cell_type": "code",
   "execution_count": 362,
   "id": "a0f6a1f5",
   "metadata": {},
   "outputs": [],
   "source": [
    "# We are going to take 400 variables "
   ]
  },
  {
   "cell_type": "code",
   "execution_count": 363,
   "id": "7b15b6ec",
   "metadata": {},
   "outputs": [],
   "source": [
    "clf = TruncatedSVD(300)\n",
    "Xpca_tfidf = clf.fit_transform(X_tfidf)"
   ]
  },
  {
   "cell_type": "code",
   "execution_count": 364,
   "id": "882d569c",
   "metadata": {},
   "outputs": [
    {
     "data": {
      "text/plain": [
       "(2729, 300)"
      ]
     },
     "execution_count": 364,
     "metadata": {},
     "output_type": "execute_result"
    }
   ],
   "source": [
    "Xpca_tfidf.shape"
   ]
  },
  {
   "cell_type": "code",
   "execution_count": 365,
   "id": "7aafeaad",
   "metadata": {},
   "outputs": [
    {
     "data": {
      "text/plain": [
       "(2729, 100)"
      ]
     },
     "execution_count": 365,
     "metadata": {},
     "output_type": "execute_result"
    }
   ],
   "source": [
    "y_bin.shape"
   ]
  },
  {
   "cell_type": "code",
   "execution_count": 366,
   "id": "9dc0853b",
   "metadata": {},
   "outputs": [],
   "source": [
    "# 80/20 split\n",
    "X_train, X_test, y_train, y_test = train_test_split(Xpca_tfidf, y_bin, test_size = 0.2, random_state = 0) "
   ]
  },
  {
   "cell_type": "markdown",
   "id": "e6cccfe1",
   "metadata": {},
   "source": [
    "Now it's finally ready."
   ]
  },
  {
   "cell_type": "markdown",
   "id": "38639214",
   "metadata": {},
   "source": [
    "# One vs Rest"
   ]
  },
  {
   "cell_type": "markdown",
   "id": "99e99812",
   "metadata": {},
   "source": [
    "To evaluate our models, I'll use the jacard score since it's the best fitted for multi label classification.\n",
    "Hamming Loss is mostly relevant to Multi-label classification"
   ]
  },
  {
   "cell_type": "code",
   "execution_count": 367,
   "id": "d1c4c0b5",
   "metadata": {},
   "outputs": [],
   "source": [
    "def avg_jacard(y_true,y_pred):\n",
    "    jacard = np.minimum(y_true,y_pred).sum(axis=1) / np.maximum(y_true,y_pred).sum(axis=1)    \n",
    "    return jacard.mean()*100\n",
    "    \n",
    "def print_score(y_pred, clf):\n",
    "    print(\"Clf: \", clf.__class__.__name__)\n",
    "    print(\"Jacard score: {}\".format(avg_jacard(y_test, y_pred)))\n",
    "    print(\"Hamming loss: {}\".format(hamming_loss(y_pred, y_test)*100))\n",
    "    print(\"---\")"
   ]
  },
  {
   "cell_type": "code",
   "execution_count": 368,
   "id": "556648ba",
   "metadata": {},
   "outputs": [
    {
     "name": "stdout",
     "output_type": "stream",
     "text": [
      "Clf:  DummyClassifier\n",
      "Jacard score: 4.0139754425468706\n",
      "Hamming loss: 5.007326007326007\n",
      "---\n",
      "Clf:  SGDClassifier\n",
      "Jacard score: 36.783969998255714\n",
      "Hamming loss: 2.0256410256410255\n",
      "---\n",
      "Clf:  LogisticRegression\n",
      "Jacard score: 12.30943659515088\n",
      "Hamming loss: 2.4322344322344325\n",
      "---\n",
      "Clf:  LinearSVC\n",
      "Jacard score: 34.60099424385139\n",
      "Hamming loss: 2.0164835164835164\n",
      "---\n",
      "Clf:  Perceptron\n",
      "Jacard score: 32.54440665154951\n",
      "Hamming loss: 2.990842490842491\n",
      "---\n",
      "Clf:  PassiveAggressiveClassifier\n",
      "Jacard score: 35.25633757776615\n",
      "Hamming loss: 2.5421245421245424\n",
      "---\n"
     ]
    }
   ],
   "source": [
    "from sklearn.linear_model import Perceptron\n",
    "from sklearn.linear_model import PassiveAggressiveClassifier\n",
    "from sklearn.svm import LinearSVC\n",
    "dummy = DummyClassifier()\n",
    "sgd = SGDClassifier()\n",
    "lr = LogisticRegression()\n",
    "#mn = MultinomialNB()\n",
    "svc = LinearSVC()\n",
    "perceptron = Perceptron()\n",
    "pac = PassiveAggressiveClassifier()\n",
    "\n",
    "for classifier in [dummy, sgd, lr, svc, perceptron, pac]:\n",
    "    clf = OneVsRestClassifier(classifier)\n",
    "    clf.fit(X_train, y_train)\n",
    "    y_pred = clf.predict(X_test)\n",
    "    print_score(y_pred, classifier)"
   ]
  },
  {
   "cell_type": "markdown",
   "id": "1bd33d88",
   "metadata": {},
   "source": [
    "SGDClassifier"
   ]
  },
  {
   "cell_type": "code",
   "execution_count": 369,
   "id": "1c2eefcb",
   "metadata": {},
   "outputs": [
    {
     "name": "stdout",
     "output_type": "stream",
     "text": [
      "Clf:  SGDClassifier\n",
      "Jacard score: 37.421289028431886\n",
      "Hamming loss: 1.9908424908424909\n",
      "---\n"
     ]
    }
   ],
   "source": [
    "sgd = SGDClassifier()\n",
    "clf = OneVsRestClassifier(sgd)\n",
    "clf.fit(X_train, y_train)\n",
    "y_pred = clf.predict(X_test)\n",
    "print_score(y_pred, sgd)"
   ]
  },
  {
   "cell_type": "markdown",
   "id": "92761e27",
   "metadata": {},
   "source": [
    "OneVsRestClassifier"
   ]
  },
  {
   "cell_type": "code",
   "execution_count": 370,
   "id": "34995f80",
   "metadata": {},
   "outputs": [
    {
     "name": "stdout",
     "output_type": "stream",
     "text": [
      "Clf:  LogisticRegression\n",
      "Jacard score: 12.30943659515088\n",
      "Hamming loss: 2.4322344322344325\n",
      "---\n"
     ]
    }
   ],
   "source": [
    "lr = LogisticRegression()\n",
    "\n",
    "clf = OneVsRestClassifier(lr)\n",
    "clf.fit(X_train, y_train)\n",
    "y_pred = clf.predict(X_test)\n",
    "print_score(y_pred, lr)"
   ]
  },
  {
   "cell_type": "markdown",
   "id": "32fd94f2",
   "metadata": {},
   "source": [
    "RandomForestClassifier"
   ]
  },
  {
   "cell_type": "code",
   "execution_count": 371,
   "id": "24c602e1",
   "metadata": {},
   "outputs": [
    {
     "name": "stdout",
     "output_type": "stream",
     "text": [
      "Clf:  RandomForestClassifier\n",
      "Jacard score: 2.7411477411477407\n",
      "Hamming loss: 2.6135531135531136\n",
      "---\n"
     ]
    }
   ],
   "source": [
    "from sklearn.ensemble import RandomForestClassifier\n",
    "rfc = RandomForestClassifier()\n",
    "rfc.fit(X_train, y_train)\n",
    "\n",
    "y_pred = rfc.predict(X_test)\n",
    "\n",
    "print_score(y_pred, rfc)"
   ]
  },
  {
   "cell_type": "code",
   "execution_count": 372,
   "id": "eee33452",
   "metadata": {},
   "outputs": [],
   "source": [
    "#https://www.kaggle.com/code/miljan/predicting-tags-for-stackoverflow"
   ]
  },
  {
   "cell_type": "markdown",
   "id": "e0ac20a6",
   "metadata": {},
   "source": [
    "MLP Classifier"
   ]
  },
  {
   "cell_type": "code",
   "execution_count": 373,
   "id": "0abbdb64",
   "metadata": {},
   "outputs": [
    {
     "name": "stdout",
     "output_type": "stream",
     "text": [
      "Clf:  MLPClassifier\n",
      "Jacard score: 34.48521716378859\n",
      "Hamming loss: 2.0695970695970693\n",
      "---\n"
     ]
    }
   ],
   "source": [
    "from sklearn.neural_network import MLPClassifier\n",
    "mlpc = MLPClassifier()\n",
    "mlpc.fit(X_train, y_train)\n",
    "\n",
    "y_pred = mlpc.predict(X_test)\n",
    "\n",
    "print_score(y_pred, mlpc)"
   ]
  },
  {
   "cell_type": "markdown",
   "id": "3e4ccb3e",
   "metadata": {},
   "source": [
    "Random Forest"
   ]
  },
  {
   "cell_type": "code",
   "execution_count": 374,
   "id": "87494a1f",
   "metadata": {},
   "outputs": [
    {
     "name": "stdout",
     "output_type": "stream",
     "text": [
      "Clf:  RandomForestClassifier\n",
      "Jacard score: 2.9365079365079363\n",
      "Hamming loss: 2.6135531135531136\n",
      "---\n"
     ]
    }
   ],
   "source": [
    "from sklearn.ensemble import RandomForestClassifier\n",
    "rfc = RandomForestClassifier()\n",
    "rfc.fit(X_train, y_train)\n",
    "\n",
    "y_pred = rfc.predict(X_test)\n",
    "\n",
    "print_score(y_pred, rfc)"
   ]
  },
  {
   "cell_type": "markdown",
   "id": "1f98568e",
   "metadata": {},
   "source": [
    "GridSearch CV on the best classifier"
   ]
  },
  {
   "cell_type": "code",
   "execution_count": 375,
   "id": "13994a2b",
   "metadata": {},
   "outputs": [],
   "source": [
    "param_grid = {'estimator__C':[1,10,100,1000]\n",
    "              }"
   ]
  },
  {
   "cell_type": "code",
   "execution_count": 376,
   "id": "d40a94ab",
   "metadata": {},
   "outputs": [
    {
     "name": "stdout",
     "output_type": "stream",
     "text": [
      "Fitting 5 folds for each of 4 candidates, totalling 20 fits\n",
      "[CV] estimator__C=1 ..................................................\n"
     ]
    },
    {
     "name": "stderr",
     "output_type": "stream",
     "text": [
      "[Parallel(n_jobs=1)]: Using backend SequentialBackend with 1 concurrent workers.\n"
     ]
    },
    {
     "name": "stdout",
     "output_type": "stream",
     "text": [
      "[CV] ..................... estimator__C=1, score=31.303, total=   2.0s\n",
      "[CV] estimator__C=1 ..................................................\n"
     ]
    },
    {
     "name": "stderr",
     "output_type": "stream",
     "text": [
      "[Parallel(n_jobs=1)]: Done   1 out of   1 | elapsed:    2.0s remaining:    0.0s\n"
     ]
    },
    {
     "name": "stdout",
     "output_type": "stream",
     "text": [
      "[CV] ..................... estimator__C=1, score=28.735, total=   2.0s\n",
      "[CV] estimator__C=1 ..................................................\n"
     ]
    },
    {
     "name": "stderr",
     "output_type": "stream",
     "text": [
      "[Parallel(n_jobs=1)]: Done   2 out of   2 | elapsed:    4.0s remaining:    0.0s\n"
     ]
    },
    {
     "name": "stdout",
     "output_type": "stream",
     "text": [
      "[CV] ..................... estimator__C=1, score=30.300, total=   2.0s\n",
      "[CV] estimator__C=1 ..................................................\n"
     ]
    },
    {
     "name": "stderr",
     "output_type": "stream",
     "text": [
      "[Parallel(n_jobs=1)]: Done   3 out of   3 | elapsed:    6.0s remaining:    0.0s\n"
     ]
    },
    {
     "name": "stdout",
     "output_type": "stream",
     "text": [
      "[CV] ..................... estimator__C=1, score=29.476, total=   1.9s\n",
      "[CV] estimator__C=1 ..................................................\n"
     ]
    },
    {
     "name": "stderr",
     "output_type": "stream",
     "text": [
      "[Parallel(n_jobs=1)]: Done   4 out of   4 | elapsed:    8.0s remaining:    0.0s\n"
     ]
    },
    {
     "name": "stdout",
     "output_type": "stream",
     "text": [
      "[CV] ..................... estimator__C=1, score=29.455, total=   1.9s\n",
      "[CV] estimator__C=10 .................................................\n"
     ]
    },
    {
     "name": "stderr",
     "output_type": "stream",
     "text": [
      "[Parallel(n_jobs=1)]: Done   5 out of   5 | elapsed:    9.9s remaining:    0.0s\n"
     ]
    },
    {
     "name": "stdout",
     "output_type": "stream",
     "text": [
      "[CV] .................... estimator__C=10, score=31.401, total=   4.4s\n",
      "[CV] estimator__C=10 .................................................\n"
     ]
    },
    {
     "name": "stderr",
     "output_type": "stream",
     "text": [
      "[Parallel(n_jobs=1)]: Done   6 out of   6 | elapsed:   14.3s remaining:    0.0s\n"
     ]
    },
    {
     "name": "stdout",
     "output_type": "stream",
     "text": [
      "[CV] .................... estimator__C=10, score=30.334, total=   4.6s\n",
      "[CV] estimator__C=10 .................................................\n"
     ]
    },
    {
     "name": "stderr",
     "output_type": "stream",
     "text": [
      "[Parallel(n_jobs=1)]: Done   7 out of   7 | elapsed:   18.9s remaining:    0.0s\n"
     ]
    },
    {
     "name": "stdout",
     "output_type": "stream",
     "text": [
      "[CV] .................... estimator__C=10, score=31.376, total=   4.3s\n",
      "[CV] estimator__C=10 .................................................\n"
     ]
    },
    {
     "name": "stderr",
     "output_type": "stream",
     "text": [
      "[Parallel(n_jobs=1)]: Done   8 out of   8 | elapsed:   23.2s remaining:    0.0s\n"
     ]
    },
    {
     "name": "stdout",
     "output_type": "stream",
     "text": [
      "[CV] .................... estimator__C=10, score=32.385, total=   4.4s\n",
      "[CV] estimator__C=10 .................................................\n"
     ]
    },
    {
     "name": "stderr",
     "output_type": "stream",
     "text": [
      "[Parallel(n_jobs=1)]: Done   9 out of   9 | elapsed:   27.6s remaining:    0.0s\n"
     ]
    },
    {
     "name": "stdout",
     "output_type": "stream",
     "text": [
      "[CV] .................... estimator__C=10, score=30.996, total=   4.5s\n",
      "[CV] estimator__C=100 ................................................\n",
      "[CV] ................... estimator__C=100, score=28.463, total=   7.3s\n",
      "[CV] estimator__C=100 ................................................\n",
      "[CV] ................... estimator__C=100, score=28.175, total=   7.4s\n",
      "[CV] estimator__C=100 ................................................\n",
      "[CV] ................... estimator__C=100, score=27.223, total=   7.7s\n",
      "[CV] estimator__C=100 ................................................\n",
      "[CV] ................... estimator__C=100, score=28.935, total=   8.3s\n",
      "[CV] estimator__C=100 ................................................\n",
      "[CV] ................... estimator__C=100, score=29.921, total=   7.8s\n",
      "[CV] estimator__C=1000 ...............................................\n",
      "[CV] .................. estimator__C=1000, score=27.229, total=   8.2s\n",
      "[CV] estimator__C=1000 ...............................................\n",
      "[CV] .................. estimator__C=1000, score=27.641, total=   7.4s\n",
      "[CV] estimator__C=1000 ...............................................\n",
      "[CV] .................. estimator__C=1000, score=25.262, total=   7.9s\n",
      "[CV] estimator__C=1000 ...............................................\n",
      "[CV] .................. estimator__C=1000, score=28.255, total=   7.8s\n",
      "[CV] estimator__C=1000 ...............................................\n",
      "[CV] .................. estimator__C=1000, score=28.358, total=   8.0s\n"
     ]
    },
    {
     "name": "stderr",
     "output_type": "stream",
     "text": [
      "[Parallel(n_jobs=1)]: Done  20 out of  20 | elapsed:  1.8min finished\n"
     ]
    },
    {
     "data": {
      "text/plain": [
       "GridSearchCV(cv=5, error_score=nan,\n",
       "             estimator=OneVsRestClassifier(estimator=LinearSVC(C=1.0,\n",
       "                                                               class_weight=None,\n",
       "                                                               dual=True,\n",
       "                                                               fit_intercept=True,\n",
       "                                                               intercept_scaling=1,\n",
       "                                                               loss='squared_hinge',\n",
       "                                                               max_iter=1000,\n",
       "                                                               multi_class='ovr',\n",
       "                                                               penalty='l2',\n",
       "                                                               random_state=None,\n",
       "                                                               tol=0.0001,\n",
       "                                                               verbose=0),\n",
       "                                           n_jobs=None),\n",
       "             iid='deprecated', n_jobs=None,\n",
       "             param_grid={'estimator__C': [1, 10, 100, 1000]},\n",
       "             pre_dispatch='2*n_jobs', refit=True, return_train_score=False,\n",
       "             scoring=make_scorer(avg_jacard), verbose=10)"
      ]
     },
     "execution_count": 376,
     "metadata": {},
     "output_type": "execute_result"
    }
   ],
   "source": [
    "svc = OneVsRestClassifier(LinearSVC())\n",
    "CV_svc = model_selection.GridSearchCV(estimator=svc, param_grid=param_grid, cv= 5, verbose=10, scoring=make_scorer(avg_jacard,greater_is_better=True))\n",
    "CV_svc.fit(X_train, y_train)"
   ]
  },
  {
   "cell_type": "code",
   "execution_count": 377,
   "id": "71e533a4",
   "metadata": {},
   "outputs": [
    {
     "data": {
      "text/plain": [
       "{'estimator__C': 10}"
      ]
     },
     "execution_count": 377,
     "metadata": {},
     "output_type": "execute_result"
    }
   ],
   "source": [
    "CV_svc.best_params_"
   ]
  },
  {
   "cell_type": "code",
   "execution_count": 378,
   "id": "1dedfdf6",
   "metadata": {},
   "outputs": [],
   "source": [
    "best_model = CV_svc.best_estimator_"
   ]
  },
  {
   "cell_type": "code",
   "execution_count": 379,
   "id": "b9921a33",
   "metadata": {},
   "outputs": [
    {
     "name": "stdout",
     "output_type": "stream",
     "text": [
      "Clf:  OneVsRestClassifier\n",
      "Jacard score: 34.92274260131403\n",
      "Hamming loss: 2.4505494505494507\n",
      "---\n"
     ]
    }
   ],
   "source": [
    "y_pred = best_model.predict(X_test)\n",
    "\n",
    "print_score(y_pred, best_model)"
   ]
  },
  {
   "cell_type": "markdown",
   "id": "203d7807",
   "metadata": {},
   "source": [
    "Confusion matrix"
   ]
  },
  {
   "cell_type": "code",
   "execution_count": 380,
   "id": "70c10b58",
   "metadata": {},
   "outputs": [
    {
     "name": "stdout",
     "output_type": "stream",
     "text": [
      "ajax\n",
      "[[537   2]\n",
      " [  3   4]]\n",
      "\n",
      "algorithm\n",
      "[[532   7]\n",
      " [  6   1]]\n",
      "\n",
      "amazon\n",
      "[[538   2]\n",
      " [  6   0]]\n",
      "\n",
      "android\n",
      "[[496   5]\n",
      " [ 18  27]]\n",
      "\n",
      "angular\n",
      "[[544   1]\n",
      " [  0   1]]\n",
      "\n",
      "apache\n",
      "[[529   4]\n",
      " [ 12   1]]\n",
      "\n",
      "api\n",
      "[[529   4]\n",
      " [  9   4]]\n",
      "\n",
      "array\n",
      "[[532   3]\n",
      " [  6   5]]\n",
      "\n",
      "asp\n",
      "[[510   8]\n",
      " [ 16  12]]\n",
      "\n",
      "audio\n",
      "[[539   0]\n",
      " [  3   4]]\n",
      "\n",
      "authentication\n",
      "[[540   1]\n",
      " [  4   1]]\n",
      "\n",
      "bash\n",
      "[[541   1]\n",
      " [  3   1]]\n",
      "\n",
      "c\n",
      "[[369  36]\n",
      " [ 72  69]]\n",
      "\n",
      "chrome\n",
      "[[541   1]\n",
      " [  2   2]]\n",
      "\n",
      "class\n",
      "[[538   4]\n",
      " [  4   0]]\n",
      "\n",
      "cocoa\n",
      "[[526  10]\n",
      " [ 10   0]]\n",
      "\n",
      "code\n",
      "[[540   3]\n",
      " [  2   1]]\n",
      "\n",
      "core\n",
      "[[535   2]\n",
      " [  6   3]]\n",
      "\n",
      "cs\n",
      "[[522   7]\n",
      " [  6  11]]\n",
      "\n",
      "data\n",
      "[[520  15]\n",
      " [ 10   1]]\n",
      "\n",
      "database\n",
      "[[521   8]\n",
      " [ 14   3]]\n",
      "\n",
      "date\n",
      "[[535   1]\n",
      " [  4   6]]\n",
      "\n",
      "design\n",
      "[[524   7]\n",
      " [ 14   1]]\n",
      "\n",
      "django\n",
      "[[537   0]\n",
      " [  3   6]]\n",
      "\n",
      "eclipse\n",
      "[[540   0]\n",
      " [  5   1]]\n",
      "\n",
      "entity\n",
      "[[540   1]\n",
      " [  4   1]]\n",
      "\n",
      "event\n",
      "[[540   0]\n",
      " [  5   1]]\n",
      "\n",
      "file\n",
      "[[529   4]\n",
      " [  9   4]]\n",
      "\n",
      "framework\n",
      "[[534   4]\n",
      " [  4   4]]\n",
      "\n",
      "function\n",
      "[[535   7]\n",
      " [  3   1]]\n",
      "\n",
      "git\n",
      "[[532   2]\n",
      " [  3   9]]\n",
      "\n",
      "google\n",
      "[[531   6]\n",
      " [  6   3]]\n",
      "\n",
      "gradle\n",
      "[[543   0]\n",
      " [  1   2]]\n",
      "\n",
      "hibernate\n",
      "[[537   5]\n",
      " [  3   1]]\n",
      "\n",
      "html\n",
      "[[496  14]\n",
      " [ 24  12]]\n",
      "\n",
      "http\n",
      "[[529   4]\n",
      " [  9   4]]\n",
      "\n",
      "image\n",
      "[[533   3]\n",
      " [  8   2]]\n",
      "\n",
      "interface\n",
      "[[545   0]\n",
      " [  0   1]]\n",
      "\n",
      "io\n",
      "[[475  13]\n",
      " [ 22  36]]\n",
      "\n",
      "iphone\n",
      "[[489  21]\n",
      " [ 24  12]]\n",
      "\n",
      "j\n",
      "[[522   6]\n",
      " [ 13   5]]\n",
      "\n",
      "java\n",
      "[[462  16]\n",
      " [ 27  41]]\n",
      "\n",
      "javascript\n",
      "[[469  22]\n",
      " [ 22  33]]\n",
      "\n",
      "jpa\n",
      "[[537   3]\n",
      " [  6   0]]\n",
      "\n",
      "jquery\n",
      "[[515   9]\n",
      " [ 10  12]]\n",
      "\n",
      "json\n",
      "[[535   2]\n",
      " [  5   4]]\n",
      "\n",
      "language\n",
      "[[538   0]\n",
      " [  8   0]]\n",
      "\n",
      "laravel\n",
      "[[542   1]\n",
      " [  3   0]]\n",
      "\n",
      "layout\n",
      "[[538   1]\n",
      " [  6   1]]\n",
      "\n",
      "learning\n",
      "[[535   2]\n",
      " [  8   1]]\n",
      "\n",
      "library\n",
      "[[539   2]\n",
      " [  5   0]]\n",
      "\n",
      "line\n",
      "[[539   0]\n",
      " [  6   1]]\n",
      "\n",
      "linux\n",
      "[[525   4]\n",
      " [ 13   4]]\n",
      "\n",
      "list\n",
      "[[536   5]\n",
      " [  3   2]]\n",
      "\n",
      "machine\n",
      "[[533   3]\n",
      " [ 10   0]]\n",
      "\n",
      "macos\n",
      "[[536   0]\n",
      " [  9   1]]\n",
      "\n",
      "maven\n",
      "[[540   1]\n",
      " [  1   4]]\n",
      "\n",
      "memory\n",
      "[[529   5]\n",
      " [  7   5]]\n",
      "\n",
      "model\n",
      "[[540   1]\n",
      " [  4   1]]\n",
      "\n",
      "multithreading\n",
      "[[534   6]\n",
      " [  4   2]]\n",
      "\n",
      "mvc\n",
      "[[522   6]\n",
      " [  6  12]]\n",
      "\n",
      "mysql\n",
      "[[534   3]\n",
      " [  4   5]]\n",
      "\n",
      "net\n",
      "[[464  22]\n",
      " [ 29  31]]\n",
      "\n",
      "node\n",
      "[[530   2]\n",
      " [ 10   4]]\n",
      "\n",
      "numpy\n",
      "[[537   2]\n",
      " [  4   3]]\n",
      "\n",
      "objective\n",
      "[[507  14]\n",
      " [ 15  10]]\n",
      "\n",
      "optimization\n",
      "[[539   3]\n",
      " [  3   1]]\n",
      "\n",
      "panda\n",
      "[[535   0]\n",
      " [  3   8]]\n",
      "\n",
      "pattern\n",
      "[[540   0]\n",
      " [  5   1]]\n",
      "\n",
      "performance\n",
      "[[526   8]\n",
      " [ 11   1]]\n",
      "\n",
      "php\n",
      "[[521   8]\n",
      " [  6  11]]\n",
      "\n",
      "processing\n",
      "[[539   2]\n",
      " [  5   0]]\n",
      "\n",
      "programming\n",
      "[[536   2]\n",
      " [  8   0]]\n",
      "\n",
      "python\n",
      "[[465   8]\n",
      " [ 27  46]]\n",
      "\n",
      "r\n",
      "[[534   5]\n",
      " [  5   2]]\n",
      "\n",
      "rail\n",
      "[[535   1]\n",
      " [  6   4]]\n",
      "\n",
      "reactjs\n",
      "[[541   3]\n",
      " [  2   0]]\n",
      "\n",
      "rest\n",
      "[[533   1]\n",
      " [  9   3]]\n",
      "\n",
      "ruby\n",
      "[[531   2]\n",
      " [  7   6]]\n",
      "\n",
      "security\n",
      "[[535   3]\n",
      " [  7   1]]\n",
      "\n",
      "server\n",
      "[[525  10]\n",
      " [  7   4]]\n",
      "\n",
      "service\n",
      "[[537   3]\n",
      " [  6   0]]\n",
      "\n",
      "shell\n",
      "[[542   0]\n",
      " [  4   0]]\n",
      "\n",
      "spark\n",
      "[[540   0]\n",
      " [  5   1]]\n",
      "\n",
      "spring\n",
      "[[531   0]\n",
      " [  4  11]]\n",
      "\n",
      "sql\n",
      "[[516  10]\n",
      " [  4  16]]\n",
      "\n",
      "string\n",
      "[[525   4]\n",
      " [ 15   2]]\n",
      "\n",
      "studio\n",
      "[[523   9]\n",
      " [  6   8]]\n",
      "\n",
      "swift\n",
      "[[530   3]\n",
      " [  9   4]]\n",
      "\n",
      "testing\n",
      "[[534   1]\n",
      " [  7   4]]\n",
      "\n",
      "touch\n",
      "[[524  14]\n",
      " [  6   2]]\n",
      "\n",
      "type\n",
      "[[538   3]\n",
      " [  5   0]]\n",
      "\n",
      "unit\n",
      "[[538   0]\n",
      " [  6   2]]\n",
      "\n",
      "variable\n",
      "[[542   0]\n",
      " [  3   1]]\n",
      "\n",
      "visual\n",
      "[[530   4]\n",
      " [  6   6]]\n",
      "\n",
      "web\n",
      "[[515  10]\n",
      " [ 17   4]]\n",
      "\n",
      "window\n",
      "[[518   7]\n",
      " [ 11  10]]\n",
      "\n",
      "x\n",
      "[[530   4]\n",
      " [ 12   0]]\n",
      "\n",
      "xcode\n",
      "[[526   4]\n",
      " [  8   8]]\n",
      "\n",
      "xml\n",
      "[[540   1]\n",
      " [  5   0]]\n",
      "\n"
     ]
    }
   ],
   "source": [
    "for i in range(y_train.shape[1]):\n",
    "    print(multilabel_binarizer.classes_[i])\n",
    "    print(confusion_matrix(y_test[:,i], y_pred[:,i]))\n",
    "    print(\"\")"
   ]
  },
  {
   "cell_type": "markdown",
   "id": "a03e15d7",
   "metadata": {},
   "source": [
    "Exctracting feature importance"
   ]
  },
  {
   "cell_type": "code",
   "execution_count": 381,
   "id": "adf8eaf8",
   "metadata": {},
   "outputs": [],
   "source": [
    "def print_top10(feature_names, clf, class_labels):\n",
    "    \"\"\"Prints features with the highest coefficient values, per class\"\"\"\n",
    "    for i, class_label in enumerate(class_labels):\n",
    "        top10 = np.argsort(clf.coef_[i])[-10:]\n",
    "        print(\"--------------------------------------------\")\n",
    "        print(\"%s: %s\" % (class_label,\n",
    "              \" \".join(feature_names[j] for j in top10)))\n",
    "        print(\"--------------------------------------------\")"
   ]
  },
  {
   "cell_type": "code",
   "execution_count": 383,
   "id": "f895afd8",
   "metadata": {},
   "outputs": [],
   "source": [
    "feature_names = vectorizer_X.get_feature_names()"
   ]
  },
  {
   "cell_type": "code",
   "execution_count": 384,
   "id": "77f31c0b",
   "metadata": {
    "scrolled": false
   },
   "outputs": [
    {
     "name": "stdout",
     "output_type": "stream",
     "text": [
      "--------------------------------------------\n",
      "ajax: codep across browser controller branch animate depend 12 decide address\n",
      "--------------------------------------------\n",
      "--------------------------------------------\n",
      "algorithm: depend api category dialog 11 contain common actual audio bash\n",
      "--------------------------------------------\n",
      "--------------------------------------------\n",
      "amazon: aspnet device development branch compile 1000 duplicate account box email\n",
      "--------------------------------------------\n",
      "--------------------------------------------\n",
      "android: declare best container background child 12 course 100 -gt 00\n",
      "--------------------------------------------\n",
      "--------------------------------------------\n",
      "angular: 24 eg divgt consolelog draw deal create console consolewriteline container\n",
      "--------------------------------------------\n",
      "--------------------------------------------\n",
      "apache: accept cod edit agt await compiler dispose allow codep console\n",
      "--------------------------------------------\n",
      "--------------------------------------------\n",
      "api: dispose 1024 django certain duplicate angular actually approach attempt actual\n",
      "--------------------------------------------\n",
      "--------------------------------------------\n",
      "array: 12 appreciate basically dependency always action basic child 100 25\n",
      "--------------------------------------------\n",
      "--------------------------------------------\n",
      "asp: br bar break codeamp components body design android approach ap\n",
      "--------------------------------------------\n",
      "--------------------------------------------\n",
      "audio: domain codelt accept animate capture code boost alloc due divgt\n",
      "--------------------------------------------\n",
      "--------------------------------------------\n",
      "authentication: chrome apply 25 30 buffer crash account case amp decide\n",
      "--------------------------------------------\n",
      "--------------------------------------------\n",
      "bash: appreciate active confuse efficient amount codepre accept css component draw\n",
      "--------------------------------------------\n",
      "--------------------------------------------\n",
      "c: activity boost android 12 describe actually along approach book applications\n",
      "--------------------------------------------\n",
      "--------------------------------------------\n",
      "chrome: completely branch available auto controller device chain bottom box behavior\n",
      "--------------------------------------------\n",
      "--------------------------------------------\n",
      "class: actual anyone codeamp consolelog child bottom csv author browsers continue\n",
      "--------------------------------------------\n",
      "--------------------------------------------\n",
      "cocoa: cannot documentation components directly ajax eg either data 24 catch\n",
      "--------------------------------------------\n",
      "--------------------------------------------\n",
      "code: bottom datetime dataframe advantage col either check divgt convert copy\n",
      "--------------------------------------------\n",
      "--------------------------------------------\n",
      "core: easy course calculate delete compare catch due client boost dependencies\n",
      "--------------------------------------------\n",
      "--------------------------------------------\n",
      "cs: decide application content datetime around 15 completely divgt draw -----\n",
      "--------------------------------------------\n",
      "--------------------------------------------\n",
      "data: course animate development 24 child element deal bean bytes crash\n",
      "--------------------------------------------\n",
      "--------------------------------------------\n",
      "database: buffer appear completely col account drop alt able 1024 easily\n",
      "--------------------------------------------\n",
      "--------------------------------------------\n",
      "date: algorithm behind 18 common 50 32 actual 100 200 access\n",
      "--------------------------------------------\n",
      "--------------------------------------------\n",
      "design: 1024 allow aspnet case codeamp console dynamic def custom display\n",
      "--------------------------------------------\n",
      "--------------------------------------------\n",
      "django: easily directly angular anything case block check dependencies avoid buffer\n",
      "--------------------------------------------\n",
      "--------------------------------------------\n",
      "eclipse: eg commit color develop 20 boost char 00 ajax book\n",
      "--------------------------------------------\n",
      "--------------------------------------------\n",
      "entity: allow cache advance active another build advantage detail change codeamp\n",
      "--------------------------------------------\n",
      "--------------------------------------------\n",
      "event: 12 bottom alloc components branch array api 1000 convert cod\n",
      "--------------------------------------------\n",
      "--------------------------------------------\n",
      "file: android dynamic access choose 10 dataframe date config 18 -1\n",
      "--------------------------------------------\n",
      "--------------------------------------------\n",
      "framework: access dynamically copy cpu button change display app another detail\n",
      "--------------------------------------------\n",
      "--------------------------------------------\n",
      "function: could available context dependency 18 actually col enable div dataframe\n",
      "--------------------------------------------\n",
      "--------------------------------------------\n",
      "git: divgt allow bad apply -1 csv condition actual detail api\n",
      "--------------------------------------------\n",
      "--------------------------------------------\n",
      "google: controller enable active contain capture accord control consolewriteline branch accept\n",
      "--------------------------------------------\n",
      "--------------------------------------------\n",
      "gradle: basic alert constructor course address application database 18 app -1\n",
      "--------------------------------------------\n",
      "--------------------------------------------\n",
      "hibernate: avoid byte cycle controller 1024 day call array alloc case\n",
      "--------------------------------------------\n",
      "--------------------------------------------\n",
      "html: clear bottom codelt apps 50 element encode dialog ----- 1024\n",
      "--------------------------------------------\n",
      "--------------------------------------------\n",
      "http: bar correctly complete animation div clear dispose dataframe 124 address\n",
      "--------------------------------------------\n",
      "--------------------------------------------\n",
      "image: bite contain appreciate center clean 124 bundle css data -gt\n",
      "--------------------------------------------\n",
      "--------------------------------------------\n",
      "interface: 15 continue default cause assume alloc day deal already consolewriteline\n",
      "--------------------------------------------\n",
      "--------------------------------------------\n",
      "io: empty answer app add 12 16 check -gt 32 24\n",
      "--------------------------------------------\n",
      "--------------------------------------------\n",
      "iphone: character -gt answer cannot describe component device deploy 24 32\n",
      "--------------------------------------------\n",
      "--------------------------------------------\n",
      "j: document control close detect db complete container 1000 automatically class\n",
      "--------------------------------------------\n",
      "--------------------------------------------\n",
      "java: although 00 account describe 11 already achieve ajax address agt\n",
      "--------------------------------------------\n",
      "--------------------------------------------\n",
      "javascript: context api constraints box code correctly background async 1024 12\n",
      "--------------------------------------------\n",
      "--------------------------------------------\n",
      "jpa: 15 csv echo best array day decide 24 byte alloc\n",
      "--------------------------------------------\n",
      "--------------------------------------------\n",
      "jquery: 1024 angular applications datetimegt click address 12 25 correctly answer\n",
      "--------------------------------------------\n",
      "--------------------------------------------\n",
      "json: cannot active consider although database -- 15 always 1024 bytes\n",
      "--------------------------------------------\n",
      "--------------------------------------------\n",
      "language: default draw components arguments close control custom 50 30 common\n",
      "--------------------------------------------\n",
      "--------------------------------------------\n",
      "laravel: currently context either download 1000 behind connection compiler button ask\n",
      "--------------------------------------------\n",
      "--------------------------------------------\n",
      "layout: confuse db def cpu char dependency cycle consider best core\n",
      "--------------------------------------------\n",
      "--------------------------------------------\n",
      "learning: 64-bit consolewriteline detail character enable course amount book amp 124\n",
      "--------------------------------------------\n",
      "--------------------------------------------\n",
      "library: bean container eclipse authentication copy differences 64-bit applications app begin\n",
      "--------------------------------------------\n",
      "--------------------------------------------\n",
      "line: 20 cannot eg 10 application complete bottom custom amount achieve\n",
      "--------------------------------------------\n",
      "--------------------------------------------\n",
      "linux: core app div content data dependencies background char -1 consolelog\n",
      "--------------------------------------------\n",
      "--------------------------------------------\n",
      "list: amp day 16 android choose cause accept animate 100 api\n",
      "--------------------------------------------\n",
      "--------------------------------------------\n",
      "machine: child boost def advantage 50 description copy color amp 124\n",
      "--------------------------------------------\n",
      "--------------------------------------------\n",
      "macos: css draw complete components child call click control change client\n",
      "--------------------------------------------\n",
      "--------------------------------------------\n",
      "maven: django depend chrome easy codeamp assembly core ajax account eg\n",
      "--------------------------------------------\n",
      "--------------------------------------------\n",
      "memory: color display disable clear 16 enable compiler append delete django\n",
      "--------------------------------------------\n",
      "--------------------------------------------\n",
      "model: em 50 1024 complete contain configure account allow address else\n",
      "--------------------------------------------\n",
      "--------------------------------------------\n",
      "multithreading: counter 20 category 200 16 color element 64-bit comment eg\n",
      "--------------------------------------------\n",
      "--------------------------------------------\n",
      "mvc: confuse class begin elements design android account detect animate action\n",
      "--------------------------------------------\n",
      "--------------------------------------------\n",
      "mysql: chrome columns 1024 access completely account class block answer able\n",
      "--------------------------------------------\n",
      "--------------------------------------------\n",
      "net: break echo bytes br boost cod ap android 32 bar\n",
      "--------------------------------------------\n",
      "--------------------------------------------\n",
      "node: avoid confuse advance body available drop document course close 1000\n",
      "--------------------------------------------\n",
      "--------------------------------------------\n",
      "numpy: cycle amp block dynamically 100 byte dynamic dependencies dataframe authentication\n",
      "--------------------------------------------\n",
      "--------------------------------------------\n",
      "objective: def design determine drop directly describe build 32 ds eg\n",
      "--------------------------------------------\n",
      "--------------------------------------------\n",
      "optimization: ask 50 ds count devices efficient common begin app avoid\n",
      "--------------------------------------------\n",
      "--------------------------------------------\n",
      "panda: br come django compare 100 authentication async 50 custom 1000\n",
      "--------------------------------------------\n",
      "--------------------------------------------\n",
      "pattern: child color declare allow cause dispose audio codeamp console 64-bit\n",
      "--------------------------------------------\n",
      "--------------------------------------------\n",
      "performance: 18 echo amp bar 100 efficient array draw always differences\n",
      "--------------------------------------------\n",
      "--------------------------------------------\n",
      "php: category bind ajax ask click codestd 1024 codep email determine\n",
      "--------------------------------------------\n",
      "--------------------------------------------\n",
      "processing: apple ask already 24 day br ----- applications datetimegt data\n",
      "--------------------------------------------\n",
      "--------------------------------------------\n",
      "programming: around cpu columns 25 12 close ask actual br due\n",
      "--------------------------------------------\n",
      "--------------------------------------------\n",
      "python: ap df 100 24 along 124 em 10 1000 20\n",
      "--------------------------------------------\n",
      "--------------------------------------------\n",
      "r: directly child body bytes detect consolewriteline accept confuse condition --\n",
      "--------------------------------------------\n",
      "--------------------------------------------\n",
      "rail: deploy document bytes assembly 24 break back active angular attribute\n",
      "--------------------------------------------\n",
      "--------------------------------------------\n",
      "reactjs: device constraints contain ----- deal enable common come 1024 byte\n",
      "--------------------------------------------\n",
      "--------------------------------------------\n",
      "rest: eclipse device dynamic although actually 1024 actual bash auto account\n",
      "--------------------------------------------\n",
      "--------------------------------------------\n",
      "ruby: active ds devices assembly attribute ----- angular base anyone br\n",
      "--------------------------------------------\n",
      "--------------------------------------------\n",
      "security: browsers constructor catch domain description constraints connect 1024 ap difference\n",
      "--------------------------------------------\n",
      "--------------------------------------------\n",
      "server: advance cycle enable available either drop deal ds 11 encode\n",
      "--------------------------------------------\n",
      "--------------------------------------------\n",
      "service: accept arguments development dynamically array directly add account always compile\n",
      "--------------------------------------------\n",
      "--------------------------------------------\n",
      "shell: difference case also article build 10 components amount css achieve\n",
      "--------------------------------------------\n",
      "--------------------------------------------\n",
      "spark: ap await -- audio 100 common back description console allow\n",
      "--------------------------------------------\n",
      "--------------------------------------------\n",
      "spring: complete determine client cycle arguments clean around basic css animate\n",
      "--------------------------------------------\n",
      "--------------------------------------------\n",
      "sql: bool 1024 comment alert client draw accord 11 able effect\n",
      "--------------------------------------------\n",
      "--------------------------------------------\n",
      "string: 10 development directory body data 24 12 clean default 11\n",
      "--------------------------------------------\n",
      "--------------------------------------------\n",
      "studio: 00 display comment -1 case actually automatically currently angular across\n",
      "--------------------------------------------\n",
      "--------------------------------------------\n",
      "swift: 24 col browser clear check char another certificate describe document\n",
      "--------------------------------------------\n",
      "--------------------------------------------\n",
      "testing: edit ask configure double certain 32 change codeamp 18 easy\n",
      "--------------------------------------------\n",
      "--------------------------------------------\n",
      "touch: design either directly ajax device base data config catch 24\n",
      "--------------------------------------------\n",
      "--------------------------------------------\n",
      "type: console bite byte continue empty 100 allow cpu article branch\n",
      "--------------------------------------------\n",
      "--------------------------------------------\n",
      "unit: due double codeamp codelt bitmap 18 change easy ask 32\n",
      "--------------------------------------------\n",
      "--------------------------------------------\n",
      "variable: button cache eg bundle appreciate codepre account close constructor cycle\n",
      "--------------------------------------------\n",
      "--------------------------------------------\n",
      "visual: book case application design comment across codestd angular bar accord\n",
      "--------------------------------------------\n",
      "--------------------------------------------\n",
      "web: encode capture condition algorithm codeamp default dialog codepre django account\n",
      "--------------------------------------------\n",
      "--------------------------------------------\n",
      "window: alloc box components core contain amp duplicate draw bug disable\n",
      "--------------------------------------------\n",
      "--------------------------------------------\n",
      "x: break cpu cannot arguments display enable certificate 10 data 20\n",
      "--------------------------------------------\n",
      "--------------------------------------------\n",
      "xcode: char -gt 64-bit another auto constructor background chain 24 continue\n",
      "--------------------------------------------\n",
      "--------------------------------------------\n",
      "xml: day deal android ----- 100 display date config account 24\n",
      "--------------------------------------------\n"
     ]
    }
   ],
   "source": [
    "print_top10(feature_names, best_model, multilabel_binarizer.classes_)"
   ]
  },
  {
   "cell_type": "code",
   "execution_count": null,
   "id": "c3bc1837",
   "metadata": {},
   "outputs": [],
   "source": []
  },
  {
   "cell_type": "markdown",
   "id": "1f84f1f3",
   "metadata": {},
   "source": [
    "# TensorFlow (Keras) "
   ]
  },
  {
   "cell_type": "markdown",
   "id": "e73340df",
   "metadata": {},
   "source": [
    " # Word2Vec"
   ]
  },
  {
   "cell_type": "markdown",
   "id": "426a973f",
   "metadata": {},
   "source": [
    "Word2vec: Implementation with Gensim¶\n",
    "\n",
    "Robust implementation is not easy.\n",
    "\n",
    "The gensim package is the reference if you want to embed your words using word2vec."
   ]
  },
  {
   "cell_type": "code",
   "execution_count": 222,
   "id": "15246cbf",
   "metadata": {},
   "outputs": [],
   "source": [
    "import os\n",
    "os.environ[\"KMP_DUPLICATE_LIB_OK\"]=\"TRUE\""
   ]
  },
  {
   "cell_type": "code",
   "execution_count": 223,
   "id": "0bf40290",
   "metadata": {},
   "outputs": [],
   "source": [
    "# Let's convert the list of sentences to a list of lists of words with a Keras utility function\n",
    "\n",
    "from tensorflow.keras.preprocessing.text import text_to_word_sequence\n",
    "import tensorflow as tf\n",
    "import tensorflow.keras\n",
    "from tensorflow.keras import backend as K\n",
    "\n",
    "from tensorflow.keras.preprocessing.text import Tokenizer\n",
    "from tensorflow.keras.preprocessing.sequence import pad_sequences\n",
    "from tensorflow.keras import metrics as kmetrics\n",
    "from tensorflow.keras.layers import *\n",
    "from tensorflow.keras.models import Model\n",
    "import gensim"
   ]
  },
  {
   "cell_type": "code",
   "execution_count": 224,
   "id": "53716ead",
   "metadata": {},
   "outputs": [],
   "source": [
    "## Création du modèle Word2Vec"
   ]
  },
  {
   "cell_type": "code",
   "execution_count": 225,
   "id": "622c1e64",
   "metadata": {},
   "outputs": [],
   "source": [
    "w2v_size = 300\n",
    "w2v_window = 5\n",
    "w2v_min_count = 1\n",
    "w2v_epochs = 10\n",
    "maxlen = 24  # adapt to length of sentences\n",
    "sentences = df1['full_review'].to_list()\n",
    "sentences = [gensim.utils.simple_preprocess(text) for text in sentences]"
   ]
  },
  {
   "cell_type": "code",
   "execution_count": 226,
   "id": "4c54a760",
   "metadata": {},
   "outputs": [],
   "source": [
    "#sentences[0]"
   ]
  },
  {
   "cell_type": "code",
   "execution_count": 227,
   "id": "6fe21f95",
   "metadata": {},
   "outputs": [],
   "source": [
    "#pip install --upgrade gensim --user"
   ]
  },
  {
   "cell_type": "code",
   "execution_count": 228,
   "id": "7f502820",
   "metadata": {},
   "outputs": [
    {
     "name": "stdout",
     "output_type": "stream",
     "text": [
      "Build & train Word2Vec model ...\n",
      "Vocabulary size: 25695\n",
      "Word2Vec trained\n"
     ]
    }
   ],
   "source": [
    "# Création et entraînement du modèle Word2Vec\n",
    "\n",
    "print(\"Build & train Word2Vec model ...\")\n",
    "w2v_model = gensim.models.Word2Vec(min_count=w2v_min_count,\n",
    "                                   window=w2v_window,\n",
    "                                   vector_size=w2v_size,\n",
    "                                   seed=42,\n",
    "                                   workers=1)\n",
    "#                                                workers=multiprocessing.cpu_count())\n",
    "w2v_model.build_vocab(sentences)\n",
    "w2v_model.train(sentences,\n",
    "                total_examples=w2v_model.corpus_count,\n",
    "                epochs=w2v_epochs)\n",
    "model_vectors = w2v_model.wv\n",
    "w2v_words = model_vectors.index_to_key\n",
    "print(\"Vocabulary size: %i\" % len(w2v_words))\n",
    "print(\"Word2Vec trained\")"
   ]
  },
  {
   "cell_type": "code",
   "execution_count": 229,
   "id": "66da174e",
   "metadata": {},
   "outputs": [],
   "source": [
    "#import gensim\n",
    "#print(gensim.__version__)"
   ]
  },
  {
   "cell_type": "code",
   "execution_count": 230,
   "id": "e32d9610",
   "metadata": {},
   "outputs": [
    {
     "name": "stdout",
     "output_type": "stream",
     "text": [
      "Fit Tokenizer ...\n",
      "Number of unique words: 25696\n"
     ]
    }
   ],
   "source": [
    "# Préparation des sentences (tokenization)\n",
    "\n",
    "print(\"Fit Tokenizer ...\")\n",
    "tokenizer = Tokenizer()\n",
    "tokenizer.fit_on_texts(sentences)\n",
    "x_sentences = pad_sequences(tokenizer.texts_to_sequences(sentences),\n",
    "                            maxlen=maxlen,\n",
    "                            padding='post')\n",
    "\n",
    "num_words = len(tokenizer.word_index) + 1\n",
    "print(\"Number of unique words: %i\" % num_words)"
   ]
  },
  {
   "cell_type": "code",
   "execution_count": 231,
   "id": "383ccee8",
   "metadata": {},
   "outputs": [],
   "source": [
    "## Création de la matrice d'embedding"
   ]
  },
  {
   "cell_type": "code",
   "execution_count": 232,
   "id": "6deb6180",
   "metadata": {},
   "outputs": [
    {
     "name": "stdout",
     "output_type": "stream",
     "text": [
      "Create Embedding matrix ...\n",
      "Word embedding rate :  1.0\n",
      "Embedding matrix: (25696, 300)\n"
     ]
    }
   ],
   "source": [
    "# Création de la matrice d'embedding\n",
    "\n",
    "print(\"Create Embedding matrix ...\")\n",
    "w2v_size = 300\n",
    "word_index = tokenizer.word_index\n",
    "vocab_size = len(word_index) + 1\n",
    "embedding_matrix = np.zeros((vocab_size, w2v_size))\n",
    "i = 0\n",
    "j = 0\n",
    "\n",
    "for word, idx in word_index.items():\n",
    "    i += 1\n",
    "    if word in w2v_words:\n",
    "        j += 1\n",
    "        embedding_vector = model_vectors[word]\n",
    "        if embedding_vector is not None:\n",
    "            embedding_matrix[idx] = model_vectors[word]\n",
    "\n",
    "word_rate = np.round(j / i, 4)\n",
    "print(\"Word embedding rate : \", word_rate)\n",
    "print(\"Embedding matrix: %s\" % str(embedding_matrix.shape))"
   ]
  },
  {
   "cell_type": "code",
   "execution_count": 233,
   "id": "d3ed5eeb",
   "metadata": {},
   "outputs": [],
   "source": [
    "## Création du modèle d'embedding"
   ]
  },
  {
   "cell_type": "code",
   "execution_count": 234,
   "id": "3c72d072",
   "metadata": {},
   "outputs": [
    {
     "name": "stdout",
     "output_type": "stream",
     "text": [
      "Model: \"model\"\n",
      "_________________________________________________________________\n",
      " Layer (type)                Output Shape              Param #   \n",
      "=================================================================\n",
      " input_2 (InputLayer)        [(None, 24)]              0         \n",
      "                                                                 \n",
      " embedding (Embedding)       (None, 24, 300)           7708800   \n",
      "                                                                 \n",
      " global_average_pooling1d (G  (None, 300)              0         \n",
      " lobalAveragePooling1D)                                          \n",
      "                                                                 \n",
      "=================================================================\n",
      "Total params: 7,708,800\n",
      "Trainable params: 7,708,800\n",
      "Non-trainable params: 0\n",
      "_________________________________________________________________\n"
     ]
    }
   ],
   "source": [
    "# Création du modèle\n",
    "\n",
    "input = Input(shape=(len(x_sentences), maxlen), dtype='float64')\n",
    "word_input = Input(shape=(maxlen, ), dtype='float64')\n",
    "word_embedding = Embedding(input_dim=vocab_size,\n",
    "                           output_dim=w2v_size,\n",
    "                           weights=[embedding_matrix],\n",
    "                           input_length=maxlen)(word_input)\n",
    "word_vec = GlobalAveragePooling1D()(word_embedding)\n",
    "embed_model = Model([word_input], word_vec)\n",
    "\n",
    "embed_model.summary()"
   ]
  },
  {
   "cell_type": "code",
   "execution_count": 235,
   "id": "cc4278a4",
   "metadata": {},
   "outputs": [
    {
     "data": {
      "text/plain": [
       "(2690, 300)"
      ]
     },
     "execution_count": 235,
     "metadata": {},
     "output_type": "execute_result"
    }
   ],
   "source": [
    "embeddings = embed_model.predict(x_sentences)\n",
    "embeddings.shape"
   ]
  },
  {
   "cell_type": "code",
   "execution_count": 236,
   "id": "6acc9906",
   "metadata": {},
   "outputs": [],
   "source": [
    "#X = df1['full_review']\n",
    "y = df1['Tags']"
   ]
  },
  {
   "cell_type": "code",
   "execution_count": 237,
   "id": "ebdf970d",
   "metadata": {},
   "outputs": [
    {
     "data": {
      "text/plain": [
       "(2690, 24)"
      ]
     },
     "execution_count": 237,
     "metadata": {},
     "output_type": "execute_result"
    }
   ],
   "source": [
    "x_sentences.shape"
   ]
  },
  {
   "cell_type": "code",
   "execution_count": 238,
   "id": "d74fa6f9",
   "metadata": {},
   "outputs": [],
   "source": [
    "multilabel_binarizer = MultiLabelBinarizer()\n",
    "y_bin = multilabel_binarizer.fit_transform(y)"
   ]
  },
  {
   "cell_type": "code",
   "execution_count": 239,
   "id": "5e92c96d",
   "metadata": {},
   "outputs": [
    {
     "data": {
      "text/plain": [
       "(2690, 100)"
      ]
     },
     "execution_count": 239,
     "metadata": {},
     "output_type": "execute_result"
    }
   ],
   "source": [
    "y_bin.shape"
   ]
  },
  {
   "cell_type": "code",
   "execution_count": null,
   "id": "9e8bdd22",
   "metadata": {},
   "outputs": [],
   "source": []
  },
  {
   "cell_type": "markdown",
   "id": "da8e2b07",
   "metadata": {},
   "source": [
    "# PCA"
   ]
  },
  {
   "cell_type": "code",
   "execution_count": 240,
   "id": "984fbfcd",
   "metadata": {},
   "outputs": [],
   "source": [
    "clf = TruncatedSVD(20)\n",
    "Xpca = clf.fit_transform(x_sentences)"
   ]
  },
  {
   "cell_type": "code",
   "execution_count": 241,
   "id": "7fffcd59",
   "metadata": {},
   "outputs": [
    {
     "data": {
      "text/plain": [
       "array([0.0963919 , 0.07487297, 0.05119365, 0.04647865, 0.04554432,\n",
       "       0.04439492, 0.04354141, 0.04260898, 0.04067729, 0.03990148,\n",
       "       0.03854101, 0.03834518, 0.03718995, 0.03670028, 0.03589497,\n",
       "       0.0352259 , 0.03429925, 0.03425195, 0.0329442 , 0.03274476])"
      ]
     },
     "execution_count": 241,
     "metadata": {},
     "output_type": "execute_result"
    }
   ],
   "source": [
    "clf.explained_variance_ratio_"
   ]
  },
  {
   "cell_type": "code",
   "execution_count": 242,
   "id": "fdb7b7c2",
   "metadata": {},
   "outputs": [
    {
     "data": {
      "text/plain": [
       "Text(0, 0.5, 'Explained Variance')"
      ]
     },
     "execution_count": 242,
     "metadata": {},
     "output_type": "execute_result"
    },
    {
     "data": {
      "image/png": "[encoded data removed]",
      "text/plain": [
       "<Figure size 720x576 with 1 Axes>"
      ]
     },
     "metadata": {
      "needs_background": "light"
     },
     "output_type": "display_data"
    }
   ],
   "source": [
    "plt.figure(figsize = (10, 8))\n",
    "plt.plot(range(1, 21), clf.explained_variance_ratio_.cumsum(),marker = \"o\", linestyle = \"--\")\n",
    "plt.title(\"Explained Variance by Componants\")\n",
    "plt.xlabel(\"Nomber of componants\")\n",
    "plt.ylabel(\"Explained Variance\")\n"
   ]
  },
  {
   "cell_type": "code",
   "execution_count": 243,
   "id": "acebc9f4",
   "metadata": {},
   "outputs": [],
   "source": [
    "clf = TruncatedSVD(15)\n",
    "Xpca_word2vec = clf.fit_transform(x_sentences)"
   ]
  },
  {
   "cell_type": "code",
   "execution_count": 244,
   "id": "99c72ce6",
   "metadata": {},
   "outputs": [],
   "source": [
    "# 80/20 split\n",
    "X_train, X_test, y_train, y_test = train_test_split(Xpca_word2vec, y_bin, test_size = 0.2, random_state = 0) "
   ]
  },
  {
   "cell_type": "code",
   "execution_count": 245,
   "id": "a91b299c",
   "metadata": {},
   "outputs": [],
   "source": [
    "def avg_jacard(y_true,y_pred):\n",
    "    jacard = np.minimum(y_true,y_pred).sum(axis=1) / np.maximum(y_true,y_pred).sum(axis=1)    \n",
    "    return jacard.mean()*100\n",
    "    \n",
    "def print_score(y_pred, clf):\n",
    "    print(\"Clf: \", clf.__class__.__name__)\n",
    "    print(\"Jacard score: {}\".format(avg_jacard(y_test, y_pred)))\n",
    "    print(\"Hamming loss: {}\".format(hamming_loss(y_pred, y_test)*100))\n",
    "    print(\"---\")"
   ]
  },
  {
   "cell_type": "code",
   "execution_count": 246,
   "id": "f7e30ea0",
   "metadata": {},
   "outputs": [
    {
     "name": "stdout",
     "output_type": "stream",
     "text": [
      "Clf:  DummyClassifier\n",
      "Jacard score: 3.8835849198302728\n",
      "Hamming loss: 4.866171003717472\n",
      "---\n",
      "Clf:  SGDClassifier\n",
      "Jacard score: 2.374888123029387\n",
      "Hamming loss: 4.0390334572490705\n",
      "---\n",
      "Clf:  LogisticRegression\n",
      "Jacard score: 0.0\n",
      "Hamming loss: 2.6394052044609664\n",
      "---\n",
      "Clf:  LinearSVC\n",
      "Jacard score: 3.6634725600129237\n",
      "Hamming loss: 9.453531598513012\n",
      "---\n",
      "Clf:  Perceptron\n",
      "Jacard score: 2.5476459723671616\n",
      "Hamming loss: 5.278810408921933\n",
      "---\n",
      "Clf:  PassiveAggressiveClassifier\n",
      "Jacard score: 7.00264659290463\n",
      "Hamming loss: 5.79368029739777\n",
      "---\n"
     ]
    }
   ],
   "source": [
    "from sklearn.linear_model import Perceptron\n",
    "from sklearn.linear_model import PassiveAggressiveClassifier\n",
    "from sklearn.svm import LinearSVC\n",
    "dummy = DummyClassifier()\n",
    "sgd = SGDClassifier()\n",
    "lr = LogisticRegression()\n",
    "svc = LinearSVC()\n",
    "perceptron = Perceptron()\n",
    "pac = PassiveAggressiveClassifier()\n",
    "\n",
    "for classifier in [dummy, sgd, lr, svc, perceptron, pac]:\n",
    "    clf = OneVsRestClassifier(classifier)\n",
    "    clf.fit(X_train, y_train)\n",
    "    y_pred = clf.predict(X_test)\n",
    "    print_score(y_pred, classifier)"
   ]
  },
  {
   "cell_type": "code",
   "execution_count": 247,
   "id": "3780d363",
   "metadata": {},
   "outputs": [
    {
     "data": {
      "text/plain": [
       "sklearn.linear_model._stochastic_gradient.SGDClassifier"
      ]
     },
     "execution_count": 247,
     "metadata": {},
     "output_type": "execute_result"
    }
   ],
   "source": [
    "SGDClassifier"
   ]
  },
  {
   "cell_type": "code",
   "execution_count": 248,
   "id": "179adfdc",
   "metadata": {},
   "outputs": [
    {
     "name": "stdout",
     "output_type": "stream",
     "text": [
      "Clf:  SGDClassifier\n",
      "Jacard score: 5.9142289535069805\n",
      "Hamming loss: 5.708178438661711\n",
      "---\n"
     ]
    }
   ],
   "source": [
    "sgd = SGDClassifier()\n",
    "clf = OneVsRestClassifier(sgd)\n",
    "clf.fit(X_train, y_train)\n",
    "y_pred = clf.predict(X_test)\n",
    "print_score(y_pred, sgd)"
   ]
  },
  {
   "cell_type": "code",
   "execution_count": 249,
   "id": "8cf2809b",
   "metadata": {},
   "outputs": [
    {
     "data": {
      "text/plain": [
       "sklearn.multiclass.OneVsRestClassifier"
      ]
     },
     "execution_count": 249,
     "metadata": {},
     "output_type": "execute_result"
    }
   ],
   "source": [
    "OneVsRestClassifier"
   ]
  },
  {
   "cell_type": "code",
   "execution_count": 250,
   "id": "cfe50116",
   "metadata": {},
   "outputs": [
    {
     "name": "stdout",
     "output_type": "stream",
     "text": [
      "Clf:  LogisticRegression\n",
      "Jacard score: 0.0\n",
      "Hamming loss: 2.6394052044609664\n",
      "---\n"
     ]
    }
   ],
   "source": [
    "lr = LogisticRegression()\n",
    "\n",
    "clf = OneVsRestClassifier(lr)\n",
    "clf.fit(X_train, y_train)\n",
    "y_pred = clf.predict(X_test)\n",
    "print_score(y_pred, lr)"
   ]
  },
  {
   "cell_type": "code",
   "execution_count": 251,
   "id": "e10adc53",
   "metadata": {},
   "outputs": [
    {
     "data": {
      "text/plain": [
       "sklearn.ensemble._forest.RandomForestClassifier"
      ]
     },
     "execution_count": 251,
     "metadata": {},
     "output_type": "execute_result"
    }
   ],
   "source": [
    "RandomForestClassifier"
   ]
  },
  {
   "cell_type": "code",
   "execution_count": 252,
   "id": "2e94b4a6",
   "metadata": {},
   "outputs": [
    {
     "name": "stdout",
     "output_type": "stream",
     "text": [
      "Clf:  RandomForestClassifier\n",
      "Jacard score: 54.182156133829\n",
      "Hamming loss: 1.20817843866171\n",
      "---\n"
     ]
    }
   ],
   "source": [
    "from sklearn.ensemble import RandomForestClassifier\n",
    "rfc = RandomForestClassifier()\n",
    "rfc.fit(X_train, y_train)\n",
    "\n",
    "y_pred = rfc.predict(X_test)\n",
    "\n",
    "print_score(y_pred, rfc)"
   ]
  },
  {
   "cell_type": "markdown",
   "id": "29da8167",
   "metadata": {},
   "source": [
    "MLP Classifier"
   ]
  },
  {
   "cell_type": "code",
   "execution_count": 253,
   "id": "6485733c",
   "metadata": {},
   "outputs": [
    {
     "name": "stdout",
     "output_type": "stream",
     "text": [
      "Clf:  MLPClassifier\n",
      "Jacard score: 4.662854700029421\n",
      "Hamming loss: 4.983271375464684\n",
      "---\n"
     ]
    }
   ],
   "source": [
    "from sklearn.neural_network import MLPClassifier\n",
    "mlpc = MLPClassifier()\n",
    "mlpc.fit(X_train, y_train)\n",
    "\n",
    "y_pred = mlpc.predict(X_test)\n",
    "\n",
    "print_score(y_pred, mlpc)"
   ]
  },
  {
   "cell_type": "code",
   "execution_count": 254,
   "id": "f6e3830e",
   "metadata": {},
   "outputs": [],
   "source": [
    "param_grid = {'estimator__C':[1,10,100,1000]\n",
    "              }"
   ]
  },
  {
   "cell_type": "code",
   "execution_count": 255,
   "id": "28bf2d9b",
   "metadata": {},
   "outputs": [
    {
     "name": "stdout",
     "output_type": "stream",
     "text": [
      "Fitting 5 folds for each of 4 candidates, totalling 20 fits\n",
      "[CV] estimator__C=1 ..................................................\n"
     ]
    },
    {
     "name": "stderr",
     "output_type": "stream",
     "text": [
      "[Parallel(n_jobs=1)]: Using backend SequentialBackend with 1 concurrent workers.\n"
     ]
    },
    {
     "name": "stdout",
     "output_type": "stream",
     "text": [
      "[CV] ...................... estimator__C=1, score=3.659, total=   2.2s\n",
      "[CV] estimator__C=1 ..................................................\n"
     ]
    },
    {
     "name": "stderr",
     "output_type": "stream",
     "text": [
      "[Parallel(n_jobs=1)]: Done   1 out of   1 | elapsed:    2.2s remaining:    0.0s\n"
     ]
    },
    {
     "name": "stdout",
     "output_type": "stream",
     "text": [
      "[CV] ...................... estimator__C=1, score=3.440, total=   2.1s\n",
      "[CV] estimator__C=1 ..................................................\n"
     ]
    },
    {
     "name": "stderr",
     "output_type": "stream",
     "text": [
      "[Parallel(n_jobs=1)]: Done   2 out of   2 | elapsed:    4.3s remaining:    0.0s\n"
     ]
    },
    {
     "name": "stdout",
     "output_type": "stream",
     "text": [
      "[CV] ...................... estimator__C=1, score=3.223, total=   2.1s\n",
      "[CV] estimator__C=1 ..................................................\n"
     ]
    },
    {
     "name": "stderr",
     "output_type": "stream",
     "text": [
      "[Parallel(n_jobs=1)]: Done   3 out of   3 | elapsed:    6.5s remaining:    0.0s\n"
     ]
    },
    {
     "name": "stdout",
     "output_type": "stream",
     "text": [
      "[CV] ...................... estimator__C=1, score=6.086, total=   2.2s\n",
      "[CV] estimator__C=1 ..................................................\n"
     ]
    },
    {
     "name": "stderr",
     "output_type": "stream",
     "text": [
      "[Parallel(n_jobs=1)]: Done   4 out of   4 | elapsed:    8.6s remaining:    0.0s\n"
     ]
    },
    {
     "name": "stdout",
     "output_type": "stream",
     "text": [
      "[CV] ...................... estimator__C=1, score=3.607, total=   2.1s\n",
      "[CV] estimator__C=10 .................................................\n"
     ]
    },
    {
     "name": "stderr",
     "output_type": "stream",
     "text": [
      "[Parallel(n_jobs=1)]: Done   5 out of   5 | elapsed:   10.8s remaining:    0.0s\n"
     ]
    },
    {
     "name": "stdout",
     "output_type": "stream",
     "text": [
      "[CV] ..................... estimator__C=10, score=4.526, total=   2.2s\n",
      "[CV] estimator__C=10 .................................................\n"
     ]
    },
    {
     "name": "stderr",
     "output_type": "stream",
     "text": [
      "[Parallel(n_jobs=1)]: Done   6 out of   6 | elapsed:   12.9s remaining:    0.0s\n"
     ]
    },
    {
     "name": "stdout",
     "output_type": "stream",
     "text": [
      "[CV] ..................... estimator__C=10, score=4.647, total=   2.1s\n",
      "[CV] estimator__C=10 .................................................\n"
     ]
    },
    {
     "name": "stderr",
     "output_type": "stream",
     "text": [
      "[Parallel(n_jobs=1)]: Done   7 out of   7 | elapsed:   15.1s remaining:    0.0s\n"
     ]
    },
    {
     "name": "stdout",
     "output_type": "stream",
     "text": [
      "[CV] ..................... estimator__C=10, score=4.334, total=   2.1s\n",
      "[CV] estimator__C=10 .................................................\n"
     ]
    },
    {
     "name": "stderr",
     "output_type": "stream",
     "text": [
      "[Parallel(n_jobs=1)]: Done   8 out of   8 | elapsed:   17.2s remaining:    0.0s\n"
     ]
    },
    {
     "name": "stdout",
     "output_type": "stream",
     "text": [
      "[CV] ..................... estimator__C=10, score=6.584, total=   2.1s\n",
      "[CV] estimator__C=10 .................................................\n"
     ]
    },
    {
     "name": "stderr",
     "output_type": "stream",
     "text": [
      "[Parallel(n_jobs=1)]: Done   9 out of   9 | elapsed:   19.3s remaining:    0.0s\n"
     ]
    },
    {
     "name": "stdout",
     "output_type": "stream",
     "text": [
      "[CV] ..................... estimator__C=10, score=5.760, total=   2.1s\n",
      "[CV] estimator__C=100 ................................................\n",
      "[CV] .................... estimator__C=100, score=3.385, total=   2.1s\n",
      "[CV] estimator__C=100 ................................................\n",
      "[CV] .................... estimator__C=100, score=2.628, total=   2.1s\n",
      "[CV] estimator__C=100 ................................................\n",
      "[CV] .................... estimator__C=100, score=3.139, total=   2.2s\n",
      "[CV] estimator__C=100 ................................................\n",
      "[CV] .................... estimator__C=100, score=4.742, total=   2.1s\n",
      "[CV] estimator__C=100 ................................................\n",
      "[CV] .................... estimator__C=100, score=3.065, total=   2.1s\n",
      "[CV] estimator__C=1000 ...............................................\n",
      "[CV] ................... estimator__C=1000, score=2.382, total=   2.2s\n",
      "[CV] estimator__C=1000 ...............................................\n",
      "[CV] ................... estimator__C=1000, score=3.187, total=   2.1s\n",
      "[CV] estimator__C=1000 ...............................................\n",
      "[CV] ................... estimator__C=1000, score=3.826, total=   2.1s\n",
      "[CV] estimator__C=1000 ...............................................\n",
      "[CV] ................... estimator__C=1000, score=3.668, total=   2.1s\n",
      "[CV] estimator__C=1000 ...............................................\n",
      "[CV] ................... estimator__C=1000, score=3.937, total=   2.1s\n"
     ]
    },
    {
     "name": "stderr",
     "output_type": "stream",
     "text": [
      "[Parallel(n_jobs=1)]: Done  20 out of  20 | elapsed:   42.6s finished\n"
     ]
    },
    {
     "data": {
      "text/plain": [
       "GridSearchCV(cv=5, error_score=nan,\n",
       "             estimator=OneVsRestClassifier(estimator=LinearSVC(C=1.0,\n",
       "                                                               class_weight=None,\n",
       "                                                               dual=True,\n",
       "                                                               fit_intercept=True,\n",
       "                                                               intercept_scaling=1,\n",
       "                                                               loss='squared_hinge',\n",
       "                                                               max_iter=1000,\n",
       "                                                               multi_class='ovr',\n",
       "                                                               penalty='l2',\n",
       "                                                               random_state=None,\n",
       "                                                               tol=0.0001,\n",
       "                                                               verbose=0),\n",
       "                                           n_jobs=None),\n",
       "             iid='deprecated', n_jobs=None,\n",
       "             param_grid={'estimator__C': [1, 10, 100, 1000]},\n",
       "             pre_dispatch='2*n_jobs', refit=True, return_train_score=False,\n",
       "             scoring=make_scorer(avg_jacard), verbose=10)"
      ]
     },
     "execution_count": 255,
     "metadata": {},
     "output_type": "execute_result"
    }
   ],
   "source": [
    "svc = OneVsRestClassifier(LinearSVC())\n",
    "CV_svc = model_selection.GridSearchCV(estimator=svc, param_grid=param_grid, cv= 5, verbose=10, \n",
    "                                      scoring=make_scorer(avg_jacard,greater_is_better=True))\n",
    "CV_svc.fit(X_train, y_train)"
   ]
  },
  {
   "cell_type": "code",
   "execution_count": 256,
   "id": "77008cab",
   "metadata": {},
   "outputs": [
    {
     "data": {
      "text/plain": [
       "{'estimator__C': 10}"
      ]
     },
     "execution_count": 256,
     "metadata": {},
     "output_type": "execute_result"
    }
   ],
   "source": [
    "CV_svc.best_params_"
   ]
  },
  {
   "cell_type": "code",
   "execution_count": 257,
   "id": "4cad52ea",
   "metadata": {},
   "outputs": [],
   "source": [
    "best_model = CV_svc.best_estimator_"
   ]
  },
  {
   "cell_type": "code",
   "execution_count": 258,
   "id": "61a4439a",
   "metadata": {},
   "outputs": [
    {
     "name": "stdout",
     "output_type": "stream",
     "text": [
      "Clf:  OneVsRestClassifier\n",
      "Jacard score: 4.848609093193952\n",
      "Hamming loss: 8.940520446096654\n",
      "---\n"
     ]
    }
   ],
   "source": [
    "y_pred = best_model.predict(X_test)\n",
    "\n",
    "print_score(y_pred, best_model)"
   ]
  },
  {
   "cell_type": "markdown",
   "id": "fd224542",
   "metadata": {},
   "source": [
    "Confusion matrix"
   ]
  },
  {
   "cell_type": "code",
   "execution_count": 259,
   "id": "2b1aa352",
   "metadata": {},
   "outputs": [
    {
     "name": "stdout",
     "output_type": "stream",
     "text": [
      "ajax\n",
      "[[530   4]\n",
      " [  4   0]]\n",
      "\n",
      "algorithm\n",
      "[[481  40]\n",
      " [ 16   1]]\n",
      "\n",
      "amazon\n",
      "[[505  31]\n",
      " [  1   1]]\n",
      "\n",
      "android\n",
      "[[428  68]\n",
      " [ 36   6]]\n",
      "\n",
      "angular\n",
      "[[529   4]\n",
      " [  5   0]]\n",
      "\n",
      "angularjs\n",
      "[[516  16]\n",
      " [  5   1]]\n",
      "\n",
      "apache\n",
      "[[484  47]\n",
      " [  7   0]]\n",
      "\n",
      "api\n",
      "[[489  42]\n",
      " [  6   1]]\n",
      "\n",
      "architecture\n",
      "[[510  24]\n",
      " [  4   0]]\n",
      "\n",
      "array\n",
      "[[514   7]\n",
      " [ 17   0]]\n",
      "\n",
      "asp\n",
      "[[485  30]\n",
      " [ 22   1]]\n",
      "\n",
      "authentication\n",
      "[[519  14]\n",
      " [  4   1]]\n",
      "\n",
      "bash\n",
      "[[478  51]\n",
      " [  8   1]]\n",
      "\n",
      "bootstrap\n",
      "[[525   9]\n",
      " [  4   0]]\n",
      "\n",
      "c\n",
      "[[260 139]\n",
      " [100  39]]\n",
      "\n",
      "chrome\n",
      "[[510  21]\n",
      " [  6   1]]\n",
      "\n",
      "class\n",
      "[[531   3]\n",
      " [  4   0]]\n",
      "\n",
      "cocoa\n",
      "[[496  23]\n",
      " [ 17   2]]\n",
      "\n",
      "command\n",
      "[[525   6]\n",
      " [  6   1]]\n",
      "\n",
      "core\n",
      "[[528   4]\n",
      " [  6   0]]\n",
      "\n",
      "cs\n",
      "[[481  44]\n",
      " [ 10   3]]\n",
      "\n",
      "data\n",
      "[[478  45]\n",
      " [ 15   0]]\n",
      "\n",
      "database\n",
      "[[514   5]\n",
      " [ 19   0]]\n",
      "\n",
      "dataframe\n",
      "[[519  11]\n",
      " [  8   0]]\n",
      "\n",
      "design\n",
      "[[506  25]\n",
      " [  7   0]]\n",
      "\n",
      "django\n",
      "[[532   0]\n",
      " [  6   0]]\n",
      "\n",
      "eclipse\n",
      "[[526   6]\n",
      " [  6   0]]\n",
      "\n",
      "entity\n",
      "[[477  51]\n",
      " [  8   2]]\n",
      "\n",
      "event\n",
      "[[529   2]\n",
      " [  7   0]]\n",
      "\n",
      "file\n",
      "[[522   4]\n",
      " [ 12   0]]\n",
      "\n",
      "framework\n",
      "[[520   7]\n",
      " [ 11   0]]\n",
      "\n",
      "function\n",
      "[[534   0]\n",
      " [  4   0]]\n",
      "\n",
      "gcc\n",
      "[[480  55]\n",
      " [  3   0]]\n",
      "\n",
      "git\n",
      "[[529   4]\n",
      " [  5   0]]\n",
      "\n",
      "google\n",
      "[[520   5]\n",
      " [ 13   0]]\n",
      "\n",
      "hibernate\n",
      "[[523   9]\n",
      " [  6   0]]\n",
      "\n",
      "html\n",
      "[[494  21]\n",
      " [ 21   2]]\n",
      "\n",
      "http\n",
      "[[510  17]\n",
      " [  9   2]]\n",
      "\n",
      "image\n",
      "[[532   0]\n",
      " [  6   0]]\n",
      "\n",
      "interface\n",
      "[[527   8]\n",
      " [  3   0]]\n",
      "\n",
      "io\n",
      "[[317 172]\n",
      " [ 29  20]]\n",
      "\n",
      "ipad\n",
      "[[533   0]\n",
      " [  5   0]]\n",
      "\n",
      "iphone\n",
      "[[466  49]\n",
      " [ 21   2]]\n",
      "\n",
      "j\n",
      "[[488  29]\n",
      " [ 18   3]]\n",
      "\n",
      "java\n",
      "[[161 313]\n",
      " [ 20  44]]\n",
      "\n",
      "javascript\n",
      "[[402  77]\n",
      " [ 49  10]]\n",
      "\n",
      "jpa\n",
      "[[526   6]\n",
      " [  6   0]]\n",
      "\n",
      "jquery\n",
      "[[497  26]\n",
      " [ 15   0]]\n",
      "\n",
      "json\n",
      "[[494  34]\n",
      " [ 10   0]]\n",
      "\n",
      "language\n",
      "[[530   3]\n",
      " [  5   0]]\n",
      "\n",
      "learning\n",
      "[[496  30]\n",
      " [ 11   1]]\n",
      "\n",
      "library\n",
      "[[465  69]\n",
      " [  4   0]]\n",
      "\n",
      "line\n",
      "[[525   7]\n",
      " [  6   0]]\n",
      "\n",
      "linq\n",
      "[[526   8]\n",
      " [  4   0]]\n",
      "\n",
      "linux\n",
      "[[512   1]\n",
      " [ 25   0]]\n",
      "\n",
      "list\n",
      "[[530   3]\n",
      " [  5   0]]\n",
      "\n",
      "macos\n",
      "[[528   0]\n",
      " [ 10   0]]\n",
      "\n",
      "maven\n",
      "[[500  34]\n",
      " [  4   0]]\n",
      "\n",
      "memory\n",
      "[[511  18]\n",
      " [  8   1]]\n",
      "\n",
      "multithreading\n",
      "[[501  23]\n",
      " [ 12   2]]\n",
      "\n",
      "mvc\n",
      "[[363 157]\n",
      " [ 14   4]]\n",
      "\n",
      "mysql\n",
      "[[531   1]\n",
      " [  6   0]]\n",
      "\n",
      "net\n",
      "[[418  63]\n",
      " [ 43  14]]\n",
      "\n",
      "node\n",
      "[[259 271]\n",
      " [  3   5]]\n",
      "\n",
      "numpy\n",
      "[[503  21]\n",
      " [ 14   0]]\n",
      "\n",
      "objective\n",
      "[[410 100]\n",
      " [ 24   4]]\n",
      "\n",
      "optimization\n",
      "[[518  11]\n",
      " [  9   0]]\n",
      "\n",
      "panda\n",
      "[[497  30]\n",
      " [ 11   0]]\n",
      "\n",
      "pattern\n",
      "[[470  64]\n",
      " [  4   0]]\n",
      "\n",
      "performance\n",
      "[[529   0]\n",
      " [  9   0]]\n",
      "\n",
      "php\n",
      "[[477  40]\n",
      " [ 18   3]]\n",
      "\n",
      "processing\n",
      "[[522  10]\n",
      " [  6   0]]\n",
      "\n",
      "programming\n",
      "[[531   2]\n",
      " [  5   0]]\n",
      "\n",
      "python\n",
      "[[363 102]\n",
      " [ 51  22]]\n",
      "\n",
      "r\n",
      "[[517  12]\n",
      " [  9   0]]\n",
      "\n",
      "rail\n",
      "[[525   0]\n",
      " [ 13   0]]\n",
      "\n",
      "rest\n",
      "[[510  19]\n",
      " [  9   0]]\n",
      "\n",
      "ruby\n",
      "[[447  75]\n",
      " [ 12   4]]\n",
      "\n",
      "security\n",
      "[[532   2]\n",
      " [  4   0]]\n",
      "\n",
      "selenium\n",
      "[[532   4]\n",
      " [  2   0]]\n",
      "\n",
      "server\n",
      "[[498  25]\n",
      " [ 13   2]]\n",
      "\n",
      "service\n",
      "[[489  41]\n",
      " [  7   1]]\n",
      "\n",
      "shell\n",
      "[[524   5]\n",
      " [  8   1]]\n",
      "\n",
      "spring\n",
      "[[440  87]\n",
      " [  9   2]]\n",
      "\n",
      "sql\n",
      "[[497  20]\n",
      " [ 21   0]]\n",
      "\n",
      "string\n",
      "[[374 152]\n",
      " [  9   3]]\n",
      "\n",
      "studio\n",
      "[[515  12]\n",
      " [ 11   0]]\n",
      "\n",
      "swift\n",
      "[[470  56]\n",
      " [ 10   2]]\n",
      "\n",
      "testing\n",
      "[[372 152]\n",
      " [  9   5]]\n",
      "\n",
      "touch\n",
      "[[429  93]\n",
      " [  9   7]]\n",
      "\n",
      "twitter\n",
      "[[508  25]\n",
      " [  4   1]]\n",
      "\n",
      "type\n",
      "[[525   5]\n",
      " [  8   0]]\n",
      "\n",
      "unit\n",
      "[[516  16]\n",
      " [  6   0]]\n",
      "\n",
      "visual\n",
      "[[529   3]\n",
      " [  6   0]]\n",
      "\n",
      "web\n",
      "[[489  42]\n",
      " [  6   1]]\n",
      "\n",
      "window\n",
      "[[525   2]\n",
      " [ 11   0]]\n",
      "\n",
      "wpf\n",
      "[[470  61]\n",
      " [  7   0]]\n",
      "\n",
      "x\n",
      "[[520   0]\n",
      " [ 18   0]]\n",
      "\n",
      "xcode\n",
      "[[480  41]\n",
      " [ 12   5]]\n",
      "\n",
      "xml\n",
      "[[528   1]\n",
      " [  9   0]]\n",
      "\n"
     ]
    }
   ],
   "source": [
    "for i in range(y_train.shape[1]):\n",
    "    print(multilabel_binarizer.classes_[i])\n",
    "    print(confusion_matrix(y_test[:,i], y_pred[:,i]))\n",
    "    print(\"\")"
   ]
  },
  {
   "cell_type": "markdown",
   "id": "6a8bbce2",
   "metadata": {},
   "source": [
    "Exctracting feature importance"
   ]
  },
  {
   "cell_type": "code",
   "execution_count": 385,
   "id": "56b73e20",
   "metadata": {},
   "outputs": [],
   "source": [
    "def print_top10(feature_names, clf, class_labels):\n",
    "    \"\"\"Prints features with the highest coefficient values, per class\"\"\"\n",
    "    for i, class_label in enumerate(class_labels):\n",
    "        top10 = np.argsort(clf.coef_[i])[-10:]\n",
    "        print(\"--------------------------------------------\")\n",
    "        print(\"%s: %s\" % (class_label,\n",
    "              \" \".join(feature_names[j] for j in top10)))\n",
    "        print(\"--------------------------------------------\")"
   ]
  },
  {
   "cell_type": "code",
   "execution_count": 386,
   "id": "79c7a6da",
   "metadata": {},
   "outputs": [],
   "source": [
    "feature_names = vectorizer_X.get_feature_names()"
   ]
  },
  {
   "cell_type": "code",
   "execution_count": 387,
   "id": "a01d0226",
   "metadata": {
    "scrolled": false
   },
   "outputs": [
    {
     "name": "stdout",
     "output_type": "stream",
     "text": [
      "--------------------------------------------\n",
      "ajax: codep across browser controller branch animate depend 12 decide address\n",
      "--------------------------------------------\n",
      "--------------------------------------------\n",
      "algorithm: depend api category dialog 11 contain common actual audio bash\n",
      "--------------------------------------------\n",
      "--------------------------------------------\n",
      "amazon: aspnet device development branch compile 1000 duplicate account box email\n",
      "--------------------------------------------\n",
      "--------------------------------------------\n",
      "android: declare best container background child 12 course 100 -gt 00\n",
      "--------------------------------------------\n",
      "--------------------------------------------\n",
      "angular: 24 eg divgt consolelog draw deal create console consolewriteline container\n",
      "--------------------------------------------\n",
      "--------------------------------------------\n",
      "apache: accept cod edit agt await compiler dispose allow codep console\n",
      "--------------------------------------------\n",
      "--------------------------------------------\n",
      "api: dispose 1024 django certain duplicate angular actually approach attempt actual\n",
      "--------------------------------------------\n",
      "--------------------------------------------\n",
      "array: 12 appreciate basically dependency always action basic child 100 25\n",
      "--------------------------------------------\n",
      "--------------------------------------------\n",
      "asp: br bar break codeamp components body design android approach ap\n",
      "--------------------------------------------\n",
      "--------------------------------------------\n",
      "audio: domain codelt accept animate capture code boost alloc due divgt\n",
      "--------------------------------------------\n",
      "--------------------------------------------\n",
      "authentication: chrome apply 25 30 buffer crash account case amp decide\n",
      "--------------------------------------------\n",
      "--------------------------------------------\n",
      "bash: appreciate active confuse efficient amount codepre accept css component draw\n",
      "--------------------------------------------\n",
      "--------------------------------------------\n",
      "c: activity boost android 12 describe actually along approach book applications\n",
      "--------------------------------------------\n",
      "--------------------------------------------\n",
      "chrome: completely branch available auto controller device chain bottom box behavior\n",
      "--------------------------------------------\n",
      "--------------------------------------------\n",
      "class: actual anyone codeamp consolelog child bottom csv author browsers continue\n",
      "--------------------------------------------\n",
      "--------------------------------------------\n",
      "cocoa: cannot documentation components directly ajax eg either data 24 catch\n",
      "--------------------------------------------\n",
      "--------------------------------------------\n",
      "code: bottom datetime dataframe advantage col either check divgt convert copy\n",
      "--------------------------------------------\n",
      "--------------------------------------------\n",
      "core: easy course calculate delete compare catch due client boost dependencies\n",
      "--------------------------------------------\n",
      "--------------------------------------------\n",
      "cs: decide application content datetime around 15 completely divgt draw -----\n",
      "--------------------------------------------\n",
      "--------------------------------------------\n",
      "data: course animate development 24 child element deal bean bytes crash\n",
      "--------------------------------------------\n",
      "--------------------------------------------\n",
      "database: buffer appear completely col account drop alt able 1024 easily\n",
      "--------------------------------------------\n",
      "--------------------------------------------\n",
      "date: algorithm behind 18 common 50 32 actual 100 200 access\n",
      "--------------------------------------------\n",
      "--------------------------------------------\n",
      "design: 1024 allow aspnet case codeamp console dynamic def custom display\n",
      "--------------------------------------------\n",
      "--------------------------------------------\n",
      "django: easily directly angular anything case block check dependencies avoid buffer\n",
      "--------------------------------------------\n",
      "--------------------------------------------\n",
      "eclipse: eg commit color develop 20 boost char 00 ajax book\n",
      "--------------------------------------------\n",
      "--------------------------------------------\n",
      "entity: allow cache advance active another build advantage detail change codeamp\n",
      "--------------------------------------------\n",
      "--------------------------------------------\n",
      "event: 12 bottom alloc components branch array api 1000 convert cod\n",
      "--------------------------------------------\n",
      "--------------------------------------------\n",
      "file: android dynamic access choose 10 dataframe date config 18 -1\n",
      "--------------------------------------------\n",
      "--------------------------------------------\n",
      "framework: access dynamically copy cpu button change display app another detail\n",
      "--------------------------------------------\n",
      "--------------------------------------------\n",
      "function: could available context dependency 18 actually col enable div dataframe\n",
      "--------------------------------------------\n",
      "--------------------------------------------\n",
      "git: divgt allow bad apply -1 csv condition actual detail api\n",
      "--------------------------------------------\n",
      "--------------------------------------------\n",
      "google: controller enable active contain capture accord control consolewriteline branch accept\n",
      "--------------------------------------------\n",
      "--------------------------------------------\n",
      "gradle: basic alert constructor course address application database 18 app -1\n",
      "--------------------------------------------\n",
      "--------------------------------------------\n",
      "hibernate: avoid byte cycle controller 1024 day call array alloc case\n",
      "--------------------------------------------\n",
      "--------------------------------------------\n",
      "html: clear bottom codelt apps 50 element encode dialog ----- 1024\n",
      "--------------------------------------------\n",
      "--------------------------------------------\n",
      "http: bar correctly complete animation div clear dispose dataframe 124 address\n",
      "--------------------------------------------\n",
      "--------------------------------------------\n",
      "image: bite contain appreciate center clean 124 bundle css data -gt\n",
      "--------------------------------------------\n",
      "--------------------------------------------\n",
      "interface: 15 continue default cause assume alloc day deal already consolewriteline\n",
      "--------------------------------------------\n",
      "--------------------------------------------\n",
      "io: empty answer app add 12 16 check -gt 32 24\n",
      "--------------------------------------------\n",
      "--------------------------------------------\n",
      "iphone: character -gt answer cannot describe component device deploy 24 32\n",
      "--------------------------------------------\n",
      "--------------------------------------------\n",
      "j: document control close detect db complete container 1000 automatically class\n",
      "--------------------------------------------\n",
      "--------------------------------------------\n",
      "java: although 00 account describe 11 already achieve ajax address agt\n",
      "--------------------------------------------\n",
      "--------------------------------------------\n",
      "javascript: context api constraints box code correctly background async 1024 12\n",
      "--------------------------------------------\n",
      "--------------------------------------------\n",
      "jpa: 15 csv echo best array day decide 24 byte alloc\n",
      "--------------------------------------------\n",
      "--------------------------------------------\n",
      "jquery: 1024 angular applications datetimegt click address 12 25 correctly answer\n",
      "--------------------------------------------\n",
      "--------------------------------------------\n",
      "json: cannot active consider although database -- 15 always 1024 bytes\n",
      "--------------------------------------------\n",
      "--------------------------------------------\n",
      "language: default draw components arguments close control custom 50 30 common\n",
      "--------------------------------------------\n",
      "--------------------------------------------\n",
      "laravel: currently context either download 1000 behind connection compiler button ask\n",
      "--------------------------------------------\n",
      "--------------------------------------------\n",
      "layout: confuse db def cpu char dependency cycle consider best core\n",
      "--------------------------------------------\n",
      "--------------------------------------------\n",
      "learning: 64-bit consolewriteline detail character enable course amount book amp 124\n",
      "--------------------------------------------\n",
      "--------------------------------------------\n",
      "library: bean container eclipse authentication copy differences 64-bit applications app begin\n",
      "--------------------------------------------\n",
      "--------------------------------------------\n",
      "line: 20 cannot eg 10 application complete bottom custom amount achieve\n",
      "--------------------------------------------\n",
      "--------------------------------------------\n",
      "linux: core app div content data dependencies background char -1 consolelog\n",
      "--------------------------------------------\n",
      "--------------------------------------------\n",
      "list: amp day 16 android choose cause accept animate 100 api\n",
      "--------------------------------------------\n",
      "--------------------------------------------\n",
      "machine: child boost def advantage 50 description copy color amp 124\n",
      "--------------------------------------------\n",
      "--------------------------------------------\n",
      "macos: css draw complete components child call click control change client\n",
      "--------------------------------------------\n",
      "--------------------------------------------\n",
      "maven: django depend chrome easy codeamp assembly core ajax account eg\n",
      "--------------------------------------------\n",
      "--------------------------------------------\n",
      "memory: color display disable clear 16 enable compiler append delete django\n",
      "--------------------------------------------\n",
      "--------------------------------------------\n",
      "model: em 50 1024 complete contain configure account allow address else\n",
      "--------------------------------------------\n",
      "--------------------------------------------\n",
      "multithreading: counter 20 category 200 16 color element 64-bit comment eg\n",
      "--------------------------------------------\n",
      "--------------------------------------------\n",
      "mvc: confuse class begin elements design android account detect animate action\n",
      "--------------------------------------------\n",
      "--------------------------------------------\n",
      "mysql: chrome columns 1024 access completely account class block answer able\n",
      "--------------------------------------------\n",
      "--------------------------------------------\n",
      "net: break echo bytes br boost cod ap android 32 bar\n",
      "--------------------------------------------\n",
      "--------------------------------------------\n",
      "node: avoid confuse advance body available drop document course close 1000\n",
      "--------------------------------------------\n",
      "--------------------------------------------\n",
      "numpy: cycle amp block dynamically 100 byte dynamic dependencies dataframe authentication\n",
      "--------------------------------------------\n",
      "--------------------------------------------\n",
      "objective: def design determine drop directly describe build 32 ds eg\n",
      "--------------------------------------------\n",
      "--------------------------------------------\n",
      "optimization: ask 50 ds count devices efficient common begin app avoid\n",
      "--------------------------------------------\n",
      "--------------------------------------------\n",
      "panda: br come django compare 100 authentication async 50 custom 1000\n",
      "--------------------------------------------\n",
      "--------------------------------------------\n",
      "pattern: child color declare allow cause dispose audio codeamp console 64-bit\n",
      "--------------------------------------------\n",
      "--------------------------------------------\n",
      "performance: 18 echo amp bar 100 efficient array draw always differences\n",
      "--------------------------------------------\n",
      "--------------------------------------------\n",
      "php: category bind ajax ask click codestd 1024 codep email determine\n",
      "--------------------------------------------\n",
      "--------------------------------------------\n",
      "processing: apple ask already 24 day br ----- applications datetimegt data\n",
      "--------------------------------------------\n",
      "--------------------------------------------\n",
      "programming: around cpu columns 25 12 close ask actual br due\n",
      "--------------------------------------------\n",
      "--------------------------------------------\n",
      "python: ap df 100 24 along 124 em 10 1000 20\n",
      "--------------------------------------------\n",
      "--------------------------------------------\n",
      "r: directly child body bytes detect consolewriteline accept confuse condition --\n",
      "--------------------------------------------\n",
      "--------------------------------------------\n",
      "rail: deploy document bytes assembly 24 break back active angular attribute\n",
      "--------------------------------------------\n",
      "--------------------------------------------\n",
      "reactjs: device constraints contain ----- deal enable common come 1024 byte\n",
      "--------------------------------------------\n",
      "--------------------------------------------\n",
      "rest: eclipse device dynamic although actually 1024 actual bash auto account\n",
      "--------------------------------------------\n",
      "--------------------------------------------\n",
      "ruby: active ds devices assembly attribute ----- angular base anyone br\n",
      "--------------------------------------------\n",
      "--------------------------------------------\n",
      "security: browsers constructor catch domain description constraints connect 1024 ap difference\n",
      "--------------------------------------------\n",
      "--------------------------------------------\n",
      "server: advance cycle enable available either drop deal ds 11 encode\n",
      "--------------------------------------------\n",
      "--------------------------------------------\n",
      "service: accept arguments development dynamically array directly add account always compile\n",
      "--------------------------------------------\n",
      "--------------------------------------------\n",
      "shell: difference case also article build 10 components amount css achieve\n",
      "--------------------------------------------\n",
      "--------------------------------------------\n",
      "spark: ap await -- audio 100 common back description console allow\n",
      "--------------------------------------------\n",
      "--------------------------------------------\n",
      "spring: complete determine client cycle arguments clean around basic css animate\n",
      "--------------------------------------------\n",
      "--------------------------------------------\n",
      "sql: bool 1024 comment alert client draw accord 11 able effect\n",
      "--------------------------------------------\n",
      "--------------------------------------------\n",
      "string: 10 development directory body data 24 12 clean default 11\n",
      "--------------------------------------------\n",
      "--------------------------------------------\n",
      "studio: 00 display comment -1 case actually automatically currently angular across\n",
      "--------------------------------------------\n",
      "--------------------------------------------\n",
      "swift: 24 col browser clear check char another certificate describe document\n",
      "--------------------------------------------\n",
      "--------------------------------------------\n",
      "testing: edit ask configure double certain 32 change codeamp 18 easy\n",
      "--------------------------------------------\n",
      "--------------------------------------------\n",
      "touch: design either directly ajax device base data config catch 24\n",
      "--------------------------------------------\n",
      "--------------------------------------------\n",
      "type: console bite byte continue empty 100 allow cpu article branch\n",
      "--------------------------------------------\n",
      "--------------------------------------------\n",
      "unit: due double codeamp codelt bitmap 18 change easy ask 32\n",
      "--------------------------------------------\n",
      "--------------------------------------------\n",
      "variable: button cache eg bundle appreciate codepre account close constructor cycle\n",
      "--------------------------------------------\n",
      "--------------------------------------------\n",
      "visual: book case application design comment across codestd angular bar accord\n",
      "--------------------------------------------\n",
      "--------------------------------------------\n",
      "web: encode capture condition algorithm codeamp default dialog codepre django account\n",
      "--------------------------------------------\n",
      "--------------------------------------------\n",
      "window: alloc box components core contain amp duplicate draw bug disable\n",
      "--------------------------------------------\n",
      "--------------------------------------------\n",
      "x: break cpu cannot arguments display enable certificate 10 data 20\n",
      "--------------------------------------------\n",
      "--------------------------------------------\n",
      "xcode: char -gt 64-bit another auto constructor background chain 24 continue\n",
      "--------------------------------------------\n",
      "--------------------------------------------\n",
      "xml: day deal android ----- 100 display date config account 24\n",
      "--------------------------------------------\n"
     ]
    }
   ],
   "source": [
    "print_top10(feature_names, best_model, multilabel_binarizer.classes_)"
   ]
  },
  {
   "cell_type": "code",
   "execution_count": null,
   "id": "60f7eda8",
   "metadata": {},
   "outputs": [],
   "source": []
  },
  {
   "cell_type": "code",
   "execution_count": null,
   "id": "dabcadf7",
   "metadata": {},
   "outputs": [],
   "source": []
  },
  {
   "cell_type": "code",
   "execution_count": null,
   "id": "bdd7800a",
   "metadata": {},
   "outputs": [],
   "source": []
  },
  {
   "cell_type": "code",
   "execution_count": null,
   "id": "e72e3f36",
   "metadata": {},
   "outputs": [],
   "source": [
    "#pip install transformers"
   ]
  },
  {
   "cell_type": "markdown",
   "id": "2ca30ac3",
   "metadata": {},
   "source": [
    "#BERT"
   ]
  },
  {
   "cell_type": "code",
   "execution_count": null,
   "id": "0ea90c44",
   "metadata": {},
   "outputs": [],
   "source": [
    "df1"
   ]
  },
  {
   "cell_type": "code",
   "execution_count": null,
   "id": "72b3fec1",
   "metadata": {},
   "outputs": [],
   "source": [
    "X = df1['full_review']\n",
    "y = df1['Tags'] "
   ]
  },
  {
   "cell_type": "code",
   "execution_count": null,
   "id": "e3e5bc69",
   "metadata": {},
   "outputs": [],
   "source": [
    "multilabel_binarizer = MultiLabelBinarizer()\n",
    "y_bin = multilabel_binarizer.fit_transform(y)"
   ]
  },
  {
   "cell_type": "code",
   "execution_count": null,
   "id": "ad428bbf",
   "metadata": {},
   "outputs": [],
   "source": [
    "from sklearn.model_selection import train_test_split\n",
    "X_train, X_test, y_train, y_test = train_test_split(df1['full_review'],y_bin)\n",
    "X_train.head(4)"
   ]
  },
  {
   "cell_type": "code",
   "execution_count": 126,
   "id": "fba073e6",
   "metadata": {},
   "outputs": [],
   "source": [
    "#pip install -U sentence-transformers"
   ]
  },
  {
   "cell_type": "code",
   "execution_count": 129,
   "id": "9530bf51",
   "metadata": {},
   "outputs": [],
   "source": [
    "#pip install sentence-transformers"
   ]
  },
  {
   "cell_type": "code",
   "execution_count": 130,
   "id": "17b8882e",
   "metadata": {
    "scrolled": false
   },
   "outputs": [
    {
     "data": {
      "application/vnd.jupyter.widget-view+json": {
       "model_id": "cf36ec2503164078af3723048b7ee593",
       "version_major": 2,
       "version_minor": 0
      },
      "text/plain": [
       "Downloading:   0%|          | 0.00/1.18k [00:00<?, ?B/s]"
      ]
     },
     "metadata": {},
     "output_type": "display_data"
    },
    {
     "data": {
      "application/vnd.jupyter.widget-view+json": {
       "model_id": "6eac75ce3fc04f48a8c49b89e4d980e4",
       "version_major": 2,
       "version_minor": 0
      },
      "text/plain": [
       "Downloading:   0%|          | 0.00/190 [00:00<?, ?B/s]"
      ]
     },
     "metadata": {},
     "output_type": "display_data"
    },
    {
     "data": {
      "application/vnd.jupyter.widget-view+json": {
       "model_id": "367dfcac76f74c47a0c15b8c06c01a9f",
       "version_major": 2,
       "version_minor": 0
      },
      "text/plain": [
       "Downloading:   0%|          | 0.00/10.6k [00:00<?, ?B/s]"
      ]
     },
     "metadata": {},
     "output_type": "display_data"
    },
    {
     "data": {
      "application/vnd.jupyter.widget-view+json": {
       "model_id": "1a33878f5fca4b25a9bf48df7745540c",
       "version_major": 2,
       "version_minor": 0
      },
      "text/plain": [
       "Downloading:   0%|          | 0.00/612 [00:00<?, ?B/s]"
      ]
     },
     "metadata": {},
     "output_type": "display_data"
    },
    {
     "data": {
      "application/vnd.jupyter.widget-view+json": {
       "model_id": "ab670bfbb4bf45e681e1a8b2fe516b78",
       "version_major": 2,
       "version_minor": 0
      },
      "text/plain": [
       "Downloading:   0%|          | 0.00/116 [00:00<?, ?B/s]"
      ]
     },
     "metadata": {},
     "output_type": "display_data"
    },
    {
     "data": {
      "application/vnd.jupyter.widget-view+json": {
       "model_id": "3a9b7240b0674acbae784dc469c1b7ac",
       "version_major": 2,
       "version_minor": 0
      },
      "text/plain": [
       "Downloading:   0%|          | 0.00/39.3k [00:00<?, ?B/s]"
      ]
     },
     "metadata": {},
     "output_type": "display_data"
    },
    {
     "data": {
      "application/vnd.jupyter.widget-view+json": {
       "model_id": "4dff4d3c0fed492fbecd7f636feaca9e",
       "version_major": 2,
       "version_minor": 0
      },
      "text/plain": [
       "Downloading:   0%|          | 0.00/90.9M [00:00<?, ?B/s]"
      ]
     },
     "metadata": {},
     "output_type": "display_data"
    },
    {
     "data": {
      "application/vnd.jupyter.widget-view+json": {
       "model_id": "b1481751ba6442bc89710f913c434a83",
       "version_major": 2,
       "version_minor": 0
      },
      "text/plain": [
       "Downloading:   0%|          | 0.00/53.0 [00:00<?, ?B/s]"
      ]
     },
     "metadata": {},
     "output_type": "display_data"
    },
    {
     "data": {
      "application/vnd.jupyter.widget-view+json": {
       "model_id": "4045ff38c0914601b75a301bbe1ce8f9",
       "version_major": 2,
       "version_minor": 0
      },
      "text/plain": [
       "Downloading:   0%|          | 0.00/112 [00:00<?, ?B/s]"
      ]
     },
     "metadata": {},
     "output_type": "display_data"
    },
    {
     "data": {
      "application/vnd.jupyter.widget-view+json": {
       "model_id": "3a00a1a5c73141ab9ddbc1dc28143be0",
       "version_major": 2,
       "version_minor": 0
      },
      "text/plain": [
       "Downloading:   0%|          | 0.00/466k [00:00<?, ?B/s]"
      ]
     },
     "metadata": {},
     "output_type": "display_data"
    },
    {
     "data": {
      "application/vnd.jupyter.widget-view+json": {
       "model_id": "714415a079f649c88d8452a491658d56",
       "version_major": 2,
       "version_minor": 0
      },
      "text/plain": [
       "Downloading:   0%|          | 0.00/350 [00:00<?, ?B/s]"
      ]
     },
     "metadata": {},
     "output_type": "display_data"
    },
    {
     "data": {
      "application/vnd.jupyter.widget-view+json": {
       "model_id": "ee80193f3bca4beea6ae79138bba9a6c",
       "version_major": 2,
       "version_minor": 0
      },
      "text/plain": [
       "Downloading:   0%|          | 0.00/13.2k [00:00<?, ?B/s]"
      ]
     },
     "metadata": {},
     "output_type": "display_data"
    },
    {
     "data": {
      "application/vnd.jupyter.widget-view+json": {
       "model_id": "b1a2048cc2d74616940fea9a5de280d8",
       "version_major": 2,
       "version_minor": 0
      },
      "text/plain": [
       "Downloading:   0%|          | 0.00/232k [00:00<?, ?B/s]"
      ]
     },
     "metadata": {},
     "output_type": "display_data"
    },
    {
     "data": {
      "application/vnd.jupyter.widget-view+json": {
       "model_id": "9befa29ed9744b5f95572782fe679c32",
       "version_major": 2,
       "version_minor": 0
      },
      "text/plain": [
       "Downloading:   0%|          | 0.00/349 [00:00<?, ?B/s]"
      ]
     },
     "metadata": {},
     "output_type": "display_data"
    }
   ],
   "source": [
    "from sentence_transformers import SentenceTransformer\n",
    "model = SentenceTransformer('all-MiniLM-L6-v2')"
   ]
  },
  {
   "cell_type": "code",
   "execution_count": 131,
   "id": "cc816d40",
   "metadata": {},
   "outputs": [
    {
     "name": "stdout",
     "output_type": "stream",
     "text": [
      "There are 47076 different words in your corpus\n",
      "X_pad.shape (2709, 2508)\n"
     ]
    },
    {
     "data": {
      "text/plain": [
       "array([[4.6500e+02, 6.3930e+03, 2.9000e+01, ..., 0.0000e+00, 0.0000e+00,\n",
       "        0.0000e+00],\n",
       "       [1.2400e+02, 1.9600e+02, 2.8300e+02, ..., 0.0000e+00, 0.0000e+00,\n",
       "        0.0000e+00],\n",
       "       [1.3200e+02, 6.4200e+02, 1.0080e+03, ..., 0.0000e+00, 0.0000e+00,\n",
       "        0.0000e+00],\n",
       "       ...,\n",
       "       [9.0000e+00, 1.3060e+03, 1.3020e+03, ..., 0.0000e+00, 0.0000e+00,\n",
       "        0.0000e+00],\n",
       "       [5.3700e+02, 8.0300e+02, 5.2500e+02, ..., 0.0000e+00, 0.0000e+00,\n",
       "        0.0000e+00],\n",
       "       [1.1026e+04, 2.3200e+02, 4.7072e+04, ..., 0.0000e+00, 0.0000e+00,\n",
       "        0.0000e+00]], dtype=float32)"
      ]
     },
     "execution_count": 131,
     "metadata": {},
     "output_type": "execute_result"
    }
   ],
   "source": [
    "import numpy as np\n",
    "from tensorflow.keras.preprocessing.sequence import pad_sequences\n",
    "from tensorflow.keras.preprocessing.text import Tokenizer\n",
    "\n",
    "### Let's create some mock data\n",
    "def get_mock_up_data():\n",
    "    #sentence_1 = 'Deep learning is super easy'\n",
    "    #sentence_2 = 'Deep learning was super bad and too long'\n",
    "    #sentence_3 = 'This is the best lecture of the camp!'\n",
    "\n",
    "    X = df1['full_review']\n",
    "    y = df1['Tags'] \n",
    "\n",
    "    ### Let's tokenize the vocabulary \n",
    "    tk = Tokenizer()\n",
    "    tk.fit_on_texts(X)\n",
    "    vocab_size = len(tk.word_index)\n",
    "    print(f'There are {vocab_size} different words in your corpus')\n",
    "    X_token = tk.texts_to_sequences(X)\n",
    "\n",
    "    ### Pad the inputs\n",
    "    X_pad = pad_sequences(X_token, dtype='float32', padding='post')\n",
    "    \n",
    "    return X_pad, y, vocab_size\n",
    "\n",
    "X_pad, y, vocab_size = get_mock_up_data()\n",
    "print(\"X_pad.shape\", X_pad.shape)\n",
    "X_pad"
   ]
  },
  {
   "cell_type": "code",
   "execution_count": 132,
   "id": "bdf2fdcb",
   "metadata": {},
   "outputs": [],
   "source": [
    "#Our sentences we like to encode\n",
    "sentences = df1['full_review'][0]\n",
    "#Sentences are encoded by calling model.encode()\n",
    "embeddings = model.encode(sentences)"
   ]
  },
  {
   "cell_type": "code",
   "execution_count": 133,
   "id": "44473c6a",
   "metadata": {},
   "outputs": [
    {
     "name": "stdout",
     "output_type": "stream",
     "text": [
      "Sentence: c\n",
      "Embedding: -0.01639581\n",
      "\n",
      "Sentence: o\n",
      "Embedding: -0.026909549\n",
      "\n",
      "Sentence: n\n",
      "Embedding: -0.03448533\n",
      "\n",
      "Sentence: f\n",
      "Embedding: -0.075532\n",
      "\n",
      "Sentence: i\n",
      "Embedding: -0.006381306\n",
      "\n",
      "Sentence: g\n",
      "Embedding: 0.0057583065\n",
      "\n",
      "Sentence: u\n",
      "Embedding: -0.022036685\n",
      "\n",
      "Sentence: r\n",
      "Embedding: 0.047732163\n",
      "\n",
      "Sentence: e\n",
      "Embedding: -0.0456335\n",
      "\n",
      "Sentence:  \n",
      "Embedding: 0.0127770975\n",
      "\n",
      "Sentence: p\n",
      "Embedding: 0.07631387\n",
      "\n",
      "Sentence: y\n",
      "Embedding: -0.012820831\n",
      "\n",
      "Sentence: c\n",
      "Embedding: -0.036627308\n",
      "\n",
      "Sentence: h\n",
      "Embedding: 0.044011027\n",
      "\n",
      "Sentence: a\n",
      "Embedding: 0.0064008865\n",
      "\n",
      "Sentence: r\n",
      "Embedding: 0.050924376\n",
      "\n",
      "Sentence: m\n",
      "Embedding: -0.013882795\n",
      "\n",
      "Sentence:  \n",
      "Embedding: -0.06281846\n",
      "\n",
      "Sentence: r\n",
      "Embedding: -0.01588952\n",
      "\n",
      "Sentence: u\n",
      "Embedding: -0.037054114\n",
      "\n",
      "Sentence: n\n",
      "Embedding: 0.039794143\n",
      "\n",
      "Sentence:  \n",
      "Embedding: 0.025620738\n",
      "\n",
      "Sentence: p\n",
      "Embedding: 0.05667019\n",
      "\n",
      "Sentence: y\n",
      "Embedding: -0.051050853\n",
      "\n",
      "Sentence: i\n",
      "Embedding: -0.036139436\n",
      "\n",
      "Sentence: n\n",
      "Embedding: -0.08284191\n",
      "\n",
      "Sentence: s\n",
      "Embedding: -0.019125743\n",
      "\n",
      "Sentence: t\n",
      "Embedding: 0.030410726\n",
      "\n",
      "Sentence: a\n",
      "Embedding: -0.013140625\n",
      "\n",
      "Sentence: l\n",
      "Embedding: 0.023031563\n",
      "\n",
      "Sentence: l\n",
      "Embedding: 0.06273662\n",
      "\n",
      "Sentence: e\n",
      "Embedding: 0.027393496\n",
      "\n",
      "Sentence: r\n",
      "Embedding: 0.06869417\n",
      "\n",
      "Sentence:  \n",
      "Embedding: -0.02985868\n",
      "\n",
      "Sentence: p\n",
      "Embedding: 0.13424543\n",
      "\n",
      "Sentence: y\n",
      "Embedding: 0.020988695\n",
      "\n",
      "Sentence: e\n",
      "Embedding: -0.013378635\n",
      "\n",
      "Sentence: s\n",
      "Embedding: 0.002423324\n",
      "\n",
      "Sentence:  \n",
      "Embedding: -0.0037178355\n",
      "\n",
      "Sentence: w\n",
      "Embedding: -0.025965616\n",
      "\n",
      "Sentence: a\n",
      "Embedding: -0.017390722\n",
      "\n",
      "Sentence: n\n",
      "Embedding: -0.033093143\n",
      "\n",
      "Sentence: t\n",
      "Embedding: -0.07567623\n",
      "\n",
      "Sentence:  \n",
      "Embedding: 0.058378354\n",
      "\n",
      "Sentence: c\n",
      "Embedding: 0.010907073\n",
      "\n",
      "Sentence: r\n",
      "Embedding: -0.06558197\n",
      "\n",
      "Sentence: e\n",
      "Embedding: -0.060198285\n",
      "\n",
      "Sentence: a\n",
      "Embedding: -0.04272476\n",
      "\n",
      "Sentence: t\n",
      "Embedding: 0.033448312\n",
      "\n",
      "Sentence: e\n",
      "Embedding: -0.078162156\n",
      "\n",
      "Sentence:  \n",
      "Embedding: -0.061775107\n",
      "\n",
      "Sentence: r\n",
      "Embedding: 0.05269994\n",
      "\n",
      "Sentence: u\n",
      "Embedding: -0.02763123\n",
      "\n",
      "Sentence: n\n",
      "Embedding: -0.11690508\n",
      "\n",
      "Sentence:  \n",
      "Embedding: -0.007209253\n",
      "\n",
      "Sentence: c\n",
      "Embedding: 0.017594293\n",
      "\n",
      "Sentence: o\n",
      "Embedding: 0.0071566175\n",
      "\n",
      "Sentence: n\n",
      "Embedding: 0.05627292\n",
      "\n",
      "Sentence: f\n",
      "Embedding: 0.032348465\n",
      "\n",
      "Sentence: i\n",
      "Embedding: -0.008612389\n",
      "\n",
      "Sentence: g\n",
      "Embedding: 0.03335544\n",
      "\n",
      "Sentence: u\n",
      "Embedding: 0.0053028255\n",
      "\n",
      "Sentence: r\n",
      "Embedding: 0.00215724\n",
      "\n",
      "Sentence: a\n",
      "Embedding: 0.007323845\n",
      "\n",
      "Sentence: t\n",
      "Embedding: -0.046496466\n",
      "\n",
      "Sentence: i\n",
      "Embedding: 0.06859351\n",
      "\n",
      "Sentence: o\n",
      "Embedding: 0.016874509\n",
      "\n",
      "Sentence: n\n",
      "Embedding: -0.039519075\n",
      "\n",
      "Sentence:  \n",
      "Embedding: 0.14907178\n",
      "\n",
      "Sentence: p\n",
      "Embedding: -0.06013592\n",
      "\n",
      "Sentence: y\n",
      "Embedding: -0.10892273\n",
      "\n",
      "Sentence: c\n",
      "Embedding: -0.02041885\n",
      "\n",
      "Sentence: h\n",
      "Embedding: 0.011494299\n",
      "\n",
      "Sentence: a\n",
      "Embedding: 0.015593436\n",
      "\n",
      "Sentence: r\n",
      "Embedding: 0.004034236\n",
      "\n",
      "Sentence: m\n",
      "Embedding: -0.067290284\n",
      "\n",
      "Sentence:  \n",
      "Embedding: 0.029484494\n",
      "\n",
      "Sentence: r\n",
      "Embedding: 0.02309893\n",
      "\n",
      "Sentence: u\n",
      "Embedding: -0.11148913\n",
      "\n",
      "Sentence: n\n",
      "Embedding: -0.04057072\n",
      "\n",
      "Sentence:  \n",
      "Embedding: -0.054268923\n",
      "\n",
      "Sentence: p\n",
      "Embedding: -0.0054220753\n",
      "\n",
      "Sentence: y\n",
      "Embedding: 0.013488496\n",
      "\n",
      "Sentence: i\n",
      "Embedding: 0.06446431\n",
      "\n",
      "Sentence: n\n",
      "Embedding: 0.048715133\n",
      "\n",
      "Sentence: s\n",
      "Embedding: -0.02149991\n",
      "\n",
      "Sentence: t\n",
      "Embedding: -0.023080895\n",
      "\n",
      "Sentence: a\n",
      "Embedding: 0.013139458\n",
      "\n",
      "Sentence: l\n",
      "Embedding: 0.030482678\n",
      "\n",
      "Sentence: l\n",
      "Embedding: -0.006848921\n",
      "\n",
      "Sentence: e\n",
      "Embedding: -0.003539051\n",
      "\n",
      "Sentence: r\n",
      "Embedding: -0.09616768\n",
      "\n",
      "Sentence:  \n",
      "Embedding: -0.055322398\n",
      "\n",
      "Sentence: g\n",
      "Embedding: -0.02432989\n",
      "\n",
      "Sentence: e\n",
      "Embedding: 0.071756475\n",
      "\n",
      "Sentence: t\n",
      "Embedding: 0.003636646\n",
      "\n",
      "Sentence:  \n",
      "Embedding: -0.021080907\n",
      "\n",
      "Sentence: e\n",
      "Embedding: 0.013895034\n",
      "\n",
      "Sentence: x\n",
      "Embedding: -0.07718675\n",
      "\n",
      "Sentence: e\n",
      "Embedding: -0.007209291\n",
      "\n",
      "Sentence: c\n",
      "Embedding: -0.04069001\n",
      "\n",
      "Sentence: u\n",
      "Embedding: -0.112107754\n",
      "\n",
      "Sentence: t\n",
      "Embedding: 0.054813698\n",
      "\n",
      "Sentence: a\n",
      "Embedding: -0.02213661\n",
      "\n",
      "Sentence: b\n",
      "Embedding: 0.056752115\n",
      "\n",
      "Sentence: l\n",
      "Embedding: 0.068160094\n",
      "\n",
      "Sentence: e\n",
      "Embedding: 0.13003007\n",
      "\n",
      "Sentence:  \n",
      "Embedding: -0.026676873\n",
      "\n",
      "Sentence: a\n",
      "Embedding: -0.026794383\n",
      "\n",
      "Sentence: c\n",
      "Embedding: -0.016338728\n",
      "\n",
      "Sentence: c\n",
      "Embedding: -0.08379984\n",
      "\n",
      "Sentence: o\n",
      "Embedding: -0.041844472\n",
      "\n",
      "Sentence: r\n",
      "Embedding: 0.023953008\n",
      "\n",
      "Sentence: d\n",
      "Embedding: -0.0924283\n",
      "\n",
      "Sentence:  \n",
      "Embedding: 0.012158913\n",
      "\n",
      "Sentence: h\n",
      "Embedding: 0.038634405\n",
      "\n",
      "Sentence: r\n",
      "Embedding: -0.035686433\n",
      "\n",
      "Sentence: e\n",
      "Embedding: 0.09767944\n",
      "\n",
      "Sentence: f\n",
      "Embedding: 0.02421616\n",
      "\n",
      "Sentence:  \n",
      "Embedding: 0.01950323\n",
      "\n",
      "Sentence: h\n",
      "Embedding: 0.021210706\n",
      "\n",
      "Sentence: t\n",
      "Embedding: 0.04582121\n",
      "\n",
      "Sentence: t\n",
      "Embedding: -0.0007715833\n",
      "\n",
      "Sentence: p\n",
      "Embedding: -0.039142355\n",
      "\n",
      "Sentence: s\n",
      "Embedding: -0.014301444\n",
      "\n",
      "Sentence: p\n",
      "Embedding: -0.021549158\n",
      "\n",
      "Sentence: y\n",
      "Embedding: 0.0041291756\n",
      "\n",
      "Sentence: t\n",
      "Embedding: 2.7013736e-32\n",
      "\n",
      "Sentence: h\n",
      "Embedding: 0.0069467523\n",
      "\n",
      "Sentence: o\n",
      "Embedding: -0.002323684\n",
      "\n",
      "Sentence: n\n",
      "Embedding: 0.037033852\n",
      "\n",
      "Sentence: h\n",
      "Embedding: 0.02512851\n",
      "\n",
      "Sentence: o\n",
      "Embedding: 0.009625368\n",
      "\n",
      "Sentence: s\n",
      "Embedding: -0.060764186\n",
      "\n",
      "Sentence: t\n",
      "Embedding: 0.05108907\n",
      "\n",
      "Sentence: e\n",
      "Embedding: -0.008430388\n",
      "\n",
      "Sentence: d\n",
      "Embedding: -0.041761935\n",
      "\n",
      "Sentence: o\n",
      "Embedding: -0.009486207\n",
      "\n",
      "Sentence: r\n",
      "Embedding: -0.08963734\n",
      "\n",
      "Sentence: g\n",
      "Embedding: -0.05251482\n",
      "\n",
      "Sentence: p\n",
      "Embedding: -0.05871346\n",
      "\n",
      "Sentence: y\n",
      "Embedding: 0.12221834\n",
      "\n",
      "Sentence: i\n",
      "Embedding: -0.044439185\n",
      "\n",
      "Sentence: n\n",
      "Embedding: -0.08419366\n",
      "\n",
      "Sentence: s\n",
      "Embedding: -0.019854022\n",
      "\n",
      "Sentence: t\n",
      "Embedding: 0.077888146\n",
      "\n",
      "Sentence: a\n",
      "Embedding: 0.033522975\n",
      "\n",
      "Sentence: l\n",
      "Embedding: -0.025003944\n",
      "\n",
      "Sentence: l\n",
      "Embedding: 0.047449425\n",
      "\n",
      "Sentence: e\n",
      "Embedding: -0.031837683\n",
      "\n",
      "Sentence: r\n",
      "Embedding: -0.032523114\n",
      "\n",
      "Sentence: i\n",
      "Embedding: -0.016188396\n",
      "\n",
      "Sentence: n\n",
      "Embedding: 0.028166613\n",
      "\n",
      "Sentence: s\n",
      "Embedding: 0.012228202\n",
      "\n",
      "Sentence: t\n",
      "Embedding: 0.05598747\n",
      "\n",
      "Sentence: a\n",
      "Embedding: 0.029814022\n",
      "\n",
      "Sentence: l\n",
      "Embedding: 0.05154182\n",
      "\n",
      "Sentence: l\n",
      "Embedding: 0.0045246123\n",
      "\n",
      "Sentence: e\n",
      "Embedding: -0.08437684\n",
      "\n",
      "Sentence: d\n",
      "Embedding: -0.03341105\n",
      "\n",
      "Sentence: -\n",
      "Embedding: -0.08035224\n",
      "\n",
      "Sentence: c\n",
      "Embedding: -0.06389341\n",
      "\n",
      "Sentence: o\n",
      "Embedding: -0.00665342\n",
      "\n",
      "Sentence: m\n",
      "Embedding: -0.034443513\n",
      "\n",
      "Sentence: m\n",
      "Embedding: -0.01935654\n",
      "\n",
      "Sentence: a\n",
      "Embedding: 0.005160908\n",
      "\n",
      "Sentence: n\n",
      "Embedding: 0.04104406\n",
      "\n",
      "Sentence: d\n",
      "Embedding: 0.012614066\n",
      "\n",
      "Sentence: s\n",
      "Embedding: -0.039169837\n",
      "\n",
      "Sentence:  \n",
      "Embedding: 0.057143874\n",
      "\n",
      "Sentence: r\n",
      "Embedding: -0.065862484\n",
      "\n",
      "Sentence: e\n",
      "Embedding: -0.027753424\n",
      "\n",
      "Sentence: l\n",
      "Embedding: 0.08433786\n",
      "\n",
      "Sentence:  \n",
      "Embedding: 0.032314446\n",
      "\n",
      "Sentence: n\n",
      "Embedding: -0.06401995\n",
      "\n",
      "Sentence: o\n",
      "Embedding: 0.08962657\n",
      "\n",
      "Sentence: r\n",
      "Embedding: 0.040705487\n",
      "\n",
      "Sentence: e\n",
      "Embedding: 0.08304318\n",
      "\n",
      "Sentence: f\n",
      "Embedding: -0.03382891\n",
      "\n",
      "Sentence: e\n",
      "Embedding: -0.04115344\n",
      "\n",
      "Sentence: r\n",
      "Embedding: 0.055833243\n",
      "\n",
      "Sentence: r\n",
      "Embedding: 0.095544435\n",
      "\n",
      "Sentence: e\n",
      "Embedding: -0.07933507\n",
      "\n",
      "Sentence: r\n",
      "Embedding: -0.01002951\n",
      "\n",
      "Sentence:  \n",
      "Embedding: -0.009485768\n",
      "\n",
      "Sentence: p\n",
      "Embedding: -0.02094084\n",
      "\n",
      "Sentence: y\n",
      "Embedding: 0.056183044\n",
      "\n",
      "Sentence: i\n",
      "Embedding: -0.05861703\n",
      "\n",
      "Sentence: n\n",
      "Embedding: 0.040326994\n",
      "\n",
      "Sentence: s\n",
      "Embedding: -0.00581768\n",
      "\n",
      "Sentence: t\n",
      "Embedding: 0.014272309\n",
      "\n",
      "Sentence: a\n",
      "Embedding: -0.013519633\n",
      "\n",
      "Sentence: l\n",
      "Embedding: 0.049446236\n",
      "\n",
      "Sentence: l\n",
      "Embedding: -0.104036115\n",
      "\n",
      "Sentence: e\n",
      "Embedding: -0.016808633\n",
      "\n",
      "Sentence: r\n",
      "Embedding: 0.019883843\n",
      "\n",
      "Sentence:  \n",
      "Embedding: 0.0009464493\n",
      "\n",
      "Sentence: d\n",
      "Embedding: 0.06320236\n",
      "\n",
      "Sentence: o\n",
      "Embedding: -0.062114\n",
      "\n",
      "Sentence: c\n",
      "Embedding: -0.014518859\n",
      "\n",
      "Sentence: u\n",
      "Embedding: 0.0027922036\n",
      "\n",
      "Sentence: m\n",
      "Embedding: 0.042685505\n",
      "\n",
      "Sentence: e\n",
      "Embedding: 0.063173726\n",
      "\n",
      "Sentence: n\n",
      "Embedding: -0.010039746\n",
      "\n",
      "Sentence: t\n",
      "Embedding: 0.023203092\n",
      "\n",
      "Sentence: a\n",
      "Embedding: -0.013779083\n",
      "\n",
      "Sentence: t\n",
      "Embedding: -0.089062795\n",
      "\n",
      "Sentence: i\n",
      "Embedding: 0.007956936\n",
      "\n",
      "Sentence: o\n",
      "Embedding: -0.05249196\n",
      "\n",
      "Sentence: n\n",
      "Embedding: -0.020063816\n",
      "\n",
      "Sentence: a\n",
      "Embedding: -0.058113076\n",
      "\n",
      "Sentence:  \n",
      "Embedding: -0.08351041\n",
      "\n",
      "Sentence: a\n",
      "Embedding: 0.010601806\n",
      "\n",
      "Sentence: b\n",
      "Embedding: -0.0013860293\n",
      "\n",
      "Sentence: l\n",
      "Embedding: 0.07305382\n",
      "\n",
      "Sentence: e\n",
      "Embedding: 0.022929369\n",
      "\n",
      "Sentence:  \n",
      "Embedding: 0.011256448\n",
      "\n",
      "Sentence: l\n",
      "Embedding: -0.028758673\n",
      "\n",
      "Sentence: o\n",
      "Embedding: 0.01341902\n",
      "\n",
      "Sentence: c\n",
      "Embedding: -0.073482215\n",
      "\n",
      "Sentence: a\n",
      "Embedding: 0.026426582\n",
      "\n",
      "Sentence: t\n",
      "Embedding: 0.0072653326\n",
      "\n",
      "Sentence: e\n",
      "Embedding: -0.033934653\n",
      "\n",
      "Sentence:  \n",
      "Embedding: -2.5141188e-32\n",
      "\n",
      "Sentence: p\n",
      "Embedding: 0.086820014\n",
      "\n",
      "Sentence: y\n",
      "Embedding: 0.07053748\n",
      "\n",
      "Sentence: t\n",
      "Embedding: 0.047906645\n",
      "\n",
      "Sentence: h\n",
      "Embedding: -0.045930102\n",
      "\n",
      "Sentence: o\n",
      "Embedding: -0.022621108\n",
      "\n",
      "Sentence: n\n",
      "Embedding: -0.027671538\n",
      "\n",
      "Sentence:  \n",
      "Embedding: 0.0044518085\n",
      "\n",
      "Sentence: s\n",
      "Embedding: -0.043936733\n",
      "\n",
      "Sentence: c\n",
      "Embedding: 0.015997626\n",
      "\n",
      "Sentence: r\n",
      "Embedding: 0.0076643084\n",
      "\n",
      "Sentence: i\n",
      "Embedding: 0.020358207\n",
      "\n",
      "Sentence: p\n",
      "Embedding: 0.010866163\n",
      "\n",
      "Sentence: t\n",
      "Embedding: -0.004410608\n",
      "\n",
      "Sentence:  \n",
      "Embedding: -0.06311416\n",
      "\n",
      "Sentence: c\n",
      "Embedding: -0.03857198\n",
      "\n",
      "Sentence: a\n",
      "Embedding: 0.1406595\n",
      "\n",
      "Sentence: l\n",
      "Embedding: -0.022635214\n",
      "\n",
      "Sentence: l\n",
      "Embedding: 0.04502549\n",
      "\n",
      "Sentence:  \n",
      "Embedding: 0.04763915\n",
      "\n",
      "Sentence: c\n",
      "Embedding: 0.04732114\n",
      "\n",
      "Sentence: o\n",
      "Embedding: -0.057675183\n",
      "\n",
      "Sentence: d\n",
      "Embedding: 0.031728324\n",
      "\n",
      "Sentence: e\n",
      "Embedding: -0.044310164\n",
      "\n",
      "Sentence: p\n",
      "Embedding: 0.022833923\n",
      "\n",
      "Sentence: y\n",
      "Embedding: -0.08155722\n",
      "\n",
      "Sentence: i\n",
      "Embedding: 0.004685915\n",
      "\n",
      "Sentence: n\n",
      "Embedding: 0.061575435\n",
      "\n",
      "Sentence: s\n",
      "Embedding: 0.030614905\n",
      "\n",
      "Sentence: t\n",
      "Embedding: 0.005342363\n",
      "\n",
      "Sentence: a\n",
      "Embedding: 0.054858036\n",
      "\n",
      "Sentence: l\n",
      "Embedding: 0.016616283\n",
      "\n",
      "Sentence: l\n",
      "Embedding: 0.07671002\n",
      "\n",
      "Sentence: e\n",
      "Embedding: -0.1619013\n",
      "\n",
      "Sentence: r\n",
      "Embedding: 0.06496653\n",
      "\n",
      "Sentence: -\n",
      "Embedding: -0.026412701\n",
      "\n",
      "Sentence: f\n",
      "Embedding: 0.022455636\n",
      "\n",
      "Sentence: o\n",
      "Embedding: 0.044070926\n",
      "\n",
      "Sentence: l\n",
      "Embedding: -0.026498746\n",
      "\n",
      "Sentence: d\n",
      "Embedding: -0.0600541\n",
      "\n",
      "Sentence: e\n",
      "Embedding: -0.0073344493\n",
      "\n",
      "Sentence: r\n",
      "Embedding: 0.11455399\n",
      "\n",
      "Sentence: p\n",
      "Embedding: -0.0016687368\n",
      "\n",
      "Sentence: y\n",
      "Embedding: -0.08688421\n",
      "\n",
      "Sentence: i\n",
      "Embedding: 0.021420138\n",
      "\n",
      "Sentence: n\n",
      "Embedding: 0.02585973\n",
      "\n",
      "Sentence: s\n",
      "Embedding: 0.001439132\n",
      "\n",
      "Sentence: t\n",
      "Embedding: 0.03033429\n",
      "\n",
      "Sentence: a\n",
      "Embedding: -0.07303186\n",
      "\n",
      "Sentence: l\n",
      "Embedding: -0.0643703\n",
      "\n",
      "Sentence: l\n",
      "Embedding: -0.072655335\n",
      "\n",
      "Sentence: e\n",
      "Embedding: 0.0036922544\n",
      "\n",
      "Sentence: r\n",
      "Embedding: 0.06524326\n",
      "\n",
      "Sentence: p\n",
      "Embedding: 0.0069879987\n",
      "\n",
      "Sentence: y\n",
      "Embedding: 0.0150082195\n",
      "\n",
      "Sentence: c\n",
      "Embedding: -0.016439231\n",
      "\n",
      "Sentence: o\n",
      "Embedding: 0.02873538\n",
      "\n",
      "Sentence: d\n",
      "Embedding: 0.106122345\n",
      "\n",
      "Sentence: e\n",
      "Embedding: 0.02939986\n",
      "\n",
      "Sentence:  \n",
      "Embedding: -0.07357097\n",
      "\n",
      "Sentence: i\n",
      "Embedding: -0.019476827\n",
      "\n",
      "Sentence: n\n",
      "Embedding: -0.0041823955\n",
      "\n",
      "Sentence: s\n",
      "Embedding: -0.0061511514\n",
      "\n",
      "Sentence: t\n",
      "Embedding: -0.006354375\n",
      "\n",
      "Sentence: a\n",
      "Embedding: -0.058926567\n",
      "\n",
      "Sentence: l\n",
      "Embedding: -0.022290835\n",
      "\n",
      "Sentence: l\n",
      "Embedding: -0.02672992\n",
      "\n",
      "Sentence: a\n",
      "Embedding: -0.062302474\n",
      "\n",
      "Sentence: t\n"
     ]
    },
    {
     "name": "stdout",
     "output_type": "stream",
     "text": [
      "Embedding: 0.07524494\n",
      "\n",
      "Sentence: i\n",
      "Embedding: -0.09096139\n",
      "\n",
      "Sentence: o\n",
      "Embedding: -0.024999563\n",
      "\n",
      "Sentence: n\n",
      "Embedding: -0.07260397\n",
      "\n",
      "Sentence:  \n",
      "Embedding: 0.01110163\n",
      "\n",
      "Sentence: l\n",
      "Embedding: 0.02434156\n",
      "\n",
      "Sentence: o\n",
      "Embedding: 0.0012773735\n",
      "\n",
      "Sentence: o\n",
      "Embedding: -0.02861376\n",
      "\n",
      "Sentence: k\n",
      "Embedding: 0.07033701\n",
      "\n",
      "Sentence:  \n",
      "Embedding: -0.026647024\n",
      "\n",
      "Sentence: c\n",
      "Embedding: -0.071690366\n",
      "\n",
      "Sentence: a\n",
      "Embedding: -0.040071703\n",
      "\n",
      "Sentence: r\n",
      "Embedding: 0.03594465\n",
      "\n",
      "Sentence: e\n",
      "Embedding: 0.03214002\n",
      "\n",
      "Sentence: f\n",
      "Embedding: -0.08770378\n",
      "\n",
      "Sentence: u\n",
      "Embedding: -0.022259498\n",
      "\n",
      "Sentence: l\n",
      "Embedding: 0.036352858\n",
      "\n",
      "Sentence: l\n",
      "Embedding: -0.15518866\n",
      "\n",
      "Sentence: y\n",
      "Embedding: -0.037788842\n",
      "\n",
      "Sentence:  \n",
      "Embedding: 0.006891322\n",
      "\n",
      "Sentence: f\n",
      "Embedding: 0.0015702624\n",
      "\n",
      "Sentence: i\n",
      "Embedding: 0.012528122\n",
      "\n",
      "Sentence: n\n",
      "Embedding: -0.06543968\n",
      "\n",
      "Sentence: d\n",
      "Embedding: -0.029892052\n",
      "\n",
      "Sentence:  \n",
      "Embedding: 0.02128338\n",
      "\n",
      "Sentence: o\n",
      "Embedding: 0.09655971\n",
      "\n",
      "Sentence: n\n",
      "Embedding: 0.053612713\n",
      "\n",
      "Sentence: e\n",
      "Embedding: 0.06373798\n",
      "\n",
      "Sentence:  \n",
      "Embedding: -7.752429e-08\n",
      "\n",
      "Sentence: n\n",
      "Embedding: 0.043251343\n",
      "\n",
      "Sentence: a\n",
      "Embedding: -0.045820754\n",
      "\n",
      "Sentence: m\n",
      "Embedding: 0.03878196\n",
      "\n",
      "Sentence: e\n",
      "Embedding: 0.042357877\n",
      "\n",
      "Sentence:  \n",
      "Embedding: 0.06112882\n",
      "\n",
      "Sentence: c\n",
      "Embedding: 0.055718563\n",
      "\n",
      "Sentence: o\n",
      "Embedding: -0.0011715522\n",
      "\n",
      "Sentence: d\n",
      "Embedding: 0.019856554\n",
      "\n",
      "Sentence: e\n",
      "Embedding: -0.05266579\n",
      "\n",
      "Sentence: p\n",
      "Embedding: -0.03358609\n",
      "\n",
      "Sentence: y\n",
      "Embedding: -0.023892235\n",
      "\n",
      "Sentence: i\n",
      "Embedding: 0.02524573\n",
      "\n",
      "Sentence: n\n",
      "Embedding: -0.13120443\n",
      "\n",
      "Sentence: s\n",
      "Embedding: 0.06089381\n",
      "\n",
      "Sentence: t\n",
      "Embedding: -0.029307023\n",
      "\n",
      "Sentence: a\n",
      "Embedding: 0.071856715\n",
      "\n",
      "Sentence: l\n",
      "Embedding: -0.080054544\n",
      "\n",
      "Sentence: l\n",
      "Embedding: 0.09642384\n",
      "\n",
      "Sentence: e\n",
      "Embedding: 0.06572123\n",
      "\n",
      "Sentence: r\n",
      "Embedding: -0.12989594\n",
      "\n",
      "Sentence: -\n",
      "Embedding: -0.013312279\n",
      "\n",
      "Sentence: f\n",
      "Embedding: -0.021705922\n",
      "\n",
      "Sentence: o\n",
      "Embedding: -0.02391615\n",
      "\n",
      "Sentence: l\n",
      "Embedding: 0.042808805\n",
      "\n",
      "Sentence: d\n",
      "Embedding: 0.04249865\n",
      "\n",
      "Sentence: e\n",
      "Embedding: 0.01512542\n",
      "\n",
      "Sentence: r\n",
      "Embedding: 0.028062688\n",
      "\n",
      "Sentence: m\n",
      "Embedding: 0.02014596\n",
      "\n",
      "Sentence: a\n",
      "Embedding: -0.021383928\n",
      "\n",
      "Sentence: i\n",
      "Embedding: 0.027307631\n",
      "\n",
      "Sentence: n\n",
      "Embedding: 0.09116611\n",
      "\n",
      "Sentence: p\n",
      "Embedding: -0.036384538\n",
      "\n",
      "Sentence: y\n",
      "Embedding: -0.028825829\n",
      "\n",
      "Sentence: c\n",
      "Embedding: -0.022403944\n",
      "\n",
      "Sentence: o\n",
      "Embedding: 0.0726606\n",
      "\n",
      "Sentence: d\n",
      "Embedding: 0.00385675\n",
      "\n",
      "Sentence: e\n",
      "Embedding: -0.046475817\n",
      "\n",
      "Sentence:  \n",
      "Embedding: 0.0023582103\n",
      "\n",
      "Sentence: l\n",
      "Embedding: 0.05901064\n",
      "\n",
      "Sentence: t\n",
      "Embedding: -0.08006646\n",
      "\n",
      "Sentence:  \n",
      "Embedding: -0.04609512\n",
      "\n",
      "Sentence: -\n",
      "Embedding: 0.09889807\n",
      "\n",
      "Sentence: -\n",
      "Embedding: 0.018320542\n",
      "\n",
      "Sentence:  \n",
      "Embedding: -0.041517142\n",
      "\n",
      "Sentence: w\n",
      "Embedding: 0.030877681\n",
      "\n",
      "Sentence: i\n",
      "Embedding: -0.040769577\n",
      "\n",
      "Sentence: l\n",
      "Embedding: -0.031163096\n",
      "\n",
      "Sentence: d\n",
      "Embedding: 0.039366342\n",
      "\n",
      "Sentence:  \n",
      "Embedding: -0.025275402\n",
      "\n",
      "Sentence: g\n",
      "Embedding: -0.06623445\n",
      "\n",
      "Sentence: u\n",
      "Embedding: 0.060178466\n",
      "\n",
      "Sentence: e\n",
      "Embedding: 0.03144699\n",
      "\n",
      "Sentence: s\n",
      "Embedding: -0.046422552\n",
      "\n",
      "Sentence: s\n",
      "Embedding: 0.013502407\n",
      "\n",
      "Sentence:  \n",
      "Embedding: -0.017095048\n",
      "\n",
      "Sentence: s\n",
      "Embedding: 0.09542735\n",
      "\n",
      "Sentence: e\n",
      "Embedding: -0.06837777\n",
      "\n",
      "Sentence: t\n",
      "Embedding: 0.009800841\n",
      "\n",
      "Sentence:  \n",
      "Embedding: 0.0055823345\n",
      "\n",
      "Sentence: r\n",
      "Embedding: -0.03918049\n",
      "\n",
      "Sentence: u\n",
      "Embedding: -0.009547226\n",
      "\n",
      "Sentence: n\n",
      "Embedding: -0.0032874753\n",
      "\n",
      "Sentence:  \n",
      "Embedding: 0.050136056\n",
      "\n",
      "Sentence: c\n",
      "Embedding: -0.08583821\n",
      "\n"
     ]
    }
   ],
   "source": [
    "#Print the embeddings\n",
    "for sentence, embedding in zip(sentences, embeddings):\n",
    "    print(\"Sentence:\", sentence)\n",
    "    print(\"Embedding:\", embedding)\n",
    "    print(\"\")"
   ]
  },
  {
   "cell_type": "code",
   "execution_count": 134,
   "id": "755524fb",
   "metadata": {},
   "outputs": [],
   "source": [
    "#pip install -U sentence-transformers"
   ]
  },
  {
   "cell_type": "code",
   "execution_count": 135,
   "id": "e80873fb",
   "metadata": {},
   "outputs": [],
   "source": [
    "#pip install ipywidgets==7.4.2"
   ]
  },
  {
   "cell_type": "code",
   "execution_count": 136,
   "id": "3f3350ba",
   "metadata": {},
   "outputs": [],
   "source": [
    "#pip install ipywidgets --user"
   ]
  },
  {
   "cell_type": "code",
   "execution_count": 137,
   "id": "839fe7bb",
   "metadata": {},
   "outputs": [],
   "source": [
    "#pip install ipywidgets"
   ]
  },
  {
   "cell_type": "code",
   "execution_count": 138,
   "id": "49fc09aa",
   "metadata": {},
   "outputs": [],
   "source": [
    "#pip install widgetsnbextension"
   ]
  },
  {
   "cell_type": "code",
   "execution_count": 139,
   "id": "9fe0e219",
   "metadata": {},
   "outputs": [],
   "source": [
    "X = df1['full_review']\n",
    "y = df1['Tags']"
   ]
  },
  {
   "cell_type": "code",
   "execution_count": 140,
   "id": "b08ea693",
   "metadata": {},
   "outputs": [],
   "source": [
    "multilabel_binarizer = MultiLabelBinarizer()\n",
    "y_bin = multilabel_binarizer.fit_transform(y)"
   ]
  },
  {
   "cell_type": "markdown",
   "id": "c292fb92",
   "metadata": {},
   "source": [
    "# BERT"
   ]
  },
  {
   "cell_type": "code",
   "execution_count": null,
   "id": "6c6b41e5",
   "metadata": {},
   "outputs": [],
   "source": []
  },
  {
   "cell_type": "code",
   "execution_count": 141,
   "id": "288683ff",
   "metadata": {},
   "outputs": [],
   "source": [
    "import tensorflow as tf\n",
    "# import tensorflow_hub as hub\n",
    "import tensorflow.keras\n",
    "from tensorflow.keras import backend as K\n",
    "\n",
    "from tensorflow.keras.preprocessing.text import Tokenizer\n",
    "from tensorflow.keras.preprocessing.sequence import pad_sequences\n",
    "from tensorflow.keras import metrics as kmetrics\n",
    "from tensorflow.keras.layers import *\n",
    "from tensorflow.keras.models import Model\n",
    "\n",
    "# Bert\n",
    "import os\n",
    "import transformers\n",
    "from transformers import *\n",
    "\n",
    "os.environ[\"TF_KERAS\"]='1'"
   ]
  },
  {
   "cell_type": "code",
   "execution_count": 142,
   "id": "c7fdcc6e",
   "metadata": {},
   "outputs": [
    {
     "name": "stdout",
     "output_type": "stream",
     "text": [
      "2.7.0\n",
      "2.7.0\n",
      "Num GPUs Available:  0\n",
      "True\n"
     ]
    }
   ],
   "source": [
    "print(tf.__version__)\n",
    "print(tensorflow.__version__)\n",
    "print(\"Num GPUs Available: \", len(tf.config.experimental.list_physical_devices('GPU')))\n",
    "print(tf.test.is_built_with_cuda())"
   ]
  },
  {
   "cell_type": "markdown",
   "id": "91caaddd",
   "metadata": {},
   "source": [
    "## Fonctions communes"
   ]
  },
  {
   "cell_type": "code",
   "execution_count": 143,
   "id": "1aa7fafd",
   "metadata": {},
   "outputs": [],
   "source": [
    "# Fonction de préparation des sentences\n",
    "def bert_inp_fct(sentences, bert_tokenizer, max_length) :\n",
    "    input_ids=[]\n",
    "    token_type_ids = []\n",
    "    attention_mask=[]\n",
    "    bert_inp_tot = []\n",
    "\n",
    "    for sent in sentences:\n",
    "        bert_inp = bert_tokenizer.encode_plus(sent,\n",
    "                                              add_special_tokens = True,\n",
    "                                              max_length = max_length,\n",
    "                                              padding='max_length',\n",
    "                                              return_attention_mask = True, \n",
    "                                              return_token_type_ids=True,\n",
    "                                              truncation=True,\n",
    "                                              return_tensors=\"tf\")\n",
    "    \n",
    "        input_ids.append(bert_inp['input_ids'][0])\n",
    "        token_type_ids.append(bert_inp['token_type_ids'][0])\n",
    "        attention_mask.append(bert_inp['attention_mask'][0])\n",
    "        bert_inp_tot.append((bert_inp['input_ids'][0], \n",
    "                             bert_inp['token_type_ids'][0], \n",
    "                             bert_inp['attention_mask'][0]))\n",
    "\n",
    "    input_ids = np.asarray(input_ids)\n",
    "    token_type_ids = np.asarray(token_type_ids)\n",
    "    attention_mask = np.array(attention_mask)\n",
    "    \n",
    "    return input_ids, token_type_ids, attention_mask, bert_inp_tot\n",
    "    \n",
    "\n",
    "# Fonction de création des features\n",
    "def feature_BERT_fct(model, model_type, sentences, max_length, b_size, mode='HF') :\n",
    "    batch_size = b_size\n",
    "    batch_size_pred = b_size\n",
    "    bert_tokenizer = AutoTokenizer.from_pretrained(model_type)\n",
    "    time1 = time.time()\n",
    "\n",
    "    for step in range(len(sentences)//batch_size) :\n",
    "        idx = step*batch_size\n",
    "        input_ids, token_type_ids, attention_mask, bert_inp_tot = bert_inp_fct(sentences[idx:idx+batch_size], \n",
    "                                                                      bert_tokenizer, max_length)\n",
    "        \n",
    "        if mode=='HF' :    # Bert HuggingFace\n",
    "            outputs = model.predict([input_ids, attention_mask, token_type_ids], batch_size=batch_size_pred)\n",
    "            last_hidden_states = outputs.last_hidden_state\n",
    "\n",
    "        if mode=='TFhub' : # Bert Tensorflow Hub\n",
    "            text_preprocessed = {\"input_word_ids\" : input_ids, \n",
    "                                 \"input_mask\" : attention_mask, \n",
    "                                 \"input_type_ids\" : token_type_ids}\n",
    "            outputs = model(text_preprocessed)\n",
    "            last_hidden_states = outputs['sequence_output']\n",
    "             \n",
    "        if step ==0 :\n",
    "            last_hidden_states_tot = last_hidden_states\n",
    "            last_hidden_states_tot_0 = last_hidden_states\n",
    "        else :\n",
    "            last_hidden_states_tot = np.concatenate((last_hidden_states_tot,last_hidden_states))\n",
    "    \n",
    "    features_bert = np.array(last_hidden_states_tot).mean(axis=1)\n",
    "    \n",
    "    time2 = np.round(time.time() - time1,0)\n",
    "    print(\"temps traitement : \", time2)\n",
    "     \n",
    "    return features_bert, last_hidden_states_tot"
   ]
  },
  {
   "cell_type": "markdown",
   "id": "24dc627b",
   "metadata": {},
   "source": [
    "## BERT HuggingFace"
   ]
  },
  {
   "cell_type": "markdown",
   "id": "5b48b856",
   "metadata": {},
   "source": [
    "### 'bert-base-uncased'"
   ]
  },
  {
   "cell_type": "code",
   "execution_count": 144,
   "id": "4e90ff46",
   "metadata": {},
   "outputs": [
    {
     "data": {
      "application/vnd.jupyter.widget-view+json": {
       "model_id": "f66ba4221dc142f5a2a7e6521ea4851e",
       "version_major": 2,
       "version_minor": 0
      },
      "text/plain": [
       "Downloading:   0%|          | 0.00/570 [00:00<?, ?B/s]"
      ]
     },
     "metadata": {},
     "output_type": "display_data"
    },
    {
     "name": "stderr",
     "output_type": "stream",
     "text": [
      "loading configuration file config.json from cache at /home/ping/.cache/huggingface/hub/models--bert-base-uncased/snapshots/5546055f03398095e385d7dc625e636cc8910bf2/config.json\n",
      "Model config BertConfig {\n",
      "  \"_name_or_path\": \"bert-base-uncased\",\n",
      "  \"architectures\": [\n",
      "    \"BertForMaskedLM\"\n",
      "  ],\n",
      "  \"attention_probs_dropout_prob\": 0.1,\n",
      "  \"classifier_dropout\": null,\n",
      "  \"gradient_checkpointing\": false,\n",
      "  \"hidden_act\": \"gelu\",\n",
      "  \"hidden_dropout_prob\": 0.1,\n",
      "  \"hidden_size\": 768,\n",
      "  \"initializer_range\": 0.02,\n",
      "  \"intermediate_size\": 3072,\n",
      "  \"layer_norm_eps\": 1e-12,\n",
      "  \"max_position_embeddings\": 512,\n",
      "  \"model_type\": \"bert\",\n",
      "  \"num_attention_heads\": 12,\n",
      "  \"num_hidden_layers\": 12,\n",
      "  \"pad_token_id\": 0,\n",
      "  \"position_embedding_type\": \"absolute\",\n",
      "  \"transformers_version\": \"4.24.0\",\n",
      "  \"type_vocab_size\": 2,\n",
      "  \"use_cache\": true,\n",
      "  \"vocab_size\": 30522\n",
      "}\n",
      "\n"
     ]
    },
    {
     "data": {
      "application/vnd.jupyter.widget-view+json": {
       "model_id": "a98460838eb9474f83938d5ef6ce8f5f",
       "version_major": 2,
       "version_minor": 0
      },
      "text/plain": [
       "Downloading:   0%|          | 0.00/536M [00:00<?, ?B/s]"
      ]
     },
     "metadata": {},
     "output_type": "display_data"
    },
    {
     "name": "stderr",
     "output_type": "stream",
     "text": [
      "loading weights file tf_model.h5 from cache at /home/ping/.cache/huggingface/hub/models--bert-base-uncased/snapshots/5546055f03398095e385d7dc625e636cc8910bf2/tf_model.h5\n",
      "2022-11-04 11:24:59.287037: I tensorflow/core/platform/cpu_feature_guard.cc:151] This TensorFlow binary is optimized with oneAPI Deep Neural Network Library (oneDNN) to use the following CPU instructions in performance-critical operations:  AVX2 FMA\n",
      "To enable them in other operations, rebuild TensorFlow with the appropriate compiler flags.\n",
      "Some layers from the model checkpoint at bert-base-uncased were not used when initializing TFBertModel: ['nsp___cls', 'mlm___cls']\n",
      "- This IS expected if you are initializing TFBertModel from the checkpoint of a model trained on another task or with another architecture (e.g. initializing a BertForSequenceClassification model from a BertForPreTraining model).\n",
      "- This IS NOT expected if you are initializing TFBertModel from the checkpoint of a model that you expect to be exactly identical (initializing a BertForSequenceClassification model from a BertForSequenceClassification model).\n",
      "All the layers of TFBertModel were initialized from the model checkpoint at bert-base-uncased.\n",
      "If your task is similar to the task the model of the checkpoint was trained on, you can already use TFBertModel for predictions without further training.\n"
     ]
    }
   ],
   "source": [
    "max_length = 64\n",
    "batch_size = 10\n",
    "model_type = 'bert-base-uncased'\n",
    "model = TFAutoModel.from_pretrained(model_type)\n",
    "sentences = df1['full_review'].to_list()"
   ]
  },
  {
   "cell_type": "code",
   "execution_count": 145,
   "id": "298c7b70",
   "metadata": {},
   "outputs": [
    {
     "data": {
      "application/vnd.jupyter.widget-view+json": {
       "model_id": "5e47f29c7d5b48a9993cd727e5bf51a4",
       "version_major": 2,
       "version_minor": 0
      },
      "text/plain": [
       "Downloading:   0%|          | 0.00/28.0 [00:00<?, ?B/s]"
      ]
     },
     "metadata": {},
     "output_type": "display_data"
    },
    {
     "name": "stderr",
     "output_type": "stream",
     "text": [
      "loading configuration file config.json from cache at /home/ping/.cache/huggingface/hub/models--bert-base-uncased/snapshots/5546055f03398095e385d7dc625e636cc8910bf2/config.json\n",
      "Model config BertConfig {\n",
      "  \"_name_or_path\": \"bert-base-uncased\",\n",
      "  \"architectures\": [\n",
      "    \"BertForMaskedLM\"\n",
      "  ],\n",
      "  \"attention_probs_dropout_prob\": 0.1,\n",
      "  \"classifier_dropout\": null,\n",
      "  \"gradient_checkpointing\": false,\n",
      "  \"hidden_act\": \"gelu\",\n",
      "  \"hidden_dropout_prob\": 0.1,\n",
      "  \"hidden_size\": 768,\n",
      "  \"initializer_range\": 0.02,\n",
      "  \"intermediate_size\": 3072,\n",
      "  \"layer_norm_eps\": 1e-12,\n",
      "  \"max_position_embeddings\": 512,\n",
      "  \"model_type\": \"bert\",\n",
      "  \"num_attention_heads\": 12,\n",
      "  \"num_hidden_layers\": 12,\n",
      "  \"pad_token_id\": 0,\n",
      "  \"position_embedding_type\": \"absolute\",\n",
      "  \"transformers_version\": \"4.24.0\",\n",
      "  \"type_vocab_size\": 2,\n",
      "  \"use_cache\": true,\n",
      "  \"vocab_size\": 30522\n",
      "}\n",
      "\n"
     ]
    },
    {
     "data": {
      "application/vnd.jupyter.widget-view+json": {
       "model_id": "cb4403b18ba0461d8906fbe325a89499",
       "version_major": 2,
       "version_minor": 0
      },
      "text/plain": [
       "Downloading:   0%|          | 0.00/232k [00:00<?, ?B/s]"
      ]
     },
     "metadata": {},
     "output_type": "display_data"
    },
    {
     "data": {
      "application/vnd.jupyter.widget-view+json": {
       "model_id": "93c5c7a1a0b248f298d8161c31c6e435",
       "version_major": 2,
       "version_minor": 0
      },
      "text/plain": [
       "Downloading:   0%|          | 0.00/466k [00:00<?, ?B/s]"
      ]
     },
     "metadata": {},
     "output_type": "display_data"
    },
    {
     "name": "stderr",
     "output_type": "stream",
     "text": [
      "loading file vocab.txt from cache at /home/ping/.cache/huggingface/hub/models--bert-base-uncased/snapshots/5546055f03398095e385d7dc625e636cc8910bf2/vocab.txt\n",
      "loading file tokenizer.json from cache at /home/ping/.cache/huggingface/hub/models--bert-base-uncased/snapshots/5546055f03398095e385d7dc625e636cc8910bf2/tokenizer.json\n",
      "loading file added_tokens.json from cache at None\n",
      "loading file special_tokens_map.json from cache at None\n",
      "loading file tokenizer_config.json from cache at /home/ping/.cache/huggingface/hub/models--bert-base-uncased/snapshots/5546055f03398095e385d7dc625e636cc8910bf2/tokenizer_config.json\n",
      "loading configuration file config.json from cache at /home/ping/.cache/huggingface/hub/models--bert-base-uncased/snapshots/5546055f03398095e385d7dc625e636cc8910bf2/config.json\n",
      "Model config BertConfig {\n",
      "  \"_name_or_path\": \"bert-base-uncased\",\n",
      "  \"architectures\": [\n",
      "    \"BertForMaskedLM\"\n",
      "  ],\n",
      "  \"attention_probs_dropout_prob\": 0.1,\n",
      "  \"classifier_dropout\": null,\n",
      "  \"gradient_checkpointing\": false,\n",
      "  \"hidden_act\": \"gelu\",\n",
      "  \"hidden_dropout_prob\": 0.1,\n",
      "  \"hidden_size\": 768,\n",
      "  \"initializer_range\": 0.02,\n",
      "  \"intermediate_size\": 3072,\n",
      "  \"layer_norm_eps\": 1e-12,\n",
      "  \"max_position_embeddings\": 512,\n",
      "  \"model_type\": \"bert\",\n",
      "  \"num_attention_heads\": 12,\n",
      "  \"num_hidden_layers\": 12,\n",
      "  \"pad_token_id\": 0,\n",
      "  \"position_embedding_type\": \"absolute\",\n",
      "  \"transformers_version\": \"4.24.0\",\n",
      "  \"type_vocab_size\": 2,\n",
      "  \"use_cache\": true,\n",
      "  \"vocab_size\": 30522\n",
      "}\n",
      "\n"
     ]
    },
    {
     "name": "stdout",
     "output_type": "stream",
     "text": [
      "temps traitement :  255.0\n"
     ]
    }
   ],
   "source": [
    "# Création des features\n",
    "\n",
    "features_bert, last_hidden_states_tot = feature_BERT_fct(model, model_type, sentences, \n",
    "                                                         max_length, batch_size, mode='HF')"
   ]
  },
  {
   "cell_type": "code",
   "execution_count": 151,
   "id": "47dcd440",
   "metadata": {
    "scrolled": true
   },
   "outputs": [
    {
     "data": {
      "text/plain": [
       "(2700, 768)"
      ]
     },
     "execution_count": 151,
     "metadata": {},
     "output_type": "execute_result"
    }
   ],
   "source": [
    "features_bert.shape"
   ]
  },
  {
   "cell_type": "code",
   "execution_count": 152,
   "id": "5bd84d62",
   "metadata": {},
   "outputs": [],
   "source": [
    "df1 = df1.sample(n = 2700,replace=True)"
   ]
  },
  {
   "cell_type": "code",
   "execution_count": 153,
   "id": "e5b7a623",
   "metadata": {},
   "outputs": [
    {
     "data": {
      "text/plain": [
       "(2700,)"
      ]
     },
     "execution_count": 153,
     "metadata": {},
     "output_type": "execute_result"
    }
   ],
   "source": [
    "y = df1['Tags']\n",
    "y.shape"
   ]
  },
  {
   "cell_type": "code",
   "execution_count": 154,
   "id": "5c0d7fb3",
   "metadata": {},
   "outputs": [],
   "source": [
    "multilabel_binarizer = MultiLabelBinarizer()\n",
    "y_bin = multilabel_binarizer.fit_transform(y)"
   ]
  },
  {
   "cell_type": "code",
   "execution_count": 155,
   "id": "43b22120",
   "metadata": {},
   "outputs": [
    {
     "data": {
      "text/plain": [
       "(2700, 100)"
      ]
     },
     "execution_count": 155,
     "metadata": {},
     "output_type": "execute_result"
    }
   ],
   "source": [
    "y_bin.shape"
   ]
  },
  {
   "cell_type": "markdown",
   "id": "c44ee501",
   "metadata": {},
   "source": [
    "# PCA"
   ]
  },
  {
   "cell_type": "code",
   "execution_count": 156,
   "id": "775eb945",
   "metadata": {},
   "outputs": [],
   "source": [
    "clf = TruncatedSVD(60)\n",
    "Xpca = clf.fit_transform(features_bert)"
   ]
  },
  {
   "cell_type": "code",
   "execution_count": 157,
   "id": "5c47b897",
   "metadata": {},
   "outputs": [
    {
     "data": {
      "text/plain": [
       "array([0.02040679, 0.09846313, 0.07803243, 0.07219152, 0.04264318,\n",
       "       0.03253345, 0.03040225, 0.02816055, 0.02354811, 0.02125812,\n",
       "       0.01829722, 0.01706295, 0.01656618, 0.01360533, 0.01314043,\n",
       "       0.01288464, 0.01099963, 0.01018476, 0.01008439, 0.00958859,\n",
       "       0.00936715, 0.0087402 , 0.008302  , 0.00816184, 0.00753669,\n",
       "       0.00729064, 0.00718187, 0.00688768, 0.00674425, 0.00629217,\n",
       "       0.00624955, 0.00609887, 0.00597559, 0.00571808, 0.0055614 ,\n",
       "       0.00539466, 0.00525926, 0.00517766, 0.00507604, 0.00489764,\n",
       "       0.00480961, 0.00471563, 0.00452423, 0.00438134, 0.00432532,\n",
       "       0.00420203, 0.00412153, 0.00404355, 0.00395539, 0.00389432,\n",
       "       0.00377972, 0.00364066, 0.0035904 , 0.0035091 , 0.00345847,\n",
       "       0.00340145, 0.00328881, 0.00316184, 0.00308332, 0.0030348 ],\n",
       "      dtype=float32)"
      ]
     },
     "execution_count": 157,
     "metadata": {},
     "output_type": "execute_result"
    }
   ],
   "source": [
    "clf.explained_variance_ratio_"
   ]
  },
  {
   "cell_type": "code",
   "execution_count": 158,
   "id": "6b2380cd",
   "metadata": {},
   "outputs": [
    {
     "data": {
      "text/plain": [
       "Text(0, 0.5, 'Explained Variance')"
      ]
     },
     "execution_count": 158,
     "metadata": {},
     "output_type": "execute_result"
    },
    {
     "data": {
      "image/png": "[encoded data removed]",
      "text/plain": [
       "<Figure size 720x576 with 1 Axes>"
      ]
     },
     "metadata": {
      "needs_background": "light"
     },
     "output_type": "display_data"
    }
   ],
   "source": [
    "plt.figure(figsize = (10, 8))\n",
    "plt.plot(range(1, 61), clf.explained_variance_ratio_.cumsum(),marker = \"o\", linestyle = \"--\")\n",
    "plt.title(\"Explained Variance by Componants\")\n",
    "plt.xlabel(\"Nomber of componants\")\n",
    "plt.ylabel(\"Explained Variance\")"
   ]
  },
  {
   "cell_type": "code",
   "execution_count": 159,
   "id": "aa5820c6",
   "metadata": {},
   "outputs": [],
   "source": [
    "clf = TruncatedSVD(50)\n",
    "Xpca_features_bert = clf.fit_transform(features_bert)"
   ]
  },
  {
   "cell_type": "code",
   "execution_count": 160,
   "id": "feee6dcb",
   "metadata": {},
   "outputs": [],
   "source": [
    "from sklearn.model_selection import train_test_split\n",
    "X_train, X_test, y_train, y_test = train_test_split(Xpca_features_bert,y_bin, test_size = 0.2, random_state = 0)"
   ]
  },
  {
   "cell_type": "code",
   "execution_count": 161,
   "id": "38708a67",
   "metadata": {},
   "outputs": [],
   "source": [
    "def avg_jacard(y_true,y_pred):\n",
    "    jacard = np.minimum(y_true,y_pred).sum(axis=1) / np.maximum(y_true,y_pred).sum(axis=1)    \n",
    "    return jacard.mean()*100\n",
    "    \n",
    "def print_score(y_pred, clf):\n",
    "    print(\"Clf: \", clf.__class__.__name__)\n",
    "    print(\"Jacard score: {}\".format(avg_jacard(y_test, y_pred)))\n",
    "    print(\"Hamming loss: {}\".format(hamming_loss(y_pred, y_test)*100))\n",
    "    print(\"---\")"
   ]
  },
  {
   "cell_type": "code",
   "execution_count": 163,
   "id": "e6e38a35",
   "metadata": {},
   "outputs": [
    {
     "name": "stdout",
     "output_type": "stream",
     "text": [
      "Clf:  DummyClassifier\n",
      "Jacard score: 4.013888888888889\n",
      "Hamming loss: 4.748148148148148\n",
      "---\n",
      "Clf:  SGDClassifier\n",
      "Jacard score: 1.23332531665865\n",
      "Hamming loss: 3.916666666666667\n",
      "---\n",
      "Clf:  LogisticRegression\n",
      "Jacard score: 0.0\n",
      "Hamming loss: 2.55\n",
      "---\n",
      "Clf:  LinearSVC\n",
      "Jacard score: 0.0\n",
      "Hamming loss: 2.5462962962962963\n",
      "---\n",
      "Clf:  Perceptron\n",
      "Jacard score: 4.379482657260435\n",
      "Hamming loss: 4.196296296296296\n",
      "---\n",
      "Clf:  PassiveAggressiveClassifier\n",
      "Jacard score: 4.919312169312169\n",
      "Hamming loss: 4.833333333333333\n",
      "---\n"
     ]
    }
   ],
   "source": [
    "from sklearn.linear_model import Perceptron\n",
    "from sklearn.linear_model import PassiveAggressiveClassifier\n",
    "from sklearn.svm import LinearSVC\n",
    "dummy = DummyClassifier()\n",
    "sgd = SGDClassifier()\n",
    "lr = LogisticRegression(solver='liblinear')\n",
    "svc = LinearSVC()\n",
    "perceptron = Perceptron()\n",
    "pac = PassiveAggressiveClassifier()\n",
    "\n",
    "for classifier in [dummy, sgd, lr, svc, perceptron, pac]:\n",
    "    clf = OneVsRestClassifier(classifier)\n",
    "    clf.fit(X_train, y_train)\n",
    "    y_pred = clf.predict(X_test)\n",
    "    print_score(y_pred, classifier)"
   ]
  },
  {
   "cell_type": "code",
   "execution_count": 164,
   "id": "80d2cc19",
   "metadata": {},
   "outputs": [
    {
     "data": {
      "text/plain": [
       "sklearn.linear_model._stochastic_gradient.SGDClassifier"
      ]
     },
     "execution_count": 164,
     "metadata": {},
     "output_type": "execute_result"
    }
   ],
   "source": [
    "SGDClassifier"
   ]
  },
  {
   "cell_type": "code",
   "execution_count": 165,
   "id": "59506b64",
   "metadata": {},
   "outputs": [
    {
     "name": "stdout",
     "output_type": "stream",
     "text": [
      "Clf:  SGDClassifier\n",
      "Jacard score: 0.1388888888888889\n",
      "Hamming loss: 2.77037037037037\n",
      "---\n"
     ]
    }
   ],
   "source": [
    "sgd = SGDClassifier()\n",
    "clf = OneVsRestClassifier(sgd)\n",
    "clf.fit(X_train, y_train)\n",
    "y_pred = clf.predict(X_test)\n",
    "print_score(y_pred, sgd)"
   ]
  },
  {
   "cell_type": "code",
   "execution_count": 166,
   "id": "c696d2d0",
   "metadata": {},
   "outputs": [
    {
     "data": {
      "text/plain": [
       "sklearn.multiclass.OneVsRestClassifier"
      ]
     },
     "execution_count": 166,
     "metadata": {},
     "output_type": "execute_result"
    }
   ],
   "source": [
    "OneVsRestClassifier"
   ]
  },
  {
   "cell_type": "code",
   "execution_count": 168,
   "id": "27763e75",
   "metadata": {},
   "outputs": [
    {
     "name": "stdout",
     "output_type": "stream",
     "text": [
      "Clf:  LogisticRegression\n",
      "Jacard score: 0.0\n",
      "Hamming loss: 2.55\n",
      "---\n"
     ]
    }
   ],
   "source": [
    "lr = LogisticRegression(solver='liblinear')\n",
    "clf = OneVsRestClassifier(lr)\n",
    "clf.fit(X_train, y_train)\n",
    "y_pred = clf.predict(X_test)\n",
    "print_score(y_pred, lr)"
   ]
  },
  {
   "cell_type": "code",
   "execution_count": 169,
   "id": "b59ec051",
   "metadata": {},
   "outputs": [
    {
     "data": {
      "text/plain": [
       "sklearn.ensemble._forest.RandomForestClassifier"
      ]
     },
     "execution_count": 169,
     "metadata": {},
     "output_type": "execute_result"
    }
   ],
   "source": [
    "RandomForestClassifier"
   ]
  },
  {
   "cell_type": "code",
   "execution_count": 170,
   "id": "240f2464",
   "metadata": {},
   "outputs": [
    {
     "name": "stdout",
     "output_type": "stream",
     "text": [
      "Clf:  RandomForestClassifier\n",
      "Jacard score: 0.0\n",
      "Hamming loss: 2.5462962962962963\n",
      "---\n"
     ]
    }
   ],
   "source": [
    "from sklearn.ensemble import RandomForestClassifier\n",
    "rfc = RandomForestClassifier()\n",
    "rfc.fit(X_train, y_train)\n",
    "\n",
    "y_pred = rfc.predict(X_test)\n",
    "\n",
    "print_score(y_pred, rfc)"
   ]
  },
  {
   "cell_type": "markdown",
   "id": "9a70931a",
   "metadata": {},
   "source": [
    "MLP Classifier"
   ]
  },
  {
   "cell_type": "code",
   "execution_count": 171,
   "id": "d847a351",
   "metadata": {},
   "outputs": [
    {
     "name": "stdout",
     "output_type": "stream",
     "text": [
      "Clf:  MLPClassifier\n",
      "Jacard score: 0.44753086419753085\n",
      "Hamming loss: 2.5925925925925926\n",
      "---\n"
     ]
    }
   ],
   "source": [
    "from sklearn.neural_network import MLPClassifier\n",
    "mlpc = MLPClassifier()\n",
    "mlpc.fit(X_train, y_train)\n",
    "\n",
    "y_pred = mlpc.predict(X_test)\n",
    "\n",
    "print_score(y_pred, mlpc)"
   ]
  },
  {
   "cell_type": "markdown",
   "id": "82ba689a",
   "metadata": {},
   "source": [
    "GridSearch CV on the best classifier"
   ]
  },
  {
   "cell_type": "code",
   "execution_count": 172,
   "id": "9f37d3b4",
   "metadata": {},
   "outputs": [],
   "source": [
    "param_grid = {'estimator__C':[1,10,100,1000]\n",
    "              }"
   ]
  },
  {
   "cell_type": "code",
   "execution_count": 173,
   "id": "e725dd81",
   "metadata": {},
   "outputs": [
    {
     "name": "stdout",
     "output_type": "stream",
     "text": [
      "Fitting 5 folds for each of 4 candidates, totalling 20 fits\n",
      "[CV] estimator__C=1 ..................................................\n"
     ]
    },
    {
     "name": "stderr",
     "output_type": "stream",
     "text": [
      "[Parallel(n_jobs=1)]: Using backend SequentialBackend with 1 concurrent workers.\n"
     ]
    },
    {
     "name": "stdout",
     "output_type": "stream",
     "text": [
      "[CV] ...................... estimator__C=1, score=0.000, total=   9.9s\n",
      "[CV] estimator__C=1 ..................................................\n"
     ]
    },
    {
     "name": "stderr",
     "output_type": "stream",
     "text": [
      "[Parallel(n_jobs=1)]: Done   1 out of   1 | elapsed:    9.9s remaining:    0.0s\n"
     ]
    },
    {
     "name": "stdout",
     "output_type": "stream",
     "text": [
      "[CV] ...................... estimator__C=1, score=0.000, total=   9.9s\n",
      "[CV] estimator__C=1 ..................................................\n"
     ]
    },
    {
     "name": "stderr",
     "output_type": "stream",
     "text": [
      "[Parallel(n_jobs=1)]: Done   2 out of   2 | elapsed:   19.8s remaining:    0.0s\n"
     ]
    },
    {
     "name": "stdout",
     "output_type": "stream",
     "text": [
      "[CV] ...................... estimator__C=1, score=0.000, total=   9.8s\n",
      "[CV] estimator__C=1 ..................................................\n"
     ]
    },
    {
     "name": "stderr",
     "output_type": "stream",
     "text": [
      "[Parallel(n_jobs=1)]: Done   3 out of   3 | elapsed:   29.5s remaining:    0.0s\n"
     ]
    },
    {
     "name": "stdout",
     "output_type": "stream",
     "text": [
      "[CV] ...................... estimator__C=1, score=0.000, total=  10.6s\n",
      "[CV] estimator__C=1 ..................................................\n"
     ]
    },
    {
     "name": "stderr",
     "output_type": "stream",
     "text": [
      "[Parallel(n_jobs=1)]: Done   4 out of   4 | elapsed:   40.2s remaining:    0.0s\n"
     ]
    },
    {
     "name": "stdout",
     "output_type": "stream",
     "text": [
      "[CV] ...................... estimator__C=1, score=0.000, total=   9.7s\n",
      "[CV] estimator__C=10 .................................................\n"
     ]
    },
    {
     "name": "stderr",
     "output_type": "stream",
     "text": [
      "[Parallel(n_jobs=1)]: Done   5 out of   5 | elapsed:   49.9s remaining:    0.0s\n"
     ]
    },
    {
     "name": "stdout",
     "output_type": "stream",
     "text": [
      "[CV] ..................... estimator__C=10, score=8.918, total=  11.1s\n",
      "[CV] estimator__C=10 .................................................\n"
     ]
    },
    {
     "name": "stderr",
     "output_type": "stream",
     "text": [
      "[Parallel(n_jobs=1)]: Done   6 out of   6 | elapsed:  1.0min remaining:    0.0s\n"
     ]
    },
    {
     "name": "stdout",
     "output_type": "stream",
     "text": [
      "[CV] ..................... estimator__C=10, score=8.279, total=  11.2s\n",
      "[CV] estimator__C=10 .................................................\n"
     ]
    },
    {
     "name": "stderr",
     "output_type": "stream",
     "text": [
      "[Parallel(n_jobs=1)]: Done   7 out of   7 | elapsed:  1.2min remaining:    0.0s\n"
     ]
    },
    {
     "name": "stdout",
     "output_type": "stream",
     "text": [
      "[CV] ..................... estimator__C=10, score=0.355, total=  11.9s\n",
      "[CV] estimator__C=10 .................................................\n"
     ]
    },
    {
     "name": "stderr",
     "output_type": "stream",
     "text": [
      "[Parallel(n_jobs=1)]: Done   8 out of   8 | elapsed:  1.4min remaining:    0.0s\n"
     ]
    },
    {
     "name": "stdout",
     "output_type": "stream",
     "text": [
      "[CV] ..................... estimator__C=10, score=9.137, total=  11.9s\n",
      "[CV] estimator__C=10 .................................................\n"
     ]
    },
    {
     "name": "stderr",
     "output_type": "stream",
     "text": [
      "[Parallel(n_jobs=1)]: Done   9 out of   9 | elapsed:  1.6min remaining:    0.0s\n"
     ]
    },
    {
     "name": "stdout",
     "output_type": "stream",
     "text": [
      "[CV] ..................... estimator__C=10, score=0.000, total=  11.0s\n",
      "[CV] estimator__C=100 ................................................\n",
      "[CV] .................... estimator__C=100, score=1.205, total=  11.5s\n",
      "[CV] estimator__C=100 ................................................\n",
      "[CV] .................... estimator__C=100, score=4.597, total=  11.4s\n",
      "[CV] estimator__C=100 ................................................\n",
      "[CV] .................... estimator__C=100, score=3.135, total=  12.1s\n",
      "[CV] estimator__C=100 ................................................\n",
      "[CV] .................... estimator__C=100, score=1.392, total=  11.4s\n",
      "[CV] estimator__C=100 ................................................\n",
      "[CV] .................... estimator__C=100, score=5.237, total=  11.2s\n",
      "[CV] estimator__C=1000 ...............................................\n",
      "[CV] ................... estimator__C=1000, score=1.307, total=  11.3s\n",
      "[CV] estimator__C=1000 ...............................................\n",
      "[CV] ................... estimator__C=1000, score=3.225, total=  11.5s\n",
      "[CV] estimator__C=1000 ...............................................\n",
      "[CV] ................... estimator__C=1000, score=1.510, total=  11.4s\n",
      "[CV] estimator__C=1000 ...............................................\n",
      "[CV] ................... estimator__C=1000, score=5.786, total=  11.2s\n",
      "[CV] estimator__C=1000 ...............................................\n",
      "[CV] ................... estimator__C=1000, score=6.041, total=  11.3s\n"
     ]
    },
    {
     "name": "stderr",
     "output_type": "stream",
     "text": [
      "[Parallel(n_jobs=1)]: Done  20 out of  20 | elapsed:  3.7min finished\n"
     ]
    },
    {
     "data": {
      "text/plain": [
       "GridSearchCV(cv=5, error_score=nan,\n",
       "             estimator=OneVsRestClassifier(estimator=LinearSVC(C=1.0,\n",
       "                                                               class_weight=None,\n",
       "                                                               dual=True,\n",
       "                                                               fit_intercept=True,\n",
       "                                                               intercept_scaling=1,\n",
       "                                                               loss='squared_hinge',\n",
       "                                                               max_iter=1000,\n",
       "                                                               multi_class='ovr',\n",
       "                                                               penalty='l2',\n",
       "                                                               random_state=None,\n",
       "                                                               tol=0.0001,\n",
       "                                                               verbose=0),\n",
       "                                           n_jobs=None),\n",
       "             iid='deprecated', n_jobs=None,\n",
       "             param_grid={'estimator__C': [1, 10, 100, 1000]},\n",
       "             pre_dispatch='2*n_jobs', refit=True, return_train_score=False,\n",
       "             scoring=make_scorer(avg_jacard), verbose=10)"
      ]
     },
     "execution_count": 173,
     "metadata": {},
     "output_type": "execute_result"
    }
   ],
   "source": [
    "svc = OneVsRestClassifier(LinearSVC())\n",
    "CV_svc = model_selection.GridSearchCV(estimator=svc, param_grid=param_grid, cv= 5, verbose=10, scoring=make_scorer(avg_jacard,greater_is_better=True))\n",
    "CV_svc.fit(X_train, y_train)"
   ]
  },
  {
   "cell_type": "code",
   "execution_count": 174,
   "id": "c88f91c6",
   "metadata": {},
   "outputs": [
    {
     "data": {
      "text/plain": [
       "{'estimator__C': 10}"
      ]
     },
     "execution_count": 174,
     "metadata": {},
     "output_type": "execute_result"
    }
   ],
   "source": [
    "CV_svc.best_params_"
   ]
  },
  {
   "cell_type": "code",
   "execution_count": 175,
   "id": "d84f4554",
   "metadata": {},
   "outputs": [],
   "source": [
    "best_model = CV_svc.best_estimator_"
   ]
  },
  {
   "cell_type": "code",
   "execution_count": 176,
   "id": "6cfe409c",
   "metadata": {},
   "outputs": [
    {
     "name": "stdout",
     "output_type": "stream",
     "text": [
      "Clf:  OneVsRestClassifier\n",
      "Jacard score: 1.2666078777189889\n",
      "Hamming loss: 3.15\n",
      "---\n"
     ]
    }
   ],
   "source": [
    "y_pred = best_model.predict(X_test)\n",
    "\n",
    "print_score(y_pred, best_model)"
   ]
  },
  {
   "cell_type": "markdown",
   "id": "c60bb3a0",
   "metadata": {},
   "source": [
    "Confusion matrix"
   ]
  },
  {
   "cell_type": "code",
   "execution_count": 177,
   "id": "4e55bc1d",
   "metadata": {},
   "outputs": [
    {
     "name": "stdout",
     "output_type": "stream",
     "text": [
      "ajax\n",
      "[[528   0]\n",
      " [ 12   0]]\n",
      "\n",
      "algorithm\n",
      "[[531   0]\n",
      " [  9   0]]\n",
      "\n",
      "amazon\n",
      "[[537   2]\n",
      " [  1   0]]\n",
      "\n",
      "android\n",
      "[[493   0]\n",
      " [ 47   0]]\n",
      "\n",
      "angularjs\n",
      "[[532   0]\n",
      " [  8   0]]\n",
      "\n",
      "apache\n",
      "[[531   0]\n",
      " [  9   0]]\n",
      "\n",
      "api\n",
      "[[531   0]\n",
      " [  9   0]]\n",
      "\n",
      "array\n",
      "[[533   0]\n",
      " [  7   0]]\n",
      "\n",
      "asp\n",
      "[[516   0]\n",
      " [ 24   0]]\n",
      "\n",
      "asynchronous\n",
      "[[528   0]\n",
      " [ 12   0]]\n",
      "\n",
      "authentication\n",
      "[[533   0]\n",
      " [  7   0]]\n",
      "\n",
      "bash\n",
      "[[533   0]\n",
      " [  7   0]]\n",
      "\n",
      "bootstrap\n",
      "[[538   0]\n",
      " [  2   0]]\n",
      "\n",
      "c\n",
      "[[352  63]\n",
      " [111  14]]\n",
      "\n",
      "chrome\n",
      "[[533   0]\n",
      " [  7   0]]\n",
      "\n",
      "cocoa\n",
      "[[529   0]\n",
      " [ 11   0]]\n",
      "\n",
      "control\n",
      "[[537   0]\n",
      " [  3   0]]\n",
      "\n",
      "core\n",
      "[[531   0]\n",
      " [  9   0]]\n",
      "\n",
      "cs\n",
      "[[534   0]\n",
      " [  6   0]]\n",
      "\n",
      "data\n",
      "[[525   0]\n",
      " [ 15   0]]\n",
      "\n",
      "database\n",
      "[[529   0]\n",
      " [ 11   0]]\n",
      "\n",
      "dataframe\n",
      "[[534   0]\n",
      " [  6   0]]\n",
      "\n",
      "design\n",
      "[[530   0]\n",
      " [ 10   0]]\n",
      "\n",
      "django\n",
      "[[531   0]\n",
      " [  9   0]]\n",
      "\n",
      "eclipse\n",
      "[[533   0]\n",
      " [  7   0]]\n",
      "\n",
      "entity\n",
      "[[533   0]\n",
      " [  7   0]]\n",
      "\n",
      "event\n",
      "[[535   0]\n",
      " [  5   0]]\n",
      "\n",
      "file\n",
      "[[534   0]\n",
      " [  6   0]]\n",
      "\n",
      "framework\n",
      "[[532   0]\n",
      " [  8   0]]\n",
      "\n",
      "function\n",
      "[[537   0]\n",
      " [  3   0]]\n",
      "\n",
      "git\n",
      "[[534   0]\n",
      " [  6   0]]\n",
      "\n",
      "google\n",
      "[[526   0]\n",
      " [ 14   0]]\n",
      "\n",
      "gradle\n",
      "[[536   0]\n",
      " [  4   0]]\n",
      "\n",
      "hibernate\n",
      "[[531   0]\n",
      " [  9   0]]\n",
      "\n",
      "html\n",
      "[[454  59]\n",
      " [ 24   3]]\n",
      "\n",
      "http\n",
      "[[528   0]\n",
      " [ 12   0]]\n",
      "\n",
      "image\n",
      "[[523   0]\n",
      " [ 17   0]]\n",
      "\n",
      "interface\n",
      "[[529   0]\n",
      " [ 11   0]]\n",
      "\n",
      "io\n",
      "[[488   0]\n",
      " [ 52   0]]\n",
      "\n",
      "iphone\n",
      "[[516   0]\n",
      " [ 24   0]]\n",
      "\n",
      "j\n",
      "[[517   0]\n",
      " [ 23   0]]\n",
      "\n",
      "java\n",
      "[[467   0]\n",
      " [ 73   0]]\n",
      "\n",
      "javascript\n",
      "[[493   0]\n",
      " [ 47   0]]\n",
      "\n",
      "jpa\n",
      "[[425 106]\n",
      " [  7   2]]\n",
      "\n",
      "jquery\n",
      "[[517   0]\n",
      " [ 23   0]]\n",
      "\n",
      "json\n",
      "[[526   0]\n",
      " [ 14   0]]\n",
      "\n",
      "language\n",
      "[[534   0]\n",
      " [  6   0]]\n",
      "\n",
      "laravel\n",
      "[[534   0]\n",
      " [  6   0]]\n",
      "\n",
      "layout\n",
      "[[532   0]\n",
      " [  8   0]]\n",
      "\n",
      "learning\n",
      "[[533   0]\n",
      " [  7   0]]\n",
      "\n",
      "linux\n",
      "[[490  32]\n",
      " [ 16   2]]\n",
      "\n",
      "machine\n",
      "[[533   0]\n",
      " [  7   0]]\n",
      "\n",
      "macos\n",
      "[[539   0]\n",
      " [  1   0]]\n",
      "\n",
      "maven\n",
      "[[537   0]\n",
      " [  3   0]]\n",
      "\n",
      "memory\n",
      "[[533   0]\n",
      " [  7   0]]\n",
      "\n",
      "multithreading\n",
      "[[529   0]\n",
      " [ 11   0]]\n",
      "\n",
      "mvc\n",
      "[[521   0]\n",
      " [ 19   0]]\n",
      "\n",
      "mysql\n",
      "[[529   0]\n",
      " [ 11   0]]\n",
      "\n",
      "net\n",
      "[[495   0]\n",
      " [ 45   0]]\n",
      "\n",
      "node\n",
      "[[522   0]\n",
      " [ 18   0]]\n",
      "\n",
      "numpy\n",
      "[[532   0]\n",
      " [  8   0]]\n",
      "\n",
      "objective\n",
      "[[506   0]\n",
      " [ 34   0]]\n",
      "\n",
      "optimization\n",
      "[[531   0]\n",
      " [  9   0]]\n",
      "\n",
      "panda\n",
      "[[533   0]\n",
      " [  7   0]]\n",
      "\n",
      "performance\n",
      "[[519   0]\n",
      " [ 21   0]]\n",
      "\n",
      "php\n",
      "[[518   0]\n",
      " [ 22   0]]\n",
      "\n",
      "postgresql\n",
      "[[532   0]\n",
      " [  8   0]]\n",
      "\n",
      "processing\n",
      "[[534   0]\n",
      " [  6   0]]\n",
      "\n",
      "programming\n",
      "[[535   0]\n",
      " [  5   0]]\n",
      "\n",
      "python\n",
      "[[477   0]\n",
      " [ 63   0]]\n",
      "\n",
      "r\n",
      "[[532   0]\n",
      " [  8   0]]\n",
      "\n",
      "rail\n",
      "[[534   0]\n",
      " [  6   0]]\n",
      "\n",
      "reactjs\n",
      "[[531   0]\n",
      " [  9   0]]\n",
      "\n",
      "ruby\n",
      "[[529   0]\n",
      " [ 11   0]]\n",
      "\n",
      "security\n",
      "[[534   0]\n",
      " [  6   0]]\n",
      "\n",
      "selenium\n",
      "[[537   0]\n",
      " [  3   0]]\n",
      "\n",
      "server\n",
      "[[518   0]\n",
      " [ 22   0]]\n",
      "\n",
      "service\n",
      "[[533   0]\n",
      " [  7   0]]\n",
      "\n",
      "spark\n",
      "[[465  72]\n",
      " [  3   0]]\n",
      "\n",
      "spring\n",
      "[[525   0]\n",
      " [ 15   0]]\n",
      "\n",
      "sql\n",
      "[[510   0]\n",
      " [ 30   0]]\n",
      "\n",
      "ssl\n",
      "[[534   0]\n",
      " [  6   0]]\n",
      "\n",
      "string\n",
      "[[535   0]\n",
      " [  5   0]]\n",
      "\n",
      "studio\n",
      "[[534   0]\n",
      " [  6   0]]\n",
      "\n",
      "swift\n",
      "[[527   0]\n",
      " [ 13   0]]\n",
      "\n",
      "testing\n",
      "[[536   0]\n",
      " [  4   0]]\n",
      "\n",
      "text\n",
      "[[535   0]\n",
      " [  5   0]]\n",
      "\n",
      "touch\n",
      "[[530   0]\n",
      " [ 10   0]]\n",
      "\n",
      "twitter\n",
      "[[536   0]\n",
      " [  4   0]]\n",
      "\n",
      "type\n",
      "[[531   0]\n",
      " [  9   0]]\n",
      "\n",
      "ubuntu\n",
      "[[534   0]\n",
      " [  6   0]]\n",
      "\n",
      "unit\n",
      "[[537   0]\n",
      " [  3   0]]\n",
      "\n",
      "variable\n",
      "[[536   0]\n",
      " [  4   0]]\n",
      "\n",
      "video\n",
      "[[521  13]\n",
      " [  6   0]]\n",
      "\n",
      "visual\n",
      "[[535   0]\n",
      " [  5   0]]\n",
      "\n",
      "web\n",
      "[[532   0]\n",
      " [  8   0]]\n",
      "\n",
      "window\n",
      "[[527   0]\n",
      " [ 13   0]]\n",
      "\n",
      "wpf\n",
      "[[534   0]\n",
      " [  6   0]]\n",
      "\n",
      "x\n",
      "[[529   0]\n",
      " [ 11   0]]\n",
      "\n",
      "xcode\n",
      "[[526   0]\n",
      " [ 14   0]]\n",
      "\n"
     ]
    }
   ],
   "source": [
    "for i in range(y_train.shape[1]):\n",
    "    print(multilabel_binarizer.classes_[i])\n",
    "    print(confusion_matrix(y_test[:,i], y_pred[:,i]))\n",
    "    print(\"\")"
   ]
  },
  {
   "cell_type": "markdown",
   "id": "cfeecc4a",
   "metadata": {},
   "source": [
    "Exctracting feature importance"
   ]
  },
  {
   "cell_type": "code",
   "execution_count": 178,
   "id": "d97fcd04",
   "metadata": {},
   "outputs": [],
   "source": [
    "def print_top10(feature_names, clf, class_labels):\n",
    "    \"\"\"Prints features with the highest coefficient values, per class\"\"\"\n",
    "    for i, class_label in enumerate(class_labels):\n",
    "        top10 = np.argsort(clf.coef_[i])[-10:]\n",
    "        print(\"--------------------------------------------\")\n",
    "        print(\"%s: %s\" % (class_label,\n",
    "              \" \".join(feature_names[j] for j in top10)))\n",
    "        print(\"--------------------------------------------\")"
   ]
  },
  {
   "cell_type": "code",
   "execution_count": 179,
   "id": "f7432b32",
   "metadata": {},
   "outputs": [],
   "source": [
    "feature_names = vectorizer_X.get_feature_names()"
   ]
  },
  {
   "cell_type": "code",
   "execution_count": 180,
   "id": "c37d2b66",
   "metadata": {},
   "outputs": [
    {
     "name": "stdout",
     "output_type": "stream",
     "text": [
      "--------------------------------------------\n",
      "ajax: 05 --- --------------------------------------------------------------------------- agt actual advantage -- active across account\n",
      "--------------------------------------------\n",
      "--------------------------------------------\n",
      "algorithm: 22 --- 12 20 ajax access action alloc actual active\n",
      "--------------------------------------------\n",
      "--------------------------------------------\n",
      "amazon: -1 11 activation 15 14 actual algorithm achieve access align\n",
      "--------------------------------------------\n",
      "--------------------------------------------\n",
      "android: 16 21 alloc agt 50 00 algorithm across additional 14\n",
      "--------------------------------------------\n",
      "--------------------------------------------\n",
      "angularjs: access 50 algorithm 23 able alert 20 activation account alloc\n",
      "--------------------------------------------\n",
      "--------------------------------------------\n",
      "apache: 10 14 -- activation algorithm across action advantage 23 additional\n",
      "--------------------------------------------\n",
      "--------------------------------------------\n",
      "api: actually 22 ajax 20 activation action 14 1000 50 -1\n",
      "--------------------------------------------\n",
      "--------------------------------------------\n",
      "array: access address 15 account 23 22 add actual across ajax\n",
      "--------------------------------------------\n",
      "--------------------------------------------\n",
      "asp: 10 11 2019-12-06t00 achieve add 200 -- across actually ajax\n",
      "--------------------------------------------\n",
      "--------------------------------------------\n",
      "asynchronous: align 32 200 13 active 30 80 activation account accept\n",
      "--------------------------------------------\n",
      "--------------------------------------------\n",
      "authentication: actually 20 64 active across 22 add 2019-12-06t00 ajax account\n",
      "--------------------------------------------\n",
      "--------------------------------------------\n",
      "bash: 64 algorithm 01 124 address ajax active --------------------------------------------------------------------------- actual account\n",
      "--------------------------------------------\n",
      "--------------------------------------------\n",
      "bootstrap: able 14 01 accept address action achieve 30 64 50\n",
      "--------------------------------------------\n",
      "--------------------------------------------\n",
      "c: 2019-12-06t00 active 10 23 align -- 16 accept 80 64\n",
      "--------------------------------------------\n",
      "--------------------------------------------\n",
      "chrome: activation accept -1 alloc 15 30 124 active account action\n",
      "--------------------------------------------\n",
      "--------------------------------------------\n",
      "cocoa: alloc 00 16 align 80 23 01 actual agt add\n",
      "--------------------------------------------\n",
      "--------------------------------------------\n",
      "control: 21 algorithm 200 achieve 1000 124 actual 50 64 active\n",
      "--------------------------------------------\n",
      "--------------------------------------------\n",
      "core: 124 achieve 15 advantage 100 -- action 50 agt alert\n",
      "--------------------------------------------\n",
      "--------------------------------------------\n",
      "cs: 100 address 50 1000 advantage alert align additional 80 achieve\n",
      "--------------------------------------------\n",
      "--------------------------------------------\n",
      "data: 11 -1 13 1000 advantage 22 add access actual align\n",
      "--------------------------------------------\n",
      "--------------------------------------------\n",
      "database: able achieve 13 -1 align actual actually add 23 access\n",
      "--------------------------------------------\n",
      "--------------------------------------------\n",
      "dataframe: 01 access 32 algorithm 23 advantage 2019-12-06t00 agt -1 achieve\n",
      "--------------------------------------------\n",
      "--------------------------------------------\n",
      "design: able 64 access 00 13 23 agt 124 22 30\n",
      "--------------------------------------------\n",
      "--------------------------------------------\n",
      "django: access -1 16 additional 1000 23 20 account 01 64\n",
      "--------------------------------------------\n",
      "--------------------------------------------\n",
      "eclipse: able 80 12 access 16 124 13 2019-12-06t00 activation 200\n",
      "--------------------------------------------\n",
      "--------------------------------------------\n",
      "entity: able 23 align 15 --------------------------------------------------------------------------- 2019-12-06t00 access across alert agt\n",
      "--------------------------------------------\n",
      "--------------------------------------------\n",
      "event: account 100 --------------------------------------------------------------------------- additional 13 15 50 action 32 align\n",
      "--------------------------------------------\n",
      "--------------------------------------------\n",
      "file: 23 16 30 20 2019-12-06t00 32 64 address account actual\n",
      "--------------------------------------------\n",
      "--------------------------------------------\n",
      "framework: 21 --------------------------------------------------------------------------- account access 23 200 alert align -- across\n",
      "--------------------------------------------\n",
      "--------------------------------------------\n",
      "function: achieve 100 advantage actually alloc active 2019-12-06t00 action additional account\n",
      "--------------------------------------------\n",
      "--------------------------------------------\n",
      "git: 1000 ajax 32 22 00 01 64 actual actually 50\n",
      "--------------------------------------------\n",
      "--------------------------------------------\n",
      "google: 16 32 200 30 accept 12 20 account add 2019-12-06t00\n",
      "--------------------------------------------\n",
      "--------------------------------------------\n",
      "gradle: --------------------------------------------------------------------------- active achieve accept 10 activation 14 able ajax algorithm\n",
      "--------------------------------------------\n",
      "--------------------------------------------\n",
      "hibernate: 30 active algorithm 21 additional 22 50 124 address advantage\n",
      "--------------------------------------------\n",
      "--------------------------------------------\n",
      "html: actual 15 05 13 active align alert achieve -- activation\n",
      "--------------------------------------------\n",
      "--------------------------------------------\n",
      "http: -1 64 access 23 30 124 200 active activation 01\n",
      "--------------------------------------------\n",
      "--------------------------------------------\n",
      "image: able 124 achieve across 1000 account -1 32 ajax algorithm\n",
      "--------------------------------------------\n",
      "--------------------------------------------\n",
      "interface: 80 across 15 alloc --- -- advantage 11 able alert\n",
      "--------------------------------------------\n",
      "--------------------------------------------\n",
      "io: 12 account 20 30 action 1000 add 64 address alert\n",
      "--------------------------------------------\n",
      "--------------------------------------------\n",
      "iphone: ajax agt 14 100 2019-12-06t00 align advantage algorithm 20 actual\n",
      "--------------------------------------------\n",
      "--------------------------------------------\n",
      "j: --- align accept algorithm 64 23 alloc across 05 13\n",
      "--------------------------------------------\n",
      "--------------------------------------------\n",
      "java: accept add 00 32 advantage --------------------------------------------------------------------------- 12 11 64 14\n",
      "--------------------------------------------\n",
      "--------------------------------------------\n",
      "javascript: 21 22 16 accept activation address 15 algorithm account align\n",
      "--------------------------------------------\n",
      "--------------------------------------------\n",
      "jpa: 64 access action ajax 22 algorithm additional advantage agt --\n",
      "--------------------------------------------\n",
      "--------------------------------------------\n",
      "jquery: algorithm 00 32 15 -1 14 30 achieve account align\n",
      "--------------------------------------------\n",
      "--------------------------------------------\n",
      "json: address -1 --- 30 124 80 11 account actually active\n",
      "--------------------------------------------\n",
      "--------------------------------------------\n",
      "language: actually 2019-12-06t00 -1 11 200 across account advantage 22 accept\n",
      "--------------------------------------------\n",
      "--------------------------------------------\n",
      "laravel: agt 16 20 11 30 00 actual address activation active\n",
      "--------------------------------------------\n",
      "--------------------------------------------\n",
      "layout: 21 64 32 access algorithm 14 advantage 23 additional agt\n",
      "--------------------------------------------\n",
      "--------------------------------------------\n",
      "learning: alloc 00 accept 80 01 address 20 add across account\n",
      "--------------------------------------------\n",
      "--------------------------------------------\n",
      "linux: 200 64 15 21 16 80 activation 30 --------------------------------------------------------------------------- --\n",
      "--------------------------------------------\n",
      "--------------------------------------------\n",
      "machine: activation address -1 01 20 algorithm across account add alloc\n",
      "--------------------------------------------\n",
      "--------------------------------------------\n",
      "macos: 05 1000 action 11 01 accept add align across advantage\n",
      "--------------------------------------------\n",
      "--------------------------------------------\n",
      "maven: 23 50 64 2019-12-06t00 05 activation advantage able algorithm ajax\n",
      "--------------------------------------------\n",
      "--------------------------------------------\n",
      "memory: 01 16 1000 200 22 13 50 14 --- align\n",
      "--------------------------------------------\n",
      "--------------------------------------------\n",
      "multithreading: 20 able 32 13 15 actually algorithm address across account\n",
      "--------------------------------------------\n",
      "--------------------------------------------\n",
      "mvc: actually add -- ajax 15 achieve address 200 --------------------------------------------------------------------------- across\n",
      "--------------------------------------------\n",
      "--------------------------------------------\n",
      "mysql: 10 actual actually alloc alert 64 agt account advantage active\n",
      "--------------------------------------------\n",
      "--------------------------------------------\n",
      "net: --- 05 accept 10 200 22 actually -- 2019-12-06t00 additional\n",
      "--------------------------------------------\n",
      "--------------------------------------------\n",
      "node: alert accept 20 across 50 --------------------------------------------------------------------------- alloc 13 23 algorithm\n",
      "--------------------------------------------\n",
      "--------------------------------------------\n",
      "numpy: accept ajax activation achieve account 50 add -- 80 agt\n",
      "--------------------------------------------\n",
      "--------------------------------------------\n",
      "objective: 01 00 action 15 achieve add address accept able 20\n",
      "--------------------------------------------\n",
      "--------------------------------------------\n",
      "optimization: 00 50 actually 64 32 80 16 accept ajax address\n",
      "--------------------------------------------\n",
      "--------------------------------------------\n",
      "panda: 100 05 advantage 12 23 -1 -gt agt able 20\n",
      "--------------------------------------------\n",
      "--------------------------------------------\n",
      "performance: 13 -gt able across accept 200 10 32 align actually\n",
      "--------------------------------------------\n",
      "--------------------------------------------\n",
      "php: activation 124 alloc advantage 50 2019-12-06t00 14 agt 200 active\n",
      "--------------------------------------------\n",
      "--------------------------------------------\n",
      "postgresql: action 22 address 2019-12-06t00 alloc 80 access advantage 23 ajax\n",
      "--------------------------------------------\n",
      "--------------------------------------------\n",
      "processing: 23 ajax 10 align actual 124 32 advantage agt across\n",
      "--------------------------------------------\n",
      "--------------------------------------------\n",
      "programming: account across 100 80 accept add 124 alloc achieve align\n",
      "--------------------------------------------\n",
      "--------------------------------------------\n",
      "python: 2019-12-06t00 22 agt 20 50 --------------------------------------------------------------------------- 1000 80 able algorithm\n",
      "--------------------------------------------\n",
      "--------------------------------------------\n",
      "r: 22 15 account actually -gt alloc 23 address 2019-12-06t00 add\n",
      "--------------------------------------------\n",
      "--------------------------------------------\n",
      "rail: 16 2019-12-06t00 50 1000 32 able ajax 23 alert actually\n",
      "--------------------------------------------\n",
      "--------------------------------------------\n",
      "reactjs: 50 32 1000 100 01 16 additional alert 22 algorithm\n",
      "--------------------------------------------\n",
      "--------------------------------------------\n",
      "ruby: account 16 01 actually agt alert 32 124 21 23\n",
      "--------------------------------------------\n",
      "--------------------------------------------\n",
      "security: 124 20 account ajax 13 alert access active 2019-12-06t00 algorithm\n",
      "--------------------------------------------\n",
      "--------------------------------------------\n",
      "selenium: agt 13 22 15 ajax 32 action accept alloc --\n",
      "--------------------------------------------\n",
      "--------------------------------------------\n",
      "server: 10 actual address 15 agt 20 50 22 124 -1\n",
      "--------------------------------------------\n",
      "--------------------------------------------\n",
      "service: --------------------------------------------------------------------------- address 11 algorithm 13 alert additional ajax 14 access\n",
      "--------------------------------------------\n",
      "--------------------------------------------\n",
      "spark: 80 achieve 22 16 2019-12-06t00 11 activation 20 action algorithm\n",
      "--------------------------------------------\n",
      "--------------------------------------------\n",
      "spring: address accept 100 -- 23 200 14 21 80 64\n",
      "--------------------------------------------\n",
      "--------------------------------------------\n",
      "sql: align 10 achieve 20 01 124 11 actually access 00\n",
      "--------------------------------------------\n",
      "--------------------------------------------\n",
      "ssl: advantage 11 1000 achieve 14 accept align 23 124 across\n",
      "--------------------------------------------\n",
      "--------------------------------------------\n",
      "string: achieve account actually access 14 10 00 --------------------------------------------------------------------------- 50 alert\n",
      "--------------------------------------------\n",
      "--------------------------------------------\n",
      "studio: across 14 -- actual activation advantage 10 100 32 add\n",
      "--------------------------------------------\n",
      "--------------------------------------------\n",
      "swift: 1000 account actually 30 activation actual align 124 active alert\n",
      "--------------------------------------------\n",
      "--------------------------------------------\n",
      "testing: account 00 50 200 2019-12-06t00 --------------------------------------------------------------------------- -1 32 21 algorithm\n",
      "--------------------------------------------\n",
      "--------------------------------------------\n",
      "text: alloc align agt 10 21 address 20 100 50 achieve\n",
      "--------------------------------------------\n",
      "--------------------------------------------\n",
      "touch: actual additional 16 action 10 add accept align 30 alloc\n",
      "--------------------------------------------\n",
      "--------------------------------------------\n",
      "twitter: able actually advantage agt 30 action address achieve 64 50\n",
      "--------------------------------------------\n",
      "--------------------------------------------\n",
      "type: 200 add 64 12 account additional ajax 16 -- accept\n",
      "--------------------------------------------\n",
      "--------------------------------------------\n",
      "ubuntu: 14 achieve alloc -- -gt 15 actually 10 actual activation\n",
      "--------------------------------------------\n",
      "--------------------------------------------\n",
      "unit: 200 00 2019-12-06t00 actually 50 21 active 32 alert algorithm\n",
      "--------------------------------------------\n",
      "--------------------------------------------\n",
      "variable: accept active add 16 50 alloc algorithm agt 64 able\n",
      "--------------------------------------------\n",
      "--------------------------------------------\n",
      "video: 200 accept --- activation align actually alert 80 algorithm --\n",
      "--------------------------------------------\n",
      "--------------------------------------------\n",
      "visual: 22 --- 64 32 100 01 200 2019-12-06t00 add 1000\n",
      "--------------------------------------------\n",
      "--------------------------------------------\n",
      "web: 01 13 advantage 50 16 access 30 action 64 across\n",
      "--------------------------------------------\n",
      "--------------------------------------------\n",
      "window: advantage action 64 14 alert address achieve across 32 ajax\n",
      "--------------------------------------------\n",
      "--------------------------------------------\n",
      "wpf: 1000 20 22 active 64 align -1 01 algorithm able\n",
      "--------------------------------------------\n",
      "--------------------------------------------\n",
      "x: 23 accept add 16 activation 20 21 access 32 alert\n",
      "--------------------------------------------\n",
      "--------------------------------------------\n",
      "xcode: additional 13 80 124 actual -- 64 access 20 add\n",
      "--------------------------------------------\n"
     ]
    }
   ],
   "source": [
    "print_top10(feature_names, best_model, multilabel_binarizer.classes_)"
   ]
  },
  {
   "cell_type": "code",
   "execution_count": null,
   "id": "743a5d83",
   "metadata": {},
   "outputs": [],
   "source": []
  },
  {
   "cell_type": "code",
   "execution_count": null,
   "id": "b5fc7360",
   "metadata": {},
   "outputs": [],
   "source": []
  },
  {
   "cell_type": "markdown",
   "id": "7449566d",
   "metadata": {},
   "source": [
    "# USE - Universal Sentence Encoder"
   ]
  },
  {
   "cell_type": "markdown",
   "id": "0040a029",
   "metadata": {},
   "source": [
    "https://www.analyticsvidhya.com/blog/2020/08/top-4-sentence-embedding-techniques-using-python/"
   ]
  },
  {
   "cell_type": "markdown",
   "id": "6831f4ac",
   "metadata": {},
   "source": [
    "Universal Sentence Encoder\n",
    "One of the most well-performing sentence embedding techniques right now is the Universal Sentence Encoder. And it should come as no surprise from anybody that it has been proposed by Google. The key feature here is that we can use it for Multi-task learning.\n",
    "\n",
    "This means that the sentence embeddings we generate can be used for multiple tasks like sentiment analysis, text classification, sentence similarity, etc, and the results of these asks are then fed back to the model to get even better sentence vectors that before.\n",
    "\n",
    "The most interesting part is that this encoder is based on two encoder models and we can use either of the two:\n",
    "\n",
    "Transformer\n",
    "Deep Averaging Network(DAN)\n",
    "Both of these models are capable of taking a word or a sentence as input and generating embeddings for the same. The following is the basic flow:\n",
    "\n",
    "Tokenize the sentences after converting them to lowercase\n",
    "Depending on the type of encoder, the sentence gets converted to a 512-dimensional vector\n",
    "If we use the transformer, it is similar to the encoder module of the transformer architecture and uses the self-attention mechanism.\n",
    "The DAN option computes the unigram and bigram embeddings first and then averages them to get a single embedding. This is then passed to a deep neural network to get a final sentence embedding of 512 dimensions.\n",
    "These sentence embeddings are then used for various unsupervised and supervised tasks like Skipthoughts, NLI, etc. The trained model is then again reused to generate a new 512 dimension sentence embedding."
   ]
  },
  {
   "cell_type": "code",
   "execution_count": 170,
   "id": "0ae613a9",
   "metadata": {},
   "outputs": [],
   "source": [
    "import os \n",
    "import tensorflow as tf\n",
    "import tensorflow_hub as hub\n",
    "import tensorflow.keras\n",
    "from tensorflow.keras import backend as K\n",
    "\n",
    "from tensorflow.keras.preprocessing.text import Tokenizer\n",
    "from tensorflow.keras.preprocessing.sequence import pad_sequences\n",
    "from tensorflow.keras import metrics as kmetrics\n",
    "from tensorflow.keras.layers import *\n",
    "from tensorflow.keras.models import Model\n",
    "\n",
    "# Bert\n",
    "import transformers\n",
    "from transformers import *\n",
    "\n",
    "os.environ[\"TF_KERAS\"]='1'"
   ]
  },
  {
   "cell_type": "code",
   "execution_count": 171,
   "id": "c53fa803",
   "metadata": {},
   "outputs": [
    {
     "name": "stdout",
     "output_type": "stream",
     "text": [
      "2.7.0\n",
      "2.7.0\n",
      "Num GPUs Available:  0\n",
      "True\n"
     ]
    }
   ],
   "source": [
    "print(tf.__version__)\n",
    "print(tensorflow.__version__)\n",
    "print(\"Num GPUs Available: \", len(tf.config.experimental.list_physical_devices('GPU')))\n",
    "print(tf.test.is_built_with_cuda())"
   ]
  },
  {
   "cell_type": "code",
   "execution_count": 172,
   "id": "0d9b8d87",
   "metadata": {},
   "outputs": [],
   "source": [
    "#pip uninstall h5py"
   ]
  },
  {
   "cell_type": "code",
   "execution_count": 173,
   "id": "afa829d9",
   "metadata": {},
   "outputs": [],
   "source": [
    "#pip install h5py"
   ]
  },
  {
   "cell_type": "code",
   "execution_count": 174,
   "id": "a84a9452",
   "metadata": {},
   "outputs": [],
   "source": [
    "#pip install tensorflow_hub"
   ]
  },
  {
   "cell_type": "code",
   "execution_count": 15,
   "id": "dd891f73",
   "metadata": {
    "scrolled": true
   },
   "outputs": [
    {
     "name": "stderr",
     "output_type": "stream",
     "text": [
      "2022-11-04 12:03:11.990622: I tensorflow/core/platform/cpu_feature_guard.cc:151] This TensorFlow binary is optimized with oneAPI Deep Neural Network Library (oneDNN) to use the following CPU instructions in performance-critical operations:  AVX2 FMA\n",
      "To enable them in other operations, rebuild TensorFlow with the appropriate compiler flags.\n"
     ]
    }
   ],
   "source": [
    "import tensorflow_hub as hub\n",
    "embed = hub.load(\"https://tfhub.dev/google/universal-sentence-encoder/4\")"
   ]
  },
  {
   "cell_type": "code",
   "execution_count": 175,
   "id": "bad9e9e7",
   "metadata": {},
   "outputs": [],
   "source": [
    "def feature_USE_fct(sentences, b_size) :\n",
    "    batch_size = b_size\n",
    "    time1 = time.time()\n",
    "\n",
    "    for step in range(len(sentences)//batch_size) :\n",
    "        idx = step*batch_size\n",
    "        feat = embed(sentences[idx:idx+batch_size])\n",
    "\n",
    "        if step ==0 :\n",
    "            features = feat\n",
    "        else :\n",
    "            features = np.concatenate((features,feat))\n",
    "\n",
    "    time2 = np.round(time.time() - time1,0)\n",
    "    return features"
   ]
  },
  {
   "cell_type": "code",
   "execution_count": 176,
   "id": "94c7fc97",
   "metadata": {},
   "outputs": [],
   "source": [
    "batch_size = 10\n",
    "sentences = df1['full_review'].to_list()"
   ]
  },
  {
   "cell_type": "code",
   "execution_count": 177,
   "id": "cc3dd3d4",
   "metadata": {},
   "outputs": [],
   "source": [
    "features_USE = feature_USE_fct(sentences, batch_size)"
   ]
  },
  {
   "cell_type": "code",
   "execution_count": 178,
   "id": "245dcab2",
   "metadata": {
    "scrolled": true
   },
   "outputs": [
    {
     "data": {
      "text/plain": [
       "array([[-0.04131607,  0.05383859, -0.05268721, ...,  0.05510056,\n",
       "         0.00787973, -0.05373742],\n",
       "       [-0.03830701, -0.04390878, -0.00939006, ...,  0.07312786,\n",
       "        -0.04114195, -0.01097359],\n",
       "       [-0.04509569,  0.0286247 , -0.00332976, ...,  0.05731672,\n",
       "         0.01536032,  0.02657544],\n",
       "       ...,\n",
       "       [ 0.04570406, -0.04586104, -0.04586098, ...,  0.04586104,\n",
       "        -0.04586104, -0.04506702],\n",
       "       [-0.06660347, -0.04668522, -0.01441158, ...,  0.06183381,\n",
       "        -0.06017228, -0.05306025],\n",
       "       [-0.01779602, -0.02463294,  0.05814821, ...,  0.06155334,\n",
       "         0.01990377, -0.05897665]], dtype=float32)"
      ]
     },
     "execution_count": 178,
     "metadata": {},
     "output_type": "execute_result"
    }
   ],
   "source": [
    "features_USE"
   ]
  },
  {
   "cell_type": "code",
   "execution_count": 192,
   "id": "d9d7766f",
   "metadata": {},
   "outputs": [
    {
     "data": {
      "text/plain": [
       "(2690, 512)"
      ]
     },
     "execution_count": 192,
     "metadata": {},
     "output_type": "execute_result"
    }
   ],
   "source": [
    "features_USE.shape"
   ]
  },
  {
   "cell_type": "code",
   "execution_count": 193,
   "id": "83f09d74",
   "metadata": {},
   "outputs": [
    {
     "data": {
      "text/plain": [
       "(2692, 4)"
      ]
     },
     "execution_count": 193,
     "metadata": {},
     "output_type": "execute_result"
    }
   ],
   "source": [
    "df1.shape"
   ]
  },
  {
   "cell_type": "code",
   "execution_count": 194,
   "id": "15440900",
   "metadata": {},
   "outputs": [
    {
     "data": {
      "text/html": [
       "<div>\n",
       "<style scoped>\n",
       "    .dataframe tbody tr th:only-of-type {\n",
       "        vertical-align: middle;\n",
       "    }\n",
       "\n",
       "    .dataframe tbody tr th {\n",
       "        vertical-align: top;\n",
       "    }\n",
       "\n",
       "    .dataframe thead th {\n",
       "        text-align: right;\n",
       "    }\n",
       "</style>\n",
       "<table border=\"1\" class=\"dataframe\">\n",
       "  <thead>\n",
       "    <tr style=\"text-align: right;\">\n",
       "      <th></th>\n",
       "      <th>Id</th>\n",
       "      <th>full_review</th>\n",
       "      <th>clean_tags</th>\n",
       "      <th>Tags</th>\n",
       "    </tr>\n",
       "  </thead>\n",
       "  <tbody>\n",
       "    <tr>\n",
       "      <th>0</th>\n",
       "      <td>9122282</td>\n",
       "      <td>open terminal application nodejs pi would like...</td>\n",
       "      <td>node j vim terminal coffeescript readline</td>\n",
       "      <td>[node, j]</td>\n",
       "    </tr>\n",
       "    <tr>\n",
       "      <th>1</th>\n",
       "      <td>5843427</td>\n",
       "      <td>add action button programmatically xcode pi kn...</td>\n",
       "      <td>io iphone objective c uibutton programmaticall...</td>\n",
       "      <td>[io, iphone, objective, c]</td>\n",
       "    </tr>\n",
       "    <tr>\n",
       "      <th>2</th>\n",
       "      <td>21574881</td>\n",
       "      <td>responsive design media query screen size pi w...</td>\n",
       "      <td>cs responsive design medium query mobile websi...</td>\n",
       "      <td>[cs, design]</td>\n",
       "    </tr>\n",
       "    <tr>\n",
       "      <th>3</th>\n",
       "      <td>4125805</td>\n",
       "      <td>ipad flicker auto scroll use jquery scrollto p...</td>\n",
       "      <td>iphone jquery ipad io scrollto</td>\n",
       "      <td>[iphone, jquery, ipad, io]</td>\n",
       "    </tr>\n",
       "    <tr>\n",
       "      <th>4</th>\n",
       "      <td>7535737</td>\n",
       "      <td>use -- no-rdoc -- no-ri bundler pwhen use code...</td>\n",
       "      <td>ruby rail ruby rubygems gem bundler</td>\n",
       "      <td>[ruby, rail, ruby]</td>\n",
       "    </tr>\n",
       "    <tr>\n",
       "      <th>...</th>\n",
       "      <td>...</td>\n",
       "      <td>...</td>\n",
       "      <td>...</td>\n",
       "      <td>...</td>\n",
       "    </tr>\n",
       "    <tr>\n",
       "      <th>2788</th>\n",
       "      <td>37361145</td>\n",
       "      <td>deoptimizing program pipeline intel sandybridg...</td>\n",
       "      <td>c optimization x intel cpu architecture</td>\n",
       "      <td>[c, optimization, x, architecture]</td>\n",
       "    </tr>\n",
       "    <tr>\n",
       "      <th>2789</th>\n",
       "      <td>1895476</td>\n",
       "      <td>style select dropdown css pis css-only way sty...</td>\n",
       "      <td>html cs combobox cross browser skinning</td>\n",
       "      <td>[html, cs]</td>\n",
       "    </tr>\n",
       "    <tr>\n",
       "      <th>2790</th>\n",
       "      <td>15634021</td>\n",
       "      <td>document magic call callstatic methods ides pa...</td>\n",
       "      <td>php documentation phpstorm magic method docblocks</td>\n",
       "      <td>[php]</td>\n",
       "    </tr>\n",
       "    <tr>\n",
       "      <th>2791</th>\n",
       "      <td>6928752</td>\n",
       "      <td>stop execution task dispatch queue pif serial ...</td>\n",
       "      <td>iphone io multithreading xcode grand central d...</td>\n",
       "      <td>[iphone, io, multithreading, xcode]</td>\n",
       "    </tr>\n",
       "    <tr>\n",
       "      <th>2792</th>\n",
       "      <td>19540289</td>\n",
       "      <td>fix javasecuritycertcertificateexception subje...</td>\n",
       "      <td>java ssl http certificate ssl certificate</td>\n",
       "      <td>[java, http]</td>\n",
       "    </tr>\n",
       "  </tbody>\n",
       "</table>\n",
       "<p>2692 rows × 4 columns</p>\n",
       "</div>"
      ],
      "text/plain": [
       "            Id                                        full_review  \\\n",
       "0      9122282  open terminal application nodejs pi would like...   \n",
       "1      5843427  add action button programmatically xcode pi kn...   \n",
       "2     21574881  responsive design media query screen size pi w...   \n",
       "3      4125805  ipad flicker auto scroll use jquery scrollto p...   \n",
       "4      7535737  use -- no-rdoc -- no-ri bundler pwhen use code...   \n",
       "...        ...                                                ...   \n",
       "2788  37361145  deoptimizing program pipeline intel sandybridg...   \n",
       "2789   1895476  style select dropdown css pis css-only way sty...   \n",
       "2790  15634021  document magic call callstatic methods ides pa...   \n",
       "2791   6928752  stop execution task dispatch queue pif serial ...   \n",
       "2792  19540289  fix javasecuritycertcertificateexception subje...   \n",
       "\n",
       "                                             clean_tags  \\\n",
       "0             node j vim terminal coffeescript readline   \n",
       "1     io iphone objective c uibutton programmaticall...   \n",
       "2     cs responsive design medium query mobile websi...   \n",
       "3                        iphone jquery ipad io scrollto   \n",
       "4                   ruby rail ruby rubygems gem bundler   \n",
       "...                                                 ...   \n",
       "2788            c optimization x intel cpu architecture   \n",
       "2789            html cs combobox cross browser skinning   \n",
       "2790  php documentation phpstorm magic method docblocks   \n",
       "2791  iphone io multithreading xcode grand central d...   \n",
       "2792          java ssl http certificate ssl certificate   \n",
       "\n",
       "                                     Tags  \n",
       "0                               [node, j]  \n",
       "1              [io, iphone, objective, c]  \n",
       "2                            [cs, design]  \n",
       "3              [iphone, jquery, ipad, io]  \n",
       "4                      [ruby, rail, ruby]  \n",
       "...                                   ...  \n",
       "2788   [c, optimization, x, architecture]  \n",
       "2789                           [html, cs]  \n",
       "2790                                [php]  \n",
       "2791  [iphone, io, multithreading, xcode]  \n",
       "2792                         [java, http]  \n",
       "\n",
       "[2692 rows x 4 columns]"
      ]
     },
     "execution_count": 194,
     "metadata": {},
     "output_type": "execute_result"
    }
   ],
   "source": [
    "df1"
   ]
  },
  {
   "cell_type": "code",
   "execution_count": 195,
   "id": "f92b7733",
   "metadata": {
    "scrolled": true
   },
   "outputs": [],
   "source": [
    "df1 = df1.sample(n = 2690,replace=True)"
   ]
  },
  {
   "cell_type": "code",
   "execution_count": 196,
   "id": "3e474258",
   "metadata": {},
   "outputs": [],
   "source": [
    "y = df1['Tags']"
   ]
  },
  {
   "cell_type": "code",
   "execution_count": 197,
   "id": "dcc458aa",
   "metadata": {},
   "outputs": [],
   "source": [
    "multilabel_binarizer = MultiLabelBinarizer()\n",
    "y_bin = multilabel_binarizer.fit_transform(y)"
   ]
  },
  {
   "cell_type": "code",
   "execution_count": 198,
   "id": "730cb97a",
   "metadata": {},
   "outputs": [
    {
     "data": {
      "text/plain": [
       "(2690, 100)"
      ]
     },
     "execution_count": 198,
     "metadata": {},
     "output_type": "execute_result"
    }
   ],
   "source": [
    "y_bin.shape"
   ]
  },
  {
   "cell_type": "markdown",
   "id": "6f52746c",
   "metadata": {},
   "source": [
    "# USE PCA"
   ]
  },
  {
   "cell_type": "code",
   "execution_count": 199,
   "id": "a2d6fdf4",
   "metadata": {},
   "outputs": [],
   "source": [
    "from sklearn.decomposition import TruncatedSVD"
   ]
  },
  {
   "cell_type": "code",
   "execution_count": 200,
   "id": "dd80f0f4",
   "metadata": {},
   "outputs": [],
   "source": [
    "clf = TruncatedSVD(500)\n",
    "Xpca = clf.fit_transform(features_USE)"
   ]
  },
  {
   "cell_type": "code",
   "execution_count": 201,
   "id": "36d633f0",
   "metadata": {},
   "outputs": [
    {
     "data": {
      "text/plain": [
       "array([8.06263927e-03, 4.03949991e-02, 3.52403186e-02, 3.30861658e-02,\n",
       "       3.09685748e-02, 2.68982649e-02, 2.64112316e-02, 2.35921387e-02,\n",
       "       2.08604168e-02, 1.93208884e-02, 1.66404285e-02, 1.51438974e-02,\n",
       "       1.46640213e-02, 1.39133334e-02, 1.33347008e-02, 1.31400488e-02,\n",
       "       1.24615449e-02, 1.15488684e-02, 1.09623671e-02, 1.06394459e-02,\n",
       "       9.95552912e-03, 9.64264385e-03, 9.54802521e-03, 9.01217107e-03,\n",
       "       8.67933035e-03, 8.35164450e-03, 8.17994960e-03, 7.94978626e-03,\n",
       "       7.86456466e-03, 7.60123692e-03, 7.47944368e-03, 7.21785659e-03,\n",
       "       7.12003652e-03, 6.98026083e-03, 6.85849460e-03, 6.54201396e-03,\n",
       "       6.46948395e-03, 6.24994794e-03, 6.11333875e-03, 6.02814322e-03,\n",
       "       5.96903963e-03, 5.89000341e-03, 5.69633581e-03, 5.57954237e-03,\n",
       "       5.54674445e-03, 5.42786252e-03, 5.30862948e-03, 5.28322160e-03,\n",
       "       5.16718253e-03, 5.09055657e-03, 5.03442809e-03, 4.92669735e-03,\n",
       "       4.90508229e-03, 4.77799308e-03, 4.68845107e-03, 4.66314331e-03,\n",
       "       4.56763711e-03, 4.50525619e-03, 4.44613025e-03, 4.32079239e-03,\n",
       "       4.21973737e-03, 4.19120723e-03, 4.11896594e-03, 4.07447200e-03,\n",
       "       3.97116691e-03, 3.93518945e-03, 3.91894206e-03, 3.82316997e-03,\n",
       "       3.78431054e-03, 3.72130657e-03, 3.67160491e-03, 3.65543179e-03,\n",
       "       3.56385414e-03, 3.50760017e-03, 3.46232508e-03, 3.43174185e-03,\n",
       "       3.38859088e-03, 3.30939470e-03, 3.24504334e-03, 3.21501633e-03,\n",
       "       3.17434967e-03, 3.13868467e-03, 3.09895165e-03, 3.08503886e-03,\n",
       "       3.05622257e-03, 2.98329652e-03, 2.92939204e-03, 2.86610541e-03,\n",
       "       2.85258191e-03, 2.83758505e-03, 2.79990514e-03, 2.76572141e-03,\n",
       "       2.72786338e-03, 2.68919487e-03, 2.66909786e-03, 2.63700169e-03,\n",
       "       2.61024013e-03, 2.58967606e-03, 2.55699176e-03, 2.52888422e-03,\n",
       "       2.51506199e-03, 2.46305601e-03, 2.42836680e-03, 2.42056744e-03,\n",
       "       2.39477470e-03, 2.37256824e-03, 2.34565767e-03, 2.31293403e-03,\n",
       "       2.28548562e-03, 2.21997942e-03, 2.18990771e-03, 2.16222159e-03,\n",
       "       2.11805757e-03, 2.09234259e-03, 2.07357295e-03, 2.06577848e-03,\n",
       "       2.02711858e-03, 2.01060297e-03, 1.99867901e-03, 1.99131574e-03,\n",
       "       1.94861845e-03, 1.90536107e-03, 1.89288356e-03, 1.85136602e-03,\n",
       "       1.84023788e-03, 1.81245361e-03, 1.77976314e-03, 1.74462656e-03,\n",
       "       1.72342907e-03, 1.70932466e-03, 1.68017147e-03, 1.65199686e-03,\n",
       "       1.64544419e-03, 1.62057334e-03, 1.61063496e-03, 1.60077063e-03,\n",
       "       1.59483077e-03, 1.52696529e-03, 1.51497137e-03, 1.50117499e-03,\n",
       "       1.49898173e-03, 1.45482772e-03, 1.43544329e-03, 1.42319396e-03,\n",
       "       1.38083263e-03, 1.36595720e-03, 1.34606787e-03, 1.32171833e-03,\n",
       "       1.30798283e-03, 1.28428929e-03, 1.26268424e-03, 1.25344202e-03,\n",
       "       1.23847206e-03, 1.19504565e-03, 1.17048074e-03, 1.14582351e-03,\n",
       "       1.14100717e-03, 1.11982971e-03, 1.11476274e-03, 1.10228325e-03,\n",
       "       1.09140528e-03, 1.06953841e-03, 1.04850612e-03, 1.02597673e-03,\n",
       "       9.99900512e-04, 9.84429382e-04, 9.64486622e-04, 9.47026245e-04,\n",
       "       9.37737001e-04, 9.20349034e-04, 9.14507953e-04, 8.98600731e-04,\n",
       "       8.73725628e-04, 8.70026008e-04, 8.45522154e-04, 8.35640647e-04,\n",
       "       8.32180434e-04, 8.23665701e-04, 8.01277638e-04, 7.97125744e-04,\n",
       "       7.95148371e-04, 7.87084689e-04, 7.75068766e-04, 7.70925893e-04,\n",
       "       7.59274175e-04, 7.42074975e-04, 7.40573800e-04, 7.28613697e-04,\n",
       "       7.20739074e-04, 7.07780360e-04, 7.04244827e-04, 6.99426921e-04,\n",
       "       6.96597097e-04, 6.91024354e-04, 6.84166094e-04, 6.71255460e-04,\n",
       "       6.67371729e-04, 6.61530008e-04, 6.42356172e-04, 6.36768760e-04,\n",
       "       6.30424591e-04, 6.20371778e-04, 6.11372583e-04, 6.07665279e-04,\n",
       "       6.00422092e-04, 5.94336248e-04, 5.86448063e-04, 5.85871865e-04,\n",
       "       5.80455351e-04, 5.75375743e-04, 5.73396275e-04, 5.60586457e-04,\n",
       "       5.56335726e-04, 5.56096027e-04, 5.47804346e-04, 5.39720349e-04,\n",
       "       5.37435699e-04, 5.32122562e-04, 5.28935518e-04, 5.24359406e-04,\n",
       "       5.19592839e-04, 5.16734377e-04, 5.14252984e-04, 5.08883386e-04,\n",
       "       5.05268981e-04, 4.96902212e-04, 4.94878739e-04, 4.93170228e-04,\n",
       "       4.90592327e-04, 4.85549797e-04, 4.82735370e-04, 4.80533578e-04,\n",
       "       4.76010086e-04, 4.74540459e-04, 4.68548504e-04, 4.65998804e-04,\n",
       "       4.63190285e-04, 4.58544440e-04, 4.54731809e-04, 4.46504739e-04,\n",
       "       4.43927594e-04, 4.42256220e-04, 4.37921321e-04, 4.35224210e-04,\n",
       "       4.30369837e-04, 4.26886720e-04, 4.22234967e-04, 4.21057659e-04,\n",
       "       4.19380027e-04, 4.15243325e-04, 4.13832720e-04, 4.09191765e-04,\n",
       "       4.07619431e-04, 4.02981823e-04, 4.02686914e-04, 4.00770834e-04,\n",
       "       3.97792144e-04, 3.96303047e-04, 3.93888797e-04, 3.90395406e-04,\n",
       "       3.88374901e-04, 3.83540551e-04, 3.82268947e-04, 3.80688405e-04,\n",
       "       3.78484314e-04, 3.75616772e-04, 3.72496492e-04, 3.70803347e-04,\n",
       "       3.66352993e-04, 3.63002328e-04, 3.58797901e-04, 3.57505953e-04,\n",
       "       3.54390446e-04, 3.53073119e-04, 3.51891416e-04, 3.49612412e-04,\n",
       "       3.47531546e-04, 3.44436616e-04, 3.43478372e-04, 3.42987478e-04,\n",
       "       3.40585917e-04, 3.40026687e-04, 3.36490659e-04, 3.34566430e-04,\n",
       "       3.32047493e-04, 3.30317242e-04, 3.29681614e-04, 3.29119881e-04,\n",
       "       3.25429952e-04, 3.22264095e-04, 3.20544845e-04, 3.18635168e-04,\n",
       "       3.17670288e-04, 3.12603341e-04, 3.10757634e-04, 3.09950090e-04,\n",
       "       3.07280221e-04, 3.06797941e-04, 3.05858470e-04, 2.99900450e-04,\n",
       "       2.99149135e-04, 2.96946702e-04, 2.96475977e-04, 2.94886471e-04,\n",
       "       2.93099525e-04, 2.92278302e-04, 2.89896707e-04, 2.87210540e-04,\n",
       "       2.86697847e-04, 2.85198388e-04, 2.84932321e-04, 2.83767178e-04,\n",
       "       2.81078741e-04, 2.80319364e-04, 2.77274637e-04, 2.76262988e-04,\n",
       "       2.75305531e-04, 2.75044644e-04, 2.72738776e-04, 2.71636032e-04,\n",
       "       2.68229604e-04, 2.67051859e-04, 2.66472867e-04, 2.63704715e-04,\n",
       "       2.62272661e-04, 2.61409994e-04, 2.60379195e-04, 2.57591106e-04,\n",
       "       2.56616710e-04, 2.56080704e-04, 2.55229854e-04, 2.51232123e-04,\n",
       "       2.50915356e-04, 2.50256184e-04, 2.48657074e-04, 2.46194773e-04,\n",
       "       2.46067939e-04, 2.45050032e-04, 2.43109374e-04, 2.41110494e-04,\n",
       "       2.40284920e-04, 2.38795110e-04, 2.37138651e-04, 2.36918495e-04,\n",
       "       2.34905528e-04, 2.33003331e-04, 2.31303158e-04, 2.31007245e-04,\n",
       "       2.28423800e-04, 2.28171950e-04, 2.27592696e-04, 2.25596974e-04,\n",
       "       2.25241209e-04, 2.24214513e-04, 2.23553448e-04, 2.22612493e-04,\n",
       "       2.21123395e-04, 2.19412017e-04, 2.17752502e-04, 2.16518194e-04,\n",
       "       2.15190375e-04, 2.14247440e-04, 2.11833365e-04, 2.11680759e-04,\n",
       "       2.10893399e-04, 2.09348553e-04, 2.07829362e-04, 2.07312565e-04,\n",
       "       2.05229502e-04, 2.04628275e-04, 2.03502190e-04, 2.01906223e-04,\n",
       "       2.01583010e-04, 2.00457187e-04, 2.00148570e-04, 1.98852897e-04,\n",
       "       1.97004731e-04, 1.96874695e-04, 1.96470719e-04, 1.94938213e-04,\n",
       "       1.93100976e-04, 1.92361229e-04, 1.92266307e-04, 1.89666476e-04,\n",
       "       1.88944483e-04, 1.88438731e-04, 1.87168465e-04, 1.86077465e-04,\n",
       "       1.84936245e-04, 1.83855911e-04, 1.83849639e-04, 1.82330346e-04,\n",
       "       1.81426934e-04, 1.79657873e-04, 1.78601520e-04, 1.78379152e-04,\n",
       "       1.77593276e-04, 1.75630790e-04, 1.74753193e-04, 1.73709079e-04,\n",
       "       1.73437424e-04, 1.72588610e-04, 1.70977844e-04, 1.70141007e-04,\n",
       "       1.69087740e-04, 1.68469429e-04, 1.66493293e-04, 1.66139551e-04,\n",
       "       1.65782752e-04, 1.64362238e-04, 1.63290679e-04, 1.61777207e-04,\n",
       "       1.61143806e-04, 1.60164593e-04, 1.59174073e-04, 1.57705028e-04,\n",
       "       1.57218790e-04, 1.55884612e-04, 1.55446105e-04, 1.54341629e-04,\n",
       "       1.53590998e-04, 1.52512279e-04, 1.52106673e-04, 1.51154571e-04,\n",
       "       1.50424617e-04, 1.49362342e-04, 1.48813691e-04, 1.48169318e-04,\n",
       "       1.47372775e-04, 1.46220656e-04, 1.45872182e-04, 1.44373815e-04,\n",
       "       1.42815741e-04, 1.41166602e-04, 1.40681877e-04, 1.39848766e-04,\n",
       "       1.39141688e-04, 1.37999305e-04, 1.37000854e-04, 1.36602379e-04,\n",
       "       1.36191564e-04, 1.34929520e-04, 1.34257294e-04, 1.32229674e-04,\n",
       "       1.32073896e-04, 1.31729335e-04, 1.29672422e-04, 1.29486580e-04,\n",
       "       1.28995409e-04, 1.26728875e-04, 1.26648200e-04, 1.25806240e-04,\n",
       "       1.25191058e-04, 1.24078695e-04, 1.22701371e-04, 1.22519297e-04,\n",
       "       1.21311001e-04, 1.21268153e-04, 1.19744262e-04, 1.18606891e-04,\n",
       "       1.17962845e-04, 1.17193005e-04, 1.16258350e-04, 1.15688606e-04,\n",
       "       1.15214090e-04, 1.14278191e-04, 1.13785129e-04, 1.11620328e-04,\n",
       "       1.10106033e-04, 1.08575849e-04, 1.07770065e-04, 1.07462409e-04,\n",
       "       1.06831249e-04, 1.06012769e-04, 1.05109393e-04, 1.03916485e-04,\n",
       "       1.03298975e-04, 1.01824429e-04, 1.00759338e-04, 1.00079269e-04,\n",
       "       9.96106246e-05, 9.77844538e-05, 9.69041284e-05, 9.62344493e-05,\n",
       "       9.54555289e-05, 9.46555519e-05, 9.29980015e-05, 9.11672541e-05,\n",
       "       9.05610577e-05, 8.98133003e-05, 8.90555675e-05, 8.75377591e-05,\n",
       "       8.54761602e-05, 8.46672701e-05, 8.18140688e-05, 8.00562775e-05,\n",
       "       7.72406129e-05, 7.47481245e-05, 6.81427919e-05, 6.71174785e-05],\n",
       "      dtype=float32)"
      ]
     },
     "execution_count": 201,
     "metadata": {},
     "output_type": "execute_result"
    }
   ],
   "source": [
    "clf.explained_variance_ratio_"
   ]
  },
  {
   "cell_type": "code",
   "execution_count": 202,
   "id": "37070925",
   "metadata": {},
   "outputs": [
    {
     "data": {
      "text/plain": [
       "Text(0, 0.5, 'Explained Variance')"
      ]
     },
     "execution_count": 202,
     "metadata": {},
     "output_type": "execute_result"
    },
    {
     "data": {
      "image/png": "[encoded data removed]",
      "text/plain": [
       "<Figure size 720x576 with 1 Axes>"
      ]
     },
     "metadata": {
      "needs_background": "light"
     },
     "output_type": "display_data"
    }
   ],
   "source": [
    "plt.figure(figsize = (10, 8))\n",
    "plt.plot(range(1, 501), clf.explained_variance_ratio_.cumsum(),marker = \"o\", linestyle = \"--\")\n",
    "plt.title(\"Explained Variance by Componants\")\n",
    "plt.xlabel(\"Nomber of componants\")\n",
    "plt.ylabel(\"Explained Variance\")"
   ]
  },
  {
   "cell_type": "code",
   "execution_count": 203,
   "id": "39038130",
   "metadata": {},
   "outputs": [],
   "source": [
    "clf = TruncatedSVD(100)\n",
    "Xpca_features_USE = clf.fit_transform(features_USE)"
   ]
  },
  {
   "cell_type": "code",
   "execution_count": 204,
   "id": "65637f6a",
   "metadata": {},
   "outputs": [],
   "source": [
    "from sklearn.model_selection import train_test_split\n",
    "X_train, X_test, y_train, y_test = train_test_split(Xpca_features_USE,y_bin, test_size = 0.2, random_state = 0)"
   ]
  },
  {
   "cell_type": "code",
   "execution_count": 205,
   "id": "93bd3a78",
   "metadata": {},
   "outputs": [],
   "source": [
    "def avg_jacard(y_true,y_pred):\n",
    "    jacard = np.minimum(y_true,y_pred).sum(axis=1) / np.maximum(y_true,y_pred).sum(axis=1)    \n",
    "    return jacard.mean()*100\n",
    "    \n",
    "def print_score(y_pred, clf):\n",
    "    print(\"Clf: \", clf.__class__.__name__)\n",
    "    print(\"Jacard score: {}\".format(avg_jacard(y_test, y_pred)))\n",
    "    print(\"Hamming loss: {}\".format(hamming_loss(y_pred, y_test)*100))\n",
    "    print(\"---\")"
   ]
  },
  {
   "cell_type": "code",
   "execution_count": 206,
   "id": "80513650",
   "metadata": {},
   "outputs": [
    {
     "name": "stdout",
     "output_type": "stream",
     "text": [
      "Clf:  DummyClassifier\n",
      "Jacard score: 3.78732894532151\n",
      "Hamming loss: 4.9684014869888475\n",
      "---\n",
      "Clf:  SGDClassifier\n",
      "Jacard score: 0.0\n",
      "Hamming loss: 2.633828996282528\n",
      "---\n",
      "Clf:  LogisticRegression\n",
      "Jacard score: 0.0\n",
      "Hamming loss: 2.633828996282528\n",
      "---\n",
      "Clf:  LinearSVC\n",
      "Jacard score: 0.0\n",
      "Hamming loss: 2.633828996282528\n",
      "---\n",
      "Clf:  Perceptron\n",
      "Jacard score: 6.485218622765092\n",
      "Hamming loss: 5.180297397769517\n",
      "---\n",
      "Clf:  PassiveAggressiveClassifier\n",
      "Jacard score: 2.4566294919454768\n",
      "Hamming loss: 3.2193308550185873\n",
      "---\n"
     ]
    }
   ],
   "source": [
    "from sklearn.linear_model import Perceptron\n",
    "from sklearn.linear_model import PassiveAggressiveClassifier\n",
    "from sklearn.svm import LinearSVC\n",
    "dummy = DummyClassifier()\n",
    "sgd = SGDClassifier()\n",
    "lr = LogisticRegression()\n",
    "svc = LinearSVC()\n",
    "perceptron = Perceptron()\n",
    "pac = PassiveAggressiveClassifier()\n",
    "\n",
    "for classifier in [dummy, sgd, lr, svc, perceptron, pac]:\n",
    "    clf = OneVsRestClassifier(classifier)\n",
    "    clf.fit(X_train, y_train)\n",
    "    y_pred = clf.predict(X_test)\n",
    "    print_score(y_pred, classifier)"
   ]
  },
  {
   "cell_type": "code",
   "execution_count": 207,
   "id": "894e0f46",
   "metadata": {},
   "outputs": [
    {
     "data": {
      "text/plain": [
       "sklearn.linear_model._stochastic_gradient.SGDClassifier"
      ]
     },
     "execution_count": 207,
     "metadata": {},
     "output_type": "execute_result"
    }
   ],
   "source": [
    "SGDClassifier"
   ]
  },
  {
   "cell_type": "code",
   "execution_count": 208,
   "id": "835b91a8",
   "metadata": {},
   "outputs": [
    {
     "name": "stdout",
     "output_type": "stream",
     "text": [
      "Clf:  SGDClassifier\n",
      "Jacard score: 0.0\n",
      "Hamming loss: 2.633828996282528\n",
      "---\n"
     ]
    }
   ],
   "source": [
    "sgd = SGDClassifier()\n",
    "clf = OneVsRestClassifier(sgd)\n",
    "clf.fit(X_train, y_train)\n",
    "y_pred = clf.predict(X_test)\n",
    "print_score(y_pred, sgd)"
   ]
  },
  {
   "cell_type": "code",
   "execution_count": 209,
   "id": "41308158",
   "metadata": {},
   "outputs": [
    {
     "data": {
      "text/plain": [
       "sklearn.multiclass.OneVsRestClassifier"
      ]
     },
     "execution_count": 209,
     "metadata": {},
     "output_type": "execute_result"
    }
   ],
   "source": [
    "OneVsRestClassifier"
   ]
  },
  {
   "cell_type": "code",
   "execution_count": 210,
   "id": "545b4b20",
   "metadata": {},
   "outputs": [
    {
     "name": "stdout",
     "output_type": "stream",
     "text": [
      "Clf:  LogisticRegression\n",
      "Jacard score: 0.0\n",
      "Hamming loss: 2.633828996282528\n",
      "---\n"
     ]
    }
   ],
   "source": [
    "lr = LogisticRegression()\n",
    "\n",
    "clf = OneVsRestClassifier(lr)\n",
    "clf.fit(X_train, y_train)\n",
    "y_pred = clf.predict(X_test)\n",
    "print_score(y_pred, lr)"
   ]
  },
  {
   "cell_type": "markdown",
   "id": "79d62f0b",
   "metadata": {},
   "source": [
    "MLP Classifier"
   ]
  },
  {
   "cell_type": "code",
   "execution_count": 211,
   "id": "0c0eb98e",
   "metadata": {},
   "outputs": [
    {
     "name": "stdout",
     "output_type": "stream",
     "text": [
      "Clf:  MLPClassifier\n",
      "Jacard score: 0.0\n",
      "Hamming loss: 2.6561338289962824\n",
      "---\n"
     ]
    }
   ],
   "source": [
    "from sklearn.neural_network import MLPClassifier\n",
    "mlpc = MLPClassifier()\n",
    "mlpc.fit(X_train, y_train)\n",
    "\n",
    "y_pred = mlpc.predict(X_test)\n",
    "\n",
    "print_score(y_pred, mlpc)"
   ]
  },
  {
   "cell_type": "code",
   "execution_count": 212,
   "id": "174039a2",
   "metadata": {},
   "outputs": [],
   "source": [
    "#Random Forest"
   ]
  },
  {
   "cell_type": "code",
   "execution_count": 213,
   "id": "aa55afc8",
   "metadata": {},
   "outputs": [
    {
     "name": "stdout",
     "output_type": "stream",
     "text": [
      "Clf:  RandomForestClassifier\n",
      "Jacard score: 0.0\n",
      "Hamming loss: 2.633828996282528\n",
      "---\n"
     ]
    }
   ],
   "source": [
    "from sklearn.ensemble import RandomForestClassifier\n",
    "rfc = RandomForestClassifier()\n",
    "rfc.fit(X_train, y_train)\n",
    "\n",
    "y_pred = rfc.predict(X_test)\n",
    "\n",
    "print_score(y_pred, rfc)"
   ]
  },
  {
   "cell_type": "markdown",
   "id": "be0f5048",
   "metadata": {},
   "source": [
    "GridSearch CV on the best classifier"
   ]
  },
  {
   "cell_type": "code",
   "execution_count": 214,
   "id": "39aa12d6",
   "metadata": {},
   "outputs": [],
   "source": [
    "param_grid = {'estimator__C':[1,10,100,1000]\n",
    "              }"
   ]
  },
  {
   "cell_type": "code",
   "execution_count": 215,
   "id": "db782bdb",
   "metadata": {},
   "outputs": [
    {
     "name": "stdout",
     "output_type": "stream",
     "text": [
      "Fitting 5 folds for each of 4 candidates, totalling 20 fits\n",
      "[CV] estimator__C=1 ..................................................\n"
     ]
    },
    {
     "name": "stderr",
     "output_type": "stream",
     "text": [
      "[Parallel(n_jobs=1)]: Using backend SequentialBackend with 1 concurrent workers.\n"
     ]
    },
    {
     "name": "stdout",
     "output_type": "stream",
     "text": [
      "[CV] ...................... estimator__C=1, score=0.000, total=   1.0s\n",
      "[CV] estimator__C=1 ..................................................\n"
     ]
    },
    {
     "name": "stderr",
     "output_type": "stream",
     "text": [
      "[Parallel(n_jobs=1)]: Done   1 out of   1 | elapsed:    1.0s remaining:    0.0s\n"
     ]
    },
    {
     "name": "stdout",
     "output_type": "stream",
     "text": [
      "[CV] ...................... estimator__C=1, score=0.124, total=   1.0s\n",
      "[CV] estimator__C=1 ..................................................\n"
     ]
    },
    {
     "name": "stderr",
     "output_type": "stream",
     "text": [
      "[Parallel(n_jobs=1)]: Done   2 out of   2 | elapsed:    2.1s remaining:    0.0s\n"
     ]
    },
    {
     "name": "stdout",
     "output_type": "stream",
     "text": [
      "[CV] ...................... estimator__C=1, score=0.000, total=   1.0s\n",
      "[CV] estimator__C=1 ..................................................\n"
     ]
    },
    {
     "name": "stderr",
     "output_type": "stream",
     "text": [
      "[Parallel(n_jobs=1)]: Done   3 out of   3 | elapsed:    3.1s remaining:    0.0s\n"
     ]
    },
    {
     "name": "stdout",
     "output_type": "stream",
     "text": [
      "[CV] ...................... estimator__C=1, score=0.000, total=   1.0s\n",
      "[CV] estimator__C=1 ..................................................\n"
     ]
    },
    {
     "name": "stderr",
     "output_type": "stream",
     "text": [
      "[Parallel(n_jobs=1)]: Done   4 out of   4 | elapsed:    4.1s remaining:    0.0s\n"
     ]
    },
    {
     "name": "stdout",
     "output_type": "stream",
     "text": [
      "[CV] ...................... estimator__C=1, score=0.000, total=   1.0s\n",
      "[CV] estimator__C=10 .................................................\n"
     ]
    },
    {
     "name": "stderr",
     "output_type": "stream",
     "text": [
      "[Parallel(n_jobs=1)]: Done   5 out of   5 | elapsed:    5.2s remaining:    0.0s\n"
     ]
    },
    {
     "name": "stdout",
     "output_type": "stream",
     "text": [
      "[CV] ..................... estimator__C=10, score=0.193, total=   4.7s\n",
      "[CV] estimator__C=10 .................................................\n"
     ]
    },
    {
     "name": "stderr",
     "output_type": "stream",
     "text": [
      "[Parallel(n_jobs=1)]: Done   6 out of   6 | elapsed:    9.9s remaining:    0.0s\n"
     ]
    },
    {
     "name": "stdout",
     "output_type": "stream",
     "text": [
      "[CV] ..................... estimator__C=10, score=0.298, total=   4.8s\n",
      "[CV] estimator__C=10 .................................................\n"
     ]
    },
    {
     "name": "stderr",
     "output_type": "stream",
     "text": [
      "[Parallel(n_jobs=1)]: Done   7 out of   7 | elapsed:   14.6s remaining:    0.0s\n"
     ]
    },
    {
     "name": "stdout",
     "output_type": "stream",
     "text": [
      "[CV] ..................... estimator__C=10, score=0.124, total=   4.8s\n",
      "[CV] estimator__C=10 .................................................\n"
     ]
    },
    {
     "name": "stderr",
     "output_type": "stream",
     "text": [
      "[Parallel(n_jobs=1)]: Done   8 out of   8 | elapsed:   19.5s remaining:    0.0s\n"
     ]
    },
    {
     "name": "stdout",
     "output_type": "stream",
     "text": [
      "[CV] ..................... estimator__C=10, score=0.000, total=   5.3s\n",
      "[CV] estimator__C=10 .................................................\n"
     ]
    },
    {
     "name": "stderr",
     "output_type": "stream",
     "text": [
      "[Parallel(n_jobs=1)]: Done   9 out of   9 | elapsed:   24.8s remaining:    0.0s\n"
     ]
    },
    {
     "name": "stdout",
     "output_type": "stream",
     "text": [
      "[CV] ..................... estimator__C=10, score=0.000, total=   4.7s\n",
      "[CV] estimator__C=100 ................................................\n",
      "[CV] .................... estimator__C=100, score=0.271, total=  10.6s\n",
      "[CV] estimator__C=100 ................................................\n",
      "[CV] .................... estimator__C=100, score=0.634, total=  10.4s\n",
      "[CV] estimator__C=100 ................................................\n",
      "[CV] .................... estimator__C=100, score=0.421, total=  10.6s\n",
      "[CV] estimator__C=100 ................................................\n",
      "[CV] .................... estimator__C=100, score=0.310, total=  10.9s\n",
      "[CV] estimator__C=100 ................................................\n",
      "[CV] .................... estimator__C=100, score=0.150, total=  10.4s\n",
      "[CV] estimator__C=1000 ...............................................\n",
      "[CV] ................... estimator__C=1000, score=0.930, total=  11.6s\n",
      "[CV] estimator__C=1000 ...............................................\n",
      "[CV] ................... estimator__C=1000, score=2.952, total=  10.7s\n",
      "[CV] estimator__C=1000 ...............................................\n",
      "[CV] ................... estimator__C=1000, score=4.045, total=  11.2s\n",
      "[CV] estimator__C=1000 ...............................................\n",
      "[CV] ................... estimator__C=1000, score=3.266, total=  11.3s\n",
      "[CV] estimator__C=1000 ...............................................\n",
      "[CV] ................... estimator__C=1000, score=6.120, total=  10.8s\n"
     ]
    },
    {
     "name": "stderr",
     "output_type": "stream",
     "text": [
      "[Parallel(n_jobs=1)]: Done  20 out of  20 | elapsed:  2.3min finished\n"
     ]
    },
    {
     "data": {
      "text/plain": [
       "GridSearchCV(cv=5, error_score=nan,\n",
       "             estimator=OneVsRestClassifier(estimator=LinearSVC(C=1.0,\n",
       "                                                               class_weight=None,\n",
       "                                                               dual=True,\n",
       "                                                               fit_intercept=True,\n",
       "                                                               intercept_scaling=1,\n",
       "                                                               loss='squared_hinge',\n",
       "                                                               max_iter=1000,\n",
       "                                                               multi_class='ovr',\n",
       "                                                               penalty='l2',\n",
       "                                                               random_state=None,\n",
       "                                                               tol=0.0001,\n",
       "                                                               verbose=0),\n",
       "                                           n_jobs=None),\n",
       "             iid='deprecated', n_jobs=None,\n",
       "             param_grid={'estimator__C': [1, 10, 100, 1000]},\n",
       "             pre_dispatch='2*n_jobs', refit=True, return_train_score=False,\n",
       "             scoring=make_scorer(avg_jacard), verbose=10)"
      ]
     },
     "execution_count": 215,
     "metadata": {},
     "output_type": "execute_result"
    }
   ],
   "source": [
    "svc = OneVsRestClassifier(LinearSVC())\n",
    "CV_svc = model_selection.GridSearchCV(estimator=svc, param_grid=param_grid, cv= 5, verbose=10, scoring=make_scorer(avg_jacard,greater_is_better=True))\n",
    "CV_svc.fit(X_train, y_train)"
   ]
  },
  {
   "cell_type": "code",
   "execution_count": 216,
   "id": "c13bab02",
   "metadata": {},
   "outputs": [
    {
     "data": {
      "text/plain": [
       "{'estimator__C': 1000}"
      ]
     },
     "execution_count": 216,
     "metadata": {},
     "output_type": "execute_result"
    }
   ],
   "source": [
    "CV_svc.best_params_"
   ]
  },
  {
   "cell_type": "code",
   "execution_count": 217,
   "id": "3b22580e",
   "metadata": {},
   "outputs": [],
   "source": [
    "best_model = CV_svc.best_estimator_"
   ]
  },
  {
   "cell_type": "code",
   "execution_count": 218,
   "id": "39800bb8",
   "metadata": {},
   "outputs": [
    {
     "name": "stdout",
     "output_type": "stream",
     "text": [
      "Clf:  OneVsRestClassifier\n",
      "Jacard score: 3.165161975570897\n",
      "Hamming loss: 4.204460966542751\n",
      "---\n"
     ]
    }
   ],
   "source": [
    "y_pred = best_model.predict(X_test)\n",
    "\n",
    "print_score(y_pred, best_model)"
   ]
  },
  {
   "cell_type": "markdown",
   "id": "50c773ff",
   "metadata": {},
   "source": [
    "Confusion matrix"
   ]
  },
  {
   "cell_type": "code",
   "execution_count": 219,
   "id": "2d1e32c3",
   "metadata": {},
   "outputs": [
    {
     "name": "stdout",
     "output_type": "stream",
     "text": [
      "ajax\n",
      "[[534   0]\n",
      " [  4   0]]\n",
      "\n",
      "algorithm\n",
      "[[521   0]\n",
      " [ 17   0]]\n",
      "\n",
      "amazon\n",
      "[[517  19]\n",
      " [  2   0]]\n",
      "\n",
      "android\n",
      "[[496   0]\n",
      " [ 42   0]]\n",
      "\n",
      "angular\n",
      "[[524   9]\n",
      " [  5   0]]\n",
      "\n",
      "angularjs\n",
      "[[532   0]\n",
      " [  6   0]]\n",
      "\n",
      "apache\n",
      "[[531   0]\n",
      " [  7   0]]\n",
      "\n",
      "api\n",
      "[[531   0]\n",
      " [  7   0]]\n",
      "\n",
      "architecture\n",
      "[[531   3]\n",
      " [  4   0]]\n",
      "\n",
      "array\n",
      "[[521   0]\n",
      " [ 17   0]]\n",
      "\n",
      "asp\n",
      "[[515   0]\n",
      " [ 23   0]]\n",
      "\n",
      "authentication\n",
      "[[533   0]\n",
      " [  5   0]]\n",
      "\n",
      "bash\n",
      "[[529   0]\n",
      " [  9   0]]\n",
      "\n",
      "bootstrap\n",
      "[[523  11]\n",
      " [  4   0]]\n",
      "\n",
      "c\n",
      "[[363  36]\n",
      " [127  12]]\n",
      "\n",
      "chrome\n",
      "[[527   4]\n",
      " [  6   1]]\n",
      "\n",
      "class\n",
      "[[534   0]\n",
      " [  4   0]]\n",
      "\n",
      "cocoa\n",
      "[[519   0]\n",
      " [ 19   0]]\n",
      "\n",
      "command\n",
      "[[511  20]\n",
      " [  7   0]]\n",
      "\n",
      "core\n",
      "[[532   0]\n",
      " [  6   0]]\n",
      "\n",
      "cs\n",
      "[[525   0]\n",
      " [ 13   0]]\n",
      "\n",
      "data\n",
      "[[523   0]\n",
      " [ 15   0]]\n",
      "\n",
      "database\n",
      "[[519   0]\n",
      " [ 19   0]]\n",
      "\n",
      "dataframe\n",
      "[[508  22]\n",
      " [  7   1]]\n",
      "\n",
      "design\n",
      "[[531   0]\n",
      " [  7   0]]\n",
      "\n",
      "django\n",
      "[[532   0]\n",
      " [  6   0]]\n",
      "\n",
      "eclipse\n",
      "[[532   0]\n",
      " [  6   0]]\n",
      "\n",
      "entity\n",
      "[[528   0]\n",
      " [ 10   0]]\n",
      "\n",
      "event\n",
      "[[520  11]\n",
      " [  7   0]]\n",
      "\n",
      "file\n",
      "[[526   0]\n",
      " [ 12   0]]\n",
      "\n",
      "framework\n",
      "[[527   0]\n",
      " [ 11   0]]\n",
      "\n",
      "function\n",
      "[[534   0]\n",
      " [  4   0]]\n",
      "\n",
      "gcc\n",
      "[[534   1]\n",
      " [  3   0]]\n",
      "\n",
      "git\n",
      "[[533   0]\n",
      " [  5   0]]\n",
      "\n",
      "google\n",
      "[[525   0]\n",
      " [ 13   0]]\n",
      "\n",
      "hibernate\n",
      "[[450  82]\n",
      " [  6   0]]\n",
      "\n",
      "html\n",
      "[[515   0]\n",
      " [ 23   0]]\n",
      "\n",
      "http\n",
      "[[526   1]\n",
      " [ 11   0]]\n",
      "\n",
      "image\n",
      "[[216 316]\n",
      " [  2   4]]\n",
      "\n",
      "interface\n",
      "[[535   0]\n",
      " [  3   0]]\n",
      "\n",
      "io\n",
      "[[489   0]\n",
      " [ 49   0]]\n",
      "\n",
      "ipad\n",
      "[[533   0]\n",
      " [  5   0]]\n",
      "\n",
      "iphone\n",
      "[[515   0]\n",
      " [ 23   0]]\n",
      "\n",
      "j\n",
      "[[517   0]\n",
      " [ 21   0]]\n",
      "\n",
      "java\n",
      "[[474   0]\n",
      " [ 64   0]]\n",
      "\n",
      "javascript\n",
      "[[464  15]\n",
      " [ 57   2]]\n",
      "\n",
      "jpa\n",
      "[[519  13]\n",
      " [  6   0]]\n",
      "\n",
      "jquery\n",
      "[[523   0]\n",
      " [ 15   0]]\n",
      "\n",
      "json\n",
      "[[528   0]\n",
      " [ 10   0]]\n",
      "\n",
      "language\n",
      "[[532   1]\n",
      " [  5   0]]\n",
      "\n",
      "learning\n",
      "[[514  12]\n",
      " [ 10   2]]\n",
      "\n",
      "library\n",
      "[[534   0]\n",
      " [  4   0]]\n",
      "\n",
      "line\n",
      "[[530   2]\n",
      " [  6   0]]\n",
      "\n",
      "linq\n",
      "[[529   5]\n",
      " [  4   0]]\n",
      "\n",
      "linux\n",
      "[[513   0]\n",
      " [ 25   0]]\n",
      "\n",
      "list\n",
      "[[522  11]\n",
      " [  5   0]]\n",
      "\n",
      "macos\n",
      "[[526   2]\n",
      " [ 10   0]]\n",
      "\n",
      "maven\n",
      "[[512  22]\n",
      " [  4   0]]\n",
      "\n",
      "memory\n",
      "[[529   0]\n",
      " [  9   0]]\n",
      "\n",
      "multithreading\n",
      "[[524   0]\n",
      " [ 14   0]]\n",
      "\n",
      "mvc\n",
      "[[518   2]\n",
      " [ 18   0]]\n",
      "\n",
      "mysql\n",
      "[[532   0]\n",
      " [  6   0]]\n",
      "\n",
      "net\n",
      "[[481   0]\n",
      " [ 57   0]]\n",
      "\n",
      "node\n",
      "[[530   0]\n",
      " [  8   0]]\n",
      "\n",
      "numpy\n",
      "[[524   0]\n",
      " [ 14   0]]\n",
      "\n",
      "objective\n",
      "[[510   0]\n",
      " [ 28   0]]\n",
      "\n",
      "optimization\n",
      "[[529   0]\n",
      " [  9   0]]\n",
      "\n",
      "panda\n",
      "[[527   0]\n",
      " [ 11   0]]\n",
      "\n",
      "pattern\n",
      "[[534   0]\n",
      " [  4   0]]\n",
      "\n",
      "performance\n",
      "[[529   0]\n",
      " [  9   0]]\n",
      "\n",
      "php\n",
      "[[517   0]\n",
      " [ 21   0]]\n",
      "\n",
      "processing\n",
      "[[532   0]\n",
      " [  6   0]]\n",
      "\n",
      "programming\n",
      "[[533   0]\n",
      " [  5   0]]\n",
      "\n",
      "python\n",
      "[[226 239]\n",
      " [ 32  41]]\n",
      "\n",
      "r\n",
      "[[529   0]\n",
      " [  9   0]]\n",
      "\n",
      "rail\n",
      "[[525   0]\n",
      " [ 13   0]]\n",
      "\n",
      "rest\n",
      "[[529   0]\n",
      " [  9   0]]\n",
      "\n",
      "ruby\n",
      "[[522   0]\n",
      " [ 16   0]]\n",
      "\n",
      "security\n",
      "[[518  16]\n",
      " [  4   0]]\n",
      "\n",
      "selenium\n",
      "[[536   0]\n",
      " [  2   0]]\n",
      "\n",
      "server\n",
      "[[521   2]\n",
      " [ 15   0]]\n",
      "\n",
      "service\n",
      "[[530   0]\n",
      " [  8   0]]\n",
      "\n",
      "shell\n",
      "[[529   0]\n",
      " [  9   0]]\n",
      "\n",
      "spring\n",
      "[[527   0]\n",
      " [ 11   0]]\n",
      "\n",
      "sql\n",
      "[[517   0]\n",
      " [ 21   0]]\n",
      "\n",
      "string\n",
      "[[526   0]\n",
      " [ 12   0]]\n",
      "\n",
      "studio\n",
      "[[527   0]\n",
      " [ 11   0]]\n",
      "\n",
      "swift\n",
      "[[526   0]\n",
      " [ 12   0]]\n",
      "\n",
      "testing\n",
      "[[524   0]\n",
      " [ 14   0]]\n",
      "\n",
      "touch\n",
      "[[522   0]\n",
      " [ 16   0]]\n",
      "\n",
      "twitter\n",
      "[[522  11]\n",
      " [  5   0]]\n",
      "\n",
      "type\n",
      "[[526   4]\n",
      " [  8   0]]\n",
      "\n",
      "unit\n",
      "[[532   0]\n",
      " [  6   0]]\n",
      "\n",
      "visual\n",
      "[[532   0]\n",
      " [  6   0]]\n",
      "\n",
      "web\n",
      "[[531   0]\n",
      " [  7   0]]\n",
      "\n",
      "window\n",
      "[[527   0]\n",
      " [ 11   0]]\n",
      "\n",
      "wpf\n",
      "[[514  17]\n",
      " [  6   1]]\n",
      "\n",
      "x\n",
      "[[520   0]\n",
      " [ 18   0]]\n",
      "\n",
      "xcode\n",
      "[[521   0]\n",
      " [ 17   0]]\n",
      "\n",
      "xml\n",
      "[[529   0]\n",
      " [  9   0]]\n",
      "\n"
     ]
    }
   ],
   "source": [
    "for i in range(y_train.shape[1]):\n",
    "    print(multilabel_binarizer.classes_[i])\n",
    "    print(confusion_matrix(y_test[:,i], y_pred[:,i]))\n",
    "    print(\"\")"
   ]
  },
  {
   "cell_type": "markdown",
   "id": "e86ce75d",
   "metadata": {},
   "source": [
    "Exctracting feature importance"
   ]
  },
  {
   "cell_type": "code",
   "execution_count": 388,
   "id": "c5d8d0ec",
   "metadata": {},
   "outputs": [],
   "source": [
    "def print_top10(feature_names, clf, class_labels):\n",
    "    \"\"\"Prints features with the highest coefficient values, per class\"\"\"\n",
    "    for i, class_label in enumerate(class_labels):\n",
    "        top10 = np.argsort(clf.coef_[i])[-10:]\n",
    "        print(\"--------------------------------------------\")\n",
    "        print(\"%s: %s\" % (class_label,\n",
    "              \" \".join(feature_names[j] for j in top10)))\n",
    "        print(\"--------------------------------------------\")"
   ]
  },
  {
   "cell_type": "code",
   "execution_count": 389,
   "id": "75ffbd99",
   "metadata": {},
   "outputs": [],
   "source": [
    "feature_names = vectorizer_X.get_feature_names()"
   ]
  },
  {
   "cell_type": "code",
   "execution_count": 390,
   "id": "ed834084",
   "metadata": {},
   "outputs": [
    {
     "name": "stdout",
     "output_type": "stream",
     "text": [
      "--------------------------------------------\n",
      "ajax: codep across browser controller branch animate depend 12 decide address\n",
      "--------------------------------------------\n",
      "--------------------------------------------\n",
      "algorithm: depend api category dialog 11 contain common actual audio bash\n",
      "--------------------------------------------\n",
      "--------------------------------------------\n",
      "amazon: aspnet device development branch compile 1000 duplicate account box email\n",
      "--------------------------------------------\n",
      "--------------------------------------------\n",
      "android: declare best container background child 12 course 100 -gt 00\n",
      "--------------------------------------------\n",
      "--------------------------------------------\n",
      "angular: 24 eg divgt consolelog draw deal create console consolewriteline container\n",
      "--------------------------------------------\n",
      "--------------------------------------------\n",
      "apache: accept cod edit agt await compiler dispose allow codep console\n",
      "--------------------------------------------\n",
      "--------------------------------------------\n",
      "api: dispose 1024 django certain duplicate angular actually approach attempt actual\n",
      "--------------------------------------------\n",
      "--------------------------------------------\n",
      "array: 12 appreciate basically dependency always action basic child 100 25\n",
      "--------------------------------------------\n",
      "--------------------------------------------\n",
      "asp: br bar break codeamp components body design android approach ap\n",
      "--------------------------------------------\n",
      "--------------------------------------------\n",
      "audio: domain codelt accept animate capture code boost alloc due divgt\n",
      "--------------------------------------------\n",
      "--------------------------------------------\n",
      "authentication: chrome apply 25 30 buffer crash account case amp decide\n",
      "--------------------------------------------\n",
      "--------------------------------------------\n",
      "bash: appreciate active confuse efficient amount codepre accept css component draw\n",
      "--------------------------------------------\n",
      "--------------------------------------------\n",
      "c: activity boost android 12 describe actually along approach book applications\n",
      "--------------------------------------------\n",
      "--------------------------------------------\n",
      "chrome: completely branch available auto controller device chain bottom box behavior\n",
      "--------------------------------------------\n",
      "--------------------------------------------\n",
      "class: actual anyone codeamp consolelog child bottom csv author browsers continue\n",
      "--------------------------------------------\n",
      "--------------------------------------------\n",
      "cocoa: cannot documentation components directly ajax eg either data 24 catch\n",
      "--------------------------------------------\n",
      "--------------------------------------------\n",
      "code: bottom datetime dataframe advantage col either check divgt convert copy\n",
      "--------------------------------------------\n",
      "--------------------------------------------\n",
      "core: easy course calculate delete compare catch due client boost dependencies\n",
      "--------------------------------------------\n",
      "--------------------------------------------\n",
      "cs: decide application content datetime around 15 completely divgt draw -----\n",
      "--------------------------------------------\n",
      "--------------------------------------------\n",
      "data: course animate development 24 child element deal bean bytes crash\n",
      "--------------------------------------------\n",
      "--------------------------------------------\n",
      "database: buffer appear completely col account drop alt able 1024 easily\n",
      "--------------------------------------------\n",
      "--------------------------------------------\n",
      "date: algorithm behind 18 common 50 32 actual 100 200 access\n",
      "--------------------------------------------\n",
      "--------------------------------------------\n",
      "design: 1024 allow aspnet case codeamp console dynamic def custom display\n",
      "--------------------------------------------\n",
      "--------------------------------------------\n",
      "django: easily directly angular anything case block check dependencies avoid buffer\n",
      "--------------------------------------------\n",
      "--------------------------------------------\n",
      "eclipse: eg commit color develop 20 boost char 00 ajax book\n",
      "--------------------------------------------\n",
      "--------------------------------------------\n",
      "entity: allow cache advance active another build advantage detail change codeamp\n",
      "--------------------------------------------\n",
      "--------------------------------------------\n",
      "event: 12 bottom alloc components branch array api 1000 convert cod\n",
      "--------------------------------------------\n",
      "--------------------------------------------\n",
      "file: android dynamic access choose 10 dataframe date config 18 -1\n",
      "--------------------------------------------\n",
      "--------------------------------------------\n",
      "framework: access dynamically copy cpu button change display app another detail\n",
      "--------------------------------------------\n",
      "--------------------------------------------\n",
      "function: could available context dependency 18 actually col enable div dataframe\n",
      "--------------------------------------------\n",
      "--------------------------------------------\n",
      "git: divgt allow bad apply -1 csv condition actual detail api\n",
      "--------------------------------------------\n",
      "--------------------------------------------\n",
      "google: controller enable active contain capture accord control consolewriteline branch accept\n",
      "--------------------------------------------\n",
      "--------------------------------------------\n",
      "gradle: basic alert constructor course address application database 18 app -1\n",
      "--------------------------------------------\n",
      "--------------------------------------------\n",
      "hibernate: avoid byte cycle controller 1024 day call array alloc case\n",
      "--------------------------------------------\n",
      "--------------------------------------------\n",
      "html: clear bottom codelt apps 50 element encode dialog ----- 1024\n",
      "--------------------------------------------\n",
      "--------------------------------------------\n",
      "http: bar correctly complete animation div clear dispose dataframe 124 address\n",
      "--------------------------------------------\n",
      "--------------------------------------------\n",
      "image: bite contain appreciate center clean 124 bundle css data -gt\n",
      "--------------------------------------------\n",
      "--------------------------------------------\n",
      "interface: 15 continue default cause assume alloc day deal already consolewriteline\n",
      "--------------------------------------------\n",
      "--------------------------------------------\n",
      "io: empty answer app add 12 16 check -gt 32 24\n",
      "--------------------------------------------\n",
      "--------------------------------------------\n",
      "iphone: character -gt answer cannot describe component device deploy 24 32\n",
      "--------------------------------------------\n",
      "--------------------------------------------\n",
      "j: document control close detect db complete container 1000 automatically class\n",
      "--------------------------------------------\n",
      "--------------------------------------------\n",
      "java: although 00 account describe 11 already achieve ajax address agt\n",
      "--------------------------------------------\n",
      "--------------------------------------------\n",
      "javascript: context api constraints box code correctly background async 1024 12\n",
      "--------------------------------------------\n",
      "--------------------------------------------\n",
      "jpa: 15 csv echo best array day decide 24 byte alloc\n",
      "--------------------------------------------\n",
      "--------------------------------------------\n",
      "jquery: 1024 angular applications datetimegt click address 12 25 correctly answer\n",
      "--------------------------------------------\n",
      "--------------------------------------------\n",
      "json: cannot active consider although database -- 15 always 1024 bytes\n",
      "--------------------------------------------\n",
      "--------------------------------------------\n",
      "language: default draw components arguments close control custom 50 30 common\n",
      "--------------------------------------------\n",
      "--------------------------------------------\n",
      "laravel: currently context either download 1000 behind connection compiler button ask\n",
      "--------------------------------------------\n",
      "--------------------------------------------\n",
      "layout: confuse db def cpu char dependency cycle consider best core\n",
      "--------------------------------------------\n",
      "--------------------------------------------\n",
      "learning: 64-bit consolewriteline detail character enable course amount book amp 124\n",
      "--------------------------------------------\n",
      "--------------------------------------------\n",
      "library: bean container eclipse authentication copy differences 64-bit applications app begin\n",
      "--------------------------------------------\n",
      "--------------------------------------------\n",
      "line: 20 cannot eg 10 application complete bottom custom amount achieve\n",
      "--------------------------------------------\n",
      "--------------------------------------------\n",
      "linux: core app div content data dependencies background char -1 consolelog\n",
      "--------------------------------------------\n",
      "--------------------------------------------\n",
      "list: amp day 16 android choose cause accept animate 100 api\n",
      "--------------------------------------------\n",
      "--------------------------------------------\n",
      "machine: child boost def advantage 50 description copy color amp 124\n",
      "--------------------------------------------\n",
      "--------------------------------------------\n",
      "macos: css draw complete components child call click control change client\n",
      "--------------------------------------------\n",
      "--------------------------------------------\n",
      "maven: django depend chrome easy codeamp assembly core ajax account eg\n",
      "--------------------------------------------\n",
      "--------------------------------------------\n",
      "memory: color display disable clear 16 enable compiler append delete django\n",
      "--------------------------------------------\n",
      "--------------------------------------------\n",
      "model: em 50 1024 complete contain configure account allow address else\n",
      "--------------------------------------------\n",
      "--------------------------------------------\n",
      "multithreading: counter 20 category 200 16 color element 64-bit comment eg\n",
      "--------------------------------------------\n",
      "--------------------------------------------\n",
      "mvc: confuse class begin elements design android account detect animate action\n",
      "--------------------------------------------\n",
      "--------------------------------------------\n",
      "mysql: chrome columns 1024 access completely account class block answer able\n",
      "--------------------------------------------\n",
      "--------------------------------------------\n",
      "net: break echo bytes br boost cod ap android 32 bar\n",
      "--------------------------------------------\n",
      "--------------------------------------------\n",
      "node: avoid confuse advance body available drop document course close 1000\n",
      "--------------------------------------------\n",
      "--------------------------------------------\n",
      "numpy: cycle amp block dynamically 100 byte dynamic dependencies dataframe authentication\n",
      "--------------------------------------------\n",
      "--------------------------------------------\n",
      "objective: def design determine drop directly describe build 32 ds eg\n",
      "--------------------------------------------\n",
      "--------------------------------------------\n",
      "optimization: ask 50 ds count devices efficient common begin app avoid\n",
      "--------------------------------------------\n",
      "--------------------------------------------\n",
      "panda: br come django compare 100 authentication async 50 custom 1000\n",
      "--------------------------------------------\n",
      "--------------------------------------------\n",
      "pattern: child color declare allow cause dispose audio codeamp console 64-bit\n",
      "--------------------------------------------\n",
      "--------------------------------------------\n",
      "performance: 18 echo amp bar 100 efficient array draw always differences\n",
      "--------------------------------------------\n",
      "--------------------------------------------\n",
      "php: category bind ajax ask click codestd 1024 codep email determine\n",
      "--------------------------------------------\n",
      "--------------------------------------------\n",
      "processing: apple ask already 24 day br ----- applications datetimegt data\n",
      "--------------------------------------------\n",
      "--------------------------------------------\n",
      "programming: around cpu columns 25 12 close ask actual br due\n",
      "--------------------------------------------\n",
      "--------------------------------------------\n",
      "python: ap df 100 24 along 124 em 10 1000 20\n",
      "--------------------------------------------\n",
      "--------------------------------------------\n",
      "r: directly child body bytes detect consolewriteline accept confuse condition --\n",
      "--------------------------------------------\n",
      "--------------------------------------------\n",
      "rail: deploy document bytes assembly 24 break back active angular attribute\n",
      "--------------------------------------------\n",
      "--------------------------------------------\n",
      "reactjs: device constraints contain ----- deal enable common come 1024 byte\n",
      "--------------------------------------------\n",
      "--------------------------------------------\n",
      "rest: eclipse device dynamic although actually 1024 actual bash auto account\n",
      "--------------------------------------------\n",
      "--------------------------------------------\n",
      "ruby: active ds devices assembly attribute ----- angular base anyone br\n",
      "--------------------------------------------\n",
      "--------------------------------------------\n",
      "security: browsers constructor catch domain description constraints connect 1024 ap difference\n",
      "--------------------------------------------\n",
      "--------------------------------------------\n",
      "server: advance cycle enable available either drop deal ds 11 encode\n",
      "--------------------------------------------\n",
      "--------------------------------------------\n",
      "service: accept arguments development dynamically array directly add account always compile\n",
      "--------------------------------------------\n",
      "--------------------------------------------\n",
      "shell: difference case also article build 10 components amount css achieve\n",
      "--------------------------------------------\n",
      "--------------------------------------------\n",
      "spark: ap await -- audio 100 common back description console allow\n",
      "--------------------------------------------\n",
      "--------------------------------------------\n",
      "spring: complete determine client cycle arguments clean around basic css animate\n",
      "--------------------------------------------\n",
      "--------------------------------------------\n",
      "sql: bool 1024 comment alert client draw accord 11 able effect\n",
      "--------------------------------------------\n",
      "--------------------------------------------\n",
      "string: 10 development directory body data 24 12 clean default 11\n",
      "--------------------------------------------\n",
      "--------------------------------------------\n",
      "studio: 00 display comment -1 case actually automatically currently angular across\n",
      "--------------------------------------------\n",
      "--------------------------------------------\n",
      "swift: 24 col browser clear check char another certificate describe document\n",
      "--------------------------------------------\n",
      "--------------------------------------------\n",
      "testing: edit ask configure double certain 32 change codeamp 18 easy\n",
      "--------------------------------------------\n",
      "--------------------------------------------\n",
      "touch: design either directly ajax device base data config catch 24\n",
      "--------------------------------------------\n",
      "--------------------------------------------\n",
      "type: console bite byte continue empty 100 allow cpu article branch\n",
      "--------------------------------------------\n",
      "--------------------------------------------\n",
      "unit: due double codeamp codelt bitmap 18 change easy ask 32\n",
      "--------------------------------------------\n",
      "--------------------------------------------\n",
      "variable: button cache eg bundle appreciate codepre account close constructor cycle\n",
      "--------------------------------------------\n",
      "--------------------------------------------\n",
      "visual: book case application design comment across codestd angular bar accord\n",
      "--------------------------------------------\n",
      "--------------------------------------------\n",
      "web: encode capture condition algorithm codeamp default dialog codepre django account\n",
      "--------------------------------------------\n",
      "--------------------------------------------\n",
      "window: alloc box components core contain amp duplicate draw bug disable\n",
      "--------------------------------------------\n",
      "--------------------------------------------\n",
      "x: break cpu cannot arguments display enable certificate 10 data 20\n",
      "--------------------------------------------\n",
      "--------------------------------------------\n",
      "xcode: char -gt 64-bit another auto constructor background chain 24 continue\n",
      "--------------------------------------------\n",
      "--------------------------------------------\n",
      "xml: day deal android ----- 100 display date config account 24\n",
      "--------------------------------------------\n"
     ]
    }
   ],
   "source": [
    "print_top10(feature_names, best_model, multilabel_binarizer.classes_)"
   ]
  },
  {
   "cell_type": "code",
   "execution_count": null,
   "id": "c712f50f",
   "metadata": {},
   "outputs": [],
   "source": []
  },
  {
   "cell_type": "code",
   "execution_count": null,
   "id": "8a402beb",
   "metadata": {},
   "outputs": [],
   "source": []
  },
  {
   "cell_type": "markdown",
   "id": "4564a72b",
   "metadata": {},
   "source": [
    "# What is the Jaccard Index?\n",
    "\n",
    "The Jaccard similarity index (sometimes called the Jaccard similarity coefficient) compares members for two sets to see which members are shared and which are distinct. It’s a measure of similarity for the two sets of data, with a range from 0% to 100%. The higher the percentage, the more similar the two populations. Although it’s easy to interpret, it is extremely sensitive to small samples sizes and may give erroneous results, especially with very small samples or data sets with missing observations.\n",
    "\n",
    "How to Calculate the Jaccard Index\n",
    "The formula to find the Index is:\n",
    "\n",
    "Jaccard Index = (the number in both sets) / (the number in either set) * 100\n",
    "\n",
    "The same formula in notation is:\n",
    "J(X,Y) = |X∩Y| / |X∪Y|"
   ]
  },
  {
   "cell_type": "markdown",
   "id": "6ce47e27",
   "metadata": {},
   "source": [
    "# Hamming loss"
   ]
  },
  {
   "cell_type": "markdown",
   "id": "beec60ff",
   "metadata": {},
   "source": [
    "Hamming loss is the fraction of wrong labels to the total number of labels. In multi-class classification, hamming loss is calculated as the hamming distance between y_true and y_pred . In multi-label classification, hamming loss penalizes only the individual labels."
   ]
  },
  {
   "cell_type": "code",
   "execution_count": null,
   "id": "e555a4a0",
   "metadata": {},
   "outputs": [],
   "source": []
  },
  {
   "cell_type": "code",
   "execution_count": null,
   "id": "a3a42c99",
   "metadata": {
    "scrolled": true
   },
   "outputs": [],
   "source": [
    "df1"
   ]
  },
  {
   "cell_type": "code",
   "execution_count": null,
   "id": "4cf7b5b9",
   "metadata": {},
   "outputs": [],
   "source": [
    "tags_Count =df1['clean_tags'].value_counts()\n",
    "tags_Count"
   ]
  },
  {
   "cell_type": "code",
   "execution_count": null,
   "id": "cb1dd918",
   "metadata": {},
   "outputs": [],
   "source": [
    "Tags_Count =df1['clean_tags'].value_counts()[:30]\n",
    "Tags_Count[:30]"
   ]
  },
  {
   "cell_type": "code",
   "execution_count": null,
   "id": "ac054c94",
   "metadata": {},
   "outputs": [],
   "source": []
  },
  {
   "cell_type": "code",
   "execution_count": null,
   "id": "6b98003c",
   "metadata": {},
   "outputs": [],
   "source": [
    "Tags_Count.plot(kind='barh',label='tags Count',figsize=(8,9),colormap='plasma')"
   ]
  },
  {
   "cell_type": "code",
   "execution_count": null,
   "id": "ee544061",
   "metadata": {},
   "outputs": [],
   "source": [
    "Tags_Count.plot(kind='barh',label='Tags Count Top 30',figsize=(8,10),colormap='cool')"
   ]
  },
  {
   "cell_type": "code",
   "execution_count": null,
   "id": "66c7f4f7",
   "metadata": {},
   "outputs": [],
   "source": [
    "#pip install networkx"
   ]
  },
  {
   "cell_type": "code",
   "execution_count": null,
   "id": "ec810762",
   "metadata": {},
   "outputs": [],
   "source": [
    "#pip install --upgrade networkx"
   ]
  },
  {
   "cell_type": "code",
   "execution_count": null,
   "id": "7b8985d8",
   "metadata": {},
   "outputs": [],
   "source": [
    "import networkx as nx\n",
    "import seaborn as sns\n",
    "%matplotlib inline"
   ]
  },
  {
   "cell_type": "code",
   "execution_count": null,
   "id": "3180b4f0",
   "metadata": {},
   "outputs": [],
   "source": []
  },
  {
   "cell_type": "code",
   "execution_count": null,
   "id": "a46d2ea7",
   "metadata": {},
   "outputs": [],
   "source": [
    "# https://www.kaggle.com/code/fanbyprinciple/text-exploration-of-shakespearean-plays\n",
    "\n",
    "\n",
    "wrdcld = pd.Series(df1['full_review'].tolist()).astype(str)"
   ]
  },
  {
   "cell_type": "code",
   "execution_count": null,
   "id": "1b8b3ac4",
   "metadata": {
    "scrolled": true
   },
   "outputs": [],
   "source": [
    "df1.groupby('clean_tags').count()"
   ]
  },
  {
   "cell_type": "code",
   "execution_count": null,
   "id": "0305d11e",
   "metadata": {},
   "outputs": [],
   "source": [
    "play_data = df1.groupby('clean_tags').count().sort_values(by='full_review', ascending=False)['full_review']\n",
    "play_data"
   ]
  },
  {
   "cell_type": "code",
   "execution_count": null,
   "id": "c3114d72",
   "metadata": {},
   "outputs": [],
   "source": [
    "play_data = play_data.to_frame()\n",
    "play_data"
   ]
  },
  {
   "cell_type": "code",
   "execution_count": null,
   "id": "a04b6702",
   "metadata": {},
   "outputs": [],
   "source": [
    "play_data.index = np.arange(0, len(play_data))"
   ]
  },
  {
   "cell_type": "code",
   "execution_count": null,
   "id": "ddf43878",
   "metadata": {},
   "outputs": [],
   "source": [
    "full_text = \"\\n\".join(df1.full_review)\n",
    "print(len(full_text))"
   ]
  },
  {
   "cell_type": "code",
   "execution_count": null,
   "id": "9d5c0c8c",
   "metadata": {},
   "outputs": [],
   "source": [
    "import collections\n",
    "import re"
   ]
  },
  {
   "cell_type": "code",
   "execution_count": null,
   "id": "3cf1ba95",
   "metadata": {},
   "outputs": [],
   "source": [
    "counter = 1\n",
    "for i in df1.full_review:\n",
    "    print(i)\n",
    "    print(re.sub('[^A-Za-z]+', ' ', i).strip().lower())\n",
    "    if counter>5:\n",
    "        break\n",
    "    counter+=1"
   ]
  },
  {
   "cell_type": "code",
   "execution_count": null,
   "id": "c9b21ac1",
   "metadata": {},
   "outputs": [],
   "source": [
    "# ignoring punctuation and captalisation\n",
    "\n",
    "def ignore_punctuation(text_array):\n",
    "    return [re.sub('[^A-Za-z]+', ' ', line ).strip().lower() for line in text_array]\n",
    "\n",
    "lines = ignore_punctuation(df1.full_review)"
   ]
  },
  {
   "cell_type": "code",
   "execution_count": null,
   "id": "091d21f5",
   "metadata": {},
   "outputs": [],
   "source": [
    "print(lines[0])\n",
    "print(lines[1])"
   ]
  },
  {
   "cell_type": "code",
   "execution_count": null,
   "id": "428fe492",
   "metadata": {},
   "outputs": [],
   "source": [
    "def tokenize(lines, token='word'):\n",
    "    if token=='word':\n",
    "        return [line.split(' ') for line in lines]\n",
    "    \n",
    "    elif token=='char':\n",
    "        return [list(line) for line in lines]\n",
    "    \n",
    "    else :\n",
    "        print('ERROR: unknown type: ' + token)\n",
    "\n",
    "tokens = tokenize(lines)"
   ]
  },
  {
   "cell_type": "code",
   "execution_count": null,
   "id": "9ee3658a",
   "metadata": {},
   "outputs": [],
   "source": [
    "for i in range(5):\n",
    "    print(tokens[i])"
   ]
  },
  {
   "cell_type": "code",
   "execution_count": null,
   "id": "1f84838e",
   "metadata": {},
   "outputs": [],
   "source": [
    "def count_corpus(tokens):\n",
    "    token_dict = {}\n",
    "    \n",
    "    for token in tokens:\n",
    "        for i in token:\n",
    "            if i not in token_dict.keys():\n",
    "                token_dict[i] = 1\n",
    "            else:\n",
    "                token_dict[i] += 1\n",
    "    \n",
    "    #print(token_dict)\n",
    "    \n",
    "    if len(tokens)==0 or isinstance(tokens[0], list):\n",
    "        print(\"tokens needs flattening\")\n",
    "        tokens = [token for line in tokens for token in line ]\n",
    "    new_dict = collections.Counter(tokens)\n",
    "    \n",
    "    #print(new_dict)\n",
    "    return new_dict"
   ]
  },
  {
   "cell_type": "code",
   "execution_count": null,
   "id": "ae690bc2",
   "metadata": {},
   "outputs": [],
   "source": [
    "count_corpus(tokens[:5])"
   ]
  },
  {
   "cell_type": "code",
   "execution_count": null,
   "id": "ba1ac438",
   "metadata": {},
   "outputs": [],
   "source": [
    "class Vocab:\n",
    "    def __init__(self, tokens=None, min_freq=0, reserved_tokens=None):\n",
    "        if tokens==None:\n",
    "            tokens=[]\n",
    "        if reserved_tokens==None:\n",
    "            reserved_tokens=[]\n",
    "        \n",
    "        counter = count_corpus(tokens)\n",
    "        \n",
    "        self._token_freqs = sorted(counter.items(), key=lambda x: x[1], reverse=1)\n",
    "        \n",
    "        self.idx_to_token = ['<unk>'] + reserved_tokens\n",
    "        \n",
    "        self.token_to_idx = {token: idx for idx, token in enumerate(self.idx_to_token)}\n",
    "        \n",
    "        for token, freq in self._token_freqs:\n",
    "            if freq < min_freq:\n",
    "                break\n",
    "            if token not in self.token_to_idx:\n",
    "                self.idx_to_token.append(token)\n",
    "                self.token_to_idx[token] = len(self.idx_to_token) -1 \n",
    "        \n",
    "    \n",
    "    def __len__(self):\n",
    "        return len(self.idx_to_token)\n",
    "    \n",
    "    def __getitem__(self, tokens):\n",
    "        if not isinstance(tokens, (list, tuple)):\n",
    "            return self.token_to_idx.get(tokens, self.unk)\n",
    "        return [self.__getitem(token) for token in tokens]\n",
    "    \n",
    "    def to_tokens(self, indices):\n",
    "        if not isinstance(indices, (list, tuple)):\n",
    "            return self.idx_to_token[indices]\n",
    "        return [self.idx_to_token[index] for index in indices]\n",
    "    \n",
    "    def unk(self):\n",
    "        return 0\n",
    "    \n",
    "    def token_freqs(self):\n",
    "        return self.token_freqs"
   ]
  },
  {
   "cell_type": "code",
   "execution_count": null,
   "id": "0373381e",
   "metadata": {},
   "outputs": [],
   "source": [
    "vocab = Vocab(tokens)"
   ]
  },
  {
   "cell_type": "code",
   "execution_count": null,
   "id": "92c59976",
   "metadata": {},
   "outputs": [],
   "source": [
    "print(list(vocab.token_to_idx.items())[:50])"
   ]
  },
  {
   "cell_type": "code",
   "execution_count": null,
   "id": "34bd3236",
   "metadata": {},
   "outputs": [],
   "source": [
    "corpus = [vocab[token] for line in tokens for token in line]"
   ]
  },
  {
   "cell_type": "code",
   "execution_count": null,
   "id": "8eb24f0b",
   "metadata": {},
   "outputs": [],
   "source": [
    "print(\"Total length of corpus: \", len(corpus))\n",
    "print(\"Vocab size of text: \", len(vocab))"
   ]
  },
  {
   "cell_type": "code",
   "execution_count": null,
   "id": "61c95385",
   "metadata": {},
   "outputs": [],
   "source": []
  },
  {
   "cell_type": "code",
   "execution_count": null,
   "id": "352b11d9",
   "metadata": {},
   "outputs": [],
   "source": []
  },
  {
   "cell_type": "code",
   "execution_count": null,
   "id": "bd67ba62",
   "metadata": {},
   "outputs": [],
   "source": []
  },
  {
   "cell_type": "code",
   "execution_count": null,
   "id": "f3c2ca98",
   "metadata": {},
   "outputs": [],
   "source": []
  },
  {
   "cell_type": "code",
   "execution_count": null,
   "id": "209fd625",
   "metadata": {},
   "outputs": [],
   "source": []
  },
  {
   "cell_type": "code",
   "execution_count": null,
   "id": "dabb7e25",
   "metadata": {},
   "outputs": [],
   "source": []
  },
  {
   "cell_type": "code",
   "execution_count": null,
   "id": "510314be",
   "metadata": {},
   "outputs": [],
   "source": []
  },
  {
   "cell_type": "code",
   "execution_count": null,
   "id": "c21a64f7",
   "metadata": {},
   "outputs": [],
   "source": []
  }
 ],
 "metadata": {
  "kernelspec": {
   "display_name": "Python 3 (ipykernel)",
   "language": "python",
   "name": "python3"
  },
  "language_info": {
   "codemirror_mode": {
    "name": "ipython",
    "version": 3
   },
   "file_extension": ".py",
   "mimetype": "text/x-python",
   "name": "python",
   "nbconvert_exporter": "python",
   "pygments_lexer": "ipython3",
   "version": "3.8.12"
  },
  "toc": {
   "base_numbering": 1,
   "nav_menu": {},
   "number_sections": true,
   "sideBar": true,
   "skip_h1_title": false,
   "title_cell": "Table of Contents",
   "title_sidebar": "Contents",
   "toc_cell": false,
   "toc_position": {},
   "toc_section_display": true,
   "toc_window_display": false
  }
 },
 "nbformat": 4,
 "nbformat_minor": 5
}
