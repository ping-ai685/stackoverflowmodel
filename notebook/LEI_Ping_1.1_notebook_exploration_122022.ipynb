{
 "cells": [
  {
   "cell_type": "markdown",
   "id": "92172382",
   "metadata": {},
   "source": [
    "# Introduction"
   ]
  },
  {
   "cell_type": "markdown",
   "id": "d1a9628b",
   "metadata": {},
   "source": [
    "Topic Modeling is a technique to extract the hidden topics from large volumes of text. Latent Dirichlet Allocation(LDA) is a popular algorithm for topic modeling with excellent implementations in the Python’s Gensim package. The challenge, however, is how to extract good quality of topics that are clear, segregated and meaningful. This depends heavily on the quality of text preprocessing and the strategy of finding the optimal number of topics. This tutorial attempts to tackle both of these problems."
   ]
  },
  {
   "cell_type": "markdown",
   "id": "5020fb0b",
   "metadata": {},
   "source": [
    "# Prerequisites \n",
    "\n",
    "– Download nltk stopwords and spacy model\n",
    "We will need the stopwords from NLTK and spacy’s en model for text pre-processing. Later, we will be using the spacy model for lemmatization.\n",
    "\n",
    "Lemmatization is nothing but converting a word to its root word. For example: the lemma of the word ‘machines’ is ‘machine’. Likewise, ‘walking’ –> ‘walk’, ‘mice’ –> ‘mouse’ and so on."
   ]
  },
  {
   "cell_type": "code",
   "execution_count": 1,
   "id": "869541e3",
   "metadata": {
    "scrolled": true
   },
   "outputs": [
    {
     "name": "stderr",
     "output_type": "stream",
     "text": [
      "[nltk_data] Downloading package stopwords to /home/ping/nltk_data...\n",
      "[nltk_data]   Package stopwords is already up-to-date!\n"
     ]
    },
    {
     "data": {
      "text/plain": [
       "True"
      ]
     },
     "execution_count": 1,
     "metadata": {},
     "output_type": "execute_result"
    }
   ],
   "source": [
    "# Run in python console\n",
    "import nltk; nltk.download('stopwords')\n"
   ]
  },
  {
   "cell_type": "markdown",
   "id": "01021312",
   "metadata": {},
   "source": [
    "# Import Packages\n"
   ]
  },
  {
   "cell_type": "code",
   "execution_count": 2,
   "id": "decd8501",
   "metadata": {},
   "outputs": [],
   "source": [
    "#pip install spacy"
   ]
  },
  {
   "cell_type": "code",
   "execution_count": 3,
   "id": "3db5241e",
   "metadata": {},
   "outputs": [],
   "source": [
    "#pip install pyLDAvis"
   ]
  },
  {
   "cell_type": "code",
   "execution_count": 4,
   "id": "1684d44d",
   "metadata": {},
   "outputs": [
    {
     "name": "stderr",
     "output_type": "stream",
     "text": [
      "2022-12-05 22:53:23.462826: I tensorflow/core/platform/cpu_feature_guard.cc:193] This TensorFlow binary is optimized with oneAPI Deep Neural Network Library (oneDNN) to use the following CPU instructions in performance-critical operations:  AVX2 FMA\n",
      "To enable them in other operations, rebuild TensorFlow with the appropriate compiler flags.\n",
      "2022-12-05 22:53:24.161860: W tensorflow/compiler/xla/stream_executor/platform/default/dso_loader.cc:64] Could not load dynamic library 'libnvinfer.so.7'; dlerror: libnvinfer.so.7: cannot open shared object file: No such file or directory\n",
      "2022-12-05 22:53:24.161970: W tensorflow/compiler/xla/stream_executor/platform/default/dso_loader.cc:64] Could not load dynamic library 'libnvinfer_plugin.so.7'; dlerror: libnvinfer_plugin.so.7: cannot open shared object file: No such file or directory\n",
      "2022-12-05 22:53:24.161976: W tensorflow/compiler/tf2tensorrt/utils/py_utils.cc:38] TF-TRT Warning: Cannot dlopen some TensorRT libraries. If you would like to use Nvidia GPU with TensorRT, please make sure the missing libraries mentioned above are installed properly.\n",
      "2022-12-05 22:53:24.684399: W tensorflow/compiler/xla/stream_executor/platform/default/dso_loader.cc:64] Could not load dynamic library 'libcuda.so.1'; dlerror: libcuda.so.1: cannot open shared object file: No such file or directory\n",
      "2022-12-05 22:53:24.684464: W tensorflow/compiler/xla/stream_executor/cuda/cuda_driver.cc:265] failed call to cuInit: UNKNOWN ERROR (303)\n",
      "2022-12-05 22:53:24.684482: I tensorflow/compiler/xla/stream_executor/cuda/cuda_diagnostics.cc:156] kernel driver does not appear to be running on this host (PingLapTop): /proc/driver/nvidia/version does not exist\n",
      "/home/ping/anaconda3/lib/python3.9/site-packages/past/builtins/misc.py:45: DeprecationWarning: the imp module is deprecated in favour of importlib; see the module's documentation for alternative uses\n",
      "  from imp import reload\n"
     ]
    }
   ],
   "source": [
    "import re\n",
    "import numpy as np\n",
    "import pandas as pd\n",
    "from pprint import pprint\n",
    "\n",
    "# Gensim\n",
    "import gensim\n",
    "import gensim.corpora as corpora\n",
    "from gensim.utils import simple_preprocess\n",
    "from gensim.models import CoherenceModel\n",
    "\n",
    "# spacy for lemmatization\n",
    "import spacy\n",
    "\n",
    "# Plotting tools\n",
    "import pyLDAvis\n",
    "import pyLDAvis.gensim_models  # don't skip this\n",
    "import matplotlib.pyplot as plt\n",
    "%matplotlib inline\n",
    "\n",
    "# Enable logging for gensim - optional\n",
    "import logging\n",
    "logging.basicConfig(format='%(asctime)s : %(levelname)s : %(message)s', level=logging.ERROR)\n",
    "\n",
    "import warnings\n",
    "warnings.filterwarnings(\"ignore\",category=DeprecationWarning)"
   ]
  },
  {
   "cell_type": "markdown",
   "id": "0e05d54b",
   "metadata": {},
   "source": [
    "# What does LDA do?"
   ]
  },
  {
   "cell_type": "markdown",
   "id": "9a8e4497",
   "metadata": {},
   "source": [
    "LDA’s approach to topic modeling is it considers each document as a collection of topics in a certain proportion. And each topic as a collection of keywords, again, in a certain proportion.\n",
    "\n",
    "\n",
    "Once you provide the algorithm with the number of topics, all it does it to rearrange the topics distribution within the documents and keywords distribution within the topics to obtain a good composition of topic-keywords distribution."
   ]
  },
  {
   "cell_type": "markdown",
   "id": "f1680c9e",
   "metadata": {},
   "source": [
    "# Prepare Stopwords"
   ]
  },
  {
   "cell_type": "markdown",
   "id": "64c731af",
   "metadata": {},
   "source": [
    "We have already downloaded the stopwords. Let’s import them and make it available in stop_words."
   ]
  },
  {
   "cell_type": "code",
   "execution_count": 5,
   "id": "9d411756",
   "metadata": {},
   "outputs": [],
   "source": [
    "# NLTK Stop words\n",
    "from nltk.corpus import stopwords\n",
    "stop_words = stopwords.words('english')\n",
    "stop_words.extend(['from', 'subject', 're', 'edu', 'use'])"
   ]
  },
  {
   "cell_type": "markdown",
   "id": "91c36179",
   "metadata": {},
   "source": [
    "# Import Data"
   ]
  },
  {
   "cell_type": "code",
   "execution_count": 6,
   "id": "15be905f",
   "metadata": {},
   "outputs": [
    {
     "data": {
      "text/html": [
       "<div>\n",
       "<style scoped>\n",
       "    .dataframe tbody tr th:only-of-type {\n",
       "        vertical-align: middle;\n",
       "    }\n",
       "\n",
       "    .dataframe tbody tr th {\n",
       "        vertical-align: top;\n",
       "    }\n",
       "\n",
       "    .dataframe thead th {\n",
       "        text-align: right;\n",
       "    }\n",
       "</style>\n",
       "<table border=\"1\" class=\"dataframe\">\n",
       "  <thead>\n",
       "    <tr style=\"text-align: right;\">\n",
       "      <th></th>\n",
       "      <th>Unnamed: 0</th>\n",
       "      <th>Id</th>\n",
       "      <th>Title</th>\n",
       "      <th>Body</th>\n",
       "      <th>Tags</th>\n",
       "    </tr>\n",
       "  </thead>\n",
       "  <tbody>\n",
       "    <tr>\n",
       "      <th>0</th>\n",
       "      <td>0</td>\n",
       "      <td>1898</td>\n",
       "      <td>Import CSV file to strongly typed data structu...</td>\n",
       "      <td>&lt;p&gt;What's the best way to import a CSV file in...</td>\n",
       "      <td>&lt;c#&gt;&lt;vb.net&gt;&lt;file&gt;&lt;csv&gt;&lt;import&gt;</td>\n",
       "    </tr>\n",
       "    <tr>\n",
       "      <th>1</th>\n",
       "      <td>1</td>\n",
       "      <td>1939041</td>\n",
       "      <td>Change hash without reload in jQuery</td>\n",
       "      <td>&lt;p&gt;I have the following code:&lt;/p&gt;\\n\\n&lt;pre&gt;&lt;cod...</td>\n",
       "      <td>&lt;jquery&gt;&lt;hash&gt;&lt;reload&gt;&lt;fragment-identifier&gt;&lt;wi...</td>\n",
       "    </tr>\n",
       "    <tr>\n",
       "      <th>2</th>\n",
       "      <td>2</td>\n",
       "      <td>2027</td>\n",
       "      <td>Pass by reference or pass by value?</td>\n",
       "      <td>&lt;p&gt;When learning a new programming language, o...</td>\n",
       "      <td>&lt;language-agnostic&gt;&lt;oop&gt;&lt;parameters&gt;&lt;pass-by-r...</td>\n",
       "    </tr>\n",
       "    <tr>\n",
       "      <th>3</th>\n",
       "      <td>3</td>\n",
       "      <td>2056</td>\n",
       "      <td>What are MVP and MVC and what is the difference?</td>\n",
       "      <td>&lt;p&gt;When looking beyond the &lt;a href=\"https://en...</td>\n",
       "      <td>&lt;user-interface&gt;&lt;model-view-controller&gt;&lt;design...</td>\n",
       "    </tr>\n",
       "    <tr>\n",
       "      <th>4</th>\n",
       "      <td>4</td>\n",
       "      <td>2138</td>\n",
       "      <td>LINQ on the .NET 2.0 Runtime</td>\n",
       "      <td>&lt;p&gt;Can a LINQ enabled app run on a machine tha...</td>\n",
       "      <td>&lt;.net&gt;&lt;linq&gt;&lt;.net-3.5&gt;&lt;.net-2.0&gt;&lt;clr&gt;</td>\n",
       "    </tr>\n",
       "    <tr>\n",
       "      <th>...</th>\n",
       "      <td>...</td>\n",
       "      <td>...</td>\n",
       "      <td>...</td>\n",
       "      <td>...</td>\n",
       "      <td>...</td>\n",
       "    </tr>\n",
       "    <tr>\n",
       "      <th>27928</th>\n",
       "      <td>27928</td>\n",
       "      <td>37332190</td>\n",
       "      <td>Django - Login with Email</td>\n",
       "      <td>&lt;p&gt;I want django to authenticate users via ema...</td>\n",
       "      <td>&lt;python&gt;&lt;python-3.x&gt;&lt;django&gt;&lt;django-authentica...</td>\n",
       "    </tr>\n",
       "    <tr>\n",
       "      <th>27929</th>\n",
       "      <td>27929</td>\n",
       "      <td>37334668</td>\n",
       "      <td>Is there a python equivalent for RSpec to do TDD?</td>\n",
       "      <td>&lt;p&gt;I'm looking for a test framework like Ruby'...</td>\n",
       "      <td>&lt;python&gt;&lt;ruby&gt;&lt;testing&gt;&lt;rspec&gt;&lt;tdd&gt;</td>\n",
       "    </tr>\n",
       "    <tr>\n",
       "      <th>27930</th>\n",
       "      <td>27930</td>\n",
       "      <td>55345373</td>\n",
       "      <td>How to install GCC/G++ 8 on CentOS</td>\n",
       "      <td>&lt;p&gt;I'm used to install packages on Debian/Ubun...</td>\n",
       "      <td>&lt;gcc&gt;&lt;centos&gt;&lt;g++&gt;&lt;software-collections&gt;&lt;redha...</td>\n",
       "    </tr>\n",
       "    <tr>\n",
       "      <th>27931</th>\n",
       "      <td>27931</td>\n",
       "      <td>55372259</td>\n",
       "      <td>How to use TabLayout with ViewPager2 in Android</td>\n",
       "      <td>&lt;p&gt;I want to use &lt;code&gt;com.google.android.mate...</td>\n",
       "      <td>&lt;java&gt;&lt;android&gt;&lt;androidx&gt;&lt;android-tablayout&gt;&lt;a...</td>\n",
       "    </tr>\n",
       "    <tr>\n",
       "      <th>27932</th>\n",
       "      <td>27932</td>\n",
       "      <td>55375803</td>\n",
       "      <td>Mystifying microbenchmark result for stream AP...</td>\n",
       "      <td>&lt;p&gt;As part of my investigation on the differen...</td>\n",
       "      <td>&lt;java&gt;&lt;java-stream&gt;&lt;benchmarking&gt;&lt;jmh&gt;&lt;java-12&gt;</td>\n",
       "    </tr>\n",
       "  </tbody>\n",
       "</table>\n",
       "<p>27933 rows × 5 columns</p>\n",
       "</div>"
      ],
      "text/plain": [
       "       Unnamed: 0        Id  \\\n",
       "0               0      1898   \n",
       "1               1   1939041   \n",
       "2               2      2027   \n",
       "3               3      2056   \n",
       "4               4      2138   \n",
       "...           ...       ...   \n",
       "27928       27928  37332190   \n",
       "27929       27929  37334668   \n",
       "27930       27930  55345373   \n",
       "27931       27931  55372259   \n",
       "27932       27932  55375803   \n",
       "\n",
       "                                                   Title  \\\n",
       "0      Import CSV file to strongly typed data structu...   \n",
       "1                   Change hash without reload in jQuery   \n",
       "2                    Pass by reference or pass by value?   \n",
       "3       What are MVP and MVC and what is the difference?   \n",
       "4                           LINQ on the .NET 2.0 Runtime   \n",
       "...                                                  ...   \n",
       "27928                          Django - Login with Email   \n",
       "27929  Is there a python equivalent for RSpec to do TDD?   \n",
       "27930                 How to install GCC/G++ 8 on CentOS   \n",
       "27931    How to use TabLayout with ViewPager2 in Android   \n",
       "27932  Mystifying microbenchmark result for stream AP...   \n",
       "\n",
       "                                                    Body  \\\n",
       "0      <p>What's the best way to import a CSV file in...   \n",
       "1      <p>I have the following code:</p>\\n\\n<pre><cod...   \n",
       "2      <p>When learning a new programming language, o...   \n",
       "3      <p>When looking beyond the <a href=\"https://en...   \n",
       "4      <p>Can a LINQ enabled app run on a machine tha...   \n",
       "...                                                  ...   \n",
       "27928  <p>I want django to authenticate users via ema...   \n",
       "27929  <p>I'm looking for a test framework like Ruby'...   \n",
       "27930  <p>I'm used to install packages on Debian/Ubun...   \n",
       "27931  <p>I want to use <code>com.google.android.mate...   \n",
       "27932  <p>As part of my investigation on the differen...   \n",
       "\n",
       "                                                    Tags  \n",
       "0                        <c#><vb.net><file><csv><import>  \n",
       "1      <jquery><hash><reload><fragment-identifier><wi...  \n",
       "2      <language-agnostic><oop><parameters><pass-by-r...  \n",
       "3      <user-interface><model-view-controller><design...  \n",
       "4                  <.net><linq><.net-3.5><.net-2.0><clr>  \n",
       "...                                                  ...  \n",
       "27928  <python><python-3.x><django><django-authentica...  \n",
       "27929                <python><ruby><testing><rspec><tdd>  \n",
       "27930  <gcc><centos><g++><software-collections><redha...  \n",
       "27931  <java><android><androidx><android-tablayout><a...  \n",
       "27932    <java><java-stream><benchmarking><jmh><java-12>  \n",
       "\n",
       "[27933 rows x 5 columns]"
      ]
     },
     "execution_count": 6,
     "metadata": {},
     "output_type": "execute_result"
    }
   ],
   "source": [
    "df = pd.read_csv(\"data_cleaned.csv\")\n",
    "df"
   ]
  },
  {
   "cell_type": "code",
   "execution_count": 7,
   "id": "e3b04178",
   "metadata": {},
   "outputs": [],
   "source": [
    "df = df[['Id', 'Title', 'Body', 'Tags']]"
   ]
  },
  {
   "cell_type": "code",
   "execution_count": 8,
   "id": "5e7a4c4b",
   "metadata": {},
   "outputs": [
    {
     "data": {
      "text/plain": [
       "(2793, 4)"
      ]
     },
     "execution_count": 8,
     "metadata": {},
     "output_type": "execute_result"
    }
   ],
   "source": [
    "df=df.sample(frac=0.1)\n",
    "df.shape"
   ]
  },
  {
   "cell_type": "code",
   "execution_count": 9,
   "id": "f806e3df",
   "metadata": {},
   "outputs": [
    {
     "name": "stdout",
     "output_type": "stream",
     "text": [
      "['<android><input><popup><android-edittext><drawable>'\n",
      " '<python><google-drive-api><google-sheets-api><google-docs><google-docs-api>'\n",
      " '<ios><core-location><cllocationmanager><power-management><core-bluetooth>'\n",
      " ... '<javascript><html><css><hover><touch>'\n",
      " '<git><version-control><versioning><terminology><definition>'\n",
      " '<java><image><swing><screenshot><jframe>']\n"
     ]
    },
    {
     "data": {
      "text/html": [
       "<div>\n",
       "<style scoped>\n",
       "    .dataframe tbody tr th:only-of-type {\n",
       "        vertical-align: middle;\n",
       "    }\n",
       "\n",
       "    .dataframe tbody tr th {\n",
       "        vertical-align: top;\n",
       "    }\n",
       "\n",
       "    .dataframe thead th {\n",
       "        text-align: right;\n",
       "    }\n",
       "</style>\n",
       "<table border=\"1\" class=\"dataframe\">\n",
       "  <thead>\n",
       "    <tr style=\"text-align: right;\">\n",
       "      <th></th>\n",
       "      <th>Id</th>\n",
       "      <th>Title</th>\n",
       "      <th>Body</th>\n",
       "      <th>Tags</th>\n",
       "    </tr>\n",
       "  </thead>\n",
       "  <tbody>\n",
       "    <tr>\n",
       "      <th>24203</th>\n",
       "      <td>14127710</td>\n",
       "      <td>Change background of EditText's error message</td>\n",
       "      <td>&lt;p&gt;What I want to do is change the background ...</td>\n",
       "      <td>&lt;android&gt;&lt;input&gt;&lt;popup&gt;&lt;android-edittext&gt;&lt;draw...</td>\n",
       "    </tr>\n",
       "    <tr>\n",
       "      <th>8767</th>\n",
       "      <td>3287651</td>\n",
       "      <td>Download a spreadsheet from Google Drive / Wor...</td>\n",
       "      <td>&lt;p&gt;Can you produce a Python example of how to ...</td>\n",
       "      <td>&lt;python&gt;&lt;google-drive-api&gt;&lt;google-sheets-api&gt;&lt;...</td>\n",
       "    </tr>\n",
       "    <tr>\n",
       "      <th>3699</th>\n",
       "      <td>9513249</td>\n",
       "      <td>Battery drain when using CoreLocation Signific...</td>\n",
       "      <td>&lt;p&gt;We've released an application which runs in...</td>\n",
       "      <td>&lt;ios&gt;&lt;core-location&gt;&lt;cllocationmanager&gt;&lt;power-...</td>\n",
       "    </tr>\n",
       "    <tr>\n",
       "      <th>5221</th>\n",
       "      <td>27411826</td>\n",
       "      <td>Detect if checkbox is checked or unchecked in ...</td>\n",
       "      <td>&lt;p&gt;I want to detect if a checkbox has been che...</td>\n",
       "      <td>&lt;javascript&gt;&lt;jquery&gt;&lt;angularjs&gt;&lt;checkbox&gt;&lt;angu...</td>\n",
       "    </tr>\n",
       "    <tr>\n",
       "      <th>21112</th>\n",
       "      <td>11186854</td>\n",
       "      <td>Download a file / image with AFNetworking in iOS?</td>\n",
       "      <td>&lt;p&gt;I thought I had it figured out but I just c...</td>\n",
       "      <td>&lt;iphone&gt;&lt;objective-c&gt;&lt;ios&gt;&lt;ipad&gt;&lt;afnetworking&gt;</td>\n",
       "    </tr>\n",
       "  </tbody>\n",
       "</table>\n",
       "</div>"
      ],
      "text/plain": [
       "             Id                                              Title  \\\n",
       "24203  14127710      Change background of EditText's error message   \n",
       "8767    3287651  Download a spreadsheet from Google Drive / Wor...   \n",
       "3699    9513249  Battery drain when using CoreLocation Signific...   \n",
       "5221   27411826  Detect if checkbox is checked or unchecked in ...   \n",
       "21112  11186854  Download a file / image with AFNetworking in iOS?   \n",
       "\n",
       "                                                    Body  \\\n",
       "24203  <p>What I want to do is change the background ...   \n",
       "8767   <p>Can you produce a Python example of how to ...   \n",
       "3699   <p>We've released an application which runs in...   \n",
       "5221   <p>I want to detect if a checkbox has been che...   \n",
       "21112  <p>I thought I had it figured out but I just c...   \n",
       "\n",
       "                                                    Tags  \n",
       "24203  <android><input><popup><android-edittext><draw...  \n",
       "8767   <python><google-drive-api><google-sheets-api><...  \n",
       "3699   <ios><core-location><cllocationmanager><power-...  \n",
       "5221   <javascript><jquery><angularjs><checkbox><angu...  \n",
       "21112     <iphone><objective-c><ios><ipad><afnetworking>  "
      ]
     },
     "execution_count": 9,
     "metadata": {},
     "output_type": "execute_result"
    }
   ],
   "source": [
    "print(df.Tags.unique())\n",
    "df.head()"
   ]
  },
  {
   "cell_type": "markdown",
   "id": "e4fd23d0",
   "metadata": {},
   "source": [
    "# Remove characters\n",
    "As you can see there are many emails, newline and extra spaces that is quite distracting. Let’s get rid of them using regular expressions."
   ]
  },
  {
   "cell_type": "code",
   "execution_count": 10,
   "id": "2565dc73",
   "metadata": {},
   "outputs": [
    {
     "name": "stdout",
     "output_type": "stream",
     "text": [
      "['<p>What I want to do is change the background color (set custom drawable) of '\n",
      " 'a popup error message displayed after using <code>setError()</code> '\n",
      " 'method.</p> <p>Currently, it looks like this:</p> <p><img '\n",
      " 'src=\"https://i.stack.imgur.com/XmFEG.png\" alt=\"enter image description '\n",
      " 'here\"></p> <p>Ive found that Android has two files:</p> <ul> '\n",
      " '<li><code>popup_inline_error.9.png</code></li> '\n",
      " '<li><code>popup_inline_above_error.9.png</code></li> </ul> <p>And youre '\n",
      " 'supposed to be able to set them using two attributes:</p> <ul> '\n",
      " '<li><code>errorMessageBackground</code></li> '\n",
      " '<li><code>errorMessageAboveBackground</code></li> </ul> <p>But when I try to '\n",
      " 'set them in my theme, all I get is:</p> <pre><code>&lt;item &lt;item error: '\n",
      " 'Error: No resource found that matches the given name: attr '\n",
      " 'errorMessageBackground. </code></pre> <p>(its the same <code>with '\n",
      " 'android:errorMessageBackground</code>)</p> <p>Im putting this question here, '\n",
      " 'cause Ive run out of ideas - maybe someone already managed to do that?</p> '\n",
      " '<p><strong>EDIT:</strong> Header of the Theme Im using:</p> '\n",
      " '<pre><code>&lt;resources '\n",
      " 'xmlns:android=\"http://schemas.android.com/apk/res/android\"&gt; &lt;style '\n",
      " 'name=\"Theme.MyThemeName\" </code></pre> <p><strong>ANOTHER EDIT:</strong> Uh, '\n",
      " 'Ive found that my question is a duplicate of: <a '\n",
      " 'href=\"https://stackoverflow.com/questions/13874197/androiderrormessagebackground-getting-no-resource-found-error-in-styles-xml\">android:errorMessageBackground '\n",
      " 'getting no resource found error in styles.xml</a></p> <p><strong>YET ANOTHER '\n",
      " 'EDIT:</strong> This is a known problem, take a look at this link: <a '\n",
      " 'href=\"https://code.google.com/p/android/issues/detail?id=55879\" '\n",
      " 'rel=\"nofollow '\n",
      " 'noreferrer\">https://code.google.com/p/android/issues/detail?id=55879</a></p> ']\n"
     ]
    }
   ],
   "source": [
    "# Convert to list\n",
    "data = df.Body.values.tolist()\n",
    "\n",
    "# Remove Emails\n",
    "data = [re.sub('\\S*@\\S*\\s?', '', sent) for sent in data]\n",
    "\n",
    "# Remove new line characters\n",
    "data = [re.sub('\\s+', ' ', sent) for sent in data]\n",
    "\n",
    "# Remove distracting single quotes\n",
    "data = [re.sub(\"\\'\", \"\", sent) for sent in data]\n",
    "\n",
    "pprint(data[:1])"
   ]
  },
  {
   "cell_type": "markdown",
   "id": "3950e5df",
   "metadata": {},
   "source": [
    "# Tokenize words and Clean-up text"
   ]
  },
  {
   "cell_type": "markdown",
   "id": "b998a7f5",
   "metadata": {},
   "source": [
    "Let’s tokenize each sentence into a list of words, removing punctuations and unnecessary characters altogether.\n",
    "\n",
    "Gensim’s simple_preprocess() is great for this. Additionally I have set deacc=True to remove the punctuations."
   ]
  },
  {
   "cell_type": "code",
   "execution_count": 11,
   "id": "59a89c49",
   "metadata": {},
   "outputs": [
    {
     "name": "stdout",
     "output_type": "stream",
     "text": [
      "[['what', 'want', 'to', 'do', 'is', 'change', 'the', 'background', 'color', 'set', 'custom', 'drawable', 'of', 'popup', 'error', 'message', 'displayed', 'after', 'using', 'code', 'seterror', 'code', 'method', 'currently', 'it', 'looks', 'like', 'this', 'img', 'src', 'https', 'stack', 'imgur', 'com', 'xmfeg', 'png', 'alt', 'enter', 'image', 'description', 'here', 'ive', 'found', 'that', 'android', 'has', 'two', 'files', 'ul', 'li', 'code', 'png', 'code', 'li', 'li', 'code', 'png', 'code', 'li', 'ul', 'and', 'youre', 'supposed', 'to', 'be', 'able', 'to', 'set', 'them', 'using', 'two', 'attributes', 'ul', 'li', 'code', 'code', 'li', 'li', 'code', 'code', 'li', 'ul', 'but', 'when', 'try', 'to', 'set', 'them', 'in', 'my', 'theme', 'all', 'get', 'is', 'pre', 'code', 'lt', 'item', 'lt', 'item', 'error', 'error', 'no', 'resource', 'found', 'that', 'matches', 'the', 'given', 'name', 'attr', 'code', 'pre', 'its', 'the', 'same', 'code', 'with', 'android', 'code', 'im', 'putting', 'this', 'question', 'here', 'cause', 'ive', 'run', 'out', 'of', 'ideas', 'maybe', 'someone', 'already', 'managed', 'to', 'do', 'that', 'strong', 'edit', 'strong', 'header', 'of', 'the', 'theme', 'im', 'using', 'pre', 'code', 'lt', 'resources', 'xmlns', 'android', 'http', 'schemas', 'android', 'com', 'apk', 'res', 'android', 'gt', 'lt', 'style', 'name', 'theme', 'mythemename', 'code', 'pre', 'strong', 'another', 'edit', 'strong', 'uh', 'ive', 'found', 'that', 'my', 'question', 'is', 'duplicate', 'of', 'href', 'https', 'stackoverflow', 'com', 'questions', 'getting', 'no', 'resource', 'found', 'error', 'in', 'styles', 'xml', 'android', 'getting', 'no', 'resource', 'found', 'error', 'in', 'styles', 'xml', 'strong', 'yet', 'another', 'edit', 'strong', 'this', 'is', 'known', 'problem', 'take', 'look', 'at', 'this', 'link', 'href', 'https', 'code', 'google', 'com', 'android', 'issues', 'detail', 'id', 'rel', 'nofollow', 'noreferrer', 'https', 'code', 'google', 'com', 'android', 'issues', 'detail', 'id']]\n"
     ]
    }
   ],
   "source": [
    "def sent_to_words(sentences):\n",
    "    for sentence in sentences:\n",
    "        yield(gensim.utils.simple_preprocess(str(sentence), deacc=True))  # deacc=True removes punctuations\n",
    "\n",
    "data_words = list(sent_to_words(data))\n",
    "\n",
    "print(data_words[:1])"
   ]
  },
  {
   "cell_type": "markdown",
   "id": "7da3595d",
   "metadata": {},
   "source": [
    "Creating Bigram and Trigram Models\n",
    "Bigrams are two words frequently occurring together in the document. Trigrams are 3 words frequently occurring.\n",
    "\n",
    "Gensim’s Phrases model can build and implement the bigrams, trigrams, quadgrams and more. The two important arguments to Phrases are min_count and threshold. The higher the values of these param, the harder it is for words to be combined to bigrams."
   ]
  },
  {
   "cell_type": "code",
   "execution_count": 12,
   "id": "94d69a40",
   "metadata": {},
   "outputs": [
    {
     "name": "stdout",
     "output_type": "stream",
     "text": [
      "['what', 'want', 'to', 'do', 'is', 'change', 'the', 'background', 'color', 'set', 'custom', 'drawable', 'of', 'popup', 'error', 'message', 'displayed', 'after', 'using', 'code', 'seterror', 'code', 'method', 'currently', 'it', 'looks', 'like', 'this', 'img_src_https_stack', 'imgur', 'com', 'xmfeg', 'png_alt_enter_image', 'description_here', 'ive', 'found', 'that', 'android', 'has', 'two', 'files', 'ul', 'li', 'code', 'png', 'code', 'li', 'li', 'code', 'png', 'code', 'li', 'ul', 'and', 'youre', 'supposed', 'to', 'be', 'able', 'to', 'set', 'them', 'using', 'two', 'attributes', 'ul', 'li', 'code', 'code', 'li', 'li', 'code', 'code', 'li', 'ul', 'but', 'when', 'try', 'to', 'set', 'them', 'in', 'my', 'theme', 'all', 'get', 'is', 'pre', 'code', 'lt', 'item', 'lt', 'item', 'error', 'error', 'no', 'resource', 'found', 'that', 'matches', 'the', 'given', 'name', 'attr', 'code', 'pre', 'its', 'the', 'same', 'code', 'with', 'android', 'code', 'im', 'putting', 'this', 'question', 'here', 'cause', 'ive', 'run', 'out', 'of', 'ideas', 'maybe', 'someone', 'already', 'managed', 'to', 'do', 'that', 'strong', 'edit', 'strong', 'header', 'of', 'the', 'theme', 'im', 'using', 'pre', 'code', 'lt', 'resources', 'xmlns', 'android_http_schemas', 'android', 'com', 'apk_res_android', 'gt', 'lt', 'style', 'name', 'theme', 'mythemename', 'code', 'pre', 'strong', 'another', 'edit', 'strong', 'uh', 'ive', 'found', 'that', 'my', 'question', 'is', 'duplicate', 'of', 'href_https_stackoverflow', 'com', 'questions', 'getting', 'no', 'resource', 'found', 'error', 'in', 'styles', 'xml', 'android', 'getting', 'no', 'resource', 'found', 'error', 'in', 'styles', 'xml', 'strong', 'yet', 'another', 'edit', 'strong', 'this', 'is', 'known', 'problem', 'take', 'look', 'at', 'this', 'link', 'href', 'https', 'code', 'google', 'com', 'android', 'issues', 'detail', 'id', 'rel_nofollow_noreferrer', 'https', 'code', 'google', 'com', 'android', 'issues', 'detail', 'id']\n"
     ]
    }
   ],
   "source": [
    "# Build the bigram and trigram models\n",
    "bigram = gensim.models.Phrases(data_words, min_count=5, threshold=100) # higher threshold fewer phrases.\n",
    "trigram = gensim.models.Phrases(bigram[data_words], threshold=100)  \n",
    "\n",
    "# Faster way to get a sentence clubbed as a trigram/bigram\n",
    "bigram_mod = gensim.models.phrases.Phraser(bigram)\n",
    "trigram_mod = gensim.models.phrases.Phraser(trigram)\n",
    "\n",
    "# See trigram example\n",
    "print(trigram_mod[bigram_mod[data_words[0]]])"
   ]
  },
  {
   "cell_type": "markdown",
   "id": "eee16e99",
   "metadata": {},
   "source": [
    "# Remove Stopwords, Make Bigrams and Lemmatize"
   ]
  },
  {
   "cell_type": "markdown",
   "id": "d1081947",
   "metadata": {},
   "source": [
    "The bigrams model is ready. Let’s define the functions to remove the stopwords, make bigrams and lemmatization and call them sequentially."
   ]
  },
  {
   "cell_type": "code",
   "execution_count": 13,
   "id": "6169710b",
   "metadata": {},
   "outputs": [],
   "source": [
    "# Define functions for stopwords, bigrams, trigrams and lemmatization\n",
    "def remove_stopwords(texts):\n",
    "    return [[word for word in simple_preprocess(str(doc)) if word not in stop_words] for doc in texts]\n",
    "\n",
    "def make_bigrams(texts):\n",
    "    return [bigram_mod[doc] for doc in texts]\n",
    "\n",
    "def make_trigrams(texts):\n",
    "    return [trigram_mod[bigram_mod[doc]] for doc in texts]\n",
    "\n",
    "def lemmatization(texts, allowed_postags=['NOUN', 'ADJ', 'VERB', 'ADV']):\n",
    "    \"\"\"https://spacy.io/api/annotation\"\"\"\n",
    "    texts_out = []\n",
    "    for sent in texts:\n",
    "        doc = nlp(\" \".join(sent)) \n",
    "        texts_out.append([token.lemma_ for token in doc if token.pos_ in allowed_postags])\n",
    "    return texts_out"
   ]
  },
  {
   "cell_type": "code",
   "execution_count": 17,
   "id": "8ff51c94",
   "metadata": {},
   "outputs": [],
   "source": [
    "#pip install spacy-download"
   ]
  },
  {
   "cell_type": "code",
   "execution_count": 18,
   "id": "e75c9471",
   "metadata": {},
   "outputs": [
    {
     "name": "stdout",
     "output_type": "stream",
     "text": [
      "Collecting en-core-web-sm==3.4.1\n",
      "  Downloading https://github.com/explosion/spacy-models/releases/download/en_core_web_sm-3.4.1/en_core_web_sm-3.4.1-py3-none-any.whl (12.8 MB)\n",
      "     ━━━━━━━━━━━━━━━━━━━━━━━━━━━━━━━━━━━━━━━━ 12.8/12.8 MB 1.8 MB/s eta 0:00:00\n",
      "Requirement already satisfied: spacy<3.5.0,>=3.4.0 in /home/ping/anaconda3/lib/python3.9/site-packages (from en-core-web-sm==3.4.1) (3.4.3)\n",
      "Requirement already satisfied: preshed<3.1.0,>=3.0.2 in /home/ping/anaconda3/lib/python3.9/site-packages (from spacy<3.5.0,>=3.4.0->en-core-web-sm==3.4.1) (3.0.8)\n",
      "Requirement already satisfied: spacy-legacy<3.1.0,>=3.0.10 in /home/ping/anaconda3/lib/python3.9/site-packages (from spacy<3.5.0,>=3.4.0->en-core-web-sm==3.4.1) (3.0.10)\n",
      "Requirement already satisfied: spacy-loggers<2.0.0,>=1.0.0 in /home/ping/anaconda3/lib/python3.9/site-packages (from spacy<3.5.0,>=3.4.0->en-core-web-sm==3.4.1) (1.0.3)\n",
      "Requirement already satisfied: thinc<8.2.0,>=8.1.0 in /home/ping/anaconda3/lib/python3.9/site-packages (from spacy<3.5.0,>=3.4.0->en-core-web-sm==3.4.1) (8.1.5)\n",
      "Requirement already satisfied: requests<3.0.0,>=2.13.0 in /home/ping/anaconda3/lib/python3.9/site-packages (from spacy<3.5.0,>=3.4.0->en-core-web-sm==3.4.1) (2.28.1)\n",
      "Requirement already satisfied: setuptools in /home/ping/anaconda3/lib/python3.9/site-packages (from spacy<3.5.0,>=3.4.0->en-core-web-sm==3.4.1) (63.4.1)\n",
      "Requirement already satisfied: catalogue<2.1.0,>=2.0.6 in /home/ping/anaconda3/lib/python3.9/site-packages (from spacy<3.5.0,>=3.4.0->en-core-web-sm==3.4.1) (2.0.8)\n",
      "Requirement already satisfied: tqdm<5.0.0,>=4.38.0 in /home/ping/anaconda3/lib/python3.9/site-packages (from spacy<3.5.0,>=3.4.0->en-core-web-sm==3.4.1) (4.64.1)\n",
      "Requirement already satisfied: cymem<2.1.0,>=2.0.2 in /home/ping/anaconda3/lib/python3.9/site-packages (from spacy<3.5.0,>=3.4.0->en-core-web-sm==3.4.1) (2.0.7)\n",
      "Requirement already satisfied: jinja2 in /home/ping/anaconda3/lib/python3.9/site-packages (from spacy<3.5.0,>=3.4.0->en-core-web-sm==3.4.1) (2.11.3)\n",
      "Requirement already satisfied: murmurhash<1.1.0,>=0.28.0 in /home/ping/anaconda3/lib/python3.9/site-packages (from spacy<3.5.0,>=3.4.0->en-core-web-sm==3.4.1) (1.0.9)\n",
      "Requirement already satisfied: wasabi<1.1.0,>=0.9.1 in /home/ping/anaconda3/lib/python3.9/site-packages (from spacy<3.5.0,>=3.4.0->en-core-web-sm==3.4.1) (0.10.1)\n",
      "Requirement already satisfied: srsly<3.0.0,>=2.4.3 in /home/ping/anaconda3/lib/python3.9/site-packages (from spacy<3.5.0,>=3.4.0->en-core-web-sm==3.4.1) (2.4.5)\n",
      "Requirement already satisfied: langcodes<4.0.0,>=3.2.0 in /home/ping/anaconda3/lib/python3.9/site-packages (from spacy<3.5.0,>=3.4.0->en-core-web-sm==3.4.1) (3.3.0)\n",
      "Requirement already satisfied: typer<0.8.0,>=0.3.0 in /home/ping/anaconda3/lib/python3.9/site-packages (from spacy<3.5.0,>=3.4.0->en-core-web-sm==3.4.1) (0.7.0)\n",
      "Requirement already satisfied: numpy>=1.15.0 in /home/ping/anaconda3/lib/python3.9/site-packages (from spacy<3.5.0,>=3.4.0->en-core-web-sm==3.4.1) (1.21.5)\n",
      "Requirement already satisfied: pydantic!=1.8,!=1.8.1,<1.11.0,>=1.7.4 in /home/ping/anaconda3/lib/python3.9/site-packages (from spacy<3.5.0,>=3.4.0->en-core-web-sm==3.4.1) (1.10.2)\n",
      "Requirement already satisfied: packaging>=20.0 in /home/ping/anaconda3/lib/python3.9/site-packages (from spacy<3.5.0,>=3.4.0->en-core-web-sm==3.4.1) (21.3)\n",
      "Requirement already satisfied: pathy>=0.3.5 in /home/ping/anaconda3/lib/python3.9/site-packages (from spacy<3.5.0,>=3.4.0->en-core-web-sm==3.4.1) (0.10.0)\n",
      "Requirement already satisfied: pyparsing!=3.0.5,>=2.0.2 in /home/ping/anaconda3/lib/python3.9/site-packages (from packaging>=20.0->spacy<3.5.0,>=3.4.0->en-core-web-sm==3.4.1) (3.0.9)\n",
      "Requirement already satisfied: smart-open<6.0.0,>=5.2.1 in /home/ping/anaconda3/lib/python3.9/site-packages (from pathy>=0.3.5->spacy<3.5.0,>=3.4.0->en-core-web-sm==3.4.1) (5.2.1)\n",
      "Requirement already satisfied: typing-extensions>=4.1.0 in /home/ping/anaconda3/lib/python3.9/site-packages (from pydantic!=1.8,!=1.8.1,<1.11.0,>=1.7.4->spacy<3.5.0,>=3.4.0->en-core-web-sm==3.4.1) (4.3.0)\n",
      "Requirement already satisfied: charset-normalizer<3,>=2 in /home/ping/anaconda3/lib/python3.9/site-packages (from requests<3.0.0,>=2.13.0->spacy<3.5.0,>=3.4.0->en-core-web-sm==3.4.1) (2.0.4)\n",
      "Requirement already satisfied: idna<4,>=2.5 in /home/ping/anaconda3/lib/python3.9/site-packages (from requests<3.0.0,>=2.13.0->spacy<3.5.0,>=3.4.0->en-core-web-sm==3.4.1) (3.3)\n",
      "Requirement already satisfied: certifi>=2017.4.17 in /home/ping/anaconda3/lib/python3.9/site-packages (from requests<3.0.0,>=2.13.0->spacy<3.5.0,>=3.4.0->en-core-web-sm==3.4.1) (2022.9.14)\n",
      "Requirement already satisfied: urllib3<1.27,>=1.21.1 in /home/ping/anaconda3/lib/python3.9/site-packages (from requests<3.0.0,>=2.13.0->spacy<3.5.0,>=3.4.0->en-core-web-sm==3.4.1) (1.26.11)\n",
      "Requirement already satisfied: blis<0.8.0,>=0.7.8 in /home/ping/anaconda3/lib/python3.9/site-packages (from thinc<8.2.0,>=8.1.0->spacy<3.5.0,>=3.4.0->en-core-web-sm==3.4.1) (0.7.9)\n",
      "Requirement already satisfied: confection<1.0.0,>=0.0.1 in /home/ping/anaconda3/lib/python3.9/site-packages (from thinc<8.2.0,>=8.1.0->spacy<3.5.0,>=3.4.0->en-core-web-sm==3.4.1) (0.0.3)\n",
      "Requirement already satisfied: click<9.0.0,>=7.1.1 in /home/ping/anaconda3/lib/python3.9/site-packages (from typer<0.8.0,>=0.3.0->spacy<3.5.0,>=3.4.0->en-core-web-sm==3.4.1) (8.0.4)\n",
      "Requirement already satisfied: MarkupSafe>=0.23 in /home/ping/anaconda3/lib/python3.9/site-packages (from jinja2->spacy<3.5.0,>=3.4.0->en-core-web-sm==3.4.1) (2.0.1)\n",
      "Installing collected packages: en-core-web-sm\n",
      "Successfully installed en-core-web-sm-3.4.1\n",
      "\u001b[38;5;2m✔ Download and installation successful\u001b[0m\n",
      "You can now load the package via spacy.load('en_core_web_sm')\n"
     ]
    }
   ],
   "source": [
    "from spacy_download import load_spacy\n",
    "\n",
    "nlp = load_spacy(\"en_core_web_sm\", exclude=[\"parser\", \"tagger\"])  # Will download the model if it isn't installed yet"
   ]
  },
  {
   "cell_type": "code",
   "execution_count": 19,
   "id": "2ca3166a",
   "metadata": {},
   "outputs": [
    {
     "name": "stdout",
     "output_type": "stream",
     "text": [
      "[['want', 'change', 'background', 'color', 'set', 'custom', 'drawable', 'popup', 'error', 'message', 'display', 'use', 'code', 'seterror', 'code', 'method', 'currently', 'look', 'img_src', 'imgur', 'com', 'png_alt', 'enter_image', 'description', 've', 'find', 'android', 'file', 're', 'suppose', 'able', 'set', 'use', 'attribute', 'try', 'set', 'theme', 'get', 'code', 'error', 'error', 'resource', 'find', 'match', 'give', 'name', 'm', 'put', 'question', 've', 'run', 'idea', 'maybe', 'already', 'manage', 'strong', 'edit', 'strong', 'header', 'theme', 'm', 'use', 'code', 'resource', 'android', 'http_schema', 'android', 'com', 'android', 'style', 'name', 'theme', 'mythemename', 'code', 'strong', 'edit', 'strong', 've', 'find', 'question', 'duplicate', 'com', 'question', 'get', 'resource', 'find', 'error', 'style', 'android', 'get', 'resource', 'find', 'error', 'style', 'xml', 'strong', 'yet', 'edit', 'strong', 'know', 'problem', 'take', 'look', 'android', 'issue', 'detail', 'noreferr', 'android', 'issue', 'detail', 'i', 'd']]\n"
     ]
    }
   ],
   "source": [
    "# Remove Stop Words\n",
    "data_words_nostops = remove_stopwords(data_words)\n",
    "\n",
    "# Form Bigrams\n",
    "data_words_bigrams = make_bigrams(data_words_nostops)\n",
    "\n",
    "# Initialize spacy 'en' model, keeping only tagger component (for efficiency)\n",
    "#python3 -m spacy download en\n",
    "#nlp = spacy.load('en', disable=['parser', 'ner'])\n",
    "#nlp = spacy.load(\"en_core_web_sm\")\n",
    "#nlp = load_spacy(\"en_core_web_sm\", exclude=[\"parser\", \"tagger\"])  # Will download the model if it isn't installed yet\n",
    "\n",
    "nlp = load_spacy(\"en_core_web_sm\", disable=['parser', 'ner'])\n",
    "\n",
    "# Do lemmatization keeping only noun, adj, vb, adv\n",
    "data_lemmatized = lemmatization(data_words_bigrams, allowed_postags=['NOUN', 'ADJ', 'VERB', 'ADV'])\n",
    "\n",
    "print(data_lemmatized[:1])"
   ]
  },
  {
   "cell_type": "code",
   "execution_count": null,
   "id": "d50facbb",
   "metadata": {},
   "outputs": [],
   "source": []
  },
  {
   "cell_type": "markdown",
   "id": "a8bcdfb6",
   "metadata": {},
   "source": [
    "# Create the Dictionary and Corpus needed for Topic Modeling\n",
    "\n",
    "The two main inputs to the LDA topic model are the dictionary(id2word) and the corpus. Let’s create them."
   ]
  },
  {
   "cell_type": "code",
   "execution_count": 20,
   "id": "32176fe7",
   "metadata": {},
   "outputs": [
    {
     "name": "stdout",
     "output_type": "stream",
     "text": [
      "[[(0, 1), (1, 1), (2, 7), (3, 1), (4, 1), (5, 1), (6, 5), (7, 1), (8, 3), (9, 1), (10, 1), (11, 1), (12, 1), (13, 2), (14, 1), (15, 1), (16, 1), (17, 3), (18, 1), (19, 5), (20, 1), (21, 5), (22, 3), (23, 1), (24, 1), (25, 1), (26, 1), (27, 1), (28, 1), (29, 1), (30, 2), (31, 1), (32, 2), (33, 2), (34, 1), (35, 1), (36, 1), (37, 1), (38, 1), (39, 1), (40, 2), (41, 1), (42, 1), (43, 1), (44, 1), (45, 1), (46, 3), (47, 1), (48, 4), (49, 1), (50, 3), (51, 1), (52, 6), (53, 3), (54, 1), (55, 1), (56, 3), (57, 1), (58, 3), (59, 3), (60, 1), (61, 1), (62, 1)]]\n"
     ]
    }
   ],
   "source": [
    "# Create Dictionary\n",
    "id2word = corpora.Dictionary(data_lemmatized)\n",
    "\n",
    "# Create Corpus\n",
    "texts = data_lemmatized\n",
    "\n",
    "# Term Document Frequency\n",
    "corpus = [id2word.doc2bow(text) for text in texts]\n",
    "\n",
    "# View\n",
    "print(corpus[:1])"
   ]
  },
  {
   "cell_type": "code",
   "execution_count": 21,
   "id": "1134b71a",
   "metadata": {},
   "outputs": [
    {
     "data": {
      "text/plain": [
       "'able'"
      ]
     },
     "execution_count": 21,
     "metadata": {},
     "output_type": "execute_result"
    }
   ],
   "source": [
    "id2word[0]"
   ]
  },
  {
   "cell_type": "code",
   "execution_count": 22,
   "id": "50db4454",
   "metadata": {},
   "outputs": [
    {
     "data": {
      "text/plain": [
       "[[('able', 1),\n",
       "  ('already', 1),\n",
       "  ('android', 7),\n",
       "  ('attribute', 1),\n",
       "  ('background', 1),\n",
       "  ('change', 1),\n",
       "  ('code', 5),\n",
       "  ('color', 1),\n",
       "  ('com', 3),\n",
       "  ('currently', 1),\n",
       "  ('custom', 1),\n",
       "  ('d', 1),\n",
       "  ('description', 1),\n",
       "  ('detail', 2),\n",
       "  ('display', 1),\n",
       "  ('drawable', 1),\n",
       "  ('duplicate', 1),\n",
       "  ('edit', 3),\n",
       "  ('enter_image', 1),\n",
       "  ('error', 5),\n",
       "  ('file', 1),\n",
       "  ('find', 5),\n",
       "  ('get', 3),\n",
       "  ('give', 1),\n",
       "  ('header', 1),\n",
       "  ('http_schema', 1),\n",
       "  ('i', 1),\n",
       "  ('idea', 1),\n",
       "  ('img_src', 1),\n",
       "  ('imgur', 1),\n",
       "  ('issue', 2),\n",
       "  ('know', 1),\n",
       "  ('look', 2),\n",
       "  ('m', 2),\n",
       "  ('manage', 1),\n",
       "  ('match', 1),\n",
       "  ('maybe', 1),\n",
       "  ('message', 1),\n",
       "  ('method', 1),\n",
       "  ('mythemename', 1),\n",
       "  ('name', 2),\n",
       "  ('noreferr', 1),\n",
       "  ('png_alt', 1),\n",
       "  ('popup', 1),\n",
       "  ('problem', 1),\n",
       "  ('put', 1),\n",
       "  ('question', 3),\n",
       "  ('re', 1),\n",
       "  ('resource', 4),\n",
       "  ('run', 1),\n",
       "  ('set', 3),\n",
       "  ('seterror', 1),\n",
       "  ('strong', 6),\n",
       "  ('style', 3),\n",
       "  ('suppose', 1),\n",
       "  ('take', 1),\n",
       "  ('theme', 3),\n",
       "  ('try', 1),\n",
       "  ('use', 3),\n",
       "  ('ve', 3),\n",
       "  ('want', 1),\n",
       "  ('xml', 1),\n",
       "  ('yet', 1)]]"
      ]
     },
     "execution_count": 22,
     "metadata": {},
     "output_type": "execute_result"
    }
   ],
   "source": [
    "# Human readable format of corpus (term-frequency)\n",
    "[[(id2word[id], freq) for id, freq in cp] for cp in corpus[:1]]"
   ]
  },
  {
   "cell_type": "markdown",
   "id": "ee8eae57",
   "metadata": {},
   "source": [
    "# Building the Topic Model"
   ]
  },
  {
   "cell_type": "markdown",
   "id": "1d094218",
   "metadata": {},
   "source": [
    "We have everything required to train the LDA model. In addition to the corpus and dictionary, you need to provide the number of topics as well.\n",
    "\n",
    "Apart from that, alpha and eta are hyperparameters that affect sparsity of the topics. According to the Gensim docs, both defaults to 1.0/num_topics prior.\n",
    "\n",
    "chunksize is the number of documents to be used in each training chunk. update_every determines how often the model parameters should be updated and passes is the total number of training passes."
   ]
  },
  {
   "cell_type": "code",
   "execution_count": 23,
   "id": "b31b3bc2",
   "metadata": {},
   "outputs": [],
   "source": [
    "# Build LDA model\n",
    "lda_model = gensim.models.ldamodel.LdaModel(corpus=corpus,\n",
    "                                           id2word=id2word,\n",
    "                                           num_topics=20, \n",
    "                                           random_state=100,\n",
    "                                           update_every=1,\n",
    "                                           chunksize=100,\n",
    "                                           passes=10,\n",
    "                                           alpha='auto',\n",
    "                                           per_word_topics=True)"
   ]
  },
  {
   "cell_type": "markdown",
   "id": "500d540a",
   "metadata": {},
   "source": [
    "# View the topics in LDA model"
   ]
  },
  {
   "cell_type": "markdown",
   "id": "54e83d2e",
   "metadata": {},
   "source": [
    "The above LDA model is built with 20 different topics where each topic is a combination of keywords and each keyword contributes a certain weightage to the topic.\n",
    "\n",
    "\n",
    "You can see the keywords for each topic and the weightage(importance) of each keyword using lda_model.print_topics() as shown next.\n",
    "\n",
    "The weights reflect how important a keyword is to that topic."
   ]
  },
  {
   "cell_type": "code",
   "execution_count": 24,
   "id": "4dd6da71",
   "metadata": {},
   "outputs": [
    {
     "name": "stdout",
     "output_type": "stream",
     "text": [
      "[(0,\n",
      "  '0.149*\"self\" + 0.116*\"view\" + 0.068*\"imgur\" + 0.057*\"png_alt\" + '\n",
      "  '0.048*\"description\" + 0.041*\"button\" + 0.040*\"https_stack\" + '\n",
      "  '0.035*\"enter_image\" + 0.035*\"position\" + 0.025*\"img_src\"'),\n",
      " (1,\n",
      "  '0.161*\"image\" + 0.116*\"text\" + 0.075*\"form\" + 0.049*\"input\" + '\n",
      "  '0.046*\"number\" + 0.039*\"python\" + 0.025*\"gem\" + 0.025*\"rail\" + 0.020*\"word\" '\n",
      "  '+ 0.018*\"scale\"'),\n",
      " (2,\n",
      "  '0.069*\"join\" + 0.045*\"relationship\" + 0.043*\"somehow\" + 0.027*\"primary_key\" '\n",
      "  '+ 0.025*\"textview\" + 0.025*\"car\" + 0.018*\"readable\" + 0.017*\"inflate\" + '\n",
      "  '0.015*\"void_onclick\" + 0.013*\"extends_activity\"'),\n",
      " (3,\n",
      "  '0.073*\"standard\" + 0.057*\"language\" + 0.056*\"feature\" + 0.046*\"template\" + '\n",
      "  '0.032*\"hard\" + 0.029*\"notification\" + 0.025*\"useful\" + 0.021*\"db\" + '\n",
      "  '0.019*\"face\" + 0.019*\"feel\"'),\n",
      " (4,\n",
      "  '0.331*\"code\" + 0.034*\"pre\" + 0.023*\"type\" + 0.023*\"get\" + 0.021*\"list\" + '\n",
      "  '0.021*\"follow\" + 0.018*\"call\" + 0.018*\"value\" + 0.017*\"result\" + '\n",
      "  '0.016*\"try\"'),\n",
      " (5,\n",
      "  '0.077*\"class\" + 0.061*\"return\" + 0.054*\"public\" + 0.047*\"new\" + 0.043*\"int\" '\n",
      "  '+ 0.040*\"string\" + 0.030*\"key\" + 0.024*\"void\" + 0.023*\"name\" + '\n",
      "  '0.020*\"value\"'),\n",
      " (6,\n",
      "  '0.043*\"use\" + 0.031*\"m\" + 0.021*\"way\" + 0.020*\"need\" + 0.018*\"work\" + '\n",
      "  '0.018*\"want\" + 0.017*\"make\" + 0.016*\"know\" + 0.016*\"datum\" + '\n",
      "  '0.015*\"problem\"'),\n",
      " (7,\n",
      "  '0.280*\"page\" + 0.104*\"net\" + 0.044*\"title\" + 0.042*\"root\" + 0.040*\"core\" + '\n",
      "  '0.039*\"stream\" + 0.017*\"refresh\" + 0.015*\"js\" + 0.014*\"world\" + '\n",
      "  '0.013*\"soon\"'),\n",
      " (8,\n",
      "  '0.103*\"org\" + 0.061*\"fast\" + 0.057*\"native\" + 0.056*\"java\" + 0.055*\"slow\" + '\n",
      "  '0.034*\"sign\" + 0.030*\"performance\" + 0.028*\"os\" + 0.026*\"internal\" + '\n",
      "  '0.019*\"mobile\"'),\n",
      " (9,\n",
      "  '0.097*\"user\" + 0.073*\"web\" + 0.049*\"request\" + 0.039*\"model\" + '\n",
      "  '0.038*\"service\" + 0.032*\"api\" + 0.029*\"response\" + 0.028*\"application\" + '\n",
      "  '0.028*\"app\" + 0.025*\"log\"'),\n",
      " (10,\n",
      "  '0.070*\"path\" + 0.066*\"app\" + 0.062*\"device\" + 0.059*\"library\" + 0.052*\"io\" '\n",
      "  '+ 0.047*\"link\" + 0.046*\"https\" + 0.039*\"download\" + 0.035*\"develop\" + '\n",
      "  '0.030*\"iphone\"'),\n",
      " (11,\n",
      "  '0.092*\"table\" + 0.086*\"database\" + 0.084*\"select\" + 0.075*\"size\" + '\n",
      "  '0.063*\"query\" + 0.050*\"row\" + 0.047*\"lock\" + 0.034*\"character\" + '\n",
      "  '0.029*\"auto\" + 0.028*\"mysql\"'),\n",
      " (12,\n",
      "  '0.056*\"thread\" + 0.034*\"application\" + 0.033*\"event\" + 0.031*\"dependency\" + '\n",
      "  '0.024*\"exception\" + 0.023*\"group\" + 0.021*\"activity\" + 0.021*\"task\" + '\n",
      "  '0.021*\"fragment\" + 0.019*\"transaction\"'),\n",
      " (13,\n",
      "  '0.057*\"function\" + 0.048*\"message\" + 0.046*\"server\" + 0.042*\"error\" + '\n",
      "  '0.034*\"send\" + 0.033*\"module\" + 0.031*\"define\" + 0.028*\"step\" + '\n",
      "  '0.024*\"connect\" + 0.021*\"connection\"'),\n",
      " (14,\n",
      "  '0.120*\"error\" + 0.079*\"run\" + 0.073*\"build\" + 0.065*\"system\" + '\n",
      "  '0.044*\"compile\" + 0.040*\"fail\" + 0.039*\"product\" + 0.034*\"command\" + '\n",
      "  '0.033*\"developer\" + 0.030*\"debug\"'),\n",
      " (15,\n",
      "  '0.091*\"package\" + 0.086*\"date\" + 0.080*\"column\" + 0.079*\"config\" + '\n",
      "  '0.047*\"email\" + 0.033*\"bundle\" + 0.032*\"decide\" + 0.028*\"json\" + '\n",
      "  '0.027*\"cell\" + 0.020*\"import\"'),\n",
      " (16,\n",
      "  '0.050*\"delete\" + 0.049*\"scroll\" + 0.044*\"block\" + 0.041*\"begin\" + '\n",
      "  '0.033*\"promise\" + 0.033*\"const\" + 0.031*\"layer\" + 0.029*\"unit\" + '\n",
      "  '0.029*\"instruction\" + 0.026*\"bar\"'),\n",
      " (17,\n",
      "  '0.325*\"file\" + 0.078*\"version\" + 0.073*\"window\" + 0.063*\"include\" + '\n",
      "  '0.056*\"load\" + 0.030*\"open\" + 0.024*\"local\" + 0.019*\"platform\" + '\n",
      "  '0.017*\"late\" + 0.017*\"browser\"'),\n",
      " (18,\n",
      "  '0.115*\"strong\" + 0.075*\"com\" + 0.036*\"android\" + 0.028*\"question\" + '\n",
      "  '0.024*\"blockquote\" + 0.018*\"set\" + 0.017*\"import\" + 0.017*\"rel_noreferrer\" '\n",
      "  '+ 0.017*\"add\" + 0.015*\"try\"'),\n",
      " (19,\n",
      "  '0.129*\"target\" + 0.078*\"quite\" + 0.041*\"topic\" + 0.037*\"math\" + 0.035*\"pop\" '\n",
      "  '+ 0.025*\"around\" + 0.022*\"val\" + 0.020*\"highlight\" + 0.020*\"arrow\" + '\n",
      "  '0.017*\"desire\"')]\n"
     ]
    }
   ],
   "source": [
    "# Print the Keyword in the 20 topics\n",
    "pprint(lda_model.print_topics())\n",
    "doc_lda = lda_model[corpus]"
   ]
  },
  {
   "cell_type": "markdown",
   "id": "84125b18",
   "metadata": {},
   "source": [
    "# Compute Model Perplexity and Coherence Score"
   ]
  },
  {
   "cell_type": "markdown",
   "id": "c438d280",
   "metadata": {},
   "source": [
    "Model perplexity and topic coherence provide a convenient measure to judge how good a given topic model is. In my experience, topic coherence score, in particular, has been more helpful."
   ]
  },
  {
   "cell_type": "code",
   "execution_count": 25,
   "id": "4c87a920",
   "metadata": {},
   "outputs": [
    {
     "name": "stdout",
     "output_type": "stream",
     "text": [
      "\n",
      "Perplexity:  -12.058472507247535\n",
      "\n",
      "Coherence Score:  0.40761038333213595\n"
     ]
    }
   ],
   "source": [
    "# Compute Perplexity\n",
    "print('\\nPerplexity: ', lda_model.log_perplexity(corpus))  # a measure of how good the model is. lower the better.\n",
    "\n",
    "# Compute Coherence Score\n",
    "coherence_model_lda = CoherenceModel(model=lda_model, texts=data_lemmatized, dictionary=id2word, coherence='c_v')\n",
    "coherence_lda = coherence_model_lda.get_coherence()\n",
    "print('\\nCoherence Score: ', coherence_lda)"
   ]
  },
  {
   "cell_type": "markdown",
   "id": "2e10d812",
   "metadata": {},
   "source": [
    "There you have a coherence score of 0.40."
   ]
  },
  {
   "cell_type": "markdown",
   "id": "134d3c35",
   "metadata": {},
   "source": [
    " # Visualize the topics-keywords"
   ]
  },
  {
   "cell_type": "markdown",
   "id": "72f0d9ff",
   "metadata": {},
   "source": [
    "Now that the LDA model is built, the next step is to examine the produced topics and the associated keywords. There is no better tool than pyLDAvis package’s interactive chart and is designed to work well with jupyter notebooks."
   ]
  },
  {
   "cell_type": "markdown",
   "id": "6f638f7a",
   "metadata": {},
   "source": [
    "Each bubble on the left-hand side plot represents a topic. The larger the bubble, the more prevalent is that topic.\n",
    "\n",
    "A good topic model will have fairly big, non-overlapping bubbles scattered throughout the chart instead of being clustered in one quadrant.\n",
    "\n",
    "A model with too many topics, will typically have many overlaps, small sized bubbles clustered in one region of the chart."
   ]
  },
  {
   "cell_type": "code",
   "execution_count": 26,
   "id": "077afb86",
   "metadata": {},
   "outputs": [
    {
     "name": "stderr",
     "output_type": "stream",
     "text": [
      "/home/ping/anaconda3/lib/python3.9/site-packages/pyLDAvis/_prepare.py:246: FutureWarning: In a future version of pandas all arguments of DataFrame.drop except for the argument 'labels' will be keyword-only.\n",
      "  default_term_info = default_term_info.sort_values(\n",
      "/home/ping/anaconda3/lib/python3.9/site-packages/past/builtins/misc.py:45: DeprecationWarning: the imp module is deprecated in favour of importlib; see the module's documentation for alternative uses\n",
      "  from imp import reload\n",
      "/home/ping/anaconda3/lib/python3.9/site-packages/past/builtins/misc.py:45: DeprecationWarning: the imp module is deprecated in favour of importlib; see the module's documentation for alternative uses\n",
      "  from imp import reload\n",
      "/home/ping/anaconda3/lib/python3.9/site-packages/past/builtins/misc.py:45: DeprecationWarning: the imp module is deprecated in favour of importlib; see the module's documentation for alternative uses\n",
      "  from imp import reload\n",
      "/home/ping/anaconda3/lib/python3.9/site-packages/past/builtins/misc.py:45: DeprecationWarning: the imp module is deprecated in favour of importlib; see the module's documentation for alternative uses\n",
      "  from imp import reload\n",
      "/home/ping/anaconda3/lib/python3.9/site-packages/past/builtins/misc.py:45: DeprecationWarning: the imp module is deprecated in favour of importlib; see the module's documentation for alternative uses\n",
      "  from imp import reload\n",
      "/home/ping/anaconda3/lib/python3.9/site-packages/past/builtins/misc.py:45: DeprecationWarning: the imp module is deprecated in favour of importlib; see the module's documentation for alternative uses\n",
      "  from imp import reload\n",
      "/home/ping/anaconda3/lib/python3.9/site-packages/past/builtins/misc.py:45: DeprecationWarning: the imp module is deprecated in favour of importlib; see the module's documentation for alternative uses\n",
      "  from imp import reload\n",
      "/home/ping/anaconda3/lib/python3.9/site-packages/past/builtins/misc.py:45: DeprecationWarning: the imp module is deprecated in favour of importlib; see the module's documentation for alternative uses\n",
      "  from imp import reload\n",
      "/home/ping/anaconda3/lib/python3.9/site-packages/sklearn/utils/multiclass.py:14: DeprecationWarning: Please use `spmatrix` from the `scipy.sparse` namespace, the `scipy.sparse.base` namespace is deprecated.\n",
      "  from scipy.sparse.base import spmatrix\n",
      "/home/ping/anaconda3/lib/python3.9/site-packages/sklearn/utils/multiclass.py:14: DeprecationWarning: Please use `spmatrix` from the `scipy.sparse` namespace, the `scipy.sparse.base` namespace is deprecated.\n",
      "  from scipy.sparse.base import spmatrix\n",
      "/home/ping/anaconda3/lib/python3.9/site-packages/sklearn/utils/optimize.py:18: DeprecationWarning: Please use `line_search_wolfe2` from the `scipy.optimize` namespace, the `scipy.optimize.linesearch` namespace is deprecated.\n",
      "  from scipy.optimize.linesearch import line_search_wolfe2, line_search_wolfe1\n",
      "/home/ping/anaconda3/lib/python3.9/site-packages/sklearn/utils/optimize.py:18: DeprecationWarning: Please use `line_search_wolfe1` from the `scipy.optimize` namespace, the `scipy.optimize.linesearch` namespace is deprecated.\n",
      "  from scipy.optimize.linesearch import line_search_wolfe2, line_search_wolfe1\n",
      "/home/ping/anaconda3/lib/python3.9/site-packages/sklearn/utils/optimize.py:18: DeprecationWarning: Please use `line_search_wolfe2` from the `scipy.optimize` namespace, the `scipy.optimize.linesearch` namespace is deprecated.\n",
      "  from scipy.optimize.linesearch import line_search_wolfe2, line_search_wolfe1\n",
      "/home/ping/anaconda3/lib/python3.9/site-packages/sklearn/utils/optimize.py:18: DeprecationWarning: Please use `line_search_wolfe1` from the `scipy.optimize` namespace, the `scipy.optimize.linesearch` namespace is deprecated.\n",
      "  from scipy.optimize.linesearch import line_search_wolfe2, line_search_wolfe1\n",
      "/home/ping/anaconda3/lib/python3.9/site-packages/sklearn/utils/multiclass.py:14: DeprecationWarning: Please use `spmatrix` from the `scipy.sparse` namespace, the `scipy.sparse.base` namespace is deprecated.\n",
      "  from scipy.sparse.base import spmatrix\n",
      "/home/ping/anaconda3/lib/python3.9/site-packages/sklearn/utils/multiclass.py:14: DeprecationWarning: Please use `spmatrix` from the `scipy.sparse` namespace, the `scipy.sparse.base` namespace is deprecated.\n",
      "  from scipy.sparse.base import spmatrix\n",
      "/home/ping/anaconda3/lib/python3.9/site-packages/joblib/backports.py:36: DeprecationWarning: distutils Version classes are deprecated. Use packaging.version instead.\n",
      "  if LooseVersion(np.__version__) < '1.13':\n",
      "/home/ping/anaconda3/lib/python3.9/site-packages/joblib/backports.py:36: DeprecationWarning: distutils Version classes are deprecated. Use packaging.version instead.\n",
      "  if LooseVersion(np.__version__) < '1.13':\n",
      "/home/ping/anaconda3/lib/python3.9/site-packages/setuptools/_distutils/version.py:346: DeprecationWarning: distutils Version classes are deprecated. Use packaging.version instead.\n",
      "  other = LooseVersion(other)\n",
      "/home/ping/anaconda3/lib/python3.9/site-packages/setuptools/_distutils/version.py:346: DeprecationWarning: distutils Version classes are deprecated. Use packaging.version instead.\n",
      "  other = LooseVersion(other)\n",
      "/home/ping/anaconda3/lib/python3.9/site-packages/joblib/backports.py:36: DeprecationWarning: distutils Version classes are deprecated. Use packaging.version instead.\n",
      "  if LooseVersion(np.__version__) < '1.13':\n",
      "/home/ping/anaconda3/lib/python3.9/site-packages/joblib/backports.py:36: DeprecationWarning: distutils Version classes are deprecated. Use packaging.version instead.\n",
      "  if LooseVersion(np.__version__) < '1.13':\n",
      "/home/ping/anaconda3/lib/python3.9/site-packages/setuptools/_distutils/version.py:346: DeprecationWarning: distutils Version classes are deprecated. Use packaging.version instead.\n",
      "  other = LooseVersion(other)\n",
      "/home/ping/anaconda3/lib/python3.9/site-packages/setuptools/_distutils/version.py:346: DeprecationWarning: distutils Version classes are deprecated. Use packaging.version instead.\n",
      "  other = LooseVersion(other)\n",
      "/home/ping/anaconda3/lib/python3.9/site-packages/sklearn/utils/optimize.py:18: DeprecationWarning: Please use `line_search_wolfe2` from the `scipy.optimize` namespace, the `scipy.optimize.linesearch` namespace is deprecated.\n",
      "  from scipy.optimize.linesearch import line_search_wolfe2, line_search_wolfe1\n",
      "/home/ping/anaconda3/lib/python3.9/site-packages/sklearn/utils/optimize.py:18: DeprecationWarning: Please use `line_search_wolfe1` from the `scipy.optimize` namespace, the `scipy.optimize.linesearch` namespace is deprecated.\n",
      "  from scipy.optimize.linesearch import line_search_wolfe2, line_search_wolfe1\n",
      "/home/ping/anaconda3/lib/python3.9/site-packages/sklearn/utils/optimize.py:18: DeprecationWarning: Please use `line_search_wolfe2` from the `scipy.optimize` namespace, the `scipy.optimize.linesearch` namespace is deprecated.\n",
      "  from scipy.optimize.linesearch import line_search_wolfe2, line_search_wolfe1\n",
      "/home/ping/anaconda3/lib/python3.9/site-packages/sklearn/utils/optimize.py:18: DeprecationWarning: Please use `line_search_wolfe1` from the `scipy.optimize` namespace, the `scipy.optimize.linesearch` namespace is deprecated.\n",
      "  from scipy.optimize.linesearch import line_search_wolfe2, line_search_wolfe1\n",
      "/home/ping/anaconda3/lib/python3.9/site-packages/sklearn/utils/multiclass.py:14: DeprecationWarning: Please use `spmatrix` from the `scipy.sparse` namespace, the `scipy.sparse.base` namespace is deprecated.\n",
      "  from scipy.sparse.base import spmatrix\n",
      "/home/ping/anaconda3/lib/python3.9/site-packages/sklearn/utils/multiclass.py:14: DeprecationWarning: Please use `spmatrix` from the `scipy.sparse` namespace, the `scipy.sparse.base` namespace is deprecated.\n",
      "  from scipy.sparse.base import spmatrix\n",
      "/home/ping/anaconda3/lib/python3.9/site-packages/joblib/backports.py:36: DeprecationWarning: distutils Version classes are deprecated. Use packaging.version instead.\n",
      "  if LooseVersion(np.__version__) < '1.13':\n",
      "/home/ping/anaconda3/lib/python3.9/site-packages/setuptools/_distutils/version.py:346: DeprecationWarning: distutils Version classes are deprecated. Use packaging.version instead.\n",
      "  other = LooseVersion(other)\n",
      "/home/ping/anaconda3/lib/python3.9/site-packages/joblib/backports.py:36: DeprecationWarning: distutils Version classes are deprecated. Use packaging.version instead.\n",
      "  if LooseVersion(np.__version__) < '1.13':\n",
      "/home/ping/anaconda3/lib/python3.9/site-packages/setuptools/_distutils/version.py:346: DeprecationWarning: distutils Version classes are deprecated. Use packaging.version instead.\n",
      "  other = LooseVersion(other)\n",
      "/home/ping/anaconda3/lib/python3.9/site-packages/sklearn/utils/optimize.py:18: DeprecationWarning: Please use `line_search_wolfe2` from the `scipy.optimize` namespace, the `scipy.optimize.linesearch` namespace is deprecated.\n",
      "  from scipy.optimize.linesearch import line_search_wolfe2, line_search_wolfe1\n",
      "/home/ping/anaconda3/lib/python3.9/site-packages/sklearn/utils/optimize.py:18: DeprecationWarning: Please use `line_search_wolfe1` from the `scipy.optimize` namespace, the `scipy.optimize.linesearch` namespace is deprecated.\n",
      "  from scipy.optimize.linesearch import line_search_wolfe2, line_search_wolfe1\n",
      "/home/ping/anaconda3/lib/python3.9/site-packages/joblib/backports.py:36: DeprecationWarning: distutils Version classes are deprecated. Use packaging.version instead.\n",
      "  if LooseVersion(np.__version__) < '1.13':\n",
      "/home/ping/anaconda3/lib/python3.9/site-packages/setuptools/_distutils/version.py:346: DeprecationWarning: distutils Version classes are deprecated. Use packaging.version instead.\n",
      "  other = LooseVersion(other)\n",
      "/home/ping/anaconda3/lib/python3.9/site-packages/joblib/backports.py:36: DeprecationWarning: distutils Version classes are deprecated. Use packaging.version instead.\n",
      "  if LooseVersion(np.__version__) < '1.13':\n",
      "/home/ping/anaconda3/lib/python3.9/site-packages/setuptools/_distutils/version.py:346: DeprecationWarning: distutils Version classes are deprecated. Use packaging.version instead.\n",
      "  other = LooseVersion(other)\n",
      "/home/ping/anaconda3/lib/python3.9/site-packages/sklearn/utils/optimize.py:18: DeprecationWarning: Please use `line_search_wolfe2` from the `scipy.optimize` namespace, the `scipy.optimize.linesearch` namespace is deprecated.\n",
      "  from scipy.optimize.linesearch import line_search_wolfe2, line_search_wolfe1\n",
      "/home/ping/anaconda3/lib/python3.9/site-packages/sklearn/utils/optimize.py:18: DeprecationWarning: Please use `line_search_wolfe1` from the `scipy.optimize` namespace, the `scipy.optimize.linesearch` namespace is deprecated.\n",
      "  from scipy.optimize.linesearch import line_search_wolfe2, line_search_wolfe1\n",
      "/home/ping/anaconda3/lib/python3.9/site-packages/joblib/backports.py:36: DeprecationWarning: distutils Version classes are deprecated. Use packaging.version instead.\n",
      "  if LooseVersion(np.__version__) < '1.13':\n",
      "/home/ping/anaconda3/lib/python3.9/site-packages/setuptools/_distutils/version.py:346: DeprecationWarning: distutils Version classes are deprecated. Use packaging.version instead.\n",
      "  other = LooseVersion(other)\n",
      "/home/ping/anaconda3/lib/python3.9/site-packages/joblib/backports.py:36: DeprecationWarning: distutils Version classes are deprecated. Use packaging.version instead.\n",
      "  if LooseVersion(np.__version__) < '1.13':\n",
      "/home/ping/anaconda3/lib/python3.9/site-packages/setuptools/_distutils/version.py:346: DeprecationWarning: distutils Version classes are deprecated. Use packaging.version instead.\n",
      "  other = LooseVersion(other)\n"
     ]
    },
    {
     "name": "stderr",
     "output_type": "stream",
     "text": [
      "/home/ping/anaconda3/lib/python3.9/site-packages/joblib/backports.py:36: DeprecationWarning: distutils Version classes are deprecated. Use packaging.version instead.\n",
      "  if LooseVersion(np.__version__) < '1.13':\n",
      "/home/ping/anaconda3/lib/python3.9/site-packages/setuptools/_distutils/version.py:346: DeprecationWarning: distutils Version classes are deprecated. Use packaging.version instead.\n",
      "  other = LooseVersion(other)\n",
      "/home/ping/anaconda3/lib/python3.9/site-packages/joblib/backports.py:36: DeprecationWarning: distutils Version classes are deprecated. Use packaging.version instead.\n",
      "  if LooseVersion(np.__version__) < '1.13':\n",
      "/home/ping/anaconda3/lib/python3.9/site-packages/setuptools/_distutils/version.py:346: DeprecationWarning: distutils Version classes are deprecated. Use packaging.version instead.\n",
      "  other = LooseVersion(other)\n",
      "/home/ping/anaconda3/lib/python3.9/site-packages/sklearn/utils/multiclass.py:14: DeprecationWarning: Please use `spmatrix` from the `scipy.sparse` namespace, the `scipy.sparse.base` namespace is deprecated.\n",
      "  from scipy.sparse.base import spmatrix\n",
      "/home/ping/anaconda3/lib/python3.9/site-packages/sklearn/utils/optimize.py:18: DeprecationWarning: Please use `line_search_wolfe2` from the `scipy.optimize` namespace, the `scipy.optimize.linesearch` namespace is deprecated.\n",
      "  from scipy.optimize.linesearch import line_search_wolfe2, line_search_wolfe1\n",
      "/home/ping/anaconda3/lib/python3.9/site-packages/sklearn/utils/optimize.py:18: DeprecationWarning: Please use `line_search_wolfe1` from the `scipy.optimize` namespace, the `scipy.optimize.linesearch` namespace is deprecated.\n",
      "  from scipy.optimize.linesearch import line_search_wolfe2, line_search_wolfe1\n",
      "/home/ping/anaconda3/lib/python3.9/site-packages/sklearn/utils/multiclass.py:14: DeprecationWarning: Please use `spmatrix` from the `scipy.sparse` namespace, the `scipy.sparse.base` namespace is deprecated.\n",
      "  from scipy.sparse.base import spmatrix\n",
      "/home/ping/anaconda3/lib/python3.9/site-packages/joblib/backports.py:36: DeprecationWarning: distutils Version classes are deprecated. Use packaging.version instead.\n",
      "  if LooseVersion(np.__version__) < '1.13':\n",
      "/home/ping/anaconda3/lib/python3.9/site-packages/setuptools/_distutils/version.py:346: DeprecationWarning: distutils Version classes are deprecated. Use packaging.version instead.\n",
      "  other = LooseVersion(other)\n",
      "/home/ping/anaconda3/lib/python3.9/site-packages/joblib/backports.py:36: DeprecationWarning: distutils Version classes are deprecated. Use packaging.version instead.\n",
      "  if LooseVersion(np.__version__) < '1.13':\n",
      "/home/ping/anaconda3/lib/python3.9/site-packages/setuptools/_distutils/version.py:346: DeprecationWarning: distutils Version classes are deprecated. Use packaging.version instead.\n",
      "  other = LooseVersion(other)\n",
      "/home/ping/anaconda3/lib/python3.9/site-packages/sklearn/utils/optimize.py:18: DeprecationWarning: Please use `line_search_wolfe2` from the `scipy.optimize` namespace, the `scipy.optimize.linesearch` namespace is deprecated.\n",
      "  from scipy.optimize.linesearch import line_search_wolfe2, line_search_wolfe1\n",
      "/home/ping/anaconda3/lib/python3.9/site-packages/sklearn/utils/optimize.py:18: DeprecationWarning: Please use `line_search_wolfe1` from the `scipy.optimize` namespace, the `scipy.optimize.linesearch` namespace is deprecated.\n",
      "  from scipy.optimize.linesearch import line_search_wolfe2, line_search_wolfe1\n",
      "/home/ping/anaconda3/lib/python3.9/site-packages/joblib/backports.py:36: DeprecationWarning: distutils Version classes are deprecated. Use packaging.version instead.\n",
      "  if LooseVersion(np.__version__) < '1.13':\n",
      "/home/ping/anaconda3/lib/python3.9/site-packages/setuptools/_distutils/version.py:346: DeprecationWarning: distutils Version classes are deprecated. Use packaging.version instead.\n",
      "  other = LooseVersion(other)\n",
      "/home/ping/anaconda3/lib/python3.9/site-packages/joblib/backports.py:36: DeprecationWarning: distutils Version classes are deprecated. Use packaging.version instead.\n",
      "  if LooseVersion(np.__version__) < '1.13':\n",
      "/home/ping/anaconda3/lib/python3.9/site-packages/setuptools/_distutils/version.py:346: DeprecationWarning: distutils Version classes are deprecated. Use packaging.version instead.\n",
      "  other = LooseVersion(other)\n",
      "/home/ping/anaconda3/lib/python3.9/site-packages/joblib/backports.py:36: DeprecationWarning: distutils Version classes are deprecated. Use packaging.version instead.\n",
      "  if LooseVersion(np.__version__) < '1.13':\n",
      "/home/ping/anaconda3/lib/python3.9/site-packages/setuptools/_distutils/version.py:346: DeprecationWarning: distutils Version classes are deprecated. Use packaging.version instead.\n",
      "  other = LooseVersion(other)\n",
      "/home/ping/anaconda3/lib/python3.9/site-packages/joblib/backports.py:36: DeprecationWarning: distutils Version classes are deprecated. Use packaging.version instead.\n",
      "  if LooseVersion(np.__version__) < '1.13':\n",
      "/home/ping/anaconda3/lib/python3.9/site-packages/setuptools/_distutils/version.py:346: DeprecationWarning: distutils Version classes are deprecated. Use packaging.version instead.\n",
      "  other = LooseVersion(other)\n",
      "/home/ping/anaconda3/lib/python3.9/site-packages/joblib/backports.py:36: DeprecationWarning: distutils Version classes are deprecated. Use packaging.version instead.\n",
      "  if LooseVersion(np.__version__) < '1.13':\n",
      "/home/ping/anaconda3/lib/python3.9/site-packages/setuptools/_distutils/version.py:346: DeprecationWarning: distutils Version classes are deprecated. Use packaging.version instead.\n",
      "  other = LooseVersion(other)\n",
      "/home/ping/anaconda3/lib/python3.9/site-packages/joblib/backports.py:36: DeprecationWarning: distutils Version classes are deprecated. Use packaging.version instead.\n",
      "  if LooseVersion(np.__version__) < '1.13':\n",
      "/home/ping/anaconda3/lib/python3.9/site-packages/setuptools/_distutils/version.py:346: DeprecationWarning: distutils Version classes are deprecated. Use packaging.version instead.\n",
      "  other = LooseVersion(other)\n",
      "/home/ping/anaconda3/lib/python3.9/site-packages/joblib/backports.py:36: DeprecationWarning: distutils Version classes are deprecated. Use packaging.version instead.\n",
      "  if LooseVersion(np.__version__) < '1.13':\n",
      "/home/ping/anaconda3/lib/python3.9/site-packages/setuptools/_distutils/version.py:346: DeprecationWarning: distutils Version classes are deprecated. Use packaging.version instead.\n",
      "  other = LooseVersion(other)\n",
      "/home/ping/anaconda3/lib/python3.9/site-packages/joblib/backports.py:36: DeprecationWarning: distutils Version classes are deprecated. Use packaging.version instead.\n",
      "  if LooseVersion(np.__version__) < '1.13':\n",
      "/home/ping/anaconda3/lib/python3.9/site-packages/setuptools/_distutils/version.py:346: DeprecationWarning: distutils Version classes are deprecated. Use packaging.version instead.\n",
      "  other = LooseVersion(other)\n"
     ]
    },
    {
     "data": {
      "text/html": [
       "\n",
       "<link rel=\"stylesheet\" type=\"text/css\" href=\"https://cdn.jsdelivr.net/gh/bmabey/pyLDAvis@3.3.1/pyLDAvis/js/ldavis.v1.0.0.css\">\n",
       "\n",
       "\n",
       "<div id=\"ldavis_el27261405521600215208069436723\"></div>\n",
       "<script type=\"text/javascript\">\n",
       "\n",
       "var ldavis_el27261405521600215208069436723_data = {\"mdsDat\": {\"x\": [0.31364179538841286, 0.3011394875836667, 0.28759726628576543, 0.2479127419066898, 0.05058170845103757, 0.10174032686467584, 0.01357254613717728, 0.023900141469178026, -0.035225920708563306, -0.07542075064776396, -0.061483481210659906, -0.09098428960614308, -0.07278118312567511, -0.11608745800063307, -0.13526869587555576, -0.1312168020998236, -0.1265495561867574, -0.1415330864897675, -0.17058506635978113, -0.1829497237754794], \"y\": [-0.0032416657177877957, 0.16630174795746866, 0.07700554904746586, 0.0916852535566014, -0.26760139987227427, -0.19556327370627608, -0.09973862213259231, -0.1753724087443309, -0.055737047900656735, 0.05592162416383988, 0.031952396194583337, 0.07025397942616927, -0.01348470482849393, 0.049255556412516825, 0.03241934151086203, 0.058475050309298844, 0.044946525820042396, 0.04391177144524096, 0.04508353961879445, 0.04352678743952817], \"topics\": [1, 2, 3, 4, 5, 6, 7, 8, 9, 10, 11, 12, 13, 14, 15, 16, 17, 18, 19, 20], \"cluster\": [1, 1, 1, 1, 1, 1, 1, 1, 1, 1, 1, 1, 1, 1, 1, 1, 1, 1, 1, 1], \"Freq\": [25.581283745409273, 15.711577158714865, 15.687359473579725, 11.251689101277652, 4.59522972677352, 4.041093595961004, 3.318713536121886, 2.9894252510345662, 2.5449502035712674, 2.242336961891866, 2.2328967684885006, 1.763333422329738, 1.7284051515305365, 1.3697508593849146, 1.2672647746210395, 1.1540099848874938, 0.9793304728517511, 0.9131398803434512, 0.39089534057816544, 0.2373145906487806]}, \"tinfo\": {\"Term\": [\"code\", \"strong\", \"file\", \"com\", \"class\", \"error\", \"return\", \"user\", \"image\", \"run\", \"public\", \"self\", \"page\", \"function\", \"new\", \"int\", \"android\", \"app\", \"web\", \"m\", \"text\", \"view\", \"string\", \"application\", \"system\", \"use\", \"pre\", \"include\", \"build\", \"import\", \"know\", \"time\", \"well\", \"different\", \"go\", \"source\", \"s\", \"think\", \"good\", \"take\", \"say\", \"even\", \"byte\", \"idea\", \"bit\", \"data\", \"lot\", \"much\", \"sample\", \"current\", \"need\", \"come\", \"keep\", \"easy\", \"approach\", \"ask\", \"assume\", \"loop\", \"large\", \"perform\", \"m\", \"way\", \"make\", \"ve\", \"seem\", \"possible\", \"right\", \"point\", \"still\", \"look\", \"problem\", \"see\", \"also\", \"write\", \"solution\", \"use\", \"option\", \"datum\", \"find\", \"want\", \"work\", \"able\", \"read\", \"update\", \"change\", \"create\", \"run\", \"try\", \"get\", \"application\", \"list\", \"line\", \"variable\", \"output\", \"difference\", \"memory\", \"code\", \"javascript\", \"tell\", \"figure\", \"cache\", \"operation\", \"produce\", \"argument\", \"course\", \"exactly\", \"particular\", \"print\", \"sometimes\", \"loading\", \"notice\", \"gt\", \"cluster\", \"dynamic\", \"manually\", \"retrieve\", \"one\", \"behavior\", \"short\", \"finally\", \"replace\", \"expect\", \"pre\", \"parameter\", \"pass\", \"type\", \"result\", \"call\", \"follow\", \"implementation\", \"value\", \"test\", \"method\", \"get\", \"object\", \"element\", \"end\", \"try\", \"example\", \"store\", \"use\", \"do\", \"add\", \"name\", \"thing\", \"want\", \"first\", \"create\", \"strong\", \"com\", \"android\", \"rel_noreferrer\", \"color\", \"custom\", \"configuration\", \"style\", \"documentation\", \"background\", \"display\", \"available\", \"match\", \"format\", \"tag\", \"header\", \"xml\", \"appear\", \"space\", \"break\", \"render\", \"widget\", \"resource\", \"environment\", \"currently\", \"website\", \"detail\", \"blog\", \"original\", \"filter\", \"location\", \"blockquote\", \"content\", \"question\", \"import\", \"edit\", \"project\", \"support\", \"document\", \"click\", \"show\", \"default\", \"http\", \"set\", \"like\", \"add\", \"reference\", \"try\", \"main\", \"app\", \"get\", \"change\", \"really\", \"work\", \"example\", \"class\", \"public\", \"int\", \"string\", \"key\", \"void\", \"private\", \"null\", \"field\", \"static\", \"length\", \"spring\", \"entity\", \"context\", \"hibernate\", \"array\", \"protect\", \"provider\", \"println\", \"constructor\", \"quot\", \"login\", \"accept\", \"hash\", \"repeat\", \"derive\", \"member\", \"generic\", \"proper\", \"talk\", \"return\", \"extend\", \"instance\", \"final\", \"bind\", \"new\", \"amp\", \"false\", \"i\", \"name\", \"d\", \"property\", \"value\", \"else\", \"object\", \"true\", \"function\", \"main\", \"long\", \"get\", \"add\", \"create\", \"set\", \"user\", \"web\", \"request\", \"model\", \"service\", \"api\", \"response\", \"always\", \"password\", \"storage\", \"export\", \"configure\", \"node\", \"security\", \"authentication\", \"expression\", \"username\", \"token\", \"deploy\", \"certain\", \"account\", \"permission\", \"async\", \"route\", \"persist\", \"score\", \"endpoint\", \"usually\", \"light\", \"asp_net\", \"log\", \"action\", \"client\", \"specify\", \"store\", \"state\", \"app\", \"server\", \"application\", \"site\", \"controller\", \"message\", \"module\", \"define\", \"connect\", \"connection\", \"status\", \"port\", \"host\", \"video\", \"receive\", \"suggest\", \"success\", \"buffer\", \"console\", \"console_log\", \"category\", \"localhost\", \"handler\", \"works_fine\", \"master\", \"chrome\", \"timeout\", \"socket\", \"alert\", \"tab\", \"disable\", \"phone\", \"active\", \"press\", \"terminal\", \"step\", \"info\", \"send\", \"server\", \"network\", \"function\", \"error\", \"rest\", \"true\", \"require\", \"test\", \"thread\", \"dependency\", \"group\", \"activity\", \"task\", \"fragment\", \"transaction\", \"jar\", \"avoid\", \"runtime\", \"pattern\", \"design\", \"plugin\", \"apply\", \"sort\", \"important\", \"future\", \"signature\", \"invoke\", \"hardware\", \"br\", \"override\", \"track\", \"coordinate\", \"signal\", \"effect\", \"represent\", \"processing\", \"assembly\", \"spring_boot\", \"event\", \"catch\", \"achieve\", \"exception\", \"application\", \"process\", \"handle\", \"throw\", \"resolve\", \"logic\", \"execute\", \"implement\", \"product\", \"command\", \"debug\", \"install\", \"release\", \"instal\", \"directory\", \"stre\", \"software\", \"launch\", \"continue\", \"bug\", \"boost\", \"unable\", \"goal\", \"remain\", \"constant\", \"developer\", \"screenshot\", \"kill\", \"fail\", \"compile\", \"invocation\", \"build\", \"randomly\", \"development\", \"bluetooth\", \"reliably\", \"error\", \"reproduce\", \"exit\", \"system\", \"run\", \"tool\", \"occur\", \"script\", \"remove\", \"update\", \"fix\", \"amp\", \"follow\", \"file\", \"window\", \"load\", \"version\", \"browser\", \"css\", \"driver\", \"day\", \"bootstrap\", \"webpage\", \"hack\", \"late\", \"foreground\", \"plan\", \"popular\", \"selenium\", \"toolkit\", \"tip\", \"schedule\", \"platform\", \"ready\", \"home\", \"local\", \"include\", \"entry\", \"successfully\", \"open\", \"site\", \"automation\", \"least\", \"script\", \"program\", \"project\", \"specify\", \"image\", \"form\", \"input\", \"python\", \"gem\", \"rail\", \"word\", \"scale\", \"submit\", \"encode\", \"interested\", \"camera\", \"register\", \"completion\", \"range\", \"fairly\", \"rvm\", \"algorithm\", \"hint\", \"boot\", \"obvious\", \"spark\", \"graphic\", \"recognize\", \"continuation\", \"delay\", \"text\", \"definitely\", \"hence\", \"official\", \"calculate\", \"number\", \"small\", \"least\", \"convert\", \"ideally\", \"self\", \"view\", \"imgur\", \"png_alt\", \"button\", \"https_stack\", \"enter_image\", \"position\", \"img_src\", \"height\", \"float\", \"layout\", \"delegate\", \"uiview\", \"tableview\", \"normally\", \"curve\", \"tap\", \"appdelegate\", \"optimal\", \"learning\", \"subclass\", \"def\", \"worth\", \"slide\", \"ef\", \"dict\", \"description\", \"subview\", \"human\", \"dialog\", \"hide\", \"super\", \"controller\", \"init\", \"size\", \"none\", \"present\", \"text\", \"table\", \"select\", \"query\", \"row\", \"lock\", \"character\", \"auto\", \"mysql\", \"address\", \"testing\", \"transform\", \"raw\", \"sql\", \"manual\", \"database\", \"bounty\", \"foreach\", \"inner\", \"game\", \"translate\", \"pin\", \"font_size\", \"adjust\", \"prefix\", \"prepared\", \"prepare\", \"occurrence\", \"atomic\", \"size\", \"examine\", \"helpful\", \"unique\", \"small\", \"statement\", \"i\", \"order\", \"performance\", \"path\", \"device\", \"io\", \"https\", \"download\", \"develop\", \"iphone\", \"nil\", \"apple\", \"recently\", \"play\", \"font\", \"definition\", \"args\", \"append\", \"nsstring\", \"picture\", \"building\", \"alloc\", \"pdf\", \"ch\", \"developer_apple\", \"nsdictionary\", \"nsstre\", \"fatal\", \"xcode\", \"conceptual\", \"direct\", \"archive\", \"library\", \"link\", \"app\", \"search\", \"share\", \"folder\", \"url\", \"delete\", \"scroll\", \"block\", \"begin\", \"promise\", \"const\", \"layer\", \"unit\", \"instruction\", \"duration\", \"area\", \"functionality\", \"syntax\", \"animation\", \"architecture\", \"free\", \"together\", \"namespace\", \"symbol\", \"compute\", \"strange\", \"keyboard\", \"swipe\", \"introduce\", \"toggle\", \"scheme\", \"piece\", \"operate\", \"unsure\", \"alt\", \"situation\", \"bar\", \"move\", \"purpose\", \"element\", \"standard\", \"language\", \"feature\", \"template\", \"hard\", \"notification\", \"useful\", \"db\", \"draw\", \"engine\", \"high\", \"dev\", \"especially\", \"py_line\", \"away\", \"site_package\", \"knowledge\", \"drive\", \"gui\", \"month\", \"accuracy\", \"cocoa\", \"multi\", \"clearly\", \"wpf\", \"proceed\", \"roughly\", \"elegant\", \"possibility\", \"totally\", \"face\", \"low\", \"correspond\", \"feel\", \"choice\", \"framework\", \"compare\", \"fast\", \"native\", \"slow\", \"sign\", \"os\", \"internal\", \"mobile\", \"optimize\", \"entire\", \"restart\", \"improve\", \"comparison\", \"optimization\", \"team\", \"direction\", \"rel_noreferr\", \"quote\", \"smart\", \"jre\", \"collect\", \"interact\", \"mac_os\", \"modification\", \"potentially\", \"feed\", \"modern\", \"past\", \"docs_oracle\", \"powerful\", \"pojo\", \"org\", \"java\", \"compare\", \"performance\", \"package\", \"date\", \"column\", \"config\", \"email\", \"bundle\", \"decide\", \"json\", \"cell\", \"dist\", \"constraint\", \"research\", \"laravel\", \"addition\", \"fire\", \"resttemplate\", \"standalone\", \"accomplish\", \"migration\", \"millisecond\", \"seed\", \"incorrect\", \"predefine\", \"license\", \"alter\", \"composer\", \"datetime\", \"autoload\", \"installation\", \"import\", \"specify\", \"like\", \"miss\", \"separate\", \"page\", \"net\", \"title\", \"root\", \"core\", \"stream\", \"refresh\", \"js\", \"world\", \"soon\", \"ssl\", \"impossible\", \"transfer\", \"binding\", \"activate\", \"len\", \"panel\", \"silent\", \"razor\", \"facelet\", \"ill\", \"learn\", \"thus\", \"footer\", \"fetch\", \"await\", \"puppeteer\", \"cred\", \"webcam\", \"spa\", \"component\", \"site\", \"jar_release\", \"react\", \"target\", \"quite\", \"topic\", \"math\", \"pop\", \"around\", \"val\", \"highlight\", \"arrow\", \"desire\", \"negative\", \"lazy\", \"disappear\", \"mouse\", \"inspect\", \"ide\", \"hover\", \"bear\", \"ball\", \"viewcontroller\", \"tempy\", \"floor\", \"placeok\", \"tempradius\", \"random\", \"ninth_th\", \"tempball\", \"tempvelocityy\", \"tempx\", \"otest\", \"toolbar\", \"nsarray\", \"var\", \"join\", \"relationship\", \"somehow\", \"primary_key\", \"textview\", \"car\", \"readable\", \"inflate\", \"void_onclick\", \"extends_activity\", \"surface\", \"modifying\", \"mplusclient\", \"method_stub\", \"layout_width_wrap_content\", \"layout_height_wrap_content\", \"fetch\", \"gpluslogin\", \"android_textsize\", \"sp\", \"plusclient\", \"guid\", \"boat\", \"plane\", \"generate\", \"isconnecte\", \"onconnecte\", \"onstop\", \"progressdialog\", \"signout\", \"requestcode\", \"os_bundle\", \"pyspark\", \"session\", \"mapping\", \"dismiss\"], \"Freq\": [12249.0, 4244.0, 1941.0, 2746.0, 2044.0, 1248.0, 1655.0, 1052.0, 850.0, 1190.0, 1437.0, 783.0, 601.0, 1355.0, 1588.0, 1133.0, 1342.0, 894.0, 788.0, 1890.0, 635.0, 607.0, 1053.0, 1116.0, 807.0, 3353.0, 1328.0, 595.0, 557.0, 721.0, 980.0760184799138, 882.511865133045, 600.1725047851806, 530.2020516359153, 489.9526295416661, 477.0699744495633, 443.3293556000148, 430.7101410776381, 393.0475671816031, 389.84994082061615, 388.85685631549666, 337.26262079835874, 316.9657236296812, 307.21114904995744, 301.00984699910094, 278.06520005842856, 276.6723807863113, 253.33451725351068, 235.07366851907358, 232.44628454667102, 1220.4890233670994, 222.33967257399473, 213.91288938019002, 205.07695783207603, 203.7152187843366, 201.45974844198872, 187.69646834251506, 184.66445397821278, 183.0966231095991, 180.52802859851965, 1874.3335787778226, 1251.9772351367387, 1009.6676371875209, 907.6661453794829, 666.2971228614357, 409.8005074962269, 395.18762666376136, 511.691498056477, 409.0520084112111, 822.2621088391816, 930.4140161740946, 751.7478776508019, 798.5217410144386, 569.7397337944126, 499.900763142515, 2609.9893415507718, 547.1483551466681, 968.965132002342, 866.313165507326, 1056.3926002521366, 1096.7044625451356, 418.5895249702801, 453.27863617584075, 554.4931912496323, 549.3122213533499, 592.3229437423206, 560.0819247377517, 543.8154137133901, 548.1533849765485, 501.07817491894446, 793.1552615868155, 463.56207907841343, 345.1136684158928, 333.5262581556687, 321.6608470917542, 317.92659871891937, 12205.074576401132, 263.5185253578965, 173.17719867136088, 168.0928594980574, 164.287186567686, 156.05312234302775, 133.47921653878905, 124.38995620767314, 122.3541673185717, 121.39820021621513, 115.15347400471413, 268.66332712873935, 104.03433530838242, 101.41658317936763, 94.86105619296205, 94.4884784162238, 85.54736777174699, 84.97990593346, 83.18858765222689, 82.52309530804028, 81.86562684366355, 103.52938069653707, 74.1005987710166, 68.65845813068896, 256.9447341654141, 194.17711821945176, 1240.7399231524637, 187.149436592415, 190.4259801809786, 859.0236517627659, 640.2787365607156, 656.5380379539101, 785.5703412660033, 193.65573784936612, 653.4888948991439, 542.6338579811325, 344.3264003797312, 857.1791559483177, 401.16354442194887, 170.44990426027388, 235.40164778128707, 584.5786467327516, 330.092484322694, 240.2924344790916, 493.32569046387937, 209.21441879929216, 310.370475020294, 264.9155051690741, 215.65541220365816, 267.0220399363705, 223.78252000044415, 221.9975417869837, 4243.795898639648, 2745.343029762934, 1341.5480092793075, 611.9899565759682, 330.7203223867354, 280.3769081617273, 273.89671014916183, 267.36962677910435, 251.02435841001227, 209.53550041869397, 269.1946560458733, 194.28720874168866, 191.66636357711522, 189.80040183212603, 188.72366836061758, 180.98629772904954, 179.86425718504327, 164.7474606654389, 160.95714063067345, 154.74238613675965, 153.5195755269252, 152.5313461019962, 151.05691912248145, 146.85362023264585, 218.09812539426358, 142.5587465026007, 147.5610521707727, 132.83820930994915, 123.13660295959265, 120.99969943137951, 161.56527785633628, 889.0042942469137, 332.561014416545, 1019.1874850911097, 632.8748529361151, 311.05756758082754, 457.60424569263614, 398.19780437252444, 208.57320976453997, 211.33433358561274, 417.7276744440256, 281.5937315817466, 343.775038095544, 645.6446882034626, 230.2204863979938, 608.6021335252785, 261.244542890244, 536.0612044830622, 325.9630626191916, 318.35500842552153, 391.4367402520702, 284.82075827101175, 232.4624745428618, 281.23920073727857, 258.67435724293153, 2043.417362845873, 1436.565982864454, 1132.1200986354283, 1052.7393598202634, 794.6930691299633, 629.7208489994084, 505.369566226255, 370.6195176060713, 349.8906944780417, 347.5249738943426, 291.2521907423702, 267.27870894168683, 223.28238945075896, 217.70250085103658, 185.7532637374948, 451.1356211785443, 144.0951518729513, 137.81397817072744, 132.42229985503255, 119.11082728634831, 112.78479122170523, 104.58823089139958, 92.29811534030999, 85.664859455348, 69.23042629286546, 67.6311310603369, 65.42984223203801, 64.25071636887587, 58.388659997623776, 56.38743072790249, 1607.0247493343604, 233.71782283481863, 180.9402434524775, 142.13964013136183, 122.51929633499962, 1234.3183812986956, 346.86079929240515, 249.014731792762, 401.1095590094392, 613.4022692580335, 373.40657033841507, 198.73565131361133, 525.3314226032385, 241.5543891614768, 352.748055366958, 313.98303678312055, 442.68653471989813, 294.26185725992747, 242.10051398144776, 361.6555106475571, 308.04447076581175, 301.18953624087595, 287.9963595450108, 1051.7235484619353, 787.1566309999721, 527.3847371535431, 421.59334770939273, 413.8683400977876, 348.5215199493094, 309.56799338614, 184.15672242783694, 159.94801207759977, 154.17955332053734, 151.0163489180944, 149.95614834807185, 137.91195509290773, 130.18504794858103, 111.48992730627087, 106.95145116296476, 106.19092449325659, 96.86808824879512, 81.05655375700464, 74.28417185571067, 72.49268133919203, 72.39344331753647, 70.44643232835244, 69.03000907040717, 66.30142579501236, 64.52332246148393, 63.530103033381955, 55.15549543274647, 52.37402675427777, 49.07933750088192, 271.11499872032635, 233.07622279306975, 259.9106501890435, 143.0370049305509, 215.5496263381007, 155.28431753123445, 304.3045791729518, 240.36751381701794, 305.769892784993, 111.99923323572155, 97.20414473351228, 458.8325177638304, 317.64612645457606, 289.9467781497093, 228.5044302004596, 201.88441709247937, 162.60219476247815, 160.36206911088473, 150.13490896232892, 146.32732642074515, 135.05095255085095, 129.24629320042573, 109.9691498649653, 108.1855218925346, 106.36471935256999, 105.87193095198688, 100.59635072356517, 99.12146787550303, 90.9606692326261, 88.79737632367943, 86.95399151551486, 83.5220170567861, 77.95905426455916, 76.99233873945506, 73.9114898262373, 64.83656008277909, 63.436512485147176, 60.76017342269593, 58.11475571652554, 51.32022849205304, 50.87960468908882, 267.31635801346636, 194.75100117193733, 319.0146030690337, 433.4802051364463, 113.00363221106875, 544.3096289390666, 398.3089985572552, 130.70394988773572, 159.17513448814046, 135.43540793330212, 125.8882701460137, 436.1482511986278, 243.8095087401084, 178.2463296570443, 165.98596492510111, 162.2884215693004, 161.07777459023055, 149.72350425058454, 140.50184238642592, 139.69796234006833, 126.9605682930315, 119.43272342298417, 118.75250662131997, 113.14515477218032, 100.28912036976908, 93.60110694896521, 80.4514657937308, 70.05286547362007, 69.58599807333366, 69.22217248919254, 68.61346653372894, 68.0532692044487, 67.98755790819881, 66.92613864807313, 66.21345452859984, 63.16492363749454, 59.46748915935246, 58.514105570648795, 54.720114755561596, 52.16004533370807, 48.978338919798745, 258.8608433738571, 105.10884397773212, 121.94145339952945, 187.51328462720085, 266.58122749545913, 139.533411905297, 119.11155610550169, 92.53209528677642, 78.22220299140547, 72.77597556004501, 75.23361288064167, 73.1911913990684, 276.52554225590563, 235.33197211144687, 207.6846537637568, 202.84073441517205, 164.8945331581873, 146.21127577061588, 109.3603458952263, 87.15271107995758, 82.79002435529033, 77.73268806046373, 71.521346753697, 68.43123727589207, 62.94029340038884, 59.83386430315376, 57.886893167620315, 54.77989850665097, 47.477676292827304, 234.08584886306787, 40.697629594296, 18.596124611795812, 283.7986003421379, 309.23474102322353, 13.970637092506934, 513.6335021824862, 10.15367360323528, 61.056534636910975, 6.4773054170436115, 4.465606247684097, 839.0470274585687, 15.141118643294806, 50.5831638735568, 458.7515112489152, 552.6113439972302, 67.36981472033455, 55.9379997692213, 80.6897625636912, 82.37768589400724, 74.69004670648208, 58.48480845513979, 60.51384844607679, 56.56768470049523, 1940.6025648694158, 439.2270066786269, 333.41308550522507, 463.88441514362086, 102.32959437110404, 96.19326239141341, 49.295914191857186, 43.90155921321944, 42.54262433649268, 29.918378353761963, 28.46914338260169, 102.68087582087897, 22.84343998505478, 19.961166227150056, 18.063405905592244, 16.1045331318487, 15.722113094680276, 12.999051489344675, 11.519246376648272, 111.3694782129955, 9.028446043300011, 56.96821610057717, 146.2674172294714, 373.61094930234424, 61.66152217989225, 24.732896961616525, 181.94082493584972, 90.78176358667352, 0.6147822830909527, 23.73132458337138, 68.91364449614497, 70.37433744328942, 73.21244219272755, 33.43895210267568, 849.0439295068201, 397.10290364172965, 257.5110844279414, 204.57691654112935, 131.98778203944542, 130.56936499419285, 106.39237196127257, 92.37164281063725, 87.95565755652906, 86.73210868295345, 76.16445098899712, 66.08028058141016, 63.964518558789464, 61.04415902831279, 50.8339770738625, 47.39548125029935, 45.55501331034695, 44.24938577061175, 44.00886330261073, 41.839065504192554, 41.69549649886535, 38.344410335135045, 31.159616333433224, 29.838881042078484, 28.861658896864803, 24.81862740989169, 610.6936035682186, 21.365703082752916, 19.76809206617272, 15.95310033179416, 66.94535323460636, 244.119883345278, 60.494767516569816, 37.591460200207294, 47.39473088964433, 33.764723850282266, 782.3629885202816, 606.0728995863328, 355.6100463802101, 297.6680647596137, 213.75413511014187, 211.7749200263231, 183.3539087011098, 182.07843059783318, 129.14573768754684, 102.26152969689963, 92.99281064505374, 56.790802709747, 46.37867466749613, 43.12018198441972, 27.899159342830878, 26.482399081479347, 22.936495038858336, 19.78568607879865, 18.44274616625788, 17.80746360109572, 15.111256032921869, 14.189903896802221, 121.35041238695433, 10.30241759579955, 9.769458314353157, 8.794507279353752, 6.435343818352893, 249.22919886066262, 5.41246199504307, 5.348118409665636, 63.73206675500156, 98.59369748408635, 50.207106398735014, 86.29754198804963, 26.347629298585233, 60.70722842374375, 28.676603126834763, 18.806610173242753, 20.942316387320034, 379.8780979489195, 347.8358253445298, 259.0875835960477, 206.67545823884421, 193.0972276261739, 142.38596972456745, 118.20350042937638, 117.3354031648978, 115.95065902253002, 92.1894303671515, 59.73569377480161, 45.78406062471596, 41.18629987691057, 33.772234758832695, 354.3033023032574, 29.545408281308294, 28.885640476301944, 23.044092922835986, 21.57929593530058, 21.4916319570242, 18.300528935738548, 16.24049004542253, 11.530673826385955, 11.349727669602046, 11.125948400535874, 10.09529935442524, 8.644775892927576, 6.027497254114555, 311.99874628780395, 3.9412925627992292, 31.688627774051223, 32.324463029523066, 40.4412842957523, 28.08149447060689, 60.05453603854606, 32.537156308155446, 26.67397285059013, 284.8701209645237, 251.7402517324873, 211.12344365026274, 185.8005512800239, 157.29621040675582, 142.5364474356208, 121.45956657867994, 108.2448470259354, 76.84435494158431, 72.90054610634074, 72.75516432213949, 69.03133720165592, 67.03857323113948, 63.578246341712216, 62.7996081489027, 42.98741423675211, 40.91093231436816, 40.46800893016961, 36.92689002108586, 35.604421585539015, 27.06116450305667, 25.242610687595896, 19.821170173177837, 17.986748656869782, 16.228225595299374, 15.192360536426047, 15.108854279912302, 14.64625078836153, 22.015549396377647, 237.9320442554498, 191.12509769693938, 267.0859874428565, 117.55770366567614, 48.84487724486325, 22.86843406411058, 23.129569733670778, 159.8605140330194, 156.31740014213148, 142.47159952567162, 132.61191438064532, 107.61344591688389, 105.21385801672164, 99.82727491884314, 92.88414666568893, 92.11103293300954, 79.86210154449734, 71.72266051306325, 66.87443074795937, 66.07749405644735, 60.05396436935787, 56.713076002504174, 52.06734138747766, 50.19556144595889, 43.23342755260923, 42.03880742671119, 40.7297520164207, 38.980894587963, 36.76869079608337, 35.16167464137941, 34.06381131897955, 25.109105016790732, 25.039572954035958, 24.435400908289388, 20.343875135295768, 19.975350259551348, 19.665124526020584, 79.31301110351646, 83.4364201561097, 56.53310960625244, 35.35062557655709, 26.32859964308959, 216.66782449887597, 170.87126454355598, 167.38698047637132, 137.34360324306653, 96.71820183194892, 85.40331987586293, 73.75469283340499, 63.52732339325797, 55.04719035826719, 53.47134435573609, 53.08946050694753, 51.08489458887778, 39.40094232031437, 39.32958785810496, 36.560392245963875, 34.49726877183841, 32.77409620450468, 30.215166759708616, 29.744774441306436, 29.087661486808024, 28.108014943748294, 22.312349640410734, 21.212934089280697, 20.422612187803754, 20.192539502942086, 18.420750056165215, 13.85799889284505, 12.781000793950478, 11.87565502266078, 10.112118291515845, 55.644312791476736, 45.00598444394201, 32.79055451698912, 55.53651611092016, 34.82012110508408, 52.82160964775731, 21.177930379552503, 166.27526189915926, 153.3927455487557, 149.00731611594136, 91.75112924921218, 75.20511980019162, 69.34952279030287, 51.717320083410215, 50.01661647552462, 45.32149874311464, 38.719641725103905, 38.59082241725241, 36.17774081834189, 33.883544109874194, 32.3046835065582, 29.119193382159406, 22.374001600373084, 22.028573628392593, 21.669319249256443, 20.054268441668558, 20.050057167418977, 19.66623807348866, 19.428411502869334, 19.09496237870935, 17.235835605811122, 14.199460178080663, 11.141893345735584, 10.67436492239289, 10.156391440632019, 9.435317679389303, 9.361153442211485, 280.39644775524613, 151.4422276884717, 51.57371020492488, 80.772245154981, 208.59383775423038, 198.38616379889407, 183.73499539795645, 181.71982530061692, 107.65720927403346, 74.86650271525829, 73.34055995983549, 63.27665720659781, 62.749020621868986, 42.88837054808267, 39.73952376110404, 37.75361254491623, 34.99467997514851, 34.73092379900323, 28.06714935853604, 23.35645235759669, 21.55061391874615, 20.741036099235277, 19.331828997016718, 17.9884736548369, 13.750687778598087, 12.72375245669809, 3.5279704530532157, 2.993365338861209, 2.466433987413439, 1.4982964862876886, 22.37549803142762, 0.49367280159100096, 5.137550020119681, 44.9943417061678, 7.145460552090008, 5.8517944368266175, 4.830679833047402, 4.1727758980662975, 600.3532975770506, 223.8143702958792, 93.78551863780588, 89.17637755886001, 85.08853782213535, 82.7175933312128, 36.590149598621906, 31.601919669507325, 30.49805978343815, 28.012214101723046, 24.772083204215726, 21.685137251347548, 17.7563980771291, 10.553228605927014, 9.782280001318531, 9.401125078670594, 8.015576331547674, 7.018469182220548, 4.725895144308363, 0.35866709926246304, 8.060431274350071, 12.504331990577791, 3.159146398468676, 0.04686417784865853, 0.04686567572624135, 0.0468625161407151, 0.046858003004352305, 0.046855596258340335, 0.04685544413014833, 0.04685654803472108, 0.04686205585541622, 1.6664619572350372, 0.046856797680984885, 0.0468571838525492, 118.38728843030394, 71.50703585658579, 37.674292365955765, 33.698554723356494, 32.292782130989295, 23.08906700912907, 19.837341356788993, 18.429881102742105, 18.079897345981223, 15.911072549098748, 12.498088001945055, 11.945664353517742, 10.442779399177553, 9.83380540535849, 8.069927932473876, 7.977587874196957, 3.8017370730929976, 1.3461680623791987, 0.030858182338544864, 0.030859591662151815, 0.030848443979213425, 0.030846076181968576, 0.030846009389380567, 0.030846009389380567, 0.030846667296372438, 0.03084433957468039, 0.030843578139177107, 0.030843578139177107, 0.030843578139177107, 0.030843938819152348, 0.03084694782524207, 0.03084435293319799, 0.030844763707614235, 38.4385701079345, 25.12715385501075, 23.710741164954747, 15.26992535872343, 13.84332284348835, 13.810076151250142, 9.974535017753405, 9.656000210665571, 8.494150966476136, 7.00838964396541, 5.1471961714506795, 2.5410051264136313, 0.025583417735957122, 0.025581033388492963, 0.02558075156511072, 0.025580840775389992, 0.02558248305553112, 0.02558023860600491, 0.02557942760346608, 0.02557942760346608, 0.02557944382351686, 0.025579322173136035, 0.025578766636396934, 0.02557894302944913, 0.02558501946597131, 0.025578649041028804, 0.025578649041028804, 0.025578649041028804, 0.025578649041028804, 0.025578649041028804, 0.025578663233573235, 0.02557885381916986, 0.025578792993979447, 0.025579050487285527, 0.025578738251308075, 0.025578669316092276], \"Total\": [12249.0, 4244.0, 1941.0, 2746.0, 2044.0, 1248.0, 1655.0, 1052.0, 850.0, 1190.0, 1437.0, 783.0, 601.0, 1355.0, 1588.0, 1133.0, 1342.0, 894.0, 788.0, 1890.0, 635.0, 607.0, 1053.0, 1116.0, 807.0, 3353.0, 1328.0, 595.0, 557.0, 721.0, 981.09553137892, 883.5334506751977, 601.1872248065519, 531.2268913456958, 490.96685250308394, 478.08412891973165, 444.34351007486936, 431.7242952294958, 394.06172133764903, 390.8640949724738, 389.8710104715426, 338.2767749502164, 317.97987778646853, 308.22530633466255, 302.0240011509586, 279.0793542102862, 277.68653493816896, 254.3486714053684, 236.08782267572067, 233.46043869852875, 1225.952222228481, 223.35382672585246, 214.93369784280088, 206.09111198393376, 204.72954340833002, 202.47390259384645, 188.7106225049413, 185.67860813854435, 184.11077726145683, 181.54218275530704, 1890.3234142562965, 1267.348393850846, 1020.7581891127695, 917.9314650607047, 671.7654314394065, 413.2113314308715, 398.39376441700335, 517.955418172215, 413.4769244150416, 845.792116532568, 983.1720663708286, 804.3423483561279, 866.7959696419078, 609.630916963568, 528.359495043773, 3353.032233142599, 587.2020184549522, 1135.3370443045335, 1024.8541503252204, 1365.0363698277529, 1571.989467140653, 436.6298357216519, 507.7536704030489, 764.9024149917605, 835.0876339493564, 1213.9632903422787, 1190.5887184115124, 1784.0650239452564, 2245.543507544248, 1116.213317039924, 794.1684465891336, 464.57526408073136, 346.1268534182107, 334.5394433213303, 322.6740320940721, 318.9397837212373, 12249.39217978533, 264.53171043634524, 174.19038367911463, 169.10604451264098, 165.30037181754747, 157.06630734534576, 134.49241026897806, 125.40314120999115, 123.36735343022264, 122.41138521853314, 116.1666590316853, 271.0727527370036, 105.04752033590297, 102.42976821173706, 95.8742412021099, 95.50166345439685, 86.56055280815937, 85.99309094365798, 84.20177267974744, 83.53628032680567, 82.87881185699969, 104.92986913450237, 75.11378377333462, 69.67164527314468, 262.9425361134015, 199.66675399529984, 1328.333910798004, 196.8632801290602, 200.98279349540118, 1053.541083389237, 769.7094286403101, 852.2222602906612, 1050.9913810748974, 223.0145954124149, 1179.7741326051673, 978.9910023415391, 556.8703219019155, 2245.543507544248, 754.8651242382554, 209.8636550596017, 361.91500412339263, 1784.0650239452564, 864.6262109822303, 456.7950407982145, 3353.032233142599, 329.2090202390986, 1297.1643826065979, 1058.6044039792082, 388.8864397240728, 1365.0363698277529, 483.3748984605725, 1213.9632903422787, 4244.812533821909, 2746.3596650358095, 1342.5646444615682, 613.5050845157177, 331.7369575689958, 281.3935433891094, 274.913345352334, 268.386261966134, 252.08057504051874, 210.55213560095441, 270.51834746483866, 195.3038439239491, 192.68299875937566, 190.8170385446216, 189.74030354287802, 182.00293420600644, 180.88089236730372, 165.76409593070522, 161.9737758277769, 155.75902134637653, 154.53621072365166, 153.54798128425665, 152.0735543047419, 147.8702554149063, 219.61619904755273, 143.57538168486116, 148.67904895318068, 133.8548444922096, 124.1532381418531, 122.01633461363996, 163.19656227971234, 922.4292916878842, 346.4969031270187, 1210.240118782646, 721.9190184201874, 333.6591592742966, 534.9439071808453, 483.61087960000367, 223.0603292134953, 228.35311364571524, 545.5018734396828, 339.8517789524115, 474.9224387371932, 1197.3799746713507, 268.02566618605505, 1297.1643826065979, 336.1100261518257, 1784.0650239452564, 663.695515133154, 894.3428995058395, 2245.543507544248, 835.0876339493564, 349.9106354843487, 1571.989467140653, 864.6262109822303, 2044.4368354176218, 1437.585455423638, 1133.1395711946122, 1053.7588323794473, 795.7125416940546, 630.7403215585923, 506.3890387854387, 371.638990165255, 350.91016704099167, 348.5444464535263, 292.27166342449084, 268.2981820041461, 224.30186200994268, 218.72277971960895, 186.77273630160818, 453.8114632027659, 145.11462443704247, 138.8334507879304, 133.44177241421627, 120.13029984553204, 113.80426382297482, 105.60770345967904, 93.31758791270862, 86.68433201453172, 70.24989890565533, 68.65060362590569, 66.4493147976068, 65.2701889280596, 59.408132565190584, 57.40690332825148, 1655.2277448257323, 252.92925670777421, 193.62041930828352, 151.00316888542977, 129.20863371790526, 1588.590402592544, 471.5514223492047, 317.7302273058619, 598.8143376630794, 1058.6044039792082, 599.2824513163462, 253.81499518862216, 1179.7741326051673, 382.0661119357132, 754.8651242382554, 675.2850820087544, 1355.607431749951, 663.695515133154, 406.39411947482677, 2245.543507544248, 1297.1643826065979, 1213.9632903422787, 1197.3799746713507, 1052.742476552904, 788.1755590909409, 528.4036652445119, 422.6122758003613, 414.8872681887562, 349.54044804027797, 310.5869214771086, 185.17565054376993, 160.9669401865927, 155.19848144291626, 152.03527703078842, 150.97507643904052, 138.93088319655752, 131.2039760395497, 112.50885539723956, 107.97037925393344, 107.20985258840875, 97.8870163397638, 82.07548184797332, 75.30309997513828, 73.51160944470791, 73.41237140850515, 71.46536041932113, 70.04893716137586, 67.32035389177483, 65.54225057741206, 64.54903112435063, 56.17442357374119, 53.392954874469524, 50.098265591850605, 289.1884963130401, 259.1024684690721, 312.8034609676839, 196.14454193412854, 456.7950407982145, 274.953388148605, 894.3428995058395, 674.8059574834788, 1116.213317039924, 205.36383387918784, 205.58102690519164, 459.850961325662, 318.66457001640765, 290.9652217225655, 229.5228737622913, 202.90286065431107, 163.6252584609056, 161.38051268308183, 151.15335252959636, 147.34576998257685, 136.0694107851347, 130.2647367811507, 110.987593426797, 109.20470169679541, 107.38316874032526, 106.89037451381859, 101.61479429445568, 100.139911441101, 91.97911281841247, 89.81581990504847, 87.97243510885919, 84.5404606186178, 78.9774978312983, 78.01078232514232, 74.929933388069, 65.85500365358847, 64.4549560469789, 61.7786169959518, 59.13319928204893, 52.33867205865396, 51.89804825468682, 273.46497392350426, 202.2135167471938, 342.5985225859131, 674.8059574834788, 138.49332759531526, 1355.607431749951, 1248.5939913407963, 199.62138878550806, 675.2850820087544, 428.7107195134072, 978.9910023415391, 437.1684431563546, 244.82970071383963, 179.26652163255, 167.00615688701635, 163.30861352702735, 162.0979665479575, 150.74369621207777, 141.5220343495886, 140.71815639362273, 127.9807602743387, 120.45291538071109, 119.77269859006503, 114.1653467362923, 101.30931234975331, 94.62129890669213, 81.4716577999358, 71.073057431347, 70.60619003106058, 70.24236444691947, 69.6336585447235, 69.07346116217562, 69.0077498701205, 67.9463306368131, 67.23364651777752, 64.18511559953711, 60.48768112186877, 59.5342975331651, 55.74030671328853, 53.18024150499773, 49.99853088243312, 268.5197304052685, 109.65757956628414, 132.088053274336, 219.9803633763573, 1116.213317039924, 332.19854051676566, 258.5461097447924, 153.07982921791668, 126.93181860606792, 96.29289265810044, 217.64365170728362, 389.0465834007567, 277.5475507789582, 236.35398063449964, 208.70666228680957, 203.8627429382248, 165.91654749848846, 147.23328429366865, 110.38235442371476, 88.17471962181226, 83.81203293688796, 78.75469659152378, 72.54335528845226, 69.4532457989448, 63.96230193304981, 60.85587282620651, 58.90890174521527, 55.80190707523473, 48.49968482064926, 239.78945084379308, 41.719638138730744, 19.618133134848552, 300.0396045423569, 331.7521412774149, 14.9926456467047, 557.0810856021857, 11.175682168775044, 69.71157763131683, 7.499313992118107, 5.487614803836563, 1248.5939913407963, 22.602118506164175, 75.88280005046934, 807.400211884122, 1190.5887184115124, 136.9103808834467, 141.58750776339193, 258.50692098291074, 278.9863539760758, 764.9024149917605, 248.9526808884575, 471.5514223492047, 1050.9913810748974, 1941.6259941466699, 440.2504359558808, 334.4405399721803, 467.91125548520114, 103.35302364835803, 97.21669167343661, 50.31934348862846, 44.92498849047345, 43.56605361374669, 30.94180765206743, 29.492572715875887, 106.47642940912995, 23.866869306216973, 20.984595530250736, 19.08683524160462, 17.127962409102707, 16.74554242569533, 14.022480802102594, 12.542675657668553, 122.2827765531263, 10.051875320554014, 68.11167253305524, 185.63548197870088, 595.4251884685303, 107.32565467809104, 45.621553614953804, 344.30395612274197, 205.36383387918784, 1.6382115603449554, 64.43228838148869, 258.50692098291074, 330.8603312815515, 534.9439071808453, 196.14454193412854, 850.0645666639439, 398.12354079885336, 258.5317215850651, 205.59755369825314, 133.0084192029543, 131.59000215131664, 107.41300911839636, 93.39227997253025, 88.97629481432719, 87.75274584815917, 77.18508819166318, 67.10091773853395, 64.98515574807692, 62.06479620555483, 51.854614230986286, 48.416118463931426, 46.57565046747074, 45.27002292773554, 45.02950048693761, 42.85970275202595, 42.71613367418292, 39.36504753327469, 32.180253493896636, 30.859518247602324, 29.88229607963597, 25.839264577635944, 635.9436411654187, 22.38634028675395, 20.78872927543259, 16.973737506696462, 83.85797354772214, 392.8247939380172, 115.3300563600824, 64.43228838148869, 153.39178681257206, 57.65911259654776, 783.3877098657467, 607.0976209317979, 356.63476772567503, 298.6927861050786, 214.7788564556069, 212.7996413717881, 184.3786300465748, 183.1031519432982, 130.17045903301187, 103.28625104236463, 94.01753199051873, 57.815524059400296, 47.40339601665279, 44.14490332988472, 28.92388069414714, 27.5071204940763, 23.961216401320087, 20.81040745608923, 19.467467511722884, 18.832184984048485, 16.13597739714396, 15.21462524226722, 132.77639772003107, 11.327138956784477, 10.794179669547274, 9.81922862481875, 7.460065163817891, 294.827612131612, 6.437183340508068, 6.372839870748788, 80.5167722779357, 147.5365017110875, 88.80200708697069, 205.58102690519164, 50.60164293222725, 373.67738157256827, 202.08613228575575, 96.29849967721375, 635.9436411654187, 380.9030698312904, 348.8607972269007, 260.1125554784186, 207.70043012121525, 194.12219950854492, 143.41094160693848, 119.22847231174737, 118.36037504726879, 116.97563090490101, 93.21440228949317, 60.76066567422754, 46.80903251201662, 42.211271759281566, 34.7972066763249, 365.495274129666, 30.57038034040211, 29.910612384000434, 24.06906485203188, 22.604267817671577, 22.51660384663555, 19.325500927199236, 17.265461936274576, 12.555645770067079, 12.374699612955926, 12.150920999895009, 11.120271236796235, 9.669747805370395, 7.052469136485549, 373.67738157256827, 4.966264462046083, 58.46652453594776, 63.33707062270787, 115.3300563600824, 104.08586831806034, 598.8143376630794, 298.6061758873956, 167.82053798407512, 285.89540123910547, 252.7655320161871, 212.1487280311343, 186.82583155460574, 158.32149068133765, 143.56172771703248, 122.48484685326176, 109.27012730528642, 77.86963521616613, 73.92582640983099, 73.78044459672131, 70.05661747623773, 68.06385352215936, 64.60352667146091, 63.82488842825373, 44.01269451610314, 41.93621262032416, 41.493289216572215, 37.95217030043689, 36.62970186012083, 28.086444791705524, 26.26789096217772, 20.84645044775966, 19.012028936220815, 17.253505940413223, 16.21764081100787, 16.134134558677594, 15.671531066709626, 34.928727429458455, 385.92982618099325, 346.6150598264867, 894.3428995058395, 283.7392878842893, 160.56674788640117, 137.2038397754063, 271.3914913837783, 160.8867989864528, 157.3436850917986, 143.49788447533874, 133.6381993340787, 108.63973086655098, 106.24014297028945, 100.85355986851023, 93.9104316583584, 93.13731847074642, 80.88838650639158, 72.74894546273033, 67.90071569762645, 67.10377901030921, 61.08024931902497, 57.739360952171275, 53.09362633714476, 51.22184639917018, 44.25971251261949, 43.06509237637829, 41.7560369660878, 40.00717956466379, 37.79497575421135, 36.187959603260644, 35.09009627652662, 26.135390098018327, 26.065857903703062, 25.463695263367907, 21.37016010987479, 21.00163524546394, 20.69140947568769, 87.45475684407276, 101.87457513218592, 76.98714773695815, 45.378557247326924, 209.8636550596017, 217.6882739762293, 171.89163855082913, 168.40735448364447, 138.36397725033967, 97.73857584341036, 86.42369388313607, 74.77506684067812, 64.54769741340242, 56.067564365540335, 54.491718371091174, 54.10983451422068, 52.1052685999172, 40.42131632758752, 40.349961865378106, 37.580766274988406, 35.517642779111554, 33.79447023241996, 31.235540781965945, 30.765148448579584, 30.10803549408117, 29.128388977594113, 23.3327236873686, 22.233308141095954, 21.4429861950769, 21.21291351375943, 19.44112407445167, 14.87837295007611, 13.801374801223622, 12.896029029933924, 11.13249229878899, 63.44135706545426, 52.001181475874425, 37.69252388830872, 80.16541560048464, 59.910102551840154, 271.5213381768634, 91.19009976772445, 167.30287092900946, 154.4203545786059, 150.03492514579156, 92.77873829794976, 76.23272883004181, 70.37713182506049, 52.74492911695207, 51.044225505374804, 46.34910778627403, 39.7472507972973, 39.61843145295386, 37.20534984819207, 34.91115313972438, 33.332292604660545, 30.146802506441706, 23.40161063501264, 23.056182693887035, 22.696928287587674, 21.08187747790381, 21.0776662021766, 20.693847141678656, 20.45602055820465, 20.1225714917559, 18.263444635661305, 15.227069225999847, 12.16950239550721, 11.701973991941536, 11.18400047633346, 10.462926746482946, 10.388762520191454, 317.44697837054093, 213.34983238665342, 91.19009976772445, 167.82053798407512, 209.62690568469148, 199.41923172935518, 184.76806332841755, 182.75289324780624, 108.69027720449455, 75.899570673529, 74.37362792441036, 64.30972514196634, 63.7820885570993, 43.92143848767116, 40.77259169633435, 38.786680524363646, 36.02774790560961, 35.7639917617502, 29.10021729331279, 24.38952028805779, 22.583681902124894, 21.774104029696375, 20.364896927477815, 19.02154166019032, 14.783755709059184, 13.756820398811902, 4.561038454339203, 4.0264332693223075, 3.4995019178745363, 2.531364416748786, 44.60409996616112, 1.5267407320520987, 39.30093739246011, 721.9190184201874, 196.14454193412854, 268.02566618605505, 179.96469516617572, 99.22442547866767, 601.3855815475724, 224.84665426640098, 94.81780260832765, 90.20866152938179, 86.12082179265713, 83.74987730173457, 37.622433579464584, 32.63420367668709, 31.530343801884353, 29.044498111474162, 25.804367185438224, 22.717421299350526, 18.788682047650877, 11.585512581238161, 10.814563971840306, 10.433409065782257, 9.04786030792071, 8.050753191049926, 5.75817911483014, 1.3909510697842393, 68.53363320912852, 141.35184508073178, 56.86945105573427, 1.0791796550624333, 1.0792467061356854, 1.0791780933743238, 1.0791506375050495, 1.0791445422380024, 1.079149298460275, 1.079182038294331, 1.079317933858021, 205.36383387918784, 1.07919550355715, 1.0792605546529928, 119.43558284413035, 72.5553302704122, 38.72258677978218, 34.74684913718291, 33.341076544815714, 24.137361431268896, 20.885635770615416, 19.478175525124175, 19.128191759807645, 16.959366976166176, 13.546382415771475, 12.993958770888357, 11.491073874557848, 10.88209981918491, 9.118222351207736, 9.025882298603209, 4.850031510613363, 2.3944624803939183, 1.0791721414132183, 1.0792226404622898, 1.0791524142144602, 1.079149604208892, 1.0791476109325024, 1.0791476109325024, 1.0792123364419306, 1.0791515756046253, 1.0791427784295458, 1.0791427784295458, 1.0791427784295458, 1.0791684845171188, 1.0792747185673637, 1.0791889128752064, 1.0793693541019669, 39.49212617327189, 26.180709920348136, 24.764297230292133, 16.323481427827094, 14.896878908825736, 14.863632221494967, 11.028091086991514, 10.709556284960465, 9.547707036582732, 8.061945714072007, 6.200752284692328, 3.594561221563912, 1.079173475402521, 1.079167803258632, 1.0791600277261186, 1.0791646171435538, 1.0792467061356854, 1.0791532906763568, 1.0791419516551277, 1.0791428933148477, 1.0791482583028122, 1.079154981035436, 1.0791370047331768, 1.0791476357955172, 1.0794045609949745, 1.079143209386261, 1.079143209386261, 1.079143209386261, 1.079143209386261, 1.079143209386261, 1.079144202218855, 1.0791612552899725, 1.0791658275472151, 1.0793667729052383, 1.079191750508536, 1.079169987942618], \"Category\": [\"Default\", \"Default\", \"Default\", \"Default\", \"Default\", \"Default\", \"Default\", \"Default\", \"Default\", \"Default\", \"Default\", \"Default\", \"Default\", \"Default\", \"Default\", \"Default\", \"Default\", \"Default\", \"Default\", \"Default\", \"Default\", \"Default\", \"Default\", \"Default\", \"Default\", \"Default\", \"Default\", \"Default\", \"Default\", \"Default\", \"Topic1\", \"Topic1\", \"Topic1\", \"Topic1\", \"Topic1\", \"Topic1\", \"Topic1\", \"Topic1\", \"Topic1\", \"Topic1\", \"Topic1\", \"Topic1\", \"Topic1\", \"Topic1\", \"Topic1\", \"Topic1\", \"Topic1\", \"Topic1\", \"Topic1\", \"Topic1\", \"Topic1\", \"Topic1\", \"Topic1\", \"Topic1\", \"Topic1\", \"Topic1\", \"Topic1\", \"Topic1\", \"Topic1\", \"Topic1\", \"Topic1\", \"Topic1\", \"Topic1\", \"Topic1\", \"Topic1\", \"Topic1\", \"Topic1\", \"Topic1\", \"Topic1\", \"Topic1\", \"Topic1\", \"Topic1\", \"Topic1\", \"Topic1\", \"Topic1\", \"Topic1\", \"Topic1\", \"Topic1\", \"Topic1\", \"Topic1\", \"Topic1\", \"Topic1\", \"Topic1\", \"Topic1\", \"Topic1\", \"Topic1\", \"Topic1\", \"Topic1\", \"Topic1\", \"Topic1\", \"Topic2\", \"Topic2\", \"Topic2\", \"Topic2\", \"Topic2\", \"Topic2\", \"Topic2\", \"Topic2\", \"Topic2\", \"Topic2\", \"Topic2\", \"Topic2\", \"Topic2\", \"Topic2\", \"Topic2\", \"Topic2\", \"Topic2\", \"Topic2\", \"Topic2\", \"Topic2\", \"Topic2\", \"Topic2\", \"Topic2\", \"Topic2\", \"Topic2\", \"Topic2\", \"Topic2\", \"Topic2\", \"Topic2\", \"Topic2\", \"Topic2\", \"Topic2\", \"Topic2\", \"Topic2\", \"Topic2\", \"Topic2\", \"Topic2\", \"Topic2\", \"Topic2\", \"Topic2\", \"Topic2\", \"Topic2\", \"Topic2\", \"Topic2\", \"Topic2\", \"Topic2\", \"Topic2\", \"Topic2\", \"Topic2\", \"Topic2\", \"Topic2\", \"Topic2\", \"Topic2\", \"Topic2\", \"Topic2\", \"Topic2\", \"Topic2\", \"Topic2\", \"Topic3\", \"Topic3\", \"Topic3\", \"Topic3\", \"Topic3\", \"Topic3\", \"Topic3\", \"Topic3\", \"Topic3\", \"Topic3\", \"Topic3\", \"Topic3\", \"Topic3\", \"Topic3\", \"Topic3\", \"Topic3\", \"Topic3\", \"Topic3\", \"Topic3\", \"Topic3\", \"Topic3\", \"Topic3\", \"Topic3\", \"Topic3\", \"Topic3\", \"Topic3\", \"Topic3\", \"Topic3\", \"Topic3\", \"Topic3\", \"Topic3\", \"Topic3\", \"Topic3\", \"Topic3\", \"Topic3\", \"Topic3\", \"Topic3\", \"Topic3\", \"Topic3\", \"Topic3\", \"Topic3\", \"Topic3\", \"Topic3\", \"Topic3\", \"Topic3\", \"Topic3\", \"Topic3\", \"Topic3\", \"Topic3\", \"Topic3\", \"Topic3\", \"Topic3\", \"Topic3\", \"Topic3\", \"Topic3\", \"Topic4\", \"Topic4\", \"Topic4\", \"Topic4\", \"Topic4\", \"Topic4\", \"Topic4\", \"Topic4\", \"Topic4\", \"Topic4\", \"Topic4\", \"Topic4\", \"Topic4\", \"Topic4\", \"Topic4\", \"Topic4\", \"Topic4\", \"Topic4\", \"Topic4\", \"Topic4\", \"Topic4\", \"Topic4\", \"Topic4\", \"Topic4\", \"Topic4\", \"Topic4\", \"Topic4\", \"Topic4\", \"Topic4\", \"Topic4\", \"Topic4\", \"Topic4\", \"Topic4\", \"Topic4\", \"Topic4\", \"Topic4\", \"Topic4\", \"Topic4\", \"Topic4\", \"Topic4\", \"Topic4\", \"Topic4\", \"Topic4\", \"Topic4\", \"Topic4\", \"Topic4\", \"Topic4\", \"Topic4\", \"Topic4\", \"Topic4\", \"Topic4\", \"Topic4\", \"Topic4\", \"Topic5\", \"Topic5\", \"Topic5\", \"Topic5\", \"Topic5\", \"Topic5\", \"Topic5\", \"Topic5\", \"Topic5\", \"Topic5\", \"Topic5\", \"Topic5\", \"Topic5\", \"Topic5\", \"Topic5\", \"Topic5\", \"Topic5\", \"Topic5\", \"Topic5\", \"Topic5\", \"Topic5\", \"Topic5\", \"Topic5\", \"Topic5\", \"Topic5\", \"Topic5\", \"Topic5\", \"Topic5\", \"Topic5\", \"Topic5\", \"Topic5\", \"Topic5\", \"Topic5\", \"Topic5\", \"Topic5\", \"Topic5\", \"Topic5\", \"Topic5\", \"Topic5\", \"Topic5\", \"Topic5\", \"Topic6\", \"Topic6\", \"Topic6\", \"Topic6\", \"Topic6\", \"Topic6\", \"Topic6\", \"Topic6\", \"Topic6\", \"Topic6\", \"Topic6\", \"Topic6\", \"Topic6\", \"Topic6\", \"Topic6\", \"Topic6\", \"Topic6\", \"Topic6\", \"Topic6\", \"Topic6\", \"Topic6\", \"Topic6\", \"Topic6\", \"Topic6\", \"Topic6\", \"Topic6\", \"Topic6\", \"Topic6\", \"Topic6\", \"Topic6\", \"Topic6\", \"Topic6\", \"Topic6\", \"Topic6\", \"Topic6\", \"Topic6\", \"Topic6\", \"Topic6\", \"Topic6\", \"Topic6\", \"Topic6\", \"Topic7\", \"Topic7\", \"Topic7\", \"Topic7\", \"Topic7\", \"Topic7\", \"Topic7\", \"Topic7\", \"Topic7\", \"Topic7\", \"Topic7\", \"Topic7\", \"Topic7\", \"Topic7\", \"Topic7\", \"Topic7\", \"Topic7\", \"Topic7\", \"Topic7\", \"Topic7\", \"Topic7\", \"Topic7\", \"Topic7\", \"Topic7\", \"Topic7\", \"Topic7\", \"Topic7\", \"Topic7\", \"Topic7\", \"Topic7\", \"Topic7\", \"Topic7\", \"Topic7\", \"Topic7\", \"Topic7\", \"Topic7\", \"Topic7\", \"Topic7\", \"Topic7\", \"Topic7\", \"Topic7\", \"Topic7\", \"Topic8\", \"Topic8\", \"Topic8\", \"Topic8\", \"Topic8\", \"Topic8\", \"Topic8\", \"Topic8\", \"Topic8\", \"Topic8\", \"Topic8\", \"Topic8\", \"Topic8\", \"Topic8\", \"Topic8\", \"Topic8\", \"Topic8\", \"Topic8\", \"Topic8\", \"Topic8\", \"Topic8\", \"Topic8\", \"Topic8\", \"Topic8\", \"Topic8\", \"Topic8\", \"Topic8\", \"Topic8\", \"Topic8\", \"Topic8\", \"Topic8\", \"Topic8\", \"Topic8\", \"Topic8\", \"Topic8\", \"Topic8\", \"Topic8\", \"Topic8\", \"Topic8\", \"Topic8\", \"Topic8\", \"Topic9\", \"Topic9\", \"Topic9\", \"Topic9\", \"Topic9\", \"Topic9\", \"Topic9\", \"Topic9\", \"Topic9\", \"Topic9\", \"Topic9\", \"Topic9\", \"Topic9\", \"Topic9\", \"Topic9\", \"Topic9\", \"Topic9\", \"Topic9\", \"Topic9\", \"Topic9\", \"Topic9\", \"Topic9\", \"Topic9\", \"Topic9\", \"Topic9\", \"Topic9\", \"Topic9\", \"Topic9\", \"Topic9\", \"Topic9\", \"Topic9\", \"Topic9\", \"Topic9\", \"Topic9\", \"Topic10\", \"Topic10\", \"Topic10\", \"Topic10\", \"Topic10\", \"Topic10\", \"Topic10\", \"Topic10\", \"Topic10\", \"Topic10\", \"Topic10\", \"Topic10\", \"Topic10\", \"Topic10\", \"Topic10\", \"Topic10\", \"Topic10\", \"Topic10\", \"Topic10\", \"Topic10\", \"Topic10\", \"Topic10\", \"Topic10\", \"Topic10\", \"Topic10\", \"Topic10\", \"Topic10\", \"Topic10\", \"Topic10\", \"Topic10\", \"Topic10\", \"Topic10\", \"Topic10\", \"Topic10\", \"Topic10\", \"Topic10\", \"Topic11\", \"Topic11\", \"Topic11\", \"Topic11\", \"Topic11\", \"Topic11\", \"Topic11\", \"Topic11\", \"Topic11\", \"Topic11\", \"Topic11\", \"Topic11\", \"Topic11\", \"Topic11\", \"Topic11\", \"Topic11\", \"Topic11\", \"Topic11\", \"Topic11\", \"Topic11\", \"Topic11\", \"Topic11\", \"Topic11\", \"Topic11\", \"Topic11\", \"Topic11\", \"Topic11\", \"Topic11\", \"Topic11\", \"Topic11\", \"Topic11\", \"Topic11\", \"Topic11\", \"Topic11\", \"Topic11\", \"Topic11\", \"Topic11\", \"Topic11\", \"Topic11\", \"Topic12\", \"Topic12\", \"Topic12\", \"Topic12\", \"Topic12\", \"Topic12\", \"Topic12\", \"Topic12\", \"Topic12\", \"Topic12\", \"Topic12\", \"Topic12\", \"Topic12\", \"Topic12\", \"Topic12\", \"Topic12\", \"Topic12\", \"Topic12\", \"Topic12\", \"Topic12\", \"Topic12\", \"Topic12\", \"Topic12\", \"Topic12\", \"Topic12\", \"Topic12\", \"Topic12\", \"Topic12\", \"Topic12\", \"Topic12\", \"Topic12\", \"Topic12\", \"Topic12\", \"Topic12\", \"Topic12\", \"Topic12\", \"Topic12\", \"Topic13\", \"Topic13\", \"Topic13\", \"Topic13\", \"Topic13\", \"Topic13\", \"Topic13\", \"Topic13\", \"Topic13\", \"Topic13\", \"Topic13\", \"Topic13\", \"Topic13\", \"Topic13\", \"Topic13\", \"Topic13\", \"Topic13\", \"Topic13\", \"Topic13\", \"Topic13\", \"Topic13\", \"Topic13\", \"Topic13\", \"Topic13\", \"Topic13\", \"Topic13\", \"Topic13\", \"Topic13\", \"Topic13\", \"Topic13\", \"Topic13\", \"Topic13\", \"Topic13\", \"Topic13\", \"Topic13\", \"Topic13\", \"Topic14\", \"Topic14\", \"Topic14\", \"Topic14\", \"Topic14\", \"Topic14\", \"Topic14\", \"Topic14\", \"Topic14\", \"Topic14\", \"Topic14\", \"Topic14\", \"Topic14\", \"Topic14\", \"Topic14\", \"Topic14\", \"Topic14\", \"Topic14\", \"Topic14\", \"Topic14\", \"Topic14\", \"Topic14\", \"Topic14\", \"Topic14\", \"Topic14\", \"Topic14\", \"Topic14\", \"Topic14\", \"Topic14\", \"Topic14\", \"Topic14\", \"Topic14\", \"Topic14\", \"Topic14\", \"Topic14\", \"Topic15\", \"Topic15\", \"Topic15\", \"Topic15\", \"Topic15\", \"Topic15\", \"Topic15\", \"Topic15\", \"Topic15\", \"Topic15\", \"Topic15\", \"Topic15\", \"Topic15\", \"Topic15\", \"Topic15\", \"Topic15\", \"Topic15\", \"Topic15\", \"Topic15\", \"Topic15\", \"Topic15\", \"Topic15\", \"Topic15\", \"Topic15\", \"Topic15\", \"Topic15\", \"Topic15\", \"Topic15\", \"Topic15\", \"Topic15\", \"Topic15\", \"Topic15\", \"Topic15\", \"Topic15\", \"Topic15\", \"Topic15\", \"Topic15\", \"Topic16\", \"Topic16\", \"Topic16\", \"Topic16\", \"Topic16\", \"Topic16\", \"Topic16\", \"Topic16\", \"Topic16\", \"Topic16\", \"Topic16\", \"Topic16\", \"Topic16\", \"Topic16\", \"Topic16\", \"Topic16\", \"Topic16\", \"Topic16\", \"Topic16\", \"Topic16\", \"Topic16\", \"Topic16\", \"Topic16\", \"Topic16\", \"Topic16\", \"Topic16\", \"Topic16\", \"Topic16\", \"Topic16\", \"Topic16\", \"Topic16\", \"Topic16\", \"Topic16\", \"Topic16\", \"Topic17\", \"Topic17\", \"Topic17\", \"Topic17\", \"Topic17\", \"Topic17\", \"Topic17\", \"Topic17\", \"Topic17\", \"Topic17\", \"Topic17\", \"Topic17\", \"Topic17\", \"Topic17\", \"Topic17\", \"Topic17\", \"Topic17\", \"Topic17\", \"Topic17\", \"Topic17\", \"Topic17\", \"Topic17\", \"Topic17\", \"Topic17\", \"Topic17\", \"Topic17\", \"Topic17\", \"Topic17\", \"Topic17\", \"Topic17\", \"Topic17\", \"Topic17\", \"Topic17\", \"Topic17\", \"Topic18\", \"Topic18\", \"Topic18\", \"Topic18\", \"Topic18\", \"Topic18\", \"Topic18\", \"Topic18\", \"Topic18\", \"Topic18\", \"Topic18\", \"Topic18\", \"Topic18\", \"Topic18\", \"Topic18\", \"Topic18\", \"Topic18\", \"Topic18\", \"Topic18\", \"Topic18\", \"Topic18\", \"Topic18\", \"Topic18\", \"Topic18\", \"Topic18\", \"Topic18\", \"Topic18\", \"Topic18\", \"Topic18\", \"Topic18\", \"Topic18\", \"Topic18\", \"Topic18\", \"Topic18\", \"Topic19\", \"Topic19\", \"Topic19\", \"Topic19\", \"Topic19\", \"Topic19\", \"Topic19\", \"Topic19\", \"Topic19\", \"Topic19\", \"Topic19\", \"Topic19\", \"Topic19\", \"Topic19\", \"Topic19\", \"Topic19\", \"Topic19\", \"Topic19\", \"Topic19\", \"Topic19\", \"Topic19\", \"Topic19\", \"Topic19\", \"Topic19\", \"Topic19\", \"Topic19\", \"Topic19\", \"Topic19\", \"Topic19\", \"Topic19\", \"Topic19\", \"Topic19\", \"Topic19\", \"Topic20\", \"Topic20\", \"Topic20\", \"Topic20\", \"Topic20\", \"Topic20\", \"Topic20\", \"Topic20\", \"Topic20\", \"Topic20\", \"Topic20\", \"Topic20\", \"Topic20\", \"Topic20\", \"Topic20\", \"Topic20\", \"Topic20\", \"Topic20\", \"Topic20\", \"Topic20\", \"Topic20\", \"Topic20\", \"Topic20\", \"Topic20\", \"Topic20\", \"Topic20\", \"Topic20\", \"Topic20\", \"Topic20\", \"Topic20\", \"Topic20\", \"Topic20\", \"Topic20\", \"Topic20\", \"Topic20\", \"Topic20\"], \"logprob\": [30.0, 29.0, 28.0, 27.0, 26.0, 25.0, 24.0, 23.0, 22.0, 21.0, 20.0, 19.0, 18.0, 17.0, 16.0, 15.0, 14.0, 13.0, 12.0, 11.0, 10.0, 9.0, 8.0, 7.0, 6.0, 5.0, 4.0, 3.0, 2.0, 1.0, -4.1157, -4.2206, -4.6061, -4.7301, -4.8091, -4.8357, -4.9091, -4.9379, -5.0294, -5.0376, -5.0402, -5.1825, -5.2446, -5.2758, -5.2962, -5.3755, -5.3805, -5.4687, -5.5435, -5.5547, -3.8964, -5.5992, -5.6378, -5.68, -5.6866, -5.6978, -5.7685, -5.7848, -5.7933, -5.8075, -3.4674, -3.8709, -4.086, -4.1925, -4.5016, -4.9877, -5.024, -4.7656, -4.9895, -4.2913, -4.1677, -4.381, -4.3206, -4.6582, -4.789, -3.1363, -4.6986, -4.1271, -4.2391, -4.0407, -4.0033, -4.9665, -4.8869, -4.6853, -4.6947, -4.6193, -4.6753, -4.7048, -4.6968, -4.7866, -3.8399, -4.377, -4.672, -4.7062, -4.7424, -4.7541, -1.1063, -4.9418, -5.3616, -5.3914, -5.4143, -5.4657, -5.622, -5.6925, -5.709, -5.7168, -5.7696, -4.9224, -5.8712, -5.8967, -5.9635, -5.9674, -6.0668, -6.0735, -6.0948, -6.1028, -6.1108, -5.876, -6.2105, -6.2868, -4.967, -5.2471, -3.3924, -5.284, -5.2666, -3.7601, -4.054, -4.0289, -3.8495, -5.2498, -4.0336, -4.2195, -4.6743, -3.7623, -4.5215, -5.3775, -5.0546, -4.145, -4.7165, -5.034, -4.3147, -5.1725, -4.7781, -4.9365, -5.1422, -4.9286, -5.1052, -5.1132, -2.1611, -2.5967, -3.3128, -4.0976, -4.7131, -4.8782, -4.9016, -4.9257, -4.9888, -5.1695, -4.9189, -5.245, -5.2586, -5.2684, -5.2741, -5.3159, -5.3222, -5.4099, -5.4332, -5.4726, -5.4805, -5.487, -5.4967, -5.5249, -5.1294, -5.5546, -5.5201, -5.6252, -5.7011, -5.7186, -5.4294, -3.7243, -4.7075, -3.5876, -4.0641, -4.7744, -4.3884, -4.5274, -5.1741, -5.1609, -4.4795, -4.8739, -4.6744, -4.0441, -5.0753, -4.1032, -4.9489, -4.2301, -4.7276, -4.7512, -4.5445, -4.8625, -5.0656, -4.8752, -4.9588, -2.5596, -2.912, -3.1502, -3.2229, -3.5041, -3.7367, -3.9567, -4.2668, -4.3244, -4.3312, -4.5078, -4.5937, -4.7736, -4.7989, -4.9576, -4.0703, -5.2115, -5.2561, -5.296, -5.402, -5.4565, -5.532, -5.657, -5.7316, -5.9446, -5.968, -6.001, -6.0192, -6.1149, -6.1498, -2.7999, -4.7279, -4.9839, -5.2252, -5.3738, -3.0637, -4.3331, -4.6645, -4.1878, -3.763, -4.2594, -4.89, -3.918, -4.6949, -4.3163, -4.4327, -4.0892, -4.4976, -4.6927, -4.2913, -4.4518, -4.4743, -4.5191, -2.3283, -2.6181, -3.0186, -3.2425, -3.261, -3.4328, -3.5513, -4.0707, -4.2117, -4.2484, -4.2691, -4.2762, -4.3599, -4.4176, -4.5726, -4.6141, -4.6213, -4.7132, -4.8914, -4.9786, -5.003, -5.0044, -5.0317, -5.052, -5.0923, -5.1195, -5.135, -5.2764, -5.3281, -5.3931, -3.684, -3.8352, -3.7262, -4.3234, -3.9133, -4.2413, -3.5685, -3.8044, -3.5637, -4.568, -4.7097, -3.0293, -3.3971, -3.4883, -3.7265, -3.8503, -4.0667, -4.0806, -4.1465, -4.1722, -4.2524, -4.2963, -4.4578, -4.4742, -4.4911, -4.4958, -4.5469, -4.5617, -4.6476, -4.6717, -4.6926, -4.7329, -4.8018, -4.8143, -4.8551, -4.9861, -5.008, -5.0511, -5.0956, -5.2199, -5.2286, -3.5696, -3.8863, -3.3928, -3.0862, -4.4306, -2.8585, -3.1708, -4.2851, -4.088, -4.2495, -4.3226, -2.8831, -3.4647, -3.7779, -3.8492, -3.8717, -3.8792, -3.9523, -4.0159, -4.0216, -4.1172, -4.1783, -4.184, -4.2324, -4.353, -4.422, -4.5734, -4.7118, -4.7185, -4.7238, -4.7326, -4.7408, -4.7418, -4.7575, -4.7682, -4.8153, -4.8756, -4.8918, -4.9588, -5.0068, -5.0697, -3.4048, -4.3061, -4.1575, -3.7272, -3.3754, -4.0228, -4.181, -4.4335, -4.6015, -4.6737, -4.6405, -4.668, -3.2343, -3.3956, -3.5206, -3.5442, -3.7513, -3.8715, -4.1619, -4.3889, -4.4403, -4.5033, -4.5866, -4.6308, -4.7144, -4.765, -4.7981, -4.8533, -4.9963, -3.4009, -5.1504, -5.9336, -3.2083, -3.1225, -6.2196, -2.6151, -6.5387, -4.7448, -6.9883, -7.3602, -2.1243, -6.1392, -4.933, -2.7281, -2.5419, -4.6464, -4.8323, -4.466, -4.4453, -4.5432, -4.7878, -4.7537, -4.8211, -1.1249, -2.6106, -2.8862, -2.556, -4.0674, -4.1293, -4.7978, -4.9137, -4.9451, -5.2971, -5.3468, -4.064, -5.5669, -5.7018, -5.8017, -5.9165, -5.9405, -6.1307, -6.2516, -3.9828, -6.4952, -4.6531, -3.7102, -2.7724, -4.574, -5.4875, -3.4919, -4.1872, -9.1821, -5.5288, -4.4628, -4.4418, -4.4022, -5.1859, -1.8249, -2.5848, -3.018, -3.2481, -3.6863, -3.6971, -3.9019, -4.0432, -4.0922, -4.1062, -4.2361, -4.3782, -4.4107, -4.4574, -4.6405, -4.7105, -4.7501, -4.7792, -4.7846, -4.8352, -4.8386, -4.9224, -5.1299, -5.1732, -5.2065, -5.3574, -2.1544, -5.5072, -5.585, -5.7994, -4.3651, -3.0714, -4.4665, -4.9422, -4.7105, -5.0496, -1.9025, -2.1578, -2.691, -2.8688, -3.2, -3.2093, -3.3534, -3.3604, -3.7039, -3.9373, -4.0323, -4.5254, -4.728, -4.8008, -5.2362, -5.2883, -5.4321, -5.5798, -5.6501, -5.6852, -5.8494, -5.9123, -3.7661, -6.2324, -6.2855, -6.3907, -6.703, -3.0464, -6.8761, -6.8881, -4.4101, -3.9738, -4.6486, -4.107, -5.2934, -4.4587, -5.2087, -5.6306, -5.523, -2.3889, -2.477, -2.7715, -2.9976, -3.0655, -3.3702, -3.5563, -3.5637, -3.5755, -3.8049, -4.2388, -4.5048, -4.6106, -4.8091, -2.4586, -4.9428, -4.9654, -5.1913, -5.257, -5.261, -5.4218, -5.5412, -5.8837, -5.8995, -5.9194, -6.0166, -6.1718, -6.5324, -2.5857, -6.9572, -4.8728, -4.8529, -4.6289, -4.9936, -4.2335, -4.8463, -5.045, -2.6567, -2.7803, -2.9563, -3.084, -3.2506, -3.3491, -3.5091, -3.6243, -3.9669, -4.0196, -4.0216, -4.0741, -4.1034, -4.1564, -4.1688, -4.5478, -4.5973, -4.6082, -4.6998, -4.7362, -5.0106, -5.0802, -5.322, -5.4191, -5.5219, -5.5879, -5.5934, -5.6245, -5.217, -2.8367, -3.0558, -2.7211, -3.5418, -4.4201, -5.1789, -5.1676, -3.0018, -3.0242, -3.117, -3.1887, -3.3976, -3.4201, -3.4727, -3.5448, -3.5531, -3.6958, -3.8033, -3.8733, -3.8853, -3.9809, -4.0381, -4.1236, -4.1602, -4.3095, -4.3375, -4.3692, -4.4131, -4.4715, -4.5162, -4.5479, -4.8529, -4.8557, -4.8801, -5.0634, -5.0816, -5.0973, -3.7027, -3.652, -4.0413, -4.5108, -4.8055, -2.62, -2.8575, -2.8781, -3.0759, -3.4266, -3.551, -3.6976, -3.8469, -3.9902, -4.0192, -4.0264, -4.0649, -4.3246, -4.3264, -4.3994, -4.4575, -4.5087, -4.59, -4.6057, -4.628, -4.6623, -4.8932, -4.9438, -4.9817, -4.993, -5.0849, -5.3695, -5.4504, -5.5239, -5.6846, -3.9794, -4.1916, -4.5082, -3.9813, -4.4482, -4.0314, -4.9454, -2.7911, -2.8717, -2.9007, -3.3857, -3.5845, -3.6656, -3.959, -3.9924, -4.091, -4.2484, -4.2517, -4.3163, -4.3818, -4.4295, -4.5333, -4.7968, -4.8124, -4.8288, -4.9063, -4.9065, -4.9258, -4.938, -4.9553, -5.0578, -5.2515, -5.494, -5.5369, -5.5866, -5.6603, -5.6682, -2.2685, -2.8845, -3.9617, -3.5131, -2.4002, -2.4504, -2.5271, -2.5382, -3.0617, -3.4249, -3.4455, -3.5931, -3.6015, -3.982, -4.0583, -4.1095, -4.1854, -4.193, -4.406, -4.5897, -4.6702, -4.7085, -4.7789, -4.8509, -5.1195, -5.1971, -6.4799, -6.6442, -6.8378, -7.3363, -4.6326, -8.4465, -6.104, -3.9341, -5.7741, -5.9739, -6.1656, -6.312, -1.2731, -2.2598, -3.1296, -3.18, -3.2269, -3.2552, -4.0709, -4.2174, -4.253, -4.338, -4.4609, -4.594, -4.7939, -5.3142, -5.3901, -5.4298, -5.5892, -5.7221, -6.1176, -8.696, -5.5837, -5.1446, -6.5203, -10.7311, -10.7311, -10.7312, -10.7313, -10.7313, -10.7313, -10.7313, -10.7312, -7.1599, -10.7313, -10.7313, -2.0482, -2.5524, -3.1932, -3.3047, -3.3473, -3.6828, -3.8346, -3.9082, -3.9274, -4.0552, -4.2966, -4.3418, -4.4763, -4.5364, -4.734, -4.7456, -5.4867, -6.5249, -10.3005, -10.3005, -10.3009, -10.3009, -10.3009, -10.3009, -10.3009, -10.301, -10.301, -10.301, -10.301, -10.301, -10.3009, -10.301, -10.301, -2.6741, -3.0992, -3.1572, -3.5972, -3.6953, -3.6977, -4.0231, -4.0556, -4.1838, -4.376, -4.6847, -5.3906, -9.9889, -9.989, -9.989, -9.989, -9.989, -9.9891, -9.9891, -9.9891, -9.9891, -9.9891, -9.9891, -9.9891, -9.9889, -9.9891, -9.9891, -9.9891, -9.9891, -9.9891, -9.9891, -9.9891, -9.9891, -9.9891, -9.9891, -9.9891], \"loglift\": [30.0, 29.0, 28.0, 27.0, 26.0, 25.0, 24.0, 23.0, 22.0, 21.0, 20.0, 19.0, 18.0, 17.0, 16.0, 15.0, 14.0, 13.0, 12.0, 11.0, 10.0, 9.0, 8.0, 7.0, 6.0, 5.0, 4.0, 3.0, 2.0, 1.0, 1.3623, 1.3622, 1.3616, 1.3614, 1.3612, 1.3612, 1.361, 1.361, 1.3607, 1.3607, 1.3607, 1.3603, 1.3601, 1.36, 1.3599, 1.3597, 1.3597, 1.3593, 1.359, 1.359, 1.3588, 1.3588, 1.3585, 1.3584, 1.3583, 1.3583, 1.3579, 1.3578, 1.3578, 1.3577, 1.3548, 1.3511, 1.3524, 1.3521, 1.3551, 1.355, 1.3552, 1.3511, 1.3525, 1.3351, 1.3082, 1.2957, 1.2813, 1.2956, 1.3079, 1.1128, 1.2927, 1.2049, 1.1953, 1.107, 1.0033, 1.3211, 1.2498, 1.0416, 0.9444, 0.6457, 0.6092, 0.1753, -0.0468, 0.5624, 1.8495, 1.8486, 1.8478, 1.8477, 1.8476, 1.8476, 1.8471, 1.8469, 1.8449, 1.8448, 1.8446, 1.8443, 1.8432, 1.8427, 1.8425, 1.8425, 1.842, 1.8418, 1.8411, 1.8408, 1.8401, 1.8401, 1.839, 1.8389, 1.8387, 1.8386, 1.8385, 1.8373, 1.8372, 1.8361, 1.8277, 1.8229, 1.7826, 1.8002, 1.7968, 1.6467, 1.6667, 1.5899, 1.5597, 1.7096, 1.26, 1.2607, 1.37, 0.8877, 1.2186, 1.6428, 1.4207, 0.735, 0.8878, 1.2084, -0.0657, 1.3974, 0.4206, 0.4655, 1.2612, 0.2192, 1.0807, 0.1518, 1.8521, 1.8519, 1.8516, 1.8498, 1.8492, 1.8487, 1.8486, 1.8485, 1.8481, 1.8475, 1.8474, 1.8471, 1.847, 1.847, 1.8469, 1.8467, 1.8467, 1.8462, 1.846, 1.8458, 1.8457, 1.8457, 1.8456, 1.8454, 1.8454, 1.8452, 1.8448, 1.8447, 1.8441, 1.8439, 1.8423, 1.8154, 1.8113, 1.6805, 1.7207, 1.7822, 1.6962, 1.658, 1.7852, 1.7749, 1.5854, 1.6643, 1.5292, 1.2347, 1.7003, 1.0955, 1.6003, 0.6499, 1.1413, 0.8194, 0.1054, 0.7766, 1.4434, 0.1314, 0.6456, 2.1842, 2.1839, 2.1838, 2.1837, 2.1834, 2.183, 2.1826, 2.1819, 2.1817, 2.1817, 2.1812, 2.1808, 2.1801, 2.18, 2.1792, 2.1787, 2.1776, 2.1773, 2.177, 2.1761, 2.1757, 2.175, 2.1737, 2.1728, 2.17, 2.1697, 2.1692, 2.1689, 2.1673, 2.1667, 2.1551, 2.1057, 2.1169, 2.1242, 2.1315, 1.9323, 1.8775, 1.941, 1.7839, 1.639, 1.7116, 1.94, 1.3756, 1.7262, 1.4239, 1.4189, 1.0655, 1.3713, 1.6667, 0.3586, 0.747, 0.7907, 0.7597, 3.0792, 3.0789, 3.0782, 3.0777, 3.0777, 3.0772, 3.0769, 3.0746, 3.0738, 3.0736, 3.0734, 3.0734, 3.0728, 3.0724, 3.0711, 3.0707, 3.0706, 3.0697, 3.0677, 3.0665, 3.0662, 3.0662, 3.0658, 3.0655, 3.0649, 3.0645, 3.0642, 3.0618, 3.0609, 3.0596, 3.0156, 2.9743, 2.8949, 2.7644, 2.3291, 2.5088, 2.0021, 2.0479, 1.7853, 2.4739, 2.3311, 3.2064, 3.2055, 3.2051, 3.2042, 3.2036, 3.2024, 3.2023, 3.2019, 3.2017, 3.2011, 3.2008, 3.1994, 3.1993, 3.1991, 3.1991, 3.1986, 3.1984, 3.1975, 3.1973, 3.197, 3.1965, 3.1957, 3.1955, 3.195, 3.1931, 3.1927, 3.192, 3.1913, 3.189, 3.1888, 3.1859, 3.1711, 3.1373, 2.7661, 3.0053, 2.2962, 2.0661, 2.7852, 1.7635, 2.0564, 1.1575, 3.4033, 3.4014, 3.3999, 3.3995, 3.3993, 3.3993, 3.3988, 3.3984, 3.3983, 3.3976, 3.3971, 3.397, 3.3966, 3.3955, 3.3948, 3.393, 3.3911, 3.391, 3.391, 3.3908, 3.3907, 3.3907, 3.3905, 3.3903, 3.3896, 3.3886, 3.3883, 3.3871, 3.3862, 3.385, 3.369, 3.3632, 3.3257, 3.2459, 1.9736, 2.5382, 2.6306, 2.9022, 2.9215, 3.1256, 2.3433, 1.735, 3.5064, 3.5058, 3.5052, 3.5051, 3.5039, 3.5031, 3.5008, 3.4984, 3.4978, 3.497, 3.4959, 3.4953, 3.494, 3.4932, 3.4926, 3.4916, 3.4888, 3.486, 3.4853, 3.4566, 3.4544, 3.4398, 3.4395, 3.4289, 3.4142, 3.3775, 3.3636, 3.304, 3.1126, 3.1095, 3.1045, 2.9448, 2.7425, 2.801, 2.5814, 2.3458, 2.2902, 1.1837, 2.0616, 1.4569, 0.588, 3.6705, 3.6687, 3.668, 3.6624, 3.6611, 3.6605, 3.6505, 3.648, 3.6473, 3.6374, 3.6357, 3.6348, 3.6272, 3.6211, 3.6159, 3.6094, 3.608, 3.5953, 3.5859, 3.5776, 3.5637, 3.4924, 3.4327, 3.205, 3.1169, 3.0588, 3.0332, 2.8547, 2.691, 2.6722, 2.349, 2.1232, 1.6823, 1.9019, 3.7965, 3.7951, 3.7937, 3.7927, 3.7899, 3.7899, 3.7881, 3.7867, 3.7861, 3.786, 3.7843, 3.7823, 3.7818, 3.7811, 3.7778, 3.7763, 3.7755, 3.7748, 3.7747, 3.7736, 3.7735, 3.7714, 3.7654, 3.764, 3.7629, 3.7574, 3.7571, 3.751, 3.7473, 3.7356, 3.5724, 3.3219, 3.1524, 3.2588, 2.6232, 3.2625, 3.8006, 3.8002, 3.799, 3.7984, 3.7971, 3.797, 3.7963, 3.7963, 3.794, 3.7919, 3.7909, 3.784, 3.78, 3.7784, 3.7658, 3.7639, 3.7582, 3.7514, 3.7478, 3.7459, 3.7363, 3.7321, 3.7119, 3.707, 3.7021, 3.6917, 3.6541, 3.6339, 3.6285, 3.6266, 3.5681, 3.3988, 3.2316, 2.9338, 3.1493, 1.9845, 1.8493, 2.1686, 0.3885, 4.0353, 4.035, 4.034, 4.033, 4.0327, 4.0308, 4.0293, 4.0293, 4.0292, 4.0269, 4.021, 4.0158, 4.0134, 4.0081, 4.0069, 4.0039, 4.0031, 3.9944, 3.9916, 3.9914, 3.9835, 3.9768, 3.9528, 3.9515, 3.9498, 3.9413, 3.9259, 3.8809, 3.8576, 3.8068, 3.4255, 3.3653, 2.99, 2.7279, 1.7383, 1.8212, 2.1988, 4.0544, 4.0539, 4.0531, 4.0525, 4.0515, 4.0508, 4.0496, 4.0485, 4.0447, 4.044, 4.044, 4.0432, 4.0428, 4.042, 4.0418, 4.0344, 4.0332, 4.033, 4.0306, 4.0296, 4.0208, 4.0182, 4.0075, 4.0025, 3.9967, 3.9927, 3.9923, 3.9903, 3.5964, 3.5743, 3.4627, 2.8495, 3.1768, 2.8679, 2.2663, 1.5955, 4.2841, 4.284, 4.2834, 4.2828, 4.281, 4.2808, 4.2803, 4.2796, 4.2795, 4.2778, 4.2763, 4.2753, 4.2751, 4.2736, 4.2726, 4.271, 4.2703, 4.2671, 4.2664, 4.2657, 4.2646, 4.263, 4.2618, 4.2609, 4.2505, 4.2504, 4.2493, 4.2413, 4.2404, 4.2397, 4.1928, 4.0909, 3.9817, 4.0408, 2.2147, 4.3636, 4.3624, 4.3622, 4.3609, 4.3578, 4.3564, 4.3546, 4.3524, 4.3499, 4.3494, 4.3493, 4.3485, 4.3427, 4.3427, 4.3408, 4.3392, 4.3377, 4.3351, 4.3346, 4.3338, 4.3327, 4.3236, 4.3213, 4.3196, 4.319, 4.3144, 4.2973, 4.2915, 4.2859, 4.2722, 4.2372, 4.2238, 4.229, 4.0013, 3.8257, 2.7312, 2.9083, 4.4558, 4.4553, 4.4551, 4.4508, 4.4484, 4.4472, 4.4423, 4.4416, 4.4395, 4.4357, 4.4356, 4.4339, 4.4321, 4.4306, 4.4272, 4.417, 4.4163, 4.4156, 4.412, 4.4119, 4.411, 4.4104, 4.4095, 4.404, 4.3921, 4.3737, 4.37, 4.3655, 4.3585, 4.3578, 4.3378, 4.1192, 3.892, 3.7307, 4.6211, 4.6209, 4.6204, 4.6204, 4.6165, 4.6124, 4.6121, 4.6099, 4.6097, 4.6023, 4.6004, 4.5991, 4.597, 4.5967, 4.5899, 4.5828, 4.5792, 4.5774, 4.574, 4.5702, 4.5536, 4.548, 4.3692, 4.3296, 4.2762, 4.1016, 3.9362, 3.497, 2.5914, 1.8507, 1.3137, 0.8017, 1.0083, 1.4573, 4.6943, 4.6914, 4.6851, 4.6845, 4.684, 4.6836, 4.6682, 4.6639, 4.6627, 4.6598, 4.6552, 4.6495, 4.6395, 4.6027, 4.5957, 4.5919, 4.5749, 4.5588, 4.4985, 3.3407, 2.5557, 2.2709, 1.8056, 1.5593, 1.5593, 1.5593, 1.5592, 1.5592, 1.5592, 1.5592, 1.5592, -0.118, 1.5592, 1.5591, 5.5357, 5.5299, 5.517, 5.5139, 5.5125, 5.5001, 5.493, 5.4892, 5.4881, 5.4807, 5.4639, 5.4604, 5.4488, 5.4432, 5.4224, 5.421, 5.301, 4.9686, 1.9899, 1.9899, 1.9896, 1.9896, 1.9896, 1.9896, 1.9895, 1.9895, 1.9895, 1.9895, 1.9895, 1.9895, 1.9895, 1.9895, 1.9893, 6.0165, 6.0025, 6.0001, 5.9768, 5.9702, 5.97, 5.9431, 5.94, 5.9266, 5.9035, 5.8573, 5.6967, 2.3015, 2.3014, 2.3014, 2.3014, 2.3014, 2.3014, 2.3014, 2.3014, 2.3014, 2.3014, 2.3014, 2.3014, 2.3014, 2.3014, 2.3014, 2.3014, 2.3014, 2.3014, 2.3014, 2.3014, 2.3014, 2.3012, 2.3013, 2.3014]}, \"token.table\": {\"Topic\": [1, 3, 4, 17, 5, 15, 7, 11, 3, 5, 18, 6, 7, 1, 2, 3, 4, 5, 17, 12, 12, 6, 10, 13, 1, 2, 3, 14, 17, 5, 1, 4, 8, 14, 3, 14, 5, 3, 5, 8, 13, 11, 3, 13, 13, 1, 3, 5, 7, 7, 1, 14, 8, 13, 14, 13, 2, 19, 4, 12, 19, 1, 5, 7, 1, 5, 12, 5, 12, 9, 3, 7, 15, 3, 11, 14, 19, 14, 2, 4, 6, 18, 1, 14, 2, 3, 3, 8, 8, 10, 9, 12, 7, 3, 9, 6, 8, 7, 8, 13, 17, 11, 1, 2, 10, 12, 1, 2, 4, 7, 10, 20, 4, 7, 6, 17, 5, 13, 1, 3, 12, 2, 15, 6, 4, 15, 3, 11, 5, 6, 2, 15, 2, 3, 4, 16, 3, 17, 3, 1, 8, 4, 15, 16, 16, 2, 8, 10, 17, 14, 13, 17, 3, 5, 6, 6, 6, 6, 14, 8, 17, 4, 3, 6, 4, 10, 8, 4, 5, 11, 4, 10, 7, 18, 12, 15, 2, 1, 2, 3, 4, 6, 9, 1, 3, 6, 11, 3, 1, 4, 1, 5, 12, 17, 4, 17, 1, 4, 5, 6, 9, 15, 8, 17, 4, 11, 3, 4, 6, 6, 10, 13, 10, 11, 14, 7, 5, 4, 3, 11, 7, 19, 3, 15, 13, 7, 8, 13, 8, 15, 13, 5, 11, 11, 2, 1, 13, 16, 8, 6, 19, 3, 17, 2, 3, 16, 3, 6, 9, 3, 13, 15, 15, 9, 14, 2, 1, 3, 4, 11, 7, 15, 1, 2, 14, 1, 4, 17, 10, 1, 2, 4, 5, 15, 11, 16, 4, 4, 9, 10, 3, 2, 4, 6, 8, 15, 1, 6, 7, 2, 12, 1, 2, 3, 4, 7, 2, 7, 1, 8, 2, 6, 5, 5, 3, 4, 20, 4, 15, 6, 8, 10, 4, 6, 16, 13, 15, 16, 5, 15, 4, 2, 9, 3, 4, 7, 2, 1, 3, 8, 17, 1, 2, 1, 8, 11, 1, 13, 2, 3, 8, 13, 12, 12, 9, 10, 3, 7, 1, 5, 8, 15, 14, 1, 4, 6, 14, 7, 12, 10, 4, 1, 2, 3, 4, 5, 6, 1, 8, 1, 10, 7, 2, 15, 9, 1, 3, 5, 7, 6, 15, 7, 4, 3, 11, 10, 12, 10, 4, 4, 11, 15, 19, 10, 5, 9, 6, 19, 3, 5, 6, 13, 11, 11, 1, 4, 12, 19, 1, 6, 10, 6, 18, 10, 11, 11, 1, 2, 4, 7, 2, 7, 3, 4, 17, 7, 18, 16, 4, 9, 17, 20, 3, 6, 5, 11, 12, 10, 19, 8, 8, 3, 17, 4, 14, 14, 4, 16, 10, 16, 14, 8, 7, 13, 13, 7, 4, 16, 2, 20, 16, 18, 17, 1, 4, 14, 8, 1, 15, 15, 17, 1, 7, 9, 8, 14, 11, 19, 2, 18, 11, 9, 10, 15, 18, 4, 1, 13, 17, 5, 3, 5, 10, 17, 2, 1, 3, 13, 2, 9, 2, 5, 6, 9, 6, 3, 6, 12, 4, 5, 2, 7, 4, 1, 4, 1, 3, 1, 1, 10, 15, 1, 2, 3, 16, 3, 4, 7, 1, 3, 12, 2, 6, 3, 19, 4, 2, 6, 1, 2, 3, 4, 5, 17, 17, 1, 5, 17, 16, 5, 16, 16, 20, 6, 15, 19, 5, 14, 1, 15, 12, 2, 3, 4, 14, 16, 1, 3, 5, 19, 18, 3, 6, 1, 3, 4, 5, 13, 5, 2, 3, 11, 11, 2, 15, 13, 13, 13, 4, 3, 10, 12, 2, 4, 10, 1, 8, 12, 10, 2, 3, 9, 14, 2, 11, 16, 16, 1, 3, 5, 1, 12, 4, 16, 3, 16, 2, 7, 17, 18, 18, 2, 4, 2, 2, 4, 5, 16, 13, 7, 13, 1, 2, 12, 16, 5, 5, 6, 13, 14, 12, 9, 9, 14, 13, 7, 11, 1, 3, 16, 19, 9, 6, 11, 15, 1, 3, 16, 16, 2, 3, 4, 17, 12, 12, 12, 3, 11, 6, 20, 2, 6, 4, 4, 1, 3, 15, 1, 7, 7, 2, 8, 1, 2, 9, 3, 7, 9, 14, 4, 4, 7, 4, 4, 4, 12, 14, 15, 10, 12, 1, 2, 3, 19, 4, 16, 10, 8, 10, 12, 18, 1, 2, 20, 9, 2, 3, 6, 13, 10, 2, 3, 4, 7, 18, 10, 16, 1, 3, 20, 8, 8, 8, 1, 2, 4, 8, 10, 3, 4, 2, 3, 7, 4, 8, 5, 1, 3, 6, 17, 17, 5, 6, 7, 3, 5, 1, 6, 16, 17, 1, 2, 4, 2, 2, 4, 1, 11, 18, 15, 5, 12, 1, 5, 6, 7, 8, 7, 10, 1, 1, 1, 10, 9, 14, 5, 8, 1, 6, 8, 9, 14, 2, 13, 5, 1, 2, 3, 17, 1, 3, 12, 9, 11, 5, 6, 3, 17, 5, 6, 5, 1, 3, 4, 1, 13, 2, 2, 3, 16, 7, 7, 18, 5, 9, 18, 15, 10, 14, 11, 12, 11, 16, 10, 12, 14, 16, 6, 8, 1, 3, 20, 2, 18, 7, 1, 3, 10, 5, 9, 13, 17, 4, 7, 12, 18, 17, 15, 1, 3, 4, 5, 6, 4, 12, 4, 6, 2, 6, 1, 3, 5, 2, 5, 14, 8, 18, 4, 3, 3, 11, 10, 11, 6, 5, 9, 6, 7, 11, 1, 3, 7, 20, 14, 14, 14, 1, 4, 5, 8, 6, 12, 11, 3, 1, 4, 11, 19, 7, 16, 2, 15, 6, 1, 2, 3, 4, 6, 12, 3, 10, 11, 20, 2, 3, 1, 7, 4, 7, 2, 18, 1, 6, 9, 18, 14, 14, 5, 1, 8, 9, 19, 15, 7, 7, 18, 12, 12, 2, 3, 4, 6, 1, 2, 3, 4, 6, 2, 4, 11, 8, 4, 12, 14, 14, 1, 3, 4, 8, 3, 4, 13, 1, 2, 3, 4, 6, 15, 5, 5, 5, 19, 2, 4, 2, 1, 3, 7, 9, 6, 11, 4, 20, 1, 2, 3, 1, 2, 5, 9, 3, 1, 3, 9, 10, 1, 2, 3, 6, 18, 11, 15, 1, 2, 13, 3], \"Freq\": [0.959622924776742, 0.03893458167351937, 0.9858806046943571, 0.9644484095124823, 0.9794371330443408, 0.9612615384097596, 0.9236263006058243, 0.06813636643813457, 0.09648692329221918, 0.8992581250834828, 0.9246789816065333, 0.9808364963200472, 0.9939753305760036, 0.0508802129359856, 0.23898281833568996, 0.46948560118204896, 0.23744099370126615, 0.002312736951635709, 0.9786379617007045, 0.9916595371415934, 0.9557453451425215, 0.9875892938106218, 0.9719456089129251, 0.9749113082888456, 0.9217855504451459, 0.0069220441835680544, 0.07152778989686989, 0.9665847086685858, 0.5715099025334222, 0.9936511601805226, 0.1251189100566595, 0.7358688438925567, 0.129360229041631, 0.008482637969943018, 0.9995794284737816, 0.9823142614663739, 0.9984538326156299, 0.3555683174492779, 0.3399143663666053, 0.0044725574521921755, 0.2985432099338277, 0.9246194960469714, 0.9953904618101097, 0.9870757560480345, 0.9888321652753089, 0.4488389381776929, 0.037627216374177846, 0.27414114786901006, 0.23920158980727346, 0.9870760908411546, 0.9964365504060401, 0.9871948539093856, 0.34355674778690476, 0.6298540376093253, 0.9897050677784186, 0.9906579918689249, 0.9888109564365573, 0.952879628765243, 0.9938047770258511, 0.004407116527830826, 0.9410194244194993, 0.9927205305228742, 0.9780777721768225, 0.9778067667314595, 0.9962343269525132, 0.979495514879892, 0.8507658642502014, 0.9865890076659994, 0.9896964853450837, 0.6104217698167334, 0.9933240232360362, 0.9948964908862657, 0.9845461832593092, 0.9973776775078603, 0.1668718615802018, 0.8147273241856913, 0.41763026490834293, 0.9952244243243409, 0.9911381845591513, 0.9519487704555389, 0.04643652538807507, 0.9494616593670311, 0.9966095371657341, 0.9895616267736953, 0.03469100589969948, 0.9637595076510261, 0.9936136454720595, 0.8000731808677556, 0.9849551704055763, 0.9799414672332203, 0.987007002774103, 0.9813420594035498, 0.9844591375020969, 0.9951269509796892, 0.9869087173205355, 0.9889684081538884, 0.9790759124036953, 0.07539297435417221, 0.9226664004296313, 0.9640113077375461, 0.9881478819241498, 0.9963736818956018, 0.9969184283191449, 0.9921332795368254, 0.7989699388797112, 0.1907987913742594, 0.14667535198783374, 0.7709256500480541, 0.0352020844770801, 0.046936112636106794, 0.9835931046006882, 0.9418962869488906, 0.036477186673467846, 0.957526150178531, 0.9939497560495556, 0.9877381162205255, 0.982695267849949, 0.9613178243183569, 0.6574160335767755, 0.3412815474852113, 0.9901615484067764, 0.4006002156186066, 0.5842086477771347, 0.9936070774317644, 0.9992971974517725, 0.9327059122293239, 0.9240075452939162, 0.07006692286588938, 0.8311928493235594, 0.1662385698647119, 0.9935241540173421, 0.9428817781744837, 0.9963759687718555, 0.001061277148220739, 0.0025307378149879165, 0.9488716543928704, 0.9977784881901723, 0.9958430947719988, 0.9995049209857254, 0.9939386454859618, 0.9942713863719798, 0.19738984874288806, 0.23028815686670273, 0.5702373408127878, 0.9676027815056107, 0.0663145682053137, 0.9314182534291788, 0.9828437976010058, 0.3950438717489646, 0.9818939482522775, 0.9297058943847961, 0.9958802663288874, 0.9966776972898008, 0.9935414741158669, 0.9977219100052188, 0.9955502812951993, 0.9871193152842226, 0.9916702086799829, 0.9883269832323525, 0.9690784625468174, 0.9810511997351443, 0.9905910511587384, 0.961047550482519, 0.0375183728416599, 0.9966954529357412, 0.9704742876088015, 0.9925099233928217, 0.10214950433964233, 0.47183342480691937, 0.41832654158139243, 0.6845216564841147, 0.30640493195003227, 0.9816513519395186, 0.9869854726264039, 0.10612184028463799, 0.8755051823482634, 0.988916407848564, 0.4876588976863417, 0.18287208663237814, 0.06589985103869482, 0.24794818953308928, 0.014827466483706335, 0.9874847451348824, 0.9937443846731795, 0.9926408022060214, 0.004553398175256978, 0.9598844906193021, 0.9950477065950926, 0.3754490048987404, 0.6224110170099119, 0.9961324469402602, 0.02736013488495154, 0.9685487749272845, 0.9928831752231334, 0.4708087376705648, 0.4932282013691631, 0.8534910446735, 0.09336434544415996, 0.0378742156047064, 0.014973527099535087, 0.9794103789104008, 0.9915148419641582, 0.996614088505529, 0.9815307123943658, 0.07531459033167737, 0.911306543013296, 0.8297734996981954, 0.14123804250182048, 0.026482132969091344, 0.9966826904024776, 0.9380720444254905, 0.9843697723959604, 0.9675197962730591, 0.9703946102055688, 0.9944880562479992, 0.9966111108602408, 0.9868964296796281, 0.99052297297412, 0.15263156552620266, 0.8445613292449881, 0.9935486250275642, 0.9434314395393164, 0.9954327865428133, 0.9787877765604885, 0.9960872042572538, 0.02085162621794054, 0.9758561069996172, 0.9517322892803494, 0.875033991091269, 0.11475855620869102, 0.9969713749731586, 0.19871636116720662, 0.7948654446688265, 0.8042825187507259, 0.9979111052423468, 0.9976904570049384, 0.9571496196605748, 0.9619593983077754, 0.9874766720556762, 0.9774267777652594, 0.8702406850016686, 0.9943872662277149, 0.9790207579851965, 0.6348550226485503, 0.36147247701041857, 0.8941344397437274, 0.936966249161957, 0.026898552607520297, 0.03586473681002707, 0.9957133744226621, 0.9916531187544368, 0.9809593233160585, 0.9604443927963209, 0.9737805901834428, 0.9890171315715219, 0.98845150310612, 0.994705681514209, 0.9320889037676056, 0.06293847903253928, 0.9165689428242769, 0.9754052214553997, 0.9419351468411269, 0.05717998191059798, 0.8100497437334714, 0.12388996080629562, 0.3664287295481378, 0.6333982325046382, 0.9936491356701959, 0.991421968157422, 0.33709572305657953, 0.6493237288384933, 0.011052318788740313, 0.9914943553018952, 0.9726248608837677, 0.9925228317065455, 0.970892475589928, 0.9941959375714635, 0.31679284978021754, 0.577681079010985, 0.10249180434065862, 0.9941147365136791, 0.0032036034353365903, 0.004805405153004886, 0.3187585418159907, 0.6719558205618499, 0.9648374556615448, 0.9962256499861561, 0.03351709010885934, 0.9645473709105076, 0.9884701474784107, 0.805434352231821, 0.3180565156445989, 0.3816678187735187, 0.2995514092798222, 0.1454675295051324, 0.8546217358426528, 0.6478479794560501, 0.34459998907236705, 0.3162772062185067, 0.6720890632143267, 0.9716189406503136, 0.025041725274492617, 0.9931905472795056, 0.9910125419523513, 0.0711661443768705, 0.9251598768993164, 0.8682767471110112, 0.11033811891473097, 0.8827049513178478, 0.049993400114225366, 0.9465417088293335, 0.9707510947002826, 0.7836836995691349, 0.2140180384365509, 0.992212501066032, 0.9273477550161494, 0.9916431530679906, 0.9194152723818543, 0.29938097146040255, 0.6985556000742726, 0.9974062676819354, 0.9934594619853562, 0.9996775928275801, 0.9916705036513501, 0.9403776162322744, 0.05297902063280419, 0.9903598476753129, 0.8449982855855044, 0.14733803824874267, 0.006830240183716548, 0.9621921279067005, 0.5358159904969204, 0.46340842421355277, 0.7631972442390725, 0.23297600087298004, 0.9891772101545768, 0.8235921107235308, 0.1676337924481523, 0.7478653147432299, 0.1979083784562237, 0.054234507557715146, 0.9849176635369796, 0.9267055847711869, 0.9695555419491334, 0.9636789687371705, 0.9971779091570447, 0.99571820970049, 0.9932265248519779, 0.5119302995975155, 0.09943969848297063, 0.1915134933746101, 0.19519644517027568, 0.979401928016741, 0.27146502105329234, 0.3267907726266535, 0.40129611807877996, 0.986734812904808, 0.9849020505079085, 0.9732675341424166, 0.9924183806634408, 0.9805395242618404, 0.2440389144805745, 0.3816447987406065, 0.17412265613486247, 0.16120818803278827, 0.006679897294176309, 0.03161818052576786, 0.998030717352598, 0.9845710628056465, 0.9973056978636621, 0.9633236731923046, 0.9929349795990016, 0.9842760492322323, 0.97512937570061, 0.9493915729137989, 0.3132903453080539, 0.011603346122520515, 0.20886023020536926, 0.4602660628599804, 0.989355052593892, 0.9924433537419898, 0.9909001112685107, 0.9921054705201282, 0.9944894613354351, 0.9875467351231768, 0.4446989145731429, 0.547321741013099, 0.9620597649340364, 0.9958626921845791, 0.32534321637906066, 0.6710203837818126, 0.9794892273431551, 0.9241111918712545, 0.9771371994846745, 0.14681771314816716, 0.8368609649445528, 0.992369653002764, 0.8247369096977551, 0.7243287996976672, 0.1642373441174943, 0.10949156274499619, 0.9955796714633417, 0.9962422804538893, 0.7845795754181591, 0.22878543712672847, 0.6696566444366285, 0.10019800166134094, 0.8863399427708061, 0.9960246407109346, 0.3988961842152438, 0.5896726201442735, 0.8754825505443674, 0.116731006739249, 0.9987476637590933, 0.9910082591572099, 0.9982201182186384, 0.6168927070431978, 0.015422317676079945, 0.17735665327491937, 0.187638198392306, 0.8698982218685777, 0.12555232068206276, 0.8768296496540935, 0.05956346751204743, 0.062333861349817075, 0.9819365673943982, 0.9684197739744768, 0.9843903095030849, 0.3711633371917392, 0.628122570632174, 0.94498580508638, 0.9337455011131599, 0.03461687483904135, 0.964327227659009, 0.4545306963808427, 0.513817308952257, 0.9555834487711047, 0.9979433023467871, 0.8773639961675618, 0.9916236039996992, 0.9957680205525036, 0.8396746283800104, 0.12722342854242583, 0.9348187585102312, 0.06197693426587168, 0.9877887994906828, 0.9989943240677661, 0.9664708482222618, 0.9846461509673939, 0.9804321121172758, 0.9689343606259685, 0.9337911620072954, 0.9823131744396462, 0.9945852702403866, 0.9878773016302937, 0.9963112857161234, 0.2859153875005153, 0.7077577625012755, 0.997989993579718, 0.96221712230116, 0.948682109596845, 0.98056628919246, 0.9796341044985798, 0.9956558796867498, 0.9991045237359995, 0.9789660996376544, 0.9684917453358223, 0.9988833591185762, 0.976491117423767, 0.9948127869491135, 0.9714734346342646, 0.9939667993477677, 0.02817524983367597, 0.9673502442895417, 0.9904171227344299, 0.991536641149573, 0.9858943757292173, 0.9235060855268203, 0.9055417700907548, 0.09196908602484229, 0.9295997156425723, 0.3724840542353788, 0.5897664192060165, 0.031040337852948234, 0.8626135468527433, 0.9956490362096996, 0.38089826188002374, 0.6166924239962289, 0.7450762993782168, 0.9739112608068901, 0.8581267729797981, 0.0634267614811155, 0.05223380357268336, 0.022385915816864298, 0.9987617419066216, 0.1384821537299288, 0.3086998010229663, 0.5510435700503418, 0.9985287169313362, 0.9956926873389806, 0.9860414776221936, 0.12389872752149254, 0.08619041914538612, 0.7864875747016483, 0.9886168119714039, 0.9926679688407806, 0.00612758005457272, 0.9942191078022711, 0.05878518757398247, 0.9371050489734852, 0.2388545962749741, 0.7581037186118743, 0.9942456521657905, 0.40108848083392773, 0.5954810574344204, 0.9718700185689756, 0.027193443341954303, 0.9963452540637422, 0.9975276621233297, 0.11538199382611444, 0.8653649536958584, 0.9913647505325334, 0.0021160400224813944, 0.0063481200674441835, 0.9288219058021694, 0.4911890958530829, 0.44297421527854713, 0.0647887457720324, 0.9894605899541002, 0.009796639504496043, 0.9770899232303236, 0.9857274658062337, 0.9889461385528788, 0.9964553242176358, 0.9785059895867305, 0.9781891686615405, 0.997053413311214, 0.9981494845129629, 0.0017957502144927292, 0.6177380737854988, 0.08080875965217281, 0.29270728496231485, 0.005387250643478188, 0.9329779604415186, 0.9462955380568192, 0.900176558799005, 0.0666797450962226, 0.027783227123426082, 0.9858767633320669, 0.9985512115113037, 0.9038989140641467, 0.9442133182523014, 0.8345942147272062, 0.9979145155158811, 0.963198014221187, 0.9189402933402809, 0.2467944398319219, 0.7403833194957656, 0.9946975488493157, 0.9445288063625443, 0.9885064993522916, 0.25032958393511917, 0.16909054914862767, 0.5790642828385965, 0.9715381677578607, 0.990802024885373, 0.9951448171302619, 0.003262769892230367, 0.0008156924730575917, 0.8858453594244403, 0.9962345258408967, 0.18051411164768388, 0.8159237846475312, 0.09253486597936088, 0.12904522126373455, 0.7767892831192607, 0.0006294888842133393, 0.9883762622355344, 0.9932996668909063, 0.6531868293334849, 0.202883787899037, 0.14350316705053837, 0.9452098050611709, 0.9908813755274795, 0.9835265791223734, 0.9593959436940677, 0.9467690197813267, 0.9769908539516339, 0.9982806159144635, 0.36402997521221536, 0.621142055606857, 0.012728320811615922, 0.5312207268876735, 0.46763320845722883, 0.9832350540045308, 0.600335448675629, 0.3955151191274732, 0.9307378207942062, 0.9426326991145996, 0.9893964230747418, 0.4676100786440125, 0.5286026975975794, 0.9358844246917148, 0.9932111006913708, 0.9558104922634642, 0.9739008008106268, 0.9795427299555196, 0.931536307452192, 0.02213888847692595, 0.0442777769538519, 0.8874565276906112, 0.11051345439166102, 0.11340476505647785, 0.8820370615503833, 0.9907111714594552, 0.9838294017679712, 0.9983875045765167, 0.9853965696314226, 0.9970094216548975, 0.9976960180122595, 0.8841869489294184, 0.9498978167863809, 0.045717007225012984, 0.9899570234574183, 0.9453545584455593, 0.049755503076082064, 0.9939929268365801, 0.9400123438639546, 0.9968680810001675, 0.9879378977576515, 0.982808982106229, 0.997013461295451, 0.3515660282628736, 0.16088614852707775, 0.4826584455812332, 0.9807611253879, 0.9803870031061119, 0.9873966586852726, 0.9776753177784483, 0.9425183482511441, 0.9314118204649645, 0.953080080631939, 0.9077320872884789, 0.08177766552148459, 0.9894220670397533, 0.9897924653180084, 0.9976806065050567, 0.9885020641482413, 0.009653340470197669, 0.8663206982070988, 0.9597770473004046, 0.9430583840722014, 0.9914456047999248, 0.9939752432899691, 0.9305189971382598, 0.9922283558397316, 0.004840138321169422, 0.9308211205024108, 0.8601799685757429, 0.934253044292502, 0.004516936555805812, 0.060225820744077486, 0.8769932637148781, 0.8889104660353405, 0.8992586410042471, 0.905281171698429, 0.7995970888238024, 0.1973031777617175, 0.9744228883538779, 0.9189216201409757, 0.9923535186916606, 0.003689046537887214, 0.9891954941235277, 0.9972569730403915, 0.9459178426751871, 0.05289002991302121, 0.9258723894290914, 0.5779676205118969, 0.42143472328992476, 0.9867186465783827, 0.9889033866967414, 0.9980271820903428, 0.7102694937460561, 0.07556058444106979, 0.21156963643499543, 0.8561645321163863, 0.005608064620849692, 0.13646290577400919, 0.9941114465081214, 0.9762973097387737, 0.784035631354694, 0.2127533874027813, 0.9923190068446476, 0.9939967581069241, 0.9995927508716583, 0.19833155891112328, 0.7712893957654794, 0.9665436644058782, 0.9970935758353908, 0.995722792095244, 0.07684425475297138, 0.08014938398965832, 0.8419816730459982, 0.9923461133959077, 0.9929329201212894, 0.9541909123505052, 0.9955163603490318, 0.894799963794612, 0.9835190321312698, 0.9827163163047873, 0.8683300571742452, 0.8921648949192508, 0.10635078217580472, 0.9067752452458225, 0.8953553155993543, 0.33151321576559684, 0.6630264315311937, 0.992140696582986, 0.9874762792004734, 0.9721473860769325, 0.16363689185265695, 0.7765314322462448, 0.0446282432325428, 0.00892564864650856, 0.9834557863422124, 0.984840295653118, 0.9401062321361932, 0.001629978341237986, 0.9975467448376475, 0.9549015315497436, 0.9944758523950312, 0.7289141353732544, 0.9856293966055037, 0.39070011291429396, 0.25807713880577215, 0.05018166587890014, 0.2939211858621294, 0.0035844047056357246, 0.9965301936604972, 0.9822078191552428, 0.9773998676621929, 0.019015561627669122, 0.9910253827574356, 0.26546184148019786, 0.6636546037004946, 0.9973435739817165, 0.6274627336244796, 0.0513166547945671, 0.3148976544212072, 0.0023325752179348684, 0.9797177661576505, 0.015756490547157345, 0.36239928258461895, 0.6145031313391365, 0.992940558865412, 0.9981102827050241, 0.34064485982043524, 0.6562423034776033, 0.9811999375476779, 0.9430279779328763, 0.15590298823801563, 0.8314826039360834, 0.011692724117851173, 0.9935802704560502, 0.028394884116051542, 0.970863378180741, 0.9914813816878644, 0.005020158894622098, 0.9866014913768772, 0.9409631044319522, 0.9850256520101174, 0.9966276905598777, 0.4703555403642275, 0.0008399206077932634, 0.05459483950656212, 0.009239126685725896, 0.4644760961096746, 0.9923366584771308, 0.987640527578401, 0.9969764156684926, 0.9953922965471419, 0.9977659009053043, 0.9850921299604233, 0.9567336609444442, 0.9591090418876396, 0.9917267018963346, 0.9827506140792084, 0.25918068168251945, 0.15860310371616862, 0.3133378390490161, 0.26691741844916184, 0.9914601905312269, 0.5815197508611781, 0.41587473091890315, 0.9908236314485868, 0.9349252859020759, 0.028594789329451788, 0.03605429958930878, 0.9469853449635321, 0.9914174931165292, 0.005954459418117292, 0.9975325481288149, 0.9341449740394544, 0.9982285784570394, 0.06713397310180261, 0.9311190182380448, 0.9473473849461505, 0.040312654678559594, 0.3556577966427866, 0.6416659414430275, 0.9978614234352631, 0.21964623224318294, 0.5395112776771718, 0.24052515165793417, 0.6913012903426992, 0.30516903807920953, 0.9851720454304951, 0.2328131326097868, 0.7662668459125267, 0.991606500452195, 0.9815359746809327, 0.9914144916926702, 0.8694838649111669, 0.5453735347864987, 0.44311599701403026, 0.009738813121187477, 0.9572707347570909, 0.0800413865706657, 0.9033242198689415, 0.16324241982024748, 0.8349448358019216, 0.9264251945159087, 0.9931021050946244, 0.5202459956550145, 0.34683066377000965, 0.11271996572525314, 0.9692941582774086, 0.9870430433458613, 0.9903112607052565, 0.9463253801440182, 0.052994221288065024, 0.9691371322519409, 0.9900281288644093, 0.9640380044624862, 0.993433836632228, 0.9977323469779653, 0.9939880649024797, 0.9653233612350948, 0.729054189272439, 0.16824327444748594, 0.06117937252635852, 0.03568796730704247, 0.9951614207951434, 0.9800287955503918, 0.9713045423935793, 0.9688282537735651, 0.9741547058334197, 0.9968382588383954, 0.058191681534589514, 0.3091433081525068, 0.05091772134276583, 0.5637319148663359, 0.010910940287735534, 0.7205589117133442, 0.2690086603729818, 0.998437942537699, 0.9961787167410037, 0.018283877193715634, 0.9763590421444148, 0.9891724927059105, 0.007255543956278071, 0.9922777501959188, 0.525399749481996, 0.47285977453379635, 0.9748250295166176, 0.9866773648178218, 0.9910462280555599, 0.9992798804089416, 0.9998085819301948, 0.994834825165869, 0.9201672586129226, 0.9890274728076226, 0.7767372366941726, 0.991101767357012, 0.43838927908505976, 0.5479865988563247, 0.9902910272388182, 0.4279182559779719, 0.5630503368131209, 0.0806433470484722, 0.822975695520306, 0.09511779395460823, 0.8063537729677412, 0.9671725177024458, 0.9752678487934116, 0.9835511646797174, 0.08917510664504685, 0.2972503554834895, 0.0458260964703713, 0.5684913048621737, 0.987016876377595, 0.9976291348040582, 0.9680582040869056, 0.9960983326733704, 0.9977892700209912, 0.9754924365070375, 0.961057588238038, 0.9879802751412545, 0.9919868676932293, 0.9600299739216179, 0.9931661917611508, 0.9901421072345163, 0.9826959146848896, 0.2124636482894205, 0.5546526972170929, 0.08478116734625914, 0.019407737103360526, 0.12870394079070666, 0.9869719457544593, 0.004717399162136844, 0.9607769626885372, 0.033021794134957906, 0.9397941733758489, 0.5554320694577544, 0.442288499753397, 0.998322319967861, 0.997327247255272, 0.39195235784191423, 0.6075261546549671, 0.9319590573866793, 0.052752399474717694, 0.999396230358013, 0.9876230843197097, 0.927082745447633, 0.9913750099049877, 0.976145990723404, 0.9565573693845719, 0.9909383657513373, 0.5039793151896966, 0.4893712190972417, 0.9554781561120811, 0.9813393980135785, 0.8982714500586555, 0.9860723805399966, 0.9950664854931547, 0.958023556646993, 0.9874809522610253, 0.9326450890655891, 0.22805183188987363, 0.07108109045918139, 0.46498880008714494, 0.23545611214603837, 0.30492162152083785, 0.3279028466722245, 0.30043748002788434, 0.01681553059857562, 0.04988607410910766, 0.815345517648539, 0.18414089688453616, 0.9740648808010945, 0.9859360685097603, 0.4736562601498699, 0.5052333441598612, 0.9903053192038291, 0.9523067973633015, 0.7242753966281669, 0.1594974700155891, 0.015688275739238273, 0.0980517233702392, 0.6521943598802881, 0.26161468673164096, 0.08474841964546115, 0.7783999134281513, 0.1470310947586508, 0.0715770035336231, 0.0020876626030640073, 0.0002982375147234296, 0.9896346887615688, 0.999294721577745, 0.9887150988533348, 0.9790932688040938, 0.9575959391257104, 0.5534957768213233, 0.4450004331258725, 0.9967443918116079, 0.9891806028677229, 0.009804653552653642, 0.006411472185872397, 0.9916410314149307, 0.9908665855644448, 0.9981920190526966, 0.9988262656860704, 0.8378975150104019, 0.7736057612393518, 0.19559918394972245, 0.030035829745088467, 0.9878893649723185, 0.01104668618978631, 0.9985085060334823, 0.9695619705655917, 0.995992476717742, 0.9980251995425653, 0.9964312048932626, 0.9971597167117715, 0.986845083942869, 0.697841825871373, 0.12277435951975842, 0.17875437836814567, 0.99091674600409, 0.951464411187521, 0.8828354660565387, 0.942821927173149, 0.9349919502754872, 0.06397313343990176, 0.9249187458769352, 0.9951299866128759], \"Term\": [\"able\", \"able\", \"accept\", \"accomplish\", \"account\", \"accuracy\", \"achieve\", \"achieve\", \"action\", \"action\", \"activate\", \"active\", \"activity\", \"add\", \"add\", \"add\", \"add\", \"add\", \"addition\", \"address\", \"adjust\", \"alert\", \"algorithm\", \"alloc\", \"also\", \"also\", \"also\", \"alt\", \"alter\", \"always\", \"amp\", \"amp\", \"amp\", \"amp\", \"android\", \"animation\", \"api\", \"app\", \"app\", \"app\", \"app\", \"appdelegate\", \"appear\", \"append\", \"apple\", \"application\", \"application\", \"application\", \"application\", \"apply\", \"approach\", \"architecture\", \"archive\", \"archive\", \"area\", \"args\", \"argument\", \"around\", \"array\", \"array\", \"arrow\", \"ask\", \"asp_net\", \"assembly\", \"assume\", \"async\", \"atomic\", \"authentication\", \"auto\", \"automation\", \"available\", \"avoid\", \"away\", \"background\", \"bar\", \"bar\", \"bear\", \"begin\", \"behavior\", \"bind\", \"bind\", \"binding\", \"bit\", \"block\", \"blockquote\", \"blockquote\", \"blog\", \"bluetooth\", \"boost\", \"boot\", \"bootstrap\", \"bounty\", \"br\", \"break\", \"browser\", \"buffer\", \"bug\", \"build\", \"build\", \"building\", \"bundle\", \"button\", \"byte\", \"cache\", \"calculate\", \"calculate\", \"call\", \"call\", \"call\", \"call\", \"camera\", \"car\", \"catch\", \"catch\", \"category\", \"cell\", \"certain\", \"ch\", \"change\", \"change\", \"character\", \"choice\", \"choice\", \"chrome\", \"class\", \"clearly\", \"click\", \"click\", \"client\", \"client\", \"cluster\", \"cocoa\", \"code\", \"code\", \"code\", \"collect\", \"color\", \"column\", \"com\", \"come\", \"command\", \"compare\", \"compare\", \"compare\", \"comparison\", \"compile\", \"compile\", \"completion\", \"composer\", \"compute\", \"conceptual\", \"config\", \"configuration\", \"configure\", \"connect\", \"connection\", \"console\", \"console_log\", \"const\", \"constant\", \"constraint\", \"constructor\", \"content\", \"content\", \"context\", \"continuation\", \"continue\", \"controller\", \"controller\", \"controller\", \"convert\", \"convert\", \"coordinate\", \"core\", \"correspond\", \"correspond\", \"course\", \"create\", \"create\", \"create\", \"create\", \"create\", \"css\", \"current\", \"currently\", \"currently\", \"curve\", \"custom\", \"d\", \"d\", \"data\", \"database\", \"database\", \"date\", \"datetime\", \"datetime\", \"datum\", \"datum\", \"datum\", \"datum\", \"day\", \"db\", \"debug\", \"decide\", \"def\", \"def\", \"default\", \"default\", \"default\", \"define\", \"definitely\", \"definition\", \"delay\", \"delegate\", \"delete\", \"dependency\", \"deploy\", \"derive\", \"description\", \"description\", \"design\", \"desire\", \"detail\", \"dev\", \"develop\", \"developer\", \"developer\", \"developer_apple\", \"development\", \"development\", \"device\", \"dialog\", \"dialog\", \"dict\", \"difference\", \"different\", \"direct\", \"direction\", \"directory\", \"disable\", \"disappear\", \"display\", \"dist\", \"do\", \"do\", \"docs_oracle\", \"document\", \"document\", \"document\", \"documentation\", \"download\", \"draw\", \"drive\", \"driver\", \"duration\", \"dynamic\", \"easy\", \"edit\", \"edit\", \"ef\", \"effect\", \"elegant\", \"element\", \"element\", \"element\", \"else\", \"else\", \"email\", \"encode\", \"end\", \"end\", \"end\", \"endpoint\", \"engine\", \"enter_image\", \"entire\", \"entity\", \"entry\", \"entry\", \"entry\", \"environment\", \"error\", \"error\", \"error\", \"error\", \"especially\", \"even\", \"event\", \"event\", \"exactly\", \"examine\", \"example\", \"example\", \"example\", \"exception\", \"exception\", \"execute\", \"execute\", \"exit\", \"exit\", \"expect\", \"expect\", \"export\", \"expression\", \"extend\", \"extend\", \"extends_activity\", \"face\", \"face\", \"fail\", \"fail\", \"fairly\", \"false\", \"false\", \"fast\", \"fatal\", \"feature\", \"feed\", \"feel\", \"feel\", \"field\", \"figure\", \"file\", \"filter\", \"final\", \"final\", \"finally\", \"find\", \"find\", \"find\", \"fire\", \"first\", \"first\", \"fix\", \"fix\", \"float\", \"folder\", \"folder\", \"follow\", \"follow\", \"follow\", \"font\", \"font_size\", \"foreach\", \"foreground\", \"form\", \"format\", \"fragment\", \"framework\", \"framework\", \"framework\", \"framework\", \"free\", \"function\", \"function\", \"function\", \"functionality\", \"future\", \"game\", \"gem\", \"generic\", \"get\", \"get\", \"get\", \"get\", \"get\", \"get\", \"go\", \"goal\", \"good\", \"graphic\", \"group\", \"gt\", \"gui\", \"hack\", \"handle\", \"handle\", \"handle\", \"handle\", \"handler\", \"hard\", \"hardware\", \"hash\", \"header\", \"height\", \"helpful\", \"helpful\", \"hence\", \"hibernate\", \"hide\", \"hide\", \"high\", \"highlight\", \"hint\", \"home\", \"home\", \"host\", \"hover\", \"http\", \"http\", \"http\", \"https\", \"https_stack\", \"human\", \"i\", \"i\", \"i\", \"ide\", \"idea\", \"ideally\", \"ideally\", \"ill\", \"ill\", \"image\", \"img_src\", \"imgur\", \"implement\", \"implement\", \"implement\", \"implement\", \"implementation\", \"implementation\", \"import\", \"import\", \"import\", \"important\", \"impossible\", \"improve\", \"include\", \"include\", \"incorrect\", \"inflate\", \"info\", \"info\", \"init\", \"init\", \"inner\", \"input\", \"inspect\", \"instal\", \"install\", \"installation\", \"installation\", \"instance\", \"instance\", \"instruction\", \"int\", \"interact\", \"interested\", \"internal\", \"introduce\", \"invocation\", \"invoke\", \"io\", \"iphone\", \"jar\", \"java\", \"java\", \"javascript\", \"join\", \"jre\", \"js\", \"json\", \"keep\", \"key\", \"keyboard\", \"kill\", \"know\", \"knowledge\", \"language\", \"laravel\", \"large\", \"late\", \"late\", \"launch\", \"layer\", \"layout\", \"lazy\", \"learn\", \"learn\", \"learning\", \"least\", \"least\", \"least\", \"len\", \"length\", \"library\", \"library\", \"license\", \"light\", \"like\", \"like\", \"like\", \"like\", \"line\", \"link\", \"link\", \"link\", \"list\", \"load\", \"loading\", \"local\", \"local\", \"local\", \"localhost\", \"location\", \"location\", \"lock\", \"log\", \"log\", \"logic\", \"logic\", \"login\", \"long\", \"long\", \"look\", \"look\", \"loop\", \"lot\", \"low\", \"low\", \"m\", \"m\", \"m\", \"mac_os\", \"main\", \"main\", \"main\", \"make\", \"make\", \"manual\", \"manually\", \"master\", \"match\", \"math\", \"member\", \"memory\", \"message\", \"method\", \"method\", \"method\", \"method\", \"method\", \"migration\", \"millisecond\", \"miss\", \"miss\", \"miss\", \"mobile\", \"model\", \"modern\", \"modification\", \"modifying\", \"module\", \"month\", \"mouse\", \"move\", \"move\", \"much\", \"multi\", \"mysql\", \"name\", \"name\", \"name\", \"namespace\", \"native\", \"need\", \"need\", \"need\", \"negative\", \"net\", \"network\", \"network\", \"new\", \"new\", \"new\", \"new\", \"nil\", \"node\", \"none\", \"none\", \"none\", \"normally\", \"notice\", \"notification\", \"nsdictionary\", \"nsstre\", \"nsstring\", \"null\", \"number\", \"number\", \"number\", \"object\", \"object\", \"obvious\", \"occur\", \"occur\", \"occurrence\", \"official\", \"one\", \"open\", \"open\", \"operate\", \"operation\", \"optimal\", \"optimization\", \"optimize\", \"option\", \"option\", \"option\", \"order\", \"order\", \"org\", \"org\", \"original\", \"os\", \"output\", \"override\", \"package\", \"page\", \"panel\", \"parameter\", \"parameter\", \"particular\", \"pass\", \"pass\", \"password\", \"past\", \"path\", \"pattern\", \"pdf\", \"perform\", \"performance\", \"performance\", \"performance\", \"permission\", \"persist\", \"phone\", \"picture\", \"piece\", \"pin\", \"plan\", \"platform\", \"platform\", \"play\", \"plugin\", \"png_alt\", \"point\", \"point\", \"pojo\", \"pop\", \"popular\", \"port\", \"position\", \"possibility\", \"possible\", \"possible\", \"potentially\", \"powerful\", \"pre\", \"pre\", \"pre\", \"predefine\", \"prefix\", \"prepare\", \"prepared\", \"present\", \"present\", \"press\", \"primary_key\", \"print\", \"print\", \"println\", \"private\", \"problem\", \"problem\", \"proceed\", \"process\", \"process\", \"processing\", \"produce\", \"product\", \"program\", \"program\", \"program\", \"project\", \"project\", \"project\", \"promise\", \"proper\", \"property\", \"property\", \"protect\", \"provider\", \"public\", \"purpose\", \"purpose\", \"py_line\", \"python\", \"query\", \"question\", \"question\", \"question\", \"quite\", \"quot\", \"quote\", \"rail\", \"randomly\", \"range\", \"raw\", \"razor\", \"read\", \"read\", \"readable\", \"ready\", \"really\", \"really\", \"receive\", \"recently\", \"recognize\", \"reference\", \"reference\", \"reference\", \"reference\", \"refresh\", \"register\", \"rel_noreferr\", \"rel_noreferrer\", \"rel_noreferrer\", \"relationship\", \"release\", \"reliably\", \"remain\", \"remove\", \"remove\", \"remove\", \"remove\", \"remove\", \"render\", \"repeat\", \"replace\", \"replace\", \"represent\", \"reproduce\", \"reproduce\", \"request\", \"require\", \"require\", \"require\", \"require\", \"research\", \"resolve\", \"resolve\", \"resolve\", \"resource\", \"response\", \"rest\", \"rest\", \"restart\", \"resttemplate\", \"result\", \"result\", \"result\", \"retrieve\", \"return\", \"return\", \"right\", \"right\", \"root\", \"roughly\", \"route\", \"row\", \"run\", \"run\", \"run\", \"run\", \"run\", \"runtime\", \"rvm\", \"s\", \"sample\", \"say\", \"scale\", \"schedule\", \"scheme\", \"score\", \"screenshot\", \"script\", \"script\", \"script\", \"script\", \"scroll\", \"search\", \"search\", \"security\", \"see\", \"see\", \"see\", \"seed\", \"seem\", \"seem\", \"select\", \"selenium\", \"self\", \"send\", \"send\", \"separate\", \"separate\", \"server\", \"server\", \"service\", \"set\", \"set\", \"set\", \"share\", \"share\", \"short\", \"show\", \"show\", \"sign\", \"signal\", \"signature\", \"silent\", \"site\", \"site\", \"site\", \"site_package\", \"situation\", \"situation\", \"size\", \"size\", \"slide\", \"slow\", \"small\", \"small\", \"small\", \"smart\", \"socket\", \"software\", \"solution\", \"solution\", \"somehow\", \"sometimes\", \"soon\", \"sort\", \"source\", \"space\", \"spark\", \"specify\", \"specify\", \"specify\", \"specify\", \"spring\", \"spring_boot\", \"sql\", \"ssl\", \"standalone\", \"standard\", \"state\", \"state\", \"state\", \"state\", \"state\", \"statement\", \"statement\", \"static\", \"status\", \"step\", \"step\", \"still\", \"still\", \"storage\", \"store\", \"store\", \"strange\", \"stre\", \"stream\", \"string\", \"strong\", \"style\", \"subclass\", \"submit\", \"subview\", \"success\", \"successfully\", \"successfully\", \"suggest\", \"super\", \"super\", \"support\", \"support\", \"support\", \"surface\", \"swipe\", \"symbol\", \"syntax\", \"system\", \"system\", \"system\", \"system\", \"tab\", \"table\", \"tableview\", \"tag\", \"take\", \"talk\", \"tap\", \"target\", \"task\", \"team\", \"tell\", \"template\", \"terminal\", \"test\", \"test\", \"test\", \"test\", \"test\", \"testing\", \"text\", \"text\", \"text\", \"textview\", \"thing\", \"thing\", \"think\", \"thread\", \"throw\", \"throw\", \"thus\", \"thus\", \"time\", \"timeout\", \"tip\", \"title\", \"together\", \"toggle\", \"token\", \"tool\", \"tool\", \"toolkit\", \"topic\", \"totally\", \"track\", \"transaction\", \"transfer\", \"transform\", \"translate\", \"true\", \"true\", \"true\", \"true\", \"try\", \"try\", \"try\", \"try\", \"try\", \"type\", \"type\", \"uiview\", \"unable\", \"unique\", \"unique\", \"unit\", \"unsure\", \"update\", \"update\", \"update\", \"update\", \"url\", \"url\", \"url\", \"use\", \"use\", \"use\", \"use\", \"use\", \"useful\", \"user\", \"username\", \"usually\", \"val\", \"value\", \"value\", \"variable\", \"ve\", \"ve\", \"version\", \"version\", \"video\", \"view\", \"void\", \"void_onclick\", \"want\", \"want\", \"want\", \"way\", \"way\", \"web\", \"webpage\", \"website\", \"well\", \"widget\", \"window\", \"word\", \"work\", \"work\", \"work\", \"works_fine\", \"world\", \"worth\", \"wpf\", \"write\", \"write\", \"xcode\", \"xml\"]}, \"R\": 30, \"lambda.step\": 0.01, \"plot.opts\": {\"xlab\": \"PC1\", \"ylab\": \"PC2\"}, \"topic.order\": [7, 5, 19, 6, 10, 14, 13, 15, 18, 2, 1, 12, 11, 17, 4, 9, 16, 8, 20, 3]};\n",
       "\n",
       "function LDAvis_load_lib(url, callback){\n",
       "  var s = document.createElement('script');\n",
       "  s.src = url;\n",
       "  s.async = true;\n",
       "  s.onreadystatechange = s.onload = callback;\n",
       "  s.onerror = function(){console.warn(\"failed to load library \" + url);};\n",
       "  document.getElementsByTagName(\"head\")[0].appendChild(s);\n",
       "}\n",
       "\n",
       "if(typeof(LDAvis) !== \"undefined\"){\n",
       "   // already loaded: just create the visualization\n",
       "   !function(LDAvis){\n",
       "       new LDAvis(\"#\" + \"ldavis_el27261405521600215208069436723\", ldavis_el27261405521600215208069436723_data);\n",
       "   }(LDAvis);\n",
       "}else if(typeof define === \"function\" && define.amd){\n",
       "   // require.js is available: use it to load d3/LDAvis\n",
       "   require.config({paths: {d3: \"https://d3js.org/d3.v5\"}});\n",
       "   require([\"d3\"], function(d3){\n",
       "      window.d3 = d3;\n",
       "      LDAvis_load_lib(\"https://cdn.jsdelivr.net/gh/bmabey/pyLDAvis@3.3.1/pyLDAvis/js/ldavis.v3.0.0.js\", function(){\n",
       "        new LDAvis(\"#\" + \"ldavis_el27261405521600215208069436723\", ldavis_el27261405521600215208069436723_data);\n",
       "      });\n",
       "    });\n",
       "}else{\n",
       "    // require.js not available: dynamically load d3 & LDAvis\n",
       "    LDAvis_load_lib(\"https://d3js.org/d3.v5.js\", function(){\n",
       "         LDAvis_load_lib(\"https://cdn.jsdelivr.net/gh/bmabey/pyLDAvis@3.3.1/pyLDAvis/js/ldavis.v3.0.0.js\", function(){\n",
       "                 new LDAvis(\"#\" + \"ldavis_el27261405521600215208069436723\", ldavis_el27261405521600215208069436723_data);\n",
       "            })\n",
       "         });\n",
       "}\n",
       "</script>"
      ],
      "text/plain": [
       "PreparedData(topic_coordinates=              x         y  topics  cluster       Freq\n",
       "topic                                                \n",
       "6      0.313642 -0.003242       1        1  25.581284\n",
       "4      0.301139  0.166302       2        1  15.711577\n",
       "18     0.287597  0.077006       3        1  15.687359\n",
       "5      0.247913  0.091685       4        1  11.251689\n",
       "9      0.050582 -0.267601       5        1   4.595230\n",
       "13     0.101740 -0.195563       6        1   4.041094\n",
       "12     0.013573 -0.099739       7        1   3.318714\n",
       "14     0.023900 -0.175372       8        1   2.989425\n",
       "17    -0.035226 -0.055737       9        1   2.544950\n",
       "1     -0.075421  0.055922      10        1   2.242337\n",
       "0     -0.061483  0.031952      11        1   2.232897\n",
       "11    -0.090984  0.070254      12        1   1.763333\n",
       "10    -0.072781 -0.013485      13        1   1.728405\n",
       "16    -0.116087  0.049256      14        1   1.369751\n",
       "3     -0.135269  0.032419      15        1   1.267265\n",
       "8     -0.131217  0.058475      16        1   1.154010\n",
       "15    -0.126550  0.044947      17        1   0.979330\n",
       "7     -0.141533  0.043912      18        1   0.913140\n",
       "19    -0.170585  0.045084      19        1   0.390895\n",
       "2     -0.182950  0.043527      20        1   0.237315, topic_info=           Term          Freq         Total Category  logprob  loglift\n",
       "6          code  12249.000000  12249.000000  Default  30.0000  30.0000\n",
       "52       strong   4244.000000   4244.000000  Default  29.0000  29.0000\n",
       "20         file   1941.000000   1941.000000  Default  28.0000  28.0000\n",
       "8           com   2746.000000   2746.000000  Default  27.0000  27.0000\n",
       "515       class   2044.000000   2044.000000  Default  26.0000  26.0000\n",
       "...         ...           ...           ...      ...      ...      ...\n",
       "569   os_bundle      0.025579      1.079161  Topic20  -9.9891   2.3014\n",
       "7026    pyspark      0.025579      1.079166  Topic20  -9.9891   2.3014\n",
       "2447    session      0.025579      1.079367  Topic20  -9.9891   2.3012\n",
       "4355    mapping      0.025579      1.079192  Topic20  -9.9891   2.3013\n",
       "1850    dismiss      0.025579      1.079170  Topic20  -9.9891   2.3014\n",
       "\n",
       "[846 rows x 6 columns], token_table=      Topic      Freq        Term\n",
       "term                             \n",
       "0         1  0.959623        able\n",
       "0         3  0.038935        able\n",
       "637       4  0.985881      accept\n",
       "1544     17  0.964448  accomplish\n",
       "134       5  0.979437     account\n",
       "...     ...       ...         ...\n",
       "1762     15  0.942822         wpf\n",
       "133       1  0.934992       write\n",
       "133       2  0.063973       write\n",
       "1270     13  0.924919       xcode\n",
       "61        3  0.995130         xml\n",
       "\n",
       "[1016 rows x 3 columns], R=30, lambda_step=0.01, plot_opts={'xlab': 'PC1', 'ylab': 'PC2'}, topic_order=[7, 5, 19, 6, 10, 14, 13, 15, 18, 2, 1, 12, 11, 17, 4, 9, 16, 8, 20, 3])"
      ]
     },
     "execution_count": 26,
     "metadata": {},
     "output_type": "execute_result"
    }
   ],
   "source": [
    "from pyLDAvis import gensim_models\n",
    "# Visualize the topics\n",
    "pyLDAvis.enable_notebook()\n",
    "vis = gensim_models.prepare(lda_model, corpus, id2word)\n",
    "vis"
   ]
  },
  {
   "cell_type": "code",
   "execution_count": null,
   "id": "e8eb8795",
   "metadata": {},
   "outputs": [],
   "source": []
  },
  {
   "cell_type": "code",
   "execution_count": null,
   "id": "442d7b49",
   "metadata": {},
   "outputs": [],
   "source": []
  },
  {
   "cell_type": "code",
   "execution_count": null,
   "id": "972abee7",
   "metadata": {},
   "outputs": [],
   "source": []
  },
  {
   "cell_type": "code",
   "execution_count": null,
   "id": "9c11c095",
   "metadata": {},
   "outputs": [],
   "source": []
  }
 ],
 "metadata": {
  "kernelspec": {
   "display_name": "Python 3 (ipykernel)",
   "language": "python",
   "name": "python3"
  },
  "language_info": {
   "codemirror_mode": {
    "name": "ipython",
    "version": 3
   },
   "file_extension": ".py",
   "mimetype": "text/x-python",
   "name": "python",
   "nbconvert_exporter": "python",
   "pygments_lexer": "ipython3",
   "version": "3.9.13"
  },
  "toc": {
   "base_numbering": 1,
   "nav_menu": {},
   "number_sections": true,
   "sideBar": true,
   "skip_h1_title": false,
   "title_cell": "Table of Contents",
   "title_sidebar": "Contents",
   "toc_cell": false,
   "toc_position": {},
   "toc_section_display": true,
   "toc_window_display": false
  }
 },
 "nbformat": 4,
 "nbformat_minor": 5
}
