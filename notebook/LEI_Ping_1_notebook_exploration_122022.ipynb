{
 "cells": [
  {
   "cell_type": "code",
   "execution_count": 1,
   "id": "b3e6dcff",
   "metadata": {},
   "outputs": [],
   "source": [
    "# Import des librairies\n",
    "import numpy as np\n",
    "import pandas as pd\n",
    "import matplotlib.pyplot as plt\n",
    "import seaborn as sns"
   ]
  },
  {
   "cell_type": "code",
   "execution_count": 2,
   "id": "d8000f0f",
   "metadata": {},
   "outputs": [
    {
     "data": {
      "text/plain": [
       "'/home/ping/code/public-health/stackoverflow/notebook'"
      ]
     },
     "execution_count": 2,
     "metadata": {},
     "output_type": "execute_result"
    }
   ],
   "source": [
    "import os\n",
    "os.getcwd()"
   ]
  },
  {
   "cell_type": "code",
   "execution_count": 3,
   "id": "befda451",
   "metadata": {},
   "outputs": [],
   "source": [
    "csv_path = '/home/ping/code/public-health/stackoverflow/data'"
   ]
  },
  {
   "cell_type": "code",
   "execution_count": 4,
   "id": "8e6f95eb",
   "metadata": {},
   "outputs": [],
   "source": [
    "data = pd.read_csv(os.path.join(csv_path,'QueryResults.csv'))"
   ]
  },
  {
   "cell_type": "code",
   "execution_count": 5,
   "id": "c9ce9fb0",
   "metadata": {},
   "outputs": [
    {
     "data": {
      "text/html": [
       "<div>\n",
       "<style scoped>\n",
       "    .dataframe tbody tr th:only-of-type {\n",
       "        vertical-align: middle;\n",
       "    }\n",
       "\n",
       "    .dataframe tbody tr th {\n",
       "        vertical-align: top;\n",
       "    }\n",
       "\n",
       "    .dataframe thead th {\n",
       "        text-align: right;\n",
       "    }\n",
       "</style>\n",
       "<table border=\"1\" class=\"dataframe\">\n",
       "  <thead>\n",
       "    <tr style=\"text-align: right;\">\n",
       "      <th></th>\n",
       "      <th>Title</th>\n",
       "      <th>Body</th>\n",
       "      <th>Tags</th>\n",
       "      <th>Id</th>\n",
       "      <th>Score</th>\n",
       "      <th>ViewCount</th>\n",
       "      <th>FavoriteCount</th>\n",
       "      <th>AnswerCount</th>\n",
       "    </tr>\n",
       "  </thead>\n",
       "  <tbody>\n",
       "    <tr>\n",
       "      <th>0</th>\n",
       "      <td>Import CSV file to strongly typed data structu...</td>\n",
       "      <td>&lt;p&gt;What's the best way to import a CSV file in...</td>\n",
       "      <td>&lt;c#&gt;&lt;vb.net&gt;&lt;file&gt;&lt;csv&gt;&lt;import&gt;</td>\n",
       "      <td>1898</td>\n",
       "      <td>109</td>\n",
       "      <td>69257</td>\n",
       "      <td>28</td>\n",
       "      <td>11</td>\n",
       "    </tr>\n",
       "    <tr>\n",
       "      <th>1</th>\n",
       "      <td>Change hash without reload in jQuery</td>\n",
       "      <td>&lt;p&gt;I have the following code:&lt;/p&gt;\\n\\n&lt;pre&gt;&lt;cod...</td>\n",
       "      <td>&lt;jquery&gt;&lt;hash&gt;&lt;reload&gt;&lt;fragment-identifier&gt;&lt;wi...</td>\n",
       "      <td>1939041</td>\n",
       "      <td>56</td>\n",
       "      <td>113780</td>\n",
       "      <td>14</td>\n",
       "      <td>5</td>\n",
       "    </tr>\n",
       "    <tr>\n",
       "      <th>2</th>\n",
       "      <td>Pass by reference or pass by value?</td>\n",
       "      <td>&lt;p&gt;When learning a new programming language, o...</td>\n",
       "      <td>&lt;language-agnostic&gt;&lt;oop&gt;&lt;parameters&gt;&lt;pass-by-r...</td>\n",
       "      <td>2027</td>\n",
       "      <td>52</td>\n",
       "      <td>18382</td>\n",
       "      <td>19</td>\n",
       "      <td>11</td>\n",
       "    </tr>\n",
       "    <tr>\n",
       "      <th>3</th>\n",
       "      <td>What are MVP and MVC and what is the difference?</td>\n",
       "      <td>&lt;p&gt;When looking beyond the &lt;a href=\"https://en...</td>\n",
       "      <td>&lt;user-interface&gt;&lt;model-view-controller&gt;&lt;design...</td>\n",
       "      <td>2056</td>\n",
       "      <td>2319</td>\n",
       "      <td>550884</td>\n",
       "      <td>1357</td>\n",
       "      <td>24</td>\n",
       "    </tr>\n",
       "    <tr>\n",
       "      <th>4</th>\n",
       "      <td>LINQ on the .NET 2.0 Runtime</td>\n",
       "      <td>&lt;p&gt;Can a LINQ enabled app run on a machine tha...</td>\n",
       "      <td>&lt;.net&gt;&lt;linq&gt;&lt;.net-3.5&gt;&lt;.net-2.0&gt;&lt;clr&gt;</td>\n",
       "      <td>2138</td>\n",
       "      <td>61</td>\n",
       "      <td>56573</td>\n",
       "      <td>13</td>\n",
       "      <td>8</td>\n",
       "    </tr>\n",
       "  </tbody>\n",
       "</table>\n",
       "</div>"
      ],
      "text/plain": [
       "                                               Title  \\\n",
       "0  Import CSV file to strongly typed data structu...   \n",
       "1               Change hash without reload in jQuery   \n",
       "2                Pass by reference or pass by value?   \n",
       "3   What are MVP and MVC and what is the difference?   \n",
       "4                       LINQ on the .NET 2.0 Runtime   \n",
       "\n",
       "                                                Body  \\\n",
       "0  <p>What's the best way to import a CSV file in...   \n",
       "1  <p>I have the following code:</p>\\n\\n<pre><cod...   \n",
       "2  <p>When learning a new programming language, o...   \n",
       "3  <p>When looking beyond the <a href=\"https://en...   \n",
       "4  <p>Can a LINQ enabled app run on a machine tha...   \n",
       "\n",
       "                                                Tags       Id  Score  \\\n",
       "0                    <c#><vb.net><file><csv><import>     1898    109   \n",
       "1  <jquery><hash><reload><fragment-identifier><wi...  1939041     56   \n",
       "2  <language-agnostic><oop><parameters><pass-by-r...     2027     52   \n",
       "3  <user-interface><model-view-controller><design...     2056   2319   \n",
       "4              <.net><linq><.net-3.5><.net-2.0><clr>     2138     61   \n",
       "\n",
       "   ViewCount  FavoriteCount  AnswerCount  \n",
       "0      69257             28           11  \n",
       "1     113780             14            5  \n",
       "2      18382             19           11  \n",
       "3     550884           1357           24  \n",
       "4      56573             13            8  "
      ]
     },
     "execution_count": 5,
     "metadata": {},
     "output_type": "execute_result"
    }
   ],
   "source": [
    "data.head()"
   ]
  },
  {
   "cell_type": "code",
   "execution_count": 6,
   "id": "8893bbf5",
   "metadata": {},
   "outputs": [
    {
     "data": {
      "text/plain": [
       "(27933, 8)"
      ]
     },
     "execution_count": 6,
     "metadata": {},
     "output_type": "execute_result"
    }
   ],
   "source": [
    "data.shape"
   ]
  },
  {
   "cell_type": "code",
   "execution_count": 7,
   "id": "630a41e3",
   "metadata": {},
   "outputs": [],
   "source": [
    "data = data.sample(3000)"
   ]
  },
  {
   "cell_type": "code",
   "execution_count": 8,
   "id": "595f2449",
   "metadata": {},
   "outputs": [
    {
     "data": {
      "text/plain": [
       "(3000, 8)"
      ]
     },
     "execution_count": 8,
     "metadata": {},
     "output_type": "execute_result"
    }
   ],
   "source": [
    "data.shape"
   ]
  },
  {
   "cell_type": "code",
   "execution_count": 9,
   "id": "e99dfc5a",
   "metadata": {},
   "outputs": [
    {
     "name": "stdout",
     "output_type": "stream",
     "text": [
      "<class 'pandas.core.frame.DataFrame'>\n",
      "Int64Index: 3000 entries, 12913 to 13108\n",
      "Data columns (total 8 columns):\n",
      " #   Column         Non-Null Count  Dtype \n",
      "---  ------         --------------  ----- \n",
      " 0   Title          3000 non-null   object\n",
      " 1   Body           3000 non-null   object\n",
      " 2   Tags           3000 non-null   object\n",
      " 3   Id             3000 non-null   int64 \n",
      " 4   Score          3000 non-null   int64 \n",
      " 5   ViewCount      3000 non-null   int64 \n",
      " 6   FavoriteCount  3000 non-null   int64 \n",
      " 7   AnswerCount    3000 non-null   int64 \n",
      "dtypes: int64(5), object(3)\n",
      "memory usage: 210.9+ KB\n"
     ]
    }
   ],
   "source": [
    "data.info()"
   ]
  },
  {
   "cell_type": "code",
   "execution_count": 10,
   "id": "401620ee",
   "metadata": {},
   "outputs": [
    {
     "data": {
      "text/plain": [
       "int64     5\n",
       "object    3\n",
       "dtype: int64"
      ]
     },
     "execution_count": 10,
     "metadata": {},
     "output_type": "execute_result"
    }
   ],
   "source": [
    "data.dtypes.value_counts()"
   ]
  },
  {
   "cell_type": "code",
   "execution_count": 11,
   "id": "332213e8",
   "metadata": {},
   "outputs": [
    {
     "data": {
      "text/plain": [
       "Title            3000\n",
       "Body             3000\n",
       "Tags             2995\n",
       "Id               3000\n",
       "Score             427\n",
       "ViewCount        2966\n",
       "FavoriteCount     228\n",
       "AnswerCount        50\n",
       "dtype: int64"
      ]
     },
     "execution_count": 11,
     "metadata": {},
     "output_type": "execute_result"
    }
   ],
   "source": [
    "data.nunique()"
   ]
  },
  {
   "cell_type": "code",
   "execution_count": 12,
   "id": "0430c3c2",
   "metadata": {},
   "outputs": [
    {
     "data": {
      "text/plain": [
       "Title            3000\n",
       "Body             3000\n",
       "Tags             2995\n",
       "Id               3000\n",
       "Score             427\n",
       "ViewCount        2966\n",
       "FavoriteCount     228\n",
       "AnswerCount        50\n",
       "dtype: int64"
      ]
     },
     "execution_count": 12,
     "metadata": {},
     "output_type": "execute_result"
    }
   ],
   "source": [
    "tmp = data.nunique()\n",
    "tmp"
   ]
  },
  {
   "cell_type": "code",
   "execution_count": 13,
   "id": "754df6ca",
   "metadata": {},
   "outputs": [
    {
     "data": {
      "text/plain": [
       "Series([], dtype: int64)"
      ]
     },
     "execution_count": 13,
     "metadata": {},
     "output_type": "execute_result"
    }
   ],
   "source": [
    "tmp[tmp<10]"
   ]
  },
  {
   "cell_type": "code",
   "execution_count": 14,
   "id": "1d95ce0e",
   "metadata": {},
   "outputs": [
    {
     "data": {
      "text/plain": [
       "Title        3000\n",
       "Body         3000\n",
       "Tags         2995\n",
       "Id           3000\n",
       "ViewCount    2966\n",
       "dtype: int64"
      ]
     },
     "execution_count": 14,
     "metadata": {},
     "output_type": "execute_result"
    }
   ],
   "source": [
    "tmp[tmp >1000]"
   ]
  },
  {
   "cell_type": "code",
   "execution_count": 15,
   "id": "6f8f8551",
   "metadata": {},
   "outputs": [],
   "source": [
    "## NaN and Duplicates"
   ]
  },
  {
   "cell_type": "code",
   "execution_count": 16,
   "id": "d1e6dc76",
   "metadata": {},
   "outputs": [
    {
     "data": {
      "text/plain": [
       "Title            0\n",
       "Body             0\n",
       "Tags             0\n",
       "Id               0\n",
       "Score            0\n",
       "ViewCount        0\n",
       "FavoriteCount    0\n",
       "AnswerCount      0\n",
       "dtype: int64"
      ]
     },
     "execution_count": 16,
     "metadata": {},
     "output_type": "execute_result"
    }
   ],
   "source": [
    "data.isna().sum()"
   ]
  },
  {
   "cell_type": "code",
   "execution_count": 17,
   "id": "cdf9c6ab",
   "metadata": {},
   "outputs": [
    {
     "data": {
      "text/plain": [
       "Title            0.0\n",
       "Body             0.0\n",
       "Tags             0.0\n",
       "Id               0.0\n",
       "Score            0.0\n",
       "ViewCount        0.0\n",
       "FavoriteCount    0.0\n",
       "AnswerCount      0.0\n",
       "dtype: float64"
      ]
     },
     "execution_count": 17,
     "metadata": {},
     "output_type": "execute_result"
    }
   ],
   "source": [
    "data.isna().mean().sort_values()"
   ]
  },
  {
   "cell_type": "code",
   "execution_count": 18,
   "id": "6c3d95e7",
   "metadata": {},
   "outputs": [
    {
     "data": {
      "text/plain": [
       "<AxesSubplot:>"
      ]
     },
     "execution_count": 18,
     "metadata": {},
     "output_type": "execute_result"
    },
    {
     "data": {
      "image/png": "[encoded data removed]",
      "text/plain": [
       "<Figure size 432x288 with 2 Axes>"
      ]
     },
     "metadata": {
      "needs_background": "light"
     },
     "output_type": "display_data"
    }
   ],
   "source": [
    "sns.heatmap(data.isna())"
   ]
  },
  {
   "cell_type": "code",
   "execution_count": 19,
   "id": "ccb39300",
   "metadata": {},
   "outputs": [
    {
     "data": {
      "text/plain": [
       "<AxesSubplot:>"
      ]
     },
     "execution_count": 19,
     "metadata": {},
     "output_type": "execute_result"
    },
    {
     "data": {
      "image/png": "[encoded data removed]",
      "text/plain": [
       "<Figure size 1440x432 with 2 Axes>"
      ]
     },
     "metadata": {
      "needs_background": "light"
     },
     "output_type": "display_data"
    }
   ],
   "source": [
    "fig, ax = plt.subplots(1, 1, figsize=(20,6))\n",
    "sns.heatmap(data.isna())"
   ]
  },
  {
   "cell_type": "code",
   "execution_count": 20,
   "id": "ed17ca17",
   "metadata": {},
   "outputs": [
    {
     "data": {
      "text/plain": [
       "0"
      ]
     },
     "execution_count": 20,
     "metadata": {},
     "output_type": "execute_result"
    }
   ],
   "source": [
    "data.duplicated().sum()"
   ]
  },
  {
   "cell_type": "code",
   "execution_count": 21,
   "id": "69346e18",
   "metadata": {},
   "outputs": [
    {
     "data": {
      "text/plain": [
       "0"
      ]
     },
     "execution_count": 21,
     "metadata": {},
     "output_type": "execute_result"
    }
   ],
   "source": [
    "data.duplicated(subset =\"Body\").sum()"
   ]
  },
  {
   "cell_type": "code",
   "execution_count": 22,
   "id": "58698e4d",
   "metadata": {},
   "outputs": [
    {
     "name": "stdout",
     "output_type": "stream",
     "text": [
      "col:Title -> duplicated:0\n",
      "col:Body -> duplicated:0\n",
      "col:Tags -> duplicated:5\n",
      "col:Id -> duplicated:0\n",
      "col:Score -> duplicated:2573\n",
      "col:ViewCount -> duplicated:34\n",
      "col:FavoriteCount -> duplicated:2772\n",
      "col:AnswerCount -> duplicated:2950\n"
     ]
    }
   ],
   "source": [
    "for col in data.columns:\n",
    "    n = data.duplicated(subset=col).sum()\n",
    "    print(f\"col:{col} -> duplicated:{n}\")"
   ]
  },
  {
   "cell_type": "code",
   "execution_count": 23,
   "id": "4e443402",
   "metadata": {},
   "outputs": [
    {
     "data": {
      "text/plain": [
       "12913    False\n",
       "12204    False\n",
       "642      False\n",
       "24282    False\n",
       "15399    False\n",
       "         ...  \n",
       "11974    False\n",
       "18726    False\n",
       "14825    False\n",
       "20952    False\n",
       "13108    False\n",
       "Length: 3000, dtype: bool"
      ]
     },
     "execution_count": 23,
     "metadata": {},
     "output_type": "execute_result"
    }
   ],
   "source": [
    "data.duplicated(subset=\"Tags\", keep=\"first\")"
   ]
  },
  {
   "cell_type": "code",
   "execution_count": 24,
   "id": "41cda08f",
   "metadata": {},
   "outputs": [
    {
     "data": {
      "text/html": [
       "<div>\n",
       "<style scoped>\n",
       "    .dataframe tbody tr th:only-of-type {\n",
       "        vertical-align: middle;\n",
       "    }\n",
       "\n",
       "    .dataframe tbody tr th {\n",
       "        vertical-align: top;\n",
       "    }\n",
       "\n",
       "    .dataframe thead th {\n",
       "        text-align: right;\n",
       "    }\n",
       "</style>\n",
       "<table border=\"1\" class=\"dataframe\">\n",
       "  <thead>\n",
       "    <tr style=\"text-align: right;\">\n",
       "      <th></th>\n",
       "      <th>Title</th>\n",
       "      <th>Body</th>\n",
       "      <th>Tags</th>\n",
       "      <th>Id</th>\n",
       "      <th>Score</th>\n",
       "      <th>ViewCount</th>\n",
       "      <th>FavoriteCount</th>\n",
       "      <th>AnswerCount</th>\n",
       "    </tr>\n",
       "  </thead>\n",
       "  <tbody>\n",
       "    <tr>\n",
       "      <th>21569</th>\n",
       "      <td>How to set default page asp.net</td>\n",
       "      <td>&lt;p&gt;I've just published my site in my server, b...</td>\n",
       "      <td>&lt;asp.net&gt;&lt;.net&gt;&lt;asp.net-mvc&gt;&lt;asp.net-core&gt;&lt;.ne...</td>\n",
       "      <td>18002744</td>\n",
       "      <td>40</td>\n",
       "      <td>111021</td>\n",
       "      <td>11</td>\n",
       "      <td>2</td>\n",
       "    </tr>\n",
       "    <tr>\n",
       "      <th>8266</th>\n",
       "      <td>Google Firestore - How to get several document...</td>\n",
       "      <td>&lt;p&gt;I am wondering if it's possible to get mult...</td>\n",
       "      <td>&lt;javascript&gt;&lt;node.js&gt;&lt;firebase&gt;&lt;google-cloud-p...</td>\n",
       "      <td>46721517</td>\n",
       "      <td>174</td>\n",
       "      <td>80760</td>\n",
       "      <td>40</td>\n",
       "      <td>17</td>\n",
       "    </tr>\n",
       "    <tr>\n",
       "      <th>27509</th>\n",
       "      <td>How do I add a new column to a Spark DataFrame...</td>\n",
       "      <td>&lt;p&gt;I have a Spark DataFrame (using PySpark 1.5...</td>\n",
       "      <td>&lt;python&gt;&lt;apache-spark&gt;&lt;dataframe&gt;&lt;pyspark&gt;&lt;apa...</td>\n",
       "      <td>33681487</td>\n",
       "      <td>176</td>\n",
       "      <td>443678</td>\n",
       "      <td>66</td>\n",
       "      <td>10</td>\n",
       "    </tr>\n",
       "    <tr>\n",
       "      <th>22950</th>\n",
       "      <td>record the computation time for each epoch in ...</td>\n",
       "      <td>&lt;p&gt;I want to compare the computation time betw...</td>\n",
       "      <td>&lt;python&gt;&lt;machine-learning&gt;&lt;neural-network&gt;&lt;dee...</td>\n",
       "      <td>43178668</td>\n",
       "      <td>32</td>\n",
       "      <td>20044</td>\n",
       "      <td>11</td>\n",
       "      <td>3</td>\n",
       "    </tr>\n",
       "    <tr>\n",
       "      <th>1117</th>\n",
       "      <td>How to get plain text out of Wikipedia</td>\n",
       "      <td>&lt;p&gt;I'd like to write a script that gets the Wi...</td>\n",
       "      <td>&lt;python&gt;&lt;mediawiki&gt;&lt;wikipedia&gt;&lt;wikipedia-api&gt;&lt;...</td>\n",
       "      <td>4452102</td>\n",
       "      <td>37</td>\n",
       "      <td>58020</td>\n",
       "      <td>20</td>\n",
       "      <td>13</td>\n",
       "    </tr>\n",
       "  </tbody>\n",
       "</table>\n",
       "</div>"
      ],
      "text/plain": [
       "                                                   Title  \\\n",
       "21569                    How to set default page asp.net   \n",
       "8266   Google Firestore - How to get several document...   \n",
       "27509  How do I add a new column to a Spark DataFrame...   \n",
       "22950  record the computation time for each epoch in ...   \n",
       "1117              How to get plain text out of Wikipedia   \n",
       "\n",
       "                                                    Body  \\\n",
       "21569  <p>I've just published my site in my server, b...   \n",
       "8266   <p>I am wondering if it's possible to get mult...   \n",
       "27509  <p>I have a Spark DataFrame (using PySpark 1.5...   \n",
       "22950  <p>I want to compare the computation time betw...   \n",
       "1117   <p>I'd like to write a script that gets the Wi...   \n",
       "\n",
       "                                                    Tags        Id  Score  \\\n",
       "21569  <asp.net><.net><asp.net-mvc><asp.net-core><.ne...  18002744     40   \n",
       "8266   <javascript><node.js><firebase><google-cloud-p...  46721517    174   \n",
       "27509  <python><apache-spark><dataframe><pyspark><apa...  33681487    176   \n",
       "22950  <python><machine-learning><neural-network><dee...  43178668     32   \n",
       "1117   <python><mediawiki><wikipedia><wikipedia-api><...   4452102     37   \n",
       "\n",
       "       ViewCount  FavoriteCount  AnswerCount  \n",
       "21569     111021             11            2  \n",
       "8266       80760             40           17  \n",
       "27509     443678             66           10  \n",
       "22950      20044             11            3  \n",
       "1117       58020             20           13  "
      ]
     },
     "execution_count": 24,
     "metadata": {},
     "output_type": "execute_result"
    }
   ],
   "source": [
    "idx = data.duplicated(subset=\"Tags\", keep =\"first\")\n",
    "data.loc[idx, :].sort_values(\"Tags\")"
   ]
  },
  {
   "cell_type": "code",
   "execution_count": 25,
   "id": "181d33e0",
   "metadata": {},
   "outputs": [
    {
     "data": {
      "text/html": [
       "<div>\n",
       "<style scoped>\n",
       "    .dataframe tbody tr th:only-of-type {\n",
       "        vertical-align: middle;\n",
       "    }\n",
       "\n",
       "    .dataframe tbody tr th {\n",
       "        vertical-align: top;\n",
       "    }\n",
       "\n",
       "    .dataframe thead th {\n",
       "        text-align: right;\n",
       "    }\n",
       "</style>\n",
       "<table border=\"1\" class=\"dataframe\">\n",
       "  <thead>\n",
       "    <tr style=\"text-align: right;\">\n",
       "      <th></th>\n",
       "      <th>Id</th>\n",
       "      <th>Score</th>\n",
       "      <th>ViewCount</th>\n",
       "      <th>FavoriteCount</th>\n",
       "      <th>AnswerCount</th>\n",
       "    </tr>\n",
       "  </thead>\n",
       "  <tbody>\n",
       "    <tr>\n",
       "      <th>count</th>\n",
       "      <td>3.000000e+03</td>\n",
       "      <td>3000.000000</td>\n",
       "      <td>3.000000e+03</td>\n",
       "      <td>3000.000000</td>\n",
       "      <td>3000.000000</td>\n",
       "    </tr>\n",
       "    <tr>\n",
       "      <th>mean</th>\n",
       "      <td>1.668109e+07</td>\n",
       "      <td>116.921000</td>\n",
       "      <td>1.115768e+05</td>\n",
       "      <td>45.332000</td>\n",
       "      <td>7.204667</td>\n",
       "    </tr>\n",
       "    <tr>\n",
       "      <th>std</th>\n",
       "      <td>1.550511e+07</td>\n",
       "      <td>544.359768</td>\n",
       "      <td>2.220019e+05</td>\n",
       "      <td>232.633534</td>\n",
       "      <td>6.640493</td>\n",
       "    </tr>\n",
       "    <tr>\n",
       "      <th>min</th>\n",
       "      <td>1.100000e+01</td>\n",
       "      <td>6.000000</td>\n",
       "      <td>8.510000e+02</td>\n",
       "      <td>11.000000</td>\n",
       "      <td>1.000000</td>\n",
       "    </tr>\n",
       "    <tr>\n",
       "      <th>25%</th>\n",
       "      <td>4.146656e+06</td>\n",
       "      <td>28.750000</td>\n",
       "      <td>2.155225e+04</td>\n",
       "      <td>14.000000</td>\n",
       "      <td>3.000000</td>\n",
       "    </tr>\n",
       "    <tr>\n",
       "      <th>50%</th>\n",
       "      <td>1.158880e+07</td>\n",
       "      <td>50.000000</td>\n",
       "      <td>4.890850e+04</td>\n",
       "      <td>19.000000</td>\n",
       "      <td>5.000000</td>\n",
       "    </tr>\n",
       "    <tr>\n",
       "      <th>75%</th>\n",
       "      <td>2.572391e+07</td>\n",
       "      <td>100.000000</td>\n",
       "      <td>1.095912e+05</td>\n",
       "      <td>34.000000</td>\n",
       "      <td>9.000000</td>\n",
       "    </tr>\n",
       "    <tr>\n",
       "      <th>max</th>\n",
       "      <td>7.191786e+07</td>\n",
       "      <td>26631.000000</td>\n",
       "      <td>4.580670e+06</td>\n",
       "      <td>11654.000000</td>\n",
       "      <td>64.000000</td>\n",
       "    </tr>\n",
       "  </tbody>\n",
       "</table>\n",
       "</div>"
      ],
      "text/plain": [
       "                 Id         Score     ViewCount  FavoriteCount  AnswerCount\n",
       "count  3.000000e+03   3000.000000  3.000000e+03    3000.000000  3000.000000\n",
       "mean   1.668109e+07    116.921000  1.115768e+05      45.332000     7.204667\n",
       "std    1.550511e+07    544.359768  2.220019e+05     232.633534     6.640493\n",
       "min    1.100000e+01      6.000000  8.510000e+02      11.000000     1.000000\n",
       "25%    4.146656e+06     28.750000  2.155225e+04      14.000000     3.000000\n",
       "50%    1.158880e+07     50.000000  4.890850e+04      19.000000     5.000000\n",
       "75%    2.572391e+07    100.000000  1.095912e+05      34.000000     9.000000\n",
       "max    7.191786e+07  26631.000000  4.580670e+06   11654.000000    64.000000"
      ]
     },
     "execution_count": 25,
     "metadata": {},
     "output_type": "execute_result"
    }
   ],
   "source": [
    "## Data inspection\n",
    "data.describe(include=np.number)"
   ]
  },
  {
   "cell_type": "code",
   "execution_count": 26,
   "id": "f97bd94b",
   "metadata": {},
   "outputs": [
    {
     "data": {
      "text/html": [
       "<div>\n",
       "<style scoped>\n",
       "    .dataframe tbody tr th:only-of-type {\n",
       "        vertical-align: middle;\n",
       "    }\n",
       "\n",
       "    .dataframe tbody tr th {\n",
       "        vertical-align: top;\n",
       "    }\n",
       "\n",
       "    .dataframe thead th {\n",
       "        text-align: right;\n",
       "    }\n",
       "</style>\n",
       "<table border=\"1\" class=\"dataframe\">\n",
       "  <thead>\n",
       "    <tr style=\"text-align: right;\">\n",
       "      <th></th>\n",
       "      <th>Title</th>\n",
       "      <th>Body</th>\n",
       "      <th>Tags</th>\n",
       "    </tr>\n",
       "  </thead>\n",
       "  <tbody>\n",
       "    <tr>\n",
       "      <th>count</th>\n",
       "      <td>3000</td>\n",
       "      <td>3000</td>\n",
       "      <td>3000</td>\n",
       "    </tr>\n",
       "    <tr>\n",
       "      <th>unique</th>\n",
       "      <td>3000</td>\n",
       "      <td>3000</td>\n",
       "      <td>2995</td>\n",
       "    </tr>\n",
       "    <tr>\n",
       "      <th>top</th>\n",
       "      <td>What is the correct way to write HTML using Ja...</td>\n",
       "      <td>&lt;p&gt;It seems that experienced web developers fr...</td>\n",
       "      <td>&lt;python&gt;&lt;apache-spark&gt;&lt;dataframe&gt;&lt;pyspark&gt;&lt;apa...</td>\n",
       "    </tr>\n",
       "    <tr>\n",
       "      <th>freq</th>\n",
       "      <td>1</td>\n",
       "      <td>1</td>\n",
       "      <td>2</td>\n",
       "    </tr>\n",
       "  </tbody>\n",
       "</table>\n",
       "</div>"
      ],
      "text/plain": [
       "                                                    Title  \\\n",
       "count                                                3000   \n",
       "unique                                               3000   \n",
       "top     What is the correct way to write HTML using Ja...   \n",
       "freq                                                    1   \n",
       "\n",
       "                                                     Body  \\\n",
       "count                                                3000   \n",
       "unique                                               3000   \n",
       "top     <p>It seems that experienced web developers fr...   \n",
       "freq                                                    1   \n",
       "\n",
       "                                                     Tags  \n",
       "count                                                3000  \n",
       "unique                                               2995  \n",
       "top     <python><apache-spark><dataframe><pyspark><apa...  \n",
       "freq                                                    2  "
      ]
     },
     "execution_count": 26,
     "metadata": {},
     "output_type": "execute_result"
    }
   ],
   "source": [
    "data.describe(include=object)"
   ]
  },
  {
   "cell_type": "code",
   "execution_count": 27,
   "id": "8a51f03f",
   "metadata": {},
   "outputs": [],
   "source": [
    "## Cleaning\n",
    "## select columns"
   ]
  },
  {
   "cell_type": "code",
   "execution_count": 28,
   "id": "6cadd756",
   "metadata": {},
   "outputs": [
    {
     "data": {
      "text/plain": [
       "Title            object\n",
       "Body             object\n",
       "Tags             object\n",
       "Id                int64\n",
       "Score             int64\n",
       "ViewCount         int64\n",
       "FavoriteCount     int64\n",
       "AnswerCount       int64\n",
       "dtype: object"
      ]
     },
     "execution_count": 28,
     "metadata": {},
     "output_type": "execute_result"
    }
   ],
   "source": [
    "tmp =data.dtypes\n",
    "tmp"
   ]
  },
  {
   "cell_type": "code",
   "execution_count": 29,
   "id": "8fd2bfeb",
   "metadata": {
    "scrolled": true
   },
   "outputs": [
    {
     "data": {
      "text/html": [
       "<div>\n",
       "<style scoped>\n",
       "    .dataframe tbody tr th:only-of-type {\n",
       "        vertical-align: middle;\n",
       "    }\n",
       "\n",
       "    .dataframe tbody tr th {\n",
       "        vertical-align: top;\n",
       "    }\n",
       "\n",
       "    .dataframe thead th {\n",
       "        text-align: right;\n",
       "    }\n",
       "</style>\n",
       "<table border=\"1\" class=\"dataframe\">\n",
       "  <thead>\n",
       "    <tr style=\"text-align: right;\">\n",
       "      <th></th>\n",
       "      <th>Title</th>\n",
       "      <th>Body</th>\n",
       "      <th>Tags</th>\n",
       "    </tr>\n",
       "  </thead>\n",
       "  <tbody>\n",
       "    <tr>\n",
       "      <th>12913</th>\n",
       "      <td>What is the correct way to write HTML using Ja...</td>\n",
       "      <td>&lt;p&gt;It seems that experienced web developers fr...</td>\n",
       "      <td>&lt;javascript&gt;&lt;html&gt;&lt;dynamic&gt;&lt;code-generation&gt;&lt;d...</td>\n",
       "    </tr>\n",
       "    <tr>\n",
       "      <th>12204</th>\n",
       "      <td>Peculiar overload resolution with while (true)</td>\n",
       "      <td>&lt;p&gt;I was implementing sync/async overloads whe...</td>\n",
       "      <td>&lt;c#&gt;&lt;.net&gt;&lt;lambda&gt;&lt;overloading&gt;&lt;overload-resol...</td>\n",
       "    </tr>\n",
       "    <tr>\n",
       "      <th>642</th>\n",
       "      <td>NSOperation on the iPhone</td>\n",
       "      <td>&lt;p&gt;I've been looking for some concrete scenari...</td>\n",
       "      <td>&lt;iphone&gt;&lt;objective-c&gt;&lt;cocoa-touch&gt;&lt;multithread...</td>\n",
       "    </tr>\n",
       "    <tr>\n",
       "      <th>24282</th>\n",
       "      <td>Reducing size of pyinstaller exe</td>\n",
       "      <td>&lt;p&gt;I have a simple pandas pyinstaller exe whic...</td>\n",
       "      <td>&lt;python&gt;&lt;pandas&gt;&lt;selenium&gt;&lt;selenium-webdriver&gt;...</td>\n",
       "    </tr>\n",
       "    <tr>\n",
       "      <th>15399</th>\n",
       "      <td>How to check if my string is equal to null?</td>\n",
       "      <td>&lt;p&gt;I want to perform some action ONLY IF my st...</td>\n",
       "      <td>&lt;java&gt;&lt;string&gt;&lt;null&gt;&lt;equals&gt;&lt;conditional-opera...</td>\n",
       "    </tr>\n",
       "  </tbody>\n",
       "</table>\n",
       "</div>"
      ],
      "text/plain": [
       "                                                   Title  \\\n",
       "12913  What is the correct way to write HTML using Ja...   \n",
       "12204     Peculiar overload resolution with while (true)   \n",
       "642                            NSOperation on the iPhone   \n",
       "24282                   Reducing size of pyinstaller exe   \n",
       "15399        How to check if my string is equal to null?   \n",
       "\n",
       "                                                    Body  \\\n",
       "12913  <p>It seems that experienced web developers fr...   \n",
       "12204  <p>I was implementing sync/async overloads whe...   \n",
       "642    <p>I've been looking for some concrete scenari...   \n",
       "24282  <p>I have a simple pandas pyinstaller exe whic...   \n",
       "15399  <p>I want to perform some action ONLY IF my st...   \n",
       "\n",
       "                                                    Tags  \n",
       "12913  <javascript><html><dynamic><code-generation><d...  \n",
       "12204  <c#><.net><lambda><overloading><overload-resol...  \n",
       "642    <iphone><objective-c><cocoa-touch><multithread...  \n",
       "24282  <python><pandas><selenium><selenium-webdriver>...  \n",
       "15399  <java><string><null><equals><conditional-opera...  "
      ]
     },
     "execution_count": 29,
     "metadata": {},
     "output_type": "execute_result"
    }
   ],
   "source": [
    "cols = [\"Title\", \"Body\", \"Tags\"]\n",
    "df = data[cols]\n",
    "df.head()"
   ]
  },
  {
   "cell_type": "code",
   "execution_count": 30,
   "id": "108457e3",
   "metadata": {},
   "outputs": [],
   "source": [
    "# Nettoyage du texte"
   ]
  },
  {
   "cell_type": "code",
   "execution_count": 31,
   "id": "fb0bb385",
   "metadata": {},
   "outputs": [],
   "source": [
    "# Tokenizer\n",
    "import nltk\n",
    "from nltk.tokenize import sent_tokenize, word_tokenize"
   ]
  },
  {
   "cell_type": "code",
   "execution_count": 32,
   "id": "660e19b3",
   "metadata": {},
   "outputs": [],
   "source": [
    "def tokenizer_fct(sentence) :\n",
    "    # print(sentence)\n",
    "    sentence_clean = sentence.replace('-', ' ').replace('+', ' ').replace('/', ' ').replace('#', ' ')\n",
    "    word_tokens = word_tokenize(sentence_clean)\n",
    "    return word_tokens"
   ]
  },
  {
   "cell_type": "code",
   "execution_count": 33,
   "id": "583c7520",
   "metadata": {},
   "outputs": [],
   "source": [
    "# Stop words\n",
    "from nltk.corpus import stopwords\n",
    "stop_w = list(set(stopwords.words('english'))) + ['[', ']', ',', '.', ':', '?', '(', ')']\n",
    "\n",
    "def stop_word_filter_fct(list_words) :\n",
    "    filtered_w = [w for w in list_words if not w in stop_w]\n",
    "    filtered_w2 = [w for w in filtered_w if len(w) > 2]\n",
    "    return filtered_w2"
   ]
  },
  {
   "cell_type": "code",
   "execution_count": 34,
   "id": "7d598c23",
   "metadata": {},
   "outputs": [],
   "source": [
    "# lower case et alpha\n",
    "def lower_start_fct(list_words) :\n",
    "    lw = [w.lower() for w in list_words if (not w.startswith(\"@\")) \n",
    "    #                                   and (not w.startswith(\"#\"))\n",
    "                                       and (not w.startswith(\"http\"))]\n",
    "    return lw"
   ]
  },
  {
   "cell_type": "code",
   "execution_count": 35,
   "id": "af6125bd",
   "metadata": {},
   "outputs": [],
   "source": [
    "# Lemmatizer (base d'un mot)\n",
    "from nltk.stem import WordNetLemmatizer\n",
    "\n",
    "def lemma_fct(list_words) :\n",
    "    lemmatizer = WordNetLemmatizer()\n",
    "    lem_w = [lemmatizer.lemmatize(w) for w in list_words]\n",
    "    return lem_w"
   ]
  },
  {
   "cell_type": "code",
   "execution_count": 36,
   "id": "02bede4e",
   "metadata": {},
   "outputs": [],
   "source": [
    "# Fonction de préparation du texte pour le bag of words (Countvectorizer et Tf_idf, Word2Vec)\n",
    "def transform_bow_fct(desc_text) :\n",
    "    word_tokens = tokenizer_fct(desc_text)\n",
    "    sw = stop_word_filter_fct(word_tokens)\n",
    "    lw = lower_start_fct(sw)\n",
    "    # lem_w = lemma_fct(lw)    \n",
    "    transf_desc_text = ' '.join(lw)\n",
    "    return transf_desc_text"
   ]
  },
  {
   "cell_type": "code",
   "execution_count": 37,
   "id": "fcb14424",
   "metadata": {},
   "outputs": [],
   "source": [
    "# Fonction de préparation du texte pour le bag of words avec lemmatization\n",
    "def transform_bow_lem_fct(desc_text) :\n",
    "    word_tokens = tokenizer_fct(desc_text)\n",
    "    sw = stop_word_filter_fct(word_tokens)\n",
    "    lw = lower_start_fct(sw)\n",
    "    lem_w = lemma_fct(lw)    \n",
    "    transf_desc_text = ' '.join(lem_w)\n",
    "    return transf_desc_text"
   ]
  },
  {
   "cell_type": "code",
   "execution_count": 38,
   "id": "e0f4a910",
   "metadata": {},
   "outputs": [],
   "source": [
    "# Fonction de préparation du texte pour le Deep learning (USE et BERT)\n",
    "def transform_dl_fct(desc_text) :\n",
    "    word_tokens = tokenizer_fct(desc_text)\n",
    "#    sw = stop_word_filter_fct(word_tokens)\n",
    "    lw = lower_start_fct(word_tokens)\n",
    "    # lem_w = lemma_fct(lw)    \n",
    "    transf_desc_text = ' '.join(lw)\n",
    "    return transf_desc_text"
   ]
  },
  {
   "cell_type": "code",
   "execution_count": 39,
   "id": "c8cbbf63",
   "metadata": {},
   "outputs": [
    {
     "name": "stderr",
     "output_type": "stream",
     "text": [
      "/tmp/ipykernel_712/3099865619.py:1: SettingWithCopyWarning: \n",
      "A value is trying to be set on a copy of a slice from a DataFrame.\n",
      "Try using .loc[row_indexer,col_indexer] = value instead\n",
      "\n",
      "See the caveats in the documentation: https://pandas.pydata.org/pandas-docs/stable/user_guide/indexing.html#returning-a-view-versus-a-copy\n",
      "  df['sentence_bow'] = df['Body'].apply(lambda x : transform_bow_fct(x))\n"
     ]
    }
   ],
   "source": [
    "df['sentence_bow'] = df['Body'].apply(lambda x : transform_bow_fct(x))"
   ]
  },
  {
   "cell_type": "code",
   "execution_count": 40,
   "id": "516b9699",
   "metadata": {},
   "outputs": [],
   "source": [
    "#!pip install spacy"
   ]
  },
  {
   "cell_type": "code",
   "execution_count": 41,
   "id": "6c0b8351",
   "metadata": {},
   "outputs": [],
   "source": [
    "#! python -m spacy download en_core_web_sm"
   ]
  },
  {
   "cell_type": "code",
   "execution_count": 42,
   "id": "cf444484",
   "metadata": {
    "scrolled": true
   },
   "outputs": [
    {
     "name": "stderr",
     "output_type": "stream",
     "text": [
      "2022-11-04 12:45:59.700616: W tensorflow/stream_executor/platform/default/dso_loader.cc:64] Could not load dynamic library 'libcuda.so.1'; dlerror: libcuda.so.1: cannot open shared object file: No such file or directory\n",
      "2022-11-04 12:45:59.700781: W tensorflow/stream_executor/cuda/cuda_driver.cc:269] failed call to cuInit: UNKNOWN ERROR (303)\n",
      "2022-11-04 12:45:59.700805: I tensorflow/stream_executor/cuda/cuda_diagnostics.cc:156] kernel driver does not appear to be running on this host (PingLapTop): /proc/driver/nvidia/version does not exist\n"
     ]
    }
   ],
   "source": [
    "import spacy\n",
    "import en_core_web_sm"
   ]
  },
  {
   "cell_type": "code",
   "execution_count": 43,
   "id": "f979a6e6",
   "metadata": {},
   "outputs": [
    {
     "name": "stderr",
     "output_type": "stream",
     "text": [
      "/home/ping/.pyenv/versions/3.8.12/envs/lewagon/lib/python3.8/site-packages/spacy/language.py:1895: UserWarning: [W123] Argument disable with value [] is used instead of ['senter'] as specified in the config. Be aware that this might affect other components in your pipeline.\n",
      "  warnings.warn(\n"
     ]
    }
   ],
   "source": [
    "nlp_en = en_core_web_sm.load()"
   ]
  },
  {
   "cell_type": "code",
   "execution_count": 44,
   "id": "dc7b228e",
   "metadata": {},
   "outputs": [],
   "source": [
    "#df['sentence_bow_lem'] = df['Body'].apply(lambda x : transform_bow_lem_fct(x))"
   ]
  },
  {
   "cell_type": "code",
   "execution_count": 45,
   "id": "490bea02",
   "metadata": {},
   "outputs": [],
   "source": [
    "#test = df.head(10)"
   ]
  },
  {
   "cell_type": "code",
   "execution_count": 46,
   "id": "de7410e7",
   "metadata": {},
   "outputs": [],
   "source": [
    "#test['sentence_bow_lem'] = test['sentence_bow'].apply(lambda x : \" \".join([token.lemma_ for token in nlp_en(x)\n",
    "                                                                  #if(token.pos_ in[\"NOUN\",\"PROPN\"])\n",
    "                                                                  #]))"
   ]
  },
  {
   "cell_type": "code",
   "execution_count": 47,
   "id": "a5e9c117",
   "metadata": {},
   "outputs": [
    {
     "name": "stderr",
     "output_type": "stream",
     "text": [
      "/tmp/ipykernel_712/3868457659.py:1: SettingWithCopyWarning: \n",
      "A value is trying to be set on a copy of a slice from a DataFrame.\n",
      "Try using .loc[row_indexer,col_indexer] = value instead\n",
      "\n",
      "See the caveats in the documentation: https://pandas.pydata.org/pandas-docs/stable/user_guide/indexing.html#returning-a-view-versus-a-copy\n",
      "  df['sentence_bow_lem'] = df['sentence_bow'].apply(lambda x : \" \".join([token.lemma_ for token in nlp_en(x)\n"
     ]
    }
   ],
   "source": [
    "df['sentence_bow_lem'] = df['sentence_bow'].apply(lambda x : \" \".join([token.lemma_ for token in nlp_en(x)\n",
    "                                                                  if(token.pos_ in[\"NOUN\",\"PROPN\"])\n",
    "                                                                  ]))"
   ]
  },
  {
   "cell_type": "code",
   "execution_count": 48,
   "id": "ca8d3839",
   "metadata": {},
   "outputs": [
    {
     "data": {
      "text/html": [
       "<div>\n",
       "<style scoped>\n",
       "    .dataframe tbody tr th:only-of-type {\n",
       "        vertical-align: middle;\n",
       "    }\n",
       "\n",
       "    .dataframe tbody tr th {\n",
       "        vertical-align: top;\n",
       "    }\n",
       "\n",
       "    .dataframe thead th {\n",
       "        text-align: right;\n",
       "    }\n",
       "</style>\n",
       "<table border=\"1\" class=\"dataframe\">\n",
       "  <thead>\n",
       "    <tr style=\"text-align: right;\">\n",
       "      <th></th>\n",
       "      <th>Title</th>\n",
       "      <th>Body</th>\n",
       "      <th>Tags</th>\n",
       "      <th>sentence_bow</th>\n",
       "      <th>sentence_bow_lem</th>\n",
       "    </tr>\n",
       "  </thead>\n",
       "  <tbody>\n",
       "    <tr>\n",
       "      <th>12913</th>\n",
       "      <td>What is the correct way to write HTML using Ja...</td>\n",
       "      <td>&lt;p&gt;It seems that experienced web developers fr...</td>\n",
       "      <td>&lt;javascript&gt;&lt;html&gt;&lt;dynamic&gt;&lt;code-generation&gt;&lt;d...</td>\n",
       "      <td>seems experienced web developers frown upon us...</td>\n",
       "      <td>web developer code document.write code javascr...</td>\n",
       "    </tr>\n",
       "    <tr>\n",
       "      <th>12204</th>\n",
       "      <td>Peculiar overload resolution with while (true)</td>\n",
       "      <td>&lt;p&gt;I was implementing sync/async overloads whe...</td>\n",
       "      <td>&lt;c#&gt;&lt;.net&gt;&lt;lambda&gt;&lt;overloading&gt;&lt;overload-resol...</td>\n",
       "      <td>implementing sync async overloads came across ...</td>\n",
       "      <td>sync async overload situation expression param...</td>\n",
       "    </tr>\n",
       "    <tr>\n",
       "      <th>642</th>\n",
       "      <td>NSOperation on the iPhone</td>\n",
       "      <td>&lt;p&gt;I've been looking for some concrete scenari...</td>\n",
       "      <td>&lt;iphone&gt;&lt;objective-c&gt;&lt;cocoa-touch&gt;&lt;multithread...</td>\n",
       "      <td>'ve looking concrete scenarios code nsoperatio...</td>\n",
       "      <td>scenario nsoperation code iphone tool applicat...</td>\n",
       "    </tr>\n",
       "    <tr>\n",
       "      <th>24282</th>\n",
       "      <td>Reducing size of pyinstaller exe</td>\n",
       "      <td>&lt;p&gt;I have a simple pandas pyinstaller exe whic...</td>\n",
       "      <td>&lt;python&gt;&lt;pandas&gt;&lt;selenium&gt;&lt;selenium-webdriver&gt;...</td>\n",
       "      <td>simple pandas pyinstaller exe 40mb. exe exampl...</td>\n",
       "      <td>panda pyinstaller exe mb exe example import co...</td>\n",
       "    </tr>\n",
       "    <tr>\n",
       "      <th>15399</th>\n",
       "      <td>How to check if my string is equal to null?</td>\n",
       "      <td>&lt;p&gt;I want to perform some action ONLY IF my st...</td>\n",
       "      <td>&lt;java&gt;&lt;string&gt;&lt;null&gt;&lt;equals&gt;&lt;conditional-opera...</td>\n",
       "      <td>want perform action only string meaningful val...</td>\n",
       "      <td>perform action value pre code mystring.equal c...</td>\n",
       "    </tr>\n",
       "    <tr>\n",
       "      <th>...</th>\n",
       "      <td>...</td>\n",
       "      <td>...</td>\n",
       "      <td>...</td>\n",
       "      <td>...</td>\n",
       "      <td>...</td>\n",
       "    </tr>\n",
       "    <tr>\n",
       "      <th>11974</th>\n",
       "      <td>How to eliminate the \"maven-enforcer-plugin (g...</td>\n",
       "      <td>&lt;p&gt;I am configuring a multi-module parent chil...</td>\n",
       "      <td>&lt;eclipse&gt;&lt;maven&gt;&lt;maven-3&gt;&lt;m2eclipse&gt;&lt;m2e&gt;</td>\n",
       "      <td>configuring multi module parent child maven pr...</td>\n",
       "      <td>multi module parent child maven project maven ...</td>\n",
       "    </tr>\n",
       "    <tr>\n",
       "      <th>18726</th>\n",
       "      <td>Merge two dataframes by index</td>\n",
       "      <td>&lt;p&gt;I have the following dataframes:&lt;/p&gt;\\n&lt;pre&gt;...</td>\n",
       "      <td>&lt;python&gt;&lt;pandas&gt;&lt;dataframe&gt;&lt;merge&gt;&lt;concat&gt;</td>\n",
       "      <td>following dataframes pre code df1 begin condit...</td>\n",
       "      <td>dataframe pre code df1 confidence df2 concept ...</td>\n",
       "    </tr>\n",
       "    <tr>\n",
       "      <th>14825</th>\n",
       "      <td>Inherit from a generic base class, apply a con...</td>\n",
       "      <td>&lt;p&gt;This is a syntax question. I have a generic...</td>\n",
       "      <td>&lt;c#&gt;&lt;generics&gt;&lt;inheritance&gt;&lt;interface&gt;&lt;constra...</td>\n",
       "      <td>this syntax question generic class inheriting ...</td>\n",
       "      <td>syntax question class base class constraint ty...</td>\n",
       "    </tr>\n",
       "    <tr>\n",
       "      <th>20952</th>\n",
       "      <td>How does weak_ptr work?</td>\n",
       "      <td>&lt;p&gt;I understand how to use &lt;code&gt;weak_ptr&lt;/cod...</td>\n",
       "      <td>&lt;c++&gt;&lt;boost&gt;&lt;weak-references&gt;&lt;tr1&gt;&lt;weak-ptr&gt;</td>\n",
       "      <td>understand use code weak_ptr code code shared_...</td>\n",
       "      <td>use code weak_ptr code code shared_ptr code co...</td>\n",
       "    </tr>\n",
       "    <tr>\n",
       "      <th>13108</th>\n",
       "      <td>Laravel: How to get last N entries from DB</td>\n",
       "      <td>&lt;p&gt;I have table of dogs in my DB and I want to...</td>\n",
       "      <td>&lt;php&gt;&lt;database&gt;&lt;laravel&gt;&lt;laravel-4&gt;&lt;eloquent&gt;</td>\n",
       "      <td>table dogs want retrieve strong code latest ad...</td>\n",
       "      <td>table dog code dog way code time code way exam...</td>\n",
       "    </tr>\n",
       "  </tbody>\n",
       "</table>\n",
       "<p>3000 rows × 5 columns</p>\n",
       "</div>"
      ],
      "text/plain": [
       "                                                   Title  \\\n",
       "12913  What is the correct way to write HTML using Ja...   \n",
       "12204     Peculiar overload resolution with while (true)   \n",
       "642                            NSOperation on the iPhone   \n",
       "24282                   Reducing size of pyinstaller exe   \n",
       "15399        How to check if my string is equal to null?   \n",
       "...                                                  ...   \n",
       "11974  How to eliminate the \"maven-enforcer-plugin (g...   \n",
       "18726                      Merge two dataframes by index   \n",
       "14825  Inherit from a generic base class, apply a con...   \n",
       "20952                            How does weak_ptr work?   \n",
       "13108         Laravel: How to get last N entries from DB   \n",
       "\n",
       "                                                    Body  \\\n",
       "12913  <p>It seems that experienced web developers fr...   \n",
       "12204  <p>I was implementing sync/async overloads whe...   \n",
       "642    <p>I've been looking for some concrete scenari...   \n",
       "24282  <p>I have a simple pandas pyinstaller exe whic...   \n",
       "15399  <p>I want to perform some action ONLY IF my st...   \n",
       "...                                                  ...   \n",
       "11974  <p>I am configuring a multi-module parent chil...   \n",
       "18726  <p>I have the following dataframes:</p>\\n<pre>...   \n",
       "14825  <p>This is a syntax question. I have a generic...   \n",
       "20952  <p>I understand how to use <code>weak_ptr</cod...   \n",
       "13108  <p>I have table of dogs in my DB and I want to...   \n",
       "\n",
       "                                                    Tags  \\\n",
       "12913  <javascript><html><dynamic><code-generation><d...   \n",
       "12204  <c#><.net><lambda><overloading><overload-resol...   \n",
       "642    <iphone><objective-c><cocoa-touch><multithread...   \n",
       "24282  <python><pandas><selenium><selenium-webdriver>...   \n",
       "15399  <java><string><null><equals><conditional-opera...   \n",
       "...                                                  ...   \n",
       "11974          <eclipse><maven><maven-3><m2eclipse><m2e>   \n",
       "18726         <python><pandas><dataframe><merge><concat>   \n",
       "14825  <c#><generics><inheritance><interface><constra...   \n",
       "20952       <c++><boost><weak-references><tr1><weak-ptr>   \n",
       "13108      <php><database><laravel><laravel-4><eloquent>   \n",
       "\n",
       "                                            sentence_bow  \\\n",
       "12913  seems experienced web developers frown upon us...   \n",
       "12204  implementing sync async overloads came across ...   \n",
       "642    've looking concrete scenarios code nsoperatio...   \n",
       "24282  simple pandas pyinstaller exe 40mb. exe exampl...   \n",
       "15399  want perform action only string meaningful val...   \n",
       "...                                                  ...   \n",
       "11974  configuring multi module parent child maven pr...   \n",
       "18726  following dataframes pre code df1 begin condit...   \n",
       "14825  this syntax question generic class inheriting ...   \n",
       "20952  understand use code weak_ptr code code shared_...   \n",
       "13108  table dogs want retrieve strong code latest ad...   \n",
       "\n",
       "                                        sentence_bow_lem  \n",
       "12913  web developer code document.write code javascr...  \n",
       "12204  sync async overload situation expression param...  \n",
       "642    scenario nsoperation code iphone tool applicat...  \n",
       "24282  panda pyinstaller exe mb exe example import co...  \n",
       "15399  perform action value pre code mystring.equal c...  \n",
       "...                                                  ...  \n",
       "11974  multi module parent child maven project maven ...  \n",
       "18726  dataframe pre code df1 confidence df2 concept ...  \n",
       "14825  syntax question class base class constraint ty...  \n",
       "20952  use code weak_ptr code code shared_ptr code co...  \n",
       "13108  table dog code dog way code time code way exam...  \n",
       "\n",
       "[3000 rows x 5 columns]"
      ]
     },
     "execution_count": 48,
     "metadata": {},
     "output_type": "execute_result"
    }
   ],
   "source": [
    "df"
   ]
  },
  {
   "cell_type": "code",
   "execution_count": 49,
   "id": "f6c0ff65",
   "metadata": {},
   "outputs": [
    {
     "name": "stderr",
     "output_type": "stream",
     "text": [
      "/tmp/ipykernel_712/2478937032.py:1: SettingWithCopyWarning: \n",
      "A value is trying to be set on a copy of a slice from a DataFrame.\n",
      "Try using .loc[row_indexer,col_indexer] = value instead\n",
      "\n",
      "See the caveats in the documentation: https://pandas.pydata.org/pandas-docs/stable/user_guide/indexing.html#returning-a-view-versus-a-copy\n",
      "  df['clean_tag'] = df['Tags'].apply(lambda x : transform_dl_fct(x))\n"
     ]
    },
    {
     "data": {
      "text/plain": [
       "(3000, 6)"
      ]
     },
     "execution_count": 49,
     "metadata": {},
     "output_type": "execute_result"
    }
   ],
   "source": [
    "df['clean_tag'] = df['Tags'].apply(lambda x : transform_dl_fct(x))\n",
    "df.shape"
   ]
  },
  {
   "cell_type": "code",
   "execution_count": 50,
   "id": "93916387",
   "metadata": {},
   "outputs": [
    {
     "name": "stderr",
     "output_type": "stream",
     "text": [
      "/tmp/ipykernel_712/2823198897.py:1: SettingWithCopyWarning: \n",
      "A value is trying to be set on a copy of a slice from a DataFrame.\n",
      "Try using .loc[row_indexer,col_indexer] = value instead\n",
      "\n",
      "See the caveats in the documentation: https://pandas.pydata.org/pandas-docs/stable/user_guide/indexing.html#returning-a-view-versus-a-copy\n",
      "  df['clean_tag_lem'] = df['clean_tag'].apply(lambda x : \" \".join([token.lemma_ for token in nlp_en(x)\n"
     ]
    }
   ],
   "source": [
    "df['clean_tag_lem'] = df['clean_tag'].apply(lambda x : \" \".join([token.lemma_ for token in nlp_en(x)\n",
    "                                                                  if(token.pos_ in[\"NOUN\",\"PROPN\"])\n",
    "                                                                  ]))"
   ]
  },
  {
   "cell_type": "code",
   "execution_count": 51,
   "id": "7d49804a",
   "metadata": {},
   "outputs": [
    {
     "data": {
      "text/html": [
       "<div>\n",
       "<style scoped>\n",
       "    .dataframe tbody tr th:only-of-type {\n",
       "        vertical-align: middle;\n",
       "    }\n",
       "\n",
       "    .dataframe tbody tr th {\n",
       "        vertical-align: top;\n",
       "    }\n",
       "\n",
       "    .dataframe thead th {\n",
       "        text-align: right;\n",
       "    }\n",
       "</style>\n",
       "<table border=\"1\" class=\"dataframe\">\n",
       "  <thead>\n",
       "    <tr style=\"text-align: right;\">\n",
       "      <th></th>\n",
       "      <th>Title</th>\n",
       "      <th>Body</th>\n",
       "      <th>Tags</th>\n",
       "      <th>sentence_bow</th>\n",
       "      <th>sentence_bow_lem</th>\n",
       "      <th>clean_tag</th>\n",
       "      <th>clean_tag_lem</th>\n",
       "    </tr>\n",
       "  </thead>\n",
       "  <tbody>\n",
       "    <tr>\n",
       "      <th>12913</th>\n",
       "      <td>What is the correct way to write HTML using Ja...</td>\n",
       "      <td>&lt;p&gt;It seems that experienced web developers fr...</td>\n",
       "      <td>&lt;javascript&gt;&lt;html&gt;&lt;dynamic&gt;&lt;code-generation&gt;&lt;d...</td>\n",
       "      <td>seems experienced web developers frown upon us...</td>\n",
       "      <td>web developer code document.write code javascr...</td>\n",
       "      <td>&lt; javascript &gt; &lt; html &gt; &lt; dynamic &gt; &lt; code gen...</td>\n",
       "      <td>javascript html code generation</td>\n",
       "    </tr>\n",
       "    <tr>\n",
       "      <th>12204</th>\n",
       "      <td>Peculiar overload resolution with while (true)</td>\n",
       "      <td>&lt;p&gt;I was implementing sync/async overloads whe...</td>\n",
       "      <td>&lt;c#&gt;&lt;.net&gt;&lt;lambda&gt;&lt;overloading&gt;&lt;overload-resol...</td>\n",
       "      <td>implementing sync async overloads came across ...</td>\n",
       "      <td>sync async overload situation expression param...</td>\n",
       "      <td>&lt; c &gt; &lt; .net &gt; &lt; lambda &gt; &lt; overloading &gt; &lt; ov...</td>\n",
       "      <td>.net overload resolution</td>\n",
       "    </tr>\n",
       "    <tr>\n",
       "      <th>642</th>\n",
       "      <td>NSOperation on the iPhone</td>\n",
       "      <td>&lt;p&gt;I've been looking for some concrete scenari...</td>\n",
       "      <td>&lt;iphone&gt;&lt;objective-c&gt;&lt;cocoa-touch&gt;&lt;multithread...</td>\n",
       "      <td>'ve looking concrete scenarios code nsoperatio...</td>\n",
       "      <td>scenario nsoperation code iphone tool applicat...</td>\n",
       "      <td>&lt; iphone &gt; &lt; objective c &gt; &lt; cocoa touch &gt; &lt; m...</td>\n",
       "      <td>iphone objective c cocoa touch nsoperation</td>\n",
       "    </tr>\n",
       "    <tr>\n",
       "      <th>24282</th>\n",
       "      <td>Reducing size of pyinstaller exe</td>\n",
       "      <td>&lt;p&gt;I have a simple pandas pyinstaller exe whic...</td>\n",
       "      <td>&lt;python&gt;&lt;pandas&gt;&lt;selenium&gt;&lt;selenium-webdriver&gt;...</td>\n",
       "      <td>simple pandas pyinstaller exe 40mb. exe exampl...</td>\n",
       "      <td>panda pyinstaller exe mb exe example import co...</td>\n",
       "      <td>&lt; python &gt; &lt; pandas &gt; &lt; selenium &gt; &lt; selenium ...</td>\n",
       "      <td>selenium selenium webdriver</td>\n",
       "    </tr>\n",
       "    <tr>\n",
       "      <th>15399</th>\n",
       "      <td>How to check if my string is equal to null?</td>\n",
       "      <td>&lt;p&gt;I want to perform some action ONLY IF my st...</td>\n",
       "      <td>&lt;java&gt;&lt;string&gt;&lt;null&gt;&lt;equals&gt;&lt;conditional-opera...</td>\n",
       "      <td>want perform action only string meaningful val...</td>\n",
       "      <td>perform action value pre code mystring.equal c...</td>\n",
       "      <td>&lt; java &gt; &lt; string &gt; &lt; null &gt; &lt; equals &gt; &lt; cond...</td>\n",
       "      <td>string operator</td>\n",
       "    </tr>\n",
       "    <tr>\n",
       "      <th>...</th>\n",
       "      <td>...</td>\n",
       "      <td>...</td>\n",
       "      <td>...</td>\n",
       "      <td>...</td>\n",
       "      <td>...</td>\n",
       "      <td>...</td>\n",
       "      <td>...</td>\n",
       "    </tr>\n",
       "    <tr>\n",
       "      <th>11974</th>\n",
       "      <td>How to eliminate the \"maven-enforcer-plugin (g...</td>\n",
       "      <td>&lt;p&gt;I am configuring a multi-module parent chil...</td>\n",
       "      <td>&lt;eclipse&gt;&lt;maven&gt;&lt;maven-3&gt;&lt;m2eclipse&gt;&lt;m2e&gt;</td>\n",
       "      <td>configuring multi module parent child maven pr...</td>\n",
       "      <td>multi module parent child maven project maven ...</td>\n",
       "      <td>&lt; eclipse &gt; &lt; maven &gt; &lt; maven 3 &gt; &lt; m2eclipse ...</td>\n",
       "      <td>eclipse m2eclipse m2e</td>\n",
       "    </tr>\n",
       "    <tr>\n",
       "      <th>18726</th>\n",
       "      <td>Merge two dataframes by index</td>\n",
       "      <td>&lt;p&gt;I have the following dataframes:&lt;/p&gt;\\n&lt;pre&gt;...</td>\n",
       "      <td>&lt;python&gt;&lt;pandas&gt;&lt;dataframe&gt;&lt;merge&gt;&lt;concat&gt;</td>\n",
       "      <td>following dataframes pre code df1 begin condit...</td>\n",
       "      <td>dataframe pre code df1 confidence df2 concept ...</td>\n",
       "      <td>&lt; python &gt; &lt; pandas &gt; &lt; dataframe &gt; &lt; merge &gt; ...</td>\n",
       "      <td>concat</td>\n",
       "    </tr>\n",
       "    <tr>\n",
       "      <th>14825</th>\n",
       "      <td>Inherit from a generic base class, apply a con...</td>\n",
       "      <td>&lt;p&gt;This is a syntax question. I have a generic...</td>\n",
       "      <td>&lt;c#&gt;&lt;generics&gt;&lt;inheritance&gt;&lt;interface&gt;&lt;constra...</td>\n",
       "      <td>this syntax question generic class inheriting ...</td>\n",
       "      <td>syntax question class base class constraint ty...</td>\n",
       "      <td>&lt; c &gt; &lt; generics &gt; &lt; inheritance &gt; &lt; interface...</td>\n",
       "      <td>generic inheritance interface constraint</td>\n",
       "    </tr>\n",
       "    <tr>\n",
       "      <th>20952</th>\n",
       "      <td>How does weak_ptr work?</td>\n",
       "      <td>&lt;p&gt;I understand how to use &lt;code&gt;weak_ptr&lt;/cod...</td>\n",
       "      <td>&lt;c++&gt;&lt;boost&gt;&lt;weak-references&gt;&lt;tr1&gt;&lt;weak-ptr&gt;</td>\n",
       "      <td>understand use code weak_ptr code code shared_...</td>\n",
       "      <td>use code weak_ptr code code shared_ptr code co...</td>\n",
       "      <td>&lt; c &gt; &lt; boost &gt; &lt; weak references &gt; &lt; tr1 &gt; &lt; ...</td>\n",
       "      <td>reference ptr</td>\n",
       "    </tr>\n",
       "    <tr>\n",
       "      <th>13108</th>\n",
       "      <td>Laravel: How to get last N entries from DB</td>\n",
       "      <td>&lt;p&gt;I have table of dogs in my DB and I want to...</td>\n",
       "      <td>&lt;php&gt;&lt;database&gt;&lt;laravel&gt;&lt;laravel-4&gt;&lt;eloquent&gt;</td>\n",
       "      <td>table dogs want retrieve strong code latest ad...</td>\n",
       "      <td>table dog code dog way code time code way exam...</td>\n",
       "      <td>&lt; php &gt; &lt; database &gt; &lt; laravel &gt; &lt; laravel 4 &gt;...</td>\n",
       "      <td>database laravel laravel</td>\n",
       "    </tr>\n",
       "  </tbody>\n",
       "</table>\n",
       "<p>3000 rows × 7 columns</p>\n",
       "</div>"
      ],
      "text/plain": [
       "                                                   Title  \\\n",
       "12913  What is the correct way to write HTML using Ja...   \n",
       "12204     Peculiar overload resolution with while (true)   \n",
       "642                            NSOperation on the iPhone   \n",
       "24282                   Reducing size of pyinstaller exe   \n",
       "15399        How to check if my string is equal to null?   \n",
       "...                                                  ...   \n",
       "11974  How to eliminate the \"maven-enforcer-plugin (g...   \n",
       "18726                      Merge two dataframes by index   \n",
       "14825  Inherit from a generic base class, apply a con...   \n",
       "20952                            How does weak_ptr work?   \n",
       "13108         Laravel: How to get last N entries from DB   \n",
       "\n",
       "                                                    Body  \\\n",
       "12913  <p>It seems that experienced web developers fr...   \n",
       "12204  <p>I was implementing sync/async overloads whe...   \n",
       "642    <p>I've been looking for some concrete scenari...   \n",
       "24282  <p>I have a simple pandas pyinstaller exe whic...   \n",
       "15399  <p>I want to perform some action ONLY IF my st...   \n",
       "...                                                  ...   \n",
       "11974  <p>I am configuring a multi-module parent chil...   \n",
       "18726  <p>I have the following dataframes:</p>\\n<pre>...   \n",
       "14825  <p>This is a syntax question. I have a generic...   \n",
       "20952  <p>I understand how to use <code>weak_ptr</cod...   \n",
       "13108  <p>I have table of dogs in my DB and I want to...   \n",
       "\n",
       "                                                    Tags  \\\n",
       "12913  <javascript><html><dynamic><code-generation><d...   \n",
       "12204  <c#><.net><lambda><overloading><overload-resol...   \n",
       "642    <iphone><objective-c><cocoa-touch><multithread...   \n",
       "24282  <python><pandas><selenium><selenium-webdriver>...   \n",
       "15399  <java><string><null><equals><conditional-opera...   \n",
       "...                                                  ...   \n",
       "11974          <eclipse><maven><maven-3><m2eclipse><m2e>   \n",
       "18726         <python><pandas><dataframe><merge><concat>   \n",
       "14825  <c#><generics><inheritance><interface><constra...   \n",
       "20952       <c++><boost><weak-references><tr1><weak-ptr>   \n",
       "13108      <php><database><laravel><laravel-4><eloquent>   \n",
       "\n",
       "                                            sentence_bow  \\\n",
       "12913  seems experienced web developers frown upon us...   \n",
       "12204  implementing sync async overloads came across ...   \n",
       "642    've looking concrete scenarios code nsoperatio...   \n",
       "24282  simple pandas pyinstaller exe 40mb. exe exampl...   \n",
       "15399  want perform action only string meaningful val...   \n",
       "...                                                  ...   \n",
       "11974  configuring multi module parent child maven pr...   \n",
       "18726  following dataframes pre code df1 begin condit...   \n",
       "14825  this syntax question generic class inheriting ...   \n",
       "20952  understand use code weak_ptr code code shared_...   \n",
       "13108  table dogs want retrieve strong code latest ad...   \n",
       "\n",
       "                                        sentence_bow_lem  \\\n",
       "12913  web developer code document.write code javascr...   \n",
       "12204  sync async overload situation expression param...   \n",
       "642    scenario nsoperation code iphone tool applicat...   \n",
       "24282  panda pyinstaller exe mb exe example import co...   \n",
       "15399  perform action value pre code mystring.equal c...   \n",
       "...                                                  ...   \n",
       "11974  multi module parent child maven project maven ...   \n",
       "18726  dataframe pre code df1 confidence df2 concept ...   \n",
       "14825  syntax question class base class constraint ty...   \n",
       "20952  use code weak_ptr code code shared_ptr code co...   \n",
       "13108  table dog code dog way code time code way exam...   \n",
       "\n",
       "                                               clean_tag  \\\n",
       "12913  < javascript > < html > < dynamic > < code gen...   \n",
       "12204  < c > < .net > < lambda > < overloading > < ov...   \n",
       "642    < iphone > < objective c > < cocoa touch > < m...   \n",
       "24282  < python > < pandas > < selenium > < selenium ...   \n",
       "15399  < java > < string > < null > < equals > < cond...   \n",
       "...                                                  ...   \n",
       "11974  < eclipse > < maven > < maven 3 > < m2eclipse ...   \n",
       "18726  < python > < pandas > < dataframe > < merge > ...   \n",
       "14825  < c > < generics > < inheritance > < interface...   \n",
       "20952  < c > < boost > < weak references > < tr1 > < ...   \n",
       "13108  < php > < database > < laravel > < laravel 4 >...   \n",
       "\n",
       "                                    clean_tag_lem  \n",
       "12913             javascript html code generation  \n",
       "12204                    .net overload resolution  \n",
       "642    iphone objective c cocoa touch nsoperation  \n",
       "24282                 selenium selenium webdriver  \n",
       "15399                             string operator  \n",
       "...                                           ...  \n",
       "11974                       eclipse m2eclipse m2e  \n",
       "18726                                      concat  \n",
       "14825    generic inheritance interface constraint  \n",
       "20952                               reference ptr  \n",
       "13108                    database laravel laravel  \n",
       "\n",
       "[3000 rows x 7 columns]"
      ]
     },
     "execution_count": 51,
     "metadata": {},
     "output_type": "execute_result"
    }
   ],
   "source": [
    "df"
   ]
  },
  {
   "cell_type": "code",
   "execution_count": 52,
   "id": "238df4fc",
   "metadata": {},
   "outputs": [],
   "source": [
    "## Drop NaN"
   ]
  },
  {
   "cell_type": "code",
   "execution_count": 53,
   "id": "fed61f56",
   "metadata": {},
   "outputs": [
    {
     "data": {
      "text/plain": [
       "Title               0.0\n",
       "Body                0.0\n",
       "Tags                0.0\n",
       "sentence_bow        0.0\n",
       "sentence_bow_lem    0.0\n",
       "clean_tag           0.0\n",
       "clean_tag_lem       0.0\n",
       "dtype: float64"
      ]
     },
     "execution_count": 53,
     "metadata": {},
     "output_type": "execute_result"
    }
   ],
   "source": [
    "df.isna().mean()"
   ]
  },
  {
   "cell_type": "code",
   "execution_count": 54,
   "id": "af6967a1",
   "metadata": {},
   "outputs": [],
   "source": [
    "## Duplicated"
   ]
  },
  {
   "cell_type": "code",
   "execution_count": 55,
   "id": "a19c78a7",
   "metadata": {},
   "outputs": [
    {
     "data": {
      "text/plain": [
       "(3000, 7)"
      ]
     },
     "execution_count": 55,
     "metadata": {},
     "output_type": "execute_result"
    }
   ],
   "source": [
    "df.shape"
   ]
  },
  {
   "cell_type": "code",
   "execution_count": 56,
   "id": "4c61bf01",
   "metadata": {},
   "outputs": [
    {
     "data": {
      "text/html": [
       "<div>\n",
       "<style scoped>\n",
       "    .dataframe tbody tr th:only-of-type {\n",
       "        vertical-align: middle;\n",
       "    }\n",
       "\n",
       "    .dataframe tbody tr th {\n",
       "        vertical-align: top;\n",
       "    }\n",
       "\n",
       "    .dataframe thead th {\n",
       "        text-align: right;\n",
       "    }\n",
       "</style>\n",
       "<table border=\"1\" class=\"dataframe\">\n",
       "  <thead>\n",
       "    <tr style=\"text-align: right;\">\n",
       "      <th></th>\n",
       "      <th>Title</th>\n",
       "      <th>Body</th>\n",
       "      <th>Tags</th>\n",
       "      <th>sentence_bow</th>\n",
       "      <th>sentence_bow_lem</th>\n",
       "      <th>clean_tag</th>\n",
       "      <th>clean_tag_lem</th>\n",
       "    </tr>\n",
       "  </thead>\n",
       "  <tbody>\n",
       "    <tr>\n",
       "      <th>21569</th>\n",
       "      <td>How to set default page asp.net</td>\n",
       "      <td>&lt;p&gt;I've just published my site in my server, b...</td>\n",
       "      <td>&lt;asp.net&gt;&lt;.net&gt;&lt;asp.net-mvc&gt;&lt;asp.net-core&gt;&lt;.ne...</td>\n",
       "      <td>'ve published site server type browser www.mys...</td>\n",
       "      <td>site server type browser error http error web ...</td>\n",
       "      <td>&lt; asp.net &gt; &lt; .net &gt; &lt; asp.net mvc &gt; &lt; asp.net...</td>\n",
       "      <td>.net mvc asp.net core .net core</td>\n",
       "    </tr>\n",
       "    <tr>\n",
       "      <th>8266</th>\n",
       "      <td>Google Firestore - How to get several document...</td>\n",
       "      <td>&lt;p&gt;I am wondering if it's possible to get mult...</td>\n",
       "      <td>&lt;javascript&gt;&lt;node.js&gt;&lt;firebase&gt;&lt;google-cloud-p...</td>\n",
       "      <td>wondering possible get multiple documents list...</td>\n",
       "      <td>document list trip network call firestore data...</td>\n",
       "      <td>&lt; javascript &gt; &lt; node.js &gt; &lt; firebase &gt; &lt; goog...</td>\n",
       "      <td>javascript firebase google cloud platform goog...</td>\n",
       "    </tr>\n",
       "    <tr>\n",
       "      <th>27509</th>\n",
       "      <td>How do I add a new column to a Spark DataFrame...</td>\n",
       "      <td>&lt;p&gt;I have a Spark DataFrame (using PySpark 1.5...</td>\n",
       "      <td>&lt;python&gt;&lt;apache-spark&gt;&lt;dataframe&gt;&lt;pyspark&gt;&lt;apa...</td>\n",
       "      <td>spark dataframe using pyspark 1.5.1 would like...</td>\n",
       "      <td>spark dataframe pyspark column success pre cod...</td>\n",
       "      <td>&lt; python &gt; &lt; apache spark &gt; &lt; dataframe &gt; &lt; py...</td>\n",
       "      <td>apache spark pyspark apache spark sql</td>\n",
       "    </tr>\n",
       "    <tr>\n",
       "      <th>22950</th>\n",
       "      <td>record the computation time for each epoch in ...</td>\n",
       "      <td>&lt;p&gt;I want to compare the computation time betw...</td>\n",
       "      <td>&lt;python&gt;&lt;machine-learning&gt;&lt;neural-network&gt;&lt;dee...</td>\n",
       "      <td>want compare computation time different models...</td>\n",
       "      <td>computation time model computation time epoch ...</td>\n",
       "      <td>&lt; python &gt; &lt; machine learning &gt; &lt; neural netwo...</td>\n",
       "      <td>python machine learning network learning</td>\n",
       "    </tr>\n",
       "    <tr>\n",
       "      <th>1117</th>\n",
       "      <td>How to get plain text out of Wikipedia</td>\n",
       "      <td>&lt;p&gt;I'd like to write a script that gets the Wi...</td>\n",
       "      <td>&lt;python&gt;&lt;mediawiki&gt;&lt;wikipedia&gt;&lt;wikipedia-api&gt;&lt;...</td>\n",
       "      <td>like write script gets wikipedia description s...</td>\n",
       "      <td>write script wikipedia description section bla...</td>\n",
       "      <td>&lt; python &gt; &lt; mediawiki &gt; &lt; wikipedia &gt; &lt; wikip...</td>\n",
       "      <td>wikipedia api mediawiki api</td>\n",
       "    </tr>\n",
       "  </tbody>\n",
       "</table>\n",
       "</div>"
      ],
      "text/plain": [
       "                                                   Title  \\\n",
       "21569                    How to set default page asp.net   \n",
       "8266   Google Firestore - How to get several document...   \n",
       "27509  How do I add a new column to a Spark DataFrame...   \n",
       "22950  record the computation time for each epoch in ...   \n",
       "1117              How to get plain text out of Wikipedia   \n",
       "\n",
       "                                                    Body  \\\n",
       "21569  <p>I've just published my site in my server, b...   \n",
       "8266   <p>I am wondering if it's possible to get mult...   \n",
       "27509  <p>I have a Spark DataFrame (using PySpark 1.5...   \n",
       "22950  <p>I want to compare the computation time betw...   \n",
       "1117   <p>I'd like to write a script that gets the Wi...   \n",
       "\n",
       "                                                    Tags  \\\n",
       "21569  <asp.net><.net><asp.net-mvc><asp.net-core><.ne...   \n",
       "8266   <javascript><node.js><firebase><google-cloud-p...   \n",
       "27509  <python><apache-spark><dataframe><pyspark><apa...   \n",
       "22950  <python><machine-learning><neural-network><dee...   \n",
       "1117   <python><mediawiki><wikipedia><wikipedia-api><...   \n",
       "\n",
       "                                            sentence_bow  \\\n",
       "21569  've published site server type browser www.mys...   \n",
       "8266   wondering possible get multiple documents list...   \n",
       "27509  spark dataframe using pyspark 1.5.1 would like...   \n",
       "22950  want compare computation time different models...   \n",
       "1117   like write script gets wikipedia description s...   \n",
       "\n",
       "                                        sentence_bow_lem  \\\n",
       "21569  site server type browser error http error web ...   \n",
       "8266   document list trip network call firestore data...   \n",
       "27509  spark dataframe pyspark column success pre cod...   \n",
       "22950  computation time model computation time epoch ...   \n",
       "1117   write script wikipedia description section bla...   \n",
       "\n",
       "                                               clean_tag  \\\n",
       "21569  < asp.net > < .net > < asp.net mvc > < asp.net...   \n",
       "8266   < javascript > < node.js > < firebase > < goog...   \n",
       "27509  < python > < apache spark > < dataframe > < py...   \n",
       "22950  < python > < machine learning > < neural netwo...   \n",
       "1117   < python > < mediawiki > < wikipedia > < wikip...   \n",
       "\n",
       "                                           clean_tag_lem  \n",
       "21569                    .net mvc asp.net core .net core  \n",
       "8266   javascript firebase google cloud platform goog...  \n",
       "27509              apache spark pyspark apache spark sql  \n",
       "22950           python machine learning network learning  \n",
       "1117                         wikipedia api mediawiki api  "
      ]
     },
     "execution_count": 56,
     "metadata": {},
     "output_type": "execute_result"
    }
   ],
   "source": [
    "idx = df.duplicated(subset=\"Tags\", keep=\"first\")\n",
    "df.loc[idx, :].sort_values(\"Tags\")"
   ]
  },
  {
   "cell_type": "code",
   "execution_count": 57,
   "id": "1ea67fc4",
   "metadata": {},
   "outputs": [
    {
     "name": "stderr",
     "output_type": "stream",
     "text": [
      "/home/ping/.pyenv/versions/3.8.12/envs/lewagon/lib/python3.8/site-packages/pandas/util/_decorators.py:311: SettingWithCopyWarning: \n",
      "A value is trying to be set on a copy of a slice from a DataFrame\n",
      "\n",
      "See the caveats in the documentation: https://pandas.pydata.org/pandas-docs/stable/user_guide/indexing.html#returning-a-view-versus-a-copy\n",
      "  return func(*args, **kwargs)\n"
     ]
    }
   ],
   "source": [
    "df.drop_duplicates(subset = \"Tags\", inplace = True)"
   ]
  },
  {
   "cell_type": "code",
   "execution_count": 58,
   "id": "b3bd1ceb",
   "metadata": {},
   "outputs": [],
   "source": [
    "## Length"
   ]
  },
  {
   "cell_type": "code",
   "execution_count": 59,
   "id": "4887bd8f",
   "metadata": {},
   "outputs": [
    {
     "data": {
      "text/html": [
       "<div>\n",
       "<style scoped>\n",
       "    .dataframe tbody tr th:only-of-type {\n",
       "        vertical-align: middle;\n",
       "    }\n",
       "\n",
       "    .dataframe tbody tr th {\n",
       "        vertical-align: top;\n",
       "    }\n",
       "\n",
       "    .dataframe thead th {\n",
       "        text-align: right;\n",
       "    }\n",
       "</style>\n",
       "<table border=\"1\" class=\"dataframe\">\n",
       "  <thead>\n",
       "    <tr style=\"text-align: right;\">\n",
       "      <th></th>\n",
       "      <th>Title</th>\n",
       "      <th>Body</th>\n",
       "      <th>Tags</th>\n",
       "      <th>sentence_bow</th>\n",
       "      <th>sentence_bow_lem</th>\n",
       "      <th>clean_tag</th>\n",
       "      <th>clean_tag_lem</th>\n",
       "    </tr>\n",
       "  </thead>\n",
       "  <tbody>\n",
       "    <tr>\n",
       "      <th>count</th>\n",
       "      <td>2995</td>\n",
       "      <td>2995</td>\n",
       "      <td>2995</td>\n",
       "      <td>2995</td>\n",
       "      <td>2995</td>\n",
       "      <td>2995</td>\n",
       "      <td>2995</td>\n",
       "    </tr>\n",
       "    <tr>\n",
       "      <th>unique</th>\n",
       "      <td>2995</td>\n",
       "      <td>2995</td>\n",
       "      <td>2995</td>\n",
       "      <td>2995</td>\n",
       "      <td>2995</td>\n",
       "      <td>2995</td>\n",
       "      <td>2860</td>\n",
       "    </tr>\n",
       "    <tr>\n",
       "      <th>top</th>\n",
       "      <td>What is the correct way to write HTML using Ja...</td>\n",
       "      <td>&lt;p&gt;It seems that experienced web developers fr...</td>\n",
       "      <td>&lt;javascript&gt;&lt;html&gt;&lt;dynamic&gt;&lt;code-generation&gt;&lt;d...</td>\n",
       "      <td>seems experienced web developers frown upon us...</td>\n",
       "      <td>web developer code document.write code javascr...</td>\n",
       "      <td>&lt; javascript &gt; &lt; html &gt; &lt; dynamic &gt; &lt; code gen...</td>\n",
       "      <td></td>\n",
       "    </tr>\n",
       "    <tr>\n",
       "      <th>freq</th>\n",
       "      <td>1</td>\n",
       "      <td>1</td>\n",
       "      <td>1</td>\n",
       "      <td>1</td>\n",
       "      <td>1</td>\n",
       "      <td>1</td>\n",
       "      <td>41</td>\n",
       "    </tr>\n",
       "  </tbody>\n",
       "</table>\n",
       "</div>"
      ],
      "text/plain": [
       "                                                    Title  \\\n",
       "count                                                2995   \n",
       "unique                                               2995   \n",
       "top     What is the correct way to write HTML using Ja...   \n",
       "freq                                                    1   \n",
       "\n",
       "                                                     Body  \\\n",
       "count                                                2995   \n",
       "unique                                               2995   \n",
       "top     <p>It seems that experienced web developers fr...   \n",
       "freq                                                    1   \n",
       "\n",
       "                                                     Tags  \\\n",
       "count                                                2995   \n",
       "unique                                               2995   \n",
       "top     <javascript><html><dynamic><code-generation><d...   \n",
       "freq                                                    1   \n",
       "\n",
       "                                             sentence_bow  \\\n",
       "count                                                2995   \n",
       "unique                                               2995   \n",
       "top     seems experienced web developers frown upon us...   \n",
       "freq                                                    1   \n",
       "\n",
       "                                         sentence_bow_lem  \\\n",
       "count                                                2995   \n",
       "unique                                               2995   \n",
       "top     web developer code document.write code javascr...   \n",
       "freq                                                    1   \n",
       "\n",
       "                                                clean_tag clean_tag_lem  \n",
       "count                                                2995          2995  \n",
       "unique                                               2995          2860  \n",
       "top     < javascript > < html > < dynamic > < code gen...                \n",
       "freq                                                    1            41  "
      ]
     },
     "execution_count": 59,
     "metadata": {},
     "output_type": "execute_result"
    }
   ],
   "source": [
    "df.describe(include = \"object\")"
   ]
  },
  {
   "cell_type": "code",
   "execution_count": 60,
   "id": "27636a20",
   "metadata": {},
   "outputs": [
    {
     "data": {
      "text/plain": [
       "12913    55\n",
       "12204    46\n",
       "642      25\n",
       "24282    32\n",
       "15399    43\n",
       "         ..\n",
       "11974    99\n",
       "18726    29\n",
       "14825    87\n",
       "20952    23\n",
       "13108    42\n",
       "Name: Title, Length: 2995, dtype: int64"
      ]
     },
     "execution_count": 60,
     "metadata": {},
     "output_type": "execute_result"
    }
   ],
   "source": [
    "df.Title.apply(lambda i : len(i))"
   ]
  },
  {
   "cell_type": "code",
   "execution_count": 61,
   "id": "5445f8cd",
   "metadata": {},
   "outputs": [
    {
     "data": {
      "text/plain": [
       "12913     194\n",
       "12204     834\n",
       "642       526\n",
       "24282    1886\n",
       "15399    1022\n",
       "         ... \n",
       "11974    2168\n",
       "18726    1609\n",
       "14825     841\n",
       "20952     359\n",
       "13108     389\n",
       "Name: Body, Length: 2995, dtype: int64"
      ]
     },
     "execution_count": 61,
     "metadata": {},
     "output_type": "execute_result"
    }
   ],
   "source": [
    "df.Body.apply(lambda i : len(i))"
   ]
  },
  {
   "cell_type": "code",
   "execution_count": 62,
   "id": "f3acd5b0",
   "metadata": {
    "scrolled": true
   },
   "outputs": [
    {
     "data": {
      "text/plain": [
       "12913    60\n",
       "12204    52\n",
       "642      63\n",
       "24282    59\n",
       "15399    50\n",
       "         ..\n",
       "11974    41\n",
       "18726    42\n",
       "14825    51\n",
       "20952    44\n",
       "13108    45\n",
       "Name: Tags, Length: 2995, dtype: int64"
      ]
     },
     "execution_count": 62,
     "metadata": {},
     "output_type": "execute_result"
    }
   ],
   "source": [
    "df.Tags.apply(lambda i:len(i))"
   ]
  },
  {
   "cell_type": "code",
   "execution_count": 63,
   "id": "0fdb5bf4",
   "metadata": {},
   "outputs": [
    {
     "name": "stderr",
     "output_type": "stream",
     "text": [
      "/home/ping/.pyenv/versions/3.8.12/envs/lewagon/lib/python3.8/site-packages/seaborn/_decorators.py:36: FutureWarning: Pass the following variable as a keyword arg: x. From version 0.12, the only valid positional argument will be `data`, and passing other arguments without an explicit keyword will result in an error or misinterpretation.\n",
      "  warnings.warn(\n"
     ]
    },
    {
     "data": {
      "text/plain": [
       "<AxesSubplot:xlabel='Title'>"
      ]
     },
     "execution_count": 63,
     "metadata": {},
     "output_type": "execute_result"
    },
    {
     "data": {
      "image/png": "[encoded data removed]",
      "text/plain": [
       "<Figure size 432x288 with 1 Axes>"
      ]
     },
     "metadata": {
      "needs_background": "light"
     },
     "output_type": "display_data"
    }
   ],
   "source": [
    "tmp1 = df.Title.str.len()\n",
    "sns.boxplot(tmp1)"
   ]
  },
  {
   "cell_type": "code",
   "execution_count": 64,
   "id": "64476592",
   "metadata": {},
   "outputs": [
    {
     "name": "stderr",
     "output_type": "stream",
     "text": [
      "/home/ping/.pyenv/versions/3.8.12/envs/lewagon/lib/python3.8/site-packages/seaborn/_decorators.py:36: FutureWarning: Pass the following variable as a keyword arg: x. From version 0.12, the only valid positional argument will be `data`, and passing other arguments without an explicit keyword will result in an error or misinterpretation.\n",
      "  warnings.warn(\n"
     ]
    },
    {
     "data": {
      "text/plain": [
       "<AxesSubplot:xlabel='Body'>"
      ]
     },
     "execution_count": 64,
     "metadata": {},
     "output_type": "execute_result"
    },
    {
     "data": {
      "image/png": "[encoded data removed]",
      "text/plain": [
       "<Figure size 432x288 with 1 Axes>"
      ]
     },
     "metadata": {
      "needs_background": "light"
     },
     "output_type": "display_data"
    }
   ],
   "source": [
    "tmp2 = df.Body.str.len()\n",
    "sns.boxplot(tmp2)"
   ]
  },
  {
   "cell_type": "code",
   "execution_count": 65,
   "id": "2045af18",
   "metadata": {},
   "outputs": [
    {
     "name": "stderr",
     "output_type": "stream",
     "text": [
      "/home/ping/.pyenv/versions/3.8.12/envs/lewagon/lib/python3.8/site-packages/seaborn/_decorators.py:36: FutureWarning: Pass the following variable as a keyword arg: x. From version 0.12, the only valid positional argument will be `data`, and passing other arguments without an explicit keyword will result in an error or misinterpretation.\n",
      "  warnings.warn(\n"
     ]
    },
    {
     "data": {
      "text/plain": [
       "<AxesSubplot:xlabel='Tags'>"
      ]
     },
     "execution_count": 65,
     "metadata": {},
     "output_type": "execute_result"
    },
    {
     "data": {
      "image/png": "[encoded data removed]",
      "text/plain": [
       "<Figure size 432x288 with 1 Axes>"
      ]
     },
     "metadata": {
      "needs_background": "light"
     },
     "output_type": "display_data"
    }
   ],
   "source": [
    "tmp3 = df.Tags.str.len()\n",
    "sns.boxplot(tmp3)"
   ]
  },
  {
   "cell_type": "code",
   "execution_count": 66,
   "id": "4ee0cd4c",
   "metadata": {},
   "outputs": [
    {
     "data": {
      "text/plain": [
       "<seaborn.axisgrid.FacetGrid at 0x7f27ef50f070>"
      ]
     },
     "execution_count": 66,
     "metadata": {},
     "output_type": "execute_result"
    },
    {
     "data": {
      "image/png": "[encoded data removed]",
      "text/plain": [
       "<Figure size 360x360 with 1 Axes>"
      ]
     },
     "metadata": {
      "needs_background": "light"
     },
     "output_type": "display_data"
    }
   ],
   "source": [
    "sns.displot(tmp1)"
   ]
  },
  {
   "cell_type": "code",
   "execution_count": 67,
   "id": "e1305d74",
   "metadata": {
    "scrolled": true
   },
   "outputs": [
    {
     "name": "stderr",
     "output_type": "stream",
     "text": [
      "/tmp/ipykernel_712/2439902309.py:1: SettingWithCopyWarning: \n",
      "A value is trying to be set on a copy of a slice from a DataFrame.\n",
      "Try using .loc[row_indexer,col_indexer] = value instead\n",
      "\n",
      "See the caveats in the documentation: https://pandas.pydata.org/pandas-docs/stable/user_guide/indexing.html#returning-a-view-versus-a-copy\n",
      "  df[\"_len_Title\"]=tmp1\n"
     ]
    }
   ],
   "source": [
    "df[\"_len_Title\"]=tmp1"
   ]
  },
  {
   "cell_type": "code",
   "execution_count": 68,
   "id": "ba26b17c",
   "metadata": {},
   "outputs": [
    {
     "name": "stderr",
     "output_type": "stream",
     "text": [
      "/tmp/ipykernel_712/1139910994.py:1: SettingWithCopyWarning: \n",
      "A value is trying to be set on a copy of a slice from a DataFrame.\n",
      "Try using .loc[row_indexer,col_indexer] = value instead\n",
      "\n",
      "See the caveats in the documentation: https://pandas.pydata.org/pandas-docs/stable/user_guide/indexing.html#returning-a-view-versus-a-copy\n",
      "  df[\"_len_Body\"]=tmp2\n"
     ]
    }
   ],
   "source": [
    "df[\"_len_Body\"]=tmp2"
   ]
  },
  {
   "cell_type": "code",
   "execution_count": 69,
   "id": "02069211",
   "metadata": {
    "scrolled": false
   },
   "outputs": [
    {
     "name": "stderr",
     "output_type": "stream",
     "text": [
      "/tmp/ipykernel_712/2381150020.py:1: SettingWithCopyWarning: \n",
      "A value is trying to be set on a copy of a slice from a DataFrame.\n",
      "Try using .loc[row_indexer,col_indexer] = value instead\n",
      "\n",
      "See the caveats in the documentation: https://pandas.pydata.org/pandas-docs/stable/user_guide/indexing.html#returning-a-view-versus-a-copy\n",
      "  df[\"_len_Tags\"]=tmp3\n"
     ]
    }
   ],
   "source": [
    "df[\"_len_Tags\"]=tmp3"
   ]
  },
  {
   "cell_type": "code",
   "execution_count": 70,
   "id": "c2506b86",
   "metadata": {},
   "outputs": [
    {
     "data": {
      "text/html": [
       "<div>\n",
       "<style scoped>\n",
       "    .dataframe tbody tr th:only-of-type {\n",
       "        vertical-align: middle;\n",
       "    }\n",
       "\n",
       "    .dataframe tbody tr th {\n",
       "        vertical-align: top;\n",
       "    }\n",
       "\n",
       "    .dataframe thead th {\n",
       "        text-align: right;\n",
       "    }\n",
       "</style>\n",
       "<table border=\"1\" class=\"dataframe\">\n",
       "  <thead>\n",
       "    <tr style=\"text-align: right;\">\n",
       "      <th></th>\n",
       "      <th>Title</th>\n",
       "      <th>Body</th>\n",
       "      <th>Tags</th>\n",
       "      <th>sentence_bow</th>\n",
       "      <th>sentence_bow_lem</th>\n",
       "      <th>clean_tag</th>\n",
       "      <th>clean_tag_lem</th>\n",
       "      <th>_len_Title</th>\n",
       "      <th>_len_Body</th>\n",
       "      <th>_len_Tags</th>\n",
       "    </tr>\n",
       "  </thead>\n",
       "  <tbody>\n",
       "    <tr>\n",
       "      <th>12913</th>\n",
       "      <td>What is the correct way to write HTML using Ja...</td>\n",
       "      <td>&lt;p&gt;It seems that experienced web developers fr...</td>\n",
       "      <td>&lt;javascript&gt;&lt;html&gt;&lt;dynamic&gt;&lt;code-generation&gt;&lt;d...</td>\n",
       "      <td>seems experienced web developers frown upon us...</td>\n",
       "      <td>web developer code document.write code javascr...</td>\n",
       "      <td>&lt; javascript &gt; &lt; html &gt; &lt; dynamic &gt; &lt; code gen...</td>\n",
       "      <td>javascript html code generation</td>\n",
       "      <td>55</td>\n",
       "      <td>194</td>\n",
       "      <td>60</td>\n",
       "    </tr>\n",
       "    <tr>\n",
       "      <th>12204</th>\n",
       "      <td>Peculiar overload resolution with while (true)</td>\n",
       "      <td>&lt;p&gt;I was implementing sync/async overloads whe...</td>\n",
       "      <td>&lt;c#&gt;&lt;.net&gt;&lt;lambda&gt;&lt;overloading&gt;&lt;overload-resol...</td>\n",
       "      <td>implementing sync async overloads came across ...</td>\n",
       "      <td>sync async overload situation expression param...</td>\n",
       "      <td>&lt; c &gt; &lt; .net &gt; &lt; lambda &gt; &lt; overloading &gt; &lt; ov...</td>\n",
       "      <td>.net overload resolution</td>\n",
       "      <td>46</td>\n",
       "      <td>834</td>\n",
       "      <td>52</td>\n",
       "    </tr>\n",
       "    <tr>\n",
       "      <th>642</th>\n",
       "      <td>NSOperation on the iPhone</td>\n",
       "      <td>&lt;p&gt;I've been looking for some concrete scenari...</td>\n",
       "      <td>&lt;iphone&gt;&lt;objective-c&gt;&lt;cocoa-touch&gt;&lt;multithread...</td>\n",
       "      <td>'ve looking concrete scenarios code nsoperatio...</td>\n",
       "      <td>scenario nsoperation code iphone tool applicat...</td>\n",
       "      <td>&lt; iphone &gt; &lt; objective c &gt; &lt; cocoa touch &gt; &lt; m...</td>\n",
       "      <td>iphone objective c cocoa touch nsoperation</td>\n",
       "      <td>25</td>\n",
       "      <td>526</td>\n",
       "      <td>63</td>\n",
       "    </tr>\n",
       "    <tr>\n",
       "      <th>24282</th>\n",
       "      <td>Reducing size of pyinstaller exe</td>\n",
       "      <td>&lt;p&gt;I have a simple pandas pyinstaller exe whic...</td>\n",
       "      <td>&lt;python&gt;&lt;pandas&gt;&lt;selenium&gt;&lt;selenium-webdriver&gt;...</td>\n",
       "      <td>simple pandas pyinstaller exe 40mb. exe exampl...</td>\n",
       "      <td>panda pyinstaller exe mb exe example import co...</td>\n",
       "      <td>&lt; python &gt; &lt; pandas &gt; &lt; selenium &gt; &lt; selenium ...</td>\n",
       "      <td>selenium selenium webdriver</td>\n",
       "      <td>32</td>\n",
       "      <td>1886</td>\n",
       "      <td>59</td>\n",
       "    </tr>\n",
       "    <tr>\n",
       "      <th>15399</th>\n",
       "      <td>How to check if my string is equal to null?</td>\n",
       "      <td>&lt;p&gt;I want to perform some action ONLY IF my st...</td>\n",
       "      <td>&lt;java&gt;&lt;string&gt;&lt;null&gt;&lt;equals&gt;&lt;conditional-opera...</td>\n",
       "      <td>want perform action only string meaningful val...</td>\n",
       "      <td>perform action value pre code mystring.equal c...</td>\n",
       "      <td>&lt; java &gt; &lt; string &gt; &lt; null &gt; &lt; equals &gt; &lt; cond...</td>\n",
       "      <td>string operator</td>\n",
       "      <td>43</td>\n",
       "      <td>1022</td>\n",
       "      <td>50</td>\n",
       "    </tr>\n",
       "  </tbody>\n",
       "</table>\n",
       "</div>"
      ],
      "text/plain": [
       "                                                   Title  \\\n",
       "12913  What is the correct way to write HTML using Ja...   \n",
       "12204     Peculiar overload resolution with while (true)   \n",
       "642                            NSOperation on the iPhone   \n",
       "24282                   Reducing size of pyinstaller exe   \n",
       "15399        How to check if my string is equal to null?   \n",
       "\n",
       "                                                    Body  \\\n",
       "12913  <p>It seems that experienced web developers fr...   \n",
       "12204  <p>I was implementing sync/async overloads whe...   \n",
       "642    <p>I've been looking for some concrete scenari...   \n",
       "24282  <p>I have a simple pandas pyinstaller exe whic...   \n",
       "15399  <p>I want to perform some action ONLY IF my st...   \n",
       "\n",
       "                                                    Tags  \\\n",
       "12913  <javascript><html><dynamic><code-generation><d...   \n",
       "12204  <c#><.net><lambda><overloading><overload-resol...   \n",
       "642    <iphone><objective-c><cocoa-touch><multithread...   \n",
       "24282  <python><pandas><selenium><selenium-webdriver>...   \n",
       "15399  <java><string><null><equals><conditional-opera...   \n",
       "\n",
       "                                            sentence_bow  \\\n",
       "12913  seems experienced web developers frown upon us...   \n",
       "12204  implementing sync async overloads came across ...   \n",
       "642    've looking concrete scenarios code nsoperatio...   \n",
       "24282  simple pandas pyinstaller exe 40mb. exe exampl...   \n",
       "15399  want perform action only string meaningful val...   \n",
       "\n",
       "                                        sentence_bow_lem  \\\n",
       "12913  web developer code document.write code javascr...   \n",
       "12204  sync async overload situation expression param...   \n",
       "642    scenario nsoperation code iphone tool applicat...   \n",
       "24282  panda pyinstaller exe mb exe example import co...   \n",
       "15399  perform action value pre code mystring.equal c...   \n",
       "\n",
       "                                               clean_tag  \\\n",
       "12913  < javascript > < html > < dynamic > < code gen...   \n",
       "12204  < c > < .net > < lambda > < overloading > < ov...   \n",
       "642    < iphone > < objective c > < cocoa touch > < m...   \n",
       "24282  < python > < pandas > < selenium > < selenium ...   \n",
       "15399  < java > < string > < null > < equals > < cond...   \n",
       "\n",
       "                                    clean_tag_lem  _len_Title  _len_Body  \\\n",
       "12913             javascript html code generation          55        194   \n",
       "12204                    .net overload resolution          46        834   \n",
       "642    iphone objective c cocoa touch nsoperation          25        526   \n",
       "24282                 selenium selenium webdriver          32       1886   \n",
       "15399                             string operator          43       1022   \n",
       "\n",
       "       _len_Tags  \n",
       "12913         60  \n",
       "12204         52  \n",
       "642           63  \n",
       "24282         59  \n",
       "15399         50  "
      ]
     },
     "execution_count": 70,
     "metadata": {},
     "output_type": "execute_result"
    }
   ],
   "source": [
    "df.head()"
   ]
  },
  {
   "cell_type": "code",
   "execution_count": 71,
   "id": "2c16f261",
   "metadata": {},
   "outputs": [],
   "source": [
    "# Multivariate analysis"
   ]
  },
  {
   "cell_type": "code",
   "execution_count": 72,
   "id": "ea058954",
   "metadata": {},
   "outputs": [
    {
     "data": {
      "text/html": [
       "<div>\n",
       "<style scoped>\n",
       "    .dataframe tbody tr th:only-of-type {\n",
       "        vertical-align: middle;\n",
       "    }\n",
       "\n",
       "    .dataframe tbody tr th {\n",
       "        vertical-align: top;\n",
       "    }\n",
       "\n",
       "    .dataframe thead th {\n",
       "        text-align: right;\n",
       "    }\n",
       "</style>\n",
       "<table border=\"1\" class=\"dataframe\">\n",
       "  <thead>\n",
       "    <tr style=\"text-align: right;\">\n",
       "      <th></th>\n",
       "      <th>_len_Title</th>\n",
       "      <th>_len_Body</th>\n",
       "      <th>_len_Tags</th>\n",
       "    </tr>\n",
       "  </thead>\n",
       "  <tbody>\n",
       "    <tr>\n",
       "      <th>_len_Title</th>\n",
       "      <td>1.000000</td>\n",
       "      <td>0.142663</td>\n",
       "      <td>0.089501</td>\n",
       "    </tr>\n",
       "    <tr>\n",
       "      <th>_len_Body</th>\n",
       "      <td>0.142663</td>\n",
       "      <td>1.000000</td>\n",
       "      <td>0.065088</td>\n",
       "    </tr>\n",
       "    <tr>\n",
       "      <th>_len_Tags</th>\n",
       "      <td>0.089501</td>\n",
       "      <td>0.065088</td>\n",
       "      <td>1.000000</td>\n",
       "    </tr>\n",
       "  </tbody>\n",
       "</table>\n",
       "</div>"
      ],
      "text/plain": [
       "            _len_Title  _len_Body  _len_Tags\n",
       "_len_Title    1.000000   0.142663   0.089501\n",
       "_len_Body     0.142663   1.000000   0.065088\n",
       "_len_Tags     0.089501   0.065088   1.000000"
      ]
     },
     "execution_count": 72,
     "metadata": {},
     "output_type": "execute_result"
    }
   ],
   "source": [
    "corr = df.corr()\n",
    "corr"
   ]
  },
  {
   "cell_type": "code",
   "execution_count": 73,
   "id": "d5a852ac",
   "metadata": {},
   "outputs": [
    {
     "data": {
      "text/plain": [
       "<AxesSubplot:>"
      ]
     },
     "execution_count": 73,
     "metadata": {},
     "output_type": "execute_result"
    },
    {
     "data": {
      "image/png": "[encoded data removed]",
      "text/plain": [
       "<Figure size 432x288 with 2 Axes>"
      ]
     },
     "metadata": {
      "needs_background": "light"
     },
     "output_type": "display_data"
    }
   ],
   "source": [
    "sns.heatmap(corr)"
   ]
  },
  {
   "cell_type": "code",
   "execution_count": 74,
   "id": "b0ce2e85",
   "metadata": {},
   "outputs": [
    {
     "data": {
      "text/plain": [
       "<seaborn.axisgrid.PairGrid at 0x7f27ec4af160>"
      ]
     },
     "execution_count": 74,
     "metadata": {},
     "output_type": "execute_result"
    },
    {
     "data": {
      "image/png": "[encoded data removed]",
      "text/plain": [
       "<Figure size 540x540 with 12 Axes>"
      ]
     },
     "metadata": {
      "needs_background": "light"
     },
     "output_type": "display_data"
    }
   ],
   "source": [
    "sns.pairplot(df)"
   ]
  },
  {
   "cell_type": "code",
   "execution_count": 75,
   "id": "0e978d24",
   "metadata": {},
   "outputs": [
    {
     "data": {
      "text/html": [
       "<div>\n",
       "<style scoped>\n",
       "    .dataframe tbody tr th:only-of-type {\n",
       "        vertical-align: middle;\n",
       "    }\n",
       "\n",
       "    .dataframe tbody tr th {\n",
       "        vertical-align: top;\n",
       "    }\n",
       "\n",
       "    .dataframe thead th {\n",
       "        text-align: right;\n",
       "    }\n",
       "</style>\n",
       "<table border=\"1\" class=\"dataframe\">\n",
       "  <thead>\n",
       "    <tr style=\"text-align: right;\">\n",
       "      <th></th>\n",
       "      <th>Title</th>\n",
       "      <th>Body</th>\n",
       "      <th>Tags</th>\n",
       "      <th>sentence_bow</th>\n",
       "      <th>sentence_bow_lem</th>\n",
       "      <th>clean_tag</th>\n",
       "      <th>clean_tag_lem</th>\n",
       "      <th>_len_Title</th>\n",
       "      <th>_len_Body</th>\n",
       "      <th>_len_Tags</th>\n",
       "    </tr>\n",
       "  </thead>\n",
       "  <tbody>\n",
       "    <tr>\n",
       "      <th>11263</th>\n",
       "      <td>Need to cancel click/mouseup events when doubl...</td>\n",
       "      <td>&lt;p&gt;How is this done?&lt;/p&gt;\\n</td>\n",
       "      <td>&lt;javascript&gt;&lt;jquery&gt;&lt;event-handling&gt;&lt;click&gt;&lt;do...</td>\n",
       "      <td>how done</td>\n",
       "      <td></td>\n",
       "      <td>&lt; javascript &gt; &lt; jquery &gt; &lt; event handling &gt; &lt;...</td>\n",
       "      <td>javascript jquery event</td>\n",
       "      <td>68</td>\n",
       "      <td>25</td>\n",
       "      <td>57</td>\n",
       "    </tr>\n",
       "    <tr>\n",
       "      <th>26414</th>\n",
       "      <td>Default field separator for awk</td>\n",
       "      <td>&lt;p&gt;Is the default separator only space for awk...</td>\n",
       "      <td>&lt;linux&gt;&lt;unix&gt;&lt;awk&gt;&lt;posix&gt;&lt;separator&gt;</td>\n",
       "      <td>default separator space awk</td>\n",
       "      <td>default separator space</td>\n",
       "      <td>&lt; linux &gt; &lt; unix &gt; &lt; awk &gt; &lt; posix &gt; &lt; separat...</td>\n",
       "      <td>separator</td>\n",
       "      <td>31</td>\n",
       "      <td>52</td>\n",
       "      <td>36</td>\n",
       "    </tr>\n",
       "    <tr>\n",
       "      <th>14491</th>\n",
       "      <td>How use Django with Tornado web server?</td>\n",
       "      <td>&lt;p&gt;How do I use Django with the Tornado web se...</td>\n",
       "      <td>&lt;ajax&gt;&lt;django&gt;&lt;webserver&gt;&lt;comet&gt;&lt;tornado&gt;</td>\n",
       "      <td>how use django tornado web server</td>\n",
       "      <td>use django tornado web server</td>\n",
       "      <td>&lt; ajax &gt; &lt; django &gt; &lt; webserver &gt; &lt; comet &gt; &lt; ...</td>\n",
       "      <td>tornado</td>\n",
       "      <td>39</td>\n",
       "      <td>56</td>\n",
       "      <td>41</td>\n",
       "    </tr>\n",
       "    <tr>\n",
       "      <th>14112</th>\n",
       "      <td>What is the true difference between a dictiona...</td>\n",
       "      <td>&lt;p&gt;I've always used dictionaries. I write in P...</td>\n",
       "      <td>&lt;python&gt;&lt;data-structures&gt;&lt;hash&gt;&lt;dictionary&gt;&lt;ha...</td>\n",
       "      <td>'ve always used dictionaries write python.</td>\n",
       "      <td>dictionary python</td>\n",
       "      <td>&lt; python &gt; &lt; data structures &gt; &lt; hash &gt; &lt; dict...</td>\n",
       "      <td>python data structure hash</td>\n",
       "      <td>66</td>\n",
       "      <td>57</td>\n",
       "      <td>54</td>\n",
       "    </tr>\n",
       "    <tr>\n",
       "      <th>202</th>\n",
       "      <td>Concatenating two std::vectors</td>\n",
       "      <td>&lt;p&gt;How do I concatenate two &lt;code&gt;std::vector&lt;...</td>\n",
       "      <td>&lt;c++&gt;&lt;vector&gt;&lt;stl&gt;&lt;concatenation&gt;&lt;stdvector&gt;</td>\n",
       "      <td>how concatenate two code std :vector code</td>\n",
       "      <td>code std vector code</td>\n",
       "      <td>&lt; c &gt; &lt; vector &gt; &lt; stl &gt; &lt; concatenation &gt; &lt; s...</td>\n",
       "      <td>vector concatenation stdvector</td>\n",
       "      <td>30</td>\n",
       "      <td>59</td>\n",
       "      <td>44</td>\n",
       "    </tr>\n",
       "    <tr>\n",
       "      <th>10773</th>\n",
       "      <td>How can I get current location from user in iOS</td>\n",
       "      <td>&lt;p&gt;How can I get the current location from use...</td>\n",
       "      <td>&lt;ios&gt;&lt;objective-c&gt;&lt;iphone&gt;&lt;cllocationmanager&gt;&lt;...</td>\n",
       "      <td>how get current location user ios</td>\n",
       "      <td>location user io</td>\n",
       "      <td>&lt; ios &gt; &lt; objective c &gt; &lt; iphone &gt; &lt; cllocatio...</td>\n",
       "      <td>io objective c iphone cllocationmanager curren...</td>\n",
       "      <td>47</td>\n",
       "      <td>60</td>\n",
       "      <td>62</td>\n",
       "    </tr>\n",
       "    <tr>\n",
       "      <th>18483</th>\n",
       "      <td>How to define sealed class in C++?</td>\n",
       "      <td>&lt;p&gt;How to stop the class to be inherited by ot...</td>\n",
       "      <td>&lt;c++&gt;&lt;class&gt;&lt;inheritance&gt;&lt;derived-class&gt;&lt;sealed&gt;</td>\n",
       "      <td>how stop class inherited class.</td>\n",
       "      <td>class class</td>\n",
       "      <td>&lt; c &gt; &lt; class &gt; &lt; inheritance &gt; &lt; derived clas...</td>\n",
       "      <td>class inheritance class</td>\n",
       "      <td>34</td>\n",
       "      <td>61</td>\n",
       "      <td>48</td>\n",
       "    </tr>\n",
       "    <tr>\n",
       "      <th>4933</th>\n",
       "      <td>What does the term \"Tuple\" Mean in Relational ...</td>\n",
       "      <td>&lt;p&gt;Please explain what is meant by tuples in s...</td>\n",
       "      <td>&lt;sql&gt;&lt;terminology&gt;&lt;rdbms&gt;&lt;definition&gt;&lt;tuples&gt;</td>\n",
       "      <td>please explain meant tuples sql thanks</td>\n",
       "      <td>tuple thank</td>\n",
       "      <td>&lt; sql &gt; &lt; terminology &gt; &lt; rdbms &gt; &lt; definition...</td>\n",
       "      <td>terminology definition tuple</td>\n",
       "      <td>56</td>\n",
       "      <td>62</td>\n",
       "      <td>45</td>\n",
       "    </tr>\n",
       "    <tr>\n",
       "      <th>18253</th>\n",
       "      <td>Difference between a View's Padding and Margin</td>\n",
       "      <td>&lt;p&gt;What is the difference between a View's Mar...</td>\n",
       "      <td>&lt;android&gt;&lt;user-interface&gt;&lt;view&gt;&lt;padding&gt;&lt;margin&gt;</td>\n",
       "      <td>what difference view margin padding</td>\n",
       "      <td>difference margin padding</td>\n",
       "      <td>&lt; android &gt; &lt; user interface &gt; &lt; view &gt; &lt; padd...</td>\n",
       "      <td>user interface margin</td>\n",
       "      <td>46</td>\n",
       "      <td>67</td>\n",
       "      <td>48</td>\n",
       "    </tr>\n",
       "    <tr>\n",
       "      <th>1958</th>\n",
       "      <td>How to enable assembly bind failure logging (F...</td>\n",
       "      <td>&lt;p&gt;How do I enable assembly bind failure loggi...</td>\n",
       "      <td>&lt;c#&gt;&lt;.net&gt;&lt;vb.net&gt;&lt;binding&gt;&lt;assemblies&gt;</td>\n",
       "      <td>how enable assembly bind failure logging fusio...</td>\n",
       "      <td>assembly failure fusion</td>\n",
       "      <td>&lt; c &gt; &lt; .net &gt; &lt; vb.net &gt; &lt; binding &gt; &lt; assemb...</td>\n",
       "      <td>.net vb.net assembly</td>\n",
       "      <td>60</td>\n",
       "      <td>71</td>\n",
       "      <td>39</td>\n",
       "    </tr>\n",
       "  </tbody>\n",
       "</table>\n",
       "</div>"
      ],
      "text/plain": [
       "                                                   Title  \\\n",
       "11263  Need to cancel click/mouseup events when doubl...   \n",
       "26414                    Default field separator for awk   \n",
       "14491            How use Django with Tornado web server?   \n",
       "14112  What is the true difference between a dictiona...   \n",
       "202                       Concatenating two std::vectors   \n",
       "10773    How can I get current location from user in iOS   \n",
       "18483                 How to define sealed class in C++?   \n",
       "4933   What does the term \"Tuple\" Mean in Relational ...   \n",
       "18253     Difference between a View's Padding and Margin   \n",
       "1958   How to enable assembly bind failure logging (F...   \n",
       "\n",
       "                                                    Body  \\\n",
       "11263                         <p>How is this done?</p>\\n   \n",
       "26414  <p>Is the default separator only space for awk...   \n",
       "14491  <p>How do I use Django with the Tornado web se...   \n",
       "14112  <p>I've always used dictionaries. I write in P...   \n",
       "202    <p>How do I concatenate two <code>std::vector<...   \n",
       "10773  <p>How can I get the current location from use...   \n",
       "18483  <p>How to stop the class to be inherited by ot...   \n",
       "4933   <p>Please explain what is meant by tuples in s...   \n",
       "18253  <p>What is the difference between a View's Mar...   \n",
       "1958   <p>How do I enable assembly bind failure loggi...   \n",
       "\n",
       "                                                    Tags  \\\n",
       "11263  <javascript><jquery><event-handling><click><do...   \n",
       "26414               <linux><unix><awk><posix><separator>   \n",
       "14491          <ajax><django><webserver><comet><tornado>   \n",
       "14112  <python><data-structures><hash><dictionary><ha...   \n",
       "202         <c++><vector><stl><concatenation><stdvector>   \n",
       "10773  <ios><objective-c><iphone><cllocationmanager><...   \n",
       "18483   <c++><class><inheritance><derived-class><sealed>   \n",
       "4933       <sql><terminology><rdbms><definition><tuples>   \n",
       "18253   <android><user-interface><view><padding><margin>   \n",
       "1958             <c#><.net><vb.net><binding><assemblies>   \n",
       "\n",
       "                                            sentence_bow  \\\n",
       "11263                                           how done   \n",
       "26414                        default separator space awk   \n",
       "14491                  how use django tornado web server   \n",
       "14112         've always used dictionaries write python.   \n",
       "202            how concatenate two code std :vector code   \n",
       "10773                  how get current location user ios   \n",
       "18483                    how stop class inherited class.   \n",
       "4933              please explain meant tuples sql thanks   \n",
       "18253                what difference view margin padding   \n",
       "1958   how enable assembly bind failure logging fusio...   \n",
       "\n",
       "                    sentence_bow_lem  \\\n",
       "11263                                  \n",
       "26414        default separator space   \n",
       "14491  use django tornado web server   \n",
       "14112              dictionary python   \n",
       "202             code std vector code   \n",
       "10773               location user io   \n",
       "18483                    class class   \n",
       "4933                     tuple thank   \n",
       "18253      difference margin padding   \n",
       "1958         assembly failure fusion   \n",
       "\n",
       "                                               clean_tag  \\\n",
       "11263  < javascript > < jquery > < event handling > <...   \n",
       "26414  < linux > < unix > < awk > < posix > < separat...   \n",
       "14491  < ajax > < django > < webserver > < comet > < ...   \n",
       "14112  < python > < data structures > < hash > < dict...   \n",
       "202    < c > < vector > < stl > < concatenation > < s...   \n",
       "10773  < ios > < objective c > < iphone > < cllocatio...   \n",
       "18483  < c > < class > < inheritance > < derived clas...   \n",
       "4933   < sql > < terminology > < rdbms > < definition...   \n",
       "18253  < android > < user interface > < view > < padd...   \n",
       "1958   < c > < .net > < vb.net > < binding > < assemb...   \n",
       "\n",
       "                                           clean_tag_lem  _len_Title  \\\n",
       "11263                            javascript jquery event          68   \n",
       "26414                                          separator          31   \n",
       "14491                                            tornado          39   \n",
       "14112                         python data structure hash          66   \n",
       "202                       vector concatenation stdvector          30   \n",
       "10773  io objective c iphone cllocationmanager curren...          47   \n",
       "18483                            class inheritance class          34   \n",
       "4933                        terminology definition tuple          56   \n",
       "18253                              user interface margin          46   \n",
       "1958                                .net vb.net assembly          60   \n",
       "\n",
       "       _len_Body  _len_Tags  \n",
       "11263         25         57  \n",
       "26414         52         36  \n",
       "14491         56         41  \n",
       "14112         57         54  \n",
       "202           59         44  \n",
       "10773         60         62  \n",
       "18483         61         48  \n",
       "4933          62         45  \n",
       "18253         67         48  \n",
       "1958          71         39  "
      ]
     },
     "execution_count": 75,
     "metadata": {},
     "output_type": "execute_result"
    }
   ],
   "source": [
    "df.sort_values(\"_len_Body\").head(10)"
   ]
  },
  {
   "cell_type": "code",
   "execution_count": 76,
   "id": "d8fb90b8",
   "metadata": {},
   "outputs": [
    {
     "data": {
      "text/html": [
       "<div>\n",
       "<style scoped>\n",
       "    .dataframe tbody tr th:only-of-type {\n",
       "        vertical-align: middle;\n",
       "    }\n",
       "\n",
       "    .dataframe tbody tr th {\n",
       "        vertical-align: top;\n",
       "    }\n",
       "\n",
       "    .dataframe thead th {\n",
       "        text-align: right;\n",
       "    }\n",
       "</style>\n",
       "<table border=\"1\" class=\"dataframe\">\n",
       "  <thead>\n",
       "    <tr style=\"text-align: right;\">\n",
       "      <th></th>\n",
       "      <th>Title</th>\n",
       "      <th>Body</th>\n",
       "      <th>Tags</th>\n",
       "      <th>sentence_bow</th>\n",
       "      <th>sentence_bow_lem</th>\n",
       "      <th>clean_tag</th>\n",
       "      <th>clean_tag_lem</th>\n",
       "      <th>_len_Title</th>\n",
       "      <th>_len_Body</th>\n",
       "      <th>_len_Tags</th>\n",
       "    </tr>\n",
       "  </thead>\n",
       "  <tbody>\n",
       "    <tr>\n",
       "      <th>13556</th>\n",
       "      <td>How to fix GCC compilation error when compilin...</td>\n",
       "      <td>&lt;p&gt;I have a huge number of functions totaling ...</td>\n",
       "      <td>&lt;c++&gt;&lt;math&gt;&lt;gcc&gt;&lt;compiler-errors&gt;&lt;code-size&gt;</td>\n",
       "      <td>huge number functions totaling around 2.8 obje...</td>\n",
       "      <td>number function object code computing link cod...</td>\n",
       "      <td>&lt; c &gt; &lt; math &gt; &lt; gcc &gt; &lt; compiler errors &gt; &lt; c...</td>\n",
       "      <td>math compiler error code size</td>\n",
       "      <td>62</td>\n",
       "      <td>11757</td>\n",
       "      <td>44</td>\n",
       "    </tr>\n",
       "    <tr>\n",
       "      <th>10664</th>\n",
       "      <td>Why does C++ code for testing the Collatz conj...</td>\n",
       "      <td>&lt;p&gt;I wrote these two solutions for &lt;a href=\"ht...</td>\n",
       "      <td>&lt;c++&gt;&lt;performance&gt;&lt;assembly&gt;&lt;optimization&gt;&lt;x86&gt;</td>\n",
       "      <td>wrote two solutions href= projecteuler.net pro...</td>\n",
       "      <td>solution projecteuler.net rel= noreferrer proj...</td>\n",
       "      <td>&lt; c &gt; &lt; performance &gt; &lt; assembly &gt; &lt; optimizat...</td>\n",
       "      <td>performance assembly optimization x86</td>\n",
       "      <td>91</td>\n",
       "      <td>12407</td>\n",
       "      <td>47</td>\n",
       "    </tr>\n",
       "    <tr>\n",
       "      <th>8560</th>\n",
       "      <td>Resources$NotFoundException: File res/drawable...</td>\n",
       "      <td>&lt;p&gt;After solving a JDK zero value error, now I...</td>\n",
       "      <td>&lt;android&gt;&lt;android-layout&gt;&lt;android-studio&gt;&lt;grad...</td>\n",
       "      <td>after solving jdk zero value error facing one ...</td>\n",
       "      <td>jdk value error research point error exception...</td>\n",
       "      <td>&lt; android &gt; &lt; android layout &gt; &lt; android studi...</td>\n",
       "      <td>layout android studio gradle gradle plugin</td>\n",
       "      <td>74</td>\n",
       "      <td>12475</td>\n",
       "      <td>72</td>\n",
       "    </tr>\n",
       "    <tr>\n",
       "      <th>712</th>\n",
       "      <td>Haskell Thrift library 300x slower than C++ in...</td>\n",
       "      <td>&lt;p&gt;I'm building an application which contains ...</td>\n",
       "      <td>&lt;c++&gt;&lt;performance&gt;&lt;networking&gt;&lt;haskell&gt;&lt;thrift&gt;</td>\n",
       "      <td>building application contains two components s...</td>\n",
       "      <td>building application component server haskell ...</td>\n",
       "      <td>&lt; c &gt; &lt; performance &gt; &lt; networking &gt; &lt; haskell...</td>\n",
       "      <td>performance thrift</td>\n",
       "      <td>63</td>\n",
       "      <td>12500</td>\n",
       "      <td>47</td>\n",
       "    </tr>\n",
       "    <tr>\n",
       "      <th>2933</th>\n",
       "      <td>Error:Execution failed for task ':app:compileD...</td>\n",
       "      <td>&lt;pre&gt;&lt;code&gt;Error:Execution failed for task ':a...</td>\n",
       "      <td>&lt;android&gt;&lt;kotlin&gt;&lt;gradle&gt;&lt;build&gt;&lt;gradle-kotlin...</td>\n",
       "      <td>pre code error execution failed task app compi...</td>\n",
       "      <td>pre code error execution task app compiledebug...</td>\n",
       "      <td>&lt; android &gt; &lt; kotlin &gt; &lt; gradle &gt; &lt; build &gt; &lt; ...</td>\n",
       "      <td>gradle gradle kotlin</td>\n",
       "      <td>104</td>\n",
       "      <td>13139</td>\n",
       "      <td>51</td>\n",
       "    </tr>\n",
       "    <tr>\n",
       "      <th>3449</th>\n",
       "      <td>How to fix Hibernate LazyInitializationExcepti...</td>\n",
       "      <td>&lt;p&gt;In the custom AuthenticationProvider from m...</td>\n",
       "      <td>&lt;java&gt;&lt;spring&gt;&lt;hibernate&gt;&lt;spring-mvc&gt;&lt;spring-s...</td>\n",
       "      <td>custom authenticationprovider spring project t...</td>\n",
       "      <td>custom spring project read list authority user...</td>\n",
       "      <td>&lt; java &gt; &lt; spring &gt; &lt; hibernate &gt; &lt; spring mvc...</td>\n",
       "      <td>spring hibernate spring mvc spring security</td>\n",
       "      <td>140</td>\n",
       "      <td>13834</td>\n",
       "      <td>54</td>\n",
       "    </tr>\n",
       "    <tr>\n",
       "      <th>20534</th>\n",
       "      <td>How to detect motion between two PIL images? (...</td>\n",
       "      <td>&lt;p&gt;Does anyone have any suggestions as to how ...</td>\n",
       "      <td>&lt;python&gt;&lt;wxpython&gt;&lt;webcam&gt;&lt;python-imaging-libr...</td>\n",
       "      <td>does anyone suggestions might image comparison...</td>\n",
       "      <td>suggestion comparison python change image app ...</td>\n",
       "      <td>&lt; python &gt; &lt; wxpython &gt; &lt; webcam &gt; &lt; python im...</td>\n",
       "      <td>python imaging library video capture</td>\n",
       "      <td>91</td>\n",
       "      <td>13947</td>\n",
       "      <td>65</td>\n",
       "    </tr>\n",
       "    <tr>\n",
       "      <th>21292</th>\n",
       "      <td>Terminating mvn spring-boot:run doesn't stop t...</td>\n",
       "      <td>&lt;p&gt;I can successfully start spring-boot with &lt;...</td>\n",
       "      <td>&lt;java&gt;&lt;spring&gt;&lt;maven&gt;&lt;tomcat&gt;&lt;spring-boot&gt;</td>\n",
       "      <td>successfully start spring boot code mvn spring...</td>\n",
       "      <td>spring boot code spring boot code docs.spring....</td>\n",
       "      <td>&lt; java &gt; &lt; spring &gt; &lt; maven &gt; &lt; tomcat &gt; &lt; spr...</td>\n",
       "      <td>spring tomcat spring boot</td>\n",
       "      <td>51</td>\n",
       "      <td>16318</td>\n",
       "      <td>42</td>\n",
       "    </tr>\n",
       "    <tr>\n",
       "      <th>10807</th>\n",
       "      <td>Deallocate SKScene after transition to another...</td>\n",
       "      <td>&lt;p&gt;I have a view controller that has three sks...</td>\n",
       "      <td>&lt;ios&gt;&lt;objective-c&gt;&lt;swift&gt;&lt;sprite-kit&gt;&lt;deinit&gt;</td>\n",
       "      <td>view controller three skscenes children. when ...</td>\n",
       "      <td>controller skscene child transition skscene ex...</td>\n",
       "      <td>&lt; ios &gt; &lt; objective c &gt; &lt; swift &gt; &lt; sprite kit...</td>\n",
       "      <td>io objective c sprite kit deinit</td>\n",
       "      <td>67</td>\n",
       "      <td>17862</td>\n",
       "      <td>45</td>\n",
       "    </tr>\n",
       "    <tr>\n",
       "      <th>6127</th>\n",
       "      <td>How to Log Stack Frames with Windows x64</td>\n",
       "      <td>&lt;p&gt;I am using Stackdumps with Win32, to write ...</td>\n",
       "      <td>&lt;c++&gt;&lt;c&gt;&lt;winapi&gt;&lt;64-bit&gt;&lt;callstack&gt;</td>\n",
       "      <td>using stackdumps win32 write return adresses l...</td>\n",
       "      <td>stackdump write return logfile match mapfile a...</td>\n",
       "      <td>&lt; c &gt; &lt; c &gt; &lt; winapi &gt; &lt; 64 bit &gt; &lt; callstack &gt;</td>\n",
       "      <td>winapi bit callstack</td>\n",
       "      <td>40</td>\n",
       "      <td>28505</td>\n",
       "      <td>35</td>\n",
       "    </tr>\n",
       "  </tbody>\n",
       "</table>\n",
       "</div>"
      ],
      "text/plain": [
       "                                                   Title  \\\n",
       "13556  How to fix GCC compilation error when compilin...   \n",
       "10664  Why does C++ code for testing the Collatz conj...   \n",
       "8560   Resources$NotFoundException: File res/drawable...   \n",
       "712    Haskell Thrift library 300x slower than C++ in...   \n",
       "2933   Error:Execution failed for task ':app:compileD...   \n",
       "3449   How to fix Hibernate LazyInitializationExcepti...   \n",
       "20534  How to detect motion between two PIL images? (...   \n",
       "21292  Terminating mvn spring-boot:run doesn't stop t...   \n",
       "10807  Deallocate SKScene after transition to another...   \n",
       "6127            How to Log Stack Frames with Windows x64   \n",
       "\n",
       "                                                    Body  \\\n",
       "13556  <p>I have a huge number of functions totaling ...   \n",
       "10664  <p>I wrote these two solutions for <a href=\"ht...   \n",
       "8560   <p>After solving a JDK zero value error, now I...   \n",
       "712    <p>I'm building an application which contains ...   \n",
       "2933   <pre><code>Error:Execution failed for task ':a...   \n",
       "3449   <p>In the custom AuthenticationProvider from m...   \n",
       "20534  <p>Does anyone have any suggestions as to how ...   \n",
       "21292  <p>I can successfully start spring-boot with <...   \n",
       "10807  <p>I have a view controller that has three sks...   \n",
       "6127   <p>I am using Stackdumps with Win32, to write ...   \n",
       "\n",
       "                                                    Tags  \\\n",
       "13556       <c++><math><gcc><compiler-errors><code-size>   \n",
       "10664    <c++><performance><assembly><optimization><x86>   \n",
       "8560   <android><android-layout><android-studio><grad...   \n",
       "712      <c++><performance><networking><haskell><thrift>   \n",
       "2933   <android><kotlin><gradle><build><gradle-kotlin...   \n",
       "3449   <java><spring><hibernate><spring-mvc><spring-s...   \n",
       "20534  <python><wxpython><webcam><python-imaging-libr...   \n",
       "21292         <java><spring><maven><tomcat><spring-boot>   \n",
       "10807      <ios><objective-c><swift><sprite-kit><deinit>   \n",
       "6127                 <c++><c><winapi><64-bit><callstack>   \n",
       "\n",
       "                                            sentence_bow  \\\n",
       "13556  huge number functions totaling around 2.8 obje...   \n",
       "10664  wrote two solutions href= projecteuler.net pro...   \n",
       "8560   after solving jdk zero value error facing one ...   \n",
       "712    building application contains two components s...   \n",
       "2933   pre code error execution failed task app compi...   \n",
       "3449   custom authenticationprovider spring project t...   \n",
       "20534  does anyone suggestions might image comparison...   \n",
       "21292  successfully start spring boot code mvn spring...   \n",
       "10807  view controller three skscenes children. when ...   \n",
       "6127   using stackdumps win32 write return adresses l...   \n",
       "\n",
       "                                        sentence_bow_lem  \\\n",
       "13556  number function object code computing link cod...   \n",
       "10664  solution projecteuler.net rel= noreferrer proj...   \n",
       "8560   jdk value error research point error exception...   \n",
       "712    building application component server haskell ...   \n",
       "2933   pre code error execution task app compiledebug...   \n",
       "3449   custom spring project read list authority user...   \n",
       "20534  suggestion comparison python change image app ...   \n",
       "21292  spring boot code spring boot code docs.spring....   \n",
       "10807  controller skscene child transition skscene ex...   \n",
       "6127   stackdump write return logfile match mapfile a...   \n",
       "\n",
       "                                               clean_tag  \\\n",
       "13556  < c > < math > < gcc > < compiler errors > < c...   \n",
       "10664  < c > < performance > < assembly > < optimizat...   \n",
       "8560   < android > < android layout > < android studi...   \n",
       "712    < c > < performance > < networking > < haskell...   \n",
       "2933   < android > < kotlin > < gradle > < build > < ...   \n",
       "3449   < java > < spring > < hibernate > < spring mvc...   \n",
       "20534  < python > < wxpython > < webcam > < python im...   \n",
       "21292  < java > < spring > < maven > < tomcat > < spr...   \n",
       "10807  < ios > < objective c > < swift > < sprite kit...   \n",
       "6127     < c > < c > < winapi > < 64 bit > < callstack >   \n",
       "\n",
       "                                     clean_tag_lem  _len_Title  _len_Body  \\\n",
       "13556                math compiler error code size          62      11757   \n",
       "10664        performance assembly optimization x86          91      12407   \n",
       "8560    layout android studio gradle gradle plugin          74      12475   \n",
       "712                             performance thrift          63      12500   \n",
       "2933                          gradle gradle kotlin         104      13139   \n",
       "3449   spring hibernate spring mvc spring security         140      13834   \n",
       "20534         python imaging library video capture          91      13947   \n",
       "21292                    spring tomcat spring boot          51      16318   \n",
       "10807             io objective c sprite kit deinit          67      17862   \n",
       "6127                          winapi bit callstack          40      28505   \n",
       "\n",
       "       _len_Tags  \n",
       "13556         44  \n",
       "10664         47  \n",
       "8560          72  \n",
       "712           47  \n",
       "2933          51  \n",
       "3449          54  \n",
       "20534         65  \n",
       "21292         42  \n",
       "10807         45  \n",
       "6127          35  "
      ]
     },
     "execution_count": 76,
     "metadata": {},
     "output_type": "execute_result"
    }
   ],
   "source": [
    "df.sort_values(\"_len_Body\").tail(10)"
   ]
  },
  {
   "cell_type": "markdown",
   "id": "5963800e",
   "metadata": {},
   "source": [
    "Score"
   ]
  },
  {
   "cell_type": "code",
   "execution_count": 77,
   "id": "6b67b01d",
   "metadata": {},
   "outputs": [
    {
     "name": "stdout",
     "output_type": "stream",
     "text": [
      "Using matplotlib backend: <object object at 0x7f28d0ccf9e0>\n",
      "Populating the interactive namespace from numpy and matplotlib\n"
     ]
    },
    {
     "data": {
      "image/png": "[encoded data removed]",
      "text/plain": [
       "<Figure size 3600x720 with 2 Axes>"
      ]
     },
     "metadata": {
      "needs_background": "light"
     },
     "output_type": "display_data"
    },
    {
     "name": "stdout",
     "output_type": "stream",
     "text": [
      "\n",
      "--------------------------------------------------\n",
      "\n",
      "Indicateurs statistiques de distribution de la variable Score:\n"
     ]
    },
    {
     "data": {
      "text/plain": [
       "count     3000.000000\n",
       "mean       116.921000\n",
       "std        544.359768\n",
       "min          6.000000\n",
       "25%         28.750000\n",
       "50%         50.000000\n",
       "75%        100.000000\n",
       "max      26631.000000\n",
       "Name: Score, dtype: float64"
      ]
     },
     "metadata": {},
     "output_type": "display_data"
    }
   ],
   "source": [
    "%pylab \n",
    "%matplotlib inline\n",
    "import seaborn as sns\n",
    "\n",
    "\n",
    "def plot_continuous_distribution(data, col, bins='sturges'):\n",
    "    \"\"\"\n",
    "    Plot distribution plot, box plot and statistical distribution figures\n",
    "    \n",
    "    Args: \n",
    "        data(DataFrame): Name of the dataframe \n",
    "        \n",
    "        col(String): Name of the column to plot\n",
    "        \n",
    "    Returns:\n",
    "        Variable distribution plots and figures\n",
    "    \"\"\"\n",
    "    \n",
    "    fig, ax = plt.subplots(nrows=1, ncols=2, figsize=(50,10))\n",
    "    \n",
    "    sns.histplot(data=data, x=col, bins='sturges', kde=True, ax=ax[0])\n",
    "    ax[0].set_xlabel(f\"{col}\")\n",
    "    ax[0].set_ylabel(\"Nombre d'observations\")\n",
    "    ax[0].set_title(f\"Histograme de la variable {col}\")\n",
    "    \n",
    "    sns.boxplot(data=data, x=col)\n",
    "    ax[1].set_xlabel(f\"{col}\")\n",
    "    ax[1].set_ylabel(\"Nombre d'oservations\")\n",
    "    ax[1].set_title(f\"Boîte à moustaches de la variable {col}\")\n",
    "    plt.show()\n",
    "    \n",
    "    print(\"\\n\" + \"-\" * 50 + \"\\n\")\n",
    "    print(f\"Indicateurs statistiques de distribution de la variable {col}:\")\n",
    "    display(data[col].describe())\n",
    "    \n",
    "    \n",
    "plot_continuous_distribution(data=data, col='Score')"
   ]
  },
  {
   "cell_type": "markdown",
   "id": "35af6afa",
   "metadata": {},
   "source": [
    "Viewcount"
   ]
  },
  {
   "cell_type": "code",
   "execution_count": 78,
   "id": "1f282926",
   "metadata": {},
   "outputs": [
    {
     "data": {
      "image/png": "[encoded data removed]",
      "text/plain": [
       "<Figure size 3600x720 with 2 Axes>"
      ]
     },
     "metadata": {
      "needs_background": "light"
     },
     "output_type": "display_data"
    },
    {
     "name": "stdout",
     "output_type": "stream",
     "text": [
      "\n",
      "--------------------------------------------------\n",
      "\n",
      "Indicateurs statistiques de distribution de la variable ViewCount:\n"
     ]
    },
    {
     "data": {
      "text/plain": [
       "count    3.000000e+03\n",
       "mean     1.115768e+05\n",
       "std      2.220019e+05\n",
       "min      8.510000e+02\n",
       "25%      2.155225e+04\n",
       "50%      4.890850e+04\n",
       "75%      1.095912e+05\n",
       "max      4.580670e+06\n",
       "Name: ViewCount, dtype: float64"
      ]
     },
     "metadata": {},
     "output_type": "display_data"
    }
   ],
   "source": [
    "plot_continuous_distribution(data=data, col='ViewCount')"
   ]
  },
  {
   "cell_type": "markdown",
   "id": "ff90a440",
   "metadata": {},
   "source": [
    "Answer count"
   ]
  },
  {
   "cell_type": "code",
   "execution_count": 79,
   "id": "47700008",
   "metadata": {},
   "outputs": [
    {
     "data": {
      "image/png": "[encoded data removed]",
      "text/plain": [
       "<Figure size 3600x720 with 2 Axes>"
      ]
     },
     "metadata": {
      "needs_background": "light"
     },
     "output_type": "display_data"
    },
    {
     "name": "stdout",
     "output_type": "stream",
     "text": [
      "\n",
      "--------------------------------------------------\n",
      "\n",
      "Indicateurs statistiques de distribution de la variable AnswerCount:\n"
     ]
    },
    {
     "data": {
      "text/plain": [
       "count    3000.000000\n",
       "mean        7.204667\n",
       "std         6.640493\n",
       "min         1.000000\n",
       "25%         3.000000\n",
       "50%         5.000000\n",
       "75%         9.000000\n",
       "max        64.000000\n",
       "Name: AnswerCount, dtype: float64"
      ]
     },
     "metadata": {},
     "output_type": "display_data"
    }
   ],
   "source": [
    "plot_continuous_distribution(data=data, col='AnswerCount')"
   ]
  },
  {
   "cell_type": "markdown",
   "id": "6cce6f61",
   "metadata": {},
   "source": [
    "Favoriate count"
   ]
  },
  {
   "cell_type": "code",
   "execution_count": 80,
   "id": "b2f2e499",
   "metadata": {},
   "outputs": [
    {
     "data": {
      "image/png": "[encoded data removed]",
      "text/plain": [
       "<Figure size 3600x720 with 2 Axes>"
      ]
     },
     "metadata": {
      "needs_background": "light"
     },
     "output_type": "display_data"
    },
    {
     "name": "stdout",
     "output_type": "stream",
     "text": [
      "\n",
      "--------------------------------------------------\n",
      "\n",
      "Indicateurs statistiques de distribution de la variable FavoriteCount:\n"
     ]
    },
    {
     "data": {
      "text/plain": [
       "count     3000.000000\n",
       "mean        45.332000\n",
       "std        232.633534\n",
       "min         11.000000\n",
       "25%         14.000000\n",
       "50%         19.000000\n",
       "75%         34.000000\n",
       "max      11654.000000\n",
       "Name: FavoriteCount, dtype: float64"
      ]
     },
     "metadata": {},
     "output_type": "display_data"
    }
   ],
   "source": [
    "plot_continuous_distribution(data=data, col='FavoriteCount')"
   ]
  },
  {
   "cell_type": "markdown",
   "id": "0439d14d",
   "metadata": {},
   "source": [
    "AnswerCount "
   ]
  },
  {
   "cell_type": "code",
   "execution_count": 81,
   "id": "630834db",
   "metadata": {},
   "outputs": [
    {
     "data": {
      "image/png": "[encoded data removed]",
      "text/plain": [
       "<Figure size 3600x720 with 2 Axes>"
      ]
     },
     "metadata": {
      "needs_background": "light"
     },
     "output_type": "display_data"
    },
    {
     "name": "stdout",
     "output_type": "stream",
     "text": [
      "\n",
      "--------------------------------------------------\n",
      "\n",
      "Indicateurs statistiques de distribution de la variable AnswerCount:\n"
     ]
    },
    {
     "data": {
      "text/plain": [
       "count    3000.000000\n",
       "mean        7.204667\n",
       "std         6.640493\n",
       "min         1.000000\n",
       "25%         3.000000\n",
       "50%         5.000000\n",
       "75%         9.000000\n",
       "max        64.000000\n",
       "Name: AnswerCount, dtype: float64"
      ]
     },
     "metadata": {},
     "output_type": "display_data"
    }
   ],
   "source": [
    "plot_continuous_distribution(data=data, col='AnswerCount')"
   ]
  },
  {
   "cell_type": "markdown",
   "id": "f532f3a3",
   "metadata": {},
   "source": [
    "Correlation "
   ]
  },
  {
   "cell_type": "code",
   "execution_count": 82,
   "id": "e192685e",
   "metadata": {},
   "outputs": [
    {
     "data": {
      "text/html": [
       "<div>\n",
       "<style scoped>\n",
       "    .dataframe tbody tr th:only-of-type {\n",
       "        vertical-align: middle;\n",
       "    }\n",
       "\n",
       "    .dataframe tbody tr th {\n",
       "        vertical-align: top;\n",
       "    }\n",
       "\n",
       "    .dataframe thead th {\n",
       "        text-align: right;\n",
       "    }\n",
       "</style>\n",
       "<table border=\"1\" class=\"dataframe\">\n",
       "  <thead>\n",
       "    <tr style=\"text-align: right;\">\n",
       "      <th></th>\n",
       "      <th>Id</th>\n",
       "      <th>Score</th>\n",
       "      <th>ViewCount</th>\n",
       "      <th>FavoriteCount</th>\n",
       "      <th>AnswerCount</th>\n",
       "    </tr>\n",
       "  </thead>\n",
       "  <tbody>\n",
       "    <tr>\n",
       "      <th>Id</th>\n",
       "      <td>1.000000</td>\n",
       "      <td>-0.045112</td>\n",
       "      <td>-0.087579</td>\n",
       "      <td>-0.048800</td>\n",
       "      <td>-0.099238</td>\n",
       "    </tr>\n",
       "    <tr>\n",
       "      <th>Score</th>\n",
       "      <td>-0.045112</td>\n",
       "      <td>1.000000</td>\n",
       "      <td>0.439946</td>\n",
       "      <td>0.977787</td>\n",
       "      <td>0.245313</td>\n",
       "    </tr>\n",
       "    <tr>\n",
       "      <th>ViewCount</th>\n",
       "      <td>-0.087579</td>\n",
       "      <td>0.439946</td>\n",
       "      <td>1.000000</td>\n",
       "      <td>0.344184</td>\n",
       "      <td>0.468301</td>\n",
       "    </tr>\n",
       "    <tr>\n",
       "      <th>FavoriteCount</th>\n",
       "      <td>-0.048800</td>\n",
       "      <td>0.977787</td>\n",
       "      <td>0.344184</td>\n",
       "      <td>1.000000</td>\n",
       "      <td>0.207408</td>\n",
       "    </tr>\n",
       "    <tr>\n",
       "      <th>AnswerCount</th>\n",
       "      <td>-0.099238</td>\n",
       "      <td>0.245313</td>\n",
       "      <td>0.468301</td>\n",
       "      <td>0.207408</td>\n",
       "      <td>1.000000</td>\n",
       "    </tr>\n",
       "  </tbody>\n",
       "</table>\n",
       "</div>"
      ],
      "text/plain": [
       "                     Id     Score  ViewCount  FavoriteCount  AnswerCount\n",
       "Id             1.000000 -0.045112  -0.087579      -0.048800    -0.099238\n",
       "Score         -0.045112  1.000000   0.439946       0.977787     0.245313\n",
       "ViewCount     -0.087579  0.439946   1.000000       0.344184     0.468301\n",
       "FavoriteCount -0.048800  0.977787   0.344184       1.000000     0.207408\n",
       "AnswerCount   -0.099238  0.245313   0.468301       0.207408     1.000000"
      ]
     },
     "execution_count": 82,
     "metadata": {},
     "output_type": "execute_result"
    }
   ],
   "source": [
    "data.corr()"
   ]
  },
  {
   "cell_type": "code",
   "execution_count": 83,
   "id": "708db72a",
   "metadata": {},
   "outputs": [
    {
     "data": {
      "image/png": "[encoded data removed]",
      "text/plain": [
       "<Figure size 432x288 with 2 Axes>"
      ]
     },
     "metadata": {
      "needs_background": "light"
     },
     "output_type": "display_data"
    }
   ],
   "source": [
    "sns.heatmap(data.corr());"
   ]
  },
  {
   "cell_type": "code",
   "execution_count": 84,
   "id": "ea9e4b6a",
   "metadata": {},
   "outputs": [
    {
     "data": {
      "text/plain": [
       "'/home/ping/code/public-health/stackoverflow/notebook'"
      ]
     },
     "execution_count": 84,
     "metadata": {},
     "output_type": "execute_result"
    }
   ],
   "source": [
    "pwd"
   ]
  },
  {
   "cell_type": "code",
   "execution_count": 85,
   "id": "eb45e9dd",
   "metadata": {},
   "outputs": [
    {
     "data": {
      "text/html": [
       "<div>\n",
       "<style scoped>\n",
       "    .dataframe tbody tr th:only-of-type {\n",
       "        vertical-align: middle;\n",
       "    }\n",
       "\n",
       "    .dataframe tbody tr th {\n",
       "        vertical-align: top;\n",
       "    }\n",
       "\n",
       "    .dataframe thead th {\n",
       "        text-align: right;\n",
       "    }\n",
       "</style>\n",
       "<table border=\"1\" class=\"dataframe\">\n",
       "  <thead>\n",
       "    <tr style=\"text-align: right;\">\n",
       "      <th></th>\n",
       "      <th>Title</th>\n",
       "      <th>Body</th>\n",
       "      <th>Tags</th>\n",
       "      <th>Id</th>\n",
       "      <th>Score</th>\n",
       "      <th>ViewCount</th>\n",
       "      <th>FavoriteCount</th>\n",
       "      <th>AnswerCount</th>\n",
       "    </tr>\n",
       "  </thead>\n",
       "  <tbody>\n",
       "    <tr>\n",
       "      <th>21337</th>\n",
       "      <td>Why is processing a sorted array faster than p...</td>\n",
       "      <td>&lt;p&gt;Here is a piece of C++ code that shows some...</td>\n",
       "      <td>&lt;java&gt;&lt;c++&gt;&lt;performance&gt;&lt;cpu-architecture&gt;&lt;bra...</td>\n",
       "      <td>11227809</td>\n",
       "      <td>26631</td>\n",
       "      <td>1748348</td>\n",
       "      <td>11654</td>\n",
       "      <td>27</td>\n",
       "    </tr>\n",
       "    <tr>\n",
       "      <th>4412</th>\n",
       "      <td>Which equals operator (== vs ===) should be us...</td>\n",
       "      <td>&lt;p&gt;I'm using &lt;a href=\"http://en.wikipedia.org/...</td>\n",
       "      <td>&lt;javascript&gt;&lt;operators&gt;&lt;equality&gt;&lt;equality-ope...</td>\n",
       "      <td>359494</td>\n",
       "      <td>5651</td>\n",
       "      <td>2044417</td>\n",
       "      <td>1992</td>\n",
       "      <td>48</td>\n",
       "    </tr>\n",
       "    <tr>\n",
       "      <th>5742</th>\n",
       "      <td>How can I safely create a nested directory?</td>\n",
       "      <td>&lt;p&gt;How do I check if the directory into which ...</td>\n",
       "      <td>&lt;python&gt;&lt;exception&gt;&lt;path&gt;&lt;directory&gt;&lt;operating...</td>\n",
       "      <td>273192</td>\n",
       "      <td>5325</td>\n",
       "      <td>3384359</td>\n",
       "      <td>1101</td>\n",
       "      <td>29</td>\n",
       "    </tr>\n",
       "    <tr>\n",
       "      <th>23976</th>\n",
       "      <td>Why is char[] preferred over String for passwo...</td>\n",
       "      <td>&lt;p&gt;In Swing, the password field has a &lt;code&gt;ge...</td>\n",
       "      <td>&lt;java&gt;&lt;string&gt;&lt;security&gt;&lt;passwords&gt;&lt;char&gt;</td>\n",
       "      <td>8881291</td>\n",
       "      <td>3748</td>\n",
       "      <td>483707</td>\n",
       "      <td>1008</td>\n",
       "      <td>18</td>\n",
       "    </tr>\n",
       "    <tr>\n",
       "      <th>19510</th>\n",
       "      <td>AngularJS: Service vs provider vs factory</td>\n",
       "      <td>&lt;p&gt;What are the differences between a &lt;code&gt;Se...</td>\n",
       "      <td>&lt;angularjs&gt;&lt;dependency-injection&gt;&lt;angularjs-se...</td>\n",
       "      <td>15666048</td>\n",
       "      <td>3391</td>\n",
       "      <td>780683</td>\n",
       "      <td>1939</td>\n",
       "      <td>30</td>\n",
       "    </tr>\n",
       "    <tr>\n",
       "      <th>...</th>\n",
       "      <td>...</td>\n",
       "      <td>...</td>\n",
       "      <td>...</td>\n",
       "      <td>...</td>\n",
       "      <td>...</td>\n",
       "      <td>...</td>\n",
       "      <td>...</td>\n",
       "      <td>...</td>\n",
       "    </tr>\n",
       "    <tr>\n",
       "      <th>11724</th>\n",
       "      <td>Raspberry PI - Send mail from command line usi...</td>\n",
       "      <td>&lt;p&gt;How can I send email from Raspberry Pi usin...</td>\n",
       "      <td>&lt;command-line&gt;&lt;smtp&gt;&lt;gmail&gt;&lt;sendmail&gt;&lt;raspberr...</td>\n",
       "      <td>38391412</td>\n",
       "      <td>6</td>\n",
       "      <td>24288</td>\n",
       "      <td>11</td>\n",
       "      <td>1</td>\n",
       "    </tr>\n",
       "    <tr>\n",
       "      <th>10821</th>\n",
       "      <td>Android image filter libraries</td>\n",
       "      <td>&lt;p&gt;Are there any image libraries available for...</td>\n",
       "      <td>&lt;android&gt;&lt;graphics&gt;&lt;image-processing&gt;&lt;filter&gt;&lt;...</td>\n",
       "      <td>4280162</td>\n",
       "      <td>6</td>\n",
       "      <td>22902</td>\n",
       "      <td>12</td>\n",
       "      <td>3</td>\n",
       "    </tr>\n",
       "    <tr>\n",
       "      <th>3065</th>\n",
       "      <td>I don't want my Excel Add-In to return an arra...</td>\n",
       "      <td>&lt;p&gt;I've created an Excel Add-In, and one of th...</td>\n",
       "      <td>&lt;c++&gt;&lt;arrays&gt;&lt;excel&gt;&lt;add-in&gt;&lt;excel-addins&gt;</td>\n",
       "      <td>8520732</td>\n",
       "      <td>6</td>\n",
       "      <td>10751</td>\n",
       "      <td>11</td>\n",
       "      <td>2</td>\n",
       "    </tr>\n",
       "    <tr>\n",
       "      <th>9982</th>\n",
       "      <td>Core Data pattern: how to efficiently update l...</td>\n",
       "      <td>&lt;p&gt;I have some inefficiency in my app that I'd...</td>\n",
       "      <td>&lt;iphone&gt;&lt;performance&gt;&lt;core-data&gt;&lt;cocoa-design-...</td>\n",
       "      <td>2209228</td>\n",
       "      <td>6</td>\n",
       "      <td>5376</td>\n",
       "      <td>14</td>\n",
       "      <td>6</td>\n",
       "    </tr>\n",
       "    <tr>\n",
       "      <th>4143</th>\n",
       "      <td>MDM Agent on iOS</td>\n",
       "      <td>&lt;p&gt;I worked on MDM in Android, and used the AP...</td>\n",
       "      <td>&lt;android&gt;&lt;ios&gt;&lt;apple-push-notifications&gt;&lt;andro...</td>\n",
       "      <td>10041711</td>\n",
       "      <td>6</td>\n",
       "      <td>3716</td>\n",
       "      <td>11</td>\n",
       "      <td>3</td>\n",
       "    </tr>\n",
       "  </tbody>\n",
       "</table>\n",
       "<p>3000 rows × 8 columns</p>\n",
       "</div>"
      ],
      "text/plain": [
       "                                                   Title  \\\n",
       "21337  Why is processing a sorted array faster than p...   \n",
       "4412   Which equals operator (== vs ===) should be us...   \n",
       "5742         How can I safely create a nested directory?   \n",
       "23976  Why is char[] preferred over String for passwo...   \n",
       "19510          AngularJS: Service vs provider vs factory   \n",
       "...                                                  ...   \n",
       "11724  Raspberry PI - Send mail from command line usi...   \n",
       "10821                     Android image filter libraries   \n",
       "3065   I don't want my Excel Add-In to return an arra...   \n",
       "9982   Core Data pattern: how to efficiently update l...   \n",
       "4143                                    MDM Agent on iOS   \n",
       "\n",
       "                                                    Body  \\\n",
       "21337  <p>Here is a piece of C++ code that shows some...   \n",
       "4412   <p>I'm using <a href=\"http://en.wikipedia.org/...   \n",
       "5742   <p>How do I check if the directory into which ...   \n",
       "23976  <p>In Swing, the password field has a <code>ge...   \n",
       "19510  <p>What are the differences between a <code>Se...   \n",
       "...                                                  ...   \n",
       "11724  <p>How can I send email from Raspberry Pi usin...   \n",
       "10821  <p>Are there any image libraries available for...   \n",
       "3065   <p>I've created an Excel Add-In, and one of th...   \n",
       "9982   <p>I have some inefficiency in my app that I'd...   \n",
       "4143   <p>I worked on MDM in Android, and used the AP...   \n",
       "\n",
       "                                                    Tags        Id  Score  \\\n",
       "21337  <java><c++><performance><cpu-architecture><bra...  11227809  26631   \n",
       "4412   <javascript><operators><equality><equality-ope...    359494   5651   \n",
       "5742   <python><exception><path><directory><operating...    273192   5325   \n",
       "23976          <java><string><security><passwords><char>   8881291   3748   \n",
       "19510  <angularjs><dependency-injection><angularjs-se...  15666048   3391   \n",
       "...                                                  ...       ...    ...   \n",
       "11724  <command-line><smtp><gmail><sendmail><raspberr...  38391412      6   \n",
       "10821  <android><graphics><image-processing><filter><...   4280162      6   \n",
       "3065          <c++><arrays><excel><add-in><excel-addins>   8520732      6   \n",
       "9982   <iphone><performance><core-data><cocoa-design-...   2209228      6   \n",
       "4143   <android><ios><apple-push-notifications><andro...  10041711      6   \n",
       "\n",
       "       ViewCount  FavoriteCount  AnswerCount  \n",
       "21337    1748348          11654           27  \n",
       "4412     2044417           1992           48  \n",
       "5742     3384359           1101           29  \n",
       "23976     483707           1008           18  \n",
       "19510     780683           1939           30  \n",
       "...          ...            ...          ...  \n",
       "11724      24288             11            1  \n",
       "10821      22902             12            3  \n",
       "3065       10751             11            2  \n",
       "9982        5376             14            6  \n",
       "4143        3716             11            3  \n",
       "\n",
       "[3000 rows x 8 columns]"
      ]
     },
     "metadata": {},
     "output_type": "display_data"
    },
    {
     "name": "stdout",
     "output_type": "stream",
     "text": [
      "Porportion de données restantes: 100.0%\n"
     ]
    }
   ],
   "source": [
    "filtered_data = data[(data['Score'] > 0) &\n",
    "                           (data['AnswerCount']>0) &\n",
    "                           (data['FavoriteCount']>0) &\n",
    "                           (data['ViewCount']>0)]\n",
    "filtered_data.sort_values(['Score', 'ViewCount'], ascending=[False, False], inplace=True)\n",
    "filtered_data_prop = round((filtered_data.shape[0] / data.shape[0] * 100),2)\n",
    "display(filtered_data)\n",
    "print(f\"Porportion de données restantes: {filtered_data_prop}%\")\n",
    "\n",
    "data.to_csv('filtered_data.csv', sep=\",\", index=False)"
   ]
  },
  {
   "cell_type": "code",
   "execution_count": 86,
   "id": "77c5fc5d",
   "metadata": {},
   "outputs": [
    {
     "data": {
      "text/html": [
       "<div>\n",
       "<style scoped>\n",
       "    .dataframe tbody tr th:only-of-type {\n",
       "        vertical-align: middle;\n",
       "    }\n",
       "\n",
       "    .dataframe tbody tr th {\n",
       "        vertical-align: top;\n",
       "    }\n",
       "\n",
       "    .dataframe thead th {\n",
       "        text-align: right;\n",
       "    }\n",
       "</style>\n",
       "<table border=\"1\" class=\"dataframe\">\n",
       "  <thead>\n",
       "    <tr style=\"text-align: right;\">\n",
       "      <th></th>\n",
       "      <th>Id</th>\n",
       "      <th>Title</th>\n",
       "      <th>Body</th>\n",
       "      <th>Tags</th>\n",
       "    </tr>\n",
       "  </thead>\n",
       "  <tbody>\n",
       "    <tr>\n",
       "      <th>0</th>\n",
       "      <td>1533568</td>\n",
       "      <td>What is the correct way to write HTML using Ja...</td>\n",
       "      <td>&lt;p&gt;It seems that experienced web developers fr...</td>\n",
       "      <td>&lt;javascript&gt;&lt;html&gt;&lt;dynamic&gt;&lt;code-generation&gt;&lt;d...</td>\n",
       "    </tr>\n",
       "    <tr>\n",
       "      <th>1</th>\n",
       "      <td>24316189</td>\n",
       "      <td>Peculiar overload resolution with while (true)</td>\n",
       "      <td>&lt;p&gt;I was implementing sync/async overloads whe...</td>\n",
       "      <td>&lt;c#&gt;&lt;.net&gt;&lt;lambda&gt;&lt;overloading&gt;&lt;overload-resol...</td>\n",
       "    </tr>\n",
       "    <tr>\n",
       "      <th>2</th>\n",
       "      <td>830218</td>\n",
       "      <td>NSOperation on the iPhone</td>\n",
       "      <td>&lt;p&gt;I've been looking for some concrete scenari...</td>\n",
       "      <td>&lt;iphone&gt;&lt;objective-c&gt;&lt;cocoa-touch&gt;&lt;multithread...</td>\n",
       "    </tr>\n",
       "    <tr>\n",
       "      <th>3</th>\n",
       "      <td>47692213</td>\n",
       "      <td>Reducing size of pyinstaller exe</td>\n",
       "      <td>&lt;p&gt;I have a simple pandas pyinstaller exe whic...</td>\n",
       "      <td>&lt;python&gt;&lt;pandas&gt;&lt;selenium&gt;&lt;selenium-webdriver&gt;...</td>\n",
       "    </tr>\n",
       "    <tr>\n",
       "      <th>4</th>\n",
       "      <td>2601978</td>\n",
       "      <td>How to check if my string is equal to null?</td>\n",
       "      <td>&lt;p&gt;I want to perform some action ONLY IF my st...</td>\n",
       "      <td>&lt;java&gt;&lt;string&gt;&lt;null&gt;&lt;equals&gt;&lt;conditional-opera...</td>\n",
       "    </tr>\n",
       "    <tr>\n",
       "      <th>5</th>\n",
       "      <td>59503689</td>\n",
       "      <td>Could Navigation Arch Component create a false...</td>\n",
       "      <td>&lt;p&gt;I have a basic knowledge of memory leaks an...</td>\n",
       "      <td>&lt;android&gt;&lt;kotlin&gt;&lt;memory-leaks&gt;&lt;android-archit...</td>\n",
       "    </tr>\n",
       "    <tr>\n",
       "      <th>6</th>\n",
       "      <td>4906762</td>\n",
       "      <td>Is using labels in JavaScript bad practice?</td>\n",
       "      <td>&lt;p&gt;I just found out about using label s in Jav...</td>\n",
       "      <td>&lt;javascript&gt;&lt;loops&gt;&lt;label&gt;&lt;nested-loops&gt;&lt;break&gt;</td>\n",
       "    </tr>\n",
       "    <tr>\n",
       "      <th>7</th>\n",
       "      <td>18086048</td>\n",
       "      <td>JAX-RS: How to secure REST endpoints?</td>\n",
       "      <td>&lt;p&gt;I am using &lt;code&gt;JBoss AS&lt;/code&gt; and &lt;code&gt;...</td>\n",
       "      <td>&lt;java&gt;&lt;rest&gt;&lt;authentication&gt;&lt;jboss&gt;&lt;jax-rs&gt;</td>\n",
       "    </tr>\n",
       "    <tr>\n",
       "      <th>8</th>\n",
       "      <td>4224817</td>\n",
       "      <td>Autofocus algorithm for USB microscope</td>\n",
       "      <td>&lt;p&gt;I'm trying to design an auto-focus system f...</td>\n",
       "      <td>&lt;c#&gt;&lt;algorithm&gt;&lt;image&gt;&lt;hardware&gt;&lt;autofocus&gt;</td>\n",
       "    </tr>\n",
       "    <tr>\n",
       "      <th>9</th>\n",
       "      <td>51456526</td>\n",
       "      <td>How to change font size in VS Code sidebar?</td>\n",
       "      <td>&lt;p&gt;Querying for &lt;code&gt;fontsize&lt;/code&gt; in &lt;code...</td>\n",
       "      <td>&lt;visual-studio-code&gt;&lt;editor&gt;&lt;keyboard-shortcut...</td>\n",
       "    </tr>\n",
       "  </tbody>\n",
       "</table>\n",
       "</div>"
      ],
      "text/plain": [
       "         Id                                              Title  \\\n",
       "0   1533568  What is the correct way to write HTML using Ja...   \n",
       "1  24316189     Peculiar overload resolution with while (true)   \n",
       "2    830218                          NSOperation on the iPhone   \n",
       "3  47692213                   Reducing size of pyinstaller exe   \n",
       "4   2601978        How to check if my string is equal to null?   \n",
       "5  59503689  Could Navigation Arch Component create a false...   \n",
       "6   4906762        Is using labels in JavaScript bad practice?   \n",
       "7  18086048              JAX-RS: How to secure REST endpoints?   \n",
       "8   4224817             Autofocus algorithm for USB microscope   \n",
       "9  51456526        How to change font size in VS Code sidebar?   \n",
       "\n",
       "                                                Body  \\\n",
       "0  <p>It seems that experienced web developers fr...   \n",
       "1  <p>I was implementing sync/async overloads whe...   \n",
       "2  <p>I've been looking for some concrete scenari...   \n",
       "3  <p>I have a simple pandas pyinstaller exe whic...   \n",
       "4  <p>I want to perform some action ONLY IF my st...   \n",
       "5  <p>I have a basic knowledge of memory leaks an...   \n",
       "6  <p>I just found out about using label s in Jav...   \n",
       "7  <p>I am using <code>JBoss AS</code> and <code>...   \n",
       "8  <p>I'm trying to design an auto-focus system f...   \n",
       "9  <p>Querying for <code>fontsize</code> in <code...   \n",
       "\n",
       "                                                Tags  \n",
       "0  <javascript><html><dynamic><code-generation><d...  \n",
       "1  <c#><.net><lambda><overloading><overload-resol...  \n",
       "2  <iphone><objective-c><cocoa-touch><multithread...  \n",
       "3  <python><pandas><selenium><selenium-webdriver>...  \n",
       "4  <java><string><null><equals><conditional-opera...  \n",
       "5  <android><kotlin><memory-leaks><android-archit...  \n",
       "6    <javascript><loops><label><nested-loops><break>  \n",
       "7        <java><rest><authentication><jboss><jax-rs>  \n",
       "8        <c#><algorithm><image><hardware><autofocus>  \n",
       "9  <visual-studio-code><editor><keyboard-shortcut...  "
      ]
     },
     "execution_count": 86,
     "metadata": {},
     "output_type": "execute_result"
    }
   ],
   "source": [
    "import pandas as pd\n",
    "import numpy as np\n",
    "import IPython.display\n",
    "\n",
    "data = pd.read_csv('./filtered_data.csv', usecols=['Id','Title', 'Body', 'Tags'], index_col='Id')\n",
    "data.reset_index(inplace=True)\n",
    "#data.drop(columns='Id', inplace=True)\n",
    "data.head(10)"
   ]
  },
  {
   "cell_type": "code",
   "execution_count": 87,
   "id": "8be63170",
   "metadata": {},
   "outputs": [],
   "source": [
    "#data.sample(20)"
   ]
  },
  {
   "cell_type": "code",
   "execution_count": 88,
   "id": "6132774d",
   "metadata": {},
   "outputs": [],
   "source": [
    "# When importing nltk for the first time, we need to also download a few built-in libraries\n",
    "\n",
    "import nltk\n",
    "\n",
    "#nltk.download('stopwords')\n",
    "#nltk.download('punkt')\n",
    "#nltk.download('wordnet')\n",
    "#nltk.download('omw-1.4')"
   ]
  },
  {
   "cell_type": "code",
   "execution_count": 89,
   "id": "df0622cb",
   "metadata": {},
   "outputs": [
    {
     "data": {
      "text/plain": [
       "12913    What is the correct way to write HTML using Ja...\n",
       "12204       Peculiar overload resolution with while (true)\n",
       "642                              NSOperation on the iPhone\n",
       "24282                     Reducing size of pyinstaller exe\n",
       "15399          How to check if my string is equal to null?\n",
       "                               ...                        \n",
       "11974    How to eliminate the \"maven-enforcer-plugin (g...\n",
       "18726                        Merge two dataframes by index\n",
       "14825    Inherit from a generic base class, apply a con...\n",
       "20952                              How does weak_ptr work?\n",
       "13108           Laravel: How to get last N entries from DB\n",
       "Name: Title, Length: 2995, dtype: object"
      ]
     },
     "execution_count": 89,
     "metadata": {},
     "output_type": "execute_result"
    }
   ],
   "source": [
    "df['Title']"
   ]
  },
  {
   "cell_type": "code",
   "execution_count": 90,
   "id": "661ca7dd",
   "metadata": {},
   "outputs": [
    {
     "data": {
      "text/plain": [
       "'!\"#$%&\\'()*+,-./:;<=>?@[\\\\]^_`{|}~'"
      ]
     },
     "execution_count": 90,
     "metadata": {},
     "output_type": "execute_result"
    }
   ],
   "source": [
    "import string\n",
    "string .punctuation"
   ]
  },
  {
   "cell_type": "code",
   "execution_count": 91,
   "id": "a3fd598f",
   "metadata": {},
   "outputs": [],
   "source": [
    "def remove_punctuation(Title):\n",
    "    for punctuation in string.punctuation:\n",
    "        Title = Title.replace(punctuation, '')\n",
    "    return Title"
   ]
  },
  {
   "cell_type": "code",
   "execution_count": 92,
   "id": "d3e60bad",
   "metadata": {},
   "outputs": [],
   "source": [
    "df['clean_title'] = df['Title'].apply(remove_punctuation)"
   ]
  },
  {
   "cell_type": "code",
   "execution_count": 93,
   "id": "a5feaf65",
   "metadata": {},
   "outputs": [
    {
     "data": {
      "text/plain": [
       "12913    What is the correct way to write HTML using Ja...\n",
       "12204         Peculiar overload resolution with while true\n",
       "642                              NSOperation on the iPhone\n",
       "24282                     Reducing size of pyinstaller exe\n",
       "15399           How to check if my string is equal to null\n",
       "                               ...                        \n",
       "11974    How to eliminate the mavenenforcerplugin goal ...\n",
       "18726                        Merge two dataframes by index\n",
       "14825    Inherit from a generic base class apply a cons...\n",
       "20952                                How does weakptr work\n",
       "13108            Laravel How to get last N entries from DB\n",
       "Name: clean_title, Length: 2995, dtype: object"
      ]
     },
     "execution_count": 93,
     "metadata": {},
     "output_type": "execute_result"
    }
   ],
   "source": [
    "df['clean_title']"
   ]
  },
  {
   "cell_type": "code",
   "execution_count": 94,
   "id": "e3e5c93e",
   "metadata": {},
   "outputs": [],
   "source": [
    "#lower case"
   ]
  },
  {
   "cell_type": "code",
   "execution_count": 95,
   "id": "b496d60e",
   "metadata": {},
   "outputs": [],
   "source": [
    "clean_title = df['clean_title'].str.lower() \n",
    "df['clean_title'] = clean_title"
   ]
  },
  {
   "cell_type": "code",
   "execution_count": 96,
   "id": "24563c56",
   "metadata": {},
   "outputs": [
    {
     "data": {
      "text/plain": [
       "12913    what is the correct way to write html using ja...\n",
       "12204         peculiar overload resolution with while true\n",
       "642                              nsoperation on the iphone\n",
       "24282                     reducing size of pyinstaller exe\n",
       "15399           how to check if my string is equal to null\n",
       "                               ...                        \n",
       "11974    how to eliminate the mavenenforcerplugin goal ...\n",
       "18726                        merge two dataframes by index\n",
       "14825    inherit from a generic base class apply a cons...\n",
       "20952                                how does weakptr work\n",
       "13108            laravel how to get last n entries from db\n",
       "Name: clean_title, Length: 2995, dtype: object"
      ]
     },
     "execution_count": 96,
     "metadata": {},
     "output_type": "execute_result"
    }
   ],
   "source": [
    "df['clean_title']"
   ]
  },
  {
   "cell_type": "code",
   "execution_count": 97,
   "id": "6cc3dcdc",
   "metadata": {},
   "outputs": [],
   "source": [
    "#Remove numbers "
   ]
  },
  {
   "cell_type": "code",
   "execution_count": 98,
   "id": "d54df778",
   "metadata": {},
   "outputs": [],
   "source": [
    "def remove_digits(title):\n",
    "    \n",
    "    clean_title = ''.join(word for word in title if not word.isdigit())\n",
    "    return clean_title\n",
    "   "
   ]
  },
  {
   "cell_type": "code",
   "execution_count": 99,
   "id": "85024e42",
   "metadata": {},
   "outputs": [],
   "source": [
    "df['clean_title'] = df['clean_title'].apply(remove_digits)"
   ]
  },
  {
   "cell_type": "code",
   "execution_count": 100,
   "id": "4f3be6b8",
   "metadata": {},
   "outputs": [
    {
     "data": {
      "text/plain": [
       "12913    what is the correct way to write html using ja...\n",
       "12204         peculiar overload resolution with while true\n",
       "642                              nsoperation on the iphone\n",
       "24282                     reducing size of pyinstaller exe\n",
       "15399           how to check if my string is equal to null\n",
       "                               ...                        \n",
       "11974    how to eliminate the mavenenforcerplugin goal ...\n",
       "18726                        merge two dataframes by index\n",
       "14825    inherit from a generic base class apply a cons...\n",
       "20952                                how does weakptr work\n",
       "13108            laravel how to get last n entries from db\n",
       "Name: clean_title, Length: 2995, dtype: object"
      ]
     },
     "execution_count": 100,
     "metadata": {},
     "output_type": "execute_result"
    }
   ],
   "source": [
    "df['clean_title']"
   ]
  },
  {
   "cell_type": "code",
   "execution_count": 101,
   "id": "de982f92",
   "metadata": {},
   "outputs": [],
   "source": [
    "# Remove stopwords"
   ]
  },
  {
   "cell_type": "code",
   "execution_count": 102,
   "id": "9aceb971",
   "metadata": {},
   "outputs": [
    {
     "data": {
      "text/plain": [
       "12913    what is the correct way to write html using ja...\n",
       "12204         peculiar overload resolution with while true\n",
       "642                              nsoperation on the iphone\n",
       "24282                     reducing size of pyinstaller exe\n",
       "15399           how to check if my string is equal to null\n",
       "                               ...                        \n",
       "11974    how to eliminate the mavenenforcerplugin goal ...\n",
       "18726                        merge two dataframes by index\n",
       "14825    inherit from a generic base class apply a cons...\n",
       "20952                                how does weakptr work\n",
       "13108            laravel how to get last n entries from db\n",
       "Name: clean_title, Length: 2995, dtype: object"
      ]
     },
     "execution_count": 102,
     "metadata": {},
     "output_type": "execute_result"
    }
   ],
   "source": [
    "clean_title"
   ]
  },
  {
   "cell_type": "code",
   "execution_count": 103,
   "id": "7d388c51",
   "metadata": {},
   "outputs": [],
   "source": [
    "from nltk.corpus import stopwords \n",
    "from nltk.tokenize import word_tokenize"
   ]
  },
  {
   "cell_type": "code",
   "execution_count": 104,
   "id": "a5bdaa65",
   "metadata": {},
   "outputs": [],
   "source": [
    "stop_words = set(stopwords.words('english')) "
   ]
  },
  {
   "cell_type": "code",
   "execution_count": 105,
   "id": "45122538",
   "metadata": {},
   "outputs": [
    {
     "data": {
      "text/html": [
       "<div>\n",
       "<style scoped>\n",
       "    .dataframe tbody tr th:only-of-type {\n",
       "        vertical-align: middle;\n",
       "    }\n",
       "\n",
       "    .dataframe tbody tr th {\n",
       "        vertical-align: top;\n",
       "    }\n",
       "\n",
       "    .dataframe thead th {\n",
       "        text-align: right;\n",
       "    }\n",
       "</style>\n",
       "<table border=\"1\" class=\"dataframe\">\n",
       "  <thead>\n",
       "    <tr style=\"text-align: right;\">\n",
       "      <th></th>\n",
       "      <th>Title</th>\n",
       "      <th>Body</th>\n",
       "      <th>Tags</th>\n",
       "      <th>sentence_bow</th>\n",
       "      <th>sentence_bow_lem</th>\n",
       "      <th>clean_tag</th>\n",
       "      <th>clean_tag_lem</th>\n",
       "      <th>_len_Title</th>\n",
       "      <th>_len_Body</th>\n",
       "      <th>_len_Tags</th>\n",
       "      <th>clean_title</th>\n",
       "    </tr>\n",
       "  </thead>\n",
       "  <tbody>\n",
       "    <tr>\n",
       "      <th>12913</th>\n",
       "      <td>What is the correct way to write HTML using Ja...</td>\n",
       "      <td>&lt;p&gt;It seems that experienced web developers fr...</td>\n",
       "      <td>&lt;javascript&gt;&lt;html&gt;&lt;dynamic&gt;&lt;code-generation&gt;&lt;d...</td>\n",
       "      <td>seems experienced web developers frown upon us...</td>\n",
       "      <td>web developer code document.write code javascr...</td>\n",
       "      <td>&lt; javascript &gt; &lt; html &gt; &lt; dynamic &gt; &lt; code gen...</td>\n",
       "      <td>javascript html code generation</td>\n",
       "      <td>55</td>\n",
       "      <td>194</td>\n",
       "      <td>60</td>\n",
       "      <td>[correct, way, write, html, using, javascript]</td>\n",
       "    </tr>\n",
       "    <tr>\n",
       "      <th>12204</th>\n",
       "      <td>Peculiar overload resolution with while (true)</td>\n",
       "      <td>&lt;p&gt;I was implementing sync/async overloads whe...</td>\n",
       "      <td>&lt;c#&gt;&lt;.net&gt;&lt;lambda&gt;&lt;overloading&gt;&lt;overload-resol...</td>\n",
       "      <td>implementing sync async overloads came across ...</td>\n",
       "      <td>sync async overload situation expression param...</td>\n",
       "      <td>&lt; c &gt; &lt; .net &gt; &lt; lambda &gt; &lt; overloading &gt; &lt; ov...</td>\n",
       "      <td>.net overload resolution</td>\n",
       "      <td>46</td>\n",
       "      <td>834</td>\n",
       "      <td>52</td>\n",
       "      <td>[peculiar, overload, resolution, true]</td>\n",
       "    </tr>\n",
       "    <tr>\n",
       "      <th>642</th>\n",
       "      <td>NSOperation on the iPhone</td>\n",
       "      <td>&lt;p&gt;I've been looking for some concrete scenari...</td>\n",
       "      <td>&lt;iphone&gt;&lt;objective-c&gt;&lt;cocoa-touch&gt;&lt;multithread...</td>\n",
       "      <td>'ve looking concrete scenarios code nsoperatio...</td>\n",
       "      <td>scenario nsoperation code iphone tool applicat...</td>\n",
       "      <td>&lt; iphone &gt; &lt; objective c &gt; &lt; cocoa touch &gt; &lt; m...</td>\n",
       "      <td>iphone objective c cocoa touch nsoperation</td>\n",
       "      <td>25</td>\n",
       "      <td>526</td>\n",
       "      <td>63</td>\n",
       "      <td>[nsoperation, iphone]</td>\n",
       "    </tr>\n",
       "    <tr>\n",
       "      <th>24282</th>\n",
       "      <td>Reducing size of pyinstaller exe</td>\n",
       "      <td>&lt;p&gt;I have a simple pandas pyinstaller exe whic...</td>\n",
       "      <td>&lt;python&gt;&lt;pandas&gt;&lt;selenium&gt;&lt;selenium-webdriver&gt;...</td>\n",
       "      <td>simple pandas pyinstaller exe 40mb. exe exampl...</td>\n",
       "      <td>panda pyinstaller exe mb exe example import co...</td>\n",
       "      <td>&lt; python &gt; &lt; pandas &gt; &lt; selenium &gt; &lt; selenium ...</td>\n",
       "      <td>selenium selenium webdriver</td>\n",
       "      <td>32</td>\n",
       "      <td>1886</td>\n",
       "      <td>59</td>\n",
       "      <td>[reducing, size, pyinstaller, exe]</td>\n",
       "    </tr>\n",
       "    <tr>\n",
       "      <th>15399</th>\n",
       "      <td>How to check if my string is equal to null?</td>\n",
       "      <td>&lt;p&gt;I want to perform some action ONLY IF my st...</td>\n",
       "      <td>&lt;java&gt;&lt;string&gt;&lt;null&gt;&lt;equals&gt;&lt;conditional-opera...</td>\n",
       "      <td>want perform action only string meaningful val...</td>\n",
       "      <td>perform action value pre code mystring.equal c...</td>\n",
       "      <td>&lt; java &gt; &lt; string &gt; &lt; null &gt; &lt; equals &gt; &lt; cond...</td>\n",
       "      <td>string operator</td>\n",
       "      <td>43</td>\n",
       "      <td>1022</td>\n",
       "      <td>50</td>\n",
       "      <td>[check, string, equal, null]</td>\n",
       "    </tr>\n",
       "  </tbody>\n",
       "</table>\n",
       "</div>"
      ],
      "text/plain": [
       "                                                   Title  \\\n",
       "12913  What is the correct way to write HTML using Ja...   \n",
       "12204     Peculiar overload resolution with while (true)   \n",
       "642                            NSOperation on the iPhone   \n",
       "24282                   Reducing size of pyinstaller exe   \n",
       "15399        How to check if my string is equal to null?   \n",
       "\n",
       "                                                    Body  \\\n",
       "12913  <p>It seems that experienced web developers fr...   \n",
       "12204  <p>I was implementing sync/async overloads whe...   \n",
       "642    <p>I've been looking for some concrete scenari...   \n",
       "24282  <p>I have a simple pandas pyinstaller exe whic...   \n",
       "15399  <p>I want to perform some action ONLY IF my st...   \n",
       "\n",
       "                                                    Tags  \\\n",
       "12913  <javascript><html><dynamic><code-generation><d...   \n",
       "12204  <c#><.net><lambda><overloading><overload-resol...   \n",
       "642    <iphone><objective-c><cocoa-touch><multithread...   \n",
       "24282  <python><pandas><selenium><selenium-webdriver>...   \n",
       "15399  <java><string><null><equals><conditional-opera...   \n",
       "\n",
       "                                            sentence_bow  \\\n",
       "12913  seems experienced web developers frown upon us...   \n",
       "12204  implementing sync async overloads came across ...   \n",
       "642    've looking concrete scenarios code nsoperatio...   \n",
       "24282  simple pandas pyinstaller exe 40mb. exe exampl...   \n",
       "15399  want perform action only string meaningful val...   \n",
       "\n",
       "                                        sentence_bow_lem  \\\n",
       "12913  web developer code document.write code javascr...   \n",
       "12204  sync async overload situation expression param...   \n",
       "642    scenario nsoperation code iphone tool applicat...   \n",
       "24282  panda pyinstaller exe mb exe example import co...   \n",
       "15399  perform action value pre code mystring.equal c...   \n",
       "\n",
       "                                               clean_tag  \\\n",
       "12913  < javascript > < html > < dynamic > < code gen...   \n",
       "12204  < c > < .net > < lambda > < overloading > < ov...   \n",
       "642    < iphone > < objective c > < cocoa touch > < m...   \n",
       "24282  < python > < pandas > < selenium > < selenium ...   \n",
       "15399  < java > < string > < null > < equals > < cond...   \n",
       "\n",
       "                                    clean_tag_lem  _len_Title  _len_Body  \\\n",
       "12913             javascript html code generation          55        194   \n",
       "12204                    .net overload resolution          46        834   \n",
       "642    iphone objective c cocoa touch nsoperation          25        526   \n",
       "24282                 selenium selenium webdriver          32       1886   \n",
       "15399                             string operator          43       1022   \n",
       "\n",
       "       _len_Tags                                     clean_title  \n",
       "12913         60  [correct, way, write, html, using, javascript]  \n",
       "12204         52          [peculiar, overload, resolution, true]  \n",
       "642           63                           [nsoperation, iphone]  \n",
       "24282         59              [reducing, size, pyinstaller, exe]  \n",
       "15399         50                    [check, string, equal, null]  "
      ]
     },
     "execution_count": 105,
     "metadata": {},
     "output_type": "execute_result"
    }
   ],
   "source": [
    "# Create function\n",
    "def remove_stopwords (title):\n",
    "    tokenized = word_tokenize(title)\n",
    "    without_stopwords = [word for word in tokenized if not word in stop_words]\n",
    "    return without_stopwords\n",
    "\n",
    "df['clean_title'] = df.clean_title.apply(remove_stopwords)\n",
    "\n",
    "df.head()"
   ]
  },
  {
   "cell_type": "code",
   "execution_count": 106,
   "id": "b33b8aa7",
   "metadata": {},
   "outputs": [],
   "source": [
    "# Lemmatize"
   ]
  },
  {
   "cell_type": "code",
   "execution_count": 108,
   "id": "ee7e138e",
   "metadata": {},
   "outputs": [],
   "source": [
    "from nltk.stem import WordNetLemmatizer"
   ]
  },
  {
   "cell_type": "code",
   "execution_count": 109,
   "id": "682f78ed",
   "metadata": {},
   "outputs": [
    {
     "data": {
      "text/html": [
       "<div>\n",
       "<style scoped>\n",
       "    .dataframe tbody tr th:only-of-type {\n",
       "        vertical-align: middle;\n",
       "    }\n",
       "\n",
       "    .dataframe tbody tr th {\n",
       "        vertical-align: top;\n",
       "    }\n",
       "\n",
       "    .dataframe thead th {\n",
       "        text-align: right;\n",
       "    }\n",
       "</style>\n",
       "<table border=\"1\" class=\"dataframe\">\n",
       "  <thead>\n",
       "    <tr style=\"text-align: right;\">\n",
       "      <th></th>\n",
       "      <th>Title</th>\n",
       "      <th>Body</th>\n",
       "      <th>Tags</th>\n",
       "      <th>sentence_bow</th>\n",
       "      <th>sentence_bow_lem</th>\n",
       "      <th>clean_tag</th>\n",
       "      <th>clean_tag_lem</th>\n",
       "      <th>_len_Title</th>\n",
       "      <th>_len_Body</th>\n",
       "      <th>_len_Tags</th>\n",
       "      <th>clean_title</th>\n",
       "    </tr>\n",
       "  </thead>\n",
       "  <tbody>\n",
       "    <tr>\n",
       "      <th>12913</th>\n",
       "      <td>What is the correct way to write HTML using Ja...</td>\n",
       "      <td>&lt;p&gt;It seems that experienced web developers fr...</td>\n",
       "      <td>&lt;javascript&gt;&lt;html&gt;&lt;dynamic&gt;&lt;code-generation&gt;&lt;d...</td>\n",
       "      <td>seems experienced web developers frown upon us...</td>\n",
       "      <td>web developer code document.write code javascr...</td>\n",
       "      <td>&lt; javascript &gt; &lt; html &gt; &lt; dynamic &gt; &lt; code gen...</td>\n",
       "      <td>javascript html code generation</td>\n",
       "      <td>55</td>\n",
       "      <td>194</td>\n",
       "      <td>60</td>\n",
       "      <td>correct way write html using javascript</td>\n",
       "    </tr>\n",
       "    <tr>\n",
       "      <th>12204</th>\n",
       "      <td>Peculiar overload resolution with while (true)</td>\n",
       "      <td>&lt;p&gt;I was implementing sync/async overloads whe...</td>\n",
       "      <td>&lt;c#&gt;&lt;.net&gt;&lt;lambda&gt;&lt;overloading&gt;&lt;overload-resol...</td>\n",
       "      <td>implementing sync async overloads came across ...</td>\n",
       "      <td>sync async overload situation expression param...</td>\n",
       "      <td>&lt; c &gt; &lt; .net &gt; &lt; lambda &gt; &lt; overloading &gt; &lt; ov...</td>\n",
       "      <td>.net overload resolution</td>\n",
       "      <td>46</td>\n",
       "      <td>834</td>\n",
       "      <td>52</td>\n",
       "      <td>peculiar overload resolution true</td>\n",
       "    </tr>\n",
       "    <tr>\n",
       "      <th>642</th>\n",
       "      <td>NSOperation on the iPhone</td>\n",
       "      <td>&lt;p&gt;I've been looking for some concrete scenari...</td>\n",
       "      <td>&lt;iphone&gt;&lt;objective-c&gt;&lt;cocoa-touch&gt;&lt;multithread...</td>\n",
       "      <td>'ve looking concrete scenarios code nsoperatio...</td>\n",
       "      <td>scenario nsoperation code iphone tool applicat...</td>\n",
       "      <td>&lt; iphone &gt; &lt; objective c &gt; &lt; cocoa touch &gt; &lt; m...</td>\n",
       "      <td>iphone objective c cocoa touch nsoperation</td>\n",
       "      <td>25</td>\n",
       "      <td>526</td>\n",
       "      <td>63</td>\n",
       "      <td>nsoperation iphone</td>\n",
       "    </tr>\n",
       "    <tr>\n",
       "      <th>24282</th>\n",
       "      <td>Reducing size of pyinstaller exe</td>\n",
       "      <td>&lt;p&gt;I have a simple pandas pyinstaller exe whic...</td>\n",
       "      <td>&lt;python&gt;&lt;pandas&gt;&lt;selenium&gt;&lt;selenium-webdriver&gt;...</td>\n",
       "      <td>simple pandas pyinstaller exe 40mb. exe exampl...</td>\n",
       "      <td>panda pyinstaller exe mb exe example import co...</td>\n",
       "      <td>&lt; python &gt; &lt; pandas &gt; &lt; selenium &gt; &lt; selenium ...</td>\n",
       "      <td>selenium selenium webdriver</td>\n",
       "      <td>32</td>\n",
       "      <td>1886</td>\n",
       "      <td>59</td>\n",
       "      <td>reducing size pyinstaller exe</td>\n",
       "    </tr>\n",
       "    <tr>\n",
       "      <th>15399</th>\n",
       "      <td>How to check if my string is equal to null?</td>\n",
       "      <td>&lt;p&gt;I want to perform some action ONLY IF my st...</td>\n",
       "      <td>&lt;java&gt;&lt;string&gt;&lt;null&gt;&lt;equals&gt;&lt;conditional-opera...</td>\n",
       "      <td>want perform action only string meaningful val...</td>\n",
       "      <td>perform action value pre code mystring.equal c...</td>\n",
       "      <td>&lt; java &gt; &lt; string &gt; &lt; null &gt; &lt; equals &gt; &lt; cond...</td>\n",
       "      <td>string operator</td>\n",
       "      <td>43</td>\n",
       "      <td>1022</td>\n",
       "      <td>50</td>\n",
       "      <td>check string equal null</td>\n",
       "    </tr>\n",
       "  </tbody>\n",
       "</table>\n",
       "</div>"
      ],
      "text/plain": [
       "                                                   Title  \\\n",
       "12913  What is the correct way to write HTML using Ja...   \n",
       "12204     Peculiar overload resolution with while (true)   \n",
       "642                            NSOperation on the iPhone   \n",
       "24282                   Reducing size of pyinstaller exe   \n",
       "15399        How to check if my string is equal to null?   \n",
       "\n",
       "                                                    Body  \\\n",
       "12913  <p>It seems that experienced web developers fr...   \n",
       "12204  <p>I was implementing sync/async overloads whe...   \n",
       "642    <p>I've been looking for some concrete scenari...   \n",
       "24282  <p>I have a simple pandas pyinstaller exe whic...   \n",
       "15399  <p>I want to perform some action ONLY IF my st...   \n",
       "\n",
       "                                                    Tags  \\\n",
       "12913  <javascript><html><dynamic><code-generation><d...   \n",
       "12204  <c#><.net><lambda><overloading><overload-resol...   \n",
       "642    <iphone><objective-c><cocoa-touch><multithread...   \n",
       "24282  <python><pandas><selenium><selenium-webdriver>...   \n",
       "15399  <java><string><null><equals><conditional-opera...   \n",
       "\n",
       "                                            sentence_bow  \\\n",
       "12913  seems experienced web developers frown upon us...   \n",
       "12204  implementing sync async overloads came across ...   \n",
       "642    've looking concrete scenarios code nsoperatio...   \n",
       "24282  simple pandas pyinstaller exe 40mb. exe exampl...   \n",
       "15399  want perform action only string meaningful val...   \n",
       "\n",
       "                                        sentence_bow_lem  \\\n",
       "12913  web developer code document.write code javascr...   \n",
       "12204  sync async overload situation expression param...   \n",
       "642    scenario nsoperation code iphone tool applicat...   \n",
       "24282  panda pyinstaller exe mb exe example import co...   \n",
       "15399  perform action value pre code mystring.equal c...   \n",
       "\n",
       "                                               clean_tag  \\\n",
       "12913  < javascript > < html > < dynamic > < code gen...   \n",
       "12204  < c > < .net > < lambda > < overloading > < ov...   \n",
       "642    < iphone > < objective c > < cocoa touch > < m...   \n",
       "24282  < python > < pandas > < selenium > < selenium ...   \n",
       "15399  < java > < string > < null > < equals > < cond...   \n",
       "\n",
       "                                    clean_tag_lem  _len_Title  _len_Body  \\\n",
       "12913             javascript html code generation          55        194   \n",
       "12204                    .net overload resolution          46        834   \n",
       "642    iphone objective c cocoa touch nsoperation          25        526   \n",
       "24282                 selenium selenium webdriver          32       1886   \n",
       "15399                             string operator          43       1022   \n",
       "\n",
       "       _len_Tags                              clean_title  \n",
       "12913         60  correct way write html using javascript  \n",
       "12204         52        peculiar overload resolution true  \n",
       "642           63                       nsoperation iphone  \n",
       "24282         59            reducing size pyinstaller exe  \n",
       "15399         50                  check string equal null  "
      ]
     },
     "execution_count": 109,
     "metadata": {},
     "output_type": "execute_result"
    }
   ],
   "source": [
    "def lemma(title):\n",
    "    lemmatizer = WordNetLemmatizer() # Initiate lemmatizer\n",
    "    lemmatized = [lemmatizer.lemmatize(word) for word in title] # Lemmatize\n",
    "    lemmatized_string = \" \".join(lemmatized)\n",
    "    return lemmatized_string\n",
    "\n",
    "df['clean_title'] = df.clean_title.apply(lemma)\n",
    "\n",
    "df.head()"
   ]
  },
  {
   "cell_type": "code",
   "execution_count": null,
   "id": "3aeeb617",
   "metadata": {},
   "outputs": [],
   "source": []
  }
 ],
 "metadata": {
  "kernelspec": {
   "display_name": "Python 3 (ipykernel)",
   "language": "python",
   "name": "python3"
  },
  "language_info": {
   "codemirror_mode": {
    "name": "ipython",
    "version": 3
   },
   "file_extension": ".py",
   "mimetype": "text/x-python",
   "name": "python",
   "nbconvert_exporter": "python",
   "pygments_lexer": "ipython3",
   "version": "3.9.13"
  },
  "toc": {
   "base_numbering": 1,
   "nav_menu": {},
   "number_sections": true,
   "sideBar": true,
   "skip_h1_title": false,
   "title_cell": "Table of Contents",
   "title_sidebar": "Contents",
   "toc_cell": false,
   "toc_position": {},
   "toc_section_display": true,
   "toc_window_display": false
  }
 },
 "nbformat": 4,
 "nbformat_minor": 5
}
